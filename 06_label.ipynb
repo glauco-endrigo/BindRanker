{
 "cells": [
  {
   "cell_type": "code",
   "execution_count": 28,
   "id": "2979e6d0",
   "metadata": {},
   "outputs": [],
   "source": [
    "import pandas as pd\n",
    "import os\n",
    "import torch\n",
    "import json"
   ]
  },
  {
   "cell_type": "code",
   "execution_count": 29,
   "id": "e8f88bc3-295f-45e2-9e6d-9bcb76181667",
   "metadata": {},
   "outputs": [],
   "source": [
    "%run Config.ipynb"
   ]
  },
  {
   "cell_type": "code",
   "execution_count": 30,
   "id": "8f9c8dc5-b80d-4914-aaca-b1e7e5ad486d",
   "metadata": {},
   "outputs": [],
   "source": [
    "config = Config()"
   ]
  },
  {
   "cell_type": "markdown",
   "id": "008cc102-6cd2-47ae-b4ff-4d681b846a1c",
   "metadata": {},
   "source": [
    "#### Rmsd's "
   ]
  },
  {
   "cell_type": "code",
   "execution_count": 31,
   "id": "f50b2c24",
   "metadata": {},
   "outputs": [],
   "source": [
    "rmsd = pd.read_csv(\"Data/rmsd.csv\")"
   ]
  },
  {
   "cell_type": "code",
   "execution_count": 32,
   "id": "5d64dc71-cde4-4c52-9b97-0eae8f173206",
   "metadata": {},
   "outputs": [
    {
     "data": {
      "text/plain": [
       "285"
      ]
     },
     "execution_count": 32,
     "metadata": {},
     "output_type": "execute_result"
    }
   ],
   "source": [
    "rmsd['pdb'].nunique()"
   ]
  },
  {
   "cell_type": "markdown",
   "id": "2fc27bee-eefb-4e4c-8dcd-29f39c843c1f",
   "metadata": {},
   "source": [
    "Obs: There is one pdb missing!"
   ]
  },
  {
   "cell_type": "code",
   "execution_count": 33,
   "id": "41dc65bd-912d-4ce6-a922-a8bbb3b852b2",
   "metadata": {},
   "outputs": [
    {
     "data": {
      "text/plain": [
       "1     5\n",
       "2     5\n",
       "3     5\n",
       "4     5\n",
       "5     5\n",
       "6     5\n",
       "7     5\n",
       "8     5\n",
       "9     5\n",
       "10    5\n",
       "Name: poserank, dtype: int64"
      ]
     },
     "execution_count": 33,
     "metadata": {},
     "output_type": "execute_result"
    }
   ],
   "source": [
    "rmsd[rmsd['pdb'] == \"4kz6\"]['poserank'].value_counts()"
   ]
  },
  {
   "cell_type": "markdown",
   "id": "0f7904d7",
   "metadata": {},
   "source": [
    "#### H bond counts"
   ]
  },
  {
   "cell_type": "code",
   "execution_count": 35,
   "id": "737b203b",
   "metadata": {},
   "outputs": [],
   "source": [
    "#H_bond_counts_docking = pd.read_csv(\"H_bond_counts_docking.csv\")[['pdb_docking','poserank_docking','Ligand_H_received_docking','Ligand_H_donation_docking']]"
   ]
  },
  {
   "cell_type": "code",
   "execution_count": 36,
   "id": "e5354fc6-6b8d-4c28-a0dc-f609fc197e78",
   "metadata": {},
   "outputs": [],
   "source": [
    "#H_bond_counts_exp = pd.read_csv(\"H_bond_counts_exp.csv\")[['pdb_exp','Ligand_H_received_exp','Ligand_H_donation_exp']]\n",
    "#\n",
    "#H_bond_counts = pd.merge(H_bond_counts_docking, H_bond_counts_exp, left_on = [\"pdb_docking\"], right_on = [\"pdb_exp\"], how = \"inner\")\n",
    "#\n",
    "#H_bond_counts[\"Ligand_H_received_diff\"] = abs(H_bond_counts['Ligand_H_received_exp'] - H_bond_counts['Ligand_H_received_docking'])\n",
    "#H_bond_counts[\"Ligand_H_donation_diff\"] = abs(H_bond_counts['Ligand_H_donation_exp'] - H_bond_counts['Ligand_H_donation_docking'])"
   ]
  },
  {
   "cell_type": "code",
   "execution_count": 122,
   "id": "af961a44",
   "metadata": {},
   "outputs": [],
   "source": [
    "#df = pd.merge(rmsd, H_bond_counts[['pdb_docking','poserank_docking','Ligand_H_received_diff','Ligand_H_donation_diff']], left_on = [\"pdb\",\"poserank\"], right_on = [\"pdb_docking\",\"poserank_docking\"], how = \"inner\").drop(columns = ['pdb_docking','poserank_docking'])"
   ]
  },
  {
   "cell_type": "code",
   "execution_count": 123,
   "id": "50bab1dd",
   "metadata": {},
   "outputs": [],
   "source": [
    "#df.sort_values(['pdb','poserank']).head()"
   ]
  },
  {
   "cell_type": "markdown",
   "id": "388dadc6-b503-4755-ad84-003586c084b5",
   "metadata": {},
   "source": [
    "Complexes are labeled as correct if they fall within 2.0 Angstroms heavy-atom RMSD of the reference ligand structure, a standard cutoff in the field (see e.g. Ref. 44). Correct poses are labeled “positive,” and those that fall outside the cutoff are labeled as “negative.”"
   ]
  },
  {
   "cell_type": "markdown",
   "id": "eb26020b-0d1a-4450-8916-d96774ca939a",
   "metadata": {},
   "source": [
    "#### Creating label "
   ]
  },
  {
   "cell_type": "code",
   "execution_count": 37,
   "id": "3aaf5aeb-76d0-48cb-9024-226f4473819b",
   "metadata": {},
   "outputs": [],
   "source": [
    "label = rmsd[[\"pdb\",\"poserank\", \"RMSD\"]]"
   ]
  },
  {
   "cell_type": "code",
   "execution_count": 38,
   "id": "f0e610ed-c628-4b22-840f-34f7ff41798d",
   "metadata": {},
   "outputs": [
    {
     "data": {
      "text/html": [
       "<div>\n",
       "<style scoped>\n",
       "    .dataframe tbody tr th:only-of-type {\n",
       "        vertical-align: middle;\n",
       "    }\n",
       "\n",
       "    .dataframe tbody tr th {\n",
       "        vertical-align: top;\n",
       "    }\n",
       "\n",
       "    .dataframe thead th {\n",
       "        text-align: right;\n",
       "    }\n",
       "</style>\n",
       "<table border=\"1\" class=\"dataframe\">\n",
       "  <thead>\n",
       "    <tr style=\"text-align: right;\">\n",
       "      <th></th>\n",
       "      <th>pdb</th>\n",
       "      <th>poserank</th>\n",
       "      <th>RMSD</th>\n",
       "    </tr>\n",
       "  </thead>\n",
       "  <tbody>\n",
       "    <tr>\n",
       "      <th>0</th>\n",
       "      <td>4eor</td>\n",
       "      <td>1</td>\n",
       "      <td>2.51</td>\n",
       "    </tr>\n",
       "    <tr>\n",
       "      <th>1</th>\n",
       "      <td>4eor</td>\n",
       "      <td>2</td>\n",
       "      <td>0.83</td>\n",
       "    </tr>\n",
       "    <tr>\n",
       "      <th>2</th>\n",
       "      <td>4eor</td>\n",
       "      <td>3</td>\n",
       "      <td>2.88</td>\n",
       "    </tr>\n",
       "    <tr>\n",
       "      <th>3</th>\n",
       "      <td>4eor</td>\n",
       "      <td>4</td>\n",
       "      <td>2.88</td>\n",
       "    </tr>\n",
       "    <tr>\n",
       "      <th>4</th>\n",
       "      <td>4eor</td>\n",
       "      <td>5</td>\n",
       "      <td>3.80</td>\n",
       "    </tr>\n",
       "  </tbody>\n",
       "</table>\n",
       "</div>"
      ],
      "text/plain": [
       "    pdb  poserank  RMSD\n",
       "0  4eor         1  2.51\n",
       "1  4eor         2  0.83\n",
       "2  4eor         3  2.88\n",
       "3  4eor         4  2.88\n",
       "4  4eor         5  3.80"
      ]
     },
     "execution_count": 38,
     "metadata": {},
     "output_type": "execute_result"
    }
   ],
   "source": [
    "label.head()"
   ]
  },
  {
   "cell_type": "code",
   "execution_count": 39,
   "id": "6faf91dd-10c5-44f7-8cc5-94eee3b090b3",
   "metadata": {},
   "outputs": [
    {
     "data": {
      "text/plain": [
       "285"
      ]
     },
     "execution_count": 39,
     "metadata": {},
     "output_type": "execute_result"
    }
   ],
   "source": [
    "label[\"pdb\"].nunique()"
   ]
  },
  {
   "cell_type": "code",
   "execution_count": 40,
   "id": "b81b5aa1-1eb8-49ed-a179-19764ba762b2",
   "metadata": {},
   "outputs": [
    {
     "data": {
      "text/plain": [
       "<AxesSubplot:>"
      ]
     },
     "execution_count": 40,
     "metadata": {},
     "output_type": "execute_result"
    },
    {
     "data": {
      "image/png": "[encoded data removed]",
      "text/plain": [
       "<Figure size 640x480 with 1 Axes>"
      ]
     },
     "metadata": {},
     "output_type": "display_data"
    }
   ],
   "source": [
    "label['RMSD'].hist()"
   ]
  },
  {
   "cell_type": "code",
   "execution_count": 41,
   "id": "291c1841-5f2b-476c-a71b-825b06ddcf41",
   "metadata": {},
   "outputs": [
    {
     "data": {
      "text/plain": [
       "7236     8.82\n",
       "9865     8.82\n",
       "4607     8.82\n",
       "1978     8.82\n",
       "12494    8.82\n",
       "Name: RMSD, dtype: float64"
      ]
     },
     "execution_count": 41,
     "metadata": {},
     "output_type": "execute_result"
    }
   ],
   "source": [
    "label['RMSD'].sort_values(ascending = False).head()"
   ]
  },
  {
   "cell_type": "code",
   "execution_count": 42,
   "id": "af83a017-ab5c-402b-94d9-5c855fd1be2f",
   "metadata": {},
   "outputs": [],
   "source": [
    "if config.label_args['class_def'] == config.label_args['class_def']:\n",
    "    label[\"label\"] = label[\"RMSD\"].apply(lambda x: 1 if x <= 2 else 0)"
   ]
  },
  {
   "cell_type": "code",
   "execution_count": 43,
   "id": "febfd02d-e68f-45b2-a62b-bb9f6c054eca",
   "metadata": {},
   "outputs": [
    {
     "data": {
      "text/html": [
       "<div>\n",
       "<style scoped>\n",
       "    .dataframe tbody tr th:only-of-type {\n",
       "        vertical-align: middle;\n",
       "    }\n",
       "\n",
       "    .dataframe tbody tr th {\n",
       "        vertical-align: top;\n",
       "    }\n",
       "\n",
       "    .dataframe thead th {\n",
       "        text-align: right;\n",
       "    }\n",
       "</style>\n",
       "<table border=\"1\" class=\"dataframe\">\n",
       "  <thead>\n",
       "    <tr style=\"text-align: right;\">\n",
       "      <th></th>\n",
       "      <th>pdb</th>\n",
       "      <th>poserank</th>\n",
       "      <th>RMSD</th>\n",
       "      <th>label</th>\n",
       "    </tr>\n",
       "  </thead>\n",
       "  <tbody>\n",
       "    <tr>\n",
       "      <th>0</th>\n",
       "      <td>4eor</td>\n",
       "      <td>1</td>\n",
       "      <td>2.51</td>\n",
       "      <td>0</td>\n",
       "    </tr>\n",
       "    <tr>\n",
       "      <th>1</th>\n",
       "      <td>4eor</td>\n",
       "      <td>2</td>\n",
       "      <td>0.83</td>\n",
       "      <td>1</td>\n",
       "    </tr>\n",
       "    <tr>\n",
       "      <th>2</th>\n",
       "      <td>4eor</td>\n",
       "      <td>3</td>\n",
       "      <td>2.88</td>\n",
       "      <td>0</td>\n",
       "    </tr>\n",
       "    <tr>\n",
       "      <th>3</th>\n",
       "      <td>4eor</td>\n",
       "      <td>4</td>\n",
       "      <td>2.88</td>\n",
       "      <td>0</td>\n",
       "    </tr>\n",
       "    <tr>\n",
       "      <th>4</th>\n",
       "      <td>4eor</td>\n",
       "      <td>5</td>\n",
       "      <td>3.80</td>\n",
       "      <td>0</td>\n",
       "    </tr>\n",
       "  </tbody>\n",
       "</table>\n",
       "</div>"
      ],
      "text/plain": [
       "    pdb  poserank  RMSD  label\n",
       "0  4eor         1  2.51      0\n",
       "1  4eor         2  0.83      1\n",
       "2  4eor         3  2.88      0\n",
       "3  4eor         4  2.88      0\n",
       "4  4eor         5  3.80      0"
      ]
     },
     "execution_count": 43,
     "metadata": {},
     "output_type": "execute_result"
    }
   ],
   "source": [
    "label.head()"
   ]
  },
  {
   "cell_type": "code",
   "execution_count": 44,
   "id": "91824e6e-8397-40a6-9c0f-0471f0979931",
   "metadata": {},
   "outputs": [
    {
     "data": {
      "text/plain": [
       "0    8570\n",
       "1    4575\n",
       "Name: label, dtype: int64"
      ]
     },
     "execution_count": 44,
     "metadata": {},
     "output_type": "execute_result"
    }
   ],
   "source": [
    "label['label'].value_counts()"
   ]
  },
  {
   "cell_type": "code",
   "execution_count": 45,
   "id": "741c5a60-4b27-43b2-88b4-58186eebb30a",
   "metadata": {},
   "outputs": [
    {
     "data": {
      "text/plain": [
       "13145"
      ]
     },
     "execution_count": 45,
     "metadata": {},
     "output_type": "execute_result"
    }
   ],
   "source": [
    "len(label['label'])"
   ]
  },
  {
   "cell_type": "code",
   "execution_count": 46,
   "id": "176f0c1b-dbca-4eef-8528-5f54b9a5cb9f",
   "metadata": {},
   "outputs": [
    {
     "data": {
      "text/plain": [
       "285"
      ]
     },
     "execution_count": 46,
     "metadata": {},
     "output_type": "execute_result"
    }
   ],
   "source": [
    "label['pdb'].nunique()"
   ]
  },
  {
   "cell_type": "code",
   "execution_count": 47,
   "id": "050b0700-7c40-4054-9240-31fae3a5014e",
   "metadata": {},
   "outputs": [],
   "source": [
    "import pandas as pd"
   ]
  },
  {
   "cell_type": "code",
   "execution_count": 48,
   "id": "5bd7dd59-0419-4da1-8cb4-4b1e00103eff",
   "metadata": {},
   "outputs": [],
   "source": [
    "score = pd.read_json(\"Data/score.json\")"
   ]
  },
  {
   "cell_type": "code",
   "execution_count": 49,
   "id": "099e7fd8-5673-4255-a358-7ac0c87aeb10",
   "metadata": {},
   "outputs": [
    {
     "data": {
      "text/plain": [
       "1     82.978723\n",
       "2     19.148936\n",
       "3      7.446809\n",
       "4      2.127660\n",
       "5     20.212766\n",
       "6      5.319149\n",
       "7      2.127660\n",
       "8      0.000000\n",
       "9      0.000000\n",
       "10     0.000000\n",
       "Name: 4mme, dtype: float64"
      ]
     },
     "execution_count": 49,
     "metadata": {},
     "output_type": "execute_result"
    }
   ],
   "source": [
    "score['4mme']"
   ]
  },
  {
   "cell_type": "code",
   "execution_count": 50,
   "id": "48cd5dc4-22f6-4d12-b92b-bbaefaf62a0d",
   "metadata": {},
   "outputs": [
    {
     "data": {
      "text/plain": [
       "285"
      ]
     },
     "execution_count": 50,
     "metadata": {},
     "output_type": "execute_result"
    }
   ],
   "source": [
    "len(score.columns)"
   ]
  },
  {
   "cell_type": "markdown",
   "id": "852f0714-fe5b-42e1-b0a0-968d2a2db917",
   "metadata": {},
   "source": [
    "#### Creating dict "
   ]
  },
  {
   "cell_type": "code",
   "execution_count": 51,
   "id": "26d41aff-4347-4a61-8f09-4f792f561032",
   "metadata": {},
   "outputs": [],
   "source": [
    "# Create the nested dictionary\n",
    "result_dict = {}\n",
    "for index, row in label.iterrows():\n",
    "    pdb = row['pdb']\n",
    "    poserank = row['poserank']\n",
    "    label = row['label']\n",
    "    \n",
    "    if pdb not in result_dict:\n",
    "        result_dict[pdb] = {}\n",
    "    \n",
    "    result_dict[pdb][poserank] = label"
   ]
  },
  {
   "cell_type": "code",
   "execution_count": 52,
   "id": "d7acd202-1093-48f3-970f-0a6846b63b8f",
   "metadata": {},
   "outputs": [],
   "source": [
    "# Assuming result_dict is your dictionary\n",
    "with open(f\"{config.data}/label.json\", \"w\") as json_file:\n",
    "    json.dump(result_dict, json_file)"
   ]
  },
  {
   "cell_type": "code",
   "execution_count": 53,
   "id": "7acd2ee4-66a2-49e7-b9d8-794123ce4e3a",
   "metadata": {},
   "outputs": [],
   "source": [
    "# Assuming result_dict is your dictionary\n",
    "with open(f\"{config.data}/label.json\", \"r\") as json_file:\n",
    "    result = json_file.read()"
   ]
  },
  {
   "cell_type": "code",
   "execution_count": 54,
   "id": "a83ca4ca-5047-4c45-9ee1-8eb4850a6a80",
   "metadata": {},
   "outputs": [],
   "source": [
    "result = pd.read_json(f\"{config.data}/label.json\")"
   ]
  },
  {
   "cell_type": "code",
   "execution_count": 56,
   "id": "80feb459-0ba3-466a-82f5-28db01f8282e",
   "metadata": {},
   "outputs": [
    {
     "data": {
      "text/html": [
       "<div>\n",
       "<style scoped>\n",
       "    .dataframe tbody tr th:only-of-type {\n",
       "        vertical-align: middle;\n",
       "    }\n",
       "\n",
       "    .dataframe tbody tr th {\n",
       "        vertical-align: top;\n",
       "    }\n",
       "\n",
       "    .dataframe thead th {\n",
       "        text-align: right;\n",
       "    }\n",
       "</style>\n",
       "<table border=\"1\" class=\"dataframe\">\n",
       "  <thead>\n",
       "    <tr style=\"text-align: right;\">\n",
       "      <th></th>\n",
       "      <th>4eor</th>\n",
       "      <th>2qbq</th>\n",
       "      <th>3g2n</th>\n",
       "      <th>1ydr</th>\n",
       "      <th>3uev</th>\n",
       "      <th>2xnb</th>\n",
       "      <th>3qqs</th>\n",
       "      <th>1w4o</th>\n",
       "      <th>4jxs</th>\n",
       "      <th>3zsx</th>\n",
       "      <th>...</th>\n",
       "      <th>4ddh</th>\n",
       "      <th>3oe4</th>\n",
       "      <th>3g31</th>\n",
       "      <th>4jsz</th>\n",
       "      <th>3udh</th>\n",
       "      <th>4w9l</th>\n",
       "      <th>2cbv</th>\n",
       "      <th>4j28</th>\n",
       "      <th>2j78</th>\n",
       "      <th>3bgz</th>\n",
       "    </tr>\n",
       "  </thead>\n",
       "  <tbody>\n",
       "    <tr>\n",
       "      <th>1</th>\n",
       "      <td>0.0</td>\n",
       "      <td>1</td>\n",
       "      <td>1</td>\n",
       "      <td>1</td>\n",
       "      <td>1</td>\n",
       "      <td>1</td>\n",
       "      <td>0</td>\n",
       "      <td>1</td>\n",
       "      <td>1</td>\n",
       "      <td>0</td>\n",
       "      <td>...</td>\n",
       "      <td>1.0</td>\n",
       "      <td>1</td>\n",
       "      <td>0</td>\n",
       "      <td>0</td>\n",
       "      <td>1</td>\n",
       "      <td>1</td>\n",
       "      <td>1.0</td>\n",
       "      <td>1</td>\n",
       "      <td>1</td>\n",
       "      <td>1.0</td>\n",
       "    </tr>\n",
       "    <tr>\n",
       "      <th>2</th>\n",
       "      <td>1.0</td>\n",
       "      <td>1</td>\n",
       "      <td>1</td>\n",
       "      <td>0</td>\n",
       "      <td>1</td>\n",
       "      <td>0</td>\n",
       "      <td>1</td>\n",
       "      <td>1</td>\n",
       "      <td>1</td>\n",
       "      <td>0</td>\n",
       "      <td>...</td>\n",
       "      <td>0.0</td>\n",
       "      <td>1</td>\n",
       "      <td>0</td>\n",
       "      <td>0</td>\n",
       "      <td>0</td>\n",
       "      <td>1</td>\n",
       "      <td>1.0</td>\n",
       "      <td>1</td>\n",
       "      <td>0</td>\n",
       "      <td>0.0</td>\n",
       "    </tr>\n",
       "    <tr>\n",
       "      <th>3</th>\n",
       "      <td>0.0</td>\n",
       "      <td>0</td>\n",
       "      <td>1</td>\n",
       "      <td>1</td>\n",
       "      <td>1</td>\n",
       "      <td>1</td>\n",
       "      <td>0</td>\n",
       "      <td>0</td>\n",
       "      <td>1</td>\n",
       "      <td>1</td>\n",
       "      <td>...</td>\n",
       "      <td>0.0</td>\n",
       "      <td>0</td>\n",
       "      <td>0</td>\n",
       "      <td>0</td>\n",
       "      <td>0</td>\n",
       "      <td>1</td>\n",
       "      <td>0.0</td>\n",
       "      <td>1</td>\n",
       "      <td>0</td>\n",
       "      <td>0.0</td>\n",
       "    </tr>\n",
       "    <tr>\n",
       "      <th>4</th>\n",
       "      <td>0.0</td>\n",
       "      <td>1</td>\n",
       "      <td>1</td>\n",
       "      <td>0</td>\n",
       "      <td>0</td>\n",
       "      <td>0</td>\n",
       "      <td>0</td>\n",
       "      <td>1</td>\n",
       "      <td>1</td>\n",
       "      <td>0</td>\n",
       "      <td>...</td>\n",
       "      <td>0.0</td>\n",
       "      <td>0</td>\n",
       "      <td>0</td>\n",
       "      <td>0</td>\n",
       "      <td>0</td>\n",
       "      <td>0</td>\n",
       "      <td>0.0</td>\n",
       "      <td>1</td>\n",
       "      <td>0</td>\n",
       "      <td>0.0</td>\n",
       "    </tr>\n",
       "    <tr>\n",
       "      <th>5</th>\n",
       "      <td>0.0</td>\n",
       "      <td>0</td>\n",
       "      <td>0</td>\n",
       "      <td>0</td>\n",
       "      <td>1</td>\n",
       "      <td>0</td>\n",
       "      <td>0</td>\n",
       "      <td>1</td>\n",
       "      <td>0</td>\n",
       "      <td>0</td>\n",
       "      <td>...</td>\n",
       "      <td>0.0</td>\n",
       "      <td>0</td>\n",
       "      <td>0</td>\n",
       "      <td>0</td>\n",
       "      <td>0</td>\n",
       "      <td>0</td>\n",
       "      <td>0.0</td>\n",
       "      <td>1</td>\n",
       "      <td>0</td>\n",
       "      <td>0.0</td>\n",
       "    </tr>\n",
       "    <tr>\n",
       "      <th>6</th>\n",
       "      <td>0.0</td>\n",
       "      <td>0</td>\n",
       "      <td>0</td>\n",
       "      <td>1</td>\n",
       "      <td>1</td>\n",
       "      <td>1</td>\n",
       "      <td>0</td>\n",
       "      <td>0</td>\n",
       "      <td>1</td>\n",
       "      <td>0</td>\n",
       "      <td>...</td>\n",
       "      <td>0.0</td>\n",
       "      <td>0</td>\n",
       "      <td>1</td>\n",
       "      <td>1</td>\n",
       "      <td>1</td>\n",
       "      <td>0</td>\n",
       "      <td>1.0</td>\n",
       "      <td>1</td>\n",
       "      <td>0</td>\n",
       "      <td>0.0</td>\n",
       "    </tr>\n",
       "    <tr>\n",
       "      <th>7</th>\n",
       "      <td>0.0</td>\n",
       "      <td>0</td>\n",
       "      <td>0</td>\n",
       "      <td>0</td>\n",
       "      <td>1</td>\n",
       "      <td>0</td>\n",
       "      <td>0</td>\n",
       "      <td>0</td>\n",
       "      <td>1</td>\n",
       "      <td>0</td>\n",
       "      <td>...</td>\n",
       "      <td>0.0</td>\n",
       "      <td>0</td>\n",
       "      <td>0</td>\n",
       "      <td>1</td>\n",
       "      <td>0</td>\n",
       "      <td>0</td>\n",
       "      <td>0.0</td>\n",
       "      <td>1</td>\n",
       "      <td>0</td>\n",
       "      <td>0.0</td>\n",
       "    </tr>\n",
       "    <tr>\n",
       "      <th>8</th>\n",
       "      <td>0.0</td>\n",
       "      <td>0</td>\n",
       "      <td>1</td>\n",
       "      <td>0</td>\n",
       "      <td>0</td>\n",
       "      <td>0</td>\n",
       "      <td>0</td>\n",
       "      <td>0</td>\n",
       "      <td>1</td>\n",
       "      <td>0</td>\n",
       "      <td>...</td>\n",
       "      <td>1.0</td>\n",
       "      <td>0</td>\n",
       "      <td>0</td>\n",
       "      <td>1</td>\n",
       "      <td>0</td>\n",
       "      <td>0</td>\n",
       "      <td>0.0</td>\n",
       "      <td>0</td>\n",
       "      <td>0</td>\n",
       "      <td>0.0</td>\n",
       "    </tr>\n",
       "    <tr>\n",
       "      <th>9</th>\n",
       "      <td>0.0</td>\n",
       "      <td>0</td>\n",
       "      <td>0</td>\n",
       "      <td>1</td>\n",
       "      <td>0</td>\n",
       "      <td>0</td>\n",
       "      <td>0</td>\n",
       "      <td>0</td>\n",
       "      <td>1</td>\n",
       "      <td>1</td>\n",
       "      <td>...</td>\n",
       "      <td>0.0</td>\n",
       "      <td>0</td>\n",
       "      <td>0</td>\n",
       "      <td>1</td>\n",
       "      <td>1</td>\n",
       "      <td>0</td>\n",
       "      <td>0.0</td>\n",
       "      <td>1</td>\n",
       "      <td>0</td>\n",
       "      <td>1.0</td>\n",
       "    </tr>\n",
       "    <tr>\n",
       "      <th>10</th>\n",
       "      <td>NaN</td>\n",
       "      <td>1</td>\n",
       "      <td>0</td>\n",
       "      <td>0</td>\n",
       "      <td>0</td>\n",
       "      <td>0</td>\n",
       "      <td>0</td>\n",
       "      <td>0</td>\n",
       "      <td>0</td>\n",
       "      <td>0</td>\n",
       "      <td>...</td>\n",
       "      <td>NaN</td>\n",
       "      <td>0</td>\n",
       "      <td>0</td>\n",
       "      <td>1</td>\n",
       "      <td>0</td>\n",
       "      <td>0</td>\n",
       "      <td>NaN</td>\n",
       "      <td>0</td>\n",
       "      <td>0</td>\n",
       "      <td>NaN</td>\n",
       "    </tr>\n",
       "  </tbody>\n",
       "</table>\n",
       "<p>10 rows × 285 columns</p>\n",
       "</div>"
      ],
      "text/plain": [
       "    4eor  2qbq  3g2n  1ydr  3uev  2xnb  3qqs  1w4o  4jxs  3zsx  ...  4ddh  \\\n",
       "1    0.0     1     1     1     1     1     0     1     1     0  ...   1.0   \n",
       "2    1.0     1     1     0     1     0     1     1     1     0  ...   0.0   \n",
       "3    0.0     0     1     1     1     1     0     0     1     1  ...   0.0   \n",
       "4    0.0     1     1     0     0     0     0     1     1     0  ...   0.0   \n",
       "5    0.0     0     0     0     1     0     0     1     0     0  ...   0.0   \n",
       "6    0.0     0     0     1     1     1     0     0     1     0  ...   0.0   \n",
       "7    0.0     0     0     0     1     0     0     0     1     0  ...   0.0   \n",
       "8    0.0     0     1     0     0     0     0     0     1     0  ...   1.0   \n",
       "9    0.0     0     0     1     0     0     0     0     1     1  ...   0.0   \n",
       "10   NaN     1     0     0     0     0     0     0     0     0  ...   NaN   \n",
       "\n",
       "    3oe4  3g31  4jsz  3udh  4w9l  2cbv  4j28  2j78  3bgz  \n",
       "1      1     0     0     1     1   1.0     1     1   1.0  \n",
       "2      1     0     0     0     1   1.0     1     0   0.0  \n",
       "3      0     0     0     0     1   0.0     1     0   0.0  \n",
       "4      0     0     0     0     0   0.0     1     0   0.0  \n",
       "5      0     0     0     0     0   0.0     1     0   0.0  \n",
       "6      0     1     1     1     0   1.0     1     0   0.0  \n",
       "7      0     0     1     0     0   0.0     1     0   0.0  \n",
       "8      0     0     1     0     0   0.0     0     0   0.0  \n",
       "9      0     0     1     1     0   0.0     1     0   1.0  \n",
       "10     0     0     1     0     0   NaN     0     0   NaN  \n",
       "\n",
       "[10 rows x 285 columns]"
      ]
     },
     "execution_count": 56,
     "metadata": {},
     "output_type": "execute_result"
    }
   ],
   "source": [
    "result"
   ]
  },
  {
   "cell_type": "code",
   "execution_count": null,
   "id": "eae0ee31-5cf1-47a9-b843-2897c496c3a0",
   "metadata": {},
   "outputs": [],
   "source": []
  },
  {
   "cell_type": "code",
   "execution_count": null,
   "id": "bfbb7a0d-6b10-4068-9a13-91b120761a6f",
   "metadata": {},
   "outputs": [],
   "source": []
  }
 ],
 "metadata": {
  "kernelspec": {
   "display_name": "master_37",
   "language": "python",
   "name": "master_37"
  },
  "language_info": {
   "codemirror_mode": {
    "name": "ipython",
    "version": 3
   },
   "file_extension": ".py",
   "mimetype": "text/x-python",
   "name": "python",
   "nbconvert_exporter": "python",
   "pygments_lexer": "ipython3",
   "version": "3.7.16"
  }
 },
 "nbformat": 4,
 "nbformat_minor": 5
}
