{
 "cells": [
  {
   "cell_type": "code",
   "execution_count": 41,
   "id": "2979e6d0",
   "metadata": {},
   "outputs": [],
   "source": [
    "import pandas as pd\n",
    "import os\n",
    "import torch\n",
    "import json\n",
    "import numpy as np"
   ]
  },
  {
   "cell_type": "code",
   "execution_count": 42,
   "id": "e8f88bc3-295f-45e2-9e6d-9bcb76181667",
   "metadata": {},
   "outputs": [],
   "source": [
    "%run ../Config.ipynb"
   ]
  },
  {
   "cell_type": "code",
   "execution_count": 43,
   "id": "8f9c8dc5-b80d-4914-aaca-b1e7e5ad486d",
   "metadata": {},
   "outputs": [],
   "source": [
    "config = Config()"
   ]
  },
  {
   "cell_type": "markdown",
   "id": "008cc102-6cd2-47ae-b4ff-4d681b846a1c",
   "metadata": {},
   "source": [
    "#### Rmsd's "
   ]
  },
  {
   "cell_type": "code",
   "execution_count": 44,
   "id": "bcd636aa-87e7-49da-998c-65b140036a52",
   "metadata": {},
   "outputs": [],
   "source": [
    "#file_name_rmsd = 'rmsd'\n",
    "file_name_rmsd = \"rmsd_refined_set\""
   ]
  },
  {
   "cell_type": "code",
   "execution_count": 45,
   "id": "f50b2c24",
   "metadata": {},
   "outputs": [
    {
     "data": {
      "text/html": [
       "<div>\n",
       "<style scoped>\n",
       "    .dataframe tbody tr th:only-of-type {\n",
       "        vertical-align: middle;\n",
       "    }\n",
       "\n",
       "    .dataframe tbody tr th {\n",
       "        vertical-align: top;\n",
       "    }\n",
       "\n",
       "    .dataframe thead th {\n",
       "        text-align: right;\n",
       "    }\n",
       "</style>\n",
       "<table border=\"1\" class=\"dataframe\">\n",
       "  <thead>\n",
       "    <tr style=\"text-align: right;\">\n",
       "      <th></th>\n",
       "      <th>poserank_count</th>\n",
       "      <th>unique_pdb_count</th>\n",
       "    </tr>\n",
       "  </thead>\n",
       "  <tbody>\n",
       "    <tr>\n",
       "      <th>107</th>\n",
       "      <td>1</td>\n",
       "      <td>75</td>\n",
       "    </tr>\n",
       "    <tr>\n",
       "      <th>95</th>\n",
       "      <td>2</td>\n",
       "      <td>83</td>\n",
       "    </tr>\n",
       "    <tr>\n",
       "      <th>156</th>\n",
       "      <td>3</td>\n",
       "      <td>60</td>\n",
       "    </tr>\n",
       "    <tr>\n",
       "      <th>7</th>\n",
       "      <td>4</td>\n",
       "      <td>50</td>\n",
       "    </tr>\n",
       "    <tr>\n",
       "      <th>33</th>\n",
       "      <td>5</td>\n",
       "      <td>60</td>\n",
       "    </tr>\n",
       "    <tr>\n",
       "      <th>67</th>\n",
       "      <td>6</td>\n",
       "      <td>61</td>\n",
       "    </tr>\n",
       "    <tr>\n",
       "      <th>212</th>\n",
       "      <td>7</td>\n",
       "      <td>70</td>\n",
       "    </tr>\n",
       "    <tr>\n",
       "      <th>1</th>\n",
       "      <td>8</td>\n",
       "      <td>91</td>\n",
       "    </tr>\n",
       "    <tr>\n",
       "      <th>10</th>\n",
       "      <td>9</td>\n",
       "      <td>402</td>\n",
       "    </tr>\n",
       "    <tr>\n",
       "      <th>0</th>\n",
       "      <td>10</td>\n",
       "      <td>2988</td>\n",
       "    </tr>\n",
       "  </tbody>\n",
       "</table>\n",
       "</div>"
      ],
      "text/plain": [
       "     poserank_count  unique_pdb_count\n",
       "107               1                75\n",
       "95                2                83\n",
       "156               3                60\n",
       "7                 4                50\n",
       "33                5                60\n",
       "67                6                61\n",
       "212               7                70\n",
       "1                 8                91\n",
       "10                9               402\n",
       "0                10              2988"
      ]
     },
     "execution_count": 45,
     "metadata": {},
     "output_type": "execute_result"
    }
   ],
   "source": [
    "rmsd = pd.read_csv(f\"{config.data}/{file_name_rmsd}.csv\").sort_values(['pdb','poserank','RMSD']).drop_duplicates(['pdb','poserank'], keep = 'first')\n",
    "\n",
    "sup = rmsd.groupby('pdb')[['poserank']].count().reset_index().rename(columns = {\"poserank\":\"poserank_count\"})\n",
    "sup['unique_pdb_count'] = sup.groupby('poserank_count')['pdb'].transform('nunique')\n",
    "sup.drop(columns = ['pdb']).drop_duplicates().sort_values('poserank_count')"
   ]
  },
  {
   "cell_type": "code",
   "execution_count": 46,
   "id": "5d64dc71-cde4-4c52-9b97-0eae8f173206",
   "metadata": {},
   "outputs": [
    {
     "data": {
      "text/plain": [
       "3940"
      ]
     },
     "execution_count": 46,
     "metadata": {},
     "output_type": "execute_result"
    }
   ],
   "source": [
    "rmsd['pdb'].nunique()"
   ]
  },
  {
   "cell_type": "code",
   "execution_count": 47,
   "id": "3d12436f-8800-4c71-b5be-acdb14b31ee4",
   "metadata": {},
   "outputs": [
    {
     "data": {
      "text/html": [
       "<div>\n",
       "<style scoped>\n",
       "    .dataframe tbody tr th:only-of-type {\n",
       "        vertical-align: middle;\n",
       "    }\n",
       "\n",
       "    .dataframe tbody tr th {\n",
       "        vertical-align: top;\n",
       "    }\n",
       "\n",
       "    .dataframe thead th {\n",
       "        text-align: right;\n",
       "    }\n",
       "</style>\n",
       "<table border=\"1\" class=\"dataframe\">\n",
       "  <thead>\n",
       "    <tr style=\"text-align: right;\">\n",
       "      <th></th>\n",
       "      <th>poserank_count</th>\n",
       "      <th>unique_pdb_count</th>\n",
       "    </tr>\n",
       "  </thead>\n",
       "  <tbody>\n",
       "    <tr>\n",
       "      <th>107</th>\n",
       "      <td>1</td>\n",
       "      <td>75</td>\n",
       "    </tr>\n",
       "    <tr>\n",
       "      <th>95</th>\n",
       "      <td>2</td>\n",
       "      <td>83</td>\n",
       "    </tr>\n",
       "    <tr>\n",
       "      <th>156</th>\n",
       "      <td>3</td>\n",
       "      <td>60</td>\n",
       "    </tr>\n",
       "    <tr>\n",
       "      <th>7</th>\n",
       "      <td>4</td>\n",
       "      <td>50</td>\n",
       "    </tr>\n",
       "    <tr>\n",
       "      <th>33</th>\n",
       "      <td>5</td>\n",
       "      <td>60</td>\n",
       "    </tr>\n",
       "    <tr>\n",
       "      <th>67</th>\n",
       "      <td>6</td>\n",
       "      <td>61</td>\n",
       "    </tr>\n",
       "    <tr>\n",
       "      <th>212</th>\n",
       "      <td>7</td>\n",
       "      <td>70</td>\n",
       "    </tr>\n",
       "    <tr>\n",
       "      <th>1</th>\n",
       "      <td>8</td>\n",
       "      <td>91</td>\n",
       "    </tr>\n",
       "    <tr>\n",
       "      <th>10</th>\n",
       "      <td>9</td>\n",
       "      <td>402</td>\n",
       "    </tr>\n",
       "    <tr>\n",
       "      <th>0</th>\n",
       "      <td>10</td>\n",
       "      <td>2988</td>\n",
       "    </tr>\n",
       "  </tbody>\n",
       "</table>\n",
       "</div>"
      ],
      "text/plain": [
       "     poserank_count  unique_pdb_count\n",
       "107               1                75\n",
       "95                2                83\n",
       "156               3                60\n",
       "7                 4                50\n",
       "33                5                60\n",
       "67                6                61\n",
       "212               7                70\n",
       "1                 8                91\n",
       "10                9               402\n",
       "0                10              2988"
      ]
     },
     "execution_count": 47,
     "metadata": {},
     "output_type": "execute_result"
    }
   ],
   "source": [
    "sup = rmsd.groupby('pdb')[['poserank']].count().reset_index().rename(columns = {\"poserank\":\"poserank_count\"})\n",
    "sup['unique_pdb_count'] = sup.groupby('poserank_count')['pdb'].transform('nunique')\n",
    "sup.drop(columns = ['pdb']).drop_duplicates().sort_values('poserank_count')"
   ]
  },
  {
   "cell_type": "code",
   "execution_count": 48,
   "id": "6047c5be-8b55-44e3-b51f-a30183fa9363",
   "metadata": {},
   "outputs": [],
   "source": [
    "import seaborn as sns"
   ]
  },
  {
   "cell_type": "code",
   "execution_count": 49,
   "id": "348df96a-fc66-4f4c-b29e-12db01d42f48",
   "metadata": {},
   "outputs": [
    {
     "data": {
      "text/plain": [
       "36003"
      ]
     },
     "execution_count": 49,
     "metadata": {},
     "output_type": "execute_result"
    }
   ],
   "source": [
    "len(rmsd)"
   ]
  },
  {
   "cell_type": "code",
   "execution_count": 50,
   "id": "aa876285-cd94-4636-bca8-8579de8c22b9",
   "metadata": {},
   "outputs": [
    {
     "data": {
      "text/plain": [
       "<AxesSubplot:xlabel='poserank'>"
      ]
     },
     "execution_count": 50,
     "metadata": {},
     "output_type": "execute_result"
    },
    {
     "data": {
      "image/png": "[encoded data removed]",
      "text/plain": [
       "<Figure size 640x480 with 1 Axes>"
      ]
     },
     "metadata": {},
     "output_type": "display_data"
    }
   ],
   "source": [
    "sns.boxplot(rmsd.pivot_table(index = 'pdb', columns = 'poserank', values = 'RMSD'))"
   ]
  },
  {
   "cell_type": "markdown",
   "id": "eb26020b-0d1a-4450-8916-d96774ca939a",
   "metadata": {},
   "source": [
    "#### Creating label "
   ]
  },
  {
   "cell_type": "code",
   "execution_count": 51,
   "id": "3aaf5aeb-76d0-48cb-9024-226f4473819b",
   "metadata": {},
   "outputs": [],
   "source": [
    "label = rmsd.copy()"
   ]
  },
  {
   "cell_type": "markdown",
   "id": "c0723785-b5ba-472c-a880-83bfb5cd0e95",
   "metadata": {},
   "source": [
    "#### Score similarity "
   ]
  },
  {
   "cell_type": "code",
   "execution_count": 52,
   "id": "5bd7dd59-0419-4da1-8cb4-4b1e00103eff",
   "metadata": {},
   "outputs": [],
   "source": [
    "score = pd.read_json(f\"{config.data}/score.json\").unstack().reset_index().rename(columns = {\"level_0\":\"pdb\", \"level_1\":\"poserank\", 0:'similarity'})"
   ]
  },
  {
   "cell_type": "code",
   "execution_count": 53,
   "id": "0ce0df9b-11be-4548-ba34-50e1adfa7e07",
   "metadata": {},
   "outputs": [
    {
     "data": {
      "text/html": [
       "<div>\n",
       "<style scoped>\n",
       "    .dataframe tbody tr th:only-of-type {\n",
       "        vertical-align: middle;\n",
       "    }\n",
       "\n",
       "    .dataframe tbody tr th {\n",
       "        vertical-align: top;\n",
       "    }\n",
       "\n",
       "    .dataframe thead th {\n",
       "        text-align: right;\n",
       "    }\n",
       "</style>\n",
       "<table border=\"1\" class=\"dataframe\">\n",
       "  <thead>\n",
       "    <tr style=\"text-align: right;\">\n",
       "      <th></th>\n",
       "      <th>pdb</th>\n",
       "      <th>poserank</th>\n",
       "      <th>similarity</th>\n",
       "    </tr>\n",
       "  </thead>\n",
       "  <tbody>\n",
       "    <tr>\n",
       "      <th>0</th>\n",
       "      <td>3oy8</td>\n",
       "      <td>1</td>\n",
       "      <td>8.641975</td>\n",
       "    </tr>\n",
       "    <tr>\n",
       "      <th>1</th>\n",
       "      <td>3oy8</td>\n",
       "      <td>2</td>\n",
       "      <td>4.938272</td>\n",
       "    </tr>\n",
       "    <tr>\n",
       "      <th>2</th>\n",
       "      <td>3oy8</td>\n",
       "      <td>3</td>\n",
       "      <td>7.407407</td>\n",
       "    </tr>\n",
       "    <tr>\n",
       "      <th>3</th>\n",
       "      <td>3oy8</td>\n",
       "      <td>4</td>\n",
       "      <td>3.703704</td>\n",
       "    </tr>\n",
       "    <tr>\n",
       "      <th>4</th>\n",
       "      <td>3oy8</td>\n",
       "      <td>5</td>\n",
       "      <td>6.172840</td>\n",
       "    </tr>\n",
       "  </tbody>\n",
       "</table>\n",
       "</div>"
      ],
      "text/plain": [
       "    pdb  poserank  similarity\n",
       "0  3oy8         1    8.641975\n",
       "1  3oy8         2    4.938272\n",
       "2  3oy8         3    7.407407\n",
       "3  3oy8         4    3.703704\n",
       "4  3oy8         5    6.172840"
      ]
     },
     "execution_count": 53,
     "metadata": {},
     "output_type": "execute_result"
    }
   ],
   "source": [
    "score.head()"
   ]
  },
  {
   "cell_type": "code",
   "execution_count": 54,
   "id": "d8cf58ca-24f4-42a7-bab7-5edca1980f2f",
   "metadata": {},
   "outputs": [
    {
     "data": {
      "text/plain": [
       "5316"
      ]
     },
     "execution_count": 54,
     "metadata": {},
     "output_type": "execute_result"
    }
   ],
   "source": [
    "score['pdb'].nunique()"
   ]
  },
  {
   "cell_type": "markdown",
   "id": "b119c87d-fa1e-40fe-a988-41f681b81905",
   "metadata": {},
   "source": [
    "#### Merge"
   ]
  },
  {
   "cell_type": "code",
   "execution_count": 55,
   "id": "eda0c77d-a7e7-4d24-be8f-fe48c27a6dd3",
   "metadata": {},
   "outputs": [],
   "source": [
    "label = pd.merge(score, label, left_on= ['pdb','poserank'], right_on = ['pdb','poserank'], how = 'outer').drop_duplicates()"
   ]
  },
  {
   "cell_type": "markdown",
   "id": "dd919a04-1214-448b-b516-7f6bfc8ee644",
   "metadata": {},
   "source": [
    "#### Conditions"
   ]
  },
  {
   "cell_type": "code",
   "execution_count": 56,
   "id": "bfaee115-fdf1-44b8-81ca-4f66807e1982",
   "metadata": {},
   "outputs": [],
   "source": [
    "# Define the conditions and corresponding scores\n",
    "conditions_rmsd = [ label['RMSD'] < 2\n",
    "              ,(label['RMSD'] >= 2) & (label['RMSD'] < 3)\n",
    "              , label['RMSD'] >= 3]"
   ]
  },
  {
   "cell_type": "code",
   "execution_count": 57,
   "id": "2897938f-a3b1-4b2d-81fe-4269a569cd0a",
   "metadata": {},
   "outputs": [],
   "source": [
    "conditions_similarity = [ label['similarity'] >=80 \n",
    "              ,(label['similarity'] >= 70) & (label['similarity'] < 80)\n",
    "              #,(label['similarity'] >= 66) & (label['similarity'] < 70)\n",
    "              , label['similarity'] < 70 ]"
   ]
  },
  {
   "cell_type": "code",
   "execution_count": 58,
   "id": "44565684-f381-46fe-bac8-866537bab09a",
   "metadata": {},
   "outputs": [],
   "source": [
    "scores_rmsd       = [10, 7, 0]\n",
    "scores_similarity = [10, 7, 0]\n",
    "\n",
    "label['rmsd_weight'] = np.select(conditions_rmsd, scores_rmsd, default=np.nan)\n",
    "label['similarity_weight'] = np.select(conditions_similarity, scores_similarity, default=np.nan)"
   ]
  },
  {
   "cell_type": "markdown",
   "id": "336abeb8-3eb7-43ca-917b-6f53599b5173",
   "metadata": {},
   "source": [
    "#### Métrica "
   ]
  },
  {
   "cell_type": "markdown",
   "id": "5fbbbb1e-6937-4d2e-a8b7-7f49490aab88",
   "metadata": {},
   "source": [
    "$$\n",
    "\\frac{{\\text{{score\\_rmsd}} \\times 0.5 + \\text{{score\\_match}} \\times 0.5}}{{20}}\n",
    "$$\n"
   ]
  },
  {
   "cell_type": "code",
   "execution_count": 59,
   "id": "6d31b5b2-1845-4b87-871a-94481e78dcb7",
   "metadata": {},
   "outputs": [],
   "source": [
    "label['weight'] = (label['rmsd_weight']*0.5 + label['similarity_weight']*0.5)/10\n",
    "label['weight_similarity'] = (label['rmsd_weight']*0.3 + label['similarity_weight']*0.7)/10\n",
    "label['weight_rmsd'] = (label['rmsd_weight']*0.7 + label['similarity_weight']*0.3)/10"
   ]
  },
  {
   "cell_type": "code",
   "execution_count": 60,
   "id": "0487ad6c-9ebc-4ecb-b3d9-3116f278ef0f",
   "metadata": {},
   "outputs": [
    {
     "data": {
      "text/plain": [
       "0.00    24031\n",
       "0.35     4690\n",
       "0.50     3784\n",
       "0.85     1364\n",
       "1.00     1138\n",
       "0.70      224\n",
       "Name: weight, dtype: int64"
      ]
     },
     "execution_count": 60,
     "metadata": {},
     "output_type": "execute_result"
    }
   ],
   "source": [
    "label['weight'].value_counts()"
   ]
  },
  {
   "cell_type": "code",
   "execution_count": 61,
   "id": "651f7566-858e-4349-9240-127655285bbc",
   "metadata": {},
   "outputs": [],
   "source": [
    "label[\"label\"] = label[\"weight\"].apply(lambda x: 1 if x > 0.5 else 0)"
   ]
  },
  {
   "cell_type": "code",
   "execution_count": 62,
   "id": "9a13f99a-702d-4878-a303-732d80bf761a",
   "metadata": {},
   "outputs": [
    {
     "data": {
      "image/png": "[encoded data removed]",
      "text/plain": [
       "<Figure size 640x480 with 1 Axes>"
      ]
     },
     "metadata": {},
     "output_type": "display_data"
    }
   ],
   "source": [
    "import seaborn as sns\n",
    "import matplotlib.pyplot as plt\n",
    "\n",
    "# Set the style for the plot\n",
    "sns.set(style=\"whitegrid\")\n",
    "\n",
    "# Create a figure and axis\n",
    "fig, ax = plt.subplots()\n",
    "\n",
    "# Plot density plots for each class with increased transparency\n",
    "sns.kdeplot(data=label[label['label'] == 0], x='similarity', fill=True, color='darkblue', alpha=0.3, ax=ax, label='0')\n",
    "sns.kdeplot(data=label[label['label'] == 1], x='similarity', fill=True, color='pink', alpha=0.3, ax=ax, label='1')\n",
    "\n",
    "# Show the legend\n",
    "ax.legend()\n",
    "\n",
    "# Display the plot\n",
    "plt.show()\n"
   ]
  },
  {
   "cell_type": "code",
   "execution_count": 63,
   "id": "63bd81d7-5d91-447e-934d-9927d4ca7ade",
   "metadata": {},
   "outputs": [
    {
     "data": {
      "image/png": "[encoded data removed]",
      "text/plain": [
       "<Figure size 640x480 with 1 Axes>"
      ]
     },
     "metadata": {},
     "output_type": "display_data"
    }
   ],
   "source": [
    "import seaborn as sns\n",
    "import matplotlib.pyplot as plt\n",
    "\n",
    "# Set the style for the plot\n",
    "sns.set(style=\"whitegrid\")\n",
    "\n",
    "# Create a figure and axis\n",
    "fig, ax = plt.subplots()\n",
    "\n",
    "# Plot density plots for each class with increased transparency\n",
    "sns.kdeplot(data=label[label['label'] == 0], x='RMSD', fill=True, color='darkblue', alpha=0.3, ax=ax, label='0')\n",
    "sns.kdeplot(data=label[label['label'] == 1], x='RMSD', fill=True, color='pink', alpha=0.3, ax=ax, label='1')\n",
    "\n",
    "# Show the legend\n",
    "ax.legend()\n",
    "\n",
    "# Display the plot\n",
    "plt.show()\n"
   ]
  },
  {
   "cell_type": "markdown",
   "id": "95b53887-726b-441a-be94-f4351643facf",
   "metadata": {},
   "source": [
    "#### Stats"
   ]
  },
  {
   "cell_type": "code",
   "execution_count": 64,
   "id": "741c5a60-4b27-43b2-88b4-58186eebb30a",
   "metadata": {},
   "outputs": [
    {
     "data": {
      "text/plain": [
       "53160"
      ]
     },
     "execution_count": 64,
     "metadata": {},
     "output_type": "execute_result"
    }
   ],
   "source": [
    "len(label['label'])"
   ]
  },
  {
   "cell_type": "code",
   "execution_count": 65,
   "id": "176f0c1b-dbca-4eef-8528-5f54b9a5cb9f",
   "metadata": {},
   "outputs": [
    {
     "data": {
      "text/plain": [
       "5316"
      ]
     },
     "execution_count": 65,
     "metadata": {},
     "output_type": "execute_result"
    }
   ],
   "source": [
    "label['pdb'].nunique()"
   ]
  },
  {
   "cell_type": "code",
   "execution_count": 66,
   "id": "3c3f4f00-4b6e-4167-b366-a5595c3c9734",
   "metadata": {},
   "outputs": [
    {
     "data": {
      "text/plain": [
       "0    0.948721\n",
       "1    0.051279\n",
       "Name: label, dtype: float64"
      ]
     },
     "execution_count": 66,
     "metadata": {},
     "output_type": "execute_result"
    }
   ],
   "source": [
    "label['label'].value_counts(1)"
   ]
  },
  {
   "cell_type": "markdown",
   "id": "a13e732e-1d98-44da-acf0-2e90101a7566",
   "metadata": {},
   "source": [
    "#### Report "
   ]
  },
  {
   "cell_type": "code",
   "execution_count": 67,
   "id": "8aef7c38-110e-45d5-993e-b80dbd4d7923",
   "metadata": {},
   "outputs": [],
   "source": [
    "#best_weight = label.sort_values([\"pdb\", \"weight\"], ascending = False).drop_duplicates(\"pdb\", keep = \"first\")\n",
    "#best_weight_similarity = label.sort_values([\"pdb\", \"weight_similarity\"], ascending = False).drop_duplicates(\"pdb\", keep = \"first\")\n",
    "#best_weight_rmsd = label.sort_values([\"pdb\", \"weight_rmsd\"], ascending = False).drop_duplicates(\"pdb\", keep = \"first\")"
   ]
  },
  {
   "cell_type": "code",
   "execution_count": 68,
   "id": "fde76736-6fa0-4956-b727-2fc27abbb580",
   "metadata": {},
   "outputs": [],
   "source": [
    "#label.sort_values([\"pdb\", \"weight\"], ascending = False).head(30)"
   ]
  },
  {
   "cell_type": "code",
   "execution_count": 69,
   "id": "cb5d3f16-f940-4af4-8025-17fc55a041aa",
   "metadata": {},
   "outputs": [],
   "source": [
    "#merged_best_weight = pd.merge(best_weight, lepton, on = ['pdb'], how = \"inner\")\n",
    "#merged_best_weight_similarity = pd.merge(best_weight_similarity, lepton, on = ['pdb'], how = \"inner\")\n",
    "#merged_best_weight_rmsd = pd.merge(best_weight_rmsd, lepton, on = ['pdb'], how = \"inner\")"
   ]
  },
  {
   "cell_type": "markdown",
   "id": "73329554-f5bb-41ab-ac6c-31e2497aa423",
   "metadata": {},
   "source": [
    "#### Functions "
   ]
  },
  {
   "cell_type": "code",
   "execution_count": 70,
   "id": "8c18d807-94ff-4be6-bed6-7fa9152cb26f",
   "metadata": {},
   "outputs": [],
   "source": [
    "import seaborn as sns\n",
    "import matplotlib.pyplot as plt\n",
    "\n",
    "def plot_count_distribution(data, x, hue):\n",
    "    # Set the style for the plot\n",
    "    sns.set(style=\"whitegrid\")\n",
    "\n",
    "    # Create a figure and axis\n",
    "    fig, ax = plt.subplots()\n",
    "\n",
    "    # Plot a bar plot with hue for each class\n",
    "    sns.countplot(data=data, x=x, hue=hue, palette='Set2')\n",
    "\n",
    "    # Set the plot labels and title\n",
    "    ax.set(xlabel='Class', ylabel='Count', title='Distribution of Classes with Score Hue')\n",
    "\n",
    "    # Format x-axis labels\n",
    "    ax.set_xticklabels(ax.get_xticklabels(), rotation=45, horizontalalignment='right')\n",
    "\n",
    "    # Display the plot\n",
    "    plt.show()"
   ]
  },
  {
   "cell_type": "code",
   "execution_count": 209,
   "id": "5a9c31e6-e455-4ac0-9f1b-378ebed2ecdb",
   "metadata": {},
   "outputs": [],
   "source": [
    "def filter_and_print_label_distribution(dataset_list_final):\n",
    "    filtered_data_list_num_nodes = [data for data in dataset_list_final if data.num_nodes > 0]\n",
    "    filtered_data_list_descriptors = [data for data in filtered_data_list_num_nodes if data.x_s.shape[0] > 0 and data.x_t.shape[0] > 0]\n",
    "    filtered_data_list_descriptors = [data for data in filtered_data_list_descriptors if not data.x_t[0, 2].isnan()] \n",
    "    filtered_data_list = filtered_data_list_descriptors.copy()\n",
    "    \n",
    "    label_distribution = dict(Counter([label.y.tolist() for label in filtered_data_list]))\n",
    "    amount_of_graphs_used_to_train = len(filtered_data_list)\n",
    "    \n",
    "    print(\"Label Distribution:\")\n",
    "    for label, count in label_distribution.items():\n",
    "        print(f\"Label {label}: {count}\")\n",
    "    \n",
    "    print(f\"Amount of Graphs Used to Train: {amount_of_graphs_used_to_train}\")\n",
    "    \n",
    "    return filtered_data_list"
   ]
  },
  {
   "cell_type": "markdown",
   "id": "04402505-d772-4ae5-9f71-fbe3f0080687",
   "metadata": {},
   "source": [
    "#### Last problem "
   ]
  },
  {
   "cell_type": "code",
   "execution_count": 189,
   "id": "422db04f-b7ba-4117-9dc7-4c21ef968dee",
   "metadata": {},
   "outputs": [],
   "source": [
    "import pickle"
   ]
  },
  {
   "cell_type": "code",
   "execution_count": 190,
   "id": "bb6f9f24-0918-4e64-8bee-8f9dd66d7c6d",
   "metadata": {},
   "outputs": [],
   "source": [
    "def save_list_to_file(data_list, config, name):\n",
    "    with open(f'{config.data}/{name}', 'wb') as file:\n",
    "        pickle.dump(data_list, file)\n",
    "        print(f'Saved {name} with success!')\n",
    "\n",
    "def open_file(config, name):\n",
    "    with open(f'../Datahub/Data/{name}', 'rb') as file:\n",
    "        bipartite_data = pickle.load(file) \n",
    "    return bipartite_data"
   ]
  },
  {
   "cell_type": "code",
   "execution_count": 191,
   "id": "fce96bc3-d5e0-4097-a750-a7c60eaf13c9",
   "metadata": {},
   "outputs": [],
   "source": [
    "dataset = label.copy()"
   ]
  },
  {
   "cell_type": "code",
   "execution_count": 192,
   "id": "39edcad2-6339-4bd5-bd08-f077bc072d51",
   "metadata": {},
   "outputs": [],
   "source": [
    "dataset = dataset[['pdb','poserank','similarity','RMSD','label']]"
   ]
  },
  {
   "cell_type": "markdown",
   "id": "96430266-bf70-4c5b-abd3-86fef4959c26",
   "metadata": {},
   "source": [
    "#### Coreset "
   ]
  },
  {
   "cell_type": "code",
   "execution_count": 193,
   "id": "a7417e16-c5ff-4fe4-a12f-608a3e165974",
   "metadata": {},
   "outputs": [],
   "source": [
    "from torch_geometric.data import Data, DataLoader"
   ]
  },
  {
   "cell_type": "code",
   "execution_count": 194,
   "id": "89636265-1534-4316-946d-01b984c9b9ee",
   "metadata": {},
   "outputs": [],
   "source": [
    "class BipartiteData(Data):\n",
    "    def __init__(self, edge_index=None, x_s=None, x_t=None, y=None, edge_attr=None, pdb = None, pose = None):\n",
    "        super().__init__()\n",
    "        self.edge_index = edge_index\n",
    "        self.x_s = x_s\n",
    "        self.x_t = x_t\n",
    "        self.y = y\n",
    "        self.edge_attr = edge_attr  # Add edge_attr attribute\n",
    "        #self.num_nodes = len(set(edge_index[0].tolist())) +  len(set(edge_index[1].tolist()))\n",
    "        self.num_nodes = (x_s.size(0) if x_s is not None else 0) + (x_t.size(0) if x_t is not None else 0)\n",
    "        self.pdb = pdb\n",
    "        self.pose = pose\n",
    "    \n",
    "    def __inc__(self, key, value, *args, **kwargs):\n",
    "        if key == 'edge_index':\n",
    "            return torch.tensor([[self.x_s.size(0)], [self.x_t.size(0)]])\n",
    "        else:\n",
    "            return super().__inc__(key, value, *args, **kwargs)"
   ]
  },
  {
   "cell_type": "code",
   "execution_count": 338,
   "id": "6a680d80-3f14-4aa5-ba66-3eeabc6a5838",
   "metadata": {},
   "outputs": [],
   "source": [
    "working = open_file(config, \"bipartite_data_no_pose_rank_NOT_sorted_by_family_cut_4_coreset_1_RAND.pkl\")"
   ]
  },
  {
   "cell_type": "code",
   "execution_count": 339,
   "id": "544b806e-3f58-46cb-aedd-504507c47613",
   "metadata": {},
   "outputs": [
    {
     "name": "stdout",
     "output_type": "stream",
     "text": [
      "Label Distribution:\n",
      "Label 0.0: 1802\n",
      "Label 1.0: 146\n",
      "Amount of Graphs Used to Train: 1948\n"
     ]
    }
   ],
   "source": [
    "working = filter_and_print_label_distribution(working)"
   ]
  },
  {
   "cell_type": "code",
   "execution_count": 340,
   "id": "cee96f93-8d2b-4d7e-ba59-1160d8a25d23",
   "metadata": {},
   "outputs": [],
   "source": [
    "order_dataset_that_works = []\n",
    "for data in working:\n",
    "    order_dataset_that_works.append(data.pdb)"
   ]
  },
  {
   "cell_type": "markdown",
   "id": "027f5d21-ed8f-442a-9255-f955335f7aca",
   "metadata": {},
   "source": [
    "#### refined set "
   ]
  },
  {
   "cell_type": "code",
   "execution_count": 355,
   "id": "4dbc3fea-1e13-4be3-863a-d00cabd3bdb8",
   "metadata": {},
   "outputs": [],
   "source": [
    "fail = open_file(config, \"bipartite_data_no_pose_rank_cut_4_refined_set_encoded_RAND.pkl\")"
   ]
  },
  {
   "cell_type": "code",
   "execution_count": 356,
   "id": "66446cc0-1157-480b-a89b-6b16ab30c28e",
   "metadata": {},
   "outputs": [
    {
     "name": "stdout",
     "output_type": "stream",
     "text": [
      "Label Distribution:\n",
      "Label 0.0: 25442\n",
      "Label 1.0: 2209\n",
      "Amount of Graphs Used to Train: 27651\n"
     ]
    }
   ],
   "source": [
    "fail = filter_and_print_label_distribution(fail)"
   ]
  },
  {
   "cell_type": "code",
   "execution_count": 357,
   "id": "af7f95f4-75ee-4030-b243-08c89fc8c82a",
   "metadata": {},
   "outputs": [
    {
     "data": {
      "text/plain": [
       "165"
      ]
     },
     "execution_count": 357,
     "metadata": {},
     "output_type": "execute_result"
    }
   ],
   "source": [
    "len(set([data.pdb for data in fail]) & set([data.pdb for data in working]) )"
   ]
  },
  {
   "cell_type": "code",
   "execution_count": 358,
   "id": "2e414f7a-d384-4fc8-8b84-100906beb6ad",
   "metadata": {},
   "outputs": [],
   "source": [
    "def pdb_index(item):\n",
    "    try:\n",
    "        return order_dataset_that_works.index(item.pdb)\n",
    "    except ValueError:\n",
    "        return float('inf')  # Return a very large value if PDb not found"
   ]
  },
  {
   "cell_type": "code",
   "execution_count": 359,
   "id": "0ed737e0-728b-4be2-b1c3-b511c4dc72c7",
   "metadata": {},
   "outputs": [
    {
     "data": {
      "text/plain": [
       "1948"
      ]
     },
     "execution_count": 359,
     "metadata": {},
     "output_type": "execute_result"
    }
   ],
   "source": [
    "len(order_dataset_that_works)"
   ]
  },
  {
   "cell_type": "code",
   "execution_count": 360,
   "id": "6b12fa45-961d-4365-818f-ab8de866d021",
   "metadata": {},
   "outputs": [],
   "source": [
    "list_pdb_coreset = list(set([data.pdb for data in working]))"
   ]
  },
  {
   "cell_type": "code",
   "execution_count": 361,
   "id": "76e0e55d-2eb3-416f-b6a3-184a0f1ebb1f",
   "metadata": {
    "scrolled": true
   },
   "outputs": [
    {
     "data": {
      "text/plain": [
       "231"
      ]
     },
     "execution_count": 361,
     "metadata": {},
     "output_type": "execute_result"
    }
   ],
   "source": [
    "len(list_pdb_coreset)"
   ]
  },
  {
   "cell_type": "code",
   "execution_count": 362,
   "id": "3bce166c-9a18-49ef-9b9f-a0a753c9c681",
   "metadata": {},
   "outputs": [],
   "source": [
    "fail_with_coreset_pdb = [data for data in fail if data.pdb in     list_pdb_coreset]"
   ]
  },
  {
   "cell_type": "code",
   "execution_count": 363,
   "id": "3154c637-0cac-4ffd-89fa-2c0c16b1abd3",
   "metadata": {},
   "outputs": [
    {
     "data": {
      "text/plain": [
       "1321"
      ]
     },
     "execution_count": 363,
     "metadata": {},
     "output_type": "execute_result"
    }
   ],
   "source": [
    "len(fail_with_coreset_pdb)"
   ]
  },
  {
   "cell_type": "code",
   "execution_count": 364,
   "id": "906a653a-1f9b-4a12-b780-4c475ffdf2c6",
   "metadata": {},
   "outputs": [],
   "source": [
    "fail = [data for data in fail if data.pdb not in order_dataset_that_works]"
   ]
  },
  {
   "cell_type": "code",
   "execution_count": 365,
   "id": "dda96135-d55b-430b-9b41-24b73a869525",
   "metadata": {},
   "outputs": [
    {
     "data": {
      "text/plain": [
       "26330"
      ]
     },
     "execution_count": 365,
     "metadata": {},
     "output_type": "execute_result"
    }
   ],
   "source": [
    "len(fail)"
   ]
  },
  {
   "cell_type": "code",
   "execution_count": 366,
   "id": "7b4755eb-6814-42e6-9fdd-af07f3d2d381",
   "metadata": {},
   "outputs": [
    {
     "data": {
      "text/plain": [
       "1321"
      ]
     },
     "execution_count": 366,
     "metadata": {},
     "output_type": "execute_result"
    }
   ],
   "source": [
    "len(fail_with_coreset_pdb)"
   ]
  },
  {
   "cell_type": "code",
   "execution_count": 367,
   "id": "0d7af895-5bea-476e-b8f5-7cd0ff3c0b59",
   "metadata": {},
   "outputs": [],
   "source": [
    "fail = sorted(fail, key =  lambda item : item.pdb)\n",
    "fail_with_coreset_pdb = sorted(fail_with_coreset_pdb, key =  lambda item : item.pdb)"
   ]
  },
  {
   "cell_type": "code",
   "execution_count": 368,
   "id": "5116dc2f-0a7e-4a8b-951a-3aebbc6058ee",
   "metadata": {},
   "outputs": [],
   "source": [
    "fail = fail[:1948]\n",
    "fail_with_coreset_pdb = fail_with_coreset_pdb[:1948]"
   ]
  },
  {
   "cell_type": "code",
   "execution_count": 369,
   "id": "bc7934ed-9695-4d73-9d58-92b84024d16c",
   "metadata": {},
   "outputs": [
    {
     "data": {
      "text/plain": [
       "1321"
      ]
     },
     "execution_count": 369,
     "metadata": {},
     "output_type": "execute_result"
    }
   ],
   "source": [
    "len(fail_with_coreset_pdb)"
   ]
  },
  {
   "cell_type": "code",
   "execution_count": 221,
   "id": "8af2c6e8-342c-4e28-b340-ad8e0b31fe37",
   "metadata": {},
   "outputs": [],
   "source": [
    "import random"
   ]
  },
  {
   "cell_type": "code",
   "execution_count": 222,
   "id": "1cbb24bf-4e37-47ce-a618-ec3651f2713d",
   "metadata": {},
   "outputs": [],
   "source": [
    "random.shuffle(fail)"
   ]
  },
  {
   "cell_type": "code",
   "execution_count": 223,
   "id": "ed1b04f0-4da3-4856-8245-8d169a8e84a0",
   "metadata": {},
   "outputs": [],
   "source": [
    "from collections import Counter"
   ]
  },
  {
   "cell_type": "markdown",
   "id": "ee73c6b7-6257-4235-b2c2-d2e9fa4d7892",
   "metadata": {
    "jp-MarkdownHeadingCollapsed": true
   },
   "source": [
    "#### Comparing Proportion "
   ]
  },
  {
   "cell_type": "code",
   "execution_count": 224,
   "id": "e4d4ba48-802d-4bc8-a5d5-72363c9e850d",
   "metadata": {},
   "outputs": [
    {
     "data": {
      "text/plain": [
       "{0.0: 1809, 1.0: 139}"
      ]
     },
     "execution_count": 224,
     "metadata": {},
     "output_type": "execute_result"
    }
   ],
   "source": [
    "dict(Counter([data.y.tolist() for data in fail]))"
   ]
  },
  {
   "cell_type": "code",
   "execution_count": 225,
   "id": "c76a3de6-7d1a-47e6-a8ab-2ebf17ac0b2e",
   "metadata": {},
   "outputs": [
    {
     "data": {
      "text/plain": [
       "{0.0: 1802, 1.0: 146}"
      ]
     },
     "execution_count": 225,
     "metadata": {},
     "output_type": "execute_result"
    }
   ],
   "source": [
    "dict(Counter([data.y.tolist() for data in working]))"
   ]
  },
  {
   "cell_type": "markdown",
   "id": "5e434ea2-a4c2-4148-9163-62d445b2d3f9",
   "metadata": {
    "jp-MarkdownHeadingCollapsed": true
   },
   "source": [
    "#### Comparting dataframe"
   ]
  },
  {
   "cell_type": "code",
   "execution_count": 226,
   "id": "3ef11d07-57da-499e-81d6-b40b748db7fc",
   "metadata": {},
   "outputs": [],
   "source": [
    "list_pdb_fail = [data.pdb for data in fail]\n",
    "list_pdb_working = [data.pdb for data in working]"
   ]
  },
  {
   "cell_type": "code",
   "execution_count": 227,
   "id": "13462aa1-f657-47e0-b4cf-471fd854beed",
   "metadata": {},
   "outputs": [
    {
     "data": {
      "text/plain": [
       "set()"
      ]
     },
     "execution_count": 227,
     "metadata": {},
     "output_type": "execute_result"
    }
   ],
   "source": [
    "set(list_pdb_fail) &  set(list_pdb_working)"
   ]
  },
  {
   "cell_type": "code",
   "execution_count": 228,
   "id": "e0df3bb2-3edf-4cc5-913d-07c512c05546",
   "metadata": {},
   "outputs": [],
   "source": [
    "dataset_fail = dataset[dataset['pdb'].isin(list_pdb_fail)]\n",
    "dataset_working = dataset[dataset['pdb'].isin(list_pdb_working)]"
   ]
  },
  {
   "cell_type": "code",
   "execution_count": 229,
   "id": "974a428a-df79-4492-80b3-ca157a14fd41",
   "metadata": {},
   "outputs": [
    {
     "data": {
      "text/plain": [
       "0    2151\n",
       "1     139\n",
       "Name: label, dtype: int64"
      ]
     },
     "execution_count": 229,
     "metadata": {},
     "output_type": "execute_result"
    }
   ],
   "source": [
    "dataset_fail['label'].value_counts()"
   ]
  },
  {
   "cell_type": "code",
   "execution_count": 230,
   "id": "f2323272-bc16-4e6e-959a-a6867492fea9",
   "metadata": {},
   "outputs": [
    {
     "data": {
      "text/plain": [
       "0    2031\n",
       "1     109\n",
       "Name: label, dtype: int64"
      ]
     },
     "execution_count": 230,
     "metadata": {},
     "output_type": "execute_result"
    }
   ],
   "source": [
    "dataset_working['label'].value_counts()"
   ]
  },
  {
   "cell_type": "code",
   "execution_count": 231,
   "id": "4354c18f-d753-4444-aa88-dd5ad63509e5",
   "metadata": {},
   "outputs": [
    {
     "data": {
      "text/html": [
       "<div>\n",
       "<style scoped>\n",
       "    .dataframe tbody tr th:only-of-type {\n",
       "        vertical-align: middle;\n",
       "    }\n",
       "\n",
       "    .dataframe tbody tr th {\n",
       "        vertical-align: top;\n",
       "    }\n",
       "\n",
       "    .dataframe thead th {\n",
       "        text-align: right;\n",
       "    }\n",
       "</style>\n",
       "<table border=\"1\" class=\"dataframe\">\n",
       "  <thead>\n",
       "    <tr style=\"text-align: right;\">\n",
       "      <th></th>\n",
       "      <th>pdb</th>\n",
       "      <th>poserank</th>\n",
       "      <th>similarity</th>\n",
       "      <th>RMSD</th>\n",
       "      <th>label</th>\n",
       "    </tr>\n",
       "  </thead>\n",
       "  <tbody>\n",
       "    <tr>\n",
       "      <th>260</th>\n",
       "      <td>1g7q</td>\n",
       "      <td>1</td>\n",
       "      <td>53.254438</td>\n",
       "      <td>2.22</td>\n",
       "      <td>0</td>\n",
       "    </tr>\n",
       "    <tr>\n",
       "      <th>261</th>\n",
       "      <td>1g7q</td>\n",
       "      <td>2</td>\n",
       "      <td>8.875740</td>\n",
       "      <td>14.05</td>\n",
       "      <td>0</td>\n",
       "    </tr>\n",
       "    <tr>\n",
       "      <th>262</th>\n",
       "      <td>1g7q</td>\n",
       "      <td>3</td>\n",
       "      <td>23.668639</td>\n",
       "      <td>4.15</td>\n",
       "      <td>0</td>\n",
       "    </tr>\n",
       "    <tr>\n",
       "      <th>263</th>\n",
       "      <td>1g7q</td>\n",
       "      <td>4</td>\n",
       "      <td>11.834320</td>\n",
       "      <td>5.81</td>\n",
       "      <td>0</td>\n",
       "    </tr>\n",
       "    <tr>\n",
       "      <th>264</th>\n",
       "      <td>1g7q</td>\n",
       "      <td>5</td>\n",
       "      <td>72.781065</td>\n",
       "      <td>0.94</td>\n",
       "      <td>1</td>\n",
       "    </tr>\n",
       "  </tbody>\n",
       "</table>\n",
       "</div>"
      ],
      "text/plain": [
       "      pdb  poserank  similarity   RMSD  label\n",
       "260  1g7q         1   53.254438   2.22      0\n",
       "261  1g7q         2    8.875740  14.05      0\n",
       "262  1g7q         3   23.668639   4.15      0\n",
       "263  1g7q         4   11.834320   5.81      0\n",
       "264  1g7q         5   72.781065   0.94      1"
      ]
     },
     "execution_count": 231,
     "metadata": {},
     "output_type": "execute_result"
    }
   ],
   "source": [
    "dataset_fail.head()\n"
   ]
  },
  {
   "cell_type": "markdown",
   "id": "b8c7905d-52ac-46e4-834c-9e8c3e47b42d",
   "metadata": {
    "jp-MarkdownHeadingCollapsed": true
   },
   "source": [
    "#### Classes postitivas "
   ]
  },
  {
   "cell_type": "code",
   "execution_count": 232,
   "id": "ea29dc50-d8a7-422c-a1df-b12954262288",
   "metadata": {},
   "outputs": [],
   "source": [
    "table_fail = dataset_fail[~dataset_fail['pdb'].isin(list(dataset_fail[dataset_fail['label']== 1]['pdb']))]"
   ]
  },
  {
   "cell_type": "code",
   "execution_count": 233,
   "id": "b9cb7785-0421-4f15-8f96-cb934e93e68c",
   "metadata": {},
   "outputs": [
    {
     "data": {
      "text/plain": [
       "125"
      ]
     },
     "execution_count": 233,
     "metadata": {},
     "output_type": "execute_result"
    }
   ],
   "source": [
    "table_fail['pdb'].nunique()"
   ]
  },
  {
   "cell_type": "code",
   "execution_count": 234,
   "id": "2a538c6c-c0ea-4a85-b23c-94b0bdecaa6d",
   "metadata": {},
   "outputs": [
    {
     "data": {
      "text/plain": [
       "229"
      ]
     },
     "execution_count": 234,
     "metadata": {},
     "output_type": "execute_result"
    }
   ],
   "source": [
    "dataset_fail['pdb'].nunique()"
   ]
  },
  {
   "cell_type": "code",
   "execution_count": 235,
   "id": "129c6e29-f098-4088-a382-59981e86ad4c",
   "metadata": {},
   "outputs": [],
   "source": [
    "table_working = dataset_working[~dataset_working['pdb'].isin(list(dataset_working[dataset_working['label']== 1]['pdb']))]"
   ]
  },
  {
   "cell_type": "code",
   "execution_count": 236,
   "id": "b062c54e-ee90-42cc-9b00-a51fe4e45a05",
   "metadata": {},
   "outputs": [
    {
     "data": {
      "text/plain": [
       "118"
      ]
     },
     "execution_count": 236,
     "metadata": {},
     "output_type": "execute_result"
    }
   ],
   "source": [
    "table_working['pdb'].nunique()"
   ]
  },
  {
   "cell_type": "code",
   "execution_count": 237,
   "id": "d6970252-91e7-4813-b171-879a796711dc",
   "metadata": {},
   "outputs": [
    {
     "data": {
      "text/plain": [
       "214"
      ]
     },
     "execution_count": 237,
     "metadata": {},
     "output_type": "execute_result"
    }
   ],
   "source": [
    "dataset_working['pdb'].nunique()"
   ]
  },
  {
   "cell_type": "markdown",
   "id": "22b3c995-0f14-4078-8b18-949e34e7dab3",
   "metadata": {},
   "source": [
    "#### Tentando rodar modelo de novo para garantir "
   ]
  },
  {
   "cell_type": "code",
   "execution_count": 238,
   "id": "df96fa09-99b8-4a88-9203-5929318cac6d",
   "metadata": {},
   "outputs": [
    {
     "data": {
      "text/plain": [
       "{0.0: 1809, 1.0: 139}"
      ]
     },
     "execution_count": 238,
     "metadata": {},
     "output_type": "execute_result"
    }
   ],
   "source": [
    "dict(Counter([data.y.tolist() for data in fail]))"
   ]
  },
  {
   "cell_type": "code",
   "execution_count": 245,
   "id": "d6d87621-d8cd-4c55-9db3-af2d562538b7",
   "metadata": {},
   "outputs": [
    {
     "data": {
      "text/plain": [
       "13.014388489208633"
      ]
     },
     "execution_count": 245,
     "metadata": {},
     "output_type": "execute_result"
    }
   ],
   "source": [
    "1809/139"
   ]
  },
  {
   "cell_type": "code",
   "execution_count": 239,
   "id": "df34d0a3-2ab4-4605-8130-a9f985a7a889",
   "metadata": {},
   "outputs": [
    {
     "data": {
      "text/plain": [
       "{0.0: 1802, 1.0: 146}"
      ]
     },
     "execution_count": 239,
     "metadata": {},
     "output_type": "execute_result"
    }
   ],
   "source": [
    "dict(Counter([data.y.tolist() for data in working]))"
   ]
  },
  {
   "cell_type": "code",
   "execution_count": 247,
   "id": "3ee0d92c-43db-48a1-82ae-1c5bbebd2fd6",
   "metadata": {},
   "outputs": [
    {
     "data": {
      "text/plain": [
       "12.342465753424657"
      ]
     },
     "execution_count": 247,
     "metadata": {},
     "output_type": "execute_result"
    }
   ],
   "source": [
    "1802/146"
   ]
  },
  {
   "cell_type": "code",
   "execution_count": 371,
   "id": "c2a48e43-d81f-450a-b345-5c5f9a6cde6e",
   "metadata": {},
   "outputs": [
    {
     "data": {
      "text/plain": [
       "{0.0: 1214, 1.0: 107}"
      ]
     },
     "execution_count": 371,
     "metadata": {},
     "output_type": "execute_result"
    }
   ],
   "source": [
    "dict(Counter([data.y.tolist() for data in fail_with_coreset_pdb]))"
   ]
  },
  {
   "cell_type": "code",
   "execution_count": 372,
   "id": "93190528-7597-4f8f-990f-726cf05a987e",
   "metadata": {},
   "outputs": [
    {
     "data": {
      "text/plain": [
       "11.345794392523365"
      ]
     },
     "execution_count": 372,
     "metadata": {},
     "output_type": "execute_result"
    }
   ],
   "source": [
    "1214/107"
   ]
  },
  {
   "cell_type": "code",
   "execution_count": 351,
   "id": "80891f21-0aff-4c32-8d52-11f55f092e26",
   "metadata": {},
   "outputs": [
    {
     "data": {
      "text/plain": [
       "1321"
      ]
     },
     "execution_count": 351,
     "metadata": {},
     "output_type": "execute_result"
    }
   ],
   "source": [
    "len(fail_with_coreset_pdb)"
   ]
  },
  {
   "cell_type": "code",
   "execution_count": 352,
   "id": "87eead43-a16e-42a7-9874-c46dca53a012",
   "metadata": {},
   "outputs": [
    {
     "data": {
      "text/plain": [
       "264.2"
      ]
     },
     "execution_count": 352,
     "metadata": {},
     "output_type": "execute_result"
    }
   ],
   "source": [
    "1321*0.2"
   ]
  },
  {
   "cell_type": "code",
   "execution_count": 353,
   "id": "1c256ef4-b044-4db8-b21a-b92a5a302b92",
   "metadata": {},
   "outputs": [
    {
     "data": {
      "text/plain": [
       "1057"
      ]
     },
     "execution_count": 353,
     "metadata": {},
     "output_type": "execute_result"
    }
   ],
   "source": [
    "1321  - 264"
   ]
  },
  {
   "cell_type": "code",
   "execution_count": 370,
   "id": "cffce1d4-a2d1-477e-8904-30b76347deb3",
   "metadata": {},
   "outputs": [
    {
     "name": "stdout",
     "output_type": "stream",
     "text": [
      "Saved DATAVALIDATION_1948_FAILED.pkl with success!\n",
      "Saved DATAVALIDATION_1321_SHOULD_WORK.pkl with success!\n"
     ]
    }
   ],
   "source": [
    "save_list_to_file(fail, config, f\"DATAVALIDATION_1948_FAILED.pkl\")\n",
    "save_list_to_file(fail_with_coreset_pdb, config, f\"DATAVALIDATION_1321_SHOULD_WORK.pkl\")"
   ]
  },
  {
   "cell_type": "code",
   "execution_count": 252,
   "id": "a9bb21f5-a0ba-4500-a83f-06b0cb12add9",
   "metadata": {},
   "outputs": [
    {
     "data": {
      "text/plain": [
       "[BipartiteData(edge_index=[2, 114], x_s=[114, 7], x_t=[114, 7], y=0.0, edge_attr=[114], num_nodes=228, pdb='3kwa', pose=1),\n",
       " BipartiteData(edge_index=[2, 39], x_s=[39, 7], x_t=[39, 7], y=0.0, edge_attr=[39], num_nodes=78, pdb='3udh', pose=8),\n",
       " BipartiteData(edge_index=[2, 89], x_s=[89, 7], x_t=[89, 7], y=0.0, edge_attr=[89], num_nodes=178, pdb='2qnq', pose=4),\n",
       " BipartiteData(edge_index=[2, 103], x_s=[103, 7], x_t=[103, 7], y=0.0, edge_attr=[103], num_nodes=206, pdb='3b65', pose=6),\n",
       " BipartiteData(edge_index=[2, 72], x_s=[72, 7], x_t=[72, 7], y=0.0, edge_attr=[72], num_nodes=144, pdb='2vw5', pose=2),\n",
       " BipartiteData(edge_index=[2, 52], x_s=[52, 7], x_t=[52, 7], y=0.0, edge_attr=[52], num_nodes=104, pdb='5c28', pose=8),\n",
       " BipartiteData(edge_index=[2, 42], x_s=[42, 7], x_t=[42, 7], y=0.0, edge_attr=[42], num_nodes=84, pdb='3fcq', pose=4),\n",
       " BipartiteData(edge_index=[2, 116], x_s=[116, 7], x_t=[116, 7], y=0.0, edge_attr=[116], num_nodes=232, pdb='1mq6', pose=6),\n",
       " BipartiteData(edge_index=[2, 46], x_s=[46, 7], x_t=[46, 7], y=0.0, edge_attr=[46], num_nodes=92, pdb='3udh', pose=5),\n",
       " BipartiteData(edge_index=[2, 72], x_s=[72, 7], x_t=[72, 7], y=0.0, edge_attr=[72], num_nodes=144, pdb='2xj7', pose=6)]"
      ]
     },
     "execution_count": 252,
     "metadata": {},
     "output_type": "execute_result"
    }
   ],
   "source": [
    "working[0:10]"
   ]
  },
  {
   "cell_type": "code",
   "execution_count": 251,
   "id": "2e90a886-f02b-4500-92aa-cd29df8904c6",
   "metadata": {},
   "outputs": [
    {
     "data": {
      "text/plain": [
       "[BipartiteData(edge_index=[2, 138], x_s=[138, 11], x_t=[138, 11], y=0.0, edge_attr=[138], num_nodes=276, pdb='1dif', pose=7),\n",
       " BipartiteData(edge_index=[2, 60], x_s=[60, 11], x_t=[60, 11], y=0.0, edge_attr=[60], num_nodes=120, pdb='1c5q', pose=5),\n",
       " BipartiteData(edge_index=[2, 94], x_s=[94, 11], x_t=[94, 11], y=0.0, edge_attr=[94], num_nodes=188, pdb='1c1r', pose=9),\n",
       " BipartiteData(edge_index=[2, 100], x_s=[100, 11], x_t=[100, 11], y=0.0, edge_attr=[100], num_nodes=200, pdb='1d3d', pose=5),\n",
       " BipartiteData(edge_index=[2, 80], x_s=[80, 11], x_t=[80, 11], y=0.0, edge_attr=[80], num_nodes=160, pdb='1fao', pose=3),\n",
       " BipartiteData(edge_index=[2, 192], x_s=[192, 11], x_t=[192, 11], y=0.0, edge_attr=[192], num_nodes=384, pdb='1izh', pose=7),\n",
       " BipartiteData(edge_index=[2, 19], x_s=[19, 11], x_t=[19, 11], y=0.0, edge_attr=[19], num_nodes=38, pdb='187l', pose=3),\n",
       " BipartiteData(edge_index=[2, 23], x_s=[23, 11], x_t=[23, 11], y=0.0, edge_attr=[23], num_nodes=46, pdb='1d7i', pose=6),\n",
       " BipartiteData(edge_index=[2, 83], x_s=[83, 11], x_t=[83, 11], y=0.0, edge_attr=[83], num_nodes=166, pdb='1b8y', pose=3),\n",
       " BipartiteData(edge_index=[2, 158], x_s=[158, 11], x_t=[158, 11], y=0.0, edge_attr=[158], num_nodes=316, pdb='1fzk', pose=5)]"
      ]
     },
     "execution_count": 251,
     "metadata": {},
     "output_type": "execute_result"
    }
   ],
   "source": [
    "fail[0:10]"
   ]
  },
  {
   "cell_type": "code",
   "execution_count": null,
   "id": "b47c1f84-0082-4aff-9b52-716284d995c3",
   "metadata": {},
   "outputs": [],
   "source": []
  }
 ],
 "metadata": {
  "kernelspec": {
   "display_name": "master_37",
   "language": "python",
   "name": "master_37"
  },
  "language_info": {
   "codemirror_mode": {
    "name": "ipython",
    "version": 3
   },
   "file_extension": ".py",
   "mimetype": "text/x-python",
   "name": "python",
   "nbconvert_exporter": "python",
   "pygments_lexer": "ipython3",
   "version": "3.7.16"
  }
 },
 "nbformat": 4,
 "nbformat_minor": 5
}
