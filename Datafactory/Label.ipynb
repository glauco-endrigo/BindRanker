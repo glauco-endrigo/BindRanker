{
 "cells": [
  {
   "cell_type": "code",
   "execution_count": 1,
   "id": "2979e6d0",
   "metadata": {},
   "outputs": [
    {
     "name": "stderr",
     "output_type": "stream",
     "text": [
      "/home/lbcb02/anaconda3/envs/master_37/lib/python3.7/site-packages/tqdm/auto.py:21: TqdmWarning: IProgress not found. Please update jupyter and ipywidgets. See https://ipywidgets.readthedocs.io/en/stable/user_install.html\n",
      "  from .autonotebook import tqdm as notebook_tqdm\n"
     ]
    }
   ],
   "source": [
    "import pandas as pd\n",
    "import os\n",
    "import torch\n",
    "import json\n",
    "import numpy as np"
   ]
  },
  {
   "cell_type": "code",
   "execution_count": 2,
   "id": "e8f88bc3-295f-45e2-9e6d-9bcb76181667",
   "metadata": {},
   "outputs": [],
   "source": [
    "%run ../Config.ipynb"
   ]
  },
  {
   "cell_type": "code",
   "execution_count": 3,
   "id": "8f9c8dc5-b80d-4914-aaca-b1e7e5ad486d",
   "metadata": {},
   "outputs": [],
   "source": [
    "config = Config()"
   ]
  },
  {
   "cell_type": "markdown",
   "id": "008cc102-6cd2-47ae-b4ff-4d681b846a1c",
   "metadata": {},
   "source": [
    "#### Rmsd's "
   ]
  },
  {
   "cell_type": "code",
   "execution_count": 4,
   "id": "f50b2c24",
   "metadata": {},
   "outputs": [],
   "source": [
    "rmsd = pd.read_csv(f\"{config.data}/rmsd.csv\")"
   ]
  },
  {
   "cell_type": "code",
   "execution_count": 5,
   "id": "5d64dc71-cde4-4c52-9b97-0eae8f173206",
   "metadata": {},
   "outputs": [
    {
     "data": {
      "text/plain": [
       "280"
      ]
     },
     "execution_count": 5,
     "metadata": {},
     "output_type": "execute_result"
    }
   ],
   "source": [
    "rmsd['pdb'].nunique()"
   ]
  },
  {
   "cell_type": "markdown",
   "id": "2fc27bee-eefb-4e4c-8dcd-29f39c843c1f",
   "metadata": {},
   "source": [
    "Obs: There is one pdb missing!"
   ]
  },
  {
   "cell_type": "code",
   "execution_count": 6,
   "id": "41dc65bd-912d-4ce6-a922-a8bbb3b852b2",
   "metadata": {},
   "outputs": [
    {
     "data": {
      "text/plain": [
       "2     1\n",
       "3     1\n",
       "5     1\n",
       "6     1\n",
       "8     1\n",
       "9     1\n",
       "10    1\n",
       "Name: poserank, dtype: int64"
      ]
     },
     "execution_count": 6,
     "metadata": {},
     "output_type": "execute_result"
    }
   ],
   "source": [
    "rmsd[rmsd['pdb'] == \"4kz6\"]['poserank'].value_counts()"
   ]
  },
  {
   "cell_type": "markdown",
   "id": "388dadc6-b503-4755-ad84-003586c084b5",
   "metadata": {},
   "source": [
    "Complexes are labeled as correct if they fall within 2.0 Angstroms heavy-atom RMSD of the reference ligand structure, a standard cutoff in the field (see e.g. Ref. 44). Correct poses are labeled “positive,” and those that fall outside the cutoff are labeled as “negative.”"
   ]
  },
  {
   "cell_type": "markdown",
   "id": "eb26020b-0d1a-4450-8916-d96774ca939a",
   "metadata": {},
   "source": [
    "#### Creating label "
   ]
  },
  {
   "cell_type": "code",
   "execution_count": 7,
   "id": "3aaf5aeb-76d0-48cb-9024-226f4473819b",
   "metadata": {},
   "outputs": [],
   "source": [
    "label = rmsd.copy()"
   ]
  },
  {
   "cell_type": "markdown",
   "id": "c0723785-b5ba-472c-a880-83bfb5cd0e95",
   "metadata": {},
   "source": [
    "#### Score similarity "
   ]
  },
  {
   "cell_type": "code",
   "execution_count": 8,
   "id": "5bd7dd59-0419-4da1-8cb4-4b1e00103eff",
   "metadata": {},
   "outputs": [],
   "source": [
    "score = pd.read_json(f\"{config.data}/score.json\").unstack().reset_index().rename(columns = {\"level_0\":\"pdb\", \"level_1\":\"poserank\", 0:'similarity'})"
   ]
  },
  {
   "cell_type": "markdown",
   "id": "b119c87d-fa1e-40fe-a988-41f681b81905",
   "metadata": {},
   "source": [
    "#### Merge"
   ]
  },
  {
   "cell_type": "code",
   "execution_count": 9,
   "id": "eda0c77d-a7e7-4d24-be8f-fe48c27a6dd3",
   "metadata": {},
   "outputs": [],
   "source": [
    "label = pd.merge(score, label, left_on= ['pdb','poserank'], right_on = ['pdb','poserank'], how = 'outer').drop_duplicates()"
   ]
  },
  {
   "cell_type": "code",
   "execution_count": 10,
   "id": "89f82d6a-fd2a-4138-891b-579bae8bdd45",
   "metadata": {},
   "outputs": [],
   "source": [
    "#label.sort_values('similarity', ascending = False).tail(30)"
   ]
  },
  {
   "cell_type": "markdown",
   "id": "f9742244-9a1e-4d96-badf-8853a96b25cd",
   "metadata": {},
   "source": [
    "| score | rmsd |\n",
    "|-------|------|\n",
    "| rmsd < 2 | -10 |\n",
    "| 2 < rmsd < 3 | -7 |\n",
    "| rmsd > 3 | 0 |\n",
    "\n",
    "| score | match |\n",
    "|-------|-------|\n",
    "| 79 | -10 |\n",
    "| 70 | -7 |\n",
    "| 66 | 0 |\n",
    "| 42 | 0 |\n"
   ]
  },
  {
   "cell_type": "code",
   "execution_count": 11,
   "id": "bfaee115-fdf1-44b8-81ca-4f66807e1982",
   "metadata": {},
   "outputs": [],
   "source": [
    "# Define the conditions and corresponding scores\n",
    "conditions_rmsd = [ label['RMSD'] < 2\n",
    "              ,(label['RMSD'] >= 2) & (label['RMSD'] < 3)\n",
    "              , label['RMSD'] >= 3]"
   ]
  },
  {
   "cell_type": "code",
   "execution_count": 12,
   "id": "2897938f-a3b1-4b2d-81fe-4269a569cd0a",
   "metadata": {},
   "outputs": [],
   "source": [
    "conditions_similarity = [ label['similarity'] >=80 \n",
    "              ,(label['similarity'] >= 70) & (label['similarity'] < 80)\n",
    "              #,(label['similarity'] >= 66) & (label['similarity'] < 70)\n",
    "              , label['similarity'] < 70 ]"
   ]
  },
  {
   "cell_type": "code",
   "execution_count": 13,
   "id": "44565684-f381-46fe-bac8-866537bab09a",
   "metadata": {},
   "outputs": [],
   "source": [
    "scores_rmsd       = [10, 7, 0]\n",
    "scores_similarity = [10, 7, 0]\n",
    "\n",
    "label['rmsd_weight'] = np.select(conditions_rmsd, scores_rmsd, default=np.nan)\n",
    "label['similarity_weight'] = np.select(conditions_similarity, scores_similarity, default=np.nan)"
   ]
  },
  {
   "cell_type": "code",
   "execution_count": 14,
   "id": "6faf91dd-10c5-44f7-8cc5-94eee3b090b3",
   "metadata": {},
   "outputs": [
    {
     "data": {
      "text/plain": [
       "284"
      ]
     },
     "execution_count": 14,
     "metadata": {},
     "output_type": "execute_result"
    }
   ],
   "source": [
    "label[\"pdb\"].nunique()"
   ]
  },
  {
   "cell_type": "code",
   "execution_count": 15,
   "id": "b81b5aa1-1eb8-49ed-a179-19764ba762b2",
   "metadata": {
    "scrolled": true
   },
   "outputs": [],
   "source": [
    "#label['RMSD'].hist()"
   ]
  },
  {
   "cell_type": "markdown",
   "id": "5fbbbb1e-6937-4d2e-a8b7-7f49490aab88",
   "metadata": {},
   "source": [
    "$$\n",
    "\\frac{{\\text{{score\\_rmsd}} \\times 0.5 + \\text{{score\\_match}} \\times 0.5}}{{20}}\n",
    "$$\n"
   ]
  },
  {
   "cell_type": "code",
   "execution_count": 16,
   "id": "6d31b5b2-1845-4b87-871a-94481e78dcb7",
   "metadata": {},
   "outputs": [],
   "source": [
    "label['weight'] = (label['rmsd_weight']*0.5 + label['similarity_weight']*0.5)/10"
   ]
  },
  {
   "cell_type": "code",
   "execution_count": 17,
   "id": "651f7566-858e-4349-9240-127655285bbc",
   "metadata": {},
   "outputs": [],
   "source": [
    "label[\"label\"] = label[\"weight\"].apply(lambda x: 1 if x > 0.5 else 0)"
   ]
  },
  {
   "cell_type": "code",
   "execution_count": 18,
   "id": "ec5ec75b-9271-47d3-81a9-c451460f56f6",
   "metadata": {},
   "outputs": [
    {
     "data": {
      "text/html": [
       "<div>\n",
       "<style scoped>\n",
       "    .dataframe tbody tr th:only-of-type {\n",
       "        vertical-align: middle;\n",
       "    }\n",
       "\n",
       "    .dataframe tbody tr th {\n",
       "        vertical-align: top;\n",
       "    }\n",
       "\n",
       "    .dataframe thead th {\n",
       "        text-align: right;\n",
       "    }\n",
       "</style>\n",
       "<table border=\"1\" class=\"dataframe\">\n",
       "  <thead>\n",
       "    <tr style=\"text-align: right;\">\n",
       "      <th></th>\n",
       "      <th>pdb</th>\n",
       "      <th>poserank</th>\n",
       "      <th>similarity</th>\n",
       "      <th>RMSD</th>\n",
       "      <th>rmsd_weight</th>\n",
       "      <th>similarity_weight</th>\n",
       "      <th>weight</th>\n",
       "      <th>label</th>\n",
       "    </tr>\n",
       "  </thead>\n",
       "  <tbody>\n",
       "    <tr>\n",
       "      <th>30</th>\n",
       "      <td>1ydr</td>\n",
       "      <td>1</td>\n",
       "      <td>82.089552</td>\n",
       "      <td>0.57</td>\n",
       "      <td>10.0</td>\n",
       "      <td>10.0</td>\n",
       "      <td>1.00</td>\n",
       "      <td>1</td>\n",
       "    </tr>\n",
       "    <tr>\n",
       "      <th>31</th>\n",
       "      <td>1ydr</td>\n",
       "      <td>2</td>\n",
       "      <td>5.970149</td>\n",
       "      <td>3.51</td>\n",
       "      <td>0.0</td>\n",
       "      <td>0.0</td>\n",
       "      <td>0.00</td>\n",
       "      <td>0</td>\n",
       "    </tr>\n",
       "    <tr>\n",
       "      <th>32</th>\n",
       "      <td>1ydr</td>\n",
       "      <td>3</td>\n",
       "      <td>13.432836</td>\n",
       "      <td>2.74</td>\n",
       "      <td>7.0</td>\n",
       "      <td>0.0</td>\n",
       "      <td>0.35</td>\n",
       "      <td>0</td>\n",
       "    </tr>\n",
       "    <tr>\n",
       "      <th>33</th>\n",
       "      <td>1ydr</td>\n",
       "      <td>4</td>\n",
       "      <td>4.477612</td>\n",
       "      <td>3.76</td>\n",
       "      <td>0.0</td>\n",
       "      <td>0.0</td>\n",
       "      <td>0.00</td>\n",
       "      <td>0</td>\n",
       "    </tr>\n",
       "    <tr>\n",
       "      <th>34</th>\n",
       "      <td>1ydr</td>\n",
       "      <td>5</td>\n",
       "      <td>7.462687</td>\n",
       "      <td>3.61</td>\n",
       "      <td>0.0</td>\n",
       "      <td>0.0</td>\n",
       "      <td>0.00</td>\n",
       "      <td>0</td>\n",
       "    </tr>\n",
       "    <tr>\n",
       "      <th>35</th>\n",
       "      <td>1ydr</td>\n",
       "      <td>6</td>\n",
       "      <td>47.761194</td>\n",
       "      <td>2.55</td>\n",
       "      <td>7.0</td>\n",
       "      <td>0.0</td>\n",
       "      <td>0.35</td>\n",
       "      <td>0</td>\n",
       "    </tr>\n",
       "    <tr>\n",
       "      <th>36</th>\n",
       "      <td>1ydr</td>\n",
       "      <td>7</td>\n",
       "      <td>5.970149</td>\n",
       "      <td>3.78</td>\n",
       "      <td>0.0</td>\n",
       "      <td>0.0</td>\n",
       "      <td>0.00</td>\n",
       "      <td>0</td>\n",
       "    </tr>\n",
       "    <tr>\n",
       "      <th>37</th>\n",
       "      <td>1ydr</td>\n",
       "      <td>8</td>\n",
       "      <td>1.492537</td>\n",
       "      <td>10.13</td>\n",
       "      <td>0.0</td>\n",
       "      <td>0.0</td>\n",
       "      <td>0.00</td>\n",
       "      <td>0</td>\n",
       "    </tr>\n",
       "    <tr>\n",
       "      <th>38</th>\n",
       "      <td>1ydr</td>\n",
       "      <td>9</td>\n",
       "      <td>26.865672</td>\n",
       "      <td>2.14</td>\n",
       "      <td>7.0</td>\n",
       "      <td>0.0</td>\n",
       "      <td>0.35</td>\n",
       "      <td>0</td>\n",
       "    </tr>\n",
       "    <tr>\n",
       "      <th>39</th>\n",
       "      <td>1ydr</td>\n",
       "      <td>10</td>\n",
       "      <td>0.000000</td>\n",
       "      <td>3.77</td>\n",
       "      <td>0.0</td>\n",
       "      <td>0.0</td>\n",
       "      <td>0.00</td>\n",
       "      <td>0</td>\n",
       "    </tr>\n",
       "  </tbody>\n",
       "</table>\n",
       "</div>"
      ],
      "text/plain": [
       "     pdb  poserank  similarity   RMSD  rmsd_weight  similarity_weight  weight  \\\n",
       "30  1ydr         1   82.089552   0.57         10.0               10.0    1.00   \n",
       "31  1ydr         2    5.970149   3.51          0.0                0.0    0.00   \n",
       "32  1ydr         3   13.432836   2.74          7.0                0.0    0.35   \n",
       "33  1ydr         4    4.477612   3.76          0.0                0.0    0.00   \n",
       "34  1ydr         5    7.462687   3.61          0.0                0.0    0.00   \n",
       "35  1ydr         6   47.761194   2.55          7.0                0.0    0.35   \n",
       "36  1ydr         7    5.970149   3.78          0.0                0.0    0.00   \n",
       "37  1ydr         8    1.492537  10.13          0.0                0.0    0.00   \n",
       "38  1ydr         9   26.865672   2.14          7.0                0.0    0.35   \n",
       "39  1ydr        10    0.000000   3.77          0.0                0.0    0.00   \n",
       "\n",
       "    label  \n",
       "30      1  \n",
       "31      0  \n",
       "32      0  \n",
       "33      0  \n",
       "34      0  \n",
       "35      0  \n",
       "36      0  \n",
       "37      0  \n",
       "38      0  \n",
       "39      0  "
      ]
     },
     "execution_count": 18,
     "metadata": {},
     "output_type": "execute_result"
    }
   ],
   "source": [
    "label[label['pdb'] == \"1ydr\"]"
   ]
  },
  {
   "cell_type": "code",
   "execution_count": 19,
   "id": "6ebe0fac-2213-4f0c-a857-c433b3c3d224",
   "metadata": {},
   "outputs": [
    {
     "data": {
      "text/html": [
       "<div>\n",
       "<style scoped>\n",
       "    .dataframe tbody tr th:only-of-type {\n",
       "        vertical-align: middle;\n",
       "    }\n",
       "\n",
       "    .dataframe tbody tr th {\n",
       "        vertical-align: top;\n",
       "    }\n",
       "\n",
       "    .dataframe thead th {\n",
       "        text-align: right;\n",
       "    }\n",
       "</style>\n",
       "<table border=\"1\" class=\"dataframe\">\n",
       "  <thead>\n",
       "    <tr style=\"text-align: right;\">\n",
       "      <th></th>\n",
       "      <th>pdb</th>\n",
       "      <th>poserank</th>\n",
       "      <th>similarity</th>\n",
       "      <th>RMSD</th>\n",
       "      <th>rmsd_weight</th>\n",
       "      <th>similarity_weight</th>\n",
       "      <th>weight</th>\n",
       "      <th>label</th>\n",
       "    </tr>\n",
       "  </thead>\n",
       "  <tbody>\n",
       "    <tr>\n",
       "      <th>0</th>\n",
       "      <td>4eor</td>\n",
       "      <td>1</td>\n",
       "      <td>14.545455</td>\n",
       "      <td>4.34</td>\n",
       "      <td>0.0</td>\n",
       "      <td>0.0</td>\n",
       "      <td>0.00</td>\n",
       "      <td>0</td>\n",
       "    </tr>\n",
       "    <tr>\n",
       "      <th>1</th>\n",
       "      <td>4eor</td>\n",
       "      <td>2</td>\n",
       "      <td>74.545455</td>\n",
       "      <td>1.16</td>\n",
       "      <td>10.0</td>\n",
       "      <td>7.0</td>\n",
       "      <td>0.85</td>\n",
       "      <td>1</td>\n",
       "    </tr>\n",
       "    <tr>\n",
       "      <th>2</th>\n",
       "      <td>4eor</td>\n",
       "      <td>3</td>\n",
       "      <td>7.272727</td>\n",
       "      <td>4.94</td>\n",
       "      <td>0.0</td>\n",
       "      <td>0.0</td>\n",
       "      <td>0.00</td>\n",
       "      <td>0</td>\n",
       "    </tr>\n",
       "    <tr>\n",
       "      <th>3</th>\n",
       "      <td>4eor</td>\n",
       "      <td>4</td>\n",
       "      <td>6.363636</td>\n",
       "      <td>4.92</td>\n",
       "      <td>0.0</td>\n",
       "      <td>0.0</td>\n",
       "      <td>0.00</td>\n",
       "      <td>0</td>\n",
       "    </tr>\n",
       "    <tr>\n",
       "      <th>4</th>\n",
       "      <td>4eor</td>\n",
       "      <td>5</td>\n",
       "      <td>18.181818</td>\n",
       "      <td>6.54</td>\n",
       "      <td>0.0</td>\n",
       "      <td>0.0</td>\n",
       "      <td>0.00</td>\n",
       "      <td>0</td>\n",
       "    </tr>\n",
       "  </tbody>\n",
       "</table>\n",
       "</div>"
      ],
      "text/plain": [
       "    pdb  poserank  similarity  RMSD  rmsd_weight  similarity_weight  weight  \\\n",
       "0  4eor         1   14.545455  4.34          0.0                0.0    0.00   \n",
       "1  4eor         2   74.545455  1.16         10.0                7.0    0.85   \n",
       "2  4eor         3    7.272727  4.94          0.0                0.0    0.00   \n",
       "3  4eor         4    6.363636  4.92          0.0                0.0    0.00   \n",
       "4  4eor         5   18.181818  6.54          0.0                0.0    0.00   \n",
       "\n",
       "   label  \n",
       "0      0  \n",
       "1      1  \n",
       "2      0  \n",
       "3      0  \n",
       "4      0  "
      ]
     },
     "execution_count": 19,
     "metadata": {},
     "output_type": "execute_result"
    }
   ],
   "source": [
    "label.head()"
   ]
  },
  {
   "cell_type": "code",
   "execution_count": 20,
   "id": "9a13f99a-702d-4878-a303-732d80bf761a",
   "metadata": {},
   "outputs": [
    {
     "data": {
      "image/png": "[encoded data removed]",
      "text/plain": [
       "<Figure size 640x480 with 1 Axes>"
      ]
     },
     "metadata": {},
     "output_type": "display_data"
    }
   ],
   "source": [
    "import seaborn as sns\n",
    "import matplotlib.pyplot as plt\n",
    "\n",
    "# Set the style for the plot\n",
    "sns.set(style=\"whitegrid\")\n",
    "\n",
    "# Create a figure and axis\n",
    "fig, ax = plt.subplots()\n",
    "\n",
    "# Plot density plots for each class with increased transparency\n",
    "sns.kdeplot(data=label[label['label'] == 0], x='similarity', fill=True, color='darkblue', alpha=0.3, ax=ax, label='0')\n",
    "sns.kdeplot(data=label[label['label'] == 1], x='similarity', fill=True, color='pink', alpha=0.3, ax=ax, label='1')\n",
    "\n",
    "# Show the legend\n",
    "ax.legend()\n",
    "\n",
    "# Display the plot\n",
    "plt.show()\n"
   ]
  },
  {
   "cell_type": "code",
   "execution_count": 21,
   "id": "63bd81d7-5d91-447e-934d-9927d4ca7ade",
   "metadata": {},
   "outputs": [
    {
     "data": {
      "image/png": "[encoded data removed]",
      "text/plain": [
       "<Figure size 640x480 with 1 Axes>"
      ]
     },
     "metadata": {},
     "output_type": "display_data"
    }
   ],
   "source": [
    "import seaborn as sns\n",
    "import matplotlib.pyplot as plt\n",
    "\n",
    "# Set the style for the plot\n",
    "sns.set(style=\"whitegrid\")\n",
    "\n",
    "# Create a figure and axis\n",
    "fig, ax = plt.subplots()\n",
    "\n",
    "# Plot density plots for each class with increased transparency\n",
    "sns.kdeplot(data=label[label['label'] == 0], x='RMSD', fill=True, color='darkblue', alpha=0.3, ax=ax, label='0')\n",
    "sns.kdeplot(data=label[label['label'] == 1], x='RMSD', fill=True, color='pink', alpha=0.3, ax=ax, label='1')\n",
    "\n",
    "# Show the legend\n",
    "ax.legend()\n",
    "\n",
    "# Display the plot\n",
    "plt.show()\n"
   ]
  },
  {
   "cell_type": "code",
   "execution_count": 22,
   "id": "7979e5a9-aca8-400f-bc0b-35c0b30587eb",
   "metadata": {},
   "outputs": [
    {
     "data": {
      "text/plain": [
       "0    2633\n",
       "1     207\n",
       "Name: label, dtype: int64"
      ]
     },
     "execution_count": 22,
     "metadata": {},
     "output_type": "execute_result"
    }
   ],
   "source": [
    "label['label'].value_counts()"
   ]
  },
  {
   "cell_type": "markdown",
   "id": "0a851b22-7693-41c3-b686-5680b8edefe9",
   "metadata": {},
   "source": [
    "    0    8570\n",
    "    1    4575\n",
    "    Name: label, dtype: int64"
   ]
  },
  {
   "cell_type": "code",
   "execution_count": 23,
   "id": "741c5a60-4b27-43b2-88b4-58186eebb30a",
   "metadata": {},
   "outputs": [
    {
     "data": {
      "text/plain": [
       "2840"
      ]
     },
     "execution_count": 23,
     "metadata": {},
     "output_type": "execute_result"
    }
   ],
   "source": [
    "len(label['label'])"
   ]
  },
  {
   "cell_type": "code",
   "execution_count": 24,
   "id": "176f0c1b-dbca-4eef-8528-5f54b9a5cb9f",
   "metadata": {},
   "outputs": [
    {
     "data": {
      "text/plain": [
       "284"
      ]
     },
     "execution_count": 24,
     "metadata": {},
     "output_type": "execute_result"
    }
   ],
   "source": [
    "label['pdb'].nunique()"
   ]
  },
  {
   "cell_type": "code",
   "execution_count": 26,
   "id": "3c3f4f00-4b6e-4167-b366-a5595c3c9734",
   "metadata": {},
   "outputs": [
    {
     "data": {
      "text/plain": [
       "0    0.927113\n",
       "1    0.072887\n",
       "Name: label, dtype: float64"
      ]
     },
     "execution_count": 26,
     "metadata": {},
     "output_type": "execute_result"
    }
   ],
   "source": [
    "label['label'].value_counts(1)"
   ]
  },
  {
   "cell_type": "markdown",
   "id": "852f0714-fe5b-42e1-b0a0-968d2a2db917",
   "metadata": {},
   "source": [
    "#### Creating dict "
   ]
  },
  {
   "cell_type": "code",
   "execution_count": 121,
   "id": "26d41aff-4347-4a61-8f09-4f792f561032",
   "metadata": {},
   "outputs": [],
   "source": [
    "# Create the nested dictionary\n",
    "result_dict = {}\n",
    "for index, row in label.iterrows():\n",
    "    pdb = row['pdb']\n",
    "    poserank = row['poserank']\n",
    "    label = row['label']\n",
    "    \n",
    "    if pdb not in result_dict:\n",
    "        result_dict[pdb] = {}\n",
    "    \n",
    "    result_dict[pdb][poserank] = label"
   ]
  },
  {
   "cell_type": "code",
   "execution_count": 122,
   "id": "f7229cd9-c104-4d5b-a0ea-aa54fd8954c8",
   "metadata": {},
   "outputs": [
    {
     "name": "stdout",
     "output_type": "stream",
     "text": [
      "label.json saved at: ../Datahub/Data\n"
     ]
    }
   ],
   "source": [
    "print(\"label.json saved at:\", config.data)"
   ]
  },
  {
   "cell_type": "code",
   "execution_count": 123,
   "id": "d7acd202-1093-48f3-970f-0a6846b63b8f",
   "metadata": {},
   "outputs": [],
   "source": [
    "# Assuming result_dict is your dictionary\n",
    "with open(f\"{config.data}/label.json\", \"w\") as json_file:\n",
    "    json.dump(result_dict, json_file)"
   ]
  },
  {
   "cell_type": "code",
   "execution_count": 124,
   "id": "7acd2ee4-66a2-49e7-b9d8-794123ce4e3a",
   "metadata": {},
   "outputs": [],
   "source": [
    "# Assuming result_dict is your dictionary\n",
    "with open(f\"{config.data}/label.json\", \"r\") as json_file:\n",
    "    result = json_file.read()"
   ]
  },
  {
   "cell_type": "code",
   "execution_count": 125,
   "id": "a83ca4ca-5047-4c45-9ee1-8eb4850a6a80",
   "metadata": {},
   "outputs": [],
   "source": [
    "result = pd.read_json(f\"{config.data}/label.json\")"
   ]
  },
  {
   "cell_type": "code",
   "execution_count": 126,
   "id": "80feb459-0ba3-466a-82f5-28db01f8282e",
   "metadata": {},
   "outputs": [
    {
     "data": {
      "text/html": [
       "<div>\n",
       "<style scoped>\n",
       "    .dataframe tbody tr th:only-of-type {\n",
       "        vertical-align: middle;\n",
       "    }\n",
       "\n",
       "    .dataframe tbody tr th {\n",
       "        vertical-align: top;\n",
       "    }\n",
       "\n",
       "    .dataframe thead th {\n",
       "        text-align: right;\n",
       "    }\n",
       "</style>\n",
       "<table border=\"1\" class=\"dataframe\">\n",
       "  <thead>\n",
       "    <tr style=\"text-align: right;\">\n",
       "      <th></th>\n",
       "      <th>2qbq</th>\n",
       "      <th>1ydr</th>\n",
       "      <th>3b68</th>\n",
       "      <th>1owh</th>\n",
       "      <th>2vw5</th>\n",
       "      <th>2fxs</th>\n",
       "      <th>2cet</th>\n",
       "      <th>1ydt</th>\n",
       "      <th>2fvd</th>\n",
       "      <th>3ao4</th>\n",
       "      <th>...</th>\n",
       "      <th>1bzc</th>\n",
       "      <th>1bcu</th>\n",
       "      <th>1s38</th>\n",
       "      <th>2yfe</th>\n",
       "      <th>2wvt</th>\n",
       "      <th>2w66</th>\n",
       "      <th>1h23</th>\n",
       "      <th>2xb8</th>\n",
       "      <th>1z6e</th>\n",
       "      <th>3bgz</th>\n",
       "    </tr>\n",
       "  </thead>\n",
       "  <tbody>\n",
       "    <tr>\n",
       "      <th>1</th>\n",
       "      <td>0</td>\n",
       "      <td>1</td>\n",
       "      <td>0</td>\n",
       "      <td>0</td>\n",
       "      <td>1</td>\n",
       "      <td>0</td>\n",
       "      <td>0</td>\n",
       "      <td>0</td>\n",
       "      <td>0</td>\n",
       "      <td>0</td>\n",
       "      <td>...</td>\n",
       "      <td>1</td>\n",
       "      <td>1</td>\n",
       "      <td>1</td>\n",
       "      <td>0</td>\n",
       "      <td>1</td>\n",
       "      <td>1</td>\n",
       "      <td>0</td>\n",
       "      <td>1</td>\n",
       "      <td>1</td>\n",
       "      <td>0</td>\n",
       "    </tr>\n",
       "    <tr>\n",
       "      <th>2</th>\n",
       "      <td>1</td>\n",
       "      <td>0</td>\n",
       "      <td>1</td>\n",
       "      <td>0</td>\n",
       "      <td>0</td>\n",
       "      <td>0</td>\n",
       "      <td>0</td>\n",
       "      <td>0</td>\n",
       "      <td>0</td>\n",
       "      <td>0</td>\n",
       "      <td>...</td>\n",
       "      <td>0</td>\n",
       "      <td>0</td>\n",
       "      <td>0</td>\n",
       "      <td>0</td>\n",
       "      <td>0</td>\n",
       "      <td>0</td>\n",
       "      <td>0</td>\n",
       "      <td>1</td>\n",
       "      <td>1</td>\n",
       "      <td>0</td>\n",
       "    </tr>\n",
       "    <tr>\n",
       "      <th>3</th>\n",
       "      <td>0</td>\n",
       "      <td>0</td>\n",
       "      <td>0</td>\n",
       "      <td>0</td>\n",
       "      <td>0</td>\n",
       "      <td>0</td>\n",
       "      <td>0</td>\n",
       "      <td>0</td>\n",
       "      <td>0</td>\n",
       "      <td>0</td>\n",
       "      <td>...</td>\n",
       "      <td>0</td>\n",
       "      <td>0</td>\n",
       "      <td>0</td>\n",
       "      <td>0</td>\n",
       "      <td>0</td>\n",
       "      <td>0</td>\n",
       "      <td>0</td>\n",
       "      <td>0</td>\n",
       "      <td>0</td>\n",
       "      <td>0</td>\n",
       "    </tr>\n",
       "    <tr>\n",
       "      <th>4</th>\n",
       "      <td>0</td>\n",
       "      <td>0</td>\n",
       "      <td>0</td>\n",
       "      <td>0</td>\n",
       "      <td>0</td>\n",
       "      <td>0</td>\n",
       "      <td>0</td>\n",
       "      <td>0</td>\n",
       "      <td>0</td>\n",
       "      <td>0</td>\n",
       "      <td>...</td>\n",
       "      <td>0</td>\n",
       "      <td>0</td>\n",
       "      <td>0</td>\n",
       "      <td>0</td>\n",
       "      <td>0</td>\n",
       "      <td>0</td>\n",
       "      <td>0</td>\n",
       "      <td>0</td>\n",
       "      <td>0</td>\n",
       "      <td>0</td>\n",
       "    </tr>\n",
       "    <tr>\n",
       "      <th>5</th>\n",
       "      <td>0</td>\n",
       "      <td>0</td>\n",
       "      <td>0</td>\n",
       "      <td>0</td>\n",
       "      <td>0</td>\n",
       "      <td>0</td>\n",
       "      <td>1</td>\n",
       "      <td>0</td>\n",
       "      <td>0</td>\n",
       "      <td>0</td>\n",
       "      <td>...</td>\n",
       "      <td>0</td>\n",
       "      <td>0</td>\n",
       "      <td>0</td>\n",
       "      <td>0</td>\n",
       "      <td>0</td>\n",
       "      <td>0</td>\n",
       "      <td>0</td>\n",
       "      <td>0</td>\n",
       "      <td>0</td>\n",
       "      <td>0</td>\n",
       "    </tr>\n",
       "    <tr>\n",
       "      <th>6</th>\n",
       "      <td>0</td>\n",
       "      <td>0</td>\n",
       "      <td>0</td>\n",
       "      <td>0</td>\n",
       "      <td>0</td>\n",
       "      <td>0</td>\n",
       "      <td>0</td>\n",
       "      <td>0</td>\n",
       "      <td>0</td>\n",
       "      <td>0</td>\n",
       "      <td>...</td>\n",
       "      <td>0</td>\n",
       "      <td>0</td>\n",
       "      <td>0</td>\n",
       "      <td>0</td>\n",
       "      <td>0</td>\n",
       "      <td>0</td>\n",
       "      <td>0</td>\n",
       "      <td>0</td>\n",
       "      <td>0</td>\n",
       "      <td>0</td>\n",
       "    </tr>\n",
       "    <tr>\n",
       "      <th>7</th>\n",
       "      <td>0</td>\n",
       "      <td>0</td>\n",
       "      <td>0</td>\n",
       "      <td>0</td>\n",
       "      <td>0</td>\n",
       "      <td>0</td>\n",
       "      <td>1</td>\n",
       "      <td>0</td>\n",
       "      <td>0</td>\n",
       "      <td>0</td>\n",
       "      <td>...</td>\n",
       "      <td>0</td>\n",
       "      <td>0</td>\n",
       "      <td>0</td>\n",
       "      <td>0</td>\n",
       "      <td>0</td>\n",
       "      <td>0</td>\n",
       "      <td>0</td>\n",
       "      <td>0</td>\n",
       "      <td>0</td>\n",
       "      <td>0</td>\n",
       "    </tr>\n",
       "    <tr>\n",
       "      <th>8</th>\n",
       "      <td>0</td>\n",
       "      <td>0</td>\n",
       "      <td>0</td>\n",
       "      <td>0</td>\n",
       "      <td>0</td>\n",
       "      <td>0</td>\n",
       "      <td>0</td>\n",
       "      <td>0</td>\n",
       "      <td>0</td>\n",
       "      <td>0</td>\n",
       "      <td>...</td>\n",
       "      <td>0</td>\n",
       "      <td>0</td>\n",
       "      <td>0</td>\n",
       "      <td>0</td>\n",
       "      <td>0</td>\n",
       "      <td>0</td>\n",
       "      <td>0</td>\n",
       "      <td>0</td>\n",
       "      <td>0</td>\n",
       "      <td>0</td>\n",
       "    </tr>\n",
       "    <tr>\n",
       "      <th>9</th>\n",
       "      <td>0</td>\n",
       "      <td>0</td>\n",
       "      <td>0</td>\n",
       "      <td>0</td>\n",
       "      <td>0</td>\n",
       "      <td>0</td>\n",
       "      <td>0</td>\n",
       "      <td>0</td>\n",
       "      <td>0</td>\n",
       "      <td>0</td>\n",
       "      <td>...</td>\n",
       "      <td>0</td>\n",
       "      <td>0</td>\n",
       "      <td>0</td>\n",
       "      <td>0</td>\n",
       "      <td>0</td>\n",
       "      <td>0</td>\n",
       "      <td>0</td>\n",
       "      <td>0</td>\n",
       "      <td>0</td>\n",
       "      <td>0</td>\n",
       "    </tr>\n",
       "    <tr>\n",
       "      <th>10</th>\n",
       "      <td>0</td>\n",
       "      <td>0</td>\n",
       "      <td>0</td>\n",
       "      <td>0</td>\n",
       "      <td>0</td>\n",
       "      <td>0</td>\n",
       "      <td>0</td>\n",
       "      <td>0</td>\n",
       "      <td>0</td>\n",
       "      <td>0</td>\n",
       "      <td>...</td>\n",
       "      <td>0</td>\n",
       "      <td>0</td>\n",
       "      <td>0</td>\n",
       "      <td>0</td>\n",
       "      <td>0</td>\n",
       "      <td>0</td>\n",
       "      <td>0</td>\n",
       "      <td>0</td>\n",
       "      <td>0</td>\n",
       "      <td>0</td>\n",
       "    </tr>\n",
       "  </tbody>\n",
       "</table>\n",
       "<p>10 rows × 40 columns</p>\n",
       "</div>"
      ],
      "text/plain": [
       "    2qbq  1ydr  3b68  1owh  2vw5  2fxs  2cet  1ydt  2fvd  3ao4  ...  1bzc  \\\n",
       "1      0     1     0     0     1     0     0     0     0     0  ...     1   \n",
       "2      1     0     1     0     0     0     0     0     0     0  ...     0   \n",
       "3      0     0     0     0     0     0     0     0     0     0  ...     0   \n",
       "4      0     0     0     0     0     0     0     0     0     0  ...     0   \n",
       "5      0     0     0     0     0     0     1     0     0     0  ...     0   \n",
       "6      0     0     0     0     0     0     0     0     0     0  ...     0   \n",
       "7      0     0     0     0     0     0     1     0     0     0  ...     0   \n",
       "8      0     0     0     0     0     0     0     0     0     0  ...     0   \n",
       "9      0     0     0     0     0     0     0     0     0     0  ...     0   \n",
       "10     0     0     0     0     0     0     0     0     0     0  ...     0   \n",
       "\n",
       "    1bcu  1s38  2yfe  2wvt  2w66  1h23  2xb8  1z6e  3bgz  \n",
       "1      1     1     0     1     1     0     1     1     0  \n",
       "2      0     0     0     0     0     0     1     1     0  \n",
       "3      0     0     0     0     0     0     0     0     0  \n",
       "4      0     0     0     0     0     0     0     0     0  \n",
       "5      0     0     0     0     0     0     0     0     0  \n",
       "6      0     0     0     0     0     0     0     0     0  \n",
       "7      0     0     0     0     0     0     0     0     0  \n",
       "8      0     0     0     0     0     0     0     0     0  \n",
       "9      0     0     0     0     0     0     0     0     0  \n",
       "10     0     0     0     0     0     0     0     0     0  \n",
       "\n",
       "[10 rows x 40 columns]"
      ]
     },
     "execution_count": 126,
     "metadata": {},
     "output_type": "execute_result"
    }
   ],
   "source": [
    "result"
   ]
  },
  {
   "cell_type": "markdown",
   "id": "a13e732e-1d98-44da-acf0-2e90101a7566",
   "metadata": {},
   "source": [
    "#### Report "
   ]
  },
  {
   "cell_type": "markdown",
   "id": "49224801-c2d3-4665-80fe-7e9ee9a6f896",
   "metadata": {},
   "source": [
    "| score | rmsd |\n",
    "|-------|------|\n",
    "| rmsd < 2 | -10 |\n",
    "| 2 < rmsd < 3 | -7 |\n",
    "| rmsd > 3 | 0 |\n",
    "\n",
    "| score | match |\n",
    "|-------|-------|\n",
    "| > 80 | -10 |\n",
    "| >= 70 | -7 |\n",
    "| < 70 | 0| \n",
    "\n"
   ]
  },
  {
   "cell_type": "markdown",
   "id": "6a32fe64-a57a-421f-a5b1-7e134a2b1e2a",
   "metadata": {},
   "source": [
    "| Caso | PDB   | pose | similarity | rmsd | w_rmsd | w_similarity |\n",
    "|------|-------|------|------------|------|--------|--------------|\n",
    "| 1    | 2qbq  | 1    | 59.854015  | 1.15 | 10.0   | 0.0          |\n",
    "| 2    | 2qbp  | 10   | 0.0        | 1.73 | -      | -            |\n",
    "| 3    | 1ydr  | 10   | 0.0        | 2.17 | -      | -            |\n",
    "| 4    | 1bzc  | 10   | 0.0        | 1.64 | -      | -            |\n"
   ]
  }
 ],
 "metadata": {
  "kernelspec": {
   "display_name": "master_37",
   "language": "python",
   "name": "master_37"
  },
  "language_info": {
   "codemirror_mode": {
    "name": "ipython",
    "version": 3
   },
   "file_extension": ".py",
   "mimetype": "text/x-python",
   "name": "python",
   "nbconvert_exporter": "python",
   "pygments_lexer": "ipython3",
   "version": "3.7.16"
  }
 },
 "nbformat": 4,
 "nbformat_minor": 5
}
