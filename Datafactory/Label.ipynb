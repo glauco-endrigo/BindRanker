{
 "cells": [
  {
   "cell_type": "code",
   "execution_count": 83,
   "id": "2979e6d0",
   "metadata": {},
   "outputs": [],
   "source": [
    "import pandas as pd\n",
    "import os\n",
    "import torch\n",
    "import json\n",
    "import numpy as np"
   ]
  },
  {
   "cell_type": "code",
   "execution_count": 84,
   "id": "e8f88bc3-295f-45e2-9e6d-9bcb76181667",
   "metadata": {},
   "outputs": [],
   "source": [
    "%run ../Config.ipynb"
   ]
  },
  {
   "cell_type": "code",
   "execution_count": 85,
   "id": "8f9c8dc5-b80d-4914-aaca-b1e7e5ad486d",
   "metadata": {},
   "outputs": [],
   "source": [
    "config = Config()"
   ]
  },
  {
   "cell_type": "markdown",
   "id": "008cc102-6cd2-47ae-b4ff-4d681b846a1c",
   "metadata": {},
   "source": [
    "#### Rmsd's "
   ]
  },
  {
   "cell_type": "code",
   "execution_count": 86,
   "id": "bcd636aa-87e7-49da-998c-65b140036a52",
   "metadata": {},
   "outputs": [],
   "source": [
    "file_name_rmsd = 'rmsd'\n",
    "#file_name_rmsd = \"rmsd_refined_set\""
   ]
  },
  {
   "cell_type": "code",
   "execution_count": 87,
   "id": "f50b2c24",
   "metadata": {},
   "outputs": [
    {
     "data": {
      "text/html": [
       "<div>\n",
       "<style scoped>\n",
       "    .dataframe tbody tr th:only-of-type {\n",
       "        vertical-align: middle;\n",
       "    }\n",
       "\n",
       "    .dataframe tbody tr th {\n",
       "        vertical-align: top;\n",
       "    }\n",
       "\n",
       "    .dataframe thead th {\n",
       "        text-align: right;\n",
       "    }\n",
       "</style>\n",
       "<table border=\"1\" class=\"dataframe\">\n",
       "  <thead>\n",
       "    <tr style=\"text-align: right;\">\n",
       "      <th></th>\n",
       "      <th>poserank_count</th>\n",
       "      <th>unique_pdb_count</th>\n",
       "    </tr>\n",
       "  </thead>\n",
       "  <tbody>\n",
       "    <tr>\n",
       "      <th>4</th>\n",
       "      <td>1</td>\n",
       "      <td>7</td>\n",
       "    </tr>\n",
       "    <tr>\n",
       "      <th>111</th>\n",
       "      <td>2</td>\n",
       "      <td>3</td>\n",
       "    </tr>\n",
       "    <tr>\n",
       "      <th>58</th>\n",
       "      <td>3</td>\n",
       "      <td>4</td>\n",
       "    </tr>\n",
       "    <tr>\n",
       "      <th>42</th>\n",
       "      <td>4</td>\n",
       "      <td>3</td>\n",
       "    </tr>\n",
       "    <tr>\n",
       "      <th>128</th>\n",
       "      <td>5</td>\n",
       "      <td>6</td>\n",
       "    </tr>\n",
       "    <tr>\n",
       "      <th>92</th>\n",
       "      <td>6</td>\n",
       "      <td>6</td>\n",
       "    </tr>\n",
       "    <tr>\n",
       "      <th>28</th>\n",
       "      <td>7</td>\n",
       "      <td>5</td>\n",
       "    </tr>\n",
       "    <tr>\n",
       "      <th>9</th>\n",
       "      <td>8</td>\n",
       "      <td>5</td>\n",
       "    </tr>\n",
       "    <tr>\n",
       "      <th>7</th>\n",
       "      <td>9</td>\n",
       "      <td>51</td>\n",
       "    </tr>\n",
       "    <tr>\n",
       "      <th>0</th>\n",
       "      <td>10</td>\n",
       "      <td>190</td>\n",
       "    </tr>\n",
       "  </tbody>\n",
       "</table>\n",
       "</div>"
      ],
      "text/plain": [
       "     poserank_count  unique_pdb_count\n",
       "4                 1                 7\n",
       "111               2                 3\n",
       "58                3                 4\n",
       "42                4                 3\n",
       "128               5                 6\n",
       "92                6                 6\n",
       "28                7                 5\n",
       "9                 8                 5\n",
       "7                 9                51\n",
       "0                10               190"
      ]
     },
     "execution_count": 87,
     "metadata": {},
     "output_type": "execute_result"
    }
   ],
   "source": [
    "rmsd = pd.read_csv(f\"{config.data}/{file_name_rmsd}.csv\").sort_values(['pdb','poserank','RMSD']).drop_duplicates(['pdb','poserank'], keep = 'first')\n",
    "\n",
    "sup = rmsd.groupby('pdb')[['poserank']].count().reset_index().rename(columns = {\"poserank\":\"poserank_count\"})\n",
    "sup['unique_pdb_count'] = sup.groupby('poserank_count')['pdb'].transform('nunique')\n",
    "sup.drop(columns = ['pdb']).drop_duplicates().sort_values('poserank_count')"
   ]
  },
  {
   "cell_type": "code",
   "execution_count": 88,
   "id": "5d64dc71-cde4-4c52-9b97-0eae8f173206",
   "metadata": {},
   "outputs": [
    {
     "data": {
      "text/plain": [
       "280"
      ]
     },
     "execution_count": 88,
     "metadata": {},
     "output_type": "execute_result"
    }
   ],
   "source": [
    "rmsd['pdb'].nunique()"
   ]
  },
  {
   "cell_type": "markdown",
   "id": "2fc27bee-eefb-4e4c-8dcd-29f39c843c1f",
   "metadata": {},
   "source": [
    "Obs: There is one pdb missing!"
   ]
  },
  {
   "cell_type": "code",
   "execution_count": 89,
   "id": "41dc65bd-912d-4ce6-a922-a8bbb3b852b2",
   "metadata": {},
   "outputs": [
    {
     "data": {
      "text/plain": [
       "2     1\n",
       "3     1\n",
       "5     1\n",
       "6     1\n",
       "8     1\n",
       "9     1\n",
       "10    1\n",
       "Name: poserank, dtype: int64"
      ]
     },
     "execution_count": 89,
     "metadata": {},
     "output_type": "execute_result"
    }
   ],
   "source": [
    "rmsd[rmsd['pdb'] == \"4kz6\"]['poserank'].value_counts()"
   ]
  },
  {
   "cell_type": "code",
   "execution_count": 90,
   "id": "d278d1e8-445c-425a-bfc5-80022fb05fa1",
   "metadata": {},
   "outputs": [
    {
     "data": {
      "text/html": [
       "<div>\n",
       "<style scoped>\n",
       "    .dataframe tbody tr th:only-of-type {\n",
       "        vertical-align: middle;\n",
       "    }\n",
       "\n",
       "    .dataframe tbody tr th {\n",
       "        vertical-align: top;\n",
       "    }\n",
       "\n",
       "    .dataframe thead th {\n",
       "        text-align: right;\n",
       "    }\n",
       "</style>\n",
       "<table border=\"1\" class=\"dataframe\">\n",
       "  <thead>\n",
       "    <tr style=\"text-align: right;\">\n",
       "      <th></th>\n",
       "      <th>pdb</th>\n",
       "      <th>poserank</th>\n",
       "      <th>RMSD</th>\n",
       "    </tr>\n",
       "  </thead>\n",
       "  <tbody>\n",
       "  </tbody>\n",
       "</table>\n",
       "</div>"
      ],
      "text/plain": [
       "Empty DataFrame\n",
       "Columns: [pdb, poserank, RMSD]\n",
       "Index: []"
      ]
     },
     "execution_count": 90,
     "metadata": {},
     "output_type": "execute_result"
    }
   ],
   "source": [
    "rmsd[rmsd['pdb'] =='185l'].sort_values('poserank')"
   ]
  },
  {
   "cell_type": "code",
   "execution_count": 91,
   "id": "3d12436f-8800-4c71-b5be-acdb14b31ee4",
   "metadata": {},
   "outputs": [
    {
     "data": {
      "text/html": [
       "<div>\n",
       "<style scoped>\n",
       "    .dataframe tbody tr th:only-of-type {\n",
       "        vertical-align: middle;\n",
       "    }\n",
       "\n",
       "    .dataframe tbody tr th {\n",
       "        vertical-align: top;\n",
       "    }\n",
       "\n",
       "    .dataframe thead th {\n",
       "        text-align: right;\n",
       "    }\n",
       "</style>\n",
       "<table border=\"1\" class=\"dataframe\">\n",
       "  <thead>\n",
       "    <tr style=\"text-align: right;\">\n",
       "      <th></th>\n",
       "      <th>poserank_count</th>\n",
       "      <th>unique_pdb_count</th>\n",
       "    </tr>\n",
       "  </thead>\n",
       "  <tbody>\n",
       "    <tr>\n",
       "      <th>4</th>\n",
       "      <td>1</td>\n",
       "      <td>7</td>\n",
       "    </tr>\n",
       "    <tr>\n",
       "      <th>111</th>\n",
       "      <td>2</td>\n",
       "      <td>3</td>\n",
       "    </tr>\n",
       "    <tr>\n",
       "      <th>58</th>\n",
       "      <td>3</td>\n",
       "      <td>4</td>\n",
       "    </tr>\n",
       "    <tr>\n",
       "      <th>42</th>\n",
       "      <td>4</td>\n",
       "      <td>3</td>\n",
       "    </tr>\n",
       "    <tr>\n",
       "      <th>128</th>\n",
       "      <td>5</td>\n",
       "      <td>6</td>\n",
       "    </tr>\n",
       "    <tr>\n",
       "      <th>92</th>\n",
       "      <td>6</td>\n",
       "      <td>6</td>\n",
       "    </tr>\n",
       "    <tr>\n",
       "      <th>28</th>\n",
       "      <td>7</td>\n",
       "      <td>5</td>\n",
       "    </tr>\n",
       "    <tr>\n",
       "      <th>9</th>\n",
       "      <td>8</td>\n",
       "      <td>5</td>\n",
       "    </tr>\n",
       "    <tr>\n",
       "      <th>7</th>\n",
       "      <td>9</td>\n",
       "      <td>51</td>\n",
       "    </tr>\n",
       "    <tr>\n",
       "      <th>0</th>\n",
       "      <td>10</td>\n",
       "      <td>190</td>\n",
       "    </tr>\n",
       "  </tbody>\n",
       "</table>\n",
       "</div>"
      ],
      "text/plain": [
       "     poserank_count  unique_pdb_count\n",
       "4                 1                 7\n",
       "111               2                 3\n",
       "58                3                 4\n",
       "42                4                 3\n",
       "128               5                 6\n",
       "92                6                 6\n",
       "28                7                 5\n",
       "9                 8                 5\n",
       "7                 9                51\n",
       "0                10               190"
      ]
     },
     "execution_count": 91,
     "metadata": {},
     "output_type": "execute_result"
    }
   ],
   "source": [
    "sup = rmsd.groupby('pdb')[['poserank']].count().reset_index().rename(columns = {\"poserank\":\"poserank_count\"})\n",
    "sup['unique_pdb_count'] = sup.groupby('poserank_count')['pdb'].transform('nunique')\n",
    "sup.drop(columns = ['pdb']).drop_duplicates().sort_values('poserank_count')"
   ]
  },
  {
   "cell_type": "code",
   "execution_count": null,
   "id": "c2e0b4aa-1cc2-4941-86f8-4277a35002a0",
   "metadata": {},
   "outputs": [],
   "source": []
  },
  {
   "cell_type": "code",
   "execution_count": 92,
   "id": "39aaee93-fa45-4b73-9878-5141e9df1e84",
   "metadata": {},
   "outputs": [
    {
     "data": {
      "text/plain": [
       "190"
      ]
     },
     "execution_count": 92,
     "metadata": {},
     "output_type": "execute_result"
    }
   ],
   "source": [
    "sup[sup['poserank_count']==10]['pdb'].nunique()"
   ]
  },
  {
   "cell_type": "code",
   "execution_count": 93,
   "id": "70b2f875-5d5c-4dd5-b178-38a0825e36e8",
   "metadata": {},
   "outputs": [
    {
     "data": {
      "text/plain": [
       "51"
      ]
     },
     "execution_count": 93,
     "metadata": {},
     "output_type": "execute_result"
    }
   ],
   "source": [
    "sup[sup['poserank_count']==9]['pdb'].nunique()"
   ]
  },
  {
   "cell_type": "code",
   "execution_count": 94,
   "id": "3fec09d5-4f7e-4f15-a617-d6e65277ac4d",
   "metadata": {},
   "outputs": [
    {
     "data": {
      "text/plain": [
       "5"
      ]
     },
     "execution_count": 94,
     "metadata": {},
     "output_type": "execute_result"
    }
   ],
   "source": [
    "sup[sup['poserank_count']==8]['pdb'].nunique()"
   ]
  },
  {
   "cell_type": "code",
   "execution_count": 95,
   "id": "2ed7e09f-cc7a-4b2f-930c-82b3ca3b3aee",
   "metadata": {},
   "outputs": [
    {
     "data": {
      "text/plain": [
       "5"
      ]
     },
     "execution_count": 95,
     "metadata": {},
     "output_type": "execute_result"
    }
   ],
   "source": [
    "sup[sup['poserank_count']==7]['pdb'].nunique()"
   ]
  },
  {
   "cell_type": "code",
   "execution_count": 96,
   "id": "aaae7ea4-81c4-4b5d-969c-a9551c4087d8",
   "metadata": {},
   "outputs": [
    {
     "data": {
      "text/plain": [
       "6"
      ]
     },
     "execution_count": 96,
     "metadata": {},
     "output_type": "execute_result"
    }
   ],
   "source": [
    "sup[sup['poserank_count']==6]['pdb'].nunique()"
   ]
  },
  {
   "cell_type": "code",
   "execution_count": 97,
   "id": "14b27323-bbb6-41fa-b46b-887c31a18619",
   "metadata": {},
   "outputs": [
    {
     "data": {
      "text/plain": [
       "6"
      ]
     },
     "execution_count": 97,
     "metadata": {},
     "output_type": "execute_result"
    }
   ],
   "source": [
    "sup[sup['poserank_count']==5]['pdb'].nunique()"
   ]
  },
  {
   "cell_type": "code",
   "execution_count": 98,
   "id": "6047c5be-8b55-44e3-b51f-a30183fa9363",
   "metadata": {},
   "outputs": [],
   "source": [
    "import seaborn as sns"
   ]
  },
  {
   "cell_type": "code",
   "execution_count": 99,
   "id": "1f39fd49-244f-4894-9906-85cce1cceb6e",
   "metadata": {},
   "outputs": [
    {
     "data": {
      "text/html": [
       "<div>\n",
       "<style scoped>\n",
       "    .dataframe tbody tr th:only-of-type {\n",
       "        vertical-align: middle;\n",
       "    }\n",
       "\n",
       "    .dataframe tbody tr th {\n",
       "        vertical-align: top;\n",
       "    }\n",
       "\n",
       "    .dataframe thead th {\n",
       "        text-align: right;\n",
       "    }\n",
       "</style>\n",
       "<table border=\"1\" class=\"dataframe\">\n",
       "  <thead>\n",
       "    <tr style=\"text-align: right;\">\n",
       "      <th></th>\n",
       "      <th>pdb</th>\n",
       "      <th>poserank</th>\n",
       "      <th>RMSD</th>\n",
       "    </tr>\n",
       "  </thead>\n",
       "  <tbody>\n",
       "    <tr>\n",
       "      <th>577</th>\n",
       "      <td>1a30</td>\n",
       "      <td>1</td>\n",
       "      <td>5.40</td>\n",
       "    </tr>\n",
       "    <tr>\n",
       "      <th>578</th>\n",
       "      <td>1a30</td>\n",
       "      <td>2</td>\n",
       "      <td>9.04</td>\n",
       "    </tr>\n",
       "    <tr>\n",
       "      <th>579</th>\n",
       "      <td>1a30</td>\n",
       "      <td>3</td>\n",
       "      <td>6.84</td>\n",
       "    </tr>\n",
       "    <tr>\n",
       "      <th>580</th>\n",
       "      <td>1a30</td>\n",
       "      <td>4</td>\n",
       "      <td>7.84</td>\n",
       "    </tr>\n",
       "    <tr>\n",
       "      <th>581</th>\n",
       "      <td>1a30</td>\n",
       "      <td>5</td>\n",
       "      <td>6.18</td>\n",
       "    </tr>\n",
       "  </tbody>\n",
       "</table>\n",
       "</div>"
      ],
      "text/plain": [
       "      pdb  poserank  RMSD\n",
       "577  1a30         1  5.40\n",
       "578  1a30         2  9.04\n",
       "579  1a30         3  6.84\n",
       "580  1a30         4  7.84\n",
       "581  1a30         5  6.18"
      ]
     },
     "execution_count": 99,
     "metadata": {},
     "output_type": "execute_result"
    }
   ],
   "source": [
    "rmsd.head()"
   ]
  },
  {
   "cell_type": "code",
   "execution_count": 100,
   "id": "348df96a-fc66-4f4c-b29e-12db01d42f48",
   "metadata": {},
   "outputs": [
    {
     "data": {
      "text/plain": [
       "2537"
      ]
     },
     "execution_count": 100,
     "metadata": {},
     "output_type": "execute_result"
    }
   ],
   "source": [
    "len(rmsd)"
   ]
  },
  {
   "cell_type": "code",
   "execution_count": 101,
   "id": "aa876285-cd94-4636-bca8-8579de8c22b9",
   "metadata": {},
   "outputs": [],
   "source": [
    "#sns.boxplot(rmsd.pivot_table(index = 'pdb', columns = 'poserank', values = 'RMSD'), color='steelblue')"
   ]
  },
  {
   "cell_type": "markdown",
   "id": "68455b1a-9a1d-4d59-9e1e-c39919e844b2",
   "metadata": {},
   "source": [
    "sns.boxplot(data=rmsd, x='poserank', y='RMSD', color='steelblue')\n",
    "plt.xlabel('Pose Ranking')\n",
    "plt.ylabel('Root Mean Square Deviation (RMSD)')\n",
    "plt.title('Distribuição do RMSD pelo ranking da pose')\n",
    "\n",
    "# Remove apenas os eixos superior e direito\n",
    "sns.despine(top=True, right=True)\n",
    "\n",
    "# Desativa a grade\n",
    "plt.grid(False)\n",
    "\n",
    "plt.show()\n"
   ]
  },
  {
   "cell_type": "markdown",
   "id": "eb26020b-0d1a-4450-8916-d96774ca939a",
   "metadata": {},
   "source": [
    "#### Creating label "
   ]
  },
  {
   "cell_type": "code",
   "execution_count": 102,
   "id": "3aaf5aeb-76d0-48cb-9024-226f4473819b",
   "metadata": {},
   "outputs": [],
   "source": [
    "label = rmsd.copy()"
   ]
  },
  {
   "cell_type": "markdown",
   "id": "c0723785-b5ba-472c-a880-83bfb5cd0e95",
   "metadata": {},
   "source": [
    "#### Score similarity "
   ]
  },
  {
   "cell_type": "code",
   "execution_count": 103,
   "id": "5bd7dd59-0419-4da1-8cb4-4b1e00103eff",
   "metadata": {},
   "outputs": [],
   "source": [
    "score = pd.read_json(f\"{config.data}/score.json\").unstack().reset_index().rename(columns = {\"level_0\":\"pdb\", \"level_1\":\"poserank\", 0:'similarity'})"
   ]
  },
  {
   "cell_type": "code",
   "execution_count": 104,
   "id": "0ce0df9b-11be-4548-ba34-50e1adfa7e07",
   "metadata": {},
   "outputs": [
    {
     "data": {
      "text/html": [
       "<div>\n",
       "<style scoped>\n",
       "    .dataframe tbody tr th:only-of-type {\n",
       "        vertical-align: middle;\n",
       "    }\n",
       "\n",
       "    .dataframe tbody tr th {\n",
       "        vertical-align: top;\n",
       "    }\n",
       "\n",
       "    .dataframe thead th {\n",
       "        text-align: right;\n",
       "    }\n",
       "</style>\n",
       "<table border=\"1\" class=\"dataframe\">\n",
       "  <thead>\n",
       "    <tr style=\"text-align: right;\">\n",
       "      <th></th>\n",
       "      <th>pdb</th>\n",
       "      <th>poserank</th>\n",
       "      <th>similarity</th>\n",
       "    </tr>\n",
       "  </thead>\n",
       "  <tbody>\n",
       "    <tr>\n",
       "      <th>0</th>\n",
       "      <td>4eor</td>\n",
       "      <td>1</td>\n",
       "      <td>16.666667</td>\n",
       "    </tr>\n",
       "    <tr>\n",
       "      <th>1</th>\n",
       "      <td>4eor</td>\n",
       "      <td>2</td>\n",
       "      <td>72.916667</td>\n",
       "    </tr>\n",
       "    <tr>\n",
       "      <th>2</th>\n",
       "      <td>4eor</td>\n",
       "      <td>3</td>\n",
       "      <td>8.333333</td>\n",
       "    </tr>\n",
       "    <tr>\n",
       "      <th>3</th>\n",
       "      <td>4eor</td>\n",
       "      <td>4</td>\n",
       "      <td>7.291667</td>\n",
       "    </tr>\n",
       "    <tr>\n",
       "      <th>4</th>\n",
       "      <td>4eor</td>\n",
       "      <td>5</td>\n",
       "      <td>18.750000</td>\n",
       "    </tr>\n",
       "  </tbody>\n",
       "</table>\n",
       "</div>"
      ],
      "text/plain": [
       "    pdb  poserank  similarity\n",
       "0  4eor         1   16.666667\n",
       "1  4eor         2   72.916667\n",
       "2  4eor         3    8.333333\n",
       "3  4eor         4    7.291667\n",
       "4  4eor         5   18.750000"
      ]
     },
     "execution_count": 104,
     "metadata": {},
     "output_type": "execute_result"
    }
   ],
   "source": [
    "score.head()"
   ]
  },
  {
   "cell_type": "markdown",
   "id": "b119c87d-fa1e-40fe-a988-41f681b81905",
   "metadata": {},
   "source": [
    "#### Merge"
   ]
  },
  {
   "cell_type": "code",
   "execution_count": 105,
   "id": "eda0c77d-a7e7-4d24-be8f-fe48c27a6dd3",
   "metadata": {},
   "outputs": [],
   "source": [
    "label = pd.merge(score, label, left_on= ['pdb','poserank'], right_on = ['pdb','poserank'], how = 'outer').drop_duplicates()"
   ]
  },
  {
   "cell_type": "code",
   "execution_count": 106,
   "id": "9639a735-e760-4387-bbdf-d97923d9ef43",
   "metadata": {},
   "outputs": [
    {
     "data": {
      "text/html": [
       "<div>\n",
       "<style scoped>\n",
       "    .dataframe tbody tr th:only-of-type {\n",
       "        vertical-align: middle;\n",
       "    }\n",
       "\n",
       "    .dataframe tbody tr th {\n",
       "        vertical-align: top;\n",
       "    }\n",
       "\n",
       "    .dataframe thead th {\n",
       "        text-align: right;\n",
       "    }\n",
       "</style>\n",
       "<table border=\"1\" class=\"dataframe\">\n",
       "  <thead>\n",
       "    <tr style=\"text-align: right;\">\n",
       "      <th></th>\n",
       "      <th>pdb</th>\n",
       "      <th>poserank</th>\n",
       "      <th>similarity</th>\n",
       "      <th>RMSD</th>\n",
       "    </tr>\n",
       "  </thead>\n",
       "  <tbody>\n",
       "    <tr>\n",
       "      <th>0</th>\n",
       "      <td>4eor</td>\n",
       "      <td>1</td>\n",
       "      <td>16.666667</td>\n",
       "      <td>4.34</td>\n",
       "    </tr>\n",
       "    <tr>\n",
       "      <th>1</th>\n",
       "      <td>4eor</td>\n",
       "      <td>2</td>\n",
       "      <td>72.916667</td>\n",
       "      <td>1.16</td>\n",
       "    </tr>\n",
       "    <tr>\n",
       "      <th>2</th>\n",
       "      <td>4eor</td>\n",
       "      <td>3</td>\n",
       "      <td>8.333333</td>\n",
       "      <td>4.94</td>\n",
       "    </tr>\n",
       "    <tr>\n",
       "      <th>3</th>\n",
       "      <td>4eor</td>\n",
       "      <td>4</td>\n",
       "      <td>7.291667</td>\n",
       "      <td>4.92</td>\n",
       "    </tr>\n",
       "    <tr>\n",
       "      <th>4</th>\n",
       "      <td>4eor</td>\n",
       "      <td>5</td>\n",
       "      <td>18.750000</td>\n",
       "      <td>6.54</td>\n",
       "    </tr>\n",
       "  </tbody>\n",
       "</table>\n",
       "</div>"
      ],
      "text/plain": [
       "    pdb  poserank  similarity  RMSD\n",
       "0  4eor         1   16.666667  4.34\n",
       "1  4eor         2   72.916667  1.16\n",
       "2  4eor         3    8.333333  4.94\n",
       "3  4eor         4    7.291667  4.92\n",
       "4  4eor         5   18.750000  6.54"
      ]
     },
     "execution_count": 106,
     "metadata": {},
     "output_type": "execute_result"
    }
   ],
   "source": [
    "label.head()"
   ]
  },
  {
   "cell_type": "code",
   "execution_count": 107,
   "id": "dc7c03cd-d15c-4ca2-955c-05644fe08d4c",
   "metadata": {},
   "outputs": [
    {
     "data": {
      "image/png": "[encoded data removed]",
      "text/plain": [
       "<Figure size 640x480 with 1 Axes>"
      ]
     },
     "metadata": {},
     "output_type": "display_data"
    }
   ],
   "source": [
    "sns.boxplot(data=label, x='poserank', y='similarity', color='steelblue')\n",
    "plt.xlabel('Pose Ranking')\n",
    "plt.ylabel('Similaridade')\n",
    "plt.title('Distribuição do similaridade pelo ranking da pose')\n",
    "\n",
    "# Remove apenas os eixos superior e direito\n",
    "sns.despine(top=True, right=True)\n",
    "\n",
    "# Desativa a grade\n",
    "plt.grid(False)\n",
    "\n",
    "plt.show()"
   ]
  },
  {
   "cell_type": "code",
   "execution_count": 108,
   "id": "89f82d6a-fd2a-4138-891b-579bae8bdd45",
   "metadata": {},
   "outputs": [],
   "source": [
    "#label.sort_values('similarity', ascending = False).tail(30)"
   ]
  },
  {
   "cell_type": "markdown",
   "id": "f9742244-9a1e-4d96-badf-8853a96b25cd",
   "metadata": {},
   "source": [
    "| score | rmsd |\n",
    "|-------|------|\n",
    "| rmsd < 2 | -10 |\n",
    "| 2 < rmsd < 3 | -7 |\n",
    "| rmsd > 3 | 0 |\n",
    "\n",
    "| score | match |\n",
    "|-------|-------|\n",
    "| 79 | -10 |\n",
    "| 70 | -7 |\n",
    "| 66 | 0 |\n",
    "| 42 | 0 |\n"
   ]
  },
  {
   "cell_type": "markdown",
   "id": "dd919a04-1214-448b-b516-7f6bfc8ee644",
   "metadata": {},
   "source": [
    "#### Conditions"
   ]
  },
  {
   "cell_type": "code",
   "execution_count": 109,
   "id": "bfaee115-fdf1-44b8-81ca-4f66807e1982",
   "metadata": {},
   "outputs": [],
   "source": [
    "# Define the conditions and corresponding scores\n",
    "conditions_rmsd = [ label['RMSD'] < 2\n",
    "              ,(label['RMSD'] >= 2) & (label['RMSD'] < 3)\n",
    "              , label['RMSD'] >= 3]"
   ]
  },
  {
   "cell_type": "code",
   "execution_count": 110,
   "id": "2897938f-a3b1-4b2d-81fe-4269a569cd0a",
   "metadata": {},
   "outputs": [],
   "source": [
    "conditions_similarity = [ label['similarity'] >=80 \n",
    "              ,(label['similarity'] >= 70) & (label['similarity'] < 80)\n",
    "              #,(label['similarity'] >= 66) & (label['similarity'] < 70)\n",
    "              , label['similarity'] < 70 ]"
   ]
  },
  {
   "cell_type": "code",
   "execution_count": 111,
   "id": "44565684-f381-46fe-bac8-866537bab09a",
   "metadata": {},
   "outputs": [],
   "source": [
    "scores_rmsd       = [10, 7, 0]\n",
    "scores_similarity = [10, 7, 0]\n",
    "\n",
    "label['rmsd_weight'] = np.select(conditions_rmsd, scores_rmsd, default=np.nan)\n",
    "label['similarity_weight'] = np.select(conditions_similarity, scores_similarity, default=np.nan)"
   ]
  },
  {
   "cell_type": "markdown",
   "id": "336abeb8-3eb7-43ca-917b-6f53599b5173",
   "metadata": {},
   "source": [
    "#### Métrica "
   ]
  },
  {
   "cell_type": "markdown",
   "id": "5fbbbb1e-6937-4d2e-a8b7-7f49490aab88",
   "metadata": {},
   "source": [
    "$$\n",
    "\\frac{{\\text{{score\\_rmsd}} \\times 0.5 + \\text{{score\\_match}} \\times 0.5}}{{20}}\n",
    "$$\n"
   ]
  },
  {
   "cell_type": "code",
   "execution_count": 112,
   "id": "6d31b5b2-1845-4b87-871a-94481e78dcb7",
   "metadata": {},
   "outputs": [],
   "source": [
    "label['weight'] = (label['rmsd_weight']*0.5 + label['similarity_weight']*0.5)/10\n",
    "label['weight_similarity'] = (label['rmsd_weight']*0.3 + label['similarity_weight']*0.7)/10\n",
    "label['weight_rmsd'] = (label['rmsd_weight']*0.7 + label['similarity_weight']*0.3)/10"
   ]
  },
  {
   "cell_type": "code",
   "execution_count": 113,
   "id": "0487ad6c-9ebc-4ecb-b3d9-3116f278ef0f",
   "metadata": {},
   "outputs": [
    {
     "data": {
      "text/plain": [
       "0.00    1765\n",
       "0.35     313\n",
       "0.50     263\n",
       "1.00      92\n",
       "0.85      91\n",
       "0.70      13\n",
       "Name: weight, dtype: int64"
      ]
     },
     "execution_count": 113,
     "metadata": {},
     "output_type": "execute_result"
    }
   ],
   "source": [
    "label['weight'].value_counts()"
   ]
  },
  {
   "cell_type": "code",
   "execution_count": 114,
   "id": "651f7566-858e-4349-9240-127655285bbc",
   "metadata": {},
   "outputs": [],
   "source": [
    "label[\"label\"] = label[\"weight\"].apply(lambda x: 1 if x > 0.5 else 0)"
   ]
  },
  {
   "cell_type": "code",
   "execution_count": 115,
   "id": "6ebe0fac-2213-4f0c-a857-c433b3c3d224",
   "metadata": {},
   "outputs": [
    {
     "data": {
      "text/html": [
       "<div>\n",
       "<style scoped>\n",
       "    .dataframe tbody tr th:only-of-type {\n",
       "        vertical-align: middle;\n",
       "    }\n",
       "\n",
       "    .dataframe tbody tr th {\n",
       "        vertical-align: top;\n",
       "    }\n",
       "\n",
       "    .dataframe thead th {\n",
       "        text-align: right;\n",
       "    }\n",
       "</style>\n",
       "<table border=\"1\" class=\"dataframe\">\n",
       "  <thead>\n",
       "    <tr style=\"text-align: right;\">\n",
       "      <th></th>\n",
       "      <th>pdb</th>\n",
       "      <th>poserank</th>\n",
       "      <th>similarity</th>\n",
       "      <th>RMSD</th>\n",
       "      <th>rmsd_weight</th>\n",
       "      <th>similarity_weight</th>\n",
       "      <th>weight</th>\n",
       "      <th>weight_similarity</th>\n",
       "      <th>weight_rmsd</th>\n",
       "      <th>label</th>\n",
       "    </tr>\n",
       "  </thead>\n",
       "  <tbody>\n",
       "    <tr>\n",
       "      <th>0</th>\n",
       "      <td>4eor</td>\n",
       "      <td>1</td>\n",
       "      <td>16.666667</td>\n",
       "      <td>4.34</td>\n",
       "      <td>0.0</td>\n",
       "      <td>0.0</td>\n",
       "      <td>0.00</td>\n",
       "      <td>0.00</td>\n",
       "      <td>0.00</td>\n",
       "      <td>0</td>\n",
       "    </tr>\n",
       "    <tr>\n",
       "      <th>1</th>\n",
       "      <td>4eor</td>\n",
       "      <td>2</td>\n",
       "      <td>72.916667</td>\n",
       "      <td>1.16</td>\n",
       "      <td>10.0</td>\n",
       "      <td>7.0</td>\n",
       "      <td>0.85</td>\n",
       "      <td>0.79</td>\n",
       "      <td>0.91</td>\n",
       "      <td>1</td>\n",
       "    </tr>\n",
       "    <tr>\n",
       "      <th>2</th>\n",
       "      <td>4eor</td>\n",
       "      <td>3</td>\n",
       "      <td>8.333333</td>\n",
       "      <td>4.94</td>\n",
       "      <td>0.0</td>\n",
       "      <td>0.0</td>\n",
       "      <td>0.00</td>\n",
       "      <td>0.00</td>\n",
       "      <td>0.00</td>\n",
       "      <td>0</td>\n",
       "    </tr>\n",
       "    <tr>\n",
       "      <th>3</th>\n",
       "      <td>4eor</td>\n",
       "      <td>4</td>\n",
       "      <td>7.291667</td>\n",
       "      <td>4.92</td>\n",
       "      <td>0.0</td>\n",
       "      <td>0.0</td>\n",
       "      <td>0.00</td>\n",
       "      <td>0.00</td>\n",
       "      <td>0.00</td>\n",
       "      <td>0</td>\n",
       "    </tr>\n",
       "    <tr>\n",
       "      <th>4</th>\n",
       "      <td>4eor</td>\n",
       "      <td>5</td>\n",
       "      <td>18.750000</td>\n",
       "      <td>6.54</td>\n",
       "      <td>0.0</td>\n",
       "      <td>0.0</td>\n",
       "      <td>0.00</td>\n",
       "      <td>0.00</td>\n",
       "      <td>0.00</td>\n",
       "      <td>0</td>\n",
       "    </tr>\n",
       "  </tbody>\n",
       "</table>\n",
       "</div>"
      ],
      "text/plain": [
       "    pdb  poserank  similarity  RMSD  rmsd_weight  similarity_weight  weight  \\\n",
       "0  4eor         1   16.666667  4.34          0.0                0.0    0.00   \n",
       "1  4eor         2   72.916667  1.16         10.0                7.0    0.85   \n",
       "2  4eor         3    8.333333  4.94          0.0                0.0    0.00   \n",
       "3  4eor         4    7.291667  4.92          0.0                0.0    0.00   \n",
       "4  4eor         5   18.750000  6.54          0.0                0.0    0.00   \n",
       "\n",
       "   weight_similarity  weight_rmsd  label  \n",
       "0               0.00         0.00      0  \n",
       "1               0.79         0.91      1  \n",
       "2               0.00         0.00      0  \n",
       "3               0.00         0.00      0  \n",
       "4               0.00         0.00      0  "
      ]
     },
     "execution_count": 115,
     "metadata": {},
     "output_type": "execute_result"
    }
   ],
   "source": [
    "label.head()"
   ]
  },
  {
   "cell_type": "code",
   "execution_count": 116,
   "id": "05778ae2-8976-4caa-ab08-a76ce51c88f5",
   "metadata": {},
   "outputs": [],
   "source": [
    "label.to_csv('../Datahub/label_dataframe.csv')"
   ]
  },
  {
   "cell_type": "code",
   "execution_count": 117,
   "id": "5ba699ae-7e5f-46aa-90ee-5755ec45ae16",
   "metadata": {},
   "outputs": [
    {
     "data": {
      "text/plain": [
       "0    2644\n",
       "1     196\n",
       "Name: label, dtype: int64"
      ]
     },
     "execution_count": 117,
     "metadata": {},
     "output_type": "execute_result"
    }
   ],
   "source": [
    "label['label'].value_counts()"
   ]
  },
  {
   "cell_type": "code",
   "execution_count": 118,
   "id": "ddf4a3af-07ef-4fe1-9998-b8721d6d9356",
   "metadata": {},
   "outputs": [],
   "source": [
    "import seaborn as sns\n",
    "import matplotlib.pyplot as plt\n",
    "\n",
    "def plot_density(x, label, xlabel):\n",
    "    \"\"\"\n",
    "    Plots density plots for each class in the given data.\n",
    "\n",
    "    Parameters:\n",
    "    x (str): The column name for the data to be plotted.\n",
    "    label (DataFrame): A DataFrame containing the data and labels.\n",
    "    xlabel (str): The label for the x-axis.\n",
    "    \"\"\"\n",
    "    # Set the style for the plot\n",
    "    sns.set(style=\"white\")\n",
    "\n",
    "    # Create a figure and axis\n",
    "    fig, ax = plt.subplots()\n",
    "\n",
    "    # Remove the grid\n",
    "    ax.grid(False)\n",
    "\n",
    "    # Remove the top and right spines\n",
    "    ax.spines['top'].set_visible(False)\n",
    "    ax.spines['right'].set_visible(False)\n",
    "\n",
    "    # Plot density plots for each class with increased transparency\n",
    "    sns.kdeplot(data=label[label['label'] == 0], x=x, fill=True, color='darkred', alpha=0.3, ax=ax, label='Incorreto')\n",
    "    sns.kdeplot(data=label[label['label'] == 1], x=x, fill=True, color='steelblue', alpha=0.3, ax=ax, label='Correto')\n",
    "\n",
    "    # Show the legend without the frame\n",
    "    ax.legend(frameon=False)\n",
    "\n",
    "    # Set the x-axis label\n",
    "    ax.set_xlabel(xlabel)\n",
    "\n",
    "    # Display the plot\n",
    "    plt.show()\n"
   ]
  },
  {
   "cell_type": "code",
   "execution_count": 119,
   "id": "67565afa-1087-4d82-b405-ebd5b6078193",
   "metadata": {},
   "outputs": [
    {
     "data": {
      "image/png": "[encoded data removed]",
      "text/plain": [
       "<Figure size 640x480 with 1 Axes>"
      ]
     },
     "metadata": {},
     "output_type": "display_data"
    }
   ],
   "source": [
    "plot_density('similarity', label, 'Similaridade')"
   ]
  },
  {
   "cell_type": "code",
   "execution_count": 120,
   "id": "6e5517a0-c5c8-4bcd-95b6-95ff3945f9b0",
   "metadata": {},
   "outputs": [
    {
     "data": {
      "image/png": "[encoded data removed]",
      "text/plain": [
       "<Figure size 640x480 with 1 Axes>"
      ]
     },
     "metadata": {},
     "output_type": "display_data"
    }
   ],
   "source": [
    "plot_density('RMSD', label, 'RMSD')"
   ]
  },
  {
   "cell_type": "markdown",
   "id": "95b53887-726b-441a-be94-f4351643facf",
   "metadata": {},
   "source": [
    "#### Stats"
   ]
  },
  {
   "cell_type": "code",
   "execution_count": 121,
   "id": "741c5a60-4b27-43b2-88b4-58186eebb30a",
   "metadata": {},
   "outputs": [
    {
     "data": {
      "text/plain": [
       "2840"
      ]
     },
     "execution_count": 121,
     "metadata": {},
     "output_type": "execute_result"
    }
   ],
   "source": [
    "len(label['label'])"
   ]
  },
  {
   "cell_type": "code",
   "execution_count": 122,
   "id": "176f0c1b-dbca-4eef-8528-5f54b9a5cb9f",
   "metadata": {},
   "outputs": [
    {
     "data": {
      "text/plain": [
       "284"
      ]
     },
     "execution_count": 122,
     "metadata": {},
     "output_type": "execute_result"
    }
   ],
   "source": [
    "label['pdb'].nunique()"
   ]
  },
  {
   "cell_type": "code",
   "execution_count": 123,
   "id": "3c3f4f00-4b6e-4167-b366-a5595c3c9734",
   "metadata": {},
   "outputs": [
    {
     "data": {
      "text/plain": [
       "0    0.930986\n",
       "1    0.069014\n",
       "Name: label, dtype: float64"
      ]
     },
     "execution_count": 123,
     "metadata": {},
     "output_type": "execute_result"
    }
   ],
   "source": [
    "label['label'].value_counts(1)"
   ]
  },
  {
   "cell_type": "code",
   "execution_count": 124,
   "id": "28c9d766-c234-47a0-8518-42ad2be7afdf",
   "metadata": {},
   "outputs": [
    {
     "data": {
      "text/html": [
       "<div>\n",
       "<style scoped>\n",
       "    .dataframe tbody tr th:only-of-type {\n",
       "        vertical-align: middle;\n",
       "    }\n",
       "\n",
       "    .dataframe tbody tr th {\n",
       "        vertical-align: top;\n",
       "    }\n",
       "\n",
       "    .dataframe thead th {\n",
       "        text-align: right;\n",
       "    }\n",
       "</style>\n",
       "<table border=\"1\" class=\"dataframe\">\n",
       "  <thead>\n",
       "    <tr style=\"text-align: right;\">\n",
       "      <th></th>\n",
       "      <th>pdb</th>\n",
       "      <th>poserank</th>\n",
       "      <th>similarity</th>\n",
       "      <th>RMSD</th>\n",
       "      <th>rmsd_weight</th>\n",
       "      <th>similarity_weight</th>\n",
       "      <th>weight</th>\n",
       "      <th>weight_similarity</th>\n",
       "      <th>weight_rmsd</th>\n",
       "      <th>label</th>\n",
       "    </tr>\n",
       "  </thead>\n",
       "  <tbody>\n",
       "    <tr>\n",
       "      <th>0</th>\n",
       "      <td>4eor</td>\n",
       "      <td>1</td>\n",
       "      <td>16.666667</td>\n",
       "      <td>4.34</td>\n",
       "      <td>0.0</td>\n",
       "      <td>0.0</td>\n",
       "      <td>0.00</td>\n",
       "      <td>0.00</td>\n",
       "      <td>0.00</td>\n",
       "      <td>0</td>\n",
       "    </tr>\n",
       "    <tr>\n",
       "      <th>1</th>\n",
       "      <td>4eor</td>\n",
       "      <td>2</td>\n",
       "      <td>72.916667</td>\n",
       "      <td>1.16</td>\n",
       "      <td>10.0</td>\n",
       "      <td>7.0</td>\n",
       "      <td>0.85</td>\n",
       "      <td>0.79</td>\n",
       "      <td>0.91</td>\n",
       "      <td>1</td>\n",
       "    </tr>\n",
       "    <tr>\n",
       "      <th>2</th>\n",
       "      <td>4eor</td>\n",
       "      <td>3</td>\n",
       "      <td>8.333333</td>\n",
       "      <td>4.94</td>\n",
       "      <td>0.0</td>\n",
       "      <td>0.0</td>\n",
       "      <td>0.00</td>\n",
       "      <td>0.00</td>\n",
       "      <td>0.00</td>\n",
       "      <td>0</td>\n",
       "    </tr>\n",
       "    <tr>\n",
       "      <th>3</th>\n",
       "      <td>4eor</td>\n",
       "      <td>4</td>\n",
       "      <td>7.291667</td>\n",
       "      <td>4.92</td>\n",
       "      <td>0.0</td>\n",
       "      <td>0.0</td>\n",
       "      <td>0.00</td>\n",
       "      <td>0.00</td>\n",
       "      <td>0.00</td>\n",
       "      <td>0</td>\n",
       "    </tr>\n",
       "    <tr>\n",
       "      <th>4</th>\n",
       "      <td>4eor</td>\n",
       "      <td>5</td>\n",
       "      <td>18.750000</td>\n",
       "      <td>6.54</td>\n",
       "      <td>0.0</td>\n",
       "      <td>0.0</td>\n",
       "      <td>0.00</td>\n",
       "      <td>0.00</td>\n",
       "      <td>0.00</td>\n",
       "      <td>0</td>\n",
       "    </tr>\n",
       "  </tbody>\n",
       "</table>\n",
       "</div>"
      ],
      "text/plain": [
       "    pdb  poserank  similarity  RMSD  rmsd_weight  similarity_weight  weight  \\\n",
       "0  4eor         1   16.666667  4.34          0.0                0.0    0.00   \n",
       "1  4eor         2   72.916667  1.16         10.0                7.0    0.85   \n",
       "2  4eor         3    8.333333  4.94          0.0                0.0    0.00   \n",
       "3  4eor         4    7.291667  4.92          0.0                0.0    0.00   \n",
       "4  4eor         5   18.750000  6.54          0.0                0.0    0.00   \n",
       "\n",
       "   weight_similarity  weight_rmsd  label  \n",
       "0               0.00         0.00      0  \n",
       "1               0.79         0.91      1  \n",
       "2               0.00         0.00      0  \n",
       "3               0.00         0.00      0  \n",
       "4               0.00         0.00      0  "
      ]
     },
     "execution_count": 124,
     "metadata": {},
     "output_type": "execute_result"
    }
   ],
   "source": [
    "label.head()"
   ]
  },
  {
   "cell_type": "markdown",
   "id": "852f0714-fe5b-42e1-b0a0-968d2a2db917",
   "metadata": {},
   "source": [
    "#### Creating dict "
   ]
  },
  {
   "cell_type": "code",
   "execution_count": 125,
   "id": "26d41aff-4347-4a61-8f09-4f792f561032",
   "metadata": {},
   "outputs": [],
   "source": [
    "# Create the nested dictionary\n",
    "result_dict = {}\n",
    "for index, row in label.iterrows():\n",
    "    pdb = row['pdb']\n",
    "    poserank = row['poserank']\n",
    "    label = row['label']\n",
    "    \n",
    "    if pdb not in result_dict:\n",
    "        result_dict[pdb] = {}\n",
    "    \n",
    "    result_dict[pdb][poserank] = label"
   ]
  },
  {
   "cell_type": "code",
   "execution_count": 126,
   "id": "f7229cd9-c104-4d5b-a0ea-aa54fd8954c8",
   "metadata": {},
   "outputs": [],
   "source": [
    "#print(\"label.json saved at:\", config.data)"
   ]
  },
  {
   "cell_type": "code",
   "execution_count": 127,
   "id": "d7acd202-1093-48f3-970f-0a6846b63b8f",
   "metadata": {},
   "outputs": [],
   "source": [
    "# Assuming result_dict is your dictionary\n",
    "with open(f\"{config.data}/label.json\", \"w\") as json_file:\n",
    "    json.dump(result_dict, json_file)"
   ]
  },
  {
   "cell_type": "code",
   "execution_count": 128,
   "id": "7acd2ee4-66a2-49e7-b9d8-794123ce4e3a",
   "metadata": {},
   "outputs": [],
   "source": [
    "# Assuming result_dict is your dictionary\n",
    "with open(f\"{config.data}/label.json\", \"r\") as json_file:\n",
    "    result = json_file.read()"
   ]
  },
  {
   "cell_type": "code",
   "execution_count": 129,
   "id": "a83ca4ca-5047-4c45-9ee1-8eb4850a6a80",
   "metadata": {},
   "outputs": [],
   "source": [
    "result = pd.read_json(f\"{config.data}/label.json\")"
   ]
  },
  {
   "cell_type": "code",
   "execution_count": 130,
   "id": "80feb459-0ba3-466a-82f5-28db01f8282e",
   "metadata": {},
   "outputs": [
    {
     "data": {
      "text/html": [
       "<div>\n",
       "<style scoped>\n",
       "    .dataframe tbody tr th:only-of-type {\n",
       "        vertical-align: middle;\n",
       "    }\n",
       "\n",
       "    .dataframe tbody tr th {\n",
       "        vertical-align: top;\n",
       "    }\n",
       "\n",
       "    .dataframe thead th {\n",
       "        text-align: right;\n",
       "    }\n",
       "</style>\n",
       "<table border=\"1\" class=\"dataframe\">\n",
       "  <thead>\n",
       "    <tr style=\"text-align: right;\">\n",
       "      <th></th>\n",
       "      <th>4eor</th>\n",
       "      <th>2qbq</th>\n",
       "      <th>3g2n</th>\n",
       "      <th>1ydr</th>\n",
       "      <th>3uev</th>\n",
       "      <th>2xnb</th>\n",
       "      <th>3qqs</th>\n",
       "      <th>1w4o</th>\n",
       "      <th>4jxs</th>\n",
       "      <th>3zsx</th>\n",
       "      <th>...</th>\n",
       "      <th>4ddh</th>\n",
       "      <th>3oe4</th>\n",
       "      <th>3g31</th>\n",
       "      <th>4jsz</th>\n",
       "      <th>3udh</th>\n",
       "      <th>4w9l</th>\n",
       "      <th>2cbv</th>\n",
       "      <th>4j28</th>\n",
       "      <th>2j78</th>\n",
       "      <th>3bgz</th>\n",
       "    </tr>\n",
       "  </thead>\n",
       "  <tbody>\n",
       "    <tr>\n",
       "      <th>1</th>\n",
       "      <td>0</td>\n",
       "      <td>0</td>\n",
       "      <td>0</td>\n",
       "      <td>1</td>\n",
       "      <td>0</td>\n",
       "      <td>0</td>\n",
       "      <td>0</td>\n",
       "      <td>0</td>\n",
       "      <td>0</td>\n",
       "      <td>0</td>\n",
       "      <td>...</td>\n",
       "      <td>0</td>\n",
       "      <td>1</td>\n",
       "      <td>0</td>\n",
       "      <td>0</td>\n",
       "      <td>1</td>\n",
       "      <td>0</td>\n",
       "      <td>1</td>\n",
       "      <td>0</td>\n",
       "      <td>1</td>\n",
       "      <td>0</td>\n",
       "    </tr>\n",
       "    <tr>\n",
       "      <th>2</th>\n",
       "      <td>1</td>\n",
       "      <td>0</td>\n",
       "      <td>0</td>\n",
       "      <td>0</td>\n",
       "      <td>0</td>\n",
       "      <td>0</td>\n",
       "      <td>1</td>\n",
       "      <td>0</td>\n",
       "      <td>0</td>\n",
       "      <td>0</td>\n",
       "      <td>...</td>\n",
       "      <td>0</td>\n",
       "      <td>0</td>\n",
       "      <td>0</td>\n",
       "      <td>0</td>\n",
       "      <td>0</td>\n",
       "      <td>1</td>\n",
       "      <td>0</td>\n",
       "      <td>1</td>\n",
       "      <td>0</td>\n",
       "      <td>0</td>\n",
       "    </tr>\n",
       "    <tr>\n",
       "      <th>3</th>\n",
       "      <td>0</td>\n",
       "      <td>0</td>\n",
       "      <td>0</td>\n",
       "      <td>0</td>\n",
       "      <td>0</td>\n",
       "      <td>0</td>\n",
       "      <td>0</td>\n",
       "      <td>0</td>\n",
       "      <td>0</td>\n",
       "      <td>0</td>\n",
       "      <td>...</td>\n",
       "      <td>0</td>\n",
       "      <td>0</td>\n",
       "      <td>0</td>\n",
       "      <td>0</td>\n",
       "      <td>0</td>\n",
       "      <td>0</td>\n",
       "      <td>0</td>\n",
       "      <td>0</td>\n",
       "      <td>0</td>\n",
       "      <td>0</td>\n",
       "    </tr>\n",
       "    <tr>\n",
       "      <th>4</th>\n",
       "      <td>0</td>\n",
       "      <td>0</td>\n",
       "      <td>0</td>\n",
       "      <td>0</td>\n",
       "      <td>0</td>\n",
       "      <td>0</td>\n",
       "      <td>0</td>\n",
       "      <td>0</td>\n",
       "      <td>0</td>\n",
       "      <td>0</td>\n",
       "      <td>...</td>\n",
       "      <td>0</td>\n",
       "      <td>0</td>\n",
       "      <td>0</td>\n",
       "      <td>0</td>\n",
       "      <td>0</td>\n",
       "      <td>0</td>\n",
       "      <td>0</td>\n",
       "      <td>0</td>\n",
       "      <td>0</td>\n",
       "      <td>0</td>\n",
       "    </tr>\n",
       "    <tr>\n",
       "      <th>5</th>\n",
       "      <td>0</td>\n",
       "      <td>0</td>\n",
       "      <td>0</td>\n",
       "      <td>0</td>\n",
       "      <td>0</td>\n",
       "      <td>0</td>\n",
       "      <td>0</td>\n",
       "      <td>0</td>\n",
       "      <td>0</td>\n",
       "      <td>0</td>\n",
       "      <td>...</td>\n",
       "      <td>0</td>\n",
       "      <td>0</td>\n",
       "      <td>0</td>\n",
       "      <td>0</td>\n",
       "      <td>0</td>\n",
       "      <td>0</td>\n",
       "      <td>0</td>\n",
       "      <td>0</td>\n",
       "      <td>0</td>\n",
       "      <td>0</td>\n",
       "    </tr>\n",
       "    <tr>\n",
       "      <th>6</th>\n",
       "      <td>0</td>\n",
       "      <td>0</td>\n",
       "      <td>0</td>\n",
       "      <td>0</td>\n",
       "      <td>0</td>\n",
       "      <td>0</td>\n",
       "      <td>0</td>\n",
       "      <td>0</td>\n",
       "      <td>0</td>\n",
       "      <td>0</td>\n",
       "      <td>...</td>\n",
       "      <td>0</td>\n",
       "      <td>0</td>\n",
       "      <td>0</td>\n",
       "      <td>0</td>\n",
       "      <td>0</td>\n",
       "      <td>0</td>\n",
       "      <td>0</td>\n",
       "      <td>0</td>\n",
       "      <td>0</td>\n",
       "      <td>0</td>\n",
       "    </tr>\n",
       "    <tr>\n",
       "      <th>7</th>\n",
       "      <td>0</td>\n",
       "      <td>0</td>\n",
       "      <td>0</td>\n",
       "      <td>0</td>\n",
       "      <td>0</td>\n",
       "      <td>0</td>\n",
       "      <td>0</td>\n",
       "      <td>0</td>\n",
       "      <td>0</td>\n",
       "      <td>0</td>\n",
       "      <td>...</td>\n",
       "      <td>0</td>\n",
       "      <td>0</td>\n",
       "      <td>0</td>\n",
       "      <td>0</td>\n",
       "      <td>0</td>\n",
       "      <td>0</td>\n",
       "      <td>0</td>\n",
       "      <td>0</td>\n",
       "      <td>0</td>\n",
       "      <td>0</td>\n",
       "    </tr>\n",
       "    <tr>\n",
       "      <th>8</th>\n",
       "      <td>0</td>\n",
       "      <td>0</td>\n",
       "      <td>0</td>\n",
       "      <td>0</td>\n",
       "      <td>0</td>\n",
       "      <td>0</td>\n",
       "      <td>0</td>\n",
       "      <td>0</td>\n",
       "      <td>0</td>\n",
       "      <td>0</td>\n",
       "      <td>...</td>\n",
       "      <td>0</td>\n",
       "      <td>0</td>\n",
       "      <td>0</td>\n",
       "      <td>0</td>\n",
       "      <td>0</td>\n",
       "      <td>0</td>\n",
       "      <td>0</td>\n",
       "      <td>0</td>\n",
       "      <td>0</td>\n",
       "      <td>0</td>\n",
       "    </tr>\n",
       "    <tr>\n",
       "      <th>9</th>\n",
       "      <td>0</td>\n",
       "      <td>0</td>\n",
       "      <td>0</td>\n",
       "      <td>0</td>\n",
       "      <td>0</td>\n",
       "      <td>0</td>\n",
       "      <td>0</td>\n",
       "      <td>0</td>\n",
       "      <td>0</td>\n",
       "      <td>0</td>\n",
       "      <td>...</td>\n",
       "      <td>0</td>\n",
       "      <td>0</td>\n",
       "      <td>0</td>\n",
       "      <td>0</td>\n",
       "      <td>0</td>\n",
       "      <td>0</td>\n",
       "      <td>0</td>\n",
       "      <td>0</td>\n",
       "      <td>0</td>\n",
       "      <td>0</td>\n",
       "    </tr>\n",
       "    <tr>\n",
       "      <th>10</th>\n",
       "      <td>0</td>\n",
       "      <td>0</td>\n",
       "      <td>0</td>\n",
       "      <td>0</td>\n",
       "      <td>0</td>\n",
       "      <td>0</td>\n",
       "      <td>0</td>\n",
       "      <td>0</td>\n",
       "      <td>0</td>\n",
       "      <td>0</td>\n",
       "      <td>...</td>\n",
       "      <td>0</td>\n",
       "      <td>0</td>\n",
       "      <td>0</td>\n",
       "      <td>0</td>\n",
       "      <td>0</td>\n",
       "      <td>0</td>\n",
       "      <td>0</td>\n",
       "      <td>0</td>\n",
       "      <td>0</td>\n",
       "      <td>0</td>\n",
       "    </tr>\n",
       "  </tbody>\n",
       "</table>\n",
       "<p>10 rows × 284 columns</p>\n",
       "</div>"
      ],
      "text/plain": [
       "    4eor  2qbq  3g2n  1ydr  3uev  2xnb  3qqs  1w4o  4jxs  3zsx  ...  4ddh  \\\n",
       "1      0     0     0     1     0     0     0     0     0     0  ...     0   \n",
       "2      1     0     0     0     0     0     1     0     0     0  ...     0   \n",
       "3      0     0     0     0     0     0     0     0     0     0  ...     0   \n",
       "4      0     0     0     0     0     0     0     0     0     0  ...     0   \n",
       "5      0     0     0     0     0     0     0     0     0     0  ...     0   \n",
       "6      0     0     0     0     0     0     0     0     0     0  ...     0   \n",
       "7      0     0     0     0     0     0     0     0     0     0  ...     0   \n",
       "8      0     0     0     0     0     0     0     0     0     0  ...     0   \n",
       "9      0     0     0     0     0     0     0     0     0     0  ...     0   \n",
       "10     0     0     0     0     0     0     0     0     0     0  ...     0   \n",
       "\n",
       "    3oe4  3g31  4jsz  3udh  4w9l  2cbv  4j28  2j78  3bgz  \n",
       "1      1     0     0     1     0     1     0     1     0  \n",
       "2      0     0     0     0     1     0     1     0     0  \n",
       "3      0     0     0     0     0     0     0     0     0  \n",
       "4      0     0     0     0     0     0     0     0     0  \n",
       "5      0     0     0     0     0     0     0     0     0  \n",
       "6      0     0     0     0     0     0     0     0     0  \n",
       "7      0     0     0     0     0     0     0     0     0  \n",
       "8      0     0     0     0     0     0     0     0     0  \n",
       "9      0     0     0     0     0     0     0     0     0  \n",
       "10     0     0     0     0     0     0     0     0     0  \n",
       "\n",
       "[10 rows x 284 columns]"
      ]
     },
     "execution_count": 130,
     "metadata": {},
     "output_type": "execute_result"
    }
   ],
   "source": [
    "result"
   ]
  },
  {
   "cell_type": "markdown",
   "id": "a13e732e-1d98-44da-acf0-2e90101a7566",
   "metadata": {},
   "source": [
    "#### Report "
   ]
  },
  {
   "cell_type": "markdown",
   "id": "c068732a-3c11-4526-ad5f-2a37ee980734",
   "metadata": {},
   "source": [
    "#### Merge "
   ]
  },
  {
   "cell_type": "code",
   "execution_count": 131,
   "id": "a95a1397-60d3-4b7d-8bd6-92d40a8428d6",
   "metadata": {},
   "outputs": [],
   "source": [
    "path_to_docked = \"/home/lbcb02/Workspace/General data/docked/ex_50_bz_10_poses_10_v2\"\n",
    "lepton = pd.DataFrame(columns = [\"pdb\",\"class\"])\n",
    "\n",
    "for class_ in [\"best\",\"good\",\"bad\",\"verybad\"]: \n",
    "    color_path = os.path.join(path_to_docked, class_)\n",
    "    if os.path.exists(color_path):\n",
    "        for pdb in os.listdir(color_path):\n",
    "            lepton = lepton.append({\"pdb\":pdb, \"class\":class_}, ignore_index = True)\n",
    "    else:\n",
    "        print(\"Incorrect path\")"
   ]
  },
  {
   "cell_type": "code",
   "execution_count": 132,
   "id": "234a3b5d-ba7c-4a9f-9437-d6cfde615334",
   "metadata": {},
   "outputs": [],
   "source": [
    "mapeador = {'best': 'A'\n",
    "            , 'good': 'B'\n",
    "            , 'bad': 'C'\n",
    "            , 'verybad': 'D'}"
   ]
  },
  {
   "cell_type": "code",
   "execution_count": 133,
   "id": "3bba09df-2a15-418b-a623-c64a6f3a93f9",
   "metadata": {},
   "outputs": [],
   "source": [
    "lepton['class_to_sort'] = lepton['class'].map(mapeador)"
   ]
  },
  {
   "cell_type": "code",
   "execution_count": 136,
   "id": "eb5e2c23-b769-4942-aa6e-4349cd386dfd",
   "metadata": {},
   "outputs": [
    {
     "ename": "AttributeError",
     "evalue": "'int' object has no attribute 'head'",
     "output_type": "error",
     "traceback": [
      "\u001b[0;31m---------------------------------------------------------------------------\u001b[0m",
      "\u001b[0;31mAttributeError\u001b[0m                            Traceback (most recent call last)",
      "\u001b[0;32m/tmp/ipykernel_20197/3742976947.py\u001b[0m in \u001b[0;36m<module>\u001b[0;34m\u001b[0m\n\u001b[0;32m----> 1\u001b[0;31m \u001b[0mlabel\u001b[0m\u001b[0;34m.\u001b[0m\u001b[0mhead\u001b[0m\u001b[0;34m(\u001b[0m\u001b[0;34m)\u001b[0m\u001b[0;34m\u001b[0m\u001b[0;34m\u001b[0m\u001b[0m\n\u001b[0m",
      "\u001b[0;31mAttributeError\u001b[0m: 'int' object has no attribute 'head'"
     ]
    }
   ],
   "source": [
    "label.head()"
   ]
  },
  {
   "cell_type": "code",
   "execution_count": 134,
   "id": "839b8cc7-764e-4406-8f2a-37dbf53d5a4b",
   "metadata": {},
   "outputs": [
    {
     "ename": "AttributeError",
     "evalue": "'int' object has no attribute 'round'",
     "output_type": "error",
     "traceback": [
      "\u001b[0;31m---------------------------------------------------------------------------\u001b[0m",
      "\u001b[0;31mAttributeError\u001b[0m                            Traceback (most recent call last)",
      "\u001b[0;32m/tmp/ipykernel_20197/2658337251.py\u001b[0m in \u001b[0;36m<module>\u001b[0;34m\u001b[0m\n\u001b[0;32m----> 1\u001b[0;31m \u001b[0mlabel\u001b[0m \u001b[0;34m=\u001b[0m \u001b[0mlabel\u001b[0m\u001b[0;34m.\u001b[0m\u001b[0mround\u001b[0m\u001b[0;34m(\u001b[0m\u001b[0;36m2\u001b[0m\u001b[0;34m)\u001b[0m\u001b[0;34m\u001b[0m\u001b[0;34m\u001b[0m\u001b[0m\n\u001b[0m",
      "\u001b[0;31mAttributeError\u001b[0m: 'int' object has no attribute 'round'"
     ]
    }
   ],
   "source": [
    "label = label.round(2)"
   ]
  },
  {
   "cell_type": "code",
   "execution_count": 79,
   "id": "a5326614-e675-488c-8982-279b6e2f65b8",
   "metadata": {},
   "outputs": [],
   "source": [
    "label.head()"
   ]
  },
  {
   "cell_type": "code",
   "execution_count": 80,
   "id": "8aef7c38-110e-45d5-993e-b80dbd4d7923",
   "metadata": {},
   "outputs": [
    {
     "ename": "AttributeError",
     "evalue": "'int' object has no attribute 'sort_values'",
     "output_type": "error",
     "traceback": [
      "\u001b[0;31m---------------------------------------------------------------------------\u001b[0m",
      "\u001b[0;31mAttributeError\u001b[0m                            Traceback (most recent call last)",
      "\u001b[0;32m/tmp/ipykernel_20197/3896949675.py\u001b[0m in \u001b[0;36m<module>\u001b[0;34m\u001b[0m\n\u001b[0;32m----> 1\u001b[0;31m \u001b[0mbest_weight\u001b[0m \u001b[0;34m=\u001b[0m \u001b[0mlabel\u001b[0m\u001b[0;34m.\u001b[0m\u001b[0msort_values\u001b[0m\u001b[0;34m(\u001b[0m\u001b[0;34m[\u001b[0m\u001b[0;34m\"pdb\"\u001b[0m\u001b[0;34m,\u001b[0m \u001b[0;34m\"weight\"\u001b[0m\u001b[0;34m]\u001b[0m\u001b[0;34m,\u001b[0m \u001b[0mascending\u001b[0m \u001b[0;34m=\u001b[0m \u001b[0;32mFalse\u001b[0m\u001b[0;34m)\u001b[0m\u001b[0;34m.\u001b[0m\u001b[0mdrop_duplicates\u001b[0m\u001b[0;34m(\u001b[0m\u001b[0;34m\"pdb\"\u001b[0m\u001b[0;34m,\u001b[0m \u001b[0mkeep\u001b[0m \u001b[0;34m=\u001b[0m \u001b[0;34m\"first\"\u001b[0m\u001b[0;34m)\u001b[0m\u001b[0;34m\u001b[0m\u001b[0;34m\u001b[0m\u001b[0m\n\u001b[0m\u001b[1;32m      2\u001b[0m \u001b[0mbest_weight_similarity\u001b[0m \u001b[0;34m=\u001b[0m \u001b[0mlabel\u001b[0m\u001b[0;34m.\u001b[0m\u001b[0msort_values\u001b[0m\u001b[0;34m(\u001b[0m\u001b[0;34m[\u001b[0m\u001b[0;34m\"pdb\"\u001b[0m\u001b[0;34m,\u001b[0m \u001b[0;34m\"weight_similarity\"\u001b[0m\u001b[0;34m]\u001b[0m\u001b[0;34m,\u001b[0m \u001b[0mascending\u001b[0m \u001b[0;34m=\u001b[0m \u001b[0;32mFalse\u001b[0m\u001b[0;34m)\u001b[0m\u001b[0;34m.\u001b[0m\u001b[0mdrop_duplicates\u001b[0m\u001b[0;34m(\u001b[0m\u001b[0;34m\"pdb\"\u001b[0m\u001b[0;34m,\u001b[0m \u001b[0mkeep\u001b[0m \u001b[0;34m=\u001b[0m \u001b[0;34m\"first\"\u001b[0m\u001b[0;34m)\u001b[0m\u001b[0;34m\u001b[0m\u001b[0;34m\u001b[0m\u001b[0m\n\u001b[1;32m      3\u001b[0m \u001b[0mbest_weight_rmsd\u001b[0m \u001b[0;34m=\u001b[0m \u001b[0mlabel\u001b[0m\u001b[0;34m.\u001b[0m\u001b[0msort_values\u001b[0m\u001b[0;34m(\u001b[0m\u001b[0;34m[\u001b[0m\u001b[0;34m\"pdb\"\u001b[0m\u001b[0;34m,\u001b[0m \u001b[0;34m\"weight_rmsd\"\u001b[0m\u001b[0;34m]\u001b[0m\u001b[0;34m,\u001b[0m \u001b[0mascending\u001b[0m \u001b[0;34m=\u001b[0m \u001b[0;32mFalse\u001b[0m\u001b[0;34m)\u001b[0m\u001b[0;34m.\u001b[0m\u001b[0mdrop_duplicates\u001b[0m\u001b[0;34m(\u001b[0m\u001b[0;34m\"pdb\"\u001b[0m\u001b[0;34m,\u001b[0m \u001b[0mkeep\u001b[0m \u001b[0;34m=\u001b[0m \u001b[0;34m\"first\"\u001b[0m\u001b[0;34m)\u001b[0m\u001b[0;34m\u001b[0m\u001b[0;34m\u001b[0m\u001b[0m\n",
      "\u001b[0;31mAttributeError\u001b[0m: 'int' object has no attribute 'sort_values'"
     ]
    }
   ],
   "source": [
    "best_weight = label.sort_values([\"pdb\", \"weight\"], ascending = False).drop_duplicates(\"pdb\", keep = \"first\")\n",
    "best_weight_similarity = label.sort_values([\"pdb\", \"weight_similarity\"], ascending = False).drop_duplicates(\"pdb\", keep = \"first\")\n",
    "best_weight_rmsd = label.sort_values([\"pdb\", \"weight_rmsd\"], ascending = False).drop_duplicates(\"pdb\", keep = \"first\")"
   ]
  },
  {
   "cell_type": "code",
   "execution_count": null,
   "id": "fde76736-6fa0-4956-b727-2fc27abbb580",
   "metadata": {},
   "outputs": [],
   "source": [
    "#label.sort_values([\"pdb\", \"weight\"], ascending = False).head(30)"
   ]
  },
  {
   "cell_type": "code",
   "execution_count": null,
   "id": "cb5d3f16-f940-4af4-8025-17fc55a041aa",
   "metadata": {},
   "outputs": [],
   "source": [
    "merged_best_weight = pd.merge(best_weight, lepton, on = ['pdb'], how = \"inner\")\n",
    "merged_best_weight_similarity = pd.merge(best_weight_similarity, lepton, on = ['pdb'], how = \"inner\")\n",
    "merged_best_weight_rmsd = pd.merge(best_weight_rmsd, lepton, on = ['pdb'], how = \"inner\")"
   ]
  },
  {
   "cell_type": "markdown",
   "id": "73329554-f5bb-41ab-ac6c-31e2497aa423",
   "metadata": {},
   "source": [
    "#### Functions "
   ]
  },
  {
   "cell_type": "code",
   "execution_count": null,
   "id": "8c18d807-94ff-4be6-bed6-7fa9152cb26f",
   "metadata": {},
   "outputs": [],
   "source": [
    "import seaborn as sns\n",
    "import matplotlib.pyplot as plt\n",
    "\n",
    "def plot_count_distribution(data, x, hue, title):\n",
    "    # Set the style for the plot\n",
    "    sns.set(style=\"whitegrid\")\n",
    "\n",
    "    # Create a figure and axis\n",
    "    fig, ax = plt.subplots()\n",
    "\n",
    "\n",
    "    # Remove the grid\n",
    "    ax.grid(False)\n",
    "\n",
    "    # Remove the top and right spines\n",
    "    ax.spines['top'].set_visible(False)\n",
    "    ax.spines['right'].set_visible(False)\n",
    "    \n",
    "    # Plot a bar plot with hue for each class\n",
    "    sns.countplot(data=data, x=x, hue=hue, palette='tab10')\n",
    "\n",
    "    # Set the plot labels and title\n",
    "    ax.set(xlabel='Classe', ylabel='Qtd', title=title)\n",
    "\n",
    "    # Format x-axis labels\n",
    "    ax.set_xticklabels(ax.get_xticklabels(), rotation=0, horizontalalignment='right')\n",
    "\n",
    "    # Display the plot\n",
    "    plt.show()"
   ]
  },
  {
   "cell_type": "markdown",
   "id": "306e0155-5d37-4232-85e4-9266be4e6f73",
   "metadata": {},
   "source": [
    "#### Distribuition "
   ]
  },
  {
   "cell_type": "code",
   "execution_count": null,
   "id": "ae0d80a3-61c0-47ed-80b8-f6f6ef7106be",
   "metadata": {},
   "outputs": [],
   "source": [
    "plot_count_distribution(data=merged_best_weight.sort_values('class_to_sort'), x='weight', hue='class', title = 'Distribuição para rmsd e similaridade com pesos iguais')"
   ]
  },
  {
   "cell_type": "code",
   "execution_count": null,
   "id": "13996558-3d40-4335-8c2a-7b1267f984bf",
   "metadata": {},
   "outputs": [],
   "source": [
    "plot_count_distribution(data=merged_best_weight_similarity.sort_values('class_to_sort'), x='weight_similarity', hue='class', title = 'Distribuição para similaridade com peso maior')"
   ]
  },
  {
   "cell_type": "code",
   "execution_count": null,
   "id": "234a7ea5-fcd0-41a3-9384-1445e8361f2d",
   "metadata": {},
   "outputs": [],
   "source": [
    "plot_count_distribution(data=merged_best_weight_rmsd.sort_values('class_to_sort'), x='weight_rmsd', hue='class',  title = 'Distribuição para RMSD com peso maior')"
   ]
  },
  {
   "cell_type": "code",
   "execution_count": null,
   "id": "10320eb7-e177-4258-9cb4-9a156b8bbdeb",
   "metadata": {},
   "outputs": [],
   "source": [
    "#merged_best[(merged_best['class']=='best') & (merged_best['weight']==0.5)].head(10)"
   ]
  },
  {
   "cell_type": "markdown",
   "id": "fbc01c04-9ed8-4d00-8c6b-ebf6001d79b3",
   "metadata": {},
   "source": [
    "First the RMSD and the similarity metric is caulculated, \n",
    "\n",
    "| score | rmsd weight |\n",
    "|-------|------|\n",
    "| rmsd < 2 | 10 |\n",
    "| 2 < rmsd < 3 | 7 |\n",
    "| rmsd > 3 | 0 |\n",
    "\n",
    "| score | match weight|\n",
    "|-------|-------|\n",
    "| > 80 | 10 |\n",
    "| >= 70 | 7 |\n",
    "| < 70 | 0| \n",
    "\n",
    "\n",
    "Then the score is thefined as \n",
    "\n",
    "$$\n",
    "Score = \\frac{{\\text{{rmsd weight}} \\times 0.3 + \\text{{match weight}} \\times 0.7}}{{20}}\n",
    "$$\n",
    "\n"
   ]
  },
  {
   "cell_type": "markdown",
   "id": "5746ee9d-b091-4c57-8c6d-6ccca9402f62",
   "metadata": {},
   "source": []
  },
  {
   "cell_type": "markdown",
   "id": "9c856609-e4a2-4ce0-a7f4-6b94ce384d1d",
   "metadata": {},
   "source": []
  },
  {
   "cell_type": "code",
   "execution_count": null,
   "id": "906a653a-1f9b-4a12-b780-4c475ffdf2c6",
   "metadata": {},
   "outputs": [],
   "source": []
  }
 ],
 "metadata": {
  "kernelspec": {
   "display_name": "master_37",
   "language": "python",
   "name": "master_37"
  },
  "language_info": {
   "codemirror_mode": {
    "name": "ipython",
    "version": 3
   },
   "file_extension": ".py",
   "mimetype": "text/x-python",
   "name": "python",
   "nbconvert_exporter": "python",
   "pygments_lexer": "ipython3",
   "version": "3.7.16"
  }
 },
 "nbformat": 4,
 "nbformat_minor": 5
}
