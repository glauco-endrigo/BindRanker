{
 "cells": [
  {
   "cell_type": "markdown",
   "id": "ca26fe63-e7e7-44f1-80af-d0b99212cec7",
   "metadata": {},
   "source": [
    "<font color = \"red\"> Binana close contacts! "
   ]
  },
  {
   "cell_type": "markdown",
   "id": "a2063062-8955-42df-8736-b1c7e9add814",
   "metadata": {},
   "source": [
    "#### Overview "
   ]
  },
  {
   "cell_type": "markdown",
   "id": "2bbc1cad-a95c-493f-80aa-dae66e4723a9",
   "metadata": {},
   "source": [
    "| Task                                      | Description                                                   |\n",
    "|-------------------------------------------|---------------------------------------------------------------|\n",
    "| Run Binana                                | Execute Binana for all PDBs and poses                         |\n",
    "| Read logfile                              | Create a dictionary with information from log files           |\n",
    "| Getting dict info                         | - Close Contacts [OK] <br> - Hydrogen Bonds                  |\n",
    "| Extract atom properties (RDkit)           | - Atom Index <br> - Name <br> - Mass <br> - Charge <br> - Element Name <br> - Hybridization <br> - Num Hydrogens <br> - Formal Charge <br> - Unpaired Electron <br> - In Aromatic Substructure |\n",
    "| Preparing data for graph                  | - protgraph_dict[pdb][pose] = {<br>&nbsp;&nbsp;&nbsp;&nbsp;'x_s': x_s (ligand properties),<br>&nbsp;&nbsp;&nbsp;&nbsp;'x_t': x_t (receptor properties),<br>&nbsp;&nbsp;&nbsp;&nbsp;'edge_index': edge_index (Matrix [2, number of connections]),<br>&nbsp;&nbsp;&nbsp;&nbsp;'edge_attr': edge_attr (Vector [distances])<br>} |\n",
    "| Protgraph_dict                            | --> BipartiteData data  --> Dataset list  --> DataLoader  --> Graph Attention Model |\n"
   ]
  },
  {
   "cell_type": "markdown",
   "id": "9e2d5aeb-7696-4666-b6ef-66947391ff57",
   "metadata": {},
   "source": [
    "### Libraries "
   ]
  },
  {
   "cell_type": "code",
   "execution_count": 17,
   "id": "e10715e3-1f8d-48b7-858d-8a9c7624b2c3",
   "metadata": {},
   "outputs": [],
   "source": [
    "from tqdm import tqdm\n",
    "import pickle\n",
    "import torch\n",
    "from torch_geometric.data import Data, DataLoader\n",
    "from torch_geometric.nn import GCNConv\n",
    "import torch.nn as nn\n",
    "import torch.nn.functional as F\n",
    "import os\n",
    "import pandas as pd\n",
    "import subprocess\n",
    "import numpy as np\n",
    "import torch\n",
    "import pandas as pd\n",
    "from rdkit import Chem\n",
    "from rdkit.Chem import Descriptors\n",
    "import os\n",
    "from torch_geometric.loader import DataLoader\n",
    "from pathlib import Path\n",
    "import torch.nn as nn\n",
    "import torch.optim as optim\n",
    "from torch_geometric.data import DataLoader, Data\n",
    "from torch_geometric.nn import GCNConv\n",
    "import torch\n",
    "import torch.nn as nn\n",
    "import torch.optim as optim\n",
    "from torch_geometric.data import Data, DataLoader\n",
    "from torch_geometric.nn import GATConv\n",
    "import random\n",
    "from sklearn.model_selection import StratifiedKFold\n",
    "from sklearn.metrics import accuracy_score, precision_score, recall_score, f1_score\n",
    "import matplotlib.pyplot as plt\n",
    "from collections import Counter\n",
    "from torch_geometric.data import Data, Dataset\n",
    "import json\n",
    "import os\n",
    "import pandas as pd\n",
    "import pandas as pd\n",
    "from rdkit import Chem\n",
    "import torch\n",
    "import numpy as np\n",
    "from torch.utils.data import Dataset\n",
    "import pickle\n",
    "from collections import defaultdict\n",
    "from pathlib import Path\n",
    "import torch.nn.functional as F\n",
    "import pickle"
   ]
  },
  {
   "cell_type": "code",
   "execution_count": 18,
   "id": "c80d7f67-0b2a-4011-b332-41d44da7bdc2",
   "metadata": {},
   "outputs": [],
   "source": [
    "import json "
   ]
  },
  {
   "cell_type": "code",
   "execution_count": 19,
   "id": "e3967f40-ab3a-4ad9-b93b-89afd6d26328",
   "metadata": {},
   "outputs": [],
   "source": [
    "%run ../Config.ipynb"
   ]
  },
  {
   "cell_type": "code",
   "execution_count": 20,
   "id": "1ed63763-2f89-4795-9572-7ca315b00cf4",
   "metadata": {},
   "outputs": [],
   "source": [
    "%run ../Config.ipynb\n",
    "config = Config()\n",
    "pdbs = os.listdir(config.set)\n",
    "nposes = config.docking_params['nposes']\n",
    "batch_size  = config.model_args['batch_size']\n",
    "path_scripts = Path(os.getcwd())\n",
    "num_epochs = config.model_args['epochs']\n",
    "num_folds = config.model_args['nfolds']\n",
    "patience = config.model_args['patience']  # Set your desired patience value\n",
    "binana_executable = config.executables['binana']"
   ]
  },
  {
   "cell_type": "code",
   "execution_count": 21,
   "id": "dc2e76af-c249-460b-a55f-0195ed4f6e2d",
   "metadata": {},
   "outputs": [
    {
     "data": {
      "text/plain": [
       "284"
      ]
     },
     "execution_count": 21,
     "metadata": {},
     "output_type": "execute_result"
    }
   ],
   "source": [
    "len(pdbs)"
   ]
  },
  {
   "cell_type": "markdown",
   "id": "e3b8a71b",
   "metadata": {},
   "source": [
    "### Read logfile"
   ]
  },
  {
   "cell_type": "code",
   "execution_count": 22,
   "id": "c5bc58e7",
   "metadata": {},
   "outputs": [
    {
     "name": "stdout",
     "output_type": "stream",
     "text": [
      "CPU times: user 3.74 s, sys: 610 ms, total: 4.35 s\n",
      "Wall time: 5.79 s\n"
     ]
    }
   ],
   "source": [
    "%%time\n",
    "data_dict_all_logs_exp = defaultdict(dict)\n",
    "data_dict_all_logs_docked = defaultdict(dict)\n",
    "def read_logfile(pdb, pose=None):\n",
    "    # Define the common part of the file path\n",
    "    common_path = f\"{config.set}/{pdb}/binana/binana_{pdb}\"\n",
    "    \n",
    "    # Adjust the file path based on whether the pose parameter is provided\n",
    "    path = common_path + (f\"_pose_{pose}\" if pose is not None else \"\") + \"/log.txt\"\n",
    "\n",
    "     \n",
    "    try: # Read the text file using Path\n",
    "        with Path(path).open('r') as file:\n",
    "            text = file.read()\n",
    "    \n",
    "    \n",
    "        # Extract the content after \"JSON Output:\"\n",
    "        json_text = text.split(\"JSON Output:\")[1].strip()\n",
    "        \n",
    "        # Convert the JSON text to a dictionary\n",
    "        data_dict = json.loads(json_text)\n",
    "        \n",
    "        # Store the data dictionary for the pose if pose is provided\n",
    "        if pose is not None:\n",
    "            data_dict_all_logs_docked[pdb][pose] = data_dict\n",
    "        else:\n",
    "            # Store the data dictionary for the pose (from the first code)\n",
    "            data_dict_all_logs_exp[pdb] = data_dict\n",
    "\n",
    "    except:\n",
    "        print(\"Error when opening file \", path)\n",
    "    \n",
    "    return data_dict_all_logs_exp, data_dict_all_logs_docked\n",
    "\n",
    "# Example usage: provide pose parameter for the second code, leave it empty for the first code\n",
    "for pdb in pdbs:\n",
    "    read_logfile(pdb)  # Run logic from the first code\n",
    "    for pose in range(1, nposes + 1):\n",
    "        read_logfile(pdb, pose)  # Run logic from the second code"
   ]
  },
  {
   "cell_type": "markdown",
   "id": "0620f310-39d8-41e6-bafe-2d9a61e6915d",
   "metadata": {},
   "source": [
    "* 1min 30s"
   ]
  },
  {
   "cell_type": "code",
   "execution_count": 23,
   "id": "c4459fef-1a28-49e1-888d-241c72df9ae4",
   "metadata": {},
   "outputs": [],
   "source": [
    "#data_dict_all_logs_docked.get('2qbq')"
   ]
  },
  {
   "cell_type": "markdown",
   "id": "46d355b3-a99d-4c6f-8486-d024df613e15",
   "metadata": {},
   "source": [
    "### Getting dict info "
   ]
  },
  {
   "cell_type": "code",
   "execution_count": 24,
   "id": "264d8e27",
   "metadata": {
    "scrolled": true
   },
   "outputs": [
    {
     "name": "stdout",
     "output_type": "stream",
     "text": [
      "CPU times: user 5 µs, sys: 0 ns, total: 5 µs\n",
      "Wall time: 8.82 µs\n"
     ]
    }
   ],
   "source": [
    "%%time\n",
    "def flatten_data(df, pdb, pose = False):\n",
    "    flat_data = []\n",
    "    if pose == False:\n",
    "        data = df[pdb]['closeContacts']\n",
    "    else:\n",
    "        data = df[pdb][pose]['closeContacts']\n",
    "    \n",
    "    for entry in data:\n",
    "        flat_entry = {\n",
    "            'ligand_atom_index': entry['ligandAtoms'][0]['atomIndex'],\n",
    "            'ligand_atom_name': entry['ligandAtoms'][0]['atomName'],\n",
    "            'ligand_chain': entry['ligandAtoms'][0]['chain'],\n",
    "            'ligand_resID': entry['ligandAtoms'][0]['resID'],\n",
    "            'ligand_resName': entry['ligandAtoms'][0]['resName'],\n",
    "            #'angle': entry['metrics']['angle'],\n",
    "            'distance': entry['metrics']['distance'],\n",
    "            'receptor_atom_index': entry['receptorAtoms'][0]['atomIndex'],\n",
    "            'receptor_atom_name': entry['receptorAtoms'][0]['atomName'],\n",
    "            'receptor_chain': entry['receptorAtoms'][0]['chain'],\n",
    "            'receptor_resID': entry['receptorAtoms'][0]['resID'],\n",
    "            'receptor_resName': entry['receptorAtoms'][0]['resName'],\n",
    "        }\n",
    "        flat_data.append(flat_entry)\n",
    "\n",
    "    return pd.DataFrame(flat_data)\n"
   ]
  },
  {
   "cell_type": "code",
   "execution_count": 25,
   "id": "8a5a0341-39e5-420c-84ed-c1fb1f591080",
   "metadata": {},
   "outputs": [],
   "source": [
    "#data_dict_all_logs_docked.get(\"1uz8\")"
   ]
  },
  {
   "cell_type": "code",
   "execution_count": 26,
   "id": "a3861089-dcd9-4819-94c2-b47efef0c5ab",
   "metadata": {},
   "outputs": [
    {
     "name": "stdout",
     "output_type": "stream",
     "text": [
      "CPU times: user 770 ms, sys: 3.08 ms, total: 773 ms\n",
      "Wall time: 780 ms\n"
     ]
    }
   ],
   "source": [
    "%%time\n",
    "data_frames_exp = []\n",
    "\n",
    "# Iterate over each PDB in the list\n",
    "for pdb in pdbs:\n",
    "    try:\n",
    "        # Attempt to flatten the data and add the 'pdb' column\n",
    "        flattened_data = flatten_data(data_dict_all_logs_exp, pdb).assign(pdb=pdb)\n",
    "        # Append the flattened data frame to the list\n",
    "        data_frames_exp.append(flattened_data)\n",
    "        #print(f'Sucess processing PDB {pdb}')\n",
    "    except Exception as e:\n",
    "        # If an exception occurs, print the error and continue to the next iteration\n",
    "        print(f\"Error processing PDB {pdb}: {e}\")\n",
    "\n",
    "# Concatenate all data frames in the list along the rows\n",
    "data_frame_exp = pd.concat(data_frames_exp, axis=0)"
   ]
  },
  {
   "cell_type": "code",
   "execution_count": 27,
   "id": "cc490631-8467-4bd7-8232-d9469b7fca42",
   "metadata": {
    "scrolled": true
   },
   "outputs": [],
   "source": [
    "#data_frame_exp[(data_frame_exp[\"pdb\"] == \"4eor\")][['pdb','ligand_atom_index','ligand_atom_name','receptor_atom_index','receptor_atom_name','distance']].head()"
   ]
  },
  {
   "cell_type": "code",
   "execution_count": 28,
   "id": "77686d37-a25f-4fc3-bad5-0f6453be40fc",
   "metadata": {
    "scrolled": true
   },
   "outputs": [
    {
     "name": "stdout",
     "output_type": "stream",
     "text": [
      "CPU times: user 7.46 s, sys: 57.6 ms, total: 7.51 s\n",
      "Wall time: 7.52 s\n"
     ]
    }
   ],
   "source": [
    "%%time\n",
    "# Create a list of DataFrames with the specified conditions\n",
    "data_frames_docked = [\n",
    "    flatten_data(data_dict_all_logs_docked, pdb, pose).assign(pdb=pdb, pose=str(pose))\n",
    "    for pdb in pdbs\n",
    "    for pose in range(1, nposes)\n",
    "    if pose in data_dict_all_logs_docked.get(pdb, {})\n",
    "]\n",
    "\n",
    "# Concatenate the DataFrames\n",
    "data_frame_docked = pd.concat(data_frames_docked, axis=0)"
   ]
  },
  {
   "cell_type": "markdown",
   "id": "c9ed233e-54d9-40f9-81de-533d40273e66",
   "metadata": {},
   "source": [
    "#### Filtering by distance "
   ]
  },
  {
   "cell_type": "code",
   "execution_count": 29,
   "id": "58f5213b-1fea-4ccc-8e00-e68f0648ec7f",
   "metadata": {},
   "outputs": [
    {
     "data": {
      "text/html": [
       "<div>\n",
       "<style scoped>\n",
       "    .dataframe tbody tr th:only-of-type {\n",
       "        vertical-align: middle;\n",
       "    }\n",
       "\n",
       "    .dataframe tbody tr th {\n",
       "        vertical-align: top;\n",
       "    }\n",
       "\n",
       "    .dataframe thead th {\n",
       "        text-align: right;\n",
       "    }\n",
       "</style>\n",
       "<table border=\"1\" class=\"dataframe\">\n",
       "  <thead>\n",
       "    <tr style=\"text-align: right;\">\n",
       "      <th></th>\n",
       "      <th>ligand_atom_index</th>\n",
       "      <th>ligand_atom_name</th>\n",
       "      <th>ligand_chain</th>\n",
       "      <th>ligand_resID</th>\n",
       "      <th>ligand_resName</th>\n",
       "      <th>distance</th>\n",
       "      <th>receptor_atom_index</th>\n",
       "      <th>receptor_atom_name</th>\n",
       "      <th>receptor_chain</th>\n",
       "      <th>receptor_resID</th>\n",
       "      <th>receptor_resName</th>\n",
       "      <th>pdb</th>\n",
       "      <th>pose</th>\n",
       "    </tr>\n",
       "  </thead>\n",
       "  <tbody>\n",
       "  </tbody>\n",
       "</table>\n",
       "</div>"
      ],
      "text/plain": [
       "Empty DataFrame\n",
       "Columns: [ligand_atom_index, ligand_atom_name, ligand_chain, ligand_resID, ligand_resName, distance, receptor_atom_index, receptor_atom_name, receptor_chain, receptor_resID, receptor_resName, pdb, pose]\n",
       "Index: []"
      ]
     },
     "execution_count": 29,
     "metadata": {},
     "output_type": "execute_result"
    }
   ],
   "source": [
    "data_frame_docked[data_frame_docked['pdb'] =='5qa8']"
   ]
  },
  {
   "cell_type": "code",
   "execution_count": 30,
   "id": "6e4b1ae8-1fb7-4d86-9f8a-c0f34d385759",
   "metadata": {},
   "outputs": [],
   "source": [
    "cut = 4 "
   ]
  },
  {
   "cell_type": "code",
   "execution_count": 31,
   "id": "689d3538-e49a-4097-bdba-e1eacf31881c",
   "metadata": {},
   "outputs": [],
   "source": [
    "data_frame_docked = data_frame_docked[data_frame_docked['distance'] < cut]\n",
    "data_frame_exp = data_frame_exp[data_frame_exp['distance']<cut]"
   ]
  },
  {
   "cell_type": "markdown",
   "id": "cba57476-30b4-4f7d-b271-55744ccf64a6",
   "metadata": {},
   "source": [
    "#### Report "
   ]
  },
  {
   "cell_type": "code",
   "execution_count": 32,
   "id": "46cc3a1a-f327-4684-9d0e-a94acb847020",
   "metadata": {
    "scrolled": true
   },
   "outputs": [],
   "source": [
    "foureor1 = data_frame_docked[(data_frame_docked[\"pdb\"] == \"4eor\") & (data_frame_docked[\"pose\"] == \"1\")][['pdb','pose','ligand_atom_index','ligand_atom_name','receptor_atom_index','receptor_atom_name','distance']]"
   ]
  },
  {
   "cell_type": "code",
   "execution_count": 33,
   "id": "6f376eed-7f34-4c0b-8813-01a68e026f53",
   "metadata": {},
   "outputs": [
    {
     "data": {
      "text/html": [
       "<div>\n",
       "<style scoped>\n",
       "    .dataframe tbody tr th:only-of-type {\n",
       "        vertical-align: middle;\n",
       "    }\n",
       "\n",
       "    .dataframe tbody tr th {\n",
       "        vertical-align: top;\n",
       "    }\n",
       "\n",
       "    .dataframe thead th {\n",
       "        text-align: right;\n",
       "    }\n",
       "</style>\n",
       "<table border=\"1\" class=\"dataframe\">\n",
       "  <thead>\n",
       "    <tr style=\"text-align: right;\">\n",
       "      <th></th>\n",
       "      <th>pdb</th>\n",
       "      <th>pose</th>\n",
       "      <th>ligand_atom_index</th>\n",
       "      <th>ligand_atom_name</th>\n",
       "      <th>receptor_atom_index</th>\n",
       "      <th>receptor_atom_name</th>\n",
       "      <th>distance</th>\n",
       "    </tr>\n",
       "  </thead>\n",
       "  <tbody>\n",
       "    <tr>\n",
       "      <th>0</th>\n",
       "      <td>4eor</td>\n",
       "      <td>1</td>\n",
       "      <td>1.0</td>\n",
       "      <td>C2</td>\n",
       "      <td>92.0</td>\n",
       "      <td>CG2</td>\n",
       "      <td>3.537490</td>\n",
       "    </tr>\n",
       "    <tr>\n",
       "      <th>1</th>\n",
       "      <td>4eor</td>\n",
       "      <td>1</td>\n",
       "      <td>1.0</td>\n",
       "      <td>C2</td>\n",
       "      <td>1056.0</td>\n",
       "      <td>CD2</td>\n",
       "      <td>3.918316</td>\n",
       "    </tr>\n",
       "    <tr>\n",
       "      <th>2</th>\n",
       "      <td>4eor</td>\n",
       "      <td>1</td>\n",
       "      <td>3.0</td>\n",
       "      <td>N1</td>\n",
       "      <td>92.0</td>\n",
       "      <td>CG2</td>\n",
       "      <td>3.659126</td>\n",
       "    </tr>\n",
       "    <tr>\n",
       "      <th>3</th>\n",
       "      <td>4eor</td>\n",
       "      <td>1</td>\n",
       "      <td>3.0</td>\n",
       "      <td>N1</td>\n",
       "      <td>93.0</td>\n",
       "      <td>CD1</td>\n",
       "      <td>3.711112</td>\n",
       "    </tr>\n",
       "    <tr>\n",
       "      <th>4</th>\n",
       "      <td>4eor</td>\n",
       "      <td>1</td>\n",
       "      <td>3.0</td>\n",
       "      <td>N1</td>\n",
       "      <td>639.0</td>\n",
       "      <td>O</td>\n",
       "      <td>3.983377</td>\n",
       "    </tr>\n",
       "  </tbody>\n",
       "</table>\n",
       "</div>"
      ],
      "text/plain": [
       "    pdb pose  ligand_atom_index ligand_atom_name  receptor_atom_index  \\\n",
       "0  4eor    1                1.0               C2                 92.0   \n",
       "1  4eor    1                1.0               C2               1056.0   \n",
       "2  4eor    1                3.0               N1                 92.0   \n",
       "3  4eor    1                3.0               N1                 93.0   \n",
       "4  4eor    1                3.0               N1                639.0   \n",
       "\n",
       "  receptor_atom_name  distance  \n",
       "0                CG2  3.537490  \n",
       "1                CD2  3.918316  \n",
       "2                CG2  3.659126  \n",
       "3                CD1  3.711112  \n",
       "4                  O  3.983377  "
      ]
     },
     "execution_count": 33,
     "metadata": {},
     "output_type": "execute_result"
    }
   ],
   "source": [
    "foureor1.head()"
   ]
  },
  {
   "cell_type": "code",
   "execution_count": 34,
   "id": "1710e34e-a335-4ede-b14e-77653876ac68",
   "metadata": {},
   "outputs": [
    {
     "data": {
      "text/plain": [
       "O      15\n",
       "CG2    12\n",
       "CD1     9\n",
       "C       6\n",
       "CD2     6\n",
       "CD      5\n",
       "CB      5\n",
       "N       5\n",
       "CA      4\n",
       "CG1     4\n",
       "OE1     3\n",
       "CE1     3\n",
       "CZ      3\n",
       "OE2     2\n",
       "CE2     2\n",
       "NZ      2\n",
       "OD2     1\n",
       "CG      1\n",
       "Name: receptor_atom_name, dtype: int64"
      ]
     },
     "execution_count": 34,
     "metadata": {},
     "output_type": "execute_result"
    }
   ],
   "source": [
    "foureor1['receptor_atom_name'].value_counts()"
   ]
  },
  {
   "cell_type": "code",
   "execution_count": 35,
   "id": "950297b7-887a-4fdf-9f8a-2aedb1a6462d",
   "metadata": {},
   "outputs": [
    {
     "data": {
      "text/html": [
       "<div>\n",
       "<style scoped>\n",
       "    .dataframe tbody tr th:only-of-type {\n",
       "        vertical-align: middle;\n",
       "    }\n",
       "\n",
       "    .dataframe tbody tr th {\n",
       "        vertical-align: top;\n",
       "    }\n",
       "\n",
       "    .dataframe thead th {\n",
       "        text-align: right;\n",
       "    }\n",
       "</style>\n",
       "<table border=\"1\" class=\"dataframe\">\n",
       "  <thead>\n",
       "    <tr style=\"text-align: right;\">\n",
       "      <th></th>\n",
       "      <th>index</th>\n",
       "      <th>count</th>\n",
       "    </tr>\n",
       "  </thead>\n",
       "  <tbody>\n",
       "    <tr>\n",
       "      <th>0</th>\n",
       "      <td>92.0</td>\n",
       "      <td>8</td>\n",
       "    </tr>\n",
       "    <tr>\n",
       "      <th>1</th>\n",
       "      <td>647.0</td>\n",
       "      <td>7</td>\n",
       "    </tr>\n",
       "    <tr>\n",
       "      <th>2</th>\n",
       "      <td>1056.0</td>\n",
       "      <td>5</td>\n",
       "    </tr>\n",
       "    <tr>\n",
       "      <th>3</th>\n",
       "      <td>639.0</td>\n",
       "      <td>5</td>\n",
       "    </tr>\n",
       "    <tr>\n",
       "      <th>4</th>\n",
       "      <td>1055.0</td>\n",
       "      <td>5</td>\n",
       "    </tr>\n",
       "    <tr>\n",
       "      <th>5</th>\n",
       "      <td>654.0</td>\n",
       "      <td>4</td>\n",
       "    </tr>\n",
       "    <tr>\n",
       "      <th>6</th>\n",
       "      <td>646.0</td>\n",
       "      <td>4</td>\n",
       "    </tr>\n",
       "    <tr>\n",
       "      <th>7</th>\n",
       "      <td>75.0</td>\n",
       "      <td>3</td>\n",
       "    </tr>\n",
       "    <tr>\n",
       "      <th>8</th>\n",
       "      <td>248.0</td>\n",
       "      <td>3</td>\n",
       "    </tr>\n",
       "    <tr>\n",
       "      <th>9</th>\n",
       "      <td>655.0</td>\n",
       "      <td>3</td>\n",
       "    </tr>\n",
       "  </tbody>\n",
       "</table>\n",
       "</div>"
      ],
      "text/plain": [
       "    index  count\n",
       "0    92.0      8\n",
       "1   647.0      7\n",
       "2  1056.0      5\n",
       "3   639.0      5\n",
       "4  1055.0      5\n",
       "5   654.0      4\n",
       "6   646.0      4\n",
       "7    75.0      3\n",
       "8   248.0      3\n",
       "9   655.0      3"
      ]
     },
     "execution_count": 35,
     "metadata": {},
     "output_type": "execute_result"
    }
   ],
   "source": [
    "foureor1['receptor_atom_index'].value_counts().reset_index(name = \"count\").head(10)"
   ]
  },
  {
   "cell_type": "code",
   "execution_count": 36,
   "id": "e31c9415-24cc-4b27-b6de-303dcf7491be",
   "metadata": {},
   "outputs": [
    {
     "data": {
      "text/html": [
       "<div>\n",
       "<style scoped>\n",
       "    .dataframe tbody tr th:only-of-type {\n",
       "        vertical-align: middle;\n",
       "    }\n",
       "\n",
       "    .dataframe tbody tr th {\n",
       "        vertical-align: top;\n",
       "    }\n",
       "\n",
       "    .dataframe thead th {\n",
       "        text-align: right;\n",
       "    }\n",
       "</style>\n",
       "<table border=\"1\" class=\"dataframe\">\n",
       "  <thead>\n",
       "    <tr style=\"text-align: right;\">\n",
       "      <th></th>\n",
       "      <th>pdb</th>\n",
       "      <th>pose</th>\n",
       "      <th>ligand_atom_index</th>\n",
       "      <th>ligand_atom_name</th>\n",
       "      <th>receptor_atom_index</th>\n",
       "      <th>receptor_atom_name</th>\n",
       "      <th>distance</th>\n",
       "    </tr>\n",
       "  </thead>\n",
       "  <tbody>\n",
       "    <tr>\n",
       "      <th>0</th>\n",
       "      <td>4eor</td>\n",
       "      <td>1</td>\n",
       "      <td>1.0</td>\n",
       "      <td>C2</td>\n",
       "      <td>92.0</td>\n",
       "      <td>CG2</td>\n",
       "      <td>3.537490</td>\n",
       "    </tr>\n",
       "    <tr>\n",
       "      <th>1</th>\n",
       "      <td>4eor</td>\n",
       "      <td>1</td>\n",
       "      <td>1.0</td>\n",
       "      <td>C2</td>\n",
       "      <td>1056.0</td>\n",
       "      <td>CD2</td>\n",
       "      <td>3.918316</td>\n",
       "    </tr>\n",
       "    <tr>\n",
       "      <th>2</th>\n",
       "      <td>4eor</td>\n",
       "      <td>1</td>\n",
       "      <td>3.0</td>\n",
       "      <td>N1</td>\n",
       "      <td>92.0</td>\n",
       "      <td>CG2</td>\n",
       "      <td>3.659126</td>\n",
       "    </tr>\n",
       "    <tr>\n",
       "      <th>3</th>\n",
       "      <td>4eor</td>\n",
       "      <td>1</td>\n",
       "      <td>3.0</td>\n",
       "      <td>N1</td>\n",
       "      <td>93.0</td>\n",
       "      <td>CD1</td>\n",
       "      <td>3.711112</td>\n",
       "    </tr>\n",
       "    <tr>\n",
       "      <th>4</th>\n",
       "      <td>4eor</td>\n",
       "      <td>1</td>\n",
       "      <td>3.0</td>\n",
       "      <td>N1</td>\n",
       "      <td>639.0</td>\n",
       "      <td>O</td>\n",
       "      <td>3.983377</td>\n",
       "    </tr>\n",
       "  </tbody>\n",
       "</table>\n",
       "</div>"
      ],
      "text/plain": [
       "    pdb pose  ligand_atom_index ligand_atom_name  receptor_atom_index  \\\n",
       "0  4eor    1                1.0               C2                 92.0   \n",
       "1  4eor    1                1.0               C2               1056.0   \n",
       "2  4eor    1                3.0               N1                 92.0   \n",
       "3  4eor    1                3.0               N1                 93.0   \n",
       "4  4eor    1                3.0               N1                639.0   \n",
       "\n",
       "  receptor_atom_name  distance  \n",
       "0                CG2  3.537490  \n",
       "1                CD2  3.918316  \n",
       "2                CG2  3.659126  \n",
       "3                CD1  3.711112  \n",
       "4                  O  3.983377  "
      ]
     },
     "execution_count": 36,
     "metadata": {},
     "output_type": "execute_result"
    }
   ],
   "source": [
    "foureor1.head()"
   ]
  },
  {
   "cell_type": "code",
   "execution_count": 37,
   "id": "d4ad83c9-c639-4ee0-a2b1-7668ad801e7d",
   "metadata": {},
   "outputs": [
    {
     "data": {
      "text/html": [
       "<div>\n",
       "<style scoped>\n",
       "    .dataframe tbody tr th:only-of-type {\n",
       "        vertical-align: middle;\n",
       "    }\n",
       "\n",
       "    .dataframe tbody tr th {\n",
       "        vertical-align: top;\n",
       "    }\n",
       "\n",
       "    .dataframe thead th {\n",
       "        text-align: right;\n",
       "    }\n",
       "</style>\n",
       "<table border=\"1\" class=\"dataframe\">\n",
       "  <thead>\n",
       "    <tr style=\"text-align: right;\">\n",
       "      <th></th>\n",
       "      <th>pdb</th>\n",
       "      <th>pose</th>\n",
       "      <th>ligand_atom_index</th>\n",
       "      <th>ligand_atom_name</th>\n",
       "      <th>receptor_atom_index</th>\n",
       "      <th>receptor_atom_name</th>\n",
       "      <th>distance</th>\n",
       "    </tr>\n",
       "  </thead>\n",
       "  <tbody>\n",
       "    <tr>\n",
       "      <th>54</th>\n",
       "      <td>4eor</td>\n",
       "      <td>1</td>\n",
       "      <td>22.0</td>\n",
       "      <td>N26</td>\n",
       "      <td>75.0</td>\n",
       "      <td>OE1</td>\n",
       "      <td>3.154884</td>\n",
       "    </tr>\n",
       "    <tr>\n",
       "      <th>56</th>\n",
       "      <td>4eor</td>\n",
       "      <td>1</td>\n",
       "      <td>23.0</td>\n",
       "      <td>H18</td>\n",
       "      <td>75.0</td>\n",
       "      <td>OE1</td>\n",
       "      <td>3.140022</td>\n",
       "    </tr>\n",
       "    <tr>\n",
       "      <th>59</th>\n",
       "      <td>4eor</td>\n",
       "      <td>1</td>\n",
       "      <td>24.0</td>\n",
       "      <td>H19</td>\n",
       "      <td>75.0</td>\n",
       "      <td>OE1</td>\n",
       "      <td>2.558603</td>\n",
       "    </tr>\n",
       "  </tbody>\n",
       "</table>\n",
       "</div>"
      ],
      "text/plain": [
       "     pdb pose  ligand_atom_index ligand_atom_name  receptor_atom_index  \\\n",
       "54  4eor    1               22.0              N26                 75.0   \n",
       "56  4eor    1               23.0              H18                 75.0   \n",
       "59  4eor    1               24.0              H19                 75.0   \n",
       "\n",
       "   receptor_atom_name  distance  \n",
       "54                OE1  3.154884  \n",
       "56                OE1  3.140022  \n",
       "59                OE1  2.558603  "
      ]
     },
     "execution_count": 37,
     "metadata": {},
     "output_type": "execute_result"
    }
   ],
   "source": [
    "foureor1[(foureor1[\"pdb\"] == \"4eor\") & (foureor1[\"receptor_atom_index\"] == 75)]"
   ]
  },
  {
   "cell_type": "code",
   "execution_count": 38,
   "id": "1e2e0dac-dea9-4f88-bf3d-f7df601651c6",
   "metadata": {},
   "outputs": [
    {
     "data": {
      "text/plain": [
       "27"
      ]
     },
     "execution_count": 38,
     "metadata": {},
     "output_type": "execute_result"
    }
   ],
   "source": [
    "foureor1['ligand_atom_name'].nunique()"
   ]
  },
  {
   "cell_type": "code",
   "execution_count": 39,
   "id": "7b08f7c6-6b68-42ea-abd3-595f4526de0c",
   "metadata": {},
   "outputs": [
    {
     "data": {
      "text/plain": [
       "36"
      ]
     },
     "execution_count": 39,
     "metadata": {},
     "output_type": "execute_result"
    }
   ],
   "source": [
    "foureor1['receptor_atom_index'].nunique()"
   ]
  },
  {
   "cell_type": "code",
   "execution_count": 40,
   "id": "e5482747-3337-45f7-a7ec-cc3bcb603b20",
   "metadata": {},
   "outputs": [],
   "source": [
    "#receptor_id_resi_atom = foureor1[[\"receptor_resID\",\"receptor_atom_index\"]]"
   ]
  },
  {
   "cell_type": "code",
   "execution_count": 41,
   "id": "e053cee2-7f01-4158-88c8-34fe41dee484",
   "metadata": {
    "scrolled": true
   },
   "outputs": [],
   "source": [
    "#receptor_id_resi_atom['receptor_resID'].nunique()"
   ]
  },
  {
   "cell_type": "code",
   "execution_count": 42,
   "id": "a194d1a9-b9d3-4279-b329-ea3d2f5289d2",
   "metadata": {},
   "outputs": [],
   "source": [
    "#foureor1.groupby(\"receptor_resID\")['receptor_atom_index'].nunique()"
   ]
  },
  {
   "cell_type": "code",
   "execution_count": 43,
   "id": "b2b2d5e8-a217-4190-8e92-5c93ff79576a",
   "metadata": {
    "scrolled": true
   },
   "outputs": [],
   "source": [
    "#foureor1.groupby(\"receptor_resID\")['receptor_atom_index'].value_counts()"
   ]
  },
  {
   "cell_type": "code",
   "execution_count": 44,
   "id": "60cda44e-1bf9-4034-b100-4be08ec64ad0",
   "metadata": {},
   "outputs": [],
   "source": [
    "#foureor1[foureor1['receptor_resID'] ==11][[\"receptor_resID\",\"receptor_atom_index\",'ligand_atom_index', 'receptor_atom_name','receptor_resName']]"
   ]
  },
  {
   "cell_type": "code",
   "execution_count": 45,
   "id": "3a7ce75c",
   "metadata": {},
   "outputs": [],
   "source": [
    "df = data_frame_docked.copy()"
   ]
  },
  {
   "cell_type": "code",
   "execution_count": 46,
   "id": "863fbba3-cfb9-47ed-8f6a-a8ba7d117760",
   "metadata": {},
   "outputs": [
    {
     "data": {
      "text/html": [
       "<div>\n",
       "<style scoped>\n",
       "    .dataframe tbody tr th:only-of-type {\n",
       "        vertical-align: middle;\n",
       "    }\n",
       "\n",
       "    .dataframe tbody tr th {\n",
       "        vertical-align: top;\n",
       "    }\n",
       "\n",
       "    .dataframe thead th {\n",
       "        text-align: right;\n",
       "    }\n",
       "</style>\n",
       "<table border=\"1\" class=\"dataframe\">\n",
       "  <thead>\n",
       "    <tr style=\"text-align: right;\">\n",
       "      <th></th>\n",
       "      <th>ligand_atom_index</th>\n",
       "      <th>ligand_atom_name</th>\n",
       "      <th>ligand_chain</th>\n",
       "      <th>ligand_resID</th>\n",
       "      <th>ligand_resName</th>\n",
       "      <th>distance</th>\n",
       "      <th>receptor_atom_index</th>\n",
       "      <th>receptor_atom_name</th>\n",
       "      <th>receptor_chain</th>\n",
       "      <th>receptor_resID</th>\n",
       "      <th>receptor_resName</th>\n",
       "      <th>pdb</th>\n",
       "      <th>pose</th>\n",
       "    </tr>\n",
       "  </thead>\n",
       "  <tbody>\n",
       "  </tbody>\n",
       "</table>\n",
       "</div>"
      ],
      "text/plain": [
       "Empty DataFrame\n",
       "Columns: [ligand_atom_index, ligand_atom_name, ligand_chain, ligand_resID, ligand_resName, distance, receptor_atom_index, receptor_atom_name, receptor_chain, receptor_resID, receptor_resName, pdb, pose]\n",
       "Index: []"
      ]
     },
     "execution_count": 46,
     "metadata": {},
     "output_type": "execute_result"
    }
   ],
   "source": [
    "df[df['pdb'] == '5qa8'].head()"
   ]
  },
  {
   "cell_type": "code",
   "execution_count": 47,
   "id": "e75affef-a9c8-466c-be38-61ab1847b40b",
   "metadata": {},
   "outputs": [],
   "source": [
    "#df['pdb'].nunique()"
   ]
  },
  {
   "cell_type": "markdown",
   "id": "eb2ca516-751b-4e5e-94ac-9bfdea0a7a6b",
   "metadata": {},
   "source": [
    "#### List of indexes  "
   ]
  },
  {
   "cell_type": "markdown",
   "id": "7a9358f7-4e34-4c50-8d9a-75e9194bcf02",
   "metadata": {},
   "source": [
    "- Create a dictionary with the **indices** of close-contact atoms.\n",
    "\n",
    "- This is necessary so that we know from which atoms we should **obtain the properties.**\n",
    "\n",
    "- Dictionaries for experimental data and for poses obtained through docking, for the comparison **metric of native contacts.**"
   ]
  },
  {
   "cell_type": "markdown",
   "id": "eb2a3610-89d7-4eda-8e3f-2ed1034ebf30",
   "metadata": {},
   "source": [
    "<font color = \"red\"> Why i used process_ids to sort the values ?"
   ]
  },
  {
   "cell_type": "code",
   "execution_count": 48,
   "id": "1e018174-a952-4267-8026-3d1243e52ba7",
   "metadata": {},
   "outputs": [
    {
     "data": {
      "text/html": [
       "<div>\n",
       "<style scoped>\n",
       "    .dataframe tbody tr th:only-of-type {\n",
       "        vertical-align: middle;\n",
       "    }\n",
       "\n",
       "    .dataframe tbody tr th {\n",
       "        vertical-align: top;\n",
       "    }\n",
       "\n",
       "    .dataframe thead th {\n",
       "        text-align: right;\n",
       "    }\n",
       "</style>\n",
       "<table border=\"1\" class=\"dataframe\">\n",
       "  <thead>\n",
       "    <tr style=\"text-align: right;\">\n",
       "      <th></th>\n",
       "      <th>ligand_atom_index</th>\n",
       "      <th>ligand_atom_name</th>\n",
       "      <th>ligand_chain</th>\n",
       "      <th>ligand_resID</th>\n",
       "      <th>ligand_resName</th>\n",
       "      <th>distance</th>\n",
       "      <th>receptor_atom_index</th>\n",
       "      <th>receptor_atom_name</th>\n",
       "      <th>receptor_chain</th>\n",
       "      <th>receptor_resID</th>\n",
       "      <th>receptor_resName</th>\n",
       "      <th>pdb</th>\n",
       "      <th>pose</th>\n",
       "    </tr>\n",
       "  </thead>\n",
       "  <tbody>\n",
       "  </tbody>\n",
       "</table>\n",
       "</div>"
      ],
      "text/plain": [
       "Empty DataFrame\n",
       "Columns: [ligand_atom_index, ligand_atom_name, ligand_chain, ligand_resID, ligand_resName, distance, receptor_atom_index, receptor_atom_name, receptor_chain, receptor_resID, receptor_resName, pdb, pose]\n",
       "Index: []"
      ]
     },
     "execution_count": 48,
     "metadata": {},
     "output_type": "execute_result"
    }
   ],
   "source": [
    "data_frame_docked[data_frame_docked['pdb']== '5qa8'].head()"
   ]
  },
  {
   "cell_type": "code",
   "execution_count": 51,
   "id": "24dc0eb8-9afd-436c-9ea3-a156028d61cb",
   "metadata": {},
   "outputs": [
    {
     "name": "stdout",
     "output_type": "stream",
     "text": [
      "CPU times: user 5 µs, sys: 0 ns, total: 5 µs\n",
      "Wall time: 7.87 µs\n"
     ]
    }
   ],
   "source": [
    "%%time\n",
    "def process_ids(data_frame, pdb,  ligand_column, pose = False):\n",
    "    if 'pose' in data_frame.columns:\n",
    "        aux = list(data_frame[(data_frame['pdb'] == pdb) & (data_frame['pose'] == str(pose))][ligand_column])\n",
    "    else:\n",
    "        aux = list(data_frame[data_frame['pdb'] == pdb][ligand_column])\n",
    "    try:\n",
    "        aux = [int(val) for val in aux]\n",
    "    except ValueError:\n",
    "        pass\n",
    "    return aux\n",
    "\n",
    "def process_pdb_data(pdbs, data_frame, ligand_column):\n",
    "    ids = {}\n",
    "    for pdb in tqdm(pdbs):\n",
    "        if 'pose' in data_frame.columns:\n",
    "            ids[pdb] = {}\n",
    "            for pose in range(1, nposes + 1):\n",
    "                ids[pdb][pose] = process_ids(data_frame, pdb,  ligand_column, pose)\n",
    "        else:\n",
    "            ids[pdb] = process_ids(data_frame, pdb, ligand_column)\n",
    "    return ids"
   ]
  },
  {
   "cell_type": "code",
   "execution_count": 52,
   "id": "fd6f77aa-24fb-4b12-9c87-a494c955c39f",
   "metadata": {},
   "outputs": [
    {
     "name": "stderr",
     "output_type": "stream",
     "text": [
      "100%|█████████████████████████████████████████| 284/284 [01:42<00:00,  2.77it/s]\n",
      "100%|█████████████████████████████████████████| 284/284 [01:42<00:00,  2.77it/s]\n",
      "100%|████████████████████████████████████████| 284/284 [00:00<00:00, 347.33it/s]\n",
      "100%|████████████████████████████████████████| 284/284 [00:00<00:00, 345.59it/s]\n"
     ]
    }
   ],
   "source": [
    "combined_dict = {\n",
    "    'ids_lig_with_poses': process_pdb_data(pdbs, data_frame_docked, 'ligand_atom_index'),\n",
    "    'ids_rec_with_poses': process_pdb_data(pdbs, data_frame_docked, 'receptor_atom_index'),\n",
    "    'ids_lig_exp': process_pdb_data(pdbs, data_frame_exp, 'ligand_atom_index'),\n",
    "    'ids_rec_exp': process_pdb_data(pdbs, data_frame_exp, 'receptor_atom_index')}\n",
    "\n",
    "process_ids=True\n",
    "if process_ids: \n",
    "    # Save combined dictionary using pickle\n",
    "    with open(f'{config.root}/{config.project_name}/{config.dicts}/combined_dicts_ids.pkl', 'wb') as f:\n",
    "        pickle.dump(combined_dict, f)\n",
    "else: \n",
    "    with open(f'{config.root}/{config.project_name}/{config.dicts}/combined_dicts_ids.pkl','rb') as f:\n",
    "        combined_dict = pickle.load(f)"
   ]
  },
  {
   "cell_type": "markdown",
   "id": "eee5f88e-a434-4ccb-ae3b-8282806c87ce",
   "metadata": {},
   "source": [
    "* Todos - PDBS - 15h 17min 49s\n",
    "* 284 - PDBs - 3 min 26s "
   ]
  },
  {
   "cell_type": "code",
   "execution_count": 53,
   "id": "957446f5-e613-43c5-a7fb-896b2b5decd6",
   "metadata": {},
   "outputs": [],
   "source": [
    "#ids_rec_exp['1owh'][1:10]"
   ]
  },
  {
   "cell_type": "code",
   "execution_count": 54,
   "id": "9d2ab9b4-f914-4ebc-be59-7ea0b9201eb2",
   "metadata": {},
   "outputs": [],
   "source": [
    "#ids_lig_exp['1owh'][1:10]"
   ]
  },
  {
   "cell_type": "code",
   "execution_count": 57,
   "id": "355345ae-7938-45ba-9ae2-4887b36e1083",
   "metadata": {},
   "outputs": [],
   "source": [
    "#ids_rec_with_poses['5qa8']"
   ]
  },
  {
   "cell_type": "markdown",
   "id": "0dbea1d0-c8e5-427b-ab9a-dd62ffcc27dc",
   "metadata": {},
   "source": [
    "### Compare native contacts"
   ]
  },
  {
   "cell_type": "code",
   "execution_count": 60,
   "id": "eebda696-737b-49f0-802c-fed3c0390610",
   "metadata": {},
   "outputs": [
    {
     "name": "stderr",
     "output_type": "stream",
     "text": [
      "100%|████████████████████████████████████████| 284/284 [00:00<00:00, 333.24it/s]\n"
     ]
    },
    {
     "name": "stdout",
     "output_type": "stream",
     "text": [
      "CPU times: user 821 ms, sys: 0 ns, total: 821 ms\n",
      "Wall time: 870 ms\n"
     ]
    }
   ],
   "source": [
    "%%time\n",
    "calculate_score = False\n",
    "def compare_graphs(pairs_graph1, pairs_graph2):\n",
    "    \"\"\"\n",
    "    Compare two sets of graph pairs and calculate a similarity score.\n",
    "\n",
    "    Parameters\n",
    "    ----------\n",
    "    pairs_graph1 : list\n",
    "        List of pairs from the first graph.\n",
    "    pairs_graph2 : list\n",
    "        List of pairs from the second graph.\n",
    "\n",
    "    Returns\n",
    "    -------\n",
    "    float\n",
    "        Percentage similarity between the two graphs.\n",
    "    \"\"\"\n",
    "    common_pairs = [pair for pair in pairs_graph1 if pair in pairs_graph2]\n",
    "    #print(len(common_pairs))\n",
    "    similarity_score = (len(common_pairs) / len(pairs_graph2)) * 100\n",
    "    return similarity_score\n",
    "\n",
    "if calculate_score: \n",
    "    score = {}\n",
    "    for pdb in tqdm(pdbs):\n",
    "        #print('pdb: ', pdb)\n",
    "        score[pdb] = {}\n",
    "        for pose in range(1, nposes + 1):\n",
    "\n",
    "            try: \n",
    "                pairs_graph1 = list(zip(combined_dict['ids_lig_with_poses'][pdb][pose], combined_dict['ids_rec_with_poses'][pdb][pose]))\n",
    "                pairs_graph2 = list(zip(combined_dict['ids_lig_exp'][pdb], combined_dict['ids_rec_exp'][pdb]))\n",
    "                score[pdb][pose] = compare_graphs(pairs_graph1, pairs_graph2)\n",
    "    \n",
    "            except Exception as e:\n",
    "                print(e)\n",
    "\n",
    "    combined_dict[\"ids_lig_with_poses\"][pdb][pose]\n",
    "    with open(f\"{config.data}/score.json\", \"w\") as json_file:\n",
    "        json.dump(score, json_file)"
   ]
  },
  {
   "cell_type": "markdown",
   "id": "dfc56b2b-1713-4ae9-98f5-e8b777e58cd9",
   "metadata": {},
   "source": [
    "<font color = \"yellow\"> When i extrated the atom properties, i only extrated for  ids_3gv9_pose_1\n",
    "\n",
    "Why am i taking this?\n",
    "\n",
    "     * Because we only want properties from the important nodes"
   ]
  },
  {
   "cell_type": "markdown",
   "id": "ca7ce5de-9d44-4a49-bd06-c9cfbe31dd25",
   "metadata": {},
   "source": [
    "#### Label "
   ]
  },
  {
   "cell_type": "code",
   "execution_count": 61,
   "id": "c9502a2b-ae14-428b-af04-53b6dcf63f82",
   "metadata": {},
   "outputs": [
    {
     "data": {
      "image/png": "[encoded data removed]",
      "text/plain": [
       "<Figure size 640x480 with 1 Axes>"
      ]
     },
     "metadata": {},
     "output_type": "display_data"
    },
    {
     "data": {
      "image/png": "[encoded data removed]",
      "text/plain": [
       "<Figure size 640x480 with 1 Axes>"
      ]
     },
     "metadata": {},
     "output_type": "display_data"
    },
    {
     "data": {
      "image/png": "[encoded data removed]",
      "text/plain": [
       "<Figure size 640x480 with 1 Axes>"
      ]
     },
     "metadata": {},
     "output_type": "display_data"
    },
    {
     "name": "stdout",
     "output_type": "stream",
     "text": [
      "label.json saved at: ../Datahub/Data\n"
     ]
    },
    {
     "data": {
      "text/plain": [
       "284"
      ]
     },
     "execution_count": 61,
     "metadata": {},
     "output_type": "execute_result"
    }
   ],
   "source": [
    "%run Label.ipynb\n",
    "label = pd.read_json(f\"{config.data}/label.json\").fillna(0)\n",
    "len(label.columns)"
   ]
  },
  {
   "cell_type": "markdown",
   "id": "fee4e219-59e6-4aa8-95eb-9a10729a05c4",
   "metadata": {},
   "source": [
    "### Extract atom properties"
   ]
  },
  {
   "cell_type": "code",
   "execution_count": 62,
   "id": "ad4fb6fa",
   "metadata": {},
   "outputs": [],
   "source": [
    "def find_element_index(lst, element):\n",
    "    \"\"\"\n",
    "    Locate the index of the desired element within the list. If the element is not found, return the index of the last item.\n",
    "    \"\"\"\n",
    "    try:\n",
    "        return lst.index(element)\n",
    "    except ValueError:\n",
    "        return len(lst) - 1"
   ]
  },
  {
   "cell_type": "code",
   "execution_count": 63,
   "id": "a9042986-ce00-4c19-b239-cb05a32ba8bd",
   "metadata": {},
   "outputs": [],
   "source": [
    "#### remover Hybridization"
   ]
  },
  {
   "cell_type": "code",
   "execution_count": 64,
   "id": "01150463-48a9-41a1-9c4e-b930e7a01ff7",
   "metadata": {},
   "outputs": [],
   "source": [
    "class AtomPropertiesExtractor:\n",
    "    def __init__(self):\n",
    "        #self.ligand_path = ligand_path\n",
    "        self.columns = [\"Atom_Index\", \"Name\", \"Mass\", \"Charge\", \"Element_Name\", \"Hybridization\", \"Num_Hydrogens\", \"Formal_Charge\", \"Unpaired_Electron\", \"In_Aromatic_Substructure\"]\n",
    "        self.allowable_features = {\n",
    "            \"possible_hybridization_list\": [\"S\", \"SP\", \"SP2\", \"SP3\", \"SP3D\", \"SP3D2\", \"UNSPECIFIED\"],\n",
    "            \"possible_atoms\": ['C', 'S', 'N', 'O', 'H']\n",
    "        }\n",
    "\n",
    "    def extract_properties(self, atom_indices, properties_to_extract, path):\n",
    "        atom_properties_list = []\n",
    "\n",
    "        with open(path, \"r\") as pdb_file:\n",
    "            pdb_data = pdb_file.read()\n",
    "\n",
    "        molecule = Chem.MolFromPDBFile(path, removeHs=False)\n",
    "\n",
    "        if molecule is not None:\n",
    "            for atom_index in atom_indices:\n",
    "                atom = molecule.GetAtomWithIdx(atom_index - 1)\n",
    "\n",
    "                atom_properties = {\n",
    "                    \"Atom_Index\": atom_index,\n",
    "                    \"Name\": atom.GetSymbol(),\n",
    "                    \"Mass\": atom.GetMass(),\n",
    "                    \"Charge\": atom.GetFormalCharge(),\n",
    "                    \"Element_Name\": find_element_index(self.allowable_features['possible_atoms'], str(atom.GetSymbol())),\n",
    "                    \"Hybridization\": find_element_index(self.allowable_features['possible_hybridization_list'], str(atom.GetHybridization())),\n",
    "                    \"Num_Hydrogens\": atom.GetTotalNumHs(),\n",
    "                    \"Formal_Charge\": atom.GetFormalCharge(),\n",
    "                    \"Unpaired_Electron\": atom.GetNumRadicalElectrons(),\n",
    "                    \"In_Aromatic_Substructure\": int(atom.GetIsAromatic())\n",
    "                }\n",
    "\n",
    "                atom_properties = {key: atom_properties[key] for key in properties_to_extract}\n",
    "                atom_properties_list.append(atom_properties)\n",
    "\n",
    "        atom_properties_df = pd.DataFrame(atom_properties_list, columns=properties_to_extract)\n",
    "        return atom_properties_df"
   ]
  },
  {
   "cell_type": "code",
   "execution_count": 65,
   "id": "bfa1ad63-8079-4c4b-b6c4-7ff1658aad88",
   "metadata": {},
   "outputs": [],
   "source": [
    "# Create an instance of the class\n",
    "atom_ligand_extractor = AtomPropertiesExtractor()\n",
    "atom_receptor_extractor =  AtomPropertiesExtractor()"
   ]
  },
  {
   "cell_type": "code",
   "execution_count": 66,
   "id": "0311c007-9dc4-45be-aea8-ad1cf26e53d0",
   "metadata": {},
   "outputs": [],
   "source": [
    "#atom_receptor_extractor.extract_properties(ids_lig['3gv9'][2], node_descriptors, ligand_path.as_posix())"
   ]
  },
  {
   "cell_type": "markdown",
   "id": "576b2363-117f-4dda-aa02-3994bbd9d0ca",
   "metadata": {},
   "source": [
    "#### Simple analysis"
   ]
  },
  {
   "cell_type": "code",
   "execution_count": 67,
   "id": "8f811217-503f-4ce2-a877-382d63a287a0",
   "metadata": {},
   "outputs": [],
   "source": [
    "#extract_atom_properties(ligand_path.as_posix(), ids_lig['3gv9'][2])"
   ]
  },
  {
   "cell_type": "code",
   "execution_count": 68,
   "id": "65227dbe-5d01-42ac-b03a-f09624df2575",
   "metadata": {},
   "outputs": [],
   "source": [
    "#atom_ligand_extractor.extract_properties(ids_lig['3gv9'][1], config.node_descriptors, '/home/lbcb02/Workspace/Scripts/coreset/3gv9/results/pose_1.pdb')"
   ]
  },
  {
   "cell_type": "code",
   "execution_count": 69,
   "id": "33d5ad44-f520-41ba-93d0-7a203ca350ed",
   "metadata": {},
   "outputs": [],
   "source": [
    "#ids_lig['3gv9'][2]"
   ]
  },
  {
   "cell_type": "code",
   "execution_count": 70,
   "id": "2ec801ef-7a0e-40ce-90e6-95e81a7cdec2",
   "metadata": {
    "scrolled": true
   },
   "outputs": [
    {
     "data": {
      "text/html": [
       "<div>\n",
       "<style scoped>\n",
       "    .dataframe tbody tr th:only-of-type {\n",
       "        vertical-align: middle;\n",
       "    }\n",
       "\n",
       "    .dataframe tbody tr th {\n",
       "        vertical-align: top;\n",
       "    }\n",
       "\n",
       "    .dataframe thead th {\n",
       "        text-align: right;\n",
       "    }\n",
       "</style>\n",
       "<table border=\"1\" class=\"dataframe\">\n",
       "  <thead>\n",
       "    <tr style=\"text-align: right;\">\n",
       "      <th></th>\n",
       "      <th>ligand_atom_index</th>\n",
       "      <th>ligand_atom_name</th>\n",
       "      <th>ligand_chain</th>\n",
       "      <th>ligand_resID</th>\n",
       "      <th>ligand_resName</th>\n",
       "      <th>distance</th>\n",
       "      <th>receptor_atom_index</th>\n",
       "      <th>receptor_atom_name</th>\n",
       "      <th>receptor_chain</th>\n",
       "      <th>receptor_resID</th>\n",
       "      <th>receptor_resName</th>\n",
       "      <th>pdb</th>\n",
       "      <th>pose</th>\n",
       "    </tr>\n",
       "  </thead>\n",
       "  <tbody>\n",
       "    <tr>\n",
       "      <th>0</th>\n",
       "      <td>1.0</td>\n",
       "      <td>C2</td>\n",
       "      <td>d</td>\n",
       "      <td>0.0</td>\n",
       "      <td>UNN</td>\n",
       "      <td>3.537490</td>\n",
       "      <td>92.0</td>\n",
       "      <td>CG2</td>\n",
       "      <td>A</td>\n",
       "      <td>11.0</td>\n",
       "      <td>ILE</td>\n",
       "      <td>4eor</td>\n",
       "      <td>1</td>\n",
       "    </tr>\n",
       "    <tr>\n",
       "      <th>1</th>\n",
       "      <td>1.0</td>\n",
       "      <td>C2</td>\n",
       "      <td>d</td>\n",
       "      <td>0.0</td>\n",
       "      <td>UNN</td>\n",
       "      <td>3.918316</td>\n",
       "      <td>1056.0</td>\n",
       "      <td>CD2</td>\n",
       "      <td>A</td>\n",
       "      <td>131.0</td>\n",
       "      <td>LEU</td>\n",
       "      <td>4eor</td>\n",
       "      <td>1</td>\n",
       "    </tr>\n",
       "    <tr>\n",
       "      <th>2</th>\n",
       "      <td>3.0</td>\n",
       "      <td>N1</td>\n",
       "      <td>d</td>\n",
       "      <td>0.0</td>\n",
       "      <td>UNN</td>\n",
       "      <td>3.659126</td>\n",
       "      <td>92.0</td>\n",
       "      <td>CG2</td>\n",
       "      <td>A</td>\n",
       "      <td>11.0</td>\n",
       "      <td>ILE</td>\n",
       "      <td>4eor</td>\n",
       "      <td>1</td>\n",
       "    </tr>\n",
       "    <tr>\n",
       "      <th>3</th>\n",
       "      <td>3.0</td>\n",
       "      <td>N1</td>\n",
       "      <td>d</td>\n",
       "      <td>0.0</td>\n",
       "      <td>UNN</td>\n",
       "      <td>3.711112</td>\n",
       "      <td>93.0</td>\n",
       "      <td>CD1</td>\n",
       "      <td>A</td>\n",
       "      <td>11.0</td>\n",
       "      <td>ILE</td>\n",
       "      <td>4eor</td>\n",
       "      <td>1</td>\n",
       "    </tr>\n",
       "    <tr>\n",
       "      <th>4</th>\n",
       "      <td>3.0</td>\n",
       "      <td>N1</td>\n",
       "      <td>d</td>\n",
       "      <td>0.0</td>\n",
       "      <td>UNN</td>\n",
       "      <td>3.983377</td>\n",
       "      <td>639.0</td>\n",
       "      <td>O</td>\n",
       "      <td>A</td>\n",
       "      <td>80.0</td>\n",
       "      <td>LEU</td>\n",
       "      <td>4eor</td>\n",
       "      <td>1</td>\n",
       "    </tr>\n",
       "  </tbody>\n",
       "</table>\n",
       "</div>"
      ],
      "text/plain": [
       "   ligand_atom_index ligand_atom_name ligand_chain  ligand_resID  \\\n",
       "0                1.0               C2            d           0.0   \n",
       "1                1.0               C2            d           0.0   \n",
       "2                3.0               N1            d           0.0   \n",
       "3                3.0               N1            d           0.0   \n",
       "4                3.0               N1            d           0.0   \n",
       "\n",
       "  ligand_resName  distance  receptor_atom_index receptor_atom_name  \\\n",
       "0            UNN  3.537490                 92.0                CG2   \n",
       "1            UNN  3.918316               1056.0                CD2   \n",
       "2            UNN  3.659126                 92.0                CG2   \n",
       "3            UNN  3.711112                 93.0                CD1   \n",
       "4            UNN  3.983377                639.0                  O   \n",
       "\n",
       "  receptor_chain  receptor_resID receptor_resName   pdb pose  \n",
       "0              A            11.0              ILE  4eor    1  \n",
       "1              A           131.0              LEU  4eor    1  \n",
       "2              A            11.0              ILE  4eor    1  \n",
       "3              A            11.0              ILE  4eor    1  \n",
       "4              A            80.0              LEU  4eor    1  "
      ]
     },
     "execution_count": 70,
     "metadata": {},
     "output_type": "execute_result"
    }
   ],
   "source": [
    "df.head()"
   ]
  },
  {
   "cell_type": "code",
   "execution_count": 71,
   "id": "1811ea3f-dde3-491b-9fac-02e1285132e8",
   "metadata": {},
   "outputs": [
    {
     "data": {
      "text/plain": [
       "79"
      ]
     },
     "execution_count": 71,
     "metadata": {},
     "output_type": "execute_result"
    }
   ],
   "source": [
    "df['receptor_atom_name'].nunique()"
   ]
  },
  {
   "cell_type": "code",
   "execution_count": 72,
   "id": "4ee9311b-e015-43ec-b76f-d70763612a9a",
   "metadata": {},
   "outputs": [
    {
     "data": {
      "text/plain": [
       "C2     5855\n",
       "C6     5539\n",
       "C5     5045\n",
       "C4     4948\n",
       "C1     4801\n",
       "C3     4660\n",
       "C8     4197\n",
       "H1     4186\n",
       "C7     4101\n",
       "C10    3886\n",
       "Name: ligand_atom_name, dtype: int64"
      ]
     },
     "execution_count": 72,
     "metadata": {},
     "output_type": "execute_result"
    }
   ],
   "source": [
    "df['ligand_atom_name'].value_counts().head(10)"
   ]
  },
  {
   "cell_type": "markdown",
   "id": "337b8d85-9be9-407d-a2ac-7ec69c9f3374",
   "metadata": {},
   "source": [
    "#### Pose rank encoding "
   ]
  },
  {
   "cell_type": "code",
   "execution_count": 73,
   "id": "480b5bed-cffd-4982-96e9-c008a60b8ccc",
   "metadata": {},
   "outputs": [],
   "source": [
    "#global_encoding = pd.get_dummies(df['receptor_atom_name'], prefix='encoded_global')"
   ]
  },
  {
   "cell_type": "code",
   "execution_count": 74,
   "id": "b6b650a0-dff1-4b71-93e0-343dbf2a8691",
   "metadata": {},
   "outputs": [],
   "source": [
    "global_encoding_rank = pd.get_dummies(df['pose'], prefix='pose')"
   ]
  },
  {
   "cell_type": "code",
   "execution_count": 75,
   "id": "9c87b21b-63d3-41d1-b3a3-716378a06a7c",
   "metadata": {},
   "outputs": [
    {
     "data": {
      "text/html": [
       "<div>\n",
       "<style scoped>\n",
       "    .dataframe tbody tr th:only-of-type {\n",
       "        vertical-align: middle;\n",
       "    }\n",
       "\n",
       "    .dataframe tbody tr th {\n",
       "        vertical-align: top;\n",
       "    }\n",
       "\n",
       "    .dataframe thead th {\n",
       "        text-align: right;\n",
       "    }\n",
       "</style>\n",
       "<table border=\"1\" class=\"dataframe\">\n",
       "  <thead>\n",
       "    <tr style=\"text-align: right;\">\n",
       "      <th></th>\n",
       "      <th>pose_1</th>\n",
       "      <th>pose_2</th>\n",
       "      <th>pose_3</th>\n",
       "      <th>pose_4</th>\n",
       "      <th>pose_5</th>\n",
       "      <th>pose_6</th>\n",
       "      <th>pose_7</th>\n",
       "      <th>pose_8</th>\n",
       "      <th>pose_9</th>\n",
       "    </tr>\n",
       "  </thead>\n",
       "  <tbody>\n",
       "    <tr>\n",
       "      <th>0</th>\n",
       "      <td>1</td>\n",
       "      <td>0</td>\n",
       "      <td>0</td>\n",
       "      <td>0</td>\n",
       "      <td>0</td>\n",
       "      <td>0</td>\n",
       "      <td>0</td>\n",
       "      <td>0</td>\n",
       "      <td>0</td>\n",
       "    </tr>\n",
       "    <tr>\n",
       "      <th>1</th>\n",
       "      <td>1</td>\n",
       "      <td>0</td>\n",
       "      <td>0</td>\n",
       "      <td>0</td>\n",
       "      <td>0</td>\n",
       "      <td>0</td>\n",
       "      <td>0</td>\n",
       "      <td>0</td>\n",
       "      <td>0</td>\n",
       "    </tr>\n",
       "    <tr>\n",
       "      <th>2</th>\n",
       "      <td>1</td>\n",
       "      <td>0</td>\n",
       "      <td>0</td>\n",
       "      <td>0</td>\n",
       "      <td>0</td>\n",
       "      <td>0</td>\n",
       "      <td>0</td>\n",
       "      <td>0</td>\n",
       "      <td>0</td>\n",
       "    </tr>\n",
       "    <tr>\n",
       "      <th>3</th>\n",
       "      <td>1</td>\n",
       "      <td>0</td>\n",
       "      <td>0</td>\n",
       "      <td>0</td>\n",
       "      <td>0</td>\n",
       "      <td>0</td>\n",
       "      <td>0</td>\n",
       "      <td>0</td>\n",
       "      <td>0</td>\n",
       "    </tr>\n",
       "    <tr>\n",
       "      <th>4</th>\n",
       "      <td>1</td>\n",
       "      <td>0</td>\n",
       "      <td>0</td>\n",
       "      <td>0</td>\n",
       "      <td>0</td>\n",
       "      <td>0</td>\n",
       "      <td>0</td>\n",
       "      <td>0</td>\n",
       "      <td>0</td>\n",
       "    </tr>\n",
       "  </tbody>\n",
       "</table>\n",
       "</div>"
      ],
      "text/plain": [
       "   pose_1  pose_2  pose_3  pose_4  pose_5  pose_6  pose_7  pose_8  pose_9\n",
       "0       1       0       0       0       0       0       0       0       0\n",
       "1       1       0       0       0       0       0       0       0       0\n",
       "2       1       0       0       0       0       0       0       0       0\n",
       "3       1       0       0       0       0       0       0       0       0\n",
       "4       1       0       0       0       0       0       0       0       0"
      ]
     },
     "execution_count": 75,
     "metadata": {},
     "output_type": "execute_result"
    }
   ],
   "source": [
    "global_encoding_rank.head()"
   ]
  },
  {
   "cell_type": "code",
   "execution_count": 76,
   "id": "e480e151-abec-4d36-889c-3ca774486d65",
   "metadata": {},
   "outputs": [],
   "source": [
    "#pose_rank_mean = label.T.mean().reset_index().rename(columns = {'index':'pose', 0: 'mean_pose_rank'})\n",
    "prob_pose_rank = (label.sum(axis = 1) / label.sum().sum()).reset_index().rename(columns = {'index':'pose', 0: 'prob_pose_rank'})"
   ]
  },
  {
   "cell_type": "code",
   "execution_count": 77,
   "id": "9dc23f27-3afb-40de-9029-af74c07bbc8a",
   "metadata": {},
   "outputs": [
    {
     "data": {
      "text/html": [
       "<div>\n",
       "<style scoped>\n",
       "    .dataframe tbody tr th:only-of-type {\n",
       "        vertical-align: middle;\n",
       "    }\n",
       "\n",
       "    .dataframe tbody tr th {\n",
       "        vertical-align: top;\n",
       "    }\n",
       "\n",
       "    .dataframe thead th {\n",
       "        text-align: right;\n",
       "    }\n",
       "</style>\n",
       "<table border=\"1\" class=\"dataframe\">\n",
       "  <thead>\n",
       "    <tr style=\"text-align: right;\">\n",
       "      <th></th>\n",
       "      <th>pose</th>\n",
       "      <th>prob_pose_rank</th>\n",
       "    </tr>\n",
       "  </thead>\n",
       "  <tbody>\n",
       "    <tr>\n",
       "      <th>0</th>\n",
       "      <td>1</td>\n",
       "      <td>0.678571</td>\n",
       "    </tr>\n",
       "    <tr>\n",
       "      <th>1</th>\n",
       "      <td>2</td>\n",
       "      <td>0.168367</td>\n",
       "    </tr>\n",
       "    <tr>\n",
       "      <th>2</th>\n",
       "      <td>3</td>\n",
       "      <td>0.071429</td>\n",
       "    </tr>\n",
       "    <tr>\n",
       "      <th>3</th>\n",
       "      <td>4</td>\n",
       "      <td>0.025510</td>\n",
       "    </tr>\n",
       "    <tr>\n",
       "      <th>4</th>\n",
       "      <td>5</td>\n",
       "      <td>0.035714</td>\n",
       "    </tr>\n",
       "    <tr>\n",
       "      <th>5</th>\n",
       "      <td>6</td>\n",
       "      <td>0.015306</td>\n",
       "    </tr>\n",
       "    <tr>\n",
       "      <th>6</th>\n",
       "      <td>7</td>\n",
       "      <td>0.000000</td>\n",
       "    </tr>\n",
       "    <tr>\n",
       "      <th>7</th>\n",
       "      <td>8</td>\n",
       "      <td>0.005102</td>\n",
       "    </tr>\n",
       "    <tr>\n",
       "      <th>8</th>\n",
       "      <td>9</td>\n",
       "      <td>0.000000</td>\n",
       "    </tr>\n",
       "    <tr>\n",
       "      <th>9</th>\n",
       "      <td>10</td>\n",
       "      <td>0.000000</td>\n",
       "    </tr>\n",
       "  </tbody>\n",
       "</table>\n",
       "</div>"
      ],
      "text/plain": [
       "   pose  prob_pose_rank\n",
       "0     1        0.678571\n",
       "1     2        0.168367\n",
       "2     3        0.071429\n",
       "3     4        0.025510\n",
       "4     5        0.035714\n",
       "5     6        0.015306\n",
       "6     7        0.000000\n",
       "7     8        0.005102\n",
       "8     9        0.000000\n",
       "9    10        0.000000"
      ]
     },
     "execution_count": 77,
     "metadata": {},
     "output_type": "execute_result"
    }
   ],
   "source": [
    "prob_pose_rank"
   ]
  },
  {
   "cell_type": "code",
   "execution_count": 78,
   "id": "1b276e4c-d6d7-47af-8692-aaaff8f67be1",
   "metadata": {},
   "outputs": [],
   "source": [
    "#pose_rank_mean['pose'] = pose_rank_mean['pose'].astype(str)\n",
    "prob_pose_rank['pose'] = prob_pose_rank['pose'].astype(str)"
   ]
  },
  {
   "cell_type": "code",
   "execution_count": 79,
   "id": "c58271ca-5a00-49c9-9347-e7d4b5fbe316",
   "metadata": {},
   "outputs": [],
   "source": [
    "#df = pd.concat([df, global_encoding], axis = 1 )\n",
    "#df.iloc[:,13:]"
   ]
  },
  {
   "cell_type": "code",
   "execution_count": 80,
   "id": "3de7070e-f104-4782-9e06-02f3b4f70129",
   "metadata": {
    "scrolled": true
   },
   "outputs": [
    {
     "data": {
      "text/html": [
       "<div>\n",
       "<style scoped>\n",
       "    .dataframe tbody tr th:only-of-type {\n",
       "        vertical-align: middle;\n",
       "    }\n",
       "\n",
       "    .dataframe tbody tr th {\n",
       "        vertical-align: top;\n",
       "    }\n",
       "\n",
       "    .dataframe thead th {\n",
       "        text-align: right;\n",
       "    }\n",
       "</style>\n",
       "<table border=\"1\" class=\"dataframe\">\n",
       "  <thead>\n",
       "    <tr style=\"text-align: right;\">\n",
       "      <th></th>\n",
       "      <th>ligand_atom_index</th>\n",
       "      <th>ligand_atom_name</th>\n",
       "      <th>ligand_chain</th>\n",
       "      <th>ligand_resID</th>\n",
       "      <th>ligand_resName</th>\n",
       "      <th>distance</th>\n",
       "      <th>receptor_atom_index</th>\n",
       "      <th>receptor_atom_name</th>\n",
       "      <th>receptor_chain</th>\n",
       "      <th>receptor_resID</th>\n",
       "      <th>receptor_resName</th>\n",
       "      <th>pdb</th>\n",
       "      <th>pose</th>\n",
       "    </tr>\n",
       "  </thead>\n",
       "  <tbody>\n",
       "    <tr>\n",
       "      <th>0</th>\n",
       "      <td>1.0</td>\n",
       "      <td>C2</td>\n",
       "      <td>d</td>\n",
       "      <td>0.0</td>\n",
       "      <td>UNN</td>\n",
       "      <td>3.537490</td>\n",
       "      <td>92.0</td>\n",
       "      <td>CG2</td>\n",
       "      <td>A</td>\n",
       "      <td>11.0</td>\n",
       "      <td>ILE</td>\n",
       "      <td>4eor</td>\n",
       "      <td>1</td>\n",
       "    </tr>\n",
       "    <tr>\n",
       "      <th>1</th>\n",
       "      <td>1.0</td>\n",
       "      <td>C2</td>\n",
       "      <td>d</td>\n",
       "      <td>0.0</td>\n",
       "      <td>UNN</td>\n",
       "      <td>3.918316</td>\n",
       "      <td>1056.0</td>\n",
       "      <td>CD2</td>\n",
       "      <td>A</td>\n",
       "      <td>131.0</td>\n",
       "      <td>LEU</td>\n",
       "      <td>4eor</td>\n",
       "      <td>1</td>\n",
       "    </tr>\n",
       "  </tbody>\n",
       "</table>\n",
       "</div>"
      ],
      "text/plain": [
       "   ligand_atom_index ligand_atom_name ligand_chain  ligand_resID  \\\n",
       "0                1.0               C2            d           0.0   \n",
       "1                1.0               C2            d           0.0   \n",
       "\n",
       "  ligand_resName  distance  receptor_atom_index receptor_atom_name  \\\n",
       "0            UNN  3.537490                 92.0                CG2   \n",
       "1            UNN  3.918316               1056.0                CD2   \n",
       "\n",
       "  receptor_chain  receptor_resID receptor_resName   pdb pose  \n",
       "0              A            11.0              ILE  4eor    1  \n",
       "1              A           131.0              LEU  4eor    1  "
      ]
     },
     "execution_count": 80,
     "metadata": {},
     "output_type": "execute_result"
    }
   ],
   "source": [
    "df.head(2)"
   ]
  },
  {
   "cell_type": "markdown",
   "id": "a0992dbd-15e8-4cff-9231-22c91b8edc73",
   "metadata": {},
   "source": [
    "#### Extracting properties "
   ]
  },
  {
   "cell_type": "code",
   "execution_count": 81,
   "id": "32d8be44-859a-455f-a458-04dfd18cd2a4",
   "metadata": {},
   "outputs": [],
   "source": [
    "lig_atoms_prop = {}\n",
    "rec_atoms_prop = {}\n",
    "df_dict = {}"
   ]
  },
  {
   "cell_type": "code",
   "execution_count": 82,
   "id": "8bcbd3ed-8508-4fa8-9a3f-28c9e4be69b0",
   "metadata": {},
   "outputs": [],
   "source": [
    "pose_rank = False "
   ]
  },
  {
   "cell_type": "code",
   "execution_count": 84,
   "id": "6a4882b0-eb03-4c01-aa17-04e8a5b2093c",
   "metadata": {},
   "outputs": [],
   "source": [
    "with open(f'{config.root}/{config.project_name}/{config.dicts}/combined_dicts_ids.pkl','rb') as f:\n",
    "    combined_dict = pickle.load(f)"
   ]
  },
  {
   "cell_type": "code",
   "execution_count": 87,
   "id": "be31bfd1-c507-4bce-991a-0cf7854e7b15",
   "metadata": {
    "scrolled": true
   },
   "outputs": [
    {
     "name": "stderr",
     "output_type": "stream",
     "text": [
      "Processing PDBs:   0%|                                  | 0/284 [00:00<?, ?it/s]"
     ]
    },
    {
     "name": "stdout",
     "output_type": "stream",
     "text": [
      "4eor\n"
     ]
    },
    {
     "name": "stderr",
     "output_type": "stream",
     "text": [
      "Processing PDBs:   0%|                          | 1/284 [00:00<04:18,  1.09it/s]"
     ]
    },
    {
     "name": "stdout",
     "output_type": "stream",
     "text": [
      "2qbq\n"
     ]
    },
    {
     "name": "stderr",
     "output_type": "stream",
     "text": [
      "Processing PDBs:   1%|▏                         | 2/284 [00:01<03:36,  1.30it/s]"
     ]
    },
    {
     "name": "stdout",
     "output_type": "stream",
     "text": [
      "3g2n\n"
     ]
    },
    {
     "name": "stderr",
     "output_type": "stream",
     "text": [
      "Processing PDBs:   1%|▎                         | 3/284 [00:02<04:31,  1.03it/s]"
     ]
    },
    {
     "name": "stdout",
     "output_type": "stream",
     "text": [
      "1ydr\n"
     ]
    },
    {
     "name": "stderr",
     "output_type": "stream",
     "text": [
      "Processing PDBs:   1%|▎                         | 4/284 [00:03<04:05,  1.14it/s]"
     ]
    },
    {
     "name": "stdout",
     "output_type": "stream",
     "text": [
      "3uev\n"
     ]
    },
    {
     "name": "stderr",
     "output_type": "stream",
     "text": [
      "Processing PDBs:   2%|▍                         | 5/284 [00:04<03:44,  1.25it/s]"
     ]
    },
    {
     "name": "stdout",
     "output_type": "stream",
     "text": [
      "2xnb\n"
     ]
    },
    {
     "name": "stderr",
     "output_type": "stream",
     "text": [
      "Processing PDBs:   2%|▌                         | 6/284 [00:04<03:34,  1.30it/s]"
     ]
    },
    {
     "name": "stdout",
     "output_type": "stream",
     "text": [
      "3qqs\n"
     ]
    },
    {
     "name": "stderr",
     "output_type": "stream",
     "text": [
      "Processing PDBs:   2%|▋                         | 7/284 [00:05<03:26,  1.34it/s]"
     ]
    },
    {
     "name": "stdout",
     "output_type": "stream",
     "text": [
      "1w4o\n"
     ]
    },
    {
     "name": "stderr",
     "output_type": "stream",
     "text": [
      "Processing PDBs:   3%|▋                         | 8/284 [00:06<03:06,  1.48it/s]"
     ]
    },
    {
     "name": "stdout",
     "output_type": "stream",
     "text": [
      "4jxs\n"
     ]
    },
    {
     "name": "stderr",
     "output_type": "stream",
     "text": [
      "Processing PDBs:   3%|▊                         | 9/284 [00:06<03:12,  1.43it/s]"
     ]
    },
    {
     "name": "stdout",
     "output_type": "stream",
     "text": [
      "3zsx\n"
     ]
    },
    {
     "name": "stderr",
     "output_type": "stream",
     "text": [
      "Processing PDBs:   4%|▉                        | 10/284 [00:07<03:07,  1.46it/s]"
     ]
    },
    {
     "name": "stdout",
     "output_type": "stream",
     "text": [
      "3l7b\n"
     ]
    },
    {
     "name": "stderr",
     "output_type": "stream",
     "text": [
      "Processing PDBs:   4%|▉                        | 11/284 [00:09<05:14,  1.15s/it]"
     ]
    },
    {
     "name": "stdout",
     "output_type": "stream",
     "text": [
      "3pww\n"
     ]
    },
    {
     "name": "stderr",
     "output_type": "stream",
     "text": [
      "Processing PDBs:   4%|█                        | 12/284 [00:10<04:38,  1.02s/it]"
     ]
    },
    {
     "name": "stdout",
     "output_type": "stream",
     "text": [
      "4ih5\n"
     ]
    },
    {
     "name": "stderr",
     "output_type": "stream",
     "text": [
      "Processing PDBs:   5%|█▏                       | 13/284 [00:11<04:29,  1.00it/s]"
     ]
    },
    {
     "name": "stdout",
     "output_type": "stream",
     "text": [
      "4mme\n"
     ]
    },
    {
     "name": "stderr",
     "output_type": "stream",
     "text": [
      "Processing PDBs:   5%|█▏                       | 14/284 [00:12<04:23,  1.02it/s]"
     ]
    },
    {
     "name": "stdout",
     "output_type": "stream",
     "text": [
      "4de1\n"
     ]
    },
    {
     "name": "stderr",
     "output_type": "stream",
     "text": [
      "Processing PDBs:   5%|█▎                       | 15/284 [00:12<03:53,  1.15it/s][16:18:05] Explicit valence for atom # 0 N, 5, is greater than permitted\n"
     ]
    },
    {
     "name": "stdout",
     "output_type": "stream",
     "text": [
      "3gc5\n"
     ]
    },
    {
     "name": "stderr",
     "output_type": "stream",
     "text": [
      "[16:18:05] Explicit valence for atom # 0 N, 5, is greater than permitted\n",
      "[16:18:05] Explicit valence for atom # 0 N, 5, is greater than permitted\n",
      "[16:18:05] Explicit valence for atom # 0 N, 5, is greater than permitted\n",
      "[16:18:05] Explicit valence for atom # 0 N, 5, is greater than permitted\n",
      "[16:18:05] Explicit valence for atom # 0 N, 5, is greater than permitted\n",
      "[16:18:05] Explicit valence for atom # 0 N, 5, is greater than permitted\n",
      "[16:18:06] Explicit valence for atom # 0 N, 5, is greater than permitted\n",
      "[16:18:06] Explicit valence for atom # 0 N, 5, is greater than permitted\n",
      "[16:18:06] Explicit valence for atom # 0 N, 5, is greater than permitted\n",
      "Processing PDBs:   6%|█▍                       | 16/284 [00:14<04:40,  1.05s/it]"
     ]
    },
    {
     "name": "stdout",
     "output_type": "stream",
     "text": [
      "4djv\n"
     ]
    },
    {
     "name": "stderr",
     "output_type": "stream",
     "text": [
      "Processing PDBs:   6%|█▍                       | 17/284 [00:15<04:29,  1.01s/it]"
     ]
    },
    {
     "name": "stdout",
     "output_type": "stream",
     "text": [
      "2vvn\n"
     ]
    },
    {
     "name": "stderr",
     "output_type": "stream",
     "text": [
      "Processing PDBs:   6%|█▌                       | 18/284 [00:16<04:44,  1.07s/it]"
     ]
    },
    {
     "name": "stdout",
     "output_type": "stream",
     "text": [
      "3b68\n"
     ]
    },
    {
     "name": "stderr",
     "output_type": "stream",
     "text": [
      "Processing PDBs:   7%|█▋                       | 19/284 [00:17<04:12,  1.05it/s]"
     ]
    },
    {
     "name": "stdout",
     "output_type": "stream",
     "text": [
      "1owh\n"
     ]
    },
    {
     "name": "stderr",
     "output_type": "stream",
     "text": [
      "Processing PDBs:   7%|█▊                       | 20/284 [00:17<03:52,  1.13it/s]"
     ]
    },
    {
     "name": "stdout",
     "output_type": "stream",
     "text": [
      "4dld\n"
     ]
    },
    {
     "name": "stderr",
     "output_type": "stream",
     "text": [
      "Processing PDBs:   7%|█▊                       | 21/284 [00:18<03:59,  1.10it/s][16:18:11] Explicit valence for atom # 0 N, 5, is greater than permitted\n",
      "[16:18:11] Explicit valence for atom # 0 N, 5, is greater than permitted\n"
     ]
    },
    {
     "name": "stdout",
     "output_type": "stream",
     "text": [
      "2zda\n"
     ]
    },
    {
     "name": "stderr",
     "output_type": "stream",
     "text": [
      "[16:18:11] Explicit valence for atom # 0 N, 5, is greater than permitted\n",
      "[16:18:11] Explicit valence for atom # 0 N, 5, is greater than permitted\n",
      "[16:18:11] Explicit valence for atom # 0 N, 5, is greater than permitted\n",
      "[16:18:11] Explicit valence for atom # 0 N, 5, is greater than permitted\n",
      "[16:18:11] Explicit valence for atom # 0 N, 5, is greater than permitted\n",
      "[16:18:11] Explicit valence for atom # 0 N, 5, is greater than permitted\n",
      "[16:18:11] Explicit valence for atom # 0 N, 5, is greater than permitted\n",
      "[16:18:11] Explicit valence for atom # 0 N, 5, is greater than permitted\n",
      "Processing PDBs:   8%|█▉                       | 22/284 [00:19<03:54,  1.12it/s]"
     ]
    },
    {
     "name": "stdout",
     "output_type": "stream",
     "text": [
      "1g2k\n"
     ]
    },
    {
     "name": "stderr",
     "output_type": "stream",
     "text": [
      "Processing PDBs:   8%|██                       | 23/284 [00:20<03:35,  1.21it/s]"
     ]
    },
    {
     "name": "stdout",
     "output_type": "stream",
     "text": [
      "4gr0\n"
     ]
    },
    {
     "name": "stderr",
     "output_type": "stream",
     "text": [
      "Processing PDBs:   8%|██                       | 24/284 [00:21<03:21,  1.29it/s]"
     ]
    },
    {
     "name": "stdout",
     "output_type": "stream",
     "text": [
      "2vw5\n"
     ]
    },
    {
     "name": "stderr",
     "output_type": "stream",
     "text": [
      "Processing PDBs:   9%|██▏                      | 25/284 [00:21<03:11,  1.35it/s]"
     ]
    },
    {
     "name": "stdout",
     "output_type": "stream",
     "text": [
      "3gv9\n"
     ]
    },
    {
     "name": "stderr",
     "output_type": "stream",
     "text": [
      "Processing PDBs:   9%|██▎                      | 26/284 [00:22<03:19,  1.29it/s]"
     ]
    },
    {
     "name": "stdout",
     "output_type": "stream",
     "text": [
      "2fxs\n"
     ]
    },
    {
     "name": "stderr",
     "output_type": "stream",
     "text": [
      "Processing PDBs:  10%|██▍                      | 27/284 [00:23<03:10,  1.35it/s]"
     ]
    },
    {
     "name": "stdout",
     "output_type": "stream",
     "text": [
      "4f09\n"
     ]
    },
    {
     "name": "stderr",
     "output_type": "stream",
     "text": [
      "Processing PDBs:  10%|██▍                      | 28/284 [00:24<03:12,  1.33it/s]"
     ]
    },
    {
     "name": "stdout",
     "output_type": "stream",
     "text": [
      "4de3\n"
     ]
    },
    {
     "name": "stderr",
     "output_type": "stream",
     "text": [
      "Processing PDBs:  10%|██▌                      | 29/284 [00:24<03:07,  1.36it/s]"
     ]
    },
    {
     "name": "stdout",
     "output_type": "stream",
     "text": [
      "3rsx\n"
     ]
    },
    {
     "name": "stderr",
     "output_type": "stream",
     "text": [
      "Processing PDBs:  11%|██▋                      | 30/284 [00:25<03:18,  1.28it/s][16:18:17] Explicit valence for atom # 0 N, 5, is greater than permitted\n"
     ]
    },
    {
     "name": "stdout",
     "output_type": "stream",
     "text": [
      "3u8n\n"
     ]
    },
    {
     "name": "stderr",
     "output_type": "stream",
     "text": [
      "[16:18:17] Explicit valence for atom # 0 N, 5, is greater than permitted\n",
      "[16:18:18] Explicit valence for atom # 0 N, 5, is greater than permitted\n",
      "[16:18:18] Explicit valence for atom # 0 N, 5, is greater than permitted\n",
      "[16:18:18] Explicit valence for atom # 0 N, 5, is greater than permitted\n",
      "[16:18:18] Explicit valence for atom # 0 N, 5, is greater than permitted\n",
      "[16:18:18] Explicit valence for atom # 0 N, 5, is greater than permitted\n",
      "[16:18:19] Explicit valence for atom # 0 N, 5, is greater than permitted\n",
      "[16:18:19] Explicit valence for atom # 0 N, 5, is greater than permitted\n",
      "[16:18:19] Explicit valence for atom # 0 N, 5, is greater than permitted\n",
      "Processing PDBs:  11%|██▋                      | 31/284 [00:27<04:28,  1.06s/it]"
     ]
    },
    {
     "name": "stdout",
     "output_type": "stream",
     "text": [
      "2cet\n"
     ]
    },
    {
     "name": "stderr",
     "output_type": "stream",
     "text": [
      "Processing PDBs:  11%|██▊                      | 32/284 [00:28<04:14,  1.01s/it][16:18:20] Explicit valence for atom # 4 C, 5, is greater than permitted\n",
      "[16:18:20] Explicit valence for atom # 4 C, 5, is greater than permitted\n",
      "[16:18:20] Explicit valence for atom # 4 C, 5, is greater than permitted\n"
     ]
    },
    {
     "name": "stdout",
     "output_type": "stream",
     "text": [
      "5c2h\n"
     ]
    },
    {
     "name": "stderr",
     "output_type": "stream",
     "text": [
      "[16:18:20] Explicit valence for atom # 4 C, 5, is greater than permitted\n",
      "[16:18:20] Explicit valence for atom # 4 C, 5, is greater than permitted\n",
      "[16:18:20] Explicit valence for atom # 4 C, 5, is greater than permitted\n",
      "[16:18:20] Explicit valence for atom # 4 C, 5, is greater than permitted\n",
      "[16:18:20] Explicit valence for atom # 4 C, 5, is greater than permitted\n",
      "[16:18:20] Explicit valence for atom # 4 C, 5, is greater than permitted\n",
      "[16:18:20] Explicit valence for atom # 4 C, 5, is greater than permitted\n",
      "Processing PDBs:  12%|██▉                      | 33/284 [00:28<03:54,  1.07it/s]"
     ]
    },
    {
     "name": "stdout",
     "output_type": "stream",
     "text": [
      "5c28\n"
     ]
    },
    {
     "name": "stderr",
     "output_type": "stream",
     "text": [
      "Processing PDBs:  12%|██▉                      | 34/284 [00:29<03:43,  1.12it/s]"
     ]
    },
    {
     "name": "stdout",
     "output_type": "stream",
     "text": [
      "3zt2\n"
     ]
    },
    {
     "name": "stderr",
     "output_type": "stream",
     "text": [
      "Processing PDBs:  12%|███                      | 35/284 [00:30<03:29,  1.19it/s]"
     ]
    },
    {
     "name": "stdout",
     "output_type": "stream",
     "text": [
      "2r9w\n"
     ]
    },
    {
     "name": "stderr",
     "output_type": "stream",
     "text": [
      "Processing PDBs:  13%|███▏                     | 36/284 [00:31<03:29,  1.19it/s]"
     ]
    },
    {
     "name": "stdout",
     "output_type": "stream",
     "text": [
      "2br1\n"
     ]
    },
    {
     "name": "stderr",
     "output_type": "stream",
     "text": [
      "Processing PDBs:  13%|███▎                     | 37/284 [00:32<03:20,  1.23it/s]"
     ]
    },
    {
     "name": "stdout",
     "output_type": "stream",
     "text": [
      "3f3e\n"
     ]
    },
    {
     "name": "stderr",
     "output_type": "stream",
     "text": [
      "Processing PDBs:  13%|███▎                     | 38/284 [00:33<04:14,  1.03s/it]"
     ]
    },
    {
     "name": "stdout",
     "output_type": "stream",
     "text": [
      "1ydt\n"
     ]
    },
    {
     "name": "stderr",
     "output_type": "stream",
     "text": [
      "Processing PDBs:  14%|███▍                     | 39/284 [00:34<03:53,  1.05it/s]"
     ]
    },
    {
     "name": "stdout",
     "output_type": "stream",
     "text": [
      "2zcq\n"
     ]
    },
    {
     "name": "stderr",
     "output_type": "stream",
     "text": [
      "Processing PDBs:  14%|███▌                     | 40/284 [00:35<03:33,  1.14it/s]"
     ]
    },
    {
     "name": "stdout",
     "output_type": "stream",
     "text": [
      "1qf1\n"
     ]
    },
    {
     "name": "stderr",
     "output_type": "stream",
     "text": [
      "Processing PDBs:  14%|███▌                     | 41/284 [00:35<03:24,  1.19it/s]"
     ]
    },
    {
     "name": "stdout",
     "output_type": "stream",
     "text": [
      "5a7b\n"
     ]
    },
    {
     "name": "stderr",
     "output_type": "stream",
     "text": [
      "Processing PDBs:  15%|███▋                     | 42/284 [00:36<03:08,  1.28it/s]"
     ]
    },
    {
     "name": "stdout",
     "output_type": "stream",
     "text": [
      "4j3l\n"
     ]
    },
    {
     "name": "stderr",
     "output_type": "stream",
     "text": [
      "Processing PDBs:  15%|███▊                     | 43/284 [00:37<02:54,  1.38it/s][16:18:29] Explicit valence for atom # 0 N, 5, is greater than permitted\n",
      "[16:18:29] Explicit valence for atom # 0 N, 5, is greater than permitted\n"
     ]
    },
    {
     "name": "stdout",
     "output_type": "stream",
     "text": [
      "3ary\n"
     ]
    },
    {
     "name": "stderr",
     "output_type": "stream",
     "text": [
      "[16:18:29] Explicit valence for atom # 0 N, 5, is greater than permitted\n",
      "[16:18:29] Explicit valence for atom # 0 N, 5, is greater than permitted\n",
      "[16:18:29] Explicit valence for atom # 0 N, 5, is greater than permitted\n",
      "[16:18:29] Explicit valence for atom # 0 N, 5, is greater than permitted\n",
      "[16:18:29] Explicit valence for atom # 0 N, 5, is greater than permitted\n",
      "[16:18:29] Explicit valence for atom # 0 N, 5, is greater than permitted\n",
      "[16:18:30] Explicit valence for atom # 0 N, 5, is greater than permitted\n",
      "[16:18:30] Explicit valence for atom # 0 N, 5, is greater than permitted\n",
      "Processing PDBs:  15%|███▊                     | 44/284 [00:38<03:17,  1.21it/s]"
     ]
    },
    {
     "name": "stdout",
     "output_type": "stream",
     "text": [
      "2fvd\n"
     ]
    },
    {
     "name": "stderr",
     "output_type": "stream",
     "text": [
      "Processing PDBs:  16%|███▉                     | 45/284 [00:38<03:09,  1.26it/s]"
     ]
    },
    {
     "name": "stdout",
     "output_type": "stream",
     "text": [
      "4qd6\n"
     ]
    },
    {
     "name": "stderr",
     "output_type": "stream",
     "text": [
      "Processing PDBs:  16%|████                     | 46/284 [00:39<02:59,  1.33it/s]"
     ]
    },
    {
     "name": "stdout",
     "output_type": "stream",
     "text": [
      "3gbb\n"
     ]
    },
    {
     "name": "stderr",
     "output_type": "stream",
     "text": [
      "Processing PDBs:  17%|████▏                    | 47/284 [00:40<02:55,  1.35it/s]"
     ]
    },
    {
     "name": "stdout",
     "output_type": "stream",
     "text": [
      "4agn\n"
     ]
    },
    {
     "name": "stderr",
     "output_type": "stream",
     "text": [
      "Processing PDBs:  17%|████▏                    | 48/284 [00:40<02:48,  1.40it/s]"
     ]
    },
    {
     "name": "stdout",
     "output_type": "stream",
     "text": [
      "4gfm\n"
     ]
    },
    {
     "name": "stderr",
     "output_type": "stream",
     "text": [
      "Processing PDBs:  17%|████▎                    | 49/284 [00:41<02:50,  1.38it/s]"
     ]
    },
    {
     "name": "stdout",
     "output_type": "stream",
     "text": [
      "3fur\n"
     ]
    },
    {
     "name": "stderr",
     "output_type": "stream",
     "text": [
      "Processing PDBs:  18%|████▍                    | 50/284 [00:42<02:45,  1.41it/s]"
     ]
    },
    {
     "name": "stdout",
     "output_type": "stream",
     "text": [
      "3fv2\n"
     ]
    },
    {
     "name": "stderr",
     "output_type": "stream",
     "text": [
      "Processing PDBs:  18%|████▍                    | 51/284 [00:42<02:39,  1.46it/s]"
     ]
    },
    {
     "name": "stdout",
     "output_type": "stream",
     "text": [
      "2ymd\n"
     ]
    },
    {
     "name": "stderr",
     "output_type": "stream",
     "text": [
      "[16:18:35] Explicit valence for atom # 0 N, 5, is greater than permitted\n",
      "[16:18:35] Explicit valence for atom # 0 N, 5, is greater than permitted\n",
      "[16:18:35] Explicit valence for atom # 0 N, 5, is greater than permitted\n",
      "[16:18:36] Explicit valence for atom # 0 N, 5, is greater than permitted\n",
      "[16:18:36] Explicit valence for atom # 0 N, 5, is greater than permitted\n",
      "[16:18:36] Explicit valence for atom # 0 N, 5, is greater than permitted\n",
      "[16:18:37] Explicit valence for atom # 0 N, 5, is greater than permitted\n",
      "[16:18:37] Explicit valence for atom # 0 N, 5, is greater than permitted\n",
      "[16:18:37] Explicit valence for atom # 0 N, 5, is greater than permitted\n",
      "[16:18:37] Explicit valence for atom # 0 N, 5, is greater than permitted\n",
      "Processing PDBs:  18%|████▌                    | 52/284 [00:45<05:20,  1.38s/it]"
     ]
    },
    {
     "name": "stdout",
     "output_type": "stream",
     "text": [
      "3jvr\n"
     ]
    },
    {
     "name": "stderr",
     "output_type": "stream",
     "text": [
      "Processing PDBs:  19%|████▋                    | 53/284 [00:46<04:30,  1.17s/it]"
     ]
    },
    {
     "name": "stdout",
     "output_type": "stream",
     "text": [
      "3ehy\n"
     ]
    },
    {
     "name": "stderr",
     "output_type": "stream",
     "text": [
      "Processing PDBs:  19%|████▊                    | 54/284 [00:47<03:50,  1.00s/it]"
     ]
    },
    {
     "name": "stdout",
     "output_type": "stream",
     "text": [
      "3ao4\n"
     ]
    },
    {
     "name": "stderr",
     "output_type": "stream",
     "text": [
      "Processing PDBs:  19%|████▊                    | 55/284 [00:47<03:25,  1.11it/s]"
     ]
    },
    {
     "name": "stdout",
     "output_type": "stream",
     "text": [
      "2qbr\n"
     ]
    },
    {
     "name": "stderr",
     "output_type": "stream",
     "text": [
      "Processing PDBs:  20%|████▉                    | 56/284 [00:48<03:11,  1.19it/s]"
     ]
    },
    {
     "name": "stdout",
     "output_type": "stream",
     "text": [
      "4agp\n"
     ]
    },
    {
     "name": "stderr",
     "output_type": "stream",
     "text": [
      "Processing PDBs:  20%|█████                    | 57/284 [00:49<02:53,  1.31it/s]"
     ]
    },
    {
     "name": "stdout",
     "output_type": "stream",
     "text": [
      "4ogj\n"
     ]
    },
    {
     "name": "stderr",
     "output_type": "stream",
     "text": [
      "Processing PDBs:  20%|█████                    | 58/284 [00:49<02:39,  1.41it/s][16:18:41] Explicit valence for atom # 0 N, 5, is greater than permitted\n",
      "[16:18:41] Explicit valence for atom # 0 N, 5, is greater than permitted\n",
      "[16:18:42] Explicit valence for atom # 0 N, 5, is greater than permitted\n"
     ]
    },
    {
     "name": "stdout",
     "output_type": "stream",
     "text": [
      "4k18\n"
     ]
    },
    {
     "name": "stderr",
     "output_type": "stream",
     "text": [
      "[16:18:42] Explicit valence for atom # 0 N, 5, is greater than permitted\n",
      "[16:18:42] Explicit valence for atom # 0 N, 5, is greater than permitted\n",
      "[16:18:42] Explicit valence for atom # 0 N, 5, is greater than permitted\n",
      "[16:18:42] Explicit valence for atom # 0 N, 5, is greater than permitted\n",
      "[16:18:42] Explicit valence for atom # 0 N, 5, is greater than permitted\n",
      "[16:18:42] Explicit valence for atom # 0 N, 5, is greater than permitted\n",
      "[16:18:42] Explicit valence for atom # 0 N, 5, is greater than permitted\n",
      "Processing PDBs:  21%|█████▏                   | 59/284 [00:50<02:48,  1.34it/s]"
     ]
    },
    {
     "name": "stdout",
     "output_type": "stream",
     "text": [
      "3ui7\n"
     ]
    },
    {
     "name": "stderr",
     "output_type": "stream",
     "text": [
      "Processing PDBs:  21%|█████▎                   | 60/284 [00:51<02:51,  1.31it/s]"
     ]
    },
    {
     "name": "stdout",
     "output_type": "stream",
     "text": [
      "1vso\n"
     ]
    },
    {
     "name": "stderr",
     "output_type": "stream",
     "text": [
      "Processing PDBs:  21%|█████▎                   | 61/284 [00:52<02:54,  1.28it/s]"
     ]
    },
    {
     "name": "stdout",
     "output_type": "stream",
     "text": [
      "3fv1\n"
     ]
    },
    {
     "name": "stderr",
     "output_type": "stream",
     "text": [
      "Processing PDBs:  22%|█████▍                   | 62/284 [00:52<02:44,  1.35it/s]"
     ]
    },
    {
     "name": "stdout",
     "output_type": "stream",
     "text": [
      "4e5w\n"
     ]
    },
    {
     "name": "stderr",
     "output_type": "stream",
     "text": [
      "Processing PDBs:  22%|█████▌                   | 63/284 [00:53<02:54,  1.26it/s][16:18:45] Explicit valence for atom # 0 N, 5, is greater than permitted\n",
      "[16:18:45] Explicit valence for atom # 0 N, 5, is greater than permitted\n",
      "[16:18:46] Explicit valence for atom # 0 N, 5, is greater than permitted\n"
     ]
    },
    {
     "name": "stdout",
     "output_type": "stream",
     "text": [
      "2v7a\n"
     ]
    },
    {
     "name": "stderr",
     "output_type": "stream",
     "text": [
      "[16:18:46] Explicit valence for atom # 0 N, 5, is greater than permitted\n",
      "[16:18:46] Explicit valence for atom # 0 N, 5, is greater than permitted\n",
      "[16:18:46] Explicit valence for atom # 0 N, 5, is greater than permitted\n",
      "[16:18:46] Explicit valence for atom # 0 N, 5, is greater than permitted\n",
      "[16:18:46] Explicit valence for atom # 0 N, 5, is greater than permitted\n",
      "[16:18:46] Explicit valence for atom # 0 N, 5, is greater than permitted\n",
      "[16:18:46] Explicit valence for atom # 0 N, 5, is greater than permitted\n",
      "Processing PDBs:  23%|█████▋                   | 64/284 [00:54<02:52,  1.28it/s]"
     ]
    },
    {
     "name": "stdout",
     "output_type": "stream",
     "text": [
      "1a30\n"
     ]
    },
    {
     "name": "stderr",
     "output_type": "stream",
     "text": [
      "Processing PDBs:  23%|█████▋                   | 65/284 [00:55<02:37,  1.39it/s]"
     ]
    },
    {
     "name": "stdout",
     "output_type": "stream",
     "text": [
      "1ps3\n"
     ]
    },
    {
     "name": "stderr",
     "output_type": "stream",
     "text": [
      "Processing PDBs:  23%|█████▊                   | 66/284 [01:06<13:52,  3.82s/it]"
     ]
    },
    {
     "name": "stdout",
     "output_type": "stream",
     "text": [
      "1e66\n"
     ]
    },
    {
     "name": "stderr",
     "output_type": "stream",
     "text": [
      "Processing PDBs:  24%|█████▉                   | 67/284 [01:08<11:53,  3.29s/it]"
     ]
    },
    {
     "name": "stdout",
     "output_type": "stream",
     "text": [
      "2al5\n"
     ]
    },
    {
     "name": "stderr",
     "output_type": "stream",
     "text": [
      "Processing PDBs:  24%|█████▉                   | 68/284 [01:09<09:11,  2.55s/it]"
     ]
    },
    {
     "name": "stdout",
     "output_type": "stream",
     "text": [
      "1u1b\n"
     ]
    },
    {
     "name": "stderr",
     "output_type": "stream",
     "text": [
      "Processing PDBs:  24%|██████                   | 69/284 [01:09<06:58,  1.95s/it][16:19:01] Explicit valence for atom # 0 N, 5, is greater than permitted\n",
      "[16:19:01] Explicit valence for atom # 0 N, 5, is greater than permitted\n",
      "[16:19:01] Explicit valence for atom # 0 N, 5, is greater than permitted\n"
     ]
    },
    {
     "name": "stdout",
     "output_type": "stream",
     "text": [
      "3utu\n"
     ]
    },
    {
     "name": "stderr",
     "output_type": "stream",
     "text": [
      "[16:19:01] Explicit valence for atom # 0 N, 5, is greater than permitted\n",
      "[16:19:02] Explicit valence for atom # 0 N, 5, is greater than permitted\n",
      "[16:19:02] Explicit valence for atom # 0 N, 5, is greater than permitted\n",
      "[16:19:02] Explicit valence for atom # 0 N, 5, is greater than permitted\n",
      "[16:19:02] Explicit valence for atom # 0 N, 5, is greater than permitted\n",
      "[16:19:02] Explicit valence for atom # 0 N, 5, is greater than permitted\n",
      "[16:19:02] Explicit valence for atom # 0 N, 5, is greater than permitted\n",
      "Processing PDBs:  25%|██████▏                  | 70/284 [01:10<05:40,  1.59s/it][16:19:02] Explicit valence for atom # 0 N, 5, is greater than permitted\n",
      "[16:19:02] Explicit valence for atom # 0 N, 5, is greater than permitted\n",
      "[16:19:02] Explicit valence for atom # 0 N, 5, is greater than permitted\n"
     ]
    },
    {
     "name": "stdout",
     "output_type": "stream",
     "text": [
      "3ryj\n"
     ]
    },
    {
     "name": "stderr",
     "output_type": "stream",
     "text": [
      "[16:19:02] Explicit valence for atom # 0 N, 5, is greater than permitted\n",
      "[16:19:02] Explicit valence for atom # 0 N, 5, is greater than permitted\n",
      "[16:19:02] Explicit valence for atom # 0 N, 5, is greater than permitted\n",
      "[16:19:02] Explicit valence for atom # 0 N, 5, is greater than permitted\n",
      "[16:19:02] Explicit valence for atom # 0 N, 5, is greater than permitted\n",
      "[16:19:03] Explicit valence for atom # 0 N, 5, is greater than permitted\n",
      "[16:19:03] Explicit valence for atom # 0 N, 5, is greater than permitted\n",
      "Processing PDBs:  25%|██████▎                  | 71/284 [01:11<04:43,  1.33s/it]"
     ]
    },
    {
     "name": "stdout",
     "output_type": "stream",
     "text": [
      "2x00\n"
     ]
    },
    {
     "name": "stderr",
     "output_type": "stream",
     "text": [
      "[16:19:03] Explicit valence for atom # 0 N, 5, is greater than permitted\n",
      "[16:19:03] Explicit valence for atom # 0 N, 5, is greater than permitted\n",
      "[16:19:03] Explicit valence for atom # 0 N, 5, is greater than permitted\n",
      "[16:19:03] Explicit valence for atom # 0 N, 5, is greater than permitted\n",
      "[16:19:03] Explicit valence for atom # 0 N, 5, is greater than permitted\n",
      "[16:19:04] Explicit valence for atom # 0 N, 5, is greater than permitted\n",
      "[16:19:04] Explicit valence for atom # 0 N, 5, is greater than permitted\n",
      "[16:19:04] Explicit valence for atom # 0 N, 5, is greater than permitted\n",
      "[16:19:04] Explicit valence for atom # 0 N, 5, is greater than permitted\n",
      "[16:19:04] Explicit valence for atom # 0 N, 5, is greater than permitted\n",
      "Processing PDBs:  25%|██████▎                  | 72/284 [01:12<05:04,  1.43s/it]"
     ]
    },
    {
     "name": "stdout",
     "output_type": "stream",
     "text": [
      "4wiv\n"
     ]
    },
    {
     "name": "stderr",
     "output_type": "stream",
     "text": [
      "Processing PDBs:  26%|██████▍                  | 73/284 [01:13<04:07,  1.17s/it]"
     ]
    },
    {
     "name": "stdout",
     "output_type": "stream",
     "text": [
      "4w9i\n"
     ]
    },
    {
     "name": "stderr",
     "output_type": "stream",
     "text": [
      "Processing PDBs:  26%|██████▌                  | 74/284 [01:14<03:36,  1.03s/it]"
     ]
    },
    {
     "name": "stdout",
     "output_type": "stream",
     "text": [
      "4cr9\n"
     ]
    },
    {
     "name": "stderr",
     "output_type": "stream",
     "text": [
      "Processing PDBs:  26%|██████▌                  | 75/284 [01:14<03:28,  1.00it/s]"
     ]
    },
    {
     "name": "stdout",
     "output_type": "stream",
     "text": [
      "4u4s\n"
     ]
    },
    {
     "name": "stderr",
     "output_type": "stream",
     "text": [
      "Processing PDBs:  27%|██████▋                  | 76/284 [01:15<03:22,  1.03it/s]"
     ]
    },
    {
     "name": "stdout",
     "output_type": "stream",
     "text": [
      "3dx1\n"
     ]
    },
    {
     "name": "stderr",
     "output_type": "stream",
     "text": [
      "Processing PDBs:  27%|██████▊                  | 77/284 [01:27<13:56,  4.04s/it][16:19:19] Explicit valence for atom # 0 N, 5, is greater than permitted\n",
      "[16:19:19] Explicit valence for atom # 0 N, 5, is greater than permitted\n"
     ]
    },
    {
     "name": "stdout",
     "output_type": "stream",
     "text": [
      "3k5v\n"
     ]
    },
    {
     "name": "stderr",
     "output_type": "stream",
     "text": [
      "[16:19:19] Explicit valence for atom # 0 N, 5, is greater than permitted\n",
      "[16:19:19] Explicit valence for atom # 0 N, 5, is greater than permitted\n",
      "[16:19:19] Explicit valence for atom # 0 N, 5, is greater than permitted\n",
      "[16:19:19] Explicit valence for atom # 0 N, 5, is greater than permitted\n",
      "[16:19:19] Explicit valence for atom # 0 N, 5, is greater than permitted\n",
      "[16:19:19] Explicit valence for atom # 0 N, 5, is greater than permitted\n",
      "[16:19:20] Explicit valence for atom # 0 N, 5, is greater than permitted\n",
      "[16:19:20] Explicit valence for atom # 0 N, 5, is greater than permitted\n",
      "Processing PDBs:  27%|██████▊                  | 78/284 [01:28<10:46,  3.14s/it][16:19:20] Explicit valence for atom # 0 N, 5, is greater than permitted\n",
      "[16:19:20] Explicit valence for atom # 0 N, 5, is greater than permitted\n"
     ]
    },
    {
     "name": "stdout",
     "output_type": "stream",
     "text": [
      "1oyt\n"
     ]
    },
    {
     "name": "stderr",
     "output_type": "stream",
     "text": [
      "[16:19:20] Explicit valence for atom # 0 N, 5, is greater than permitted\n",
      "[16:19:20] Explicit valence for atom # 0 N, 5, is greater than permitted\n",
      "[16:19:20] Explicit valence for atom # 0 N, 5, is greater than permitted\n",
      "[16:19:20] Explicit valence for atom # 0 N, 5, is greater than permitted\n",
      "[16:19:20] Explicit valence for atom # 0 N, 5, is greater than permitted\n",
      "[16:19:20] Explicit valence for atom # 0 N, 5, is greater than permitted\n",
      "[16:19:20] Explicit valence for atom # 0 N, 5, is greater than permitted\n",
      "[16:19:20] Explicit valence for atom # 0 N, 5, is greater than permitted\n",
      "Processing PDBs:  28%|██████▉                  | 79/284 [01:28<08:24,  2.46s/it]"
     ]
    },
    {
     "name": "stdout",
     "output_type": "stream",
     "text": [
      "1qkt\n"
     ]
    },
    {
     "name": "stderr",
     "output_type": "stream",
     "text": [
      "Processing PDBs:  28%|███████                  | 80/284 [01:29<06:46,  1.99s/it]"
     ]
    },
    {
     "name": "stdout",
     "output_type": "stream",
     "text": [
      "3zso\n"
     ]
    },
    {
     "name": "stderr",
     "output_type": "stream",
     "text": [
      "Processing PDBs:  29%|███████▏                 | 81/284 [01:30<05:29,  1.62s/it][16:19:22] Explicit valence for atom # 0 N, 5, is greater than permitted\n",
      "[16:19:22] Explicit valence for atom # 0 N, 5, is greater than permitted\n",
      "[16:19:22] Explicit valence for atom # 0 N, 5, is greater than permitted\n"
     ]
    },
    {
     "name": "stdout",
     "output_type": "stream",
     "text": [
      "4ty7\n"
     ]
    },
    {
     "name": "stderr",
     "output_type": "stream",
     "text": [
      "[16:19:22] Explicit valence for atom # 0 N, 5, is greater than permitted\n",
      "[16:19:23] Explicit valence for atom # 0 N, 5, is greater than permitted\n",
      "[16:19:23] Explicit valence for atom # 0 N, 5, is greater than permitted\n",
      "[16:19:23] Explicit valence for atom # 0 N, 5, is greater than permitted\n",
      "[16:19:23] Explicit valence for atom # 0 N, 5, is greater than permitted\n",
      "[16:19:23] Explicit valence for atom # 0 N, 5, is greater than permitted\n",
      "[16:19:23] Explicit valence for atom # 0 N, 5, is greater than permitted\n",
      "Processing PDBs:  29%|███████▏                 | 82/284 [01:31<04:37,  1.37s/it]"
     ]
    },
    {
     "name": "stdout",
     "output_type": "stream",
     "text": [
      "1yc1\n"
     ]
    },
    {
     "name": "stderr",
     "output_type": "stream",
     "text": [
      "Processing PDBs:  29%|███████▎                 | 83/284 [01:32<03:53,  1.16s/it]"
     ]
    },
    {
     "name": "stdout",
     "output_type": "stream",
     "text": [
      "4tmn\n"
     ]
    },
    {
     "name": "stderr",
     "output_type": "stream",
     "text": [
      "Processing PDBs:  30%|███████▍                 | 84/284 [01:33<03:48,  1.14s/it]"
     ]
    },
    {
     "name": "stdout",
     "output_type": "stream",
     "text": [
      "1k1i\n"
     ]
    },
    {
     "name": "stderr",
     "output_type": "stream",
     "text": [
      "Processing PDBs:  30%|███████▍                 | 85/284 [01:33<03:25,  1.03s/it]"
     ]
    },
    {
     "name": "stdout",
     "output_type": "stream",
     "text": [
      "3r88\n"
     ]
    },
    {
     "name": "stderr",
     "output_type": "stream",
     "text": [
      "Processing PDBs:  30%|███████▌                 | 86/284 [01:35<03:26,  1.04s/it]"
     ]
    },
    {
     "name": "stdout",
     "output_type": "stream",
     "text": [
      "3f3c\n"
     ]
    },
    {
     "name": "stderr",
     "output_type": "stream",
     "text": [
      "Processing PDBs:  31%|███████▋                 | 87/284 [01:36<04:01,  1.23s/it]"
     ]
    },
    {
     "name": "stdout",
     "output_type": "stream",
     "text": [
      "1nvq\n"
     ]
    },
    {
     "name": "stderr",
     "output_type": "stream",
     "text": [
      "Processing PDBs:  31%|███████▋                 | 88/284 [01:37<03:33,  1.09s/it]"
     ]
    },
    {
     "name": "stdout",
     "output_type": "stream",
     "text": [
      "4de2\n"
     ]
    },
    {
     "name": "stderr",
     "output_type": "stream",
     "text": [
      "Processing PDBs:  31%|███████▊                 | 89/284 [01:38<03:11,  1.02it/s]"
     ]
    },
    {
     "name": "stdout",
     "output_type": "stream",
     "text": [
      "3dx2\n"
     ]
    },
    {
     "name": "stderr",
     "output_type": "stream",
     "text": [
      "Processing PDBs:  32%|███████▉                 | 90/284 [01:49<12:44,  3.94s/it]"
     ]
    },
    {
     "name": "stdout",
     "output_type": "stream",
     "text": [
      "3e92\n"
     ]
    },
    {
     "name": "stderr",
     "output_type": "stream",
     "text": [
      "Processing PDBs:  32%|████████                 | 91/284 [01:49<09:34,  2.98s/it]"
     ]
    },
    {
     "name": "stdout",
     "output_type": "stream",
     "text": [
      "2w4x\n"
     ]
    },
    {
     "name": "stderr",
     "output_type": "stream",
     "text": [
      "Processing PDBs:  32%|████████                 | 92/284 [01:50<07:48,  2.44s/it]"
     ]
    },
    {
     "name": "stdout",
     "output_type": "stream",
     "text": [
      "1sqa\n"
     ]
    },
    {
     "name": "stderr",
     "output_type": "stream",
     "text": [
      "Processing PDBs:  33%|████████▏                | 93/284 [01:51<06:08,  1.93s/it]"
     ]
    },
    {
     "name": "stdout",
     "output_type": "stream",
     "text": [
      "3uex\n"
     ]
    },
    {
     "name": "stderr",
     "output_type": "stream",
     "text": [
      "Processing PDBs:  33%|████████▎                | 94/284 [01:52<04:58,  1.57s/it][16:19:44] Explicit valence for atom # 0 N, 5, is greater than permitted\n",
      "[16:19:44] Explicit valence for atom # 0 N, 5, is greater than permitted\n"
     ]
    },
    {
     "name": "stdout",
     "output_type": "stream",
     "text": [
      "2qe4\n"
     ]
    },
    {
     "name": "stderr",
     "output_type": "stream",
     "text": [
      "[16:19:44] Explicit valence for atom # 0 N, 5, is greater than permitted\n",
      "[16:19:44] Explicit valence for atom # 0 N, 5, is greater than permitted\n",
      "[16:19:44] Explicit valence for atom # 0 N, 5, is greater than permitted\n",
      "[16:19:44] Explicit valence for atom # 0 N, 5, is greater than permitted\n",
      "[16:19:45] Explicit valence for atom # 0 N, 5, is greater than permitted\n",
      "[16:19:45] Explicit valence for atom # 0 N, 5, is greater than permitted\n",
      "[16:19:45] Explicit valence for atom # 0 N, 5, is greater than permitted\n",
      "[16:19:45] Explicit valence for atom # 0 N, 5, is greater than permitted\n",
      "Processing PDBs:  33%|████████▎                | 95/284 [01:53<04:19,  1.37s/it][16:19:45] Explicit valence for atom # 0 N, 5, is greater than permitted\n",
      "[16:19:45] Explicit valence for atom # 0 N, 5, is greater than permitted\n",
      "[16:19:45] Explicit valence for atom # 0 N, 5, is greater than permitted\n"
     ]
    },
    {
     "name": "stdout",
     "output_type": "stream",
     "text": [
      "3u5j\n"
     ]
    },
    {
     "name": "stderr",
     "output_type": "stream",
     "text": [
      "[16:19:45] Explicit valence for atom # 0 N, 5, is greater than permitted\n",
      "[16:19:45] Explicit valence for atom # 0 N, 5, is greater than permitted\n",
      "[16:19:45] Explicit valence for atom # 0 N, 5, is greater than permitted\n",
      "[16:19:45] Explicit valence for atom # 0 N, 5, is greater than permitted\n",
      "[16:19:45] Explicit valence for atom # 0 N, 5, is greater than permitted\n",
      "[16:19:45] Explicit valence for atom # 0 N, 5, is greater than permitted\n",
      "[16:19:45] Explicit valence for atom # 0 N, 5, is greater than permitted\n",
      "Processing PDBs:  34%|████████▍                | 96/284 [01:53<03:36,  1.15s/it]"
     ]
    },
    {
     "name": "stdout",
     "output_type": "stream",
     "text": [
      "3oe5\n"
     ]
    },
    {
     "name": "stderr",
     "output_type": "stream",
     "text": [
      "Processing PDBs:  34%|████████▌                | 97/284 [01:54<03:09,  1.01s/it]"
     ]
    },
    {
     "name": "stdout",
     "output_type": "stream",
     "text": [
      "3coy\n"
     ]
    },
    {
     "name": "stderr",
     "output_type": "stream",
     "text": [
      "Processing PDBs:  35%|████████▋                | 98/284 [01:55<03:05,  1.00it/s][16:19:47] Explicit valence for atom # 0 N, 5, is greater than permitted\n",
      "[16:19:47] Explicit valence for atom # 0 N, 5, is greater than permitted\n"
     ]
    },
    {
     "name": "stdout",
     "output_type": "stream",
     "text": [
      "3gr2\n"
     ]
    },
    {
     "name": "stderr",
     "output_type": "stream",
     "text": [
      "[16:19:47] Explicit valence for atom # 0 N, 5, is greater than permitted\n",
      "[16:19:47] Explicit valence for atom # 0 N, 5, is greater than permitted\n",
      "[16:19:48] Explicit valence for atom # 0 N, 5, is greater than permitted\n",
      "[16:19:48] Explicit valence for atom # 0 N, 5, is greater than permitted\n",
      "[16:19:48] Explicit valence for atom # 0 N, 5, is greater than permitted\n",
      "[16:19:48] Explicit valence for atom # 0 N, 5, is greater than permitted\n",
      "[16:19:48] Explicit valence for atom # 0 N, 5, is greater than permitted\n",
      "[16:19:48] Explicit valence for atom # 0 N, 5, is greater than permitted\n",
      "Processing PDBs:  35%|████████▋                | 99/284 [01:56<02:57,  1.04it/s]"
     ]
    },
    {
     "name": "stdout",
     "output_type": "stream",
     "text": [
      "4lzs\n"
     ]
    },
    {
     "name": "stderr",
     "output_type": "stream",
     "text": [
      "Processing PDBs:  35%|████████▍               | 100/284 [01:57<02:33,  1.20it/s]"
     ]
    },
    {
     "name": "stdout",
     "output_type": "stream",
     "text": [
      "4m0z\n"
     ]
    },
    {
     "name": "stderr",
     "output_type": "stream",
     "text": [
      "Processing PDBs:  36%|████████▌               | 101/284 [01:57<02:24,  1.27it/s]"
     ]
    },
    {
     "name": "stdout",
     "output_type": "stream",
     "text": [
      "3b5r\n"
     ]
    },
    {
     "name": "stderr",
     "output_type": "stream",
     "text": [
      "Processing PDBs:  36%|████████▌               | 102/284 [01:58<02:18,  1.31it/s]"
     ]
    },
    {
     "name": "stdout",
     "output_type": "stream",
     "text": [
      "2c3i\n"
     ]
    },
    {
     "name": "stderr",
     "output_type": "stream",
     "text": [
      "Processing PDBs:  36%|████████▋               | 103/284 [01:59<02:14,  1.34it/s]"
     ]
    },
    {
     "name": "stdout",
     "output_type": "stream",
     "text": [
      "3aru\n"
     ]
    },
    {
     "name": "stderr",
     "output_type": "stream",
     "text": [
      "Processing PDBs:  37%|████████▊               | 104/284 [02:00<02:37,  1.14it/s]"
     ]
    },
    {
     "name": "stdout",
     "output_type": "stream",
     "text": [
      "1pxn\n"
     ]
    },
    {
     "name": "stderr",
     "output_type": "stream",
     "text": [
      "Processing PDBs:  37%|████████▊               | 105/284 [02:01<02:30,  1.19it/s][16:19:53] Explicit valence for atom # 0 N, 5, is greater than permitted\n",
      "[16:19:53] Explicit valence for atom # 0 N, 5, is greater than permitted\n"
     ]
    },
    {
     "name": "stdout",
     "output_type": "stream",
     "text": [
      "1h22\n"
     ]
    },
    {
     "name": "stderr",
     "output_type": "stream",
     "text": [
      "[16:19:53] Explicit valence for atom # 0 N, 5, is greater than permitted\n",
      "[16:19:53] Explicit valence for atom # 0 N, 5, is greater than permitted\n",
      "[16:19:53] Explicit valence for atom # 0 N, 5, is greater than permitted\n",
      "[16:19:53] Explicit valence for atom # 0 N, 5, is greater than permitted\n",
      "[16:19:53] Explicit valence for atom # 0 N, 5, is greater than permitted\n",
      "[16:19:53] Explicit valence for atom # 0 N, 5, is greater than permitted\n",
      "[16:19:54] Explicit valence for atom # 0 N, 5, is greater than permitted\n",
      "[16:19:54] Explicit valence for atom # 0 N, 5, is greater than permitted\n",
      "Processing PDBs:  37%|████████▉               | 106/284 [02:02<02:45,  1.08it/s]"
     ]
    },
    {
     "name": "stdout",
     "output_type": "stream",
     "text": [
      "4eo8\n"
     ]
    },
    {
     "name": "stderr",
     "output_type": "stream",
     "text": [
      "Processing PDBs:  38%|█████████               | 107/284 [02:03<02:46,  1.06it/s]"
     ]
    },
    {
     "name": "stdout",
     "output_type": "stream",
     "text": [
      "3gy4\n"
     ]
    },
    {
     "name": "stderr",
     "output_type": "stream",
     "text": [
      "Processing PDBs:  38%|█████████▏              | 108/284 [02:03<02:34,  1.14it/s]"
     ]
    },
    {
     "name": "stdout",
     "output_type": "stream",
     "text": [
      "2yge\n"
     ]
    },
    {
     "name": "stderr",
     "output_type": "stream",
     "text": [
      "Processing PDBs:  38%|█████████▏              | 109/284 [02:04<02:19,  1.25it/s]"
     ]
    },
    {
     "name": "stdout",
     "output_type": "stream",
     "text": [
      "3cj4\n"
     ]
    },
    {
     "name": "stderr",
     "output_type": "stream",
     "text": [
      "Processing PDBs:  39%|█████████▎              | 110/284 [02:05<02:32,  1.14it/s]"
     ]
    },
    {
     "name": "stdout",
     "output_type": "stream",
     "text": [
      "4dli\n"
     ]
    },
    {
     "name": "stderr",
     "output_type": "stream",
     "text": [
      "Processing PDBs:  39%|█████████▍              | 111/284 [02:06<02:28,  1.17it/s]"
     ]
    },
    {
     "name": "stdout",
     "output_type": "stream",
     "text": [
      "4ivc\n"
     ]
    },
    {
     "name": "stderr",
     "output_type": "stream",
     "text": [
      "Processing PDBs:  39%|█████████▍              | 112/284 [02:07<02:21,  1.21it/s]"
     ]
    },
    {
     "name": "stdout",
     "output_type": "stream",
     "text": [
      "4f2w\n"
     ]
    },
    {
     "name": "stderr",
     "output_type": "stream",
     "text": [
      "Processing PDBs:  40%|█████████▌              | 113/284 [02:08<02:23,  1.19it/s]"
     ]
    },
    {
     "name": "stdout",
     "output_type": "stream",
     "text": [
      "4owm\n"
     ]
    },
    {
     "name": "stderr",
     "output_type": "stream",
     "text": [
      "Processing PDBs:  40%|█████████▋              | 114/284 [02:09<02:39,  1.07it/s]"
     ]
    },
    {
     "name": "stdout",
     "output_type": "stream",
     "text": [
      "4hge\n"
     ]
    },
    {
     "name": "stderr",
     "output_type": "stream",
     "text": [
      "Processing PDBs:  40%|█████████▋              | 115/284 [02:09<02:30,  1.13it/s]"
     ]
    },
    {
     "name": "stdout",
     "output_type": "stream",
     "text": [
      "1q8u\n"
     ]
    },
    {
     "name": "stderr",
     "output_type": "stream",
     "text": [
      "Processing PDBs:  41%|█████████▊              | 116/284 [02:10<02:29,  1.12it/s]"
     ]
    },
    {
     "name": "stdout",
     "output_type": "stream",
     "text": [
      "1q8t\n"
     ]
    },
    {
     "name": "stderr",
     "output_type": "stream",
     "text": [
      "Processing PDBs:  41%|█████████▉              | 117/284 [02:11<02:28,  1.12it/s]"
     ]
    },
    {
     "name": "stdout",
     "output_type": "stream",
     "text": [
      "3ueu\n"
     ]
    },
    {
     "name": "stderr",
     "output_type": "stream",
     "text": [
      "Processing PDBs:  42%|█████████▉              | 118/284 [02:12<02:22,  1.16it/s]"
     ]
    },
    {
     "name": "stdout",
     "output_type": "stream",
     "text": [
      "1o0h\n"
     ]
    },
    {
     "name": "stderr",
     "output_type": "stream",
     "text": [
      "Processing PDBs:  42%|██████████              | 119/284 [02:13<02:08,  1.28it/s][16:20:05] Explicit valence for atom # 0 N, 5, is greater than permitted\n",
      "[16:20:05] Explicit valence for atom # 0 N, 5, is greater than permitted\n"
     ]
    },
    {
     "name": "stdout",
     "output_type": "stream",
     "text": [
      "4bkt\n"
     ]
    },
    {
     "name": "stderr",
     "output_type": "stream",
     "text": [
      "[16:20:05] Explicit valence for atom # 0 N, 5, is greater than permitted\n",
      "[16:20:05] Explicit valence for atom # 0 N, 5, is greater than permitted\n",
      "[16:20:05] Explicit valence for atom # 0 N, 5, is greater than permitted\n",
      "[16:20:05] Explicit valence for atom # 0 N, 5, is greater than permitted\n",
      "[16:20:05] Explicit valence for atom # 0 N, 5, is greater than permitted\n",
      "[16:20:05] Explicit valence for atom # 0 N, 5, is greater than permitted\n",
      "[16:20:05] Explicit valence for atom # 0 N, 5, is greater than permitted\n",
      "[16:20:06] Explicit valence for atom # 0 N, 5, is greater than permitted\n",
      "Processing PDBs:  42%|██████████▏             | 120/284 [02:14<02:14,  1.22it/s]"
     ]
    },
    {
     "name": "stdout",
     "output_type": "stream",
     "text": [
      "3coz\n"
     ]
    },
    {
     "name": "stderr",
     "output_type": "stream",
     "text": [
      "Processing PDBs:  43%|██████████▏             | 121/284 [02:15<02:22,  1.15it/s]"
     ]
    },
    {
     "name": "stdout",
     "output_type": "stream",
     "text": [
      "4m0y\n"
     ]
    },
    {
     "name": "stderr",
     "output_type": "stream",
     "text": [
      "Processing PDBs:  43%|██████████▎             | 122/284 [02:15<02:14,  1.20it/s]"
     ]
    },
    {
     "name": "stdout",
     "output_type": "stream",
     "text": [
      "4ih7\n"
     ]
    },
    {
     "name": "stderr",
     "output_type": "stream",
     "text": [
      "Processing PDBs:  43%|██████████▍             | 123/284 [02:16<02:23,  1.12it/s]"
     ]
    },
    {
     "name": "stdout",
     "output_type": "stream",
     "text": [
      "3up2\n"
     ]
    },
    {
     "name": "stderr",
     "output_type": "stream",
     "text": [
      "Processing PDBs:  44%|██████████▍             | 124/284 [02:17<02:17,  1.17it/s]"
     ]
    },
    {
     "name": "stdout",
     "output_type": "stream",
     "text": [
      "4twp\n"
     ]
    },
    {
     "name": "stderr",
     "output_type": "stream",
     "text": [
      "Processing PDBs:  44%|██████████▌             | 125/284 [02:18<02:10,  1.22it/s]"
     ]
    },
    {
     "name": "stdout",
     "output_type": "stream",
     "text": [
      "3u9q\n"
     ]
    },
    {
     "name": "stderr",
     "output_type": "stream",
     "text": [
      "Processing PDBs:  44%|██████████▋             | 126/284 [02:19<02:04,  1.27it/s][16:20:11] Explicit valence for atom # 0 N, 5, is greater than permitted\n",
      "[16:20:11] Explicit valence for atom # 0 N, 5, is greater than permitted\n",
      "[16:20:11] Explicit valence for atom # 0 N, 5, is greater than permitted\n"
     ]
    },
    {
     "name": "stdout",
     "output_type": "stream",
     "text": [
      "2y5h\n"
     ]
    },
    {
     "name": "stderr",
     "output_type": "stream",
     "text": [
      "[16:20:11] Explicit valence for atom # 0 N, 5, is greater than permitted\n",
      "[16:20:11] Explicit valence for atom # 0 N, 5, is greater than permitted\n",
      "[16:20:11] Explicit valence for atom # 0 N, 5, is greater than permitted\n",
      "[16:20:11] Explicit valence for atom # 0 N, 5, is greater than permitted\n",
      "[16:20:11] Explicit valence for atom # 0 N, 5, is greater than permitted\n",
      "[16:20:11] Explicit valence for atom # 0 N, 5, is greater than permitted\n",
      "[16:20:11] Explicit valence for atom # 0 N, 5, is greater than permitted\n",
      "Processing PDBs:  45%|██████████▋             | 127/284 [02:19<02:07,  1.23it/s]"
     ]
    },
    {
     "name": "stdout",
     "output_type": "stream",
     "text": [
      "3kr8\n"
     ]
    },
    {
     "name": "stderr",
     "output_type": "stream",
     "text": [
      "Processing PDBs:  45%|██████████▊             | 128/284 [02:20<01:58,  1.32it/s]"
     ]
    },
    {
     "name": "stdout",
     "output_type": "stream",
     "text": [
      "2weg\n"
     ]
    },
    {
     "name": "stderr",
     "output_type": "stream",
     "text": [
      "Processing PDBs:  45%|██████████▉             | 129/284 [02:21<01:56,  1.33it/s][16:20:13] Explicit valence for atom # 0 N, 5, is greater than permitted\n",
      "[16:20:13] Explicit valence for atom # 0 N, 5, is greater than permitted\n"
     ]
    },
    {
     "name": "stdout",
     "output_type": "stream",
     "text": [
      "2wer\n"
     ]
    },
    {
     "name": "stderr",
     "output_type": "stream",
     "text": [
      "[16:20:13] Explicit valence for atom # 0 N, 5, is greater than permitted\n",
      "[16:20:13] Explicit valence for atom # 0 N, 5, is greater than permitted\n",
      "[16:20:13] Explicit valence for atom # 0 N, 5, is greater than permitted\n",
      "[16:20:13] Explicit valence for atom # 0 N, 5, is greater than permitted\n",
      "[16:20:13] Explicit valence for atom # 0 N, 5, is greater than permitted\n",
      "[16:20:14] Explicit valence for atom # 0 N, 5, is greater than permitted\n",
      "[16:20:14] Explicit valence for atom # 0 N, 5, is greater than permitted\n",
      "[16:20:14] Explicit valence for atom # 0 N, 5, is greater than permitted\n",
      "Processing PDBs:  46%|██████████▉             | 130/284 [02:22<02:07,  1.20it/s][16:20:14] Explicit valence for atom # 0 N, 5, is greater than permitted\n",
      "[16:20:14] Explicit valence for atom # 0 N, 5, is greater than permitted\n"
     ]
    },
    {
     "name": "stdout",
     "output_type": "stream",
     "text": [
      "1p1n\n"
     ]
    },
    {
     "name": "stderr",
     "output_type": "stream",
     "text": [
      "[16:20:14] Explicit valence for atom # 0 N, 5, is greater than permitted\n",
      "[16:20:14] Explicit valence for atom # 0 N, 5, is greater than permitted\n",
      "[16:20:14] Explicit valence for atom # 0 N, 5, is greater than permitted\n",
      "[16:20:14] Explicit valence for atom # 0 N, 5, is greater than permitted\n",
      "[16:20:15] Explicit valence for atom # 0 N, 5, is greater than permitted\n",
      "[16:20:15] Explicit valence for atom # 0 N, 5, is greater than permitted\n",
      "[16:20:15] Explicit valence for atom # 0 N, 5, is greater than permitted\n",
      "[16:20:15] Explicit valence for atom # 0 N, 5, is greater than permitted\n",
      "Processing PDBs:  46%|███████████             | 131/284 [02:23<02:19,  1.10it/s]"
     ]
    },
    {
     "name": "stdout",
     "output_type": "stream",
     "text": [
      "3nx7\n"
     ]
    },
    {
     "name": "stderr",
     "output_type": "stream",
     "text": [
      "Processing PDBs:  46%|███████████▏            | 132/284 [02:23<02:03,  1.23it/s]"
     ]
    },
    {
     "name": "stdout",
     "output_type": "stream",
     "text": [
      "4e6q\n"
     ]
    },
    {
     "name": "stderr",
     "output_type": "stream",
     "text": [
      "Processing PDBs:  47%|███████████▏            | 133/284 [02:24<02:01,  1.24it/s][16:20:16] Explicit valence for atom # 4 C, 5, is greater than permitted\n",
      "[16:20:16] Explicit valence for atom # 4 C, 5, is greater than permitted\n"
     ]
    },
    {
     "name": "stdout",
     "output_type": "stream",
     "text": [
      "2vkm\n"
     ]
    },
    {
     "name": "stderr",
     "output_type": "stream",
     "text": [
      "[16:20:17] Explicit valence for atom # 4 C, 5, is greater than permitted\n",
      "[16:20:17] Explicit valence for atom # 4 C, 5, is greater than permitted\n",
      "[16:20:17] Explicit valence for atom # 4 C, 5, is greater than permitted\n",
      "[16:20:17] Explicit valence for atom # 4 C, 5, is greater than permitted\n",
      "[16:20:17] Explicit valence for atom # 4 C, 5, is greater than permitted\n",
      "[16:20:17] Explicit valence for atom # 4 C, 5, is greater than permitted\n",
      "[16:20:17] Explicit valence for atom # 4 C, 5, is greater than permitted\n",
      "[16:20:17] Explicit valence for atom # 4 C, 5, is greater than permitted\n",
      "Processing PDBs:  47%|███████████▎            | 134/284 [02:25<02:08,  1.16it/s]"
     ]
    },
    {
     "name": "stdout",
     "output_type": "stream",
     "text": [
      "3uo4\n"
     ]
    },
    {
     "name": "stderr",
     "output_type": "stream",
     "text": [
      "Processing PDBs:  48%|███████████▍            | 135/284 [02:26<02:02,  1.21it/s][16:20:18] Explicit valence for atom # 0 N, 5, is greater than permitted\n"
     ]
    },
    {
     "name": "stdout",
     "output_type": "stream",
     "text": [
      "1gpk\n"
     ]
    },
    {
     "name": "stderr",
     "output_type": "stream",
     "text": [
      "[16:20:18] Explicit valence for atom # 0 N, 5, is greater than permitted\n",
      "[16:20:18] Explicit valence for atom # 0 N, 5, is greater than permitted\n",
      "[16:20:18] Explicit valence for atom # 0 N, 5, is greater than permitted\n",
      "[16:20:19] Explicit valence for atom # 0 N, 5, is greater than permitted\n",
      "[16:20:19] Explicit valence for atom # 0 N, 5, is greater than permitted\n",
      "[16:20:19] Explicit valence for atom # 0 N, 5, is greater than permitted\n",
      "[16:20:19] Explicit valence for atom # 0 N, 5, is greater than permitted\n",
      "[16:20:19] Explicit valence for atom # 0 N, 5, is greater than permitted\n",
      "[16:20:19] Explicit valence for atom # 0 N, 5, is greater than permitted\n",
      "Processing PDBs:  48%|███████████▍            | 136/284 [02:27<02:16,  1.08it/s]"
     ]
    },
    {
     "name": "stdout",
     "output_type": "stream",
     "text": [
      "4kzu\n"
     ]
    },
    {
     "name": "stderr",
     "output_type": "stream",
     "text": [
      "Processing PDBs:  48%|███████████▌            | 137/284 [02:28<02:02,  1.20it/s]"
     ]
    },
    {
     "name": "stdout",
     "output_type": "stream",
     "text": [
      "4ivb\n"
     ]
    },
    {
     "name": "stderr",
     "output_type": "stream",
     "text": [
      "Processing PDBs:  49%|███████████▋            | 138/284 [02:28<01:55,  1.27it/s]"
     ]
    },
    {
     "name": "stdout",
     "output_type": "stream",
     "text": [
      "5tmn\n"
     ]
    },
    {
     "name": "stderr",
     "output_type": "stream",
     "text": [
      "Processing PDBs:  49%|███████████▋            | 139/284 [02:30<02:07,  1.13it/s]"
     ]
    },
    {
     "name": "stdout",
     "output_type": "stream",
     "text": [
      "2yki\n"
     ]
    },
    {
     "name": "stderr",
     "output_type": "stream",
     "text": [
      "Processing PDBs:  49%|███████████▊            | 140/284 [02:30<01:55,  1.24it/s][16:20:22] Explicit valence for atom # 0 N, 5, is greater than permitted\n"
     ]
    },
    {
     "name": "stdout",
     "output_type": "stream",
     "text": [
      "4ciw\n"
     ]
    },
    {
     "name": "stderr",
     "output_type": "stream",
     "text": [
      "[16:20:23] Explicit valence for atom # 0 N, 5, is greater than permitted\n",
      "[16:20:23] Explicit valence for atom # 0 N, 5, is greater than permitted\n",
      "[16:20:23] Explicit valence for atom # 0 N, 5, is greater than permitted\n",
      "[16:20:23] Explicit valence for atom # 0 N, 5, is greater than permitted\n",
      "[16:20:24] Explicit valence for atom # 0 N, 5, is greater than permitted\n",
      "[16:20:24] Explicit valence for atom # 0 N, 5, is greater than permitted\n",
      "[16:20:24] Explicit valence for atom # 0 N, 5, is greater than permitted\n",
      "[16:20:25] Explicit valence for atom # 0 N, 5, is greater than permitted\n",
      "[16:20:25] Explicit valence for atom # 0 N, 5, is greater than permitted\n",
      "Processing PDBs:  50%|███████████▉            | 141/284 [02:33<03:14,  1.36s/it]"
     ]
    },
    {
     "name": "stdout",
     "output_type": "stream",
     "text": [
      "1z95\n"
     ]
    },
    {
     "name": "stderr",
     "output_type": "stream",
     "text": [
      "Processing PDBs:  50%|████████████            | 142/284 [02:33<02:43,  1.15s/it]"
     ]
    },
    {
     "name": "stdout",
     "output_type": "stream",
     "text": [
      "2xii\n"
     ]
    },
    {
     "name": "stderr",
     "output_type": "stream",
     "text": [
      "Processing PDBs:  50%|████████████            | 143/284 [02:34<02:35,  1.10s/it][16:20:27] Explicit valence for atom # 0 N, 5, is greater than permitted\n",
      "[16:20:27] Explicit valence for atom # 0 N, 5, is greater than permitted\n"
     ]
    },
    {
     "name": "stdout",
     "output_type": "stream",
     "text": [
      "1r5y\n"
     ]
    },
    {
     "name": "stderr",
     "output_type": "stream",
     "text": [
      "[16:20:27] Explicit valence for atom # 0 N, 5, is greater than permitted\n",
      "[16:20:27] Explicit valence for atom # 0 N, 5, is greater than permitted\n",
      "[16:20:27] Explicit valence for atom # 0 N, 5, is greater than permitted\n",
      "[16:20:27] Explicit valence for atom # 0 N, 5, is greater than permitted\n",
      "[16:20:27] Explicit valence for atom # 0 N, 5, is greater than permitted\n",
      "[16:20:27] Explicit valence for atom # 0 N, 5, is greater than permitted\n",
      "[16:20:27] Explicit valence for atom # 0 N, 5, is greater than permitted\n",
      "[16:20:28] Explicit valence for atom # 0 N, 5, is greater than permitted\n",
      "Processing PDBs:  51%|████████████▏           | 144/284 [02:36<02:36,  1.12s/it]"
     ]
    },
    {
     "name": "stdout",
     "output_type": "stream",
     "text": [
      "5dwr\n"
     ]
    },
    {
     "name": "stderr",
     "output_type": "stream",
     "text": [
      "Processing PDBs:  51%|████████████▎           | 145/284 [02:36<02:19,  1.00s/it]"
     ]
    },
    {
     "name": "stdout",
     "output_type": "stream",
     "text": [
      "3ag9\n"
     ]
    },
    {
     "name": "stderr",
     "output_type": "stream",
     "text": [
      "Processing PDBs:  51%|████████████▎           | 146/284 [02:37<02:11,  1.05it/s]"
     ]
    },
    {
     "name": "stdout",
     "output_type": "stream",
     "text": [
      "3b1m\n"
     ]
    },
    {
     "name": "stderr",
     "output_type": "stream",
     "text": [
      "Processing PDBs:  52%|████████████▍           | 147/284 [02:38<01:58,  1.16it/s][16:20:30] Explicit valence for atom # 0 N, 5, is greater than permitted\n",
      "[16:20:30] Explicit valence for atom # 0 N, 5, is greater than permitted\n"
     ]
    },
    {
     "name": "stdout",
     "output_type": "stream",
     "text": [
      "3arv\n"
     ]
    },
    {
     "name": "stderr",
     "output_type": "stream",
     "text": [
      "[16:20:30] Explicit valence for atom # 0 N, 5, is greater than permitted\n",
      "[16:20:30] Explicit valence for atom # 0 N, 5, is greater than permitted\n",
      "[16:20:30] Explicit valence for atom # 0 N, 5, is greater than permitted\n",
      "[16:20:31] Explicit valence for atom # 0 N, 5, is greater than permitted\n",
      "[16:20:31] Explicit valence for atom # 0 N, 5, is greater than permitted\n",
      "[16:20:31] Explicit valence for atom # 0 N, 5, is greater than permitted\n",
      "[16:20:31] Explicit valence for atom # 0 N, 5, is greater than permitted\n",
      "[16:20:31] Explicit valence for atom # 0 N, 5, is greater than permitted\n",
      "Processing PDBs:  52%|████████████▌           | 148/284 [02:39<02:06,  1.07it/s]"
     ]
    },
    {
     "name": "stdout",
     "output_type": "stream",
     "text": [
      "3dxg\n"
     ]
    },
    {
     "name": "stderr",
     "output_type": "stream",
     "text": [
      "Processing PDBs:  52%|████████████▌           | 149/284 [02:40<01:51,  1.21it/s]"
     ]
    },
    {
     "name": "stdout",
     "output_type": "stream",
     "text": [
      "4ivd\n"
     ]
    },
    {
     "name": "stderr",
     "output_type": "stream",
     "text": [
      "Processing PDBs:  53%|████████████▋           | 150/284 [02:40<01:45,  1.27it/s]"
     ]
    },
    {
     "name": "stdout",
     "output_type": "stream",
     "text": [
      "2xys\n"
     ]
    },
    {
     "name": "stderr",
     "output_type": "stream",
     "text": [
      "Processing PDBs:  53%|████████████▊           | 151/284 [02:42<02:09,  1.02it/s][16:20:34] Explicit valence for atom # 0 N, 5, is greater than permitted\n"
     ]
    },
    {
     "name": "stdout",
     "output_type": "stream",
     "text": [
      "2wn9\n"
     ]
    },
    {
     "name": "stderr",
     "output_type": "stream",
     "text": [
      "[16:20:34] Explicit valence for atom # 0 N, 5, is greater than permitted\n",
      "[16:20:34] Explicit valence for atom # 0 N, 5, is greater than permitted\n",
      "[16:20:34] Explicit valence for atom # 0 N, 5, is greater than permitted\n",
      "[16:20:34] Explicit valence for atom # 0 N, 5, is greater than permitted\n",
      "[16:20:35] Explicit valence for atom # 0 N, 5, is greater than permitted\n",
      "[16:20:35] Explicit valence for atom # 0 N, 5, is greater than permitted\n",
      "[16:20:35] Explicit valence for atom # 0 N, 5, is greater than permitted\n",
      "[16:20:35] Explicit valence for atom # 0 N, 5, is greater than permitted\n",
      "[16:20:35] Explicit valence for atom # 0 N, 5, is greater than permitted\n",
      "Processing PDBs:  54%|████████████▊           | 152/284 [02:43<02:38,  1.20s/it]"
     ]
    },
    {
     "name": "stdout",
     "output_type": "stream",
     "text": [
      "4kzq\n"
     ]
    },
    {
     "name": "stderr",
     "output_type": "stream",
     "text": [
      "Processing PDBs:  54%|████████████▉           | 153/284 [02:44<02:14,  1.02s/it][16:20:36] Explicit valence for atom # 0 N, 5, is greater than permitted\n",
      "[16:20:36] Explicit valence for atom # 0 N, 5, is greater than permitted\n"
     ]
    },
    {
     "name": "stdout",
     "output_type": "stream",
     "text": [
      "4w9h\n"
     ]
    },
    {
     "name": "stderr",
     "output_type": "stream",
     "text": [
      "[16:20:36] Explicit valence for atom # 0 N, 5, is greater than permitted\n",
      "[16:20:36] Explicit valence for atom # 0 N, 5, is greater than permitted\n",
      "[16:20:36] Explicit valence for atom # 0 N, 5, is greater than permitted\n",
      "[16:20:36] Explicit valence for atom # 0 N, 5, is greater than permitted\n",
      "[16:20:37] Explicit valence for atom # 0 N, 5, is greater than permitted\n",
      "[16:20:37] Explicit valence for atom # 0 N, 5, is greater than permitted\n",
      "[16:20:37] Explicit valence for atom # 0 N, 5, is greater than permitted\n",
      "[16:20:37] Explicit valence for atom # 0 N, 5, is greater than permitted\n",
      "Processing PDBs:  54%|█████████████           | 154/284 [02:45<02:06,  1.03it/s]"
     ]
    },
    {
     "name": "stdout",
     "output_type": "stream",
     "text": [
      "3arp\n"
     ]
    },
    {
     "name": "stderr",
     "output_type": "stream",
     "text": [
      "Processing PDBs:  55%|█████████████           | 155/284 [02:46<02:13,  1.03s/it]"
     ]
    },
    {
     "name": "stdout",
     "output_type": "stream",
     "text": [
      "3uuo\n"
     ]
    },
    {
     "name": "stderr",
     "output_type": "stream",
     "text": [
      "Processing PDBs:  55%|█████████████▏          | 156/284 [02:47<02:00,  1.06it/s]"
     ]
    },
    {
     "name": "stdout",
     "output_type": "stream",
     "text": [
      "3jvs\n"
     ]
    },
    {
     "name": "stderr",
     "output_type": "stream",
     "text": [
      "Processing PDBs:  55%|█████████████▎          | 157/284 [02:47<01:48,  1.17it/s]"
     ]
    },
    {
     "name": "stdout",
     "output_type": "stream",
     "text": [
      "2xj7\n"
     ]
    },
    {
     "name": "stderr",
     "output_type": "stream",
     "text": [
      "Processing PDBs:  56%|█████████████▎          | 158/284 [02:49<02:24,  1.15s/it]"
     ]
    },
    {
     "name": "stdout",
     "output_type": "stream",
     "text": [
      "3wtj\n"
     ]
    },
    {
     "name": "stderr",
     "output_type": "stream",
     "text": [
      "Processing PDBs:  56%|█████████████▍          | 159/284 [02:50<02:09,  1.04s/it]"
     ]
    },
    {
     "name": "stdout",
     "output_type": "stream",
     "text": [
      "3b65\n"
     ]
    },
    {
     "name": "stderr",
     "output_type": "stream",
     "text": [
      "Processing PDBs:  56%|█████████████▌          | 160/284 [02:51<01:56,  1.07it/s][16:20:43] Explicit valence for atom # 0 N, 5, is greater than permitted\n",
      "[16:20:43] Explicit valence for atom # 0 N, 5, is greater than permitted\n"
     ]
    },
    {
     "name": "stdout",
     "output_type": "stream",
     "text": [
      "2j7h\n"
     ]
    },
    {
     "name": "stderr",
     "output_type": "stream",
     "text": [
      "[16:20:43] Explicit valence for atom # 0 N, 5, is greater than permitted\n",
      "[16:20:43] Explicit valence for atom # 0 N, 5, is greater than permitted\n",
      "[16:20:43] Explicit valence for atom # 0 N, 5, is greater than permitted\n",
      "[16:20:43] Explicit valence for atom # 0 N, 5, is greater than permitted\n",
      "[16:20:43] Explicit valence for atom # 0 N, 5, is greater than permitted\n",
      "[16:20:44] Explicit valence for atom # 0 N, 5, is greater than permitted\n",
      "[16:20:44] Explicit valence for atom # 0 N, 5, is greater than permitted\n",
      "[16:20:44] Explicit valence for atom # 0 N, 5, is greater than permitted\n",
      "Processing PDBs:  57%|█████████████▌          | 161/284 [02:52<02:01,  1.01it/s]"
     ]
    },
    {
     "name": "stdout",
     "output_type": "stream",
     "text": [
      "2p15\n"
     ]
    },
    {
     "name": "stderr",
     "output_type": "stream",
     "text": [
      "Processing PDBs:  57%|█████████████▋          | 162/284 [02:53<01:55,  1.05it/s][16:20:45] Explicit valence for atom # 0 N, 5, is greater than permitted\n",
      "[16:20:45] Explicit valence for atom # 0 N, 5, is greater than permitted\n",
      "[16:20:45] Explicit valence for atom # 0 N, 5, is greater than permitted\n"
     ]
    },
    {
     "name": "stdout",
     "output_type": "stream",
     "text": [
      "4w9c\n"
     ]
    },
    {
     "name": "stderr",
     "output_type": "stream",
     "text": [
      "[16:20:45] Explicit valence for atom # 0 N, 5, is greater than permitted\n",
      "[16:20:45] Explicit valence for atom # 0 N, 5, is greater than permitted\n",
      "[16:20:45] Explicit valence for atom # 0 N, 5, is greater than permitted\n",
      "[16:20:45] Explicit valence for atom # 0 N, 5, is greater than permitted\n",
      "[16:20:45] Explicit valence for atom # 0 N, 5, is greater than permitted\n",
      "[16:20:45] Explicit valence for atom # 0 N, 5, is greater than permitted\n",
      "[16:20:46] Explicit valence for atom # 0 N, 5, is greater than permitted\n",
      "Processing PDBs:  57%|█████████████▊          | 163/284 [02:54<01:51,  1.09it/s]"
     ]
    },
    {
     "name": "stdout",
     "output_type": "stream",
     "text": [
      "3tsk\n"
     ]
    },
    {
     "name": "stderr",
     "output_type": "stream",
     "text": [
      "Processing PDBs:  58%|█████████████▊          | 164/284 [02:54<01:39,  1.20it/s]"
     ]
    },
    {
     "name": "stdout",
     "output_type": "stream",
     "text": [
      "2qbp\n"
     ]
    },
    {
     "name": "stderr",
     "output_type": "stream",
     "text": [
      "Processing PDBs:  58%|█████████████▉          | 165/284 [02:55<01:36,  1.23it/s]"
     ]
    },
    {
     "name": "stdout",
     "output_type": "stream",
     "text": [
      "3syr\n"
     ]
    },
    {
     "name": "stderr",
     "output_type": "stream",
     "text": [
      "Processing PDBs:  58%|██████████████          | 166/284 [02:57<02:27,  1.25s/it][16:20:49] Explicit valence for atom # 0 N, 5, is greater than permitted\n"
     ]
    },
    {
     "name": "stdout",
     "output_type": "stream",
     "text": [
      "4qac\n"
     ]
    },
    {
     "name": "stderr",
     "output_type": "stream",
     "text": [
      "[16:20:49] Explicit valence for atom # 0 N, 5, is greater than permitted\n",
      "[16:20:50] Explicit valence for atom # 0 N, 5, is greater than permitted\n",
      "[16:20:50] Explicit valence for atom # 0 N, 5, is greater than permitted\n",
      "[16:20:50] Explicit valence for atom # 0 N, 5, is greater than permitted\n",
      "[16:20:50] Explicit valence for atom # 0 N, 5, is greater than permitted\n",
      "[16:20:50] Explicit valence for atom # 0 N, 5, is greater than permitted\n",
      "[16:20:51] Explicit valence for atom # 0 N, 5, is greater than permitted\n",
      "[16:20:51] Explicit valence for atom # 0 N, 5, is greater than permitted\n",
      "[16:20:51] Explicit valence for atom # 0 N, 5, is greater than permitted\n",
      "Processing PDBs:  59%|██████████████          | 167/284 [02:59<02:41,  1.38s/it]"
     ]
    },
    {
     "name": "stdout",
     "output_type": "stream",
     "text": [
      "4ea2\n"
     ]
    },
    {
     "name": "stderr",
     "output_type": "stream",
     "text": [
      "Processing PDBs:  59%|██████████████▏         | 168/284 [03:00<02:19,  1.20s/it]"
     ]
    },
    {
     "name": "stdout",
     "output_type": "stream",
     "text": [
      "2brb\n"
     ]
    },
    {
     "name": "stderr",
     "output_type": "stream",
     "text": [
      "Processing PDBs:  60%|██████████████▎         | 169/284 [03:00<02:01,  1.06s/it][16:20:52] Explicit valence for atom # 0 N, 5, is greater than permitted\n",
      "[16:20:53] Explicit valence for atom # 0 N, 5, is greater than permitted\n"
     ]
    },
    {
     "name": "stdout",
     "output_type": "stream",
     "text": [
      "3arq\n"
     ]
    },
    {
     "name": "stderr",
     "output_type": "stream",
     "text": [
      "[16:20:53] Explicit valence for atom # 0 N, 5, is greater than permitted\n",
      "[16:20:53] Explicit valence for atom # 0 N, 5, is greater than permitted\n",
      "[16:20:53] Explicit valence for atom # 0 N, 5, is greater than permitted\n",
      "[16:20:53] Explicit valence for atom # 0 N, 5, is greater than permitted\n",
      "[16:20:53] Explicit valence for atom # 0 N, 5, is greater than permitted\n",
      "[16:20:53] Explicit valence for atom # 0 N, 5, is greater than permitted\n",
      "[16:20:53] Explicit valence for atom # 0 N, 5, is greater than permitted\n",
      "[16:20:53] Explicit valence for atom # 0 N, 5, is greater than permitted\n",
      "Processing PDBs:  60%|██████████████▎         | 170/284 [03:01<02:00,  1.05s/it]"
     ]
    },
    {
     "name": "stdout",
     "output_type": "stream",
     "text": [
      "1o5b\n"
     ]
    },
    {
     "name": "stderr",
     "output_type": "stream",
     "text": [
      "Processing PDBs:  60%|██████████████▍         | 171/284 [03:02<01:46,  1.06it/s]"
     ]
    },
    {
     "name": "stdout",
     "output_type": "stream",
     "text": [
      "4kz6\n"
     ]
    },
    {
     "name": "stderr",
     "output_type": "stream",
     "text": [
      "Processing PDBs:  61%|██████████████▌         | 172/284 [03:03<01:40,  1.12it/s]"
     ]
    },
    {
     "name": "stdout",
     "output_type": "stream",
     "text": [
      "3ozs\n"
     ]
    },
    {
     "name": "stderr",
     "output_type": "stream",
     "text": [
      "Processing PDBs:  61%|██████████████▌         | 173/284 [03:04<01:30,  1.22it/s]"
     ]
    },
    {
     "name": "stdout",
     "output_type": "stream",
     "text": [
      "1c5z\n"
     ]
    },
    {
     "name": "stderr",
     "output_type": "stream",
     "text": [
      "Processing PDBs:  61%|██████████████▋         | 174/284 [03:04<01:25,  1.29it/s][16:20:56] Explicit valence for atom # 0 N, 5, is greater than permitted\n"
     ]
    },
    {
     "name": "stdout",
     "output_type": "stream",
     "text": [
      "3n86\n"
     ]
    },
    {
     "name": "stderr",
     "output_type": "stream",
     "text": [
      "[16:20:57] Explicit valence for atom # 0 N, 5, is greater than permitted\n",
      "[16:20:57] Explicit valence for atom # 0 N, 5, is greater than permitted\n",
      "[16:20:57] Explicit valence for atom # 0 N, 5, is greater than permitted\n",
      "[16:20:57] Explicit valence for atom # 0 N, 5, is greater than permitted\n",
      "[16:20:58] Explicit valence for atom # 0 N, 5, is greater than permitted\n",
      "[16:20:58] Explicit valence for atom # 0 N, 5, is greater than permitted\n",
      "[16:20:58] Explicit valence for atom # 0 N, 5, is greater than permitted\n",
      "[16:20:58] Explicit valence for atom # 0 N, 5, is greater than permitted\n",
      "[16:20:59] Explicit valence for atom # 0 N, 5, is greater than permitted\n",
      "Processing PDBs:  62%|██████████████▊         | 175/284 [03:07<02:22,  1.31s/it]"
     ]
    },
    {
     "name": "stdout",
     "output_type": "stream",
     "text": [
      "3f3a\n"
     ]
    },
    {
     "name": "stderr",
     "output_type": "stream",
     "text": [
      "Processing PDBs:  62%|██████████████▊         | 176/284 [03:08<02:34,  1.43s/it]"
     ]
    },
    {
     "name": "stdout",
     "output_type": "stream",
     "text": [
      "3pxf\n"
     ]
    },
    {
     "name": "stderr",
     "output_type": "stream",
     "text": [
      "Processing PDBs:  62%|██████████████▉         | 177/284 [03:09<02:11,  1.23s/it]"
     ]
    },
    {
     "name": "stdout",
     "output_type": "stream",
     "text": [
      "4f9w\n"
     ]
    },
    {
     "name": "stderr",
     "output_type": "stream",
     "text": [
      "Processing PDBs:  63%|███████████████         | 178/284 [03:10<01:56,  1.10s/it]"
     ]
    },
    {
     "name": "stdout",
     "output_type": "stream",
     "text": [
      "1eby\n"
     ]
    },
    {
     "name": "stderr",
     "output_type": "stream",
     "text": [
      "Processing PDBs:  63%|███████████████▏        | 179/284 [03:11<01:40,  1.05it/s]"
     ]
    },
    {
     "name": "stdout",
     "output_type": "stream",
     "text": [
      "2v00\n"
     ]
    },
    {
     "name": "stderr",
     "output_type": "stream",
     "text": [
      "Processing PDBs:  63%|███████████████▏        | 180/284 [03:11<01:34,  1.10it/s]"
     ]
    },
    {
     "name": "stdout",
     "output_type": "stream",
     "text": [
      "4abg\n"
     ]
    },
    {
     "name": "stderr",
     "output_type": "stream",
     "text": [
      "Processing PDBs:  64%|███████████████▎        | 181/284 [03:12<01:28,  1.16it/s][16:21:04] Explicit valence for atom # 0 N, 5, is greater than permitted\n"
     ]
    },
    {
     "name": "stdout",
     "output_type": "stream",
     "text": [
      "2wbg\n"
     ]
    },
    {
     "name": "stderr",
     "output_type": "stream",
     "text": [
      "[16:21:05] Explicit valence for atom # 0 N, 5, is greater than permitted\n",
      "[16:21:05] Explicit valence for atom # 0 N, 5, is greater than permitted\n",
      "[16:21:05] Explicit valence for atom # 0 N, 5, is greater than permitted\n",
      "[16:21:05] Explicit valence for atom # 0 N, 5, is greater than permitted\n",
      "[16:21:05] Explicit valence for atom # 0 N, 5, is greater than permitted\n",
      "[16:21:05] Explicit valence for atom # 0 N, 5, is greater than permitted\n",
      "[16:21:05] Explicit valence for atom # 0 N, 5, is greater than permitted\n",
      "[16:21:06] Explicit valence for atom # 0 N, 5, is greater than permitted\n",
      "[16:21:06] Explicit valence for atom # 0 N, 5, is greater than permitted\n",
      "Processing PDBs:  64%|███████████████▍        | 182/284 [03:14<01:49,  1.08s/it]"
     ]
    },
    {
     "name": "stdout",
     "output_type": "stream",
     "text": [
      "1gpn\n"
     ]
    },
    {
     "name": "stderr",
     "output_type": "stream",
     "text": [
      "Processing PDBs:  64%|███████████████▍        | 183/284 [03:15<01:49,  1.08s/it]"
     ]
    },
    {
     "name": "stdout",
     "output_type": "stream",
     "text": [
      "1lpg\n"
     ]
    },
    {
     "name": "stderr",
     "output_type": "stream",
     "text": [
      "Processing PDBs:  65%|███████████████▌        | 184/284 [03:16<01:35,  1.04it/s]"
     ]
    },
    {
     "name": "stdout",
     "output_type": "stream",
     "text": [
      "3g2z\n"
     ]
    },
    {
     "name": "stderr",
     "output_type": "stream",
     "text": [
      "Processing PDBs:  65%|███████████████▋        | 185/284 [03:16<01:24,  1.17it/s]"
     ]
    },
    {
     "name": "stdout",
     "output_type": "stream",
     "text": [
      "3e5a\n"
     ]
    },
    {
     "name": "stderr",
     "output_type": "stream",
     "text": [
      "Processing PDBs:  65%|███████████████▋        | 186/284 [03:17<01:19,  1.24it/s]"
     ]
    },
    {
     "name": "stdout",
     "output_type": "stream",
     "text": [
      "1mq6\n"
     ]
    },
    {
     "name": "stderr",
     "output_type": "stream",
     "text": [
      "Processing PDBs:  66%|███████████████▊        | 187/284 [03:18<01:14,  1.30it/s][16:21:10] Explicit valence for atom # 0 N, 5, is greater than permitted\n",
      "[16:21:10] Explicit valence for atom # 0 N, 5, is greater than permitted\n"
     ]
    },
    {
     "name": "stdout",
     "output_type": "stream",
     "text": [
      "1p1q\n"
     ]
    },
    {
     "name": "stderr",
     "output_type": "stream",
     "text": [
      "[16:21:10] Explicit valence for atom # 0 N, 5, is greater than permitted\n",
      "[16:21:10] Explicit valence for atom # 0 N, 5, is greater than permitted\n",
      "[16:21:10] Explicit valence for atom # 0 N, 5, is greater than permitted\n",
      "[16:21:10] Explicit valence for atom # 0 N, 5, is greater than permitted\n",
      "[16:21:10] Explicit valence for atom # 0 N, 5, is greater than permitted\n",
      "[16:21:10] Explicit valence for atom # 0 N, 5, is greater than permitted\n",
      "[16:21:10] Explicit valence for atom # 0 N, 5, is greater than permitted\n",
      "[16:21:11] Explicit valence for atom # 0 N, 5, is greater than permitted\n",
      "Processing PDBs:  66%|███████████████▉        | 188/284 [03:19<01:20,  1.20it/s]"
     ]
    },
    {
     "name": "stdout",
     "output_type": "stream",
     "text": [
      "4x6p\n"
     ]
    },
    {
     "name": "stderr",
     "output_type": "stream",
     "text": [
      "Processing PDBs:  67%|███████████████▉        | 189/284 [03:19<01:14,  1.28it/s]"
     ]
    },
    {
     "name": "stdout",
     "output_type": "stream",
     "text": [
      "3zdg\n"
     ]
    },
    {
     "name": "stderr",
     "output_type": "stream",
     "text": [
      "Processing PDBs:  67%|████████████████        | 190/284 [03:20<01:27,  1.07it/s]"
     ]
    },
    {
     "name": "stdout",
     "output_type": "stream",
     "text": [
      "1o3f\n"
     ]
    },
    {
     "name": "stderr",
     "output_type": "stream",
     "text": [
      "Processing PDBs:  67%|████████████████▏       | 191/284 [03:21<01:21,  1.14it/s]"
     ]
    },
    {
     "name": "stdout",
     "output_type": "stream",
     "text": [
      "4pcs\n"
     ]
    },
    {
     "name": "stderr",
     "output_type": "stream",
     "text": [
      "Processing PDBs:  68%|████████████████▏       | 192/284 [03:22<01:24,  1.08it/s]"
     ]
    },
    {
     "name": "stdout",
     "output_type": "stream",
     "text": [
      "4eky\n"
     ]
    },
    {
     "name": "stderr",
     "output_type": "stream",
     "text": [
      "Processing PDBs:  68%|████████████████▎       | 193/284 [03:25<02:02,  1.34s/it]"
     ]
    },
    {
     "name": "stdout",
     "output_type": "stream",
     "text": [
      "3lka\n"
     ]
    },
    {
     "name": "stderr",
     "output_type": "stream",
     "text": [
      "Processing PDBs:  68%|████████████████▍       | 194/284 [03:25<01:41,  1.13s/it]"
     ]
    },
    {
     "name": "stdout",
     "output_type": "stream",
     "text": [
      "2wca\n"
     ]
    },
    {
     "name": "stderr",
     "output_type": "stream",
     "text": [
      "Processing PDBs:  69%|████████████████▍       | 195/284 [03:26<01:44,  1.18s/it]"
     ]
    },
    {
     "name": "stdout",
     "output_type": "stream",
     "text": [
      "4j21\n"
     ]
    },
    {
     "name": "stderr",
     "output_type": "stream",
     "text": [
      "Processing PDBs:  69%|████████████████▌       | 196/284 [03:27<01:30,  1.03s/it][16:21:19] Explicit valence for atom # 0 N, 5, is greater than permitted\n"
     ]
    },
    {
     "name": "stdout",
     "output_type": "stream",
     "text": [
      "3rr4\n"
     ]
    },
    {
     "name": "stderr",
     "output_type": "stream",
     "text": [
      "[16:21:19] Explicit valence for atom # 0 N, 5, is greater than permitted\n",
      "[16:21:20] Explicit valence for atom # 0 N, 5, is greater than permitted\n",
      "[16:21:20] Explicit valence for atom # 0 N, 5, is greater than permitted\n",
      "[16:21:20] Explicit valence for atom # 0 N, 5, is greater than permitted\n",
      "[16:21:20] Explicit valence for atom # 0 N, 5, is greater than permitted\n",
      "[16:21:20] Explicit valence for atom # 0 N, 5, is greater than permitted\n",
      "[16:21:20] Explicit valence for atom # 0 N, 5, is greater than permitted\n",
      "[16:21:21] Explicit valence for atom # 0 N, 5, is greater than permitted\n",
      "[16:21:21] Explicit valence for atom # 0 N, 5, is greater than permitted\n",
      "Processing PDBs:  69%|████████████████▋       | 197/284 [03:29<01:44,  1.20s/it]"
     ]
    },
    {
     "name": "stdout",
     "output_type": "stream",
     "text": [
      "2iwx\n"
     ]
    },
    {
     "name": "stderr",
     "output_type": "stream",
     "text": [
      "Processing PDBs:  70%|████████████████▋       | 198/284 [03:29<01:28,  1.03s/it]"
     ]
    },
    {
     "name": "stdout",
     "output_type": "stream",
     "text": [
      "3mss\n"
     ]
    },
    {
     "name": "stderr",
     "output_type": "stream",
     "text": [
      "Processing PDBs:  70%|████████████████▊       | 199/284 [03:30<01:18,  1.08it/s]"
     ]
    },
    {
     "name": "stdout",
     "output_type": "stream",
     "text": [
      "1y6r\n"
     ]
    },
    {
     "name": "stderr",
     "output_type": "stream",
     "text": [
      "Processing PDBs:  70%|████████████████▉       | 200/284 [03:31<01:14,  1.13it/s][16:21:23] Explicit valence for atom # 0 N, 5, is greater than permitted\n",
      "[16:21:23] Explicit valence for atom # 0 N, 5, is greater than permitted\n",
      "[16:21:23] Explicit valence for atom # 0 N, 5, is greater than permitted\n"
     ]
    },
    {
     "name": "stdout",
     "output_type": "stream",
     "text": [
      "3g0w\n"
     ]
    },
    {
     "name": "stderr",
     "output_type": "stream",
     "text": [
      "[16:21:23] Explicit valence for atom # 0 N, 5, is greater than permitted\n",
      "[16:21:23] Explicit valence for atom # 0 N, 5, is greater than permitted\n",
      "[16:21:23] Explicit valence for atom # 0 N, 5, is greater than permitted\n",
      "[16:21:23] Explicit valence for atom # 0 N, 5, is greater than permitted\n",
      "[16:21:23] Explicit valence for atom # 0 N, 5, is greater than permitted\n",
      "[16:21:24] Explicit valence for atom # 0 N, 5, is greater than permitted\n",
      "[16:21:24] Explicit valence for atom # 0 N, 5, is greater than permitted\n",
      "Processing PDBs:  71%|████████████████▉       | 201/284 [03:32<01:10,  1.17it/s]"
     ]
    },
    {
     "name": "stdout",
     "output_type": "stream",
     "text": [
      "1nc3\n"
     ]
    },
    {
     "name": "stderr",
     "output_type": "stream",
     "text": [
      "Processing PDBs:  71%|█████████████████       | 202/284 [03:32<01:10,  1.17it/s]"
     ]
    },
    {
     "name": "stdout",
     "output_type": "stream",
     "text": [
      "4k77\n"
     ]
    },
    {
     "name": "stderr",
     "output_type": "stream",
     "text": [
      "Processing PDBs:  71%|█████████████████▏      | 203/284 [03:33<01:07,  1.21it/s]"
     ]
    },
    {
     "name": "stdout",
     "output_type": "stream",
     "text": [
      "3n76\n"
     ]
    },
    {
     "name": "stderr",
     "output_type": "stream",
     "text": [
      "[16:21:26] Explicit valence for atom # 0 N, 5, is greater than permitted\n",
      "[16:21:26] Explicit valence for atom # 0 N, 5, is greater than permitted\n",
      "[16:21:26] Explicit valence for atom # 0 N, 5, is greater than permitted\n",
      "[16:21:26] Explicit valence for atom # 0 N, 5, is greater than permitted\n",
      "[16:21:27] Explicit valence for atom # 0 N, 5, is greater than permitted\n",
      "[16:21:27] Explicit valence for atom # 0 N, 5, is greater than permitted\n",
      "[16:21:27] Explicit valence for atom # 0 N, 5, is greater than permitted\n",
      "[16:21:27] Explicit valence for atom # 0 N, 5, is greater than permitted\n",
      "[16:21:28] Explicit valence for atom # 0 N, 5, is greater than permitted\n",
      "[16:21:28] Explicit valence for atom # 0 N, 5, is greater than permitted\n",
      "Processing PDBs:  72%|█████████████████▏      | 204/284 [03:36<01:48,  1.36s/it][16:21:28] Explicit valence for atom # 0 N, 5, is greater than permitted\n",
      "[16:21:28] Explicit valence for atom # 0 N, 5, is greater than permitted\n"
     ]
    },
    {
     "name": "stdout",
     "output_type": "stream",
     "text": [
      "3o9i\n"
     ]
    },
    {
     "name": "stderr",
     "output_type": "stream",
     "text": [
      "[16:21:28] Explicit valence for atom # 0 N, 5, is greater than permitted\n",
      "[16:21:28] Explicit valence for atom # 0 N, 5, is greater than permitted\n",
      "[16:21:28] Explicit valence for atom # 0 N, 5, is greater than permitted\n",
      "[16:21:28] Explicit valence for atom # 0 N, 5, is greater than permitted\n",
      "[16:21:28] Explicit valence for atom # 0 N, 5, is greater than permitted\n",
      "[16:21:29] Explicit valence for atom # 0 N, 5, is greater than permitted\n",
      "[16:21:29] Explicit valence for atom # 0 N, 5, is greater than permitted\n",
      "[16:21:29] Explicit valence for atom # 0 N, 5, is greater than permitted\n",
      "Processing PDBs:  72%|█████████████████▎      | 205/284 [03:37<01:34,  1.19s/it]"
     ]
    },
    {
     "name": "stdout",
     "output_type": "stream",
     "text": [
      "3nw9\n"
     ]
    },
    {
     "name": "stderr",
     "output_type": "stream",
     "text": [
      "Processing PDBs:  73%|█████████████████▍      | 206/284 [03:37<01:21,  1.04s/it]"
     ]
    },
    {
     "name": "stdout",
     "output_type": "stream",
     "text": [
      "3ejr\n"
     ]
    },
    {
     "name": "stderr",
     "output_type": "stream",
     "text": [
      "Processing PDBs:  73%|█████████████████▍      | 207/284 [03:49<05:21,  4.17s/it]"
     ]
    },
    {
     "name": "stdout",
     "output_type": "stream",
     "text": [
      "3kwa\n"
     ]
    },
    {
     "name": "stderr",
     "output_type": "stream",
     "text": [
      "Processing PDBs:  73%|█████████████████▌      | 208/284 [03:50<03:58,  3.14s/it]"
     ]
    },
    {
     "name": "stdout",
     "output_type": "stream",
     "text": [
      "3qgy\n"
     ]
    },
    {
     "name": "stderr",
     "output_type": "stream",
     "text": [
      "Processing PDBs:  74%|█████████████████▋      | 209/284 [03:50<03:00,  2.40s/it]"
     ]
    },
    {
     "name": "stdout",
     "output_type": "stream",
     "text": [
      "3p5o\n"
     ]
    },
    {
     "name": "stderr",
     "output_type": "stream",
     "text": [
      "Processing PDBs:  74%|█████████████████▋      | 210/284 [03:51<02:16,  1.85s/it][16:21:43] Explicit valence for atom # 0 N, 5, is greater than permitted\n",
      "[16:21:43] Explicit valence for atom # 0 N, 5, is greater than permitted\n"
     ]
    },
    {
     "name": "stdout",
     "output_type": "stream",
     "text": [
      "2xdl\n"
     ]
    },
    {
     "name": "stderr",
     "output_type": "stream",
     "text": [
      "[16:21:43] Explicit valence for atom # 0 N, 5, is greater than permitted\n",
      "[16:21:43] Explicit valence for atom # 0 N, 5, is greater than permitted\n",
      "[16:21:43] Explicit valence for atom # 0 N, 5, is greater than permitted\n",
      "[16:21:43] Explicit valence for atom # 0 N, 5, is greater than permitted\n",
      "[16:21:43] Explicit valence for atom # 0 N, 5, is greater than permitted\n",
      "[16:21:44] Explicit valence for atom # 0 N, 5, is greater than permitted\n",
      "[16:21:44] Explicit valence for atom # 0 N, 5, is greater than permitted\n",
      "[16:21:44] Explicit valence for atom # 0 N, 5, is greater than permitted\n",
      "Processing PDBs:  74%|█████████████████▊      | 211/284 [03:52<01:55,  1.58s/it]"
     ]
    },
    {
     "name": "stdout",
     "output_type": "stream",
     "text": [
      "3ozt\n"
     ]
    },
    {
     "name": "stderr",
     "output_type": "stream",
     "text": [
      "Processing PDBs:  75%|█████████████████▉      | 212/284 [03:52<01:33,  1.30s/it][16:21:45] Explicit valence for atom # 0 N, 5, is greater than permitted\n"
     ]
    },
    {
     "name": "stdout",
     "output_type": "stream",
     "text": [
      "3u8k\n"
     ]
    },
    {
     "name": "stderr",
     "output_type": "stream",
     "text": [
      "[16:21:45] Explicit valence for atom # 0 N, 5, is greater than permitted\n",
      "[16:21:45] Explicit valence for atom # 0 N, 5, is greater than permitted\n",
      "[16:21:45] Explicit valence for atom # 0 N, 5, is greater than permitted\n",
      "[16:21:45] Explicit valence for atom # 0 N, 5, is greater than permitted\n",
      "[16:21:45] Explicit valence for atom # 0 N, 5, is greater than permitted\n",
      "[16:21:46] Explicit valence for atom # 0 N, 5, is greater than permitted\n",
      "[16:21:46] Explicit valence for atom # 0 N, 5, is greater than permitted\n",
      "[16:21:46] Explicit valence for atom # 0 N, 5, is greater than permitted\n",
      "[16:21:46] Explicit valence for atom # 0 N, 5, is greater than permitted\n",
      "Processing PDBs:  75%|██████████████████      | 213/284 [03:54<01:41,  1.44s/it]"
     ]
    },
    {
     "name": "stdout",
     "output_type": "stream",
     "text": [
      "1bzc\n"
     ]
    },
    {
     "name": "stderr",
     "output_type": "stream",
     "text": [
      "Processing PDBs:  75%|██████████████████      | 214/284 [03:55<01:27,  1.25s/it]"
     ]
    },
    {
     "name": "stdout",
     "output_type": "stream",
     "text": [
      "2p4y\n"
     ]
    },
    {
     "name": "stderr",
     "output_type": "stream",
     "text": [
      "Processing PDBs:  76%|██████████████████▏     | 215/284 [03:56<01:18,  1.14s/it]"
     ]
    },
    {
     "name": "stdout",
     "output_type": "stream",
     "text": [
      "3myg\n"
     ]
    },
    {
     "name": "stderr",
     "output_type": "stream",
     "text": [
      "Processing PDBs:  76%|██████████████████▎     | 216/284 [03:57<01:09,  1.03s/it]"
     ]
    },
    {
     "name": "stdout",
     "output_type": "stream",
     "text": [
      "3acw\n"
     ]
    },
    {
     "name": "stderr",
     "output_type": "stream",
     "text": [
      "Processing PDBs:  76%|██████████████████▎     | 217/284 [03:57<01:04,  1.04it/s]"
     ]
    },
    {
     "name": "stdout",
     "output_type": "stream",
     "text": [
      "3dd0\n"
     ]
    },
    {
     "name": "stderr",
     "output_type": "stream",
     "text": [
      "Processing PDBs:  77%|██████████████████▍     | 218/284 [03:58<00:59,  1.11it/s][16:21:50] Explicit valence for atom # 0 N, 5, is greater than permitted\n",
      "[16:21:50] Explicit valence for atom # 0 N, 5, is greater than permitted\n"
     ]
    },
    {
     "name": "stdout",
     "output_type": "stream",
     "text": [
      "3bv9\n"
     ]
    },
    {
     "name": "stderr",
     "output_type": "stream",
     "text": [
      "[16:21:50] Explicit valence for atom # 0 N, 5, is greater than permitted\n",
      "[16:21:51] Explicit valence for atom # 0 N, 5, is greater than permitted\n",
      "[16:21:51] Explicit valence for atom # 0 N, 5, is greater than permitted\n",
      "[16:21:51] Explicit valence for atom # 0 N, 5, is greater than permitted\n",
      "[16:21:51] Explicit valence for atom # 0 N, 5, is greater than permitted\n",
      "[16:21:51] Explicit valence for atom # 0 N, 5, is greater than permitted\n",
      "[16:21:51] Explicit valence for atom # 0 N, 5, is greater than permitted\n",
      "[16:21:51] Explicit valence for atom # 0 N, 5, is greater than permitted\n",
      "Processing PDBs:  77%|██████████████████▌     | 219/284 [03:59<01:00,  1.07it/s]"
     ]
    },
    {
     "name": "stdout",
     "output_type": "stream",
     "text": [
      "4crc\n"
     ]
    },
    {
     "name": "stderr",
     "output_type": "stream",
     "text": [
      "Processing PDBs:  77%|██████████████████▌     | 220/284 [04:00<00:56,  1.13it/s][16:21:52] Explicit valence for atom # 0 N, 5, is greater than permitted\n"
     ]
    },
    {
     "name": "stdout",
     "output_type": "stream",
     "text": [
      "3ge7\n"
     ]
    },
    {
     "name": "stderr",
     "output_type": "stream",
     "text": [
      "[16:21:52] Explicit valence for atom # 0 N, 5, is greater than permitted\n",
      "[16:21:52] Explicit valence for atom # 0 N, 5, is greater than permitted\n",
      "[16:21:53] Explicit valence for atom # 0 N, 5, is greater than permitted\n",
      "[16:21:53] Explicit valence for atom # 0 N, 5, is greater than permitted\n",
      "[16:21:53] Explicit valence for atom # 0 N, 5, is greater than permitted\n",
      "[16:21:53] Explicit valence for atom # 0 N, 5, is greater than permitted\n",
      "[16:21:53] Explicit valence for atom # 0 N, 5, is greater than permitted\n",
      "[16:21:53] Explicit valence for atom # 0 N, 5, is greater than permitted\n",
      "[16:21:54] Explicit valence for atom # 0 N, 5, is greater than permitted\n",
      "Processing PDBs:  78%|██████████████████▋     | 221/284 [04:02<01:08,  1.09s/it]"
     ]
    },
    {
     "name": "stdout",
     "output_type": "stream",
     "text": [
      "3jya\n"
     ]
    },
    {
     "name": "stderr",
     "output_type": "stream",
     "text": [
      "Processing PDBs:  78%|██████████████████▊     | 222/284 [04:02<01:00,  1.02it/s]"
     ]
    },
    {
     "name": "stdout",
     "output_type": "stream",
     "text": [
      "4rfm\n"
     ]
    },
    {
     "name": "stderr",
     "output_type": "stream",
     "text": [
      "Processing PDBs:  79%|██████████████████▊     | 223/284 [04:03<00:55,  1.10it/s]"
     ]
    },
    {
     "name": "stdout",
     "output_type": "stream",
     "text": [
      "1z9g\n"
     ]
    },
    {
     "name": "stderr",
     "output_type": "stream",
     "text": [
      "Processing PDBs:  79%|██████████████████▉     | 224/284 [04:04<00:53,  1.13it/s]"
     ]
    },
    {
     "name": "stdout",
     "output_type": "stream",
     "text": [
      "2hb1\n"
     ]
    },
    {
     "name": "stderr",
     "output_type": "stream",
     "text": [
      "Processing PDBs:  79%|███████████████████     | 225/284 [04:05<00:50,  1.17it/s]"
     ]
    },
    {
     "name": "stdout",
     "output_type": "stream",
     "text": [
      "4f3c\n"
     ]
    },
    {
     "name": "stderr",
     "output_type": "stream",
     "text": [
      "Processing PDBs:  80%|███████████████████     | 226/284 [04:05<00:49,  1.16it/s]"
     ]
    },
    {
     "name": "stdout",
     "output_type": "stream",
     "text": [
      "5aba\n"
     ]
    },
    {
     "name": "stderr",
     "output_type": "stream",
     "text": [
      "Processing PDBs:  80%|███████████████████▏    | 227/284 [04:06<00:45,  1.24it/s]"
     ]
    },
    {
     "name": "stdout",
     "output_type": "stream",
     "text": [
      "1bcu\n"
     ]
    },
    {
     "name": "stderr",
     "output_type": "stream",
     "text": [
      "Processing PDBs:  80%|███████████████████▎    | 228/284 [04:07<00:43,  1.27it/s]"
     ]
    },
    {
     "name": "stdout",
     "output_type": "stream",
     "text": [
      "2zcr\n"
     ]
    },
    {
     "name": "stderr",
     "output_type": "stream",
     "text": [
      "Processing PDBs:  81%|███████████████████▎    | 229/284 [04:08<00:43,  1.26it/s]"
     ]
    },
    {
     "name": "stdout",
     "output_type": "stream",
     "text": [
      "4llx\n"
     ]
    },
    {
     "name": "stderr",
     "output_type": "stream",
     "text": [
      "Processing PDBs:  81%|███████████████████▍    | 230/284 [04:08<00:42,  1.26it/s]"
     ]
    },
    {
     "name": "stdout",
     "output_type": "stream",
     "text": [
      "3f3d\n"
     ]
    },
    {
     "name": "stderr",
     "output_type": "stream",
     "text": [
      "Processing PDBs:  81%|███████████████████▌    | 231/284 [04:10<00:54,  1.03s/it][16:22:02] Explicit valence for atom # 0 N, 5, is greater than permitted\n"
     ]
    },
    {
     "name": "stdout",
     "output_type": "stream",
     "text": [
      "2wnc\n"
     ]
    },
    {
     "name": "stderr",
     "output_type": "stream",
     "text": [
      "[16:22:02] Explicit valence for atom # 0 N, 5, is greater than permitted\n",
      "[16:22:03] Explicit valence for atom # 0 N, 5, is greater than permitted\n",
      "[16:22:03] Explicit valence for atom # 0 N, 5, is greater than permitted\n",
      "[16:22:03] Explicit valence for atom # 0 N, 5, is greater than permitted\n",
      "[16:22:03] Explicit valence for atom # 0 N, 5, is greater than permitted\n",
      "[16:22:03] Explicit valence for atom # 0 N, 5, is greater than permitted\n",
      "[16:22:03] Explicit valence for atom # 0 N, 5, is greater than permitted\n",
      "[16:22:04] Explicit valence for atom # 0 N, 5, is greater than permitted\n",
      "[16:22:04] Explicit valence for atom # 0 N, 5, is greater than permitted\n",
      "Processing PDBs:  82%|███████████████████▌    | 232/284 [04:12<01:04,  1.24s/it]"
     ]
    },
    {
     "name": "stdout",
     "output_type": "stream",
     "text": [
      "3twp\n"
     ]
    },
    {
     "name": "stderr",
     "output_type": "stream",
     "text": [
      "Processing PDBs:  82%|███████████████████▋    | 233/284 [04:13<00:55,  1.09s/it]"
     ]
    },
    {
     "name": "stdout",
     "output_type": "stream",
     "text": [
      "3d4z\n"
     ]
    },
    {
     "name": "stderr",
     "output_type": "stream",
     "text": [
      "Processing PDBs:  82%|███████████████████▊    | 234/284 [04:23<03:19,  4.00s/it]"
     ]
    },
    {
     "name": "stdout",
     "output_type": "stream",
     "text": [
      "3e93\n"
     ]
    },
    {
     "name": "stderr",
     "output_type": "stream",
     "text": [
      "Processing PDBs:  83%|███████████████████▊    | 235/284 [04:24<02:28,  3.03s/it]"
     ]
    },
    {
     "name": "stdout",
     "output_type": "stream",
     "text": [
      "2qnq\n"
     ]
    },
    {
     "name": "stderr",
     "output_type": "stream",
     "text": [
      "Processing PDBs:  83%|███████████████████▉    | 236/284 [04:25<01:50,  2.30s/it]"
     ]
    },
    {
     "name": "stdout",
     "output_type": "stream",
     "text": [
      "4gkm\n"
     ]
    },
    {
     "name": "stderr",
     "output_type": "stream",
     "text": [
      "Processing PDBs:  83%|████████████████████    | 237/284 [04:26<01:29,  1.91s/it]"
     ]
    },
    {
     "name": "stdout",
     "output_type": "stream",
     "text": [
      "3gnw\n"
     ]
    },
    {
     "name": "stderr",
     "output_type": "stream",
     "text": [
      "Processing PDBs:  84%|████████████████████    | 238/284 [04:27<01:15,  1.64s/it]"
     ]
    },
    {
     "name": "stdout",
     "output_type": "stream",
     "text": [
      "1s38\n"
     ]
    },
    {
     "name": "stderr",
     "output_type": "stream",
     "text": [
      "Processing PDBs:  84%|████████████████████▏   | 239/284 [04:27<01:01,  1.37s/it]"
     ]
    },
    {
     "name": "stdout",
     "output_type": "stream",
     "text": [
      "2yfe\n"
     ]
    },
    {
     "name": "stderr",
     "output_type": "stream",
     "text": [
      "Processing PDBs:  85%|████████████████████▎   | 240/284 [04:28<00:50,  1.15s/it][16:22:20] Explicit valence for atom # 0 N, 5, is greater than permitted\n",
      "[16:22:20] Explicit valence for atom # 0 N, 5, is greater than permitted\n",
      "[16:22:20] Explicit valence for atom # 0 N, 5, is greater than permitted\n"
     ]
    },
    {
     "name": "stdout",
     "output_type": "stream",
     "text": [
      "2xbv\n"
     ]
    },
    {
     "name": "stderr",
     "output_type": "stream",
     "text": [
      "[16:22:20] Explicit valence for atom # 0 N, 5, is greater than permitted\n",
      "[16:22:20] Explicit valence for atom # 0 N, 5, is greater than permitted\n",
      "[16:22:21] Explicit valence for atom # 0 N, 5, is greater than permitted\n",
      "[16:22:21] Explicit valence for atom # 0 N, 5, is greater than permitted\n",
      "[16:22:21] Explicit valence for atom # 0 N, 5, is greater than permitted\n",
      "[16:22:21] Explicit valence for atom # 0 N, 5, is greater than permitted\n",
      "[16:22:21] Explicit valence for atom # 0 N, 5, is greater than permitted\n",
      "Processing PDBs:  85%|████████████████████▎   | 241/284 [04:29<00:44,  1.05s/it]"
     ]
    },
    {
     "name": "stdout",
     "output_type": "stream",
     "text": [
      "4jia\n"
     ]
    },
    {
     "name": "stderr",
     "output_type": "stream",
     "text": [
      "Processing PDBs:  85%|████████████████████▍   | 242/284 [04:30<00:41,  1.02it/s]"
     ]
    },
    {
     "name": "stdout",
     "output_type": "stream",
     "text": [
      "2wvt\n"
     ]
    },
    {
     "name": "stderr",
     "output_type": "stream",
     "text": [
      "Processing PDBs:  86%|████████████████████▌   | 243/284 [04:31<00:47,  1.16s/it]"
     ]
    },
    {
     "name": "stdout",
     "output_type": "stream",
     "text": [
      "3wz8\n"
     ]
    },
    {
     "name": "stderr",
     "output_type": "stream",
     "text": [
      "Processing PDBs:  86%|████████████████████▌   | 244/284 [04:32<00:41,  1.04s/it][16:22:24] Explicit valence for atom # 0 N, 5, is greater than permitted\n",
      "[16:22:24] Explicit valence for atom # 0 N, 5, is greater than permitted\n",
      "[16:22:24] Explicit valence for atom # 0 N, 5, is greater than permitted\n"
     ]
    },
    {
     "name": "stdout",
     "output_type": "stream",
     "text": [
      "3pyy\n"
     ]
    },
    {
     "name": "stderr",
     "output_type": "stream",
     "text": [
      "[16:22:24] Explicit valence for atom # 0 N, 5, is greater than permitted\n",
      "[16:22:24] Explicit valence for atom # 0 N, 5, is greater than permitted\n",
      "[16:22:25] Explicit valence for atom # 0 N, 5, is greater than permitted\n",
      "[16:22:25] Explicit valence for atom # 0 N, 5, is greater than permitted\n",
      "[16:22:25] Explicit valence for atom # 0 N, 5, is greater than permitted\n",
      "[16:22:25] Explicit valence for atom # 0 N, 5, is greater than permitted\n",
      "[16:22:25] Explicit valence for atom # 0 N, 5, is greater than permitted\n",
      "Processing PDBs:  86%|████████████████████▋   | 245/284 [04:33<00:37,  1.05it/s]"
     ]
    },
    {
     "name": "stdout",
     "output_type": "stream",
     "text": [
      "2zy1\n"
     ]
    },
    {
     "name": "stderr",
     "output_type": "stream",
     "text": [
      "Processing PDBs:  87%|████████████████████▊   | 246/284 [04:34<00:34,  1.12it/s][16:22:26] Explicit valence for atom # 0 N, 5, is greater than permitted\n"
     ]
    },
    {
     "name": "stdout",
     "output_type": "stream",
     "text": [
      "3n7a\n"
     ]
    },
    {
     "name": "stderr",
     "output_type": "stream",
     "text": [
      "[16:22:26] Explicit valence for atom # 0 N, 5, is greater than permitted\n",
      "[16:22:26] Explicit valence for atom # 0 N, 5, is greater than permitted\n",
      "[16:22:27] Explicit valence for atom # 0 N, 5, is greater than permitted\n",
      "[16:22:27] Explicit valence for atom # 0 N, 5, is greater than permitted\n",
      "[16:22:27] Explicit valence for atom # 0 N, 5, is greater than permitted\n",
      "[16:22:27] Explicit valence for atom # 0 N, 5, is greater than permitted\n",
      "[16:22:28] Explicit valence for atom # 0 N, 5, is greater than permitted\n",
      "[16:22:28] Explicit valence for atom # 0 N, 5, is greater than permitted\n",
      "[16:22:28] Explicit valence for atom # 0 N, 5, is greater than permitted\n",
      "Processing PDBs:  87%|████████████████████▊   | 247/284 [04:36<00:50,  1.36s/it]"
     ]
    },
    {
     "name": "stdout",
     "output_type": "stream",
     "text": [
      "2pog\n"
     ]
    },
    {
     "name": "stderr",
     "output_type": "stream",
     "text": [
      "Processing PDBs:  87%|████████████████████▉   | 248/284 [04:37<00:42,  1.19s/it]"
     ]
    },
    {
     "name": "stdout",
     "output_type": "stream",
     "text": [
      "4cra\n"
     ]
    },
    {
     "name": "stderr",
     "output_type": "stream",
     "text": [
      "Processing PDBs:  88%|█████████████████████   | 249/284 [04:37<00:36,  1.03s/it]"
     ]
    },
    {
     "name": "stdout",
     "output_type": "stream",
     "text": [
      "3d6q\n"
     ]
    },
    {
     "name": "stderr",
     "output_type": "stream",
     "text": [
      "Processing PDBs:  88%|█████████████████████▏  | 250/284 [04:38<00:30,  1.12it/s]"
     ]
    },
    {
     "name": "stdout",
     "output_type": "stream",
     "text": [
      "1syi\n"
     ]
    },
    {
     "name": "stderr",
     "output_type": "stream",
     "text": [
      "Processing PDBs:  88%|█████████████████████▏  | 251/284 [04:39<00:29,  1.10it/s]"
     ]
    },
    {
     "name": "stdout",
     "output_type": "stream",
     "text": [
      "2w66\n"
     ]
    },
    {
     "name": "stderr",
     "output_type": "stream",
     "text": [
      "Processing PDBs:  89%|█████████████████████▎  | 252/284 [04:40<00:33,  1.06s/it]"
     ]
    },
    {
     "name": "stdout",
     "output_type": "stream",
     "text": [
      "4gid\n"
     ]
    },
    {
     "name": "stderr",
     "output_type": "stream",
     "text": [
      "Processing PDBs:  89%|█████████████████████▍  | 253/284 [04:41<00:33,  1.07s/it]"
     ]
    },
    {
     "name": "stdout",
     "output_type": "stream",
     "text": [
      "3ebp\n"
     ]
    },
    {
     "name": "stderr",
     "output_type": "stream",
     "text": [
      "Processing PDBs:  89%|█████████████████████▍  | 254/284 [04:44<00:42,  1.42s/it]"
     ]
    },
    {
     "name": "stdout",
     "output_type": "stream",
     "text": [
      "3fcq\n"
     ]
    },
    {
     "name": "stderr",
     "output_type": "stream",
     "text": [
      "Processing PDBs:  90%|█████████████████████▌  | 255/284 [04:44<00:34,  1.20s/it]"
     ]
    },
    {
     "name": "stdout",
     "output_type": "stream",
     "text": [
      "1nc1\n"
     ]
    },
    {
     "name": "stderr",
     "output_type": "stream",
     "text": [
      "Processing PDBs:  90%|█████████████████████▋  | 256/284 [04:45<00:30,  1.07s/it]"
     ]
    },
    {
     "name": "stdout",
     "output_type": "stream",
     "text": [
      "3ivg\n"
     ]
    },
    {
     "name": "stderr",
     "output_type": "stream",
     "text": [
      "Processing PDBs:  90%|█████████████████████▋  | 257/284 [04:46<00:27,  1.00s/it]"
     ]
    },
    {
     "name": "stdout",
     "output_type": "stream",
     "text": [
      "2zb1\n"
     ]
    },
    {
     "name": "stderr",
     "output_type": "stream",
     "text": [
      "Processing PDBs:  91%|█████████████████████▊  | 258/284 [04:47<00:23,  1.09it/s]"
     ]
    },
    {
     "name": "stdout",
     "output_type": "stream",
     "text": [
      "3uew\n"
     ]
    },
    {
     "name": "stderr",
     "output_type": "stream",
     "text": [
      "Processing PDBs:  91%|█████████████████████▉  | 259/284 [04:47<00:21,  1.18it/s][16:22:40] Explicit valence for atom # 0 N, 5, is greater than permitted\n",
      "[16:22:40] Explicit valence for atom # 0 N, 5, is greater than permitted\n"
     ]
    },
    {
     "name": "stdout",
     "output_type": "stream",
     "text": [
      "1h23\n"
     ]
    },
    {
     "name": "stderr",
     "output_type": "stream",
     "text": [
      "[16:22:40] Explicit valence for atom # 0 N, 5, is greater than permitted\n",
      "[16:22:40] Explicit valence for atom # 0 N, 5, is greater than permitted\n",
      "[16:22:40] Explicit valence for atom # 0 N, 5, is greater than permitted\n",
      "[16:22:40] Explicit valence for atom # 0 N, 5, is greater than permitted\n",
      "[16:22:40] Explicit valence for atom # 0 N, 5, is greater than permitted\n",
      "[16:22:40] Explicit valence for atom # 0 N, 5, is greater than permitted\n",
      "[16:22:40] Explicit valence for atom # 0 N, 5, is greater than permitted\n",
      "[16:22:40] Explicit valence for atom # 0 N, 5, is greater than permitted\n",
      "Processing PDBs:  92%|█████████████████████▉  | 260/284 [04:48<00:21,  1.10it/s]"
     ]
    },
    {
     "name": "stdout",
     "output_type": "stream",
     "text": [
      "3b27\n"
     ]
    },
    {
     "name": "stderr",
     "output_type": "stream",
     "text": [
      "Processing PDBs:  92%|██████████████████████  | 261/284 [04:49<00:18,  1.24it/s]"
     ]
    },
    {
     "name": "stdout",
     "output_type": "stream",
     "text": [
      "4cig\n"
     ]
    },
    {
     "name": "stderr",
     "output_type": "stream",
     "text": [
      "Processing PDBs:  92%|██████████████████████▏ | 262/284 [04:50<00:16,  1.32it/s]"
     ]
    },
    {
     "name": "stdout",
     "output_type": "stream",
     "text": [
      "3rlr\n"
     ]
    },
    {
     "name": "stderr",
     "output_type": "stream",
     "text": [
      "Processing PDBs:  93%|██████████████████████▏ | 263/284 [04:50<00:15,  1.39it/s]"
     ]
    },
    {
     "name": "stdout",
     "output_type": "stream",
     "text": [
      "4ddk\n"
     ]
    },
    {
     "name": "stderr",
     "output_type": "stream",
     "text": [
      "Processing PDBs:  93%|██████████████████████▎ | 264/284 [04:51<00:15,  1.30it/s]"
     ]
    },
    {
     "name": "stdout",
     "output_type": "stream",
     "text": [
      "3nq9\n"
     ]
    },
    {
     "name": "stderr",
     "output_type": "stream",
     "text": [
      "Processing PDBs:  93%|██████████████████████▍ | 265/284 [04:52<00:13,  1.42it/s]"
     ]
    },
    {
     "name": "stdout",
     "output_type": "stream",
     "text": [
      "4jfs\n"
     ]
    },
    {
     "name": "stderr",
     "output_type": "stream",
     "text": [
      "Processing PDBs:  94%|██████████████████████▍ | 266/284 [04:53<00:13,  1.31it/s][16:22:45] Explicit valence for atom # 0 N, 5, is greater than permitted\n"
     ]
    },
    {
     "name": "stdout",
     "output_type": "stream",
     "text": [
      "2xb8\n"
     ]
    },
    {
     "name": "stderr",
     "output_type": "stream",
     "text": [
      "[16:22:45] Explicit valence for atom # 0 N, 5, is greater than permitted\n",
      "[16:22:45] Explicit valence for atom # 0 N, 5, is greater than permitted\n",
      "[16:22:46] Explicit valence for atom # 0 N, 5, is greater than permitted\n",
      "[16:22:46] Explicit valence for atom # 0 N, 5, is greater than permitted\n",
      "[16:22:46] Explicit valence for atom # 0 N, 5, is greater than permitted\n",
      "[16:22:46] Explicit valence for atom # 0 N, 5, is greater than permitted\n",
      "[16:22:47] Explicit valence for atom # 0 N, 5, is greater than permitted\n",
      "[16:22:47] Explicit valence for atom # 0 N, 5, is greater than permitted\n",
      "[16:22:47] Explicit valence for atom # 0 N, 5, is greater than permitted\n",
      "Processing PDBs:  94%|██████████████████████▌ | 267/284 [04:55<00:21,  1.27s/it][16:22:47] Explicit valence for atom # 0 N, 5, is greater than permitted\n",
      "[16:22:47] Explicit valence for atom # 0 N, 5, is greater than permitted\n"
     ]
    },
    {
     "name": "stdout",
     "output_type": "stream",
     "text": [
      "4mgd\n"
     ]
    },
    {
     "name": "stderr",
     "output_type": "stream",
     "text": [
      "[16:22:47] Explicit valence for atom # 0 N, 5, is greater than permitted\n",
      "[16:22:48] Explicit valence for atom # 0 N, 5, is greater than permitted\n",
      "[16:22:48] Explicit valence for atom # 0 N, 5, is greater than permitted\n",
      "[16:22:48] Explicit valence for atom # 0 N, 5, is greater than permitted\n",
      "[16:22:48] Explicit valence for atom # 0 N, 5, is greater than permitted\n",
      "[16:22:48] Explicit valence for atom # 0 N, 5, is greater than permitted\n",
      "[16:22:48] Explicit valence for atom # 0 N, 5, is greater than permitted\n",
      "[16:22:48] Explicit valence for atom # 0 N, 5, is greater than permitted\n",
      "Processing PDBs:  94%|██████████████████████▋ | 268/284 [04:56<00:19,  1.19s/it]"
     ]
    },
    {
     "name": "stdout",
     "output_type": "stream",
     "text": [
      "1uto\n"
     ]
    },
    {
     "name": "stderr",
     "output_type": "stream",
     "text": [
      "Processing PDBs:  95%|██████████████████████▋ | 269/284 [04:57<00:15,  1.03s/it]"
     ]
    },
    {
     "name": "stdout",
     "output_type": "stream",
     "text": [
      "2wtv\n"
     ]
    },
    {
     "name": "stderr",
     "output_type": "stream",
     "text": [
      "Processing PDBs:  95%|██████████████████████▊ | 270/284 [04:57<00:12,  1.09it/s]"
     ]
    },
    {
     "name": "stdout",
     "output_type": "stream",
     "text": [
      "1z6e\n"
     ]
    },
    {
     "name": "stderr",
     "output_type": "stream",
     "text": [
      "Processing PDBs:  95%|██████████████████████▉ | 271/284 [04:58<00:11,  1.18it/s]"
     ]
    },
    {
     "name": "stdout",
     "output_type": "stream",
     "text": [
      "3kgp\n"
     ]
    },
    {
     "name": "stderr",
     "output_type": "stream",
     "text": [
      "Processing PDBs:  96%|██████████████████████▉ | 272/284 [04:59<00:09,  1.27it/s]"
     ]
    },
    {
     "name": "stdout",
     "output_type": "stream",
     "text": [
      "4agq\n"
     ]
    },
    {
     "name": "stderr",
     "output_type": "stream",
     "text": [
      "Processing PDBs:  96%|███████████████████████ | 273/284 [04:59<00:07,  1.38it/s]"
     ]
    },
    {
     "name": "stdout",
     "output_type": "stream",
     "text": [
      "3prs\n"
     ]
    },
    {
     "name": "stderr",
     "output_type": "stream",
     "text": [
      "Processing PDBs:  96%|███████████████████████▏| 274/284 [05:00<00:07,  1.37it/s]"
     ]
    },
    {
     "name": "stdout",
     "output_type": "stream",
     "text": [
      "4ddh\n"
     ]
    },
    {
     "name": "stderr",
     "output_type": "stream",
     "text": [
      "Processing PDBs:  97%|███████████████████████▏| 275/284 [05:01<00:06,  1.31it/s]"
     ]
    },
    {
     "name": "stdout",
     "output_type": "stream",
     "text": [
      "3oe4\n"
     ]
    },
    {
     "name": "stderr",
     "output_type": "stream",
     "text": [
      "Processing PDBs:  97%|███████████████████████▎| 276/284 [05:02<00:05,  1.39it/s]"
     ]
    },
    {
     "name": "stdout",
     "output_type": "stream",
     "text": [
      "3g31\n"
     ]
    },
    {
     "name": "stderr",
     "output_type": "stream",
     "text": [
      "Processing PDBs:  98%|███████████████████████▍| 277/284 [05:02<00:04,  1.43it/s]"
     ]
    },
    {
     "name": "stdout",
     "output_type": "stream",
     "text": [
      "4jsz\n"
     ]
    },
    {
     "name": "stderr",
     "output_type": "stream",
     "text": [
      "Processing PDBs:  98%|███████████████████████▍| 278/284 [05:03<00:04,  1.42it/s]"
     ]
    },
    {
     "name": "stdout",
     "output_type": "stream",
     "text": [
      "3udh\n"
     ]
    },
    {
     "name": "stderr",
     "output_type": "stream",
     "text": [
      "Processing PDBs:  98%|███████████████████████▌| 279/284 [05:04<00:03,  1.29it/s][16:22:56] Explicit valence for atom # 0 N, 5, is greater than permitted\n",
      "[16:22:56] Explicit valence for atom # 0 N, 5, is greater than permitted\n",
      "[16:22:56] Explicit valence for atom # 0 N, 5, is greater than permitted\n"
     ]
    },
    {
     "name": "stdout",
     "output_type": "stream",
     "text": [
      "4w9l\n"
     ]
    },
    {
     "name": "stderr",
     "output_type": "stream",
     "text": [
      "[16:22:56] Explicit valence for atom # 0 N, 5, is greater than permitted\n",
      "[16:22:56] Explicit valence for atom # 0 N, 5, is greater than permitted\n",
      "[16:22:56] Explicit valence for atom # 0 N, 5, is greater than permitted\n",
      "[16:22:56] Explicit valence for atom # 0 N, 5, is greater than permitted\n",
      "[16:22:57] Explicit valence for atom # 0 N, 5, is greater than permitted\n",
      "[16:22:57] Explicit valence for atom # 0 N, 5, is greater than permitted\n",
      "[16:22:57] Explicit valence for atom # 0 N, 5, is greater than permitted\n",
      "Processing PDBs:  99%|███████████████████████▋| 280/284 [05:05<00:03,  1.28it/s]"
     ]
    },
    {
     "name": "stdout",
     "output_type": "stream",
     "text": [
      "2cbv\n"
     ]
    },
    {
     "name": "stderr",
     "output_type": "stream",
     "text": [
      "Processing PDBs:  99%|███████████████████████▋| 281/284 [05:06<00:02,  1.23it/s][16:22:58] Explicit valence for atom # 0 N, 5, is greater than permitted\n",
      "[16:22:58] Explicit valence for atom # 0 N, 5, is greater than permitted\n"
     ]
    },
    {
     "name": "stdout",
     "output_type": "stream",
     "text": [
      "4j28\n"
     ]
    },
    {
     "name": "stderr",
     "output_type": "stream",
     "text": [
      "[16:22:58] Explicit valence for atom # 0 N, 5, is greater than permitted\n",
      "[16:22:58] Explicit valence for atom # 0 N, 5, is greater than permitted\n",
      "[16:22:58] Explicit valence for atom # 0 N, 5, is greater than permitted\n",
      "[16:22:58] Explicit valence for atom # 0 N, 5, is greater than permitted\n",
      "[16:22:58] Explicit valence for atom # 0 N, 5, is greater than permitted\n",
      "[16:22:58] Explicit valence for atom # 0 N, 5, is greater than permitted\n",
      "[16:22:58] Explicit valence for atom # 0 N, 5, is greater than permitted\n",
      "[16:22:59] Explicit valence for atom # 0 N, 5, is greater than permitted\n",
      "Processing PDBs:  99%|███████████████████████▊| 282/284 [05:07<00:01,  1.17it/s]"
     ]
    },
    {
     "name": "stdout",
     "output_type": "stream",
     "text": [
      "2j78\n"
     ]
    },
    {
     "name": "stderr",
     "output_type": "stream",
     "text": [
      "Processing PDBs: 100%|███████████████████████▉| 283/284 [05:07<00:00,  1.16it/s]"
     ]
    },
    {
     "name": "stdout",
     "output_type": "stream",
     "text": [
      "3bgz\n"
     ]
    },
    {
     "name": "stderr",
     "output_type": "stream",
     "text": [
      "Processing PDBs: 100%|████████████████████████| 284/284 [05:08<00:00,  1.09s/it]"
     ]
    },
    {
     "name": "stdout",
     "output_type": "stream",
     "text": [
      "CPU times: user 4min 54s, sys: 1.81 s, total: 4min 55s\n",
      "Wall time: 5min 8s\n"
     ]
    },
    {
     "name": "stderr",
     "output_type": "stream",
     "text": [
      "\n"
     ]
    }
   ],
   "source": [
    "%%time\n",
    "for pdb in tqdm(pdbs, desc = \"Processing PDBs\"):\n",
    "    lig_atoms_prop[pdb] = {}\n",
    "    rec_atoms_prop[pdb] = {}\n",
    "    df_dict[pdb] = {}\n",
    "    print(pdb)\n",
    "\n",
    "    try: \n",
    "        for pose in range(1, nposes+1):\n",
    "            ligand_path =   f\"{config.set}/{pdb}/results/pose_{pose}.pdb\"\n",
    "            protein_path =  f\"{config.set}/{pdb}/{pdb}_protein_fixed.pdb\"\n",
    "    \n",
    "            lig = atom_ligand_extractor.extract_properties(combined_dict[\"ids_lig_with_poses\"][pdb][pose], config.node_descriptors, ligand_path)\n",
    "            if pose_rank:\n",
    "                lig['prob_pose_rank'] = round(prob_pose_rank[prob_pose_rank['pose'] == str(pose)]['prob_pose_rank'].values[0], 5)      \n",
    "        \n",
    "            lig_atoms_prop[pdb][pose] = lig\n",
    "            \n",
    "            try:\n",
    "                rec = atom_receptor_extractor.extract_properties(combined_dict[\"ids_rec_with_poses\"][pdb][pose], config.node_descriptors, protein_path)#.drop(columns = 'Name')\n",
    "    \n",
    "                if pose_rank:\n",
    "                    rec['prob_pose_rank'] = round(prob_pose_rank[prob_pose_rank['pose'] == str(pose)]['prob_pose_rank'].values[0], 5)      \n",
    "        \n",
    "                rec_atoms_prop[pdb][pose] = rec \n",
    "            except Exception as e:\n",
    "                print(e)\n",
    "           \n",
    "            df_dict[pdb][pose] = df[(df['pdb']==pdb) & (df['pose']==str(pose))]\n",
    "            #print(rec_atoms_prop[pdb][pose].shape)\n",
    "            #print(lig_atoms_prop[pdb][pose].shape)\n",
    "    except Exception as e:\n",
    "        print(e)"
   ]
  },
  {
   "cell_type": "code",
   "execution_count": 90,
   "id": "92aeff2f-f0a8-4a31-bf4d-ca8497a70291",
   "metadata": {},
   "outputs": [
    {
     "name": "stdout",
     "output_type": "stream",
     "text": [
      "CPU times: user 922 ms, sys: 132 ms, total: 1.05 s\n",
      "Wall time: 1.26 s\n"
     ]
    }
   ],
   "source": [
    "%%time\n",
    "process_atoms_prop = True\n",
    "\n",
    "if process_atoms_prop:\n",
    "    combined_dict_atoms_prop = {\n",
    "    'lig_atoms_prop': lig_atoms_prop,\n",
    "    'rec_atoms_prop': rec_atoms_prop,\n",
    "    'df_dict': df_dict}\n",
    "    \n",
    "    # Save combined dictionary using pickle\n",
    "    with open(f'{config.root}/{config.project_name}/{config.dicts}/combined_dicts_atoms_prop.pkl', 'wb') as f:\n",
    "        pickle.dump(combined_dict_atoms_prop, f)\n",
    "else: \n",
    "    with open(f'{config.root}/{config.project_name}/{config.dicts}/combined_dicts_atoms_prop.pkl','rb') as f:\n",
    "        combined_dict_atoms_prop = pickle.load(f)"
   ]
  },
  {
   "cell_type": "markdown",
   "id": "d7fcd9b0-2bfe-4949-bc1f-1c363fba0c19",
   "metadata": {},
   "source": [
    "Obs: **6min 4s for 284 PDBs**"
   ]
  },
  {
   "cell_type": "markdown",
   "id": "8464280e-de34-492b-be7e-fe1e5e174f01",
   "metadata": {},
   "source": [
    "<font color = 'yellow'> **Put save point here!**"
   ]
  },
  {
   "cell_type": "markdown",
   "id": "8f3ca652-9332-4d27-abb8-870aa2b7a5f4",
   "metadata": {},
   "source": [
    "<font color = red> Should i keep L, R? "
   ]
  },
  {
   "cell_type": "code",
   "execution_count": 91,
   "id": "6584cb6c",
   "metadata": {},
   "outputs": [],
   "source": [
    "#lig_atoms_prop['Atom_Index'] = \"L\" + lig_atoms_prop['Atom_Index'].astype(str)\n",
    "#rec_atoms_prop['Atom_Index'] = \"R\" + rec_atoms_prop['Atom_Index'].astype(str)"
   ]
  },
  {
   "cell_type": "markdown",
   "id": "1ee4f26f-1786-4446-a7cf-4c8b61c762aa",
   "metadata": {},
   "source": [
    "### Preparing data for graph"
   ]
  },
  {
   "cell_type": "markdown",
   "id": "0b132f02-0777-418f-ae93-fe48c6161dee",
   "metadata": {},
   "source": [
    "Obs: For 3gr2 pose 10 we have nothing! "
   ]
  },
  {
   "cell_type": "code",
   "execution_count": 92,
   "id": "8d06629e-a100-419d-98c3-2502e3855a35",
   "metadata": {},
   "outputs": [],
   "source": [
    "#torch.tensor(np.array(lig_atoms_prop['3gr2'][10].iloc[:, 1:].astype(\"float32\")))"
   ]
  },
  {
   "cell_type": "code",
   "execution_count": 93,
   "id": "490b554a-49bc-4696-978d-6c5be34c5da6",
   "metadata": {},
   "outputs": [],
   "source": [
    "#torch.tensor(np.array(rec_atoms_prop['3gr2'][pose].iloc[:, 1:].astype(\"float32\")))"
   ]
  },
  {
   "cell_type": "markdown",
   "id": "fea7f8a7-858d-4a6e-b65e-5b53eff5cca1",
   "metadata": {},
   "source": [
    "<font color =\"red \">x_t tensor([], size=(0, 8)) for 3gr2!"
   ]
  },
  {
   "cell_type": "markdown",
   "id": "b3801f23-c12a-41f0-b9a2-774a2ab1c486",
   "metadata": {},
   "source": [
    "#### Data validation  "
   ]
  },
  {
   "cell_type": "markdown",
   "id": "ad2abe71-2e86-4448-92cf-4ae9ed348cd1",
   "metadata": {},
   "source": [
    "<font color = 'yellow'>  Teste Excluir depois"
   ]
  },
  {
   "cell_type": "code",
   "execution_count": 94,
   "id": "c888ce75-3408-4efe-adc5-ca5b3c744081",
   "metadata": {},
   "outputs": [],
   "source": [
    "pdb = '4mo4'\n",
    "pose = 1"
   ]
  },
  {
   "cell_type": "code",
   "execution_count": 95,
   "id": "0e3d3aec-a27a-40c8-89ee-72b0ce3ecdaf",
   "metadata": {},
   "outputs": [],
   "source": [
    "#rec_atoms_prop[pdb][pose].head()"
   ]
  },
  {
   "cell_type": "code",
   "execution_count": 96,
   "id": "c0e2a01e-5b24-406f-9c00-d3858b013c37",
   "metadata": {},
   "outputs": [],
   "source": [
    "#lig_atoms_prop[pdb][pose].head()"
   ]
  },
  {
   "cell_type": "code",
   "execution_count": 97,
   "id": "89d6b09c-eec9-4a3f-9ba6-fc2ef8c02706",
   "metadata": {},
   "outputs": [],
   "source": [
    "#edge_index = torch.tensor(np.array([df_dict[pdb][pose][\"ligand_atom_index\"].astype(\"int64\"),df_dict[pdb][pose][\"receptor_atom_index\"].astype(\"int64\")]))"
   ]
  },
  {
   "cell_type": "code",
   "execution_count": 98,
   "id": "ccf74e9f-c728-4f0e-b720-6bab63573fab",
   "metadata": {},
   "outputs": [],
   "source": [
    "#atom_receptor_extractor.extract_properties(ids_rec_with_poses[pdb][pose], config.node_descriptors, f'../set/{pdb}/{pdb}_protein_fixed.pdb')['Charge'].value_counts()"
   ]
  },
  {
   "cell_type": "code",
   "execution_count": 99,
   "id": "c66d807a-117c-4843-9835-b060be830212",
   "metadata": {},
   "outputs": [],
   "source": [
    "#rec_4eor_pose_1 = atom_receptor_extractor.extract_properties(ids_rec_with_poses[pdb][pose], config.node_descriptors, f'../set/{pdb}/{pdb}_protein_fixed.pdb')"
   ]
  },
  {
   "cell_type": "code",
   "execution_count": 100,
   "id": "2a75377f-3aca-4efd-a4fc-6b4f1c493368",
   "metadata": {},
   "outputs": [],
   "source": [
    "#rec_4eor_pose_1.head()"
   ]
  },
  {
   "cell_type": "code",
   "execution_count": 101,
   "id": "2e30da50-77f8-4b97-b58d-bfc80d0db17f",
   "metadata": {},
   "outputs": [],
   "source": [
    "#foureor1.head()"
   ]
  },
  {
   "cell_type": "code",
   "execution_count": 102,
   "id": "c0743e3e-7e7f-44d5-a1e0-02ecb9aad034",
   "metadata": {},
   "outputs": [],
   "source": [
    "#datos.groupby('Element_Name')['Mass'].value_counts()"
   ]
  },
  {
   "cell_type": "markdown",
   "id": "a907e395-36c2-4a97-a6fe-042dd4a9902a",
   "metadata": {},
   "source": [
    "#### Create dataset"
   ]
  },
  {
   "cell_type": "markdown",
   "id": "abbe8ec2-21ee-40e3-bffc-c1f001eb4f3e",
   "metadata": {},
   "source": [
    "###### map_node_names_to_indices"
   ]
  },
  {
   "cell_type": "code",
   "execution_count": 103,
   "id": "425cf924-095f-416d-8fbf-cda8796e8797",
   "metadata": {},
   "outputs": [],
   "source": [
    "def map_node_names_to_indices(edge_index):\n",
    "        unique_node_names_0, node_name_to_index_0 = torch.unique(edge_index[0], sorted=True, return_inverse=True)\n",
    "        unique_node_names_1, node_name_to_index_1 = torch.unique(edge_index[1], sorted=True, return_inverse=True)\n",
    "    \n",
    "        # Map the node names to their corresponding indices separately for edge_index[0] and edge_index[1]\n",
    "        updated_edge_index_0 = node_name_to_index_0.view(1, -1)\n",
    "        updated_edge_index_1 = node_name_to_index_1.view(1, -1)\n",
    "    \n",
    "        # Combine the updated edge indices back into the same format as edge_index\n",
    "        updated_edge_index = torch.cat((updated_edge_index_0, updated_edge_index_1), dim=0)\n",
    "    \n",
    "        return updated_edge_index"
   ]
  },
  {
   "cell_type": "code",
   "execution_count": 104,
   "id": "f31ff33b-5f56-4e00-ba44-2a4f6f35ecbd",
   "metadata": {},
   "outputs": [],
   "source": [
    "#edge_index = map_node_names_to_indices(edge_index)"
   ]
  },
  {
   "cell_type": "markdown",
   "id": "cb2777b1-ece5-408c-86f4-3bdfa57432b9",
   "metadata": {},
   "source": [
    "##  General information \n",
    "\n",
    "#### List bipartile data saved: \n",
    "* bipartite_data_name_type"
   ]
  },
  {
   "attachments": {},
   "cell_type": "markdown",
   "id": "fde2cb1f-e852-4c18-afa4-ecaa355d6f06",
   "metadata": {},
   "source": [
    "##### Figure 3: Cumulative fraction of results with crystal-like (within 2 Å RMSD) binding mode plotted versus pose number as ranked\n",
    "\n",
    "Cumulative fraction of systems that contain at least one correct pose up to a given pose number.\n",
    "\n",
    "    For example, at x=5, the y-values indicate the fraction of systems that have at least one \n",
    "    “positive” pose in the top 5 according to the rankings specified by each model. \n",
    "    \n",
    "    It can be seen that the “L+LP+R” model maintains roughly the advantage seen on the first pose until approximately x=10, where all plots in Figure 3 start to level off. In 65% of systems in our test set, the docking program samples a correct mode in at least one of the 20 rank positions."
   ]
  },
  {
   "cell_type": "markdown",
   "id": "e5a92354-a5df-4d1b-8414-b22d1f1af633",
   "metadata": {},
   "source": [
    "* CB: Beta carbon atom in amino acids.\n",
    "* N: Nitrogen atom.\n",
    "* O: Oxygen atom.\n",
    "* CD1: Side chain carbon atom in amino acids.\n",
    "* CA: Alpha carbon atom in amino acids.\n",
    "* CG2: Side chain carbon atom in amino acids.\n",
    "* CG: Side chain carbon atom in amino acids.\n",
    "* CD2: Side chain carbon atom in amino acids.\n",
    "* C: Carbon atom.\n",
    "* CZ: Side chain carbon atom in amino acids.\n",
    "* CG1: Side chain carbon atom in amino acids.\n",
    "* OD1: Oxygen atom in amino acids.\n",
    "* CE1: Side chain carbon atom in amino acids.\n",
    "* OD2: Oxygen atom in amino acids.\n",
    "* NZ: Side chain nitrogen atom in amino acids.\n",
    "* CD: Carbon atom in amino acids.\n",
    "* ND2: Side chain nitrogen atom in amino acids.\n",
    "* CE2: Side chain carbon atom in amino acids.\n",
    "* NE2: Side chain nitrogen atom in amino acids.\n",
    "* OE1: Oxygen atom in amino acids.\n",
    "* OH: Hydroxyl group.\n",
    "* CE: Side chain carbon atom in amino acids.\n",
    "* NE: Side chain nitrogen atom in amino acids.\n",
    "* NH2: Amine group.\n",
    "* OG1: Oxygen atom in amino acids.\n",
    "* OE2: Oxygen atom in amino acids.\n",
    "* OG: Oxygen atom in amino acids.\n",
    "* SD: Sulfur atom.\n",
    "* SG: Sulfur atom.\n",
    "* ND1: Side chain nitrogen atom in amino acids.\n",
    "* NH1: Amine group.\n"
   ]
  },
  {
   "cell_type": "markdown",
   "id": "c493ea34-3445-4857-8115-b38f6ff875b7",
   "metadata": {},
   "source": []
  },
  {
   "cell_type": "code",
   "execution_count": 105,
   "id": "838c2156-5cff-485c-a8b8-247c90e8962c",
   "metadata": {},
   "outputs": [
    {
     "data": {
      "text/plain": [
       "11.652173913043478"
      ]
     },
     "execution_count": 105,
     "metadata": {},
     "output_type": "execute_result"
    }
   ],
   "source": [
    "5092/437"
   ]
  }
 ],
 "metadata": {
  "kernelspec": {
   "display_name": "master_37",
   "language": "python",
   "name": "master_37"
  },
  "language_info": {
   "codemirror_mode": {
    "name": "ipython",
    "version": 3
   },
   "file_extension": ".py",
   "mimetype": "text/x-python",
   "name": "python",
   "nbconvert_exporter": "python",
   "pygments_lexer": "ipython3",
   "version": "3.7.16"
  }
 },
 "nbformat": 4,
 "nbformat_minor": 5
}
