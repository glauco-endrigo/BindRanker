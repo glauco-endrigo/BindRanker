{
 "cells": [
  {
   "cell_type": "markdown",
   "id": "ca26fe63-e7e7-44f1-80af-d0b99212cec7",
   "metadata": {},
   "source": [
    "<font color = \"red\"> Binana close contacts! "
   ]
  },
  {
   "cell_type": "markdown",
   "id": "a2063062-8955-42df-8736-b1c7e9add814",
   "metadata": {},
   "source": [
    "#### Overview "
   ]
  },
  {
   "cell_type": "markdown",
   "id": "2bbc1cad-a95c-493f-80aa-dae66e4723a9",
   "metadata": {},
   "source": [
    "| Task                                      | Description                                                   |\n",
    "|-------------------------------------------|---------------------------------------------------------------|\n",
    "| Run Binana                                | Execute Binana for all PDBs and poses                         |\n",
    "| Read logfile                              | Create a dictionary with information from log files           |\n",
    "| Getting dict info                         | - Close Contacts [OK] <br> - Hydrogen Bonds                  |\n",
    "| Extract atom properties (RDkit)           | - Atom Index <br> - Name <br> - Mass <br> - Charge <br> - Element Name <br> - Hybridization <br> - Num Hydrogens <br> - Formal Charge <br> - Unpaired Electron <br> - In Aromatic Substructure |\n",
    "| Preparing data for graph                  | - protgraph_dict[pdb][pose] = {<br>&nbsp;&nbsp;&nbsp;&nbsp;'x_s': x_s (ligand properties),<br>&nbsp;&nbsp;&nbsp;&nbsp;'x_t': x_t (receptor properties),<br>&nbsp;&nbsp;&nbsp;&nbsp;'edge_index': edge_index (Matrix [2, number of connections]),<br>&nbsp;&nbsp;&nbsp;&nbsp;'edge_attr': edge_attr (Vector [distances])<br>} |\n",
    "| Protgraph_dict                            | --> BipartiteData data  --> Dataset list  --> DataLoader  --> Graph Attention Model |\n"
   ]
  },
  {
   "cell_type": "markdown",
   "id": "321d5aad-d9cc-4aa2-9f93-0bd10fbca6f2",
   "metadata": {},
   "source": [
    "* Data spliting methods"
   ]
  },
  {
   "cell_type": "markdown",
   "id": "9e2d5aeb-7696-4666-b6ef-66947391ff57",
   "metadata": {},
   "source": [
    "### Libraries "
   ]
  },
  {
   "cell_type": "code",
   "execution_count": 1,
   "id": "e10715e3-1f8d-48b7-858d-8a9c7624b2c3",
   "metadata": {},
   "outputs": [
    {
     "name": "stderr",
     "output_type": "stream",
     "text": [
      "/home/lbcb02/anaconda3/envs/master_37/lib/python3.7/site-packages/tqdm/auto.py:21: TqdmWarning: IProgress not found. Please update jupyter and ipywidgets. See https://ipywidgets.readthedocs.io/en/stable/user_install.html\n",
      "  from .autonotebook import tqdm as notebook_tqdm\n"
     ]
    }
   ],
   "source": [
    "from tqdm import tqdm\n",
    "import pickle\n",
    "import torch\n",
    "from torch_geometric.data import Data, DataLoader\n",
    "from torch_geometric.nn import GCNConv\n",
    "import torch.nn as nn\n",
    "import torch.nn.functional as F\n",
    "import os\n",
    "import pandas as pd\n",
    "import subprocess\n",
    "import numpy as np\n",
    "import torch\n",
    "import pandas as pd\n",
    "from rdkit import Chem\n",
    "from rdkit.Chem import Descriptors\n",
    "import os\n",
    "from torch_geometric.loader import DataLoader\n",
    "from pathlib import Path\n",
    "import torch.nn as nn\n",
    "import torch.optim as optim\n",
    "from torch_geometric.data import DataLoader, Data\n",
    "from torch_geometric.nn import GCNConv\n",
    "import torch\n",
    "import torch.nn as nn\n",
    "import torch.optim as optim\n",
    "from torch_geometric.data import Data, DataLoader\n",
    "from torch_geometric.nn import GATConv\n",
    "import random\n",
    "from sklearn.model_selection import StratifiedKFold\n",
    "from sklearn.metrics import accuracy_score, precision_score, recall_score, f1_score\n",
    "import matplotlib.pyplot as plt\n",
    "from collections import Counter\n",
    "from torch_geometric.data import Data, Dataset\n",
    "import json\n",
    "import os\n",
    "import pandas as pd\n",
    "import pandas as pd\n",
    "from rdkit import Chem\n",
    "import torch\n",
    "import numpy as np\n",
    "from torch.utils.data import Dataset\n",
    "import pickle\n",
    "from collections import defaultdict\n",
    "from pathlib import Path"
   ]
  },
  {
   "cell_type": "code",
   "execution_count": 2,
   "id": "e3967f40-ab3a-4ad9-b93b-89afd6d26328",
   "metadata": {},
   "outputs": [],
   "source": [
    "%run ../Config.ipynb"
   ]
  },
  {
   "cell_type": "code",
   "execution_count": 3,
   "id": "d2e59caf-c14b-480d-ba3a-61f9dc22ff38",
   "metadata": {},
   "outputs": [],
   "source": [
    "config = Config()"
   ]
  },
  {
   "cell_type": "code",
   "execution_count": 4,
   "id": "1ed63763-2f89-4795-9572-7ca315b00cf4",
   "metadata": {},
   "outputs": [],
   "source": [
    "pdbs = os.listdir(config.set)#[:150]\n",
    "nposes = config.docking_params['nposes']\n",
    "batch_size  = config.model_args['batch_size']\n",
    "path_scripts = Path(os.getcwd())\n",
    "num_epochs = config.model_args['epochs']\n",
    "num_folds = config.model_args['nfolds']\n",
    "patience = config.model_args['patience']  # Set your desired patience value\n",
    "binana_executable = config.executables['binana']"
   ]
  },
  {
   "cell_type": "code",
   "execution_count": 5,
   "id": "a8da1a0c-d345-43b0-b5f6-eb5429462f5e",
   "metadata": {},
   "outputs": [
    {
     "data": {
      "text/plain": [
       "'../executables/binana-2.1/python/run_binana.py'"
      ]
     },
     "execution_count": 5,
     "metadata": {},
     "output_type": "execute_result"
    }
   ],
   "source": [
    "binana_executable"
   ]
  },
  {
   "cell_type": "code",
   "execution_count": 6,
   "id": "e97d3baf-6776-4184-9ac1-99b52e4e2a54",
   "metadata": {},
   "outputs": [
    {
     "data": {
      "text/plain": [
       "{'../coreset'}"
      ]
     },
     "execution_count": 6,
     "metadata": {},
     "output_type": "execute_result"
    }
   ],
   "source": [
    "{config.set}"
   ]
  },
  {
   "cell_type": "markdown",
   "id": "555bc6b7",
   "metadata": {},
   "source": [
    "### Running Binana\n",
    "<font color = \"red\"> Só precisa rodar uma vez!"
   ]
  },
  {
   "cell_type": "code",
   "execution_count": null,
   "id": "61f64afb",
   "metadata": {},
   "outputs": [
    {
     "name": "stderr",
     "output_type": "stream",
     "text": [
      "Processing PDBS:   0%|                                  | 0/150 [00:00<?, ?it/s]Traceback (most recent call last):\n",
      "  File \"/home/lbcb02/Workspace/BindRanker/BindRanker/Datafactory/../executables/binana-2.1/python/run_binana.py\", line 13, in <module>\n",
      "    start()\n",
      "  File \"/home/lbcb02/Workspace/BindRanker/BindRanker/Datafactory/../executables/binana-2.1/python/run_binana.py\", line 8, in start\n",
      "    binana.run()\n",
      "  File \"/home/lbcb02/Workspace/BindRanker/BindRanker/executables/binana-2.1/python/binana/__init__.py\", line 97, in run\n",
      "    _start._get_all_interactions(cmd_params)\n",
      "  File \"/home/lbcb02/Workspace/BindRanker/BindRanker/executables/binana-2.1/python/binana/_start.py\", line 48, in _get_all_interactions\n",
      "    ligand, receptor = from_files(\n",
      "                       ^^^^^^^^^^^\n",
      "  File \"/home/lbcb02/Workspace/BindRanker/BindRanker/executables/binana-2.1/python/binana/load_ligand_receptor/__init__.py\", line 105, in from_files\n",
      "    receptor.load_pdb_file(\n",
      "  File \"/home/lbcb02/Workspace/BindRanker/BindRanker/executables/binana-2.1/python/binana/_structure/mol.py\", line 243, in load_pdb_file\n",
      "    self.load_pdb_from_text(\n",
      "  File \"/home/lbcb02/Workspace/BindRanker/BindRanker/executables/binana-2.1/python/binana/_structure/mol.py\", line 127, in load_pdb_from_text\n",
      "    temp_atom = Atom()\n",
      "                ^^^^^^\n",
      "  File \"/home/lbcb02/Workspace/BindRanker/BindRanker/executables/binana-2.1/python/binana/_structure/atom.py\", line 36, in __init__\n",
      "    def __init__(self):\n",
      "\n",
      "KeyboardInterrupt\n",
      "Processing PDBS:  87%|████████████████████▉   | 131/150 [12:24<02:14,  7.08s/it]Fatal Python error: init_import_site: Failed to import the site module\n",
      "Python runtime state: initialized\n",
      "Traceback (most recent call last):\n",
      "  File \"<frozen importlib._bootstrap>\", line 1176, in _find_and_load\n",
      "  File \"<frozen importlib._bootstrap>\", line 1147, in _find_and_load_unlocked\n",
      "  File \"<frozen importlib._bootstrap>\", line 690, in _load_unlocked\n",
      "  File \"<frozen importlib._bootstrap>\", line 980, in exec_module\n",
      "  File \"<frozen site>\", line 616, in <module>\n",
      "  File \"<frozen site>\", line 603, in main\n",
      "  File \"<frozen site>\", line 384, in addsitepackages\n",
      "  File \"<frozen site>\", line 226, in addsitedir\n",
      "  File \"<frozen site>\", line 186, in addpackage\n",
      "  File \"<string>\", line 1, in <module>\n",
      "  File \"<frozen importlib._bootstrap>\", line 1176, in _find_and_load\n",
      "  File \"<frozen importlib._bootstrap>\", line 1147, in _find_and_load_unlocked\n",
      "  File \"<frozen importlib._bootstrap>\", line 690, in _load_unlocked\n",
      "  File \"<frozen importlib._bootstrap>\", line 980, in exec_module\n",
      "  File \"<frozen importlib.util>\", line 14, in <module>\n",
      "  File \"/home/lbcb02/anaconda3/lib/python3.11/contextlib.py\", line 6, in <module>\n",
      "    from collections import deque\n",
      "  File \"<frozen importlib._bootstrap>\", line 1176, in _find_and_load\n",
      "  File \"<frozen importlib._bootstrap>\", line 1147, in _find_and_load_unlocked\n",
      "  File \"<frozen importlib._bootstrap>\", line 690, in _load_unlocked\n",
      "  File \"<frozen importlib._bootstrap_external>\", line 936, in exec_module\n",
      "  File \"<frozen importlib._bootstrap_external>\", line 1069, in get_code\n",
      "  File \"<frozen importlib._bootstrap_external>\", line 729, in _compile_bytecode\n",
      "KeyboardInterrupt\n",
      "Traceback (most recent call last):\n",
      "  File \"/home/lbcb02/Workspace/BindRanker/BindRanker/Datafactory/../executables/binana-2.1/python/run_binana.py\", line 13, in <module>\n",
      "    start()\n",
      "  File \"/home/lbcb02/Workspace/BindRanker/BindRanker/Datafactory/../executables/binana-2.1/python/run_binana.py\", line 8, in start\n",
      "    binana.run()\n",
      "  File \"/home/lbcb02/Workspace/BindRanker/BindRanker/executables/binana-2.1/python/binana/__init__.py\", line 97, in run\n",
      "    _start._get_all_interactions(cmd_params)\n",
      "  File \"/home/lbcb02/Workspace/BindRanker/BindRanker/executables/binana-2.1/python/binana/_start.py\", line 60, in _get_all_interactions\n",
      "    all_interacts = get_all_interactions(\n",
      "                    ^^^^^^^^^^^^^^^^^^^^^\n",
      "  File \"/home/lbcb02/Workspace/BindRanker/BindRanker/executables/binana-2.1/python/binana/interactions/__init__.py\", line 723, in get_all_interactions\n",
      "    halogen_bonds = get_halogen_bonds(\n",
      "                    ^^^^^^^^^^^^^^^^^^\n",
      "  File \"/home/lbcb02/Workspace/BindRanker/BindRanker/executables/binana-2.1/python/binana/interactions/__init__.py\", line 327, in get_halogen_bonds\n",
      "    return _hydrogen_halogen_bonds.get_halogen_bonds(\n",
      "           ^^^^^^^^^^^^^^^^^^^^^^^^^^^^^^^^^^^^^^^^^^\n",
      "  File \"/home/lbcb02/Workspace/BindRanker/BindRanker/executables/binana-2.1/python/binana/interactions/_hydrogen_halogen_bonds.py\", line 532, in get_halogen_bonds\n",
      "    return _get_hydrogen_or_halogen_bonds(\n",
      "           ^^^^^^^^^^^^^^^^^^^^^^^^^^^^^^^\n",
      "  File \"/home/lbcb02/Workspace/BindRanker/BindRanker/executables/binana-2.1/python/binana/interactions/_hydrogen_halogen_bonds.py\", line 378, in _get_hydrogen_or_halogen_bonds\n",
      "    recep_atm_hbond_infs = receptor.is_hbond_donor_acceptor(\n",
      "                           ^^^^^^^^^^^^^^^^^^^^^^^^^^^^^^^^^\n",
      "  File \"/home/lbcb02/Workspace/BindRanker/BindRanker/executables/binana-2.1/python/binana/_structure/mol.py\", line 723, in is_hbond_donor_acceptor\n",
      "    return self._categorize_hdonor_haccep_with_hydros(atom, hydrogen_bond)\n",
      "           ^^^^^^^^^^^^^^^^^^^^^^^^^^^^^^^^^^^^^^^^^^^^^^^^^^^^^^^^^^^^^^^\n",
      "  File \"/home/lbcb02/Workspace/BindRanker/BindRanker/executables/binana-2.1/python/binana/_structure/mol.py\", line -1, in _categorize_hdonor_haccep_with_hydros\n",
      "KeyboardInterrupt\n",
      "Traceback (most recent call last):\n",
      "  File \"/home/lbcb02/Workspace/BindRanker/BindRanker/Datafactory/../executables/binana-2.1/python/run_binana.py\", line 13, in <module>\n",
      "    start()\n",
      "  File \"/home/lbcb02/Workspace/BindRanker/BindRanker/Datafactory/../executables/binana-2.1/python/run_binana.py\", line 8, in start\n",
      "    binana.run()\n",
      "  File \"/home/lbcb02/Workspace/BindRanker/BindRanker/executables/binana-2.1/python/binana/__init__.py\", line 97, in run\n",
      "    _start._get_all_interactions(cmd_params)\n",
      "  File \"/home/lbcb02/Workspace/BindRanker/BindRanker/executables/binana-2.1/python/binana/_start.py\", line 87, in _get_all_interactions\n",
      "    _write_main(\n",
      "  File \"/home/lbcb02/Workspace/BindRanker/BindRanker/executables/binana-2.1/python/binana/output/__init__.py\", line 151, in _write_main\n",
      "    binana.output.pdb_file.write(\n",
      "  File \"/home/lbcb02/Workspace/BindRanker/BindRanker/executables/binana-2.1/python/binana/output/pdb_file.py\", line 135, in write\n",
      "    + receptor.save_pdb_string()\n",
      "      ^^^^^^^^^^^^^^^^^^^^^^^^^^\n",
      "  File \"/home/lbcb02/Workspace/BindRanker/BindRanker/executables/binana-2.1/python/binana/_structure/mol.py\", line 277, in save_pdb_string\n",
      "    return \"\".join(\n",
      "           ^^^^^^^^\n",
      "  File \"/home/lbcb02/Workspace/BindRanker/BindRanker/executables/binana-2.1/python/binana/_structure/mol.py\", line 278, in <genexpr>\n",
      "    self.all_atoms[atom_index].create_pdb_line(atom_index) + \"\\n\"\n",
      "    ^^^^^^^^^^^^^^^^^^^^^^^^^^^^^^^^^^^^^^^^^^^^^^^^^^^^^^\n",
      "  File \"/home/lbcb02/Workspace/BindRanker/BindRanker/executables/binana-2.1/python/binana/_structure/atom.py\", line 101, in create_pdb_line\n",
      "    + r_just(self.residue, 4)\n",
      "      ^^^^^^^^^^^^^^^^^^^^^^^\n",
      "  File \"/home/lbcb02/Workspace/BindRanker/BindRanker/executables/binana-2.1/python/binana/_utils/shim.py\", line 70, in r_just\n",
      "    def r_just(s, c):\n",
      "    \n",
      "KeyboardInterrupt\n",
      "Traceback (most recent call last):\n",
      "  File \"/home/lbcb02/Workspace/BindRanker/BindRanker/Datafactory/../executables/binana-2.1/python/run_binana.py\", line 13, in <module>\n",
      "    start()\n",
      "  File \"/home/lbcb02/Workspace/BindRanker/BindRanker/Datafactory/../executables/binana-2.1/python/run_binana.py\", line 8, in start\n",
      "    binana.run()\n",
      "  File \"/home/lbcb02/Workspace/BindRanker/BindRanker/executables/binana-2.1/python/binana/__init__.py\", line 97, in run\n",
      "    _start._get_all_interactions(cmd_params)\n",
      "  File \"/home/lbcb02/Workspace/BindRanker/BindRanker/executables/binana-2.1/python/binana/_start.py\", line 87, in _get_all_interactions\n",
      "    _write_main(\n",
      "  File \"/home/lbcb02/Workspace/BindRanker/BindRanker/executables/binana-2.1/python/binana/output/__init__.py\", line 151, in _write_main\n",
      "    binana.output.pdb_file.write(\n",
      "  File \"/home/lbcb02/Workspace/BindRanker/BindRanker/executables/binana-2.1/python/binana/output/pdb_file.py\", line 135, in write\n",
      "    + receptor.save_pdb_string()\n",
      "      ^^^^^^^^^^^^^^^^^^^^^^^^^^\n",
      "  File \"/home/lbcb02/Workspace/BindRanker/BindRanker/executables/binana-2.1/python/binana/_structure/mol.py\", line 277, in save_pdb_string\n",
      "    return \"\".join(\n",
      "           ^^^^^^^^\n",
      "  File \"/home/lbcb02/Workspace/BindRanker/BindRanker/executables/binana-2.1/python/binana/_structure/mol.py\", line 278, in <genexpr>\n",
      "    self.all_atoms[atom_index].create_pdb_line(atom_index) + \"\\n\"\n",
      "    ^^^^^^^^^^^^^^^^^^^^^^^^^^^^^^^^^^^^^^^^^^^^^^^^^^^^^^\n",
      "  File \"/home/lbcb02/Workspace/BindRanker/BindRanker/executables/binana-2.1/python/binana/_structure/atom.py\", line 106, in create_pdb_line\n",
      "    output += r_just(round_to_thousandths_to_str(self.coordinates.x), 12)\n",
      "                     ^^^^^^^^^^^^^^^^^^^^^^^^^^^^^^^^^^^^^^^^^^^^^^^\n",
      "  File \"/home/lbcb02/Workspace/BindRanker/BindRanker/executables/binana-2.1/python/binana/_utils/shim.py\", line 90, in round_to_thousandths_to_str\n",
      "    return \".\".join(prts)\n",
      "           ^^^^^^^^^^^^^^\n",
      "KeyboardInterrupt\n",
      "Traceback (most recent call last):\n",
      "  File \"/home/lbcb02/Workspace/BindRanker/BindRanker/Datafactory/../executables/binana-2.1/python/run_binana.py\", line 13, in <module>\n",
      "    start()\n",
      "  File \"/home/lbcb02/Workspace/BindRanker/BindRanker/Datafactory/../executables/binana-2.1/python/run_binana.py\", line 8, in start\n",
      "    binana.run()\n",
      "  File \"/home/lbcb02/Workspace/BindRanker/BindRanker/executables/binana-2.1/python/binana/__init__.py\", line 97, in run\n",
      "    _start._get_all_interactions(cmd_params)\n",
      "  File \"/home/lbcb02/Workspace/BindRanker/BindRanker/executables/binana-2.1/python/binana/_start.py\", line 60, in _get_all_interactions\n",
      "    all_interacts = get_all_interactions(\n",
      "                    ^^^^^^^^^^^^^^^^^^^^^\n",
      "  File \"/home/lbcb02/Workspace/BindRanker/BindRanker/executables/binana-2.1/python/binana/interactions/__init__.py\", line 723, in get_all_interactions\n",
      "    halogen_bonds = get_halogen_bonds(\n",
      "                    ^^^^^^^^^^^^^^^^^^\n",
      "  File \"/home/lbcb02/Workspace/BindRanker/BindRanker/executables/binana-2.1/python/binana/interactions/__init__.py\", line 327, in get_halogen_bonds\n",
      "    return _hydrogen_halogen_bonds.get_halogen_bonds(\n",
      "           ^^^^^^^^^^^^^^^^^^^^^^^^^^^^^^^^^^^^^^^^^^\n",
      "  File \"/home/lbcb02/Workspace/BindRanker/BindRanker/executables/binana-2.1/python/binana/interactions/_hydrogen_halogen_bonds.py\", line 532, in get_halogen_bonds\n",
      "    return _get_hydrogen_or_halogen_bonds(\n",
      "           ^^^^^^^^^^^^^^^^^^^^^^^^^^^^^^^\n",
      "  File \"/home/lbcb02/Workspace/BindRanker/BindRanker/executables/binana-2.1/python/binana/interactions/_hydrogen_halogen_bonds.py\", line 378, in _get_hydrogen_or_halogen_bonds\n",
      "    recep_atm_hbond_infs = receptor.is_hbond_donor_acceptor(\n",
      "                           ^^^^^^^^^^^^^^^^^^^^^^^^^^^^^^^^^\n",
      "  File \"/home/lbcb02/Workspace/BindRanker/BindRanker/executables/binana-2.1/python/binana/_structure/mol.py\", line 723, in is_hbond_donor_acceptor\n",
      "    return self._categorize_hdonor_haccep_with_hydros(atom, hydrogen_bond)\n",
      "           ^^^^^^^^^^^^^^^^^^^^^^^^^^^^^^^^^^^^^^^^^^^^^^^^^^^^^^^^^^^^^^^\n",
      "  File \"/home/lbcb02/Workspace/BindRanker/BindRanker/executables/binana-2.1/python/binana/_structure/mol.py\", line -1, in _categorize_hdonor_haccep_with_hydros\n",
      "KeyboardInterrupt\n",
      "Traceback (most recent call last):\n",
      "  File \"/home/lbcb02/Workspace/BindRanker/BindRanker/Datafactory/../executables/binana-2.1/python/run_binana.py\", line 13, in <module>\n",
      "    start()\n",
      "  File \"/home/lbcb02/Workspace/BindRanker/BindRanker/Datafactory/../executables/binana-2.1/python/run_binana.py\", line 8, in start\n",
      "    binana.run()\n",
      "  File \"/home/lbcb02/Workspace/BindRanker/BindRanker/executables/binana-2.1/python/binana/__init__.py\", line 97, in run\n",
      "    _start._get_all_interactions(cmd_params)\n",
      "  File \"/home/lbcb02/Workspace/BindRanker/BindRanker/executables/binana-2.1/python/binana/_start.py\", line 60, in _get_all_interactions\n",
      "    all_interacts = get_all_interactions(\n",
      "                    ^^^^^^^^^^^^^^^^^^^^^\n",
      "  File \"/home/lbcb02/Workspace/BindRanker/BindRanker/executables/binana-2.1/python/binana/interactions/__init__.py\", line 723, in get_all_interactions\n",
      "    halogen_bonds = get_halogen_bonds(\n",
      "                    ^^^^^^^^^^^^^^^^^^\n",
      "  File \"/home/lbcb02/Workspace/BindRanker/BindRanker/executables/binana-2.1/python/binana/interactions/__init__.py\", line 327, in get_halogen_bonds\n",
      "    return _hydrogen_halogen_bonds.get_halogen_bonds(\n",
      "           ^^^^^^^^^^^^^^^^^^^^^^^^^^^^^^^^^^^^^^^^^^\n",
      "  File \"/home/lbcb02/Workspace/BindRanker/BindRanker/executables/binana-2.1/python/binana/interactions/_hydrogen_halogen_bonds.py\", line 532, in get_halogen_bonds\n",
      "    return _get_hydrogen_or_halogen_bonds(\n",
      "           ^^^^^^^^^^^^^^^^^^^^^^^^^^^^^^^\n",
      "  File \"/home/lbcb02/Workspace/BindRanker/BindRanker/executables/binana-2.1/python/binana/interactions/_hydrogen_halogen_bonds.py\", line 378, in _get_hydrogen_or_halogen_bonds\n",
      "    recep_atm_hbond_infs = receptor.is_hbond_donor_acceptor(\n",
      "                           ^^^^^^^^^^^^^^^^^^^^^^^^^^^^^^^^^\n",
      "  File \"/home/lbcb02/Workspace/BindRanker/BindRanker/executables/binana-2.1/python/binana/_structure/mol.py\", line 723, in is_hbond_donor_acceptor\n",
      "    return self._categorize_hdonor_haccep_with_hydros(atom, hydrogen_bond)\n",
      "           ^^^^^^^^^^^^^^^^^^^^^^^^^^^^^^^^^^^^^^^^^^^^^^^^^^^^^^^^^^^^^^^\n",
      "  File \"/home/lbcb02/Workspace/BindRanker/BindRanker/executables/binana-2.1/python/binana/_structure/mol.py\", line -1, in _categorize_hdonor_haccep_with_hydros\n",
      "KeyboardInterrupt\n",
      "Processing PDBS:  88%|█████████████████████   | 132/150 [12:26<01:41,  5.64s/it]Traceback (most recent call last):\n",
      "  File \"/home/lbcb02/Workspace/BindRanker/BindRanker/Datafactory/../executables/binana-2.1/python/run_binana.py\", line 13, in <module>\n",
      "    start()\n",
      "  File \"/home/lbcb02/Workspace/BindRanker/BindRanker/Datafactory/../executables/binana-2.1/python/run_binana.py\", line 8, in start\n",
      "    binana.run()\n",
      "  File \"/home/lbcb02/Workspace/BindRanker/BindRanker/executables/binana-2.1/python/binana/__init__.py\", line 97, in run\n",
      "    _start._get_all_interactions(cmd_params)\n",
      "  File \"/home/lbcb02/Workspace/BindRanker/BindRanker/executables/binana-2.1/python/binana/_start.py\", line 48, in _get_all_interactions\n",
      "    ligand, receptor = from_files(\n",
      "                       ^^^^^^^^^^^\n",
      "  File \"/home/lbcb02/Workspace/BindRanker/BindRanker/executables/binana-2.1/python/binana/load_ligand_receptor/__init__.py\", line 115, in from_files\n",
      "    receptor.assign_secondary_structure()\n",
      "  File \"/home/lbcb02/Workspace/BindRanker/BindRanker/executables/binana-2.1/python/binana/_structure/mol.py\", line 1685, in assign_secondary_structure\n",
      "    self.set_structure_of_residue(\n",
      "  File \"/home/lbcb02/Workspace/BindRanker/BindRanker/executables/binana-2.1/python/binana/_structure/mol.py\", line -1, in set_structure_of_residue\n",
      "KeyboardInterrupt\n",
      "Traceback (most recent call last):\n",
      "  File \"/home/lbcb02/Workspace/BindRanker/BindRanker/Datafactory/../executables/binana-2.1/python/run_binana.py\", line 13, in <module>\n",
      "    start()\n",
      "  File \"/home/lbcb02/Workspace/BindRanker/BindRanker/Datafactory/../executables/binana-2.1/python/run_binana.py\", line 8, in start\n",
      "    binana.run()\n",
      "  File \"/home/lbcb02/Workspace/BindRanker/BindRanker/executables/binana-2.1/python/binana/__init__.py\", line 97, in run\n",
      "    _start._get_all_interactions(cmd_params)\n",
      "  File \"/home/lbcb02/Workspace/BindRanker/BindRanker/executables/binana-2.1/python/binana/_start.py\", line 60, in _get_all_interactions\n",
      "    all_interacts = get_all_interactions(\n",
      "                    ^^^^^^^^^^^^^^^^^^^^^\n",
      "  File \"/home/lbcb02/Workspace/BindRanker/BindRanker/executables/binana-2.1/python/binana/interactions/__init__.py\", line 706, in get_all_interactions\n",
      "    closest = get_closest(ligand, receptor, closest_dist_cutoff)\n",
      "              ^^^^^^^^^^^^^^^^^^^^^^^^^^^^^^^^^^^^^^^^^^^^^^^^^^\n",
      "  File \"/home/lbcb02/Workspace/BindRanker/BindRanker/executables/binana-2.1/python/binana/interactions/__init__.py\", line 532, in get_closest\n",
      "    return _closest.get_closest(ligand, receptor, cutoff)\n",
      "           ^^^^^^^^^^^^^^^^^^^^^^^^^^^^^^^^^^^^^^^^^^^^^^\n",
      "  File \"/home/lbcb02/Workspace/BindRanker/BindRanker/executables/binana-2.1/python/binana/interactions/_closest.py\", line 50, in get_closest\n",
      "    ligand_receptor_dists = _get_ligand_receptor_dists(ligand, receptor, cutoff)\n",
      "                            ^^^^^^^^^^^^^^^^^^^^^^^^^^^^^^^^^^^^^^^^^^^^^^^^^^^^\n",
      "  File \"/home/lbcb02/Workspace/BindRanker/BindRanker/executables/binana-2.1/python/binana/load_ligand_receptor/__init__.py\", line 222, in _get_ligand_receptor_dists\n",
      "    _get_coor_mol_dists(\n",
      "  File \"/home/lbcb02/Workspace/BindRanker/BindRanker/executables/binana-2.1/python/binana/load_ligand_receptor/__init__.py\", line 174, in _get_coor_mol_dists\n",
      "    continue\n",
      "KeyboardInterrupt\n"
     ]
    }
   ],
   "source": [
    "%%time\n",
    "def binana(pdb, config):\n",
    "    os.makedirs(config['output_folder'], exist_ok=True)  # Create the directory path if it doesn't exist\n",
    "    binana_exec_cmd = f\"python3 {binana_executable} -receptor {config['receptor_path']} -ligand {config['ligand_path']} -output_dir {config['output_folder']} > errors.txt\"\n",
    "    os.system(binana_exec_cmd)\n",
    "\n",
    "receptor = \"protein_fixed.pdb\"\n",
    "\n",
    "# Combined loop for both versions\n",
    "for pdb in tqdm(pdbs, desc=\"Processing PDBS\"):\n",
    "\n",
    "    config_version_2 = {\n",
    "    'ligand_path': f\"{config.set}/{pdb}/ligand.pdb\",\n",
    "    'output_folder': f\"{config.set}/{pdb}/binana/binana_{pdb}\",\n",
    "    'receptor_path': f\"{config.set}/{pdb}/{pdb}_{receptor}\"\n",
    "}\n",
    "    \n",
    "    for pose in range(1, nposes + 1):\n",
    "        # Configuration dictionaries for each version\n",
    "        config_version_1 = {\n",
    "            'ligand_path':f\"{config.set}/{pdb}/results/pose_{pose}.pdb\",\n",
    "            'output_folder': f\"{config.set}/{pdb}/binana/binana_{pdb}_pose_{pose}\",\n",
    "            'receptor_path': f\"{config.set}/{pdb}/{pdb}_{receptor}\"\n",
    "        }\n",
    "        try:\n",
    "            binana(pdb, config=config_version_1)\n",
    "        except ValueError as e:\n",
    "            print(e)\n",
    "            pass\n",
    "    binana(pdb, config=config_version_2)"
   ]
  },
  {
   "cell_type": "markdown",
   "id": "81592240-93df-4ddc-8c18-7ccbcc122a13",
   "metadata": {},
   "source": [
    "284 - PDBs - 29 min! "
   ]
  },
  {
   "cell_type": "markdown",
   "id": "e3b8a71b",
   "metadata": {},
   "source": [
    "### Read logfile"
   ]
  },
  {
   "cell_type": "code",
   "execution_count": 7,
   "id": "c5bc58e7",
   "metadata": {},
   "outputs": [
    {
     "name": "stdout",
     "output_type": "stream",
     "text": [
      "CPU times: user 3.75 s, sys: 507 ms, total: 4.26 s\n",
      "Wall time: 5.55 s\n"
     ]
    }
   ],
   "source": [
    "%%time\n",
    "data_dict_all_logs_exp = defaultdict(dict)\n",
    "data_dict_all_logs_docked = defaultdict(dict)\n",
    "def read_logfile(pdb, pose=None):\n",
    "    # Define the common part of the file path\n",
    "    common_path = f\"{config.set}/{pdb}/binana/binana_{pdb}\"\n",
    "    \n",
    "    # Adjust the file path based on whether the pose parameter is provided\n",
    "    path = common_path + (f\"_pose_{pose}\" if pose is not None else \"\") + \"/log.txt\"\n",
    "\n",
    "     \n",
    "    try: # Read the text file using Path\n",
    "        with Path(path).open('r') as file:\n",
    "            text = file.read()\n",
    "    \n",
    "    \n",
    "        # Extract the content after \"JSON Output:\"\n",
    "        json_text = text.split(\"JSON Output:\")[1].strip()\n",
    "        \n",
    "        # Convert the JSON text to a dictionary\n",
    "        data_dict = json.loads(json_text)\n",
    "        \n",
    "        # Store the data dictionary for the pose if pose is provided\n",
    "        if pose is not None:\n",
    "            data_dict_all_logs_docked[pdb][pose] = data_dict\n",
    "        else:\n",
    "            # Store the data dictionary for the pose (from the first code)\n",
    "            data_dict_all_logs_exp[pdb] = data_dict\n",
    "\n",
    "    except:\n",
    "        print(\"Error when opening file \", path)\n",
    "    \n",
    "    return data_dict_all_logs_exp, data_dict_all_logs_docked\n",
    "\n",
    "# Example usage: provide pose parameter for the second code, leave it empty for the first code\n",
    "for pdb in pdbs:\n",
    "    read_logfile(pdb)  # Run logic from the first code\n",
    "    for pose in range(1, nposes + 1):\n",
    "        read_logfile(pdb, pose)  # Run logic from the second code"
   ]
  },
  {
   "cell_type": "code",
   "execution_count": 8,
   "id": "c4459fef-1a28-49e1-888d-241c72df9ae4",
   "metadata": {},
   "outputs": [],
   "source": [
    "#data_dict_all_logs_docked.get('2qbq')"
   ]
  },
  {
   "cell_type": "markdown",
   "id": "46d355b3-a99d-4c6f-8486-d024df613e15",
   "metadata": {},
   "source": [
    "### Getting dict info "
   ]
  },
  {
   "cell_type": "code",
   "execution_count": 9,
   "id": "264d8e27",
   "metadata": {},
   "outputs": [
    {
     "name": "stdout",
     "output_type": "stream",
     "text": [
      "CPU times: user 4 µs, sys: 0 ns, total: 4 µs\n",
      "Wall time: 15.7 µs\n"
     ]
    }
   ],
   "source": [
    "%%time\n",
    "def flatten_data(df, pdb, pose = False):\n",
    "    flat_data = []\n",
    "    if pose == False:\n",
    "        data = df[pdb]['closeContacts']\n",
    "    else:\n",
    "        data = df[pdb][pose]['closeContacts']\n",
    "    \n",
    "    for entry in data:\n",
    "        flat_entry = {\n",
    "            'ligand_atom_index': entry['ligandAtoms'][0]['atomIndex'],\n",
    "            'ligand_atom_name': entry['ligandAtoms'][0]['atomName'],\n",
    "            'ligand_chain': entry['ligandAtoms'][0]['chain'],\n",
    "            'ligand_resID': entry['ligandAtoms'][0]['resID'],\n",
    "            'ligand_resName': entry['ligandAtoms'][0]['resName'],\n",
    "            #'angle': entry['metrics']['angle'],\n",
    "            'distance': entry['metrics']['distance'],\n",
    "            'receptor_atom_index': entry['receptorAtoms'][0]['atomIndex'],\n",
    "            'receptor_atom_name': entry['receptorAtoms'][0]['atomName'],\n",
    "            'receptor_chain': entry['receptorAtoms'][0]['chain'],\n",
    "            'receptor_resID': entry['receptorAtoms'][0]['resID'],\n",
    "            'receptor_resName': entry['receptorAtoms'][0]['resName'],\n",
    "        }\n",
    "        flat_data.append(flat_entry)\n",
    "\n",
    "    return pd.DataFrame(flat_data)\n"
   ]
  },
  {
   "cell_type": "code",
   "execution_count": 10,
   "id": "8a5a0341-39e5-420c-84ed-c1fb1f591080",
   "metadata": {},
   "outputs": [],
   "source": [
    "#data_dict_all_logs_docked.get(\"2qbq\")"
   ]
  },
  {
   "cell_type": "code",
   "execution_count": 11,
   "id": "642fc4d9-6a18-43f0-abc1-8fe85cd9f6a2",
   "metadata": {},
   "outputs": [
    {
     "name": "stdout",
     "output_type": "stream",
     "text": [
      "CPU times: user 809 ms, sys: 346 µs, total: 809 ms\n",
      "Wall time: 821 ms\n"
     ]
    }
   ],
   "source": [
    "%%time\n",
    "data_frames_exp = [\n",
    "    flatten_data(data_dict_all_logs_exp, pdb).assign(pdb=pdb)\n",
    "    for pdb in pdbs\n",
    "]\n",
    "data_frame_exp = pd.concat(data_frames_exp, axis=0)\n",
    "\n",
    "#data_frames_docked = [flatten_data(data_dict_all_logs_docked, pdb, pose).assign(pdb=pdb, pose=str(pose))  for pdb in pdbs  for pose in range(1, nposes)]\n",
    "#data_frame_docked = pd.concat(data_frames_docked, axis=0)"
   ]
  },
  {
   "cell_type": "code",
   "execution_count": 12,
   "id": "cc490631-8467-4bd7-8232-d9469b7fca42",
   "metadata": {
    "scrolled": true
   },
   "outputs": [
    {
     "data": {
      "text/html": [
       "<div>\n",
       "<style scoped>\n",
       "    .dataframe tbody tr th:only-of-type {\n",
       "        vertical-align: middle;\n",
       "    }\n",
       "\n",
       "    .dataframe tbody tr th {\n",
       "        vertical-align: top;\n",
       "    }\n",
       "\n",
       "    .dataframe thead th {\n",
       "        text-align: right;\n",
       "    }\n",
       "</style>\n",
       "<table border=\"1\" class=\"dataframe\">\n",
       "  <thead>\n",
       "    <tr style=\"text-align: right;\">\n",
       "      <th></th>\n",
       "      <th>pdb</th>\n",
       "      <th>ligand_atom_index</th>\n",
       "      <th>ligand_atom_name</th>\n",
       "      <th>receptor_atom_index</th>\n",
       "      <th>receptor_atom_name</th>\n",
       "      <th>distance</th>\n",
       "    </tr>\n",
       "  </thead>\n",
       "  <tbody>\n",
       "    <tr>\n",
       "      <th>0</th>\n",
       "      <td>4eor</td>\n",
       "      <td>1</td>\n",
       "      <td>C2</td>\n",
       "      <td>93</td>\n",
       "      <td>CD1</td>\n",
       "      <td>3.905220</td>\n",
       "    </tr>\n",
       "    <tr>\n",
       "      <th>1</th>\n",
       "      <td>4eor</td>\n",
       "      <td>1</td>\n",
       "      <td>C2</td>\n",
       "      <td>639</td>\n",
       "      <td>O</td>\n",
       "      <td>3.697013</td>\n",
       "    </tr>\n",
       "    <tr>\n",
       "      <th>2</th>\n",
       "      <td>4eor</td>\n",
       "      <td>1</td>\n",
       "      <td>C2</td>\n",
       "      <td>1055</td>\n",
       "      <td>CD1</td>\n",
       "      <td>3.664254</td>\n",
       "    </tr>\n",
       "    <tr>\n",
       "      <th>3</th>\n",
       "      <td>4eor</td>\n",
       "      <td>2</td>\n",
       "      <td>C8</td>\n",
       "      <td>248</td>\n",
       "      <td>CB</td>\n",
       "      <td>3.823513</td>\n",
       "    </tr>\n",
       "    <tr>\n",
       "      <th>4</th>\n",
       "      <td>4eor</td>\n",
       "      <td>2</td>\n",
       "      <td>C8</td>\n",
       "      <td>478</td>\n",
       "      <td>CG2</td>\n",
       "      <td>3.238495</td>\n",
       "    </tr>\n",
       "  </tbody>\n",
       "</table>\n",
       "</div>"
      ],
      "text/plain": [
       "    pdb  ligand_atom_index ligand_atom_name  receptor_atom_index  \\\n",
       "0  4eor                  1               C2                   93   \n",
       "1  4eor                  1               C2                  639   \n",
       "2  4eor                  1               C2                 1055   \n",
       "3  4eor                  2               C8                  248   \n",
       "4  4eor                  2               C8                  478   \n",
       "\n",
       "  receptor_atom_name  distance  \n",
       "0                CD1  3.905220  \n",
       "1                  O  3.697013  \n",
       "2                CD1  3.664254  \n",
       "3                 CB  3.823513  \n",
       "4                CG2  3.238495  "
      ]
     },
     "execution_count": 12,
     "metadata": {},
     "output_type": "execute_result"
    }
   ],
   "source": [
    "data_frame_exp[(data_frame_exp[\"pdb\"] == \"4eor\")][['pdb','ligand_atom_index','ligand_atom_name','receptor_atom_index','receptor_atom_name','distance']].head()"
   ]
  },
  {
   "cell_type": "code",
   "execution_count": 13,
   "id": "77686d37-a25f-4fc3-bad5-0f6453be40fc",
   "metadata": {},
   "outputs": [
    {
     "name": "stdout",
     "output_type": "stream",
     "text": [
      "CPU times: user 7.63 s, sys: 52.3 ms, total: 7.68 s\n",
      "Wall time: 7.69 s\n"
     ]
    }
   ],
   "source": [
    "%%time\n",
    "# Create a list of DataFrames with the specified conditions\n",
    "data_frames_docked = [\n",
    "    flatten_data(data_dict_all_logs_docked, pdb, pose).assign(pdb=pdb, pose=str(pose))\n",
    "    for pdb in pdbs\n",
    "    for pose in range(1, nposes)\n",
    "    if pose in data_dict_all_logs_docked.get(pdb, {})\n",
    "]\n",
    "\n",
    "# Concatenate the DataFrames\n",
    "data_frame_docked = pd.concat(data_frames_docked, axis=0)"
   ]
  },
  {
   "cell_type": "markdown",
   "id": "cba57476-30b4-4f7d-b271-55744ccf64a6",
   "metadata": {},
   "source": [
    "#### Report "
   ]
  },
  {
   "cell_type": "code",
   "execution_count": 14,
   "id": "46cc3a1a-f327-4684-9d0e-a94acb847020",
   "metadata": {
    "scrolled": true
   },
   "outputs": [],
   "source": [
    "foureor1 = data_frame_docked[(data_frame_docked[\"pdb\"] == \"4eor\") & (data_frame_docked[\"pose\"] == \"1\")][['pdb','pose','ligand_atom_index','ligand_atom_name','receptor_atom_index','receptor_atom_name','distance']]"
   ]
  },
  {
   "cell_type": "code",
   "execution_count": 15,
   "id": "6f376eed-7f34-4c0b-8813-01a68e026f53",
   "metadata": {},
   "outputs": [
    {
     "data": {
      "text/html": [
       "<div>\n",
       "<style scoped>\n",
       "    .dataframe tbody tr th:only-of-type {\n",
       "        vertical-align: middle;\n",
       "    }\n",
       "\n",
       "    .dataframe tbody tr th {\n",
       "        vertical-align: top;\n",
       "    }\n",
       "\n",
       "    .dataframe thead th {\n",
       "        text-align: right;\n",
       "    }\n",
       "</style>\n",
       "<table border=\"1\" class=\"dataframe\">\n",
       "  <thead>\n",
       "    <tr style=\"text-align: right;\">\n",
       "      <th></th>\n",
       "      <th>pdb</th>\n",
       "      <th>pose</th>\n",
       "      <th>ligand_atom_index</th>\n",
       "      <th>ligand_atom_name</th>\n",
       "      <th>receptor_atom_index</th>\n",
       "      <th>receptor_atom_name</th>\n",
       "      <th>distance</th>\n",
       "    </tr>\n",
       "  </thead>\n",
       "  <tbody>\n",
       "    <tr>\n",
       "      <th>0</th>\n",
       "      <td>4eor</td>\n",
       "      <td>1</td>\n",
       "      <td>1.0</td>\n",
       "      <td>C2</td>\n",
       "      <td>92.0</td>\n",
       "      <td>CG2</td>\n",
       "      <td>3.537490</td>\n",
       "    </tr>\n",
       "    <tr>\n",
       "      <th>1</th>\n",
       "      <td>4eor</td>\n",
       "      <td>1</td>\n",
       "      <td>1.0</td>\n",
       "      <td>C2</td>\n",
       "      <td>1056.0</td>\n",
       "      <td>CD2</td>\n",
       "      <td>3.918316</td>\n",
       "    </tr>\n",
       "    <tr>\n",
       "      <th>2</th>\n",
       "      <td>4eor</td>\n",
       "      <td>1</td>\n",
       "      <td>3.0</td>\n",
       "      <td>N1</td>\n",
       "      <td>92.0</td>\n",
       "      <td>CG2</td>\n",
       "      <td>3.659126</td>\n",
       "    </tr>\n",
       "    <tr>\n",
       "      <th>3</th>\n",
       "      <td>4eor</td>\n",
       "      <td>1</td>\n",
       "      <td>3.0</td>\n",
       "      <td>N1</td>\n",
       "      <td>93.0</td>\n",
       "      <td>CD1</td>\n",
       "      <td>3.711112</td>\n",
       "    </tr>\n",
       "    <tr>\n",
       "      <th>4</th>\n",
       "      <td>4eor</td>\n",
       "      <td>1</td>\n",
       "      <td>3.0</td>\n",
       "      <td>N1</td>\n",
       "      <td>639.0</td>\n",
       "      <td>O</td>\n",
       "      <td>3.983377</td>\n",
       "    </tr>\n",
       "  </tbody>\n",
       "</table>\n",
       "</div>"
      ],
      "text/plain": [
       "    pdb pose  ligand_atom_index ligand_atom_name  receptor_atom_index  \\\n",
       "0  4eor    1                1.0               C2                 92.0   \n",
       "1  4eor    1                1.0               C2               1056.0   \n",
       "2  4eor    1                3.0               N1                 92.0   \n",
       "3  4eor    1                3.0               N1                 93.0   \n",
       "4  4eor    1                3.0               N1                639.0   \n",
       "\n",
       "  receptor_atom_name  distance  \n",
       "0                CG2  3.537490  \n",
       "1                CD2  3.918316  \n",
       "2                CG2  3.659126  \n",
       "3                CD1  3.711112  \n",
       "4                  O  3.983377  "
      ]
     },
     "execution_count": 15,
     "metadata": {},
     "output_type": "execute_result"
    }
   ],
   "source": [
    "foureor1.head()"
   ]
  },
  {
   "cell_type": "code",
   "execution_count": 16,
   "id": "1710e34e-a335-4ede-b14e-77653876ac68",
   "metadata": {},
   "outputs": [
    {
     "data": {
      "text/plain": [
       "O      15\n",
       "CG2    12\n",
       "CD1     9\n",
       "C       6\n",
       "CD2     6\n",
       "CD      5\n",
       "CB      5\n",
       "N       5\n",
       "CA      4\n",
       "CG1     4\n",
       "OE1     3\n",
       "CE1     3\n",
       "CZ      3\n",
       "OE2     2\n",
       "CE2     2\n",
       "NZ      2\n",
       "OD2     1\n",
       "CG      1\n",
       "Name: receptor_atom_name, dtype: int64"
      ]
     },
     "execution_count": 16,
     "metadata": {},
     "output_type": "execute_result"
    }
   ],
   "source": [
    "foureor1['receptor_atom_name'].value_counts()"
   ]
  },
  {
   "cell_type": "code",
   "execution_count": 17,
   "id": "950297b7-887a-4fdf-9f8a-2aedb1a6462d",
   "metadata": {},
   "outputs": [
    {
     "data": {
      "text/html": [
       "<div>\n",
       "<style scoped>\n",
       "    .dataframe tbody tr th:only-of-type {\n",
       "        vertical-align: middle;\n",
       "    }\n",
       "\n",
       "    .dataframe tbody tr th {\n",
       "        vertical-align: top;\n",
       "    }\n",
       "\n",
       "    .dataframe thead th {\n",
       "        text-align: right;\n",
       "    }\n",
       "</style>\n",
       "<table border=\"1\" class=\"dataframe\">\n",
       "  <thead>\n",
       "    <tr style=\"text-align: right;\">\n",
       "      <th></th>\n",
       "      <th>index</th>\n",
       "      <th>count</th>\n",
       "    </tr>\n",
       "  </thead>\n",
       "  <tbody>\n",
       "    <tr>\n",
       "      <th>0</th>\n",
       "      <td>92.0</td>\n",
       "      <td>8</td>\n",
       "    </tr>\n",
       "    <tr>\n",
       "      <th>1</th>\n",
       "      <td>647.0</td>\n",
       "      <td>7</td>\n",
       "    </tr>\n",
       "    <tr>\n",
       "      <th>2</th>\n",
       "      <td>1056.0</td>\n",
       "      <td>5</td>\n",
       "    </tr>\n",
       "    <tr>\n",
       "      <th>3</th>\n",
       "      <td>639.0</td>\n",
       "      <td>5</td>\n",
       "    </tr>\n",
       "    <tr>\n",
       "      <th>4</th>\n",
       "      <td>1055.0</td>\n",
       "      <td>5</td>\n",
       "    </tr>\n",
       "    <tr>\n",
       "      <th>5</th>\n",
       "      <td>654.0</td>\n",
       "      <td>4</td>\n",
       "    </tr>\n",
       "    <tr>\n",
       "      <th>6</th>\n",
       "      <td>646.0</td>\n",
       "      <td>4</td>\n",
       "    </tr>\n",
       "    <tr>\n",
       "      <th>7</th>\n",
       "      <td>75.0</td>\n",
       "      <td>3</td>\n",
       "    </tr>\n",
       "    <tr>\n",
       "      <th>8</th>\n",
       "      <td>248.0</td>\n",
       "      <td>3</td>\n",
       "    </tr>\n",
       "    <tr>\n",
       "      <th>9</th>\n",
       "      <td>655.0</td>\n",
       "      <td>3</td>\n",
       "    </tr>\n",
       "  </tbody>\n",
       "</table>\n",
       "</div>"
      ],
      "text/plain": [
       "    index  count\n",
       "0    92.0      8\n",
       "1   647.0      7\n",
       "2  1056.0      5\n",
       "3   639.0      5\n",
       "4  1055.0      5\n",
       "5   654.0      4\n",
       "6   646.0      4\n",
       "7    75.0      3\n",
       "8   248.0      3\n",
       "9   655.0      3"
      ]
     },
     "execution_count": 17,
     "metadata": {},
     "output_type": "execute_result"
    }
   ],
   "source": [
    "foureor1['receptor_atom_index'].value_counts().reset_index(name = \"count\").head(10)"
   ]
  },
  {
   "cell_type": "code",
   "execution_count": 18,
   "id": "e31c9415-24cc-4b27-b6de-303dcf7491be",
   "metadata": {},
   "outputs": [
    {
     "data": {
      "text/html": [
       "<div>\n",
       "<style scoped>\n",
       "    .dataframe tbody tr th:only-of-type {\n",
       "        vertical-align: middle;\n",
       "    }\n",
       "\n",
       "    .dataframe tbody tr th {\n",
       "        vertical-align: top;\n",
       "    }\n",
       "\n",
       "    .dataframe thead th {\n",
       "        text-align: right;\n",
       "    }\n",
       "</style>\n",
       "<table border=\"1\" class=\"dataframe\">\n",
       "  <thead>\n",
       "    <tr style=\"text-align: right;\">\n",
       "      <th></th>\n",
       "      <th>pdb</th>\n",
       "      <th>pose</th>\n",
       "      <th>ligand_atom_index</th>\n",
       "      <th>ligand_atom_name</th>\n",
       "      <th>receptor_atom_index</th>\n",
       "      <th>receptor_atom_name</th>\n",
       "      <th>distance</th>\n",
       "    </tr>\n",
       "  </thead>\n",
       "  <tbody>\n",
       "    <tr>\n",
       "      <th>0</th>\n",
       "      <td>4eor</td>\n",
       "      <td>1</td>\n",
       "      <td>1.0</td>\n",
       "      <td>C2</td>\n",
       "      <td>92.0</td>\n",
       "      <td>CG2</td>\n",
       "      <td>3.537490</td>\n",
       "    </tr>\n",
       "    <tr>\n",
       "      <th>1</th>\n",
       "      <td>4eor</td>\n",
       "      <td>1</td>\n",
       "      <td>1.0</td>\n",
       "      <td>C2</td>\n",
       "      <td>1056.0</td>\n",
       "      <td>CD2</td>\n",
       "      <td>3.918316</td>\n",
       "    </tr>\n",
       "    <tr>\n",
       "      <th>2</th>\n",
       "      <td>4eor</td>\n",
       "      <td>1</td>\n",
       "      <td>3.0</td>\n",
       "      <td>N1</td>\n",
       "      <td>92.0</td>\n",
       "      <td>CG2</td>\n",
       "      <td>3.659126</td>\n",
       "    </tr>\n",
       "    <tr>\n",
       "      <th>3</th>\n",
       "      <td>4eor</td>\n",
       "      <td>1</td>\n",
       "      <td>3.0</td>\n",
       "      <td>N1</td>\n",
       "      <td>93.0</td>\n",
       "      <td>CD1</td>\n",
       "      <td>3.711112</td>\n",
       "    </tr>\n",
       "    <tr>\n",
       "      <th>4</th>\n",
       "      <td>4eor</td>\n",
       "      <td>1</td>\n",
       "      <td>3.0</td>\n",
       "      <td>N1</td>\n",
       "      <td>639.0</td>\n",
       "      <td>O</td>\n",
       "      <td>3.983377</td>\n",
       "    </tr>\n",
       "  </tbody>\n",
       "</table>\n",
       "</div>"
      ],
      "text/plain": [
       "    pdb pose  ligand_atom_index ligand_atom_name  receptor_atom_index  \\\n",
       "0  4eor    1                1.0               C2                 92.0   \n",
       "1  4eor    1                1.0               C2               1056.0   \n",
       "2  4eor    1                3.0               N1                 92.0   \n",
       "3  4eor    1                3.0               N1                 93.0   \n",
       "4  4eor    1                3.0               N1                639.0   \n",
       "\n",
       "  receptor_atom_name  distance  \n",
       "0                CG2  3.537490  \n",
       "1                CD2  3.918316  \n",
       "2                CG2  3.659126  \n",
       "3                CD1  3.711112  \n",
       "4                  O  3.983377  "
      ]
     },
     "execution_count": 18,
     "metadata": {},
     "output_type": "execute_result"
    }
   ],
   "source": [
    "foureor1.head()"
   ]
  },
  {
   "cell_type": "code",
   "execution_count": 19,
   "id": "d4ad83c9-c639-4ee0-a2b1-7668ad801e7d",
   "metadata": {},
   "outputs": [
    {
     "data": {
      "text/html": [
       "<div>\n",
       "<style scoped>\n",
       "    .dataframe tbody tr th:only-of-type {\n",
       "        vertical-align: middle;\n",
       "    }\n",
       "\n",
       "    .dataframe tbody tr th {\n",
       "        vertical-align: top;\n",
       "    }\n",
       "\n",
       "    .dataframe thead th {\n",
       "        text-align: right;\n",
       "    }\n",
       "</style>\n",
       "<table border=\"1\" class=\"dataframe\">\n",
       "  <thead>\n",
       "    <tr style=\"text-align: right;\">\n",
       "      <th></th>\n",
       "      <th>pdb</th>\n",
       "      <th>pose</th>\n",
       "      <th>ligand_atom_index</th>\n",
       "      <th>ligand_atom_name</th>\n",
       "      <th>receptor_atom_index</th>\n",
       "      <th>receptor_atom_name</th>\n",
       "      <th>distance</th>\n",
       "    </tr>\n",
       "  </thead>\n",
       "  <tbody>\n",
       "    <tr>\n",
       "      <th>54</th>\n",
       "      <td>4eor</td>\n",
       "      <td>1</td>\n",
       "      <td>22.0</td>\n",
       "      <td>N26</td>\n",
       "      <td>75.0</td>\n",
       "      <td>OE1</td>\n",
       "      <td>3.154884</td>\n",
       "    </tr>\n",
       "    <tr>\n",
       "      <th>56</th>\n",
       "      <td>4eor</td>\n",
       "      <td>1</td>\n",
       "      <td>23.0</td>\n",
       "      <td>H18</td>\n",
       "      <td>75.0</td>\n",
       "      <td>OE1</td>\n",
       "      <td>3.140022</td>\n",
       "    </tr>\n",
       "    <tr>\n",
       "      <th>59</th>\n",
       "      <td>4eor</td>\n",
       "      <td>1</td>\n",
       "      <td>24.0</td>\n",
       "      <td>H19</td>\n",
       "      <td>75.0</td>\n",
       "      <td>OE1</td>\n",
       "      <td>2.558603</td>\n",
       "    </tr>\n",
       "  </tbody>\n",
       "</table>\n",
       "</div>"
      ],
      "text/plain": [
       "     pdb pose  ligand_atom_index ligand_atom_name  receptor_atom_index  \\\n",
       "54  4eor    1               22.0              N26                 75.0   \n",
       "56  4eor    1               23.0              H18                 75.0   \n",
       "59  4eor    1               24.0              H19                 75.0   \n",
       "\n",
       "   receptor_atom_name  distance  \n",
       "54                OE1  3.154884  \n",
       "56                OE1  3.140022  \n",
       "59                OE1  2.558603  "
      ]
     },
     "execution_count": 19,
     "metadata": {},
     "output_type": "execute_result"
    }
   ],
   "source": [
    "foureor1[(foureor1[\"pdb\"] == \"4eor\") & (foureor1[\"receptor_atom_index\"] == 75)]"
   ]
  },
  {
   "cell_type": "code",
   "execution_count": 20,
   "id": "1e2e0dac-dea9-4f88-bf3d-f7df601651c6",
   "metadata": {},
   "outputs": [
    {
     "data": {
      "text/plain": [
       "27"
      ]
     },
     "execution_count": 20,
     "metadata": {},
     "output_type": "execute_result"
    }
   ],
   "source": [
    "foureor1['ligand_atom_name'].nunique()"
   ]
  },
  {
   "cell_type": "code",
   "execution_count": 21,
   "id": "7b08f7c6-6b68-42ea-abd3-595f4526de0c",
   "metadata": {},
   "outputs": [
    {
     "data": {
      "text/plain": [
       "36"
      ]
     },
     "execution_count": 21,
     "metadata": {},
     "output_type": "execute_result"
    }
   ],
   "source": [
    "foureor1['receptor_atom_index'].nunique()"
   ]
  },
  {
   "cell_type": "code",
   "execution_count": 22,
   "id": "e5482747-3337-45f7-a7ec-cc3bcb603b20",
   "metadata": {},
   "outputs": [],
   "source": [
    "#receptor_id_resi_atom = foureor1[[\"receptor_resID\",\"receptor_atom_index\"]]"
   ]
  },
  {
   "cell_type": "code",
   "execution_count": 23,
   "id": "e053cee2-7f01-4158-88c8-34fe41dee484",
   "metadata": {
    "scrolled": true
   },
   "outputs": [],
   "source": [
    "#receptor_id_resi_atom['receptor_resID'].nunique()"
   ]
  },
  {
   "cell_type": "code",
   "execution_count": 24,
   "id": "a194d1a9-b9d3-4279-b329-ea3d2f5289d2",
   "metadata": {},
   "outputs": [],
   "source": [
    "#foureor1.groupby(\"receptor_resID\")['receptor_atom_index'].nunique()"
   ]
  },
  {
   "cell_type": "code",
   "execution_count": 25,
   "id": "b2b2d5e8-a217-4190-8e92-5c93ff79576a",
   "metadata": {
    "scrolled": true
   },
   "outputs": [],
   "source": [
    "#foureor1.groupby(\"receptor_resID\")['receptor_atom_index'].value_counts()"
   ]
  },
  {
   "cell_type": "code",
   "execution_count": 26,
   "id": "60cda44e-1bf9-4034-b100-4be08ec64ad0",
   "metadata": {},
   "outputs": [],
   "source": [
    "#foureor1[foureor1['receptor_resID'] ==11][[\"receptor_resID\",\"receptor_atom_index\",'ligand_atom_index', 'receptor_atom_name','receptor_resName']]"
   ]
  },
  {
   "cell_type": "code",
   "execution_count": 27,
   "id": "3a7ce75c",
   "metadata": {},
   "outputs": [],
   "source": [
    "df = data_frame_docked.copy()"
   ]
  },
  {
   "cell_type": "code",
   "execution_count": 28,
   "id": "863fbba3-cfb9-47ed-8f6a-a8ba7d117760",
   "metadata": {},
   "outputs": [],
   "source": [
    "#df[df['pdb'] == '1owh'].head()"
   ]
  },
  {
   "cell_type": "code",
   "execution_count": 29,
   "id": "e75affef-a9c8-466c-be38-61ab1847b40b",
   "metadata": {},
   "outputs": [],
   "source": [
    "#df['pdb'].nunique()"
   ]
  },
  {
   "cell_type": "markdown",
   "id": "eb2ca516-751b-4e5e-94ac-9bfdea0a7a6b",
   "metadata": {},
   "source": [
    "#### List of indexes  "
   ]
  },
  {
   "cell_type": "markdown",
   "id": "7a9358f7-4e34-4c50-8d9a-75e9194bcf02",
   "metadata": {},
   "source": [
    "- Create a dictionary with the **indices** of close-contact atoms.\n",
    "\n",
    "- This is necessary so that we know from which atoms we should **obtain the properties.**\n",
    "\n",
    "- Dictionaries for experimental data and for poses obtained through docking, for the comparison **metric of native contacts.**"
   ]
  },
  {
   "cell_type": "markdown",
   "id": "eb2a3610-89d7-4eda-8e3f-2ed1034ebf30",
   "metadata": {},
   "source": [
    "<font color = \"red\"> Why i used process_ids to sort the values "
   ]
  },
  {
   "cell_type": "code",
   "execution_count": 30,
   "id": "1e018174-a952-4267-8026-3d1243e52ba7",
   "metadata": {},
   "outputs": [
    {
     "data": {
      "text/html": [
       "<div>\n",
       "<style scoped>\n",
       "    .dataframe tbody tr th:only-of-type {\n",
       "        vertical-align: middle;\n",
       "    }\n",
       "\n",
       "    .dataframe tbody tr th {\n",
       "        vertical-align: top;\n",
       "    }\n",
       "\n",
       "    .dataframe thead th {\n",
       "        text-align: right;\n",
       "    }\n",
       "</style>\n",
       "<table border=\"1\" class=\"dataframe\">\n",
       "  <thead>\n",
       "    <tr style=\"text-align: right;\">\n",
       "      <th></th>\n",
       "      <th>ligand_atom_index</th>\n",
       "      <th>ligand_atom_name</th>\n",
       "      <th>ligand_chain</th>\n",
       "      <th>ligand_resID</th>\n",
       "      <th>ligand_resName</th>\n",
       "      <th>distance</th>\n",
       "      <th>receptor_atom_index</th>\n",
       "      <th>receptor_atom_name</th>\n",
       "      <th>receptor_chain</th>\n",
       "      <th>receptor_resID</th>\n",
       "      <th>receptor_resName</th>\n",
       "      <th>pdb</th>\n",
       "      <th>pose</th>\n",
       "    </tr>\n",
       "  </thead>\n",
       "  <tbody>\n",
       "    <tr>\n",
       "      <th>0</th>\n",
       "      <td>1.0</td>\n",
       "      <td>C2</td>\n",
       "      <td>d</td>\n",
       "      <td>0.0</td>\n",
       "      <td>UNN</td>\n",
       "      <td>3.537490</td>\n",
       "      <td>92.0</td>\n",
       "      <td>CG2</td>\n",
       "      <td>A</td>\n",
       "      <td>11.0</td>\n",
       "      <td>ILE</td>\n",
       "      <td>4eor</td>\n",
       "      <td>1</td>\n",
       "    </tr>\n",
       "    <tr>\n",
       "      <th>1</th>\n",
       "      <td>1.0</td>\n",
       "      <td>C2</td>\n",
       "      <td>d</td>\n",
       "      <td>0.0</td>\n",
       "      <td>UNN</td>\n",
       "      <td>3.918316</td>\n",
       "      <td>1056.0</td>\n",
       "      <td>CD2</td>\n",
       "      <td>A</td>\n",
       "      <td>131.0</td>\n",
       "      <td>LEU</td>\n",
       "      <td>4eor</td>\n",
       "      <td>1</td>\n",
       "    </tr>\n",
       "    <tr>\n",
       "      <th>2</th>\n",
       "      <td>3.0</td>\n",
       "      <td>N1</td>\n",
       "      <td>d</td>\n",
       "      <td>0.0</td>\n",
       "      <td>UNN</td>\n",
       "      <td>3.659126</td>\n",
       "      <td>92.0</td>\n",
       "      <td>CG2</td>\n",
       "      <td>A</td>\n",
       "      <td>11.0</td>\n",
       "      <td>ILE</td>\n",
       "      <td>4eor</td>\n",
       "      <td>1</td>\n",
       "    </tr>\n",
       "    <tr>\n",
       "      <th>3</th>\n",
       "      <td>3.0</td>\n",
       "      <td>N1</td>\n",
       "      <td>d</td>\n",
       "      <td>0.0</td>\n",
       "      <td>UNN</td>\n",
       "      <td>3.711112</td>\n",
       "      <td>93.0</td>\n",
       "      <td>CD1</td>\n",
       "      <td>A</td>\n",
       "      <td>11.0</td>\n",
       "      <td>ILE</td>\n",
       "      <td>4eor</td>\n",
       "      <td>1</td>\n",
       "    </tr>\n",
       "    <tr>\n",
       "      <th>4</th>\n",
       "      <td>3.0</td>\n",
       "      <td>N1</td>\n",
       "      <td>d</td>\n",
       "      <td>0.0</td>\n",
       "      <td>UNN</td>\n",
       "      <td>3.983377</td>\n",
       "      <td>639.0</td>\n",
       "      <td>O</td>\n",
       "      <td>A</td>\n",
       "      <td>80.0</td>\n",
       "      <td>LEU</td>\n",
       "      <td>4eor</td>\n",
       "      <td>1</td>\n",
       "    </tr>\n",
       "  </tbody>\n",
       "</table>\n",
       "</div>"
      ],
      "text/plain": [
       "   ligand_atom_index ligand_atom_name ligand_chain  ligand_resID  \\\n",
       "0                1.0               C2            d           0.0   \n",
       "1                1.0               C2            d           0.0   \n",
       "2                3.0               N1            d           0.0   \n",
       "3                3.0               N1            d           0.0   \n",
       "4                3.0               N1            d           0.0   \n",
       "\n",
       "  ligand_resName  distance  receptor_atom_index receptor_atom_name  \\\n",
       "0            UNN  3.537490                 92.0                CG2   \n",
       "1            UNN  3.918316               1056.0                CD2   \n",
       "2            UNN  3.659126                 92.0                CG2   \n",
       "3            UNN  3.711112                 93.0                CD1   \n",
       "4            UNN  3.983377                639.0                  O   \n",
       "\n",
       "  receptor_chain  receptor_resID receptor_resName   pdb pose  \n",
       "0              A            11.0              ILE  4eor    1  \n",
       "1              A           131.0              LEU  4eor    1  \n",
       "2              A            11.0              ILE  4eor    1  \n",
       "3              A            11.0              ILE  4eor    1  \n",
       "4              A            80.0              LEU  4eor    1  "
      ]
     },
     "execution_count": 30,
     "metadata": {},
     "output_type": "execute_result"
    }
   ],
   "source": [
    "data_frame_docked[data_frame_docked['pdb']== '4eor'].head()"
   ]
  },
  {
   "cell_type": "code",
   "execution_count": 31,
   "id": "24dc0eb8-9afd-436c-9ea3-a156028d61cb",
   "metadata": {},
   "outputs": [
    {
     "name": "stdout",
     "output_type": "stream",
     "text": [
      "CPU times: user 3min 27s, sys: 302 ms, total: 3min 28s\n",
      "Wall time: 3min 28s\n"
     ]
    }
   ],
   "source": [
    "%%time\n",
    "def process_ids(data_frame, pdb,  ligand_column, pose = False):\n",
    "    if 'pose' in data_frame.columns:\n",
    "        aux = list(data_frame[(data_frame['pdb'] == pdb) & (data_frame['pose'] == str(pose))][ligand_column])\n",
    "    else:\n",
    "        aux = list(data_frame[data_frame['pdb'] == pdb][ligand_column])\n",
    "    try:\n",
    "        aux = [int(val) for val in aux]\n",
    "    except ValueError:\n",
    "        pass\n",
    "    return aux\n",
    "\n",
    "def process_pdb_data(pdbs, data_frame, ligand_column):\n",
    "    ids = {}\n",
    "    for pdb in pdbs:\n",
    "        if 'pose' in data_frame.columns:\n",
    "            ids[pdb] = {}\n",
    "            for pose in range(1, nposes + 1):\n",
    "                ids[pdb][pose] = process_ids(data_frame, pdb,  ligand_column, pose)\n",
    "        else:\n",
    "            ids[pdb] = process_ids(data_frame, pdb, ligand_column)\n",
    "    return ids\n",
    "\n",
    "# index\n",
    "ids_lig_with_poses = process_pdb_data(pdbs, data_frame_docked, 'ligand_atom_index')\n",
    "ids_rec_with_poses  = process_pdb_data(pdbs, data_frame_docked, 'receptor_atom_index')\n",
    "ids_lig_exp = process_pdb_data(pdbs, data_frame_exp, 'ligand_atom_index')\n",
    "ids_rec_exp  = process_pdb_data(pdbs, data_frame_exp, 'receptor_atom_index')\n",
    "\n",
    "## Names\n",
    "#names_lig_with_poses = process_pdb_data(pdbs, data_frame_docked, 'ligand_atom_name')\n",
    "#names_rec_with_poses  = process_pdb_data(pdbs, data_frame_docked, 'receptor_atom_name')\n",
    "#names_lig_exp = process_pdb_data(pdbs, data_frame_exp, 'ligand_atom_name')\n",
    "#names_rec_exp  = process_pdb_data(pdbs, data_frame_exp, 'receptor_atom_name')"
   ]
  },
  {
   "cell_type": "markdown",
   "id": "eee5f88e-a434-4ccb-ae3b-8282806c87ce",
   "metadata": {},
   "source": [
    "284 - PDBs - 3 min 26s "
   ]
  },
  {
   "cell_type": "code",
   "execution_count": 33,
   "id": "957446f5-e613-43c5-a7fb-896b2b5decd6",
   "metadata": {},
   "outputs": [],
   "source": [
    "#ids_rec_exp['1owh'][1:10]"
   ]
  },
  {
   "cell_type": "code",
   "execution_count": 34,
   "id": "9d2ab9b4-f914-4ebc-be59-7ea0b9201eb2",
   "metadata": {},
   "outputs": [],
   "source": [
    "#ids_lig_exp['1owh'][1:10]"
   ]
  },
  {
   "cell_type": "code",
   "execution_count": 35,
   "id": "355345ae-7938-45ba-9ae2-4887b36e1083",
   "metadata": {},
   "outputs": [],
   "source": [
    "#ids_rec_with_poses['1owh']"
   ]
  },
  {
   "cell_type": "markdown",
   "id": "0dbea1d0-c8e5-427b-ab9a-dd62ffcc27dc",
   "metadata": {},
   "source": [
    "### Compare native contacts"
   ]
  },
  {
   "cell_type": "code",
   "execution_count": 36,
   "id": "eebda696-737b-49f0-802c-fed3c0390610",
   "metadata": {},
   "outputs": [
    {
     "name": "stdout",
     "output_type": "stream",
     "text": [
      "CPU times: user 789 ms, sys: 4 µs, total: 789 ms\n",
      "Wall time: 798 ms\n"
     ]
    }
   ],
   "source": [
    "%%time\n",
    "def compare_graphs(pairs_graph1, pairs_graph2):\n",
    "    \"\"\"\n",
    "    Compare two sets of graph pairs and calculate a similarity score.\n",
    "\n",
    "    Parameters\n",
    "    ----------\n",
    "    pairs_graph1 : list\n",
    "        List of pairs from the first graph.\n",
    "    pairs_graph2 : list\n",
    "        List of pairs from the second graph.\n",
    "\n",
    "    Returns\n",
    "    -------\n",
    "    float\n",
    "        Percentage similarity between the two graphs.\n",
    "    \"\"\"\n",
    "    common_pairs = [pair for pair in pairs_graph1 if pair in pairs_graph2]\n",
    "    #print(len(common_pairs))\n",
    "    similarity_score = (len(common_pairs) / len(pairs_graph2)) * 100\n",
    "    return similarity_score\n",
    "\n",
    "score = {}\n",
    "\n",
    "for pdb in pdbs:\n",
    "    score[pdb] = {}\n",
    "    for pose in range(1, nposes + 1):\n",
    "        pairs_graph1 = list(zip(ids_lig_with_poses[pdb][pose], ids_rec_with_poses[pdb][pose]))\n",
    "        pairs_graph2 = list(zip(ids_lig_exp[pdb], ids_rec_exp[pdb]))\n",
    "        score[pdb][pose] = compare_graphs(pairs_graph1, pairs_graph2)\n",
    "\n",
    "import json \n",
    "with open(f\"{config.data}/score.json\", \"w\") as json_file:\n",
    "    json.dump(score, json_file)"
   ]
  },
  {
   "cell_type": "markdown",
   "id": "dfc56b2b-1713-4ae9-98f5-e8b777e58cd9",
   "metadata": {},
   "source": [
    "<font color = \"yellow\"> When i extrated the atom properties, i only extrated for  ids_3gv9_pose_1\n",
    "\n",
    "Why am i taking this?\n",
    "\n",
    "     * Because we only want properties from the important nodes"
   ]
  },
  {
   "cell_type": "markdown",
   "id": "fee4e219-59e6-4aa8-95eb-9a10729a05c4",
   "metadata": {},
   "source": [
    "### Extract atom properties"
   ]
  },
  {
   "cell_type": "code",
   "execution_count": 37,
   "id": "ad4fb6fa",
   "metadata": {},
   "outputs": [],
   "source": [
    "def find_element_index(lst, element):\n",
    "    \"\"\"\n",
    "    Locate the index of the desired element within the list. If the element is not found, return the index of the last item.\n",
    "    \"\"\"\n",
    "    try:\n",
    "        return lst.index(element)\n",
    "    except ValueError:\n",
    "        return len(lst) - 1"
   ]
  },
  {
   "cell_type": "code",
   "execution_count": 38,
   "id": "01150463-48a9-41a1-9c4e-b930e7a01ff7",
   "metadata": {},
   "outputs": [],
   "source": [
    "class AtomPropertiesExtractor:\n",
    "    def __init__(self):\n",
    "        #self.ligand_path = ligand_path\n",
    "        self.columns = [\"Atom_Index\", \"Name\", \"Mass\", \"Charge\", \"Element_Name\", \"Hybridization\", \"Num_Hydrogens\", \"Formal_Charge\", \"Unpaired_Electron\", \"In_Aromatic_Substructure\"]\n",
    "        self.allowable_features = {\n",
    "            \"possible_hybridization_list\": [\"S\", \"SP\", \"SP2\", \"SP3\", \"SP3D\", \"SP3D2\", \"UNSPECIFIED\"],\n",
    "            \"possible_atoms\": ['C', 'S', 'N', 'O', 'H']\n",
    "        }\n",
    "\n",
    "    def extract_properties(self, atom_indices, properties_to_extract, path):\n",
    "        atom_properties_list = []\n",
    "\n",
    "        with open(path, \"r\") as pdb_file:\n",
    "            pdb_data = pdb_file.read()\n",
    "\n",
    "        molecule = Chem.MolFromPDBFile(path, removeHs=False)\n",
    "\n",
    "        if molecule is not None:\n",
    "            for atom_index in atom_indices:\n",
    "                atom = molecule.GetAtomWithIdx(atom_index - 1)\n",
    "\n",
    "                atom_properties = {\n",
    "                    \"Atom_Index\": atom_index,\n",
    "                    \"Name\": atom.GetSymbol(),\n",
    "                    \"Mass\": atom.GetMass(),\n",
    "                    \"Charge\": atom.GetFormalCharge(),\n",
    "                    \"Element_Name\": find_element_index(self.allowable_features['possible_atoms'], str(atom.GetSymbol())),\n",
    "                    \"Hybridization\": find_element_index(self.allowable_features['possible_hybridization_list'], str(atom.GetHybridization())),\n",
    "                    \"Num_Hydrogens\": atom.GetTotalNumHs(),\n",
    "                    \"Formal_Charge\": atom.GetFormalCharge(),\n",
    "                    \"Unpaired_Electron\": atom.GetNumRadicalElectrons(),\n",
    "                    \"In_Aromatic_Substructure\": int(atom.GetIsAromatic())\n",
    "                }\n",
    "\n",
    "                atom_properties = {key: atom_properties[key] for key in properties_to_extract}\n",
    "                atom_properties_list.append(atom_properties)\n",
    "\n",
    "        atom_properties_df = pd.DataFrame(atom_properties_list, columns=properties_to_extract)\n",
    "        return atom_properties_df"
   ]
  },
  {
   "cell_type": "code",
   "execution_count": 39,
   "id": "bfa1ad63-8079-4c4b-b6c4-7ff1658aad88",
   "metadata": {},
   "outputs": [],
   "source": [
    "# Create an instance of the class\n",
    "atom_ligand_extractor = AtomPropertiesExtractor()\n",
    "atom_receptor_extractor =  AtomPropertiesExtractor()"
   ]
  },
  {
   "cell_type": "code",
   "execution_count": 40,
   "id": "0311c007-9dc4-45be-aea8-ad1cf26e53d0",
   "metadata": {},
   "outputs": [],
   "source": [
    "#atom_receptor_extractor.extract_properties(ids_lig['3gv9'][2], node_descriptors, ligand_path.as_posix())"
   ]
  },
  {
   "cell_type": "markdown",
   "id": "576b2363-117f-4dda-aa02-3994bbd9d0ca",
   "metadata": {},
   "source": [
    "#### Dict with atom properties: Ligand and receptor"
   ]
  },
  {
   "cell_type": "code",
   "execution_count": 41,
   "id": "8f811217-503f-4ce2-a877-382d63a287a0",
   "metadata": {},
   "outputs": [],
   "source": [
    "#extract_atom_properties(ligand_path.as_posix(), ids_lig['3gv9'][2])"
   ]
  },
  {
   "cell_type": "code",
   "execution_count": 42,
   "id": "65227dbe-5d01-42ac-b03a-f09624df2575",
   "metadata": {},
   "outputs": [],
   "source": [
    "#atom_ligand_extractor.extract_properties(ids_lig['3gv9'][1], config.node_descriptors, '/home/lbcb02/Workspace/Scripts/coreset/3gv9/results/pose_1.pdb')"
   ]
  },
  {
   "cell_type": "code",
   "execution_count": 43,
   "id": "33d5ad44-f520-41ba-93d0-7a203ca350ed",
   "metadata": {},
   "outputs": [],
   "source": [
    "#ids_lig['3gv9'][2]"
   ]
  },
  {
   "cell_type": "code",
   "execution_count": 44,
   "id": "5f0f89b6-bce4-45d9-8582-8d5dddcecfa6",
   "metadata": {},
   "outputs": [],
   "source": [
    "lig_atoms_prop = {}\n",
    "rec_atoms_prop = {}\n",
    "df_dict = {}"
   ]
  },
  {
   "cell_type": "code",
   "execution_count": 45,
   "id": "2ec801ef-7a0e-40ce-90e6-95e81a7cdec2",
   "metadata": {
    "scrolled": true
   },
   "outputs": [
    {
     "data": {
      "text/html": [
       "<div>\n",
       "<style scoped>\n",
       "    .dataframe tbody tr th:only-of-type {\n",
       "        vertical-align: middle;\n",
       "    }\n",
       "\n",
       "    .dataframe tbody tr th {\n",
       "        vertical-align: top;\n",
       "    }\n",
       "\n",
       "    .dataframe thead th {\n",
       "        text-align: right;\n",
       "    }\n",
       "</style>\n",
       "<table border=\"1\" class=\"dataframe\">\n",
       "  <thead>\n",
       "    <tr style=\"text-align: right;\">\n",
       "      <th></th>\n",
       "      <th>ligand_atom_index</th>\n",
       "      <th>ligand_atom_name</th>\n",
       "      <th>ligand_chain</th>\n",
       "      <th>ligand_resID</th>\n",
       "      <th>ligand_resName</th>\n",
       "      <th>distance</th>\n",
       "      <th>receptor_atom_index</th>\n",
       "      <th>receptor_atom_name</th>\n",
       "      <th>receptor_chain</th>\n",
       "      <th>receptor_resID</th>\n",
       "      <th>receptor_resName</th>\n",
       "      <th>pdb</th>\n",
       "      <th>pose</th>\n",
       "    </tr>\n",
       "  </thead>\n",
       "  <tbody>\n",
       "    <tr>\n",
       "      <th>0</th>\n",
       "      <td>1.0</td>\n",
       "      <td>C2</td>\n",
       "      <td>d</td>\n",
       "      <td>0.0</td>\n",
       "      <td>UNN</td>\n",
       "      <td>3.537490</td>\n",
       "      <td>92.0</td>\n",
       "      <td>CG2</td>\n",
       "      <td>A</td>\n",
       "      <td>11.0</td>\n",
       "      <td>ILE</td>\n",
       "      <td>4eor</td>\n",
       "      <td>1</td>\n",
       "    </tr>\n",
       "    <tr>\n",
       "      <th>1</th>\n",
       "      <td>1.0</td>\n",
       "      <td>C2</td>\n",
       "      <td>d</td>\n",
       "      <td>0.0</td>\n",
       "      <td>UNN</td>\n",
       "      <td>3.918316</td>\n",
       "      <td>1056.0</td>\n",
       "      <td>CD2</td>\n",
       "      <td>A</td>\n",
       "      <td>131.0</td>\n",
       "      <td>LEU</td>\n",
       "      <td>4eor</td>\n",
       "      <td>1</td>\n",
       "    </tr>\n",
       "    <tr>\n",
       "      <th>2</th>\n",
       "      <td>3.0</td>\n",
       "      <td>N1</td>\n",
       "      <td>d</td>\n",
       "      <td>0.0</td>\n",
       "      <td>UNN</td>\n",
       "      <td>3.659126</td>\n",
       "      <td>92.0</td>\n",
       "      <td>CG2</td>\n",
       "      <td>A</td>\n",
       "      <td>11.0</td>\n",
       "      <td>ILE</td>\n",
       "      <td>4eor</td>\n",
       "      <td>1</td>\n",
       "    </tr>\n",
       "    <tr>\n",
       "      <th>3</th>\n",
       "      <td>3.0</td>\n",
       "      <td>N1</td>\n",
       "      <td>d</td>\n",
       "      <td>0.0</td>\n",
       "      <td>UNN</td>\n",
       "      <td>3.711112</td>\n",
       "      <td>93.0</td>\n",
       "      <td>CD1</td>\n",
       "      <td>A</td>\n",
       "      <td>11.0</td>\n",
       "      <td>ILE</td>\n",
       "      <td>4eor</td>\n",
       "      <td>1</td>\n",
       "    </tr>\n",
       "    <tr>\n",
       "      <th>4</th>\n",
       "      <td>3.0</td>\n",
       "      <td>N1</td>\n",
       "      <td>d</td>\n",
       "      <td>0.0</td>\n",
       "      <td>UNN</td>\n",
       "      <td>3.983377</td>\n",
       "      <td>639.0</td>\n",
       "      <td>O</td>\n",
       "      <td>A</td>\n",
       "      <td>80.0</td>\n",
       "      <td>LEU</td>\n",
       "      <td>4eor</td>\n",
       "      <td>1</td>\n",
       "    </tr>\n",
       "  </tbody>\n",
       "</table>\n",
       "</div>"
      ],
      "text/plain": [
       "   ligand_atom_index ligand_atom_name ligand_chain  ligand_resID  \\\n",
       "0                1.0               C2            d           0.0   \n",
       "1                1.0               C2            d           0.0   \n",
       "2                3.0               N1            d           0.0   \n",
       "3                3.0               N1            d           0.0   \n",
       "4                3.0               N1            d           0.0   \n",
       "\n",
       "  ligand_resName  distance  receptor_atom_index receptor_atom_name  \\\n",
       "0            UNN  3.537490                 92.0                CG2   \n",
       "1            UNN  3.918316               1056.0                CD2   \n",
       "2            UNN  3.659126                 92.0                CG2   \n",
       "3            UNN  3.711112                 93.0                CD1   \n",
       "4            UNN  3.983377                639.0                  O   \n",
       "\n",
       "  receptor_chain  receptor_resID receptor_resName   pdb pose  \n",
       "0              A            11.0              ILE  4eor    1  \n",
       "1              A           131.0              LEU  4eor    1  \n",
       "2              A            11.0              ILE  4eor    1  \n",
       "3              A            11.0              ILE  4eor    1  \n",
       "4              A            80.0              LEU  4eor    1  "
      ]
     },
     "execution_count": 45,
     "metadata": {},
     "output_type": "execute_result"
    }
   ],
   "source": [
    "df.head()"
   ]
  },
  {
   "cell_type": "code",
   "execution_count": 46,
   "id": "1811ea3f-dde3-491b-9fac-02e1285132e8",
   "metadata": {},
   "outputs": [
    {
     "data": {
      "text/plain": [
       "79"
      ]
     },
     "execution_count": 46,
     "metadata": {},
     "output_type": "execute_result"
    }
   ],
   "source": [
    "df['receptor_atom_name'].nunique()"
   ]
  },
  {
   "cell_type": "code",
   "execution_count": 47,
   "id": "4ee9311b-e015-43ec-b76f-d70763612a9a",
   "metadata": {},
   "outputs": [
    {
     "data": {
      "text/plain": [
       "C2     5855\n",
       "C6     5539\n",
       "C5     5045\n",
       "C4     4948\n",
       "C1     4801\n",
       "C3     4660\n",
       "C8     4197\n",
       "H1     4186\n",
       "C7     4101\n",
       "C10    3886\n",
       "Name: ligand_atom_name, dtype: int64"
      ]
     },
     "execution_count": 47,
     "metadata": {},
     "output_type": "execute_result"
    }
   ],
   "source": [
    "df['ligand_atom_name'].value_counts().head(10)"
   ]
  },
  {
   "cell_type": "code",
   "execution_count": 48,
   "id": "86ffc478-3417-4d58-bcd4-32ea67ff3f21",
   "metadata": {},
   "outputs": [
    {
     "data": {
      "text/html": [
       "<div>\n",
       "<style scoped>\n",
       "    .dataframe tbody tr th:only-of-type {\n",
       "        vertical-align: middle;\n",
       "    }\n",
       "\n",
       "    .dataframe tbody tr th {\n",
       "        vertical-align: top;\n",
       "    }\n",
       "\n",
       "    .dataframe thead th {\n",
       "        text-align: right;\n",
       "    }\n",
       "</style>\n",
       "<table border=\"1\" class=\"dataframe\">\n",
       "  <thead>\n",
       "    <tr style=\"text-align: right;\">\n",
       "      <th></th>\n",
       "      <th>encoded_C</th>\n",
       "      <th>encoded_CA</th>\n",
       "      <th>encoded_CB</th>\n",
       "      <th>encoded_CD</th>\n",
       "      <th>encoded_CD1</th>\n",
       "      <th>encoded_CD2</th>\n",
       "      <th>encoded_CE</th>\n",
       "      <th>encoded_CE1</th>\n",
       "      <th>encoded_CE2</th>\n",
       "      <th>encoded_CE3</th>\n",
       "      <th>...</th>\n",
       "      <th>encoded_O</th>\n",
       "      <th>encoded_OD1</th>\n",
       "      <th>encoded_OD2</th>\n",
       "      <th>encoded_OE1</th>\n",
       "      <th>encoded_OE2</th>\n",
       "      <th>encoded_OG</th>\n",
       "      <th>encoded_OG1</th>\n",
       "      <th>encoded_OH</th>\n",
       "      <th>encoded_SD</th>\n",
       "      <th>encoded_SG</th>\n",
       "    </tr>\n",
       "  </thead>\n",
       "  <tbody>\n",
       "    <tr>\n",
       "      <th>0</th>\n",
       "      <td>0</td>\n",
       "      <td>0</td>\n",
       "      <td>0</td>\n",
       "      <td>0</td>\n",
       "      <td>0</td>\n",
       "      <td>0</td>\n",
       "      <td>0</td>\n",
       "      <td>0</td>\n",
       "      <td>0</td>\n",
       "      <td>0</td>\n",
       "      <td>...</td>\n",
       "      <td>0</td>\n",
       "      <td>0</td>\n",
       "      <td>0</td>\n",
       "      <td>0</td>\n",
       "      <td>0</td>\n",
       "      <td>0</td>\n",
       "      <td>0</td>\n",
       "      <td>0</td>\n",
       "      <td>0</td>\n",
       "      <td>0</td>\n",
       "    </tr>\n",
       "    <tr>\n",
       "      <th>1</th>\n",
       "      <td>0</td>\n",
       "      <td>0</td>\n",
       "      <td>0</td>\n",
       "      <td>0</td>\n",
       "      <td>0</td>\n",
       "      <td>1</td>\n",
       "      <td>0</td>\n",
       "      <td>0</td>\n",
       "      <td>0</td>\n",
       "      <td>0</td>\n",
       "      <td>...</td>\n",
       "      <td>0</td>\n",
       "      <td>0</td>\n",
       "      <td>0</td>\n",
       "      <td>0</td>\n",
       "      <td>0</td>\n",
       "      <td>0</td>\n",
       "      <td>0</td>\n",
       "      <td>0</td>\n",
       "      <td>0</td>\n",
       "      <td>0</td>\n",
       "    </tr>\n",
       "  </tbody>\n",
       "</table>\n",
       "<p>2 rows × 79 columns</p>\n",
       "</div>"
      ],
      "text/plain": [
       "   encoded_C  encoded_CA  encoded_CB  encoded_CD  encoded_CD1  encoded_CD2  \\\n",
       "0          0           0           0           0            0            0   \n",
       "1          0           0           0           0            0            1   \n",
       "\n",
       "   encoded_CE  encoded_CE1  encoded_CE2  encoded_CE3  ...  encoded_O  \\\n",
       "0           0            0            0            0  ...          0   \n",
       "1           0            0            0            0  ...          0   \n",
       "\n",
       "   encoded_OD1  encoded_OD2  encoded_OE1  encoded_OE2  encoded_OG  \\\n",
       "0            0            0            0            0           0   \n",
       "1            0            0            0            0           0   \n",
       "\n",
       "   encoded_OG1  encoded_OH  encoded_SD  encoded_SG  \n",
       "0            0           0           0           0  \n",
       "1            0           0           0           0  \n",
       "\n",
       "[2 rows x 79 columns]"
      ]
     },
     "execution_count": 48,
     "metadata": {},
     "output_type": "execute_result"
    }
   ],
   "source": [
    "pd.get_dummies(df['receptor_atom_name'], prefix='encoded').head(2)"
   ]
  },
  {
   "cell_type": "code",
   "execution_count": 49,
   "id": "2dbd2d1e-e310-4fd8-bd13-2d250e375496",
   "metadata": {},
   "outputs": [
    {
     "data": {
      "text/plain": [
       "[]"
      ]
     },
     "execution_count": 49,
     "metadata": {},
     "output_type": "execute_result"
    }
   ],
   "source": [
    "ids_lig_with_poses[pdb][pose]#[:10]"
   ]
  },
  {
   "cell_type": "code",
   "execution_count": 50,
   "id": "f9d332fa-6fcf-44c9-bfb6-139876cbdaf6",
   "metadata": {},
   "outputs": [
    {
     "data": {
      "text/plain": [
       "0     CG2\n",
       "1     CD2\n",
       "2     CG2\n",
       "3     CD1\n",
       "4       O\n",
       "     ... \n",
       "31     CE\n",
       "32     NZ\n",
       "33     CE\n",
       "34     NZ\n",
       "35     CB\n",
       "Name: receptor_atom_name, Length: 254050, dtype: object"
      ]
     },
     "execution_count": 50,
     "metadata": {},
     "output_type": "execute_result"
    }
   ],
   "source": [
    "df['receptor_atom_name']"
   ]
  },
  {
   "cell_type": "code",
   "execution_count": 51,
   "id": "c4585541-e575-4e68-8cfb-448c6faf95b8",
   "metadata": {},
   "outputs": [
    {
     "data": {
      "text/plain": [
       "['Mass',\n",
       " 'Charge',\n",
       " 'Element_Name',\n",
       " 'Hybridization',\n",
       " 'Num_Hydrogens',\n",
       " 'Formal_Charge',\n",
       " 'Unpaired_Electron',\n",
       " 'In_Aromatic_Substructure']"
      ]
     },
     "execution_count": 51,
     "metadata": {},
     "output_type": "execute_result"
    }
   ],
   "source": [
    " config.node_descriptors"
   ]
  },
  {
   "cell_type": "code",
   "execution_count": 52,
   "id": "480b5bed-cffd-4982-96e9-c008a60b8ccc",
   "metadata": {},
   "outputs": [],
   "source": [
    "global_encoding = pd.get_dummies(df['receptor_atom_name'], prefix='encoded_global')"
   ]
  },
  {
   "cell_type": "code",
   "execution_count": 53,
   "id": "ded70a69-c510-4a1c-92dc-f87f3fb6ef62",
   "metadata": {},
   "outputs": [
    {
     "data": {
      "text/html": [
       "<div>\n",
       "<style scoped>\n",
       "    .dataframe tbody tr th:only-of-type {\n",
       "        vertical-align: middle;\n",
       "    }\n",
       "\n",
       "    .dataframe tbody tr th {\n",
       "        vertical-align: top;\n",
       "    }\n",
       "\n",
       "    .dataframe thead th {\n",
       "        text-align: right;\n",
       "    }\n",
       "</style>\n",
       "<table border=\"1\" class=\"dataframe\">\n",
       "  <thead>\n",
       "    <tr style=\"text-align: right;\">\n",
       "      <th></th>\n",
       "      <th>ligand_atom_index</th>\n",
       "      <th>ligand_atom_name</th>\n",
       "      <th>ligand_chain</th>\n",
       "      <th>ligand_resID</th>\n",
       "      <th>ligand_resName</th>\n",
       "      <th>distance</th>\n",
       "      <th>receptor_atom_index</th>\n",
       "      <th>receptor_atom_name</th>\n",
       "      <th>receptor_chain</th>\n",
       "      <th>receptor_resID</th>\n",
       "      <th>receptor_resName</th>\n",
       "      <th>pdb</th>\n",
       "      <th>pose</th>\n",
       "    </tr>\n",
       "  </thead>\n",
       "  <tbody>\n",
       "    <tr>\n",
       "      <th>0</th>\n",
       "      <td>1.0</td>\n",
       "      <td>C2</td>\n",
       "      <td>d</td>\n",
       "      <td>0.0</td>\n",
       "      <td>UNN</td>\n",
       "      <td>3.537490</td>\n",
       "      <td>92.0</td>\n",
       "      <td>CG2</td>\n",
       "      <td>A</td>\n",
       "      <td>11.0</td>\n",
       "      <td>ILE</td>\n",
       "      <td>4eor</td>\n",
       "      <td>1</td>\n",
       "    </tr>\n",
       "    <tr>\n",
       "      <th>1</th>\n",
       "      <td>1.0</td>\n",
       "      <td>C2</td>\n",
       "      <td>d</td>\n",
       "      <td>0.0</td>\n",
       "      <td>UNN</td>\n",
       "      <td>3.918316</td>\n",
       "      <td>1056.0</td>\n",
       "      <td>CD2</td>\n",
       "      <td>A</td>\n",
       "      <td>131.0</td>\n",
       "      <td>LEU</td>\n",
       "      <td>4eor</td>\n",
       "      <td>1</td>\n",
       "    </tr>\n",
       "    <tr>\n",
       "      <th>2</th>\n",
       "      <td>3.0</td>\n",
       "      <td>N1</td>\n",
       "      <td>d</td>\n",
       "      <td>0.0</td>\n",
       "      <td>UNN</td>\n",
       "      <td>3.659126</td>\n",
       "      <td>92.0</td>\n",
       "      <td>CG2</td>\n",
       "      <td>A</td>\n",
       "      <td>11.0</td>\n",
       "      <td>ILE</td>\n",
       "      <td>4eor</td>\n",
       "      <td>1</td>\n",
       "    </tr>\n",
       "  </tbody>\n",
       "</table>\n",
       "</div>"
      ],
      "text/plain": [
       "   ligand_atom_index ligand_atom_name ligand_chain  ligand_resID  \\\n",
       "0                1.0               C2            d           0.0   \n",
       "1                1.0               C2            d           0.0   \n",
       "2                3.0               N1            d           0.0   \n",
       "\n",
       "  ligand_resName  distance  receptor_atom_index receptor_atom_name  \\\n",
       "0            UNN  3.537490                 92.0                CG2   \n",
       "1            UNN  3.918316               1056.0                CD2   \n",
       "2            UNN  3.659126                 92.0                CG2   \n",
       "\n",
       "  receptor_chain  receptor_resID receptor_resName   pdb pose  \n",
       "0              A            11.0              ILE  4eor    1  \n",
       "1              A           131.0              LEU  4eor    1  \n",
       "2              A            11.0              ILE  4eor    1  "
      ]
     },
     "execution_count": 53,
     "metadata": {},
     "output_type": "execute_result"
    }
   ],
   "source": [
    "df.head(3)"
   ]
  },
  {
   "cell_type": "code",
   "execution_count": 54,
   "id": "c58271ca-5a00-49c9-9347-e7d4b5fbe316",
   "metadata": {},
   "outputs": [],
   "source": [
    "df = pd.concat([df, global_encoding], axis = 1 )"
   ]
  },
  {
   "cell_type": "code",
   "execution_count": 55,
   "id": "b4cd3773-2ac9-4be2-9824-e21401865a44",
   "metadata": {},
   "outputs": [
    {
     "data": {
      "text/html": [
       "<div>\n",
       "<style scoped>\n",
       "    .dataframe tbody tr th:only-of-type {\n",
       "        vertical-align: middle;\n",
       "    }\n",
       "\n",
       "    .dataframe tbody tr th {\n",
       "        vertical-align: top;\n",
       "    }\n",
       "\n",
       "    .dataframe thead th {\n",
       "        text-align: right;\n",
       "    }\n",
       "</style>\n",
       "<table border=\"1\" class=\"dataframe\">\n",
       "  <thead>\n",
       "    <tr style=\"text-align: right;\">\n",
       "      <th></th>\n",
       "      <th>encoded_global_C</th>\n",
       "      <th>encoded_global_CA</th>\n",
       "      <th>encoded_global_CB</th>\n",
       "      <th>encoded_global_CD</th>\n",
       "      <th>encoded_global_CD1</th>\n",
       "      <th>encoded_global_CD2</th>\n",
       "      <th>encoded_global_CE</th>\n",
       "      <th>encoded_global_CE1</th>\n",
       "      <th>encoded_global_CE2</th>\n",
       "      <th>encoded_global_CE3</th>\n",
       "      <th>...</th>\n",
       "      <th>encoded_global_O</th>\n",
       "      <th>encoded_global_OD1</th>\n",
       "      <th>encoded_global_OD2</th>\n",
       "      <th>encoded_global_OE1</th>\n",
       "      <th>encoded_global_OE2</th>\n",
       "      <th>encoded_global_OG</th>\n",
       "      <th>encoded_global_OG1</th>\n",
       "      <th>encoded_global_OH</th>\n",
       "      <th>encoded_global_SD</th>\n",
       "      <th>encoded_global_SG</th>\n",
       "    </tr>\n",
       "  </thead>\n",
       "  <tbody>\n",
       "    <tr>\n",
       "      <th>0</th>\n",
       "      <td>0</td>\n",
       "      <td>0</td>\n",
       "      <td>0</td>\n",
       "      <td>0</td>\n",
       "      <td>0</td>\n",
       "      <td>0</td>\n",
       "      <td>0</td>\n",
       "      <td>0</td>\n",
       "      <td>0</td>\n",
       "      <td>0</td>\n",
       "      <td>...</td>\n",
       "      <td>0</td>\n",
       "      <td>0</td>\n",
       "      <td>0</td>\n",
       "      <td>0</td>\n",
       "      <td>0</td>\n",
       "      <td>0</td>\n",
       "      <td>0</td>\n",
       "      <td>0</td>\n",
       "      <td>0</td>\n",
       "      <td>0</td>\n",
       "    </tr>\n",
       "    <tr>\n",
       "      <th>1</th>\n",
       "      <td>0</td>\n",
       "      <td>0</td>\n",
       "      <td>0</td>\n",
       "      <td>0</td>\n",
       "      <td>0</td>\n",
       "      <td>1</td>\n",
       "      <td>0</td>\n",
       "      <td>0</td>\n",
       "      <td>0</td>\n",
       "      <td>0</td>\n",
       "      <td>...</td>\n",
       "      <td>0</td>\n",
       "      <td>0</td>\n",
       "      <td>0</td>\n",
       "      <td>0</td>\n",
       "      <td>0</td>\n",
       "      <td>0</td>\n",
       "      <td>0</td>\n",
       "      <td>0</td>\n",
       "      <td>0</td>\n",
       "      <td>0</td>\n",
       "    </tr>\n",
       "    <tr>\n",
       "      <th>2</th>\n",
       "      <td>0</td>\n",
       "      <td>0</td>\n",
       "      <td>0</td>\n",
       "      <td>0</td>\n",
       "      <td>0</td>\n",
       "      <td>0</td>\n",
       "      <td>0</td>\n",
       "      <td>0</td>\n",
       "      <td>0</td>\n",
       "      <td>0</td>\n",
       "      <td>...</td>\n",
       "      <td>0</td>\n",
       "      <td>0</td>\n",
       "      <td>0</td>\n",
       "      <td>0</td>\n",
       "      <td>0</td>\n",
       "      <td>0</td>\n",
       "      <td>0</td>\n",
       "      <td>0</td>\n",
       "      <td>0</td>\n",
       "      <td>0</td>\n",
       "    </tr>\n",
       "    <tr>\n",
       "      <th>3</th>\n",
       "      <td>0</td>\n",
       "      <td>0</td>\n",
       "      <td>0</td>\n",
       "      <td>0</td>\n",
       "      <td>1</td>\n",
       "      <td>0</td>\n",
       "      <td>0</td>\n",
       "      <td>0</td>\n",
       "      <td>0</td>\n",
       "      <td>0</td>\n",
       "      <td>...</td>\n",
       "      <td>0</td>\n",
       "      <td>0</td>\n",
       "      <td>0</td>\n",
       "      <td>0</td>\n",
       "      <td>0</td>\n",
       "      <td>0</td>\n",
       "      <td>0</td>\n",
       "      <td>0</td>\n",
       "      <td>0</td>\n",
       "      <td>0</td>\n",
       "    </tr>\n",
       "    <tr>\n",
       "      <th>4</th>\n",
       "      <td>0</td>\n",
       "      <td>0</td>\n",
       "      <td>0</td>\n",
       "      <td>0</td>\n",
       "      <td>0</td>\n",
       "      <td>0</td>\n",
       "      <td>0</td>\n",
       "      <td>0</td>\n",
       "      <td>0</td>\n",
       "      <td>0</td>\n",
       "      <td>...</td>\n",
       "      <td>1</td>\n",
       "      <td>0</td>\n",
       "      <td>0</td>\n",
       "      <td>0</td>\n",
       "      <td>0</td>\n",
       "      <td>0</td>\n",
       "      <td>0</td>\n",
       "      <td>0</td>\n",
       "      <td>0</td>\n",
       "      <td>0</td>\n",
       "    </tr>\n",
       "    <tr>\n",
       "      <th>...</th>\n",
       "      <td>...</td>\n",
       "      <td>...</td>\n",
       "      <td>...</td>\n",
       "      <td>...</td>\n",
       "      <td>...</td>\n",
       "      <td>...</td>\n",
       "      <td>...</td>\n",
       "      <td>...</td>\n",
       "      <td>...</td>\n",
       "      <td>...</td>\n",
       "      <td>...</td>\n",
       "      <td>...</td>\n",
       "      <td>...</td>\n",
       "      <td>...</td>\n",
       "      <td>...</td>\n",
       "      <td>...</td>\n",
       "      <td>...</td>\n",
       "      <td>...</td>\n",
       "      <td>...</td>\n",
       "      <td>...</td>\n",
       "      <td>...</td>\n",
       "    </tr>\n",
       "    <tr>\n",
       "      <th>31</th>\n",
       "      <td>0</td>\n",
       "      <td>0</td>\n",
       "      <td>0</td>\n",
       "      <td>0</td>\n",
       "      <td>0</td>\n",
       "      <td>0</td>\n",
       "      <td>1</td>\n",
       "      <td>0</td>\n",
       "      <td>0</td>\n",
       "      <td>0</td>\n",
       "      <td>...</td>\n",
       "      <td>0</td>\n",
       "      <td>0</td>\n",
       "      <td>0</td>\n",
       "      <td>0</td>\n",
       "      <td>0</td>\n",
       "      <td>0</td>\n",
       "      <td>0</td>\n",
       "      <td>0</td>\n",
       "      <td>0</td>\n",
       "      <td>0</td>\n",
       "    </tr>\n",
       "    <tr>\n",
       "      <th>32</th>\n",
       "      <td>0</td>\n",
       "      <td>0</td>\n",
       "      <td>0</td>\n",
       "      <td>0</td>\n",
       "      <td>0</td>\n",
       "      <td>0</td>\n",
       "      <td>0</td>\n",
       "      <td>0</td>\n",
       "      <td>0</td>\n",
       "      <td>0</td>\n",
       "      <td>...</td>\n",
       "      <td>0</td>\n",
       "      <td>0</td>\n",
       "      <td>0</td>\n",
       "      <td>0</td>\n",
       "      <td>0</td>\n",
       "      <td>0</td>\n",
       "      <td>0</td>\n",
       "      <td>0</td>\n",
       "      <td>0</td>\n",
       "      <td>0</td>\n",
       "    </tr>\n",
       "    <tr>\n",
       "      <th>33</th>\n",
       "      <td>0</td>\n",
       "      <td>0</td>\n",
       "      <td>0</td>\n",
       "      <td>0</td>\n",
       "      <td>0</td>\n",
       "      <td>0</td>\n",
       "      <td>1</td>\n",
       "      <td>0</td>\n",
       "      <td>0</td>\n",
       "      <td>0</td>\n",
       "      <td>...</td>\n",
       "      <td>0</td>\n",
       "      <td>0</td>\n",
       "      <td>0</td>\n",
       "      <td>0</td>\n",
       "      <td>0</td>\n",
       "      <td>0</td>\n",
       "      <td>0</td>\n",
       "      <td>0</td>\n",
       "      <td>0</td>\n",
       "      <td>0</td>\n",
       "    </tr>\n",
       "    <tr>\n",
       "      <th>34</th>\n",
       "      <td>0</td>\n",
       "      <td>0</td>\n",
       "      <td>0</td>\n",
       "      <td>0</td>\n",
       "      <td>0</td>\n",
       "      <td>0</td>\n",
       "      <td>0</td>\n",
       "      <td>0</td>\n",
       "      <td>0</td>\n",
       "      <td>0</td>\n",
       "      <td>...</td>\n",
       "      <td>0</td>\n",
       "      <td>0</td>\n",
       "      <td>0</td>\n",
       "      <td>0</td>\n",
       "      <td>0</td>\n",
       "      <td>0</td>\n",
       "      <td>0</td>\n",
       "      <td>0</td>\n",
       "      <td>0</td>\n",
       "      <td>0</td>\n",
       "    </tr>\n",
       "    <tr>\n",
       "      <th>35</th>\n",
       "      <td>0</td>\n",
       "      <td>0</td>\n",
       "      <td>1</td>\n",
       "      <td>0</td>\n",
       "      <td>0</td>\n",
       "      <td>0</td>\n",
       "      <td>0</td>\n",
       "      <td>0</td>\n",
       "      <td>0</td>\n",
       "      <td>0</td>\n",
       "      <td>...</td>\n",
       "      <td>0</td>\n",
       "      <td>0</td>\n",
       "      <td>0</td>\n",
       "      <td>0</td>\n",
       "      <td>0</td>\n",
       "      <td>0</td>\n",
       "      <td>0</td>\n",
       "      <td>0</td>\n",
       "      <td>0</td>\n",
       "      <td>0</td>\n",
       "    </tr>\n",
       "  </tbody>\n",
       "</table>\n",
       "<p>254050 rows × 79 columns</p>\n",
       "</div>"
      ],
      "text/plain": [
       "    encoded_global_C  encoded_global_CA  encoded_global_CB  encoded_global_CD  \\\n",
       "0                  0                  0                  0                  0   \n",
       "1                  0                  0                  0                  0   \n",
       "2                  0                  0                  0                  0   \n",
       "3                  0                  0                  0                  0   \n",
       "4                  0                  0                  0                  0   \n",
       "..               ...                ...                ...                ...   \n",
       "31                 0                  0                  0                  0   \n",
       "32                 0                  0                  0                  0   \n",
       "33                 0                  0                  0                  0   \n",
       "34                 0                  0                  0                  0   \n",
       "35                 0                  0                  1                  0   \n",
       "\n",
       "    encoded_global_CD1  encoded_global_CD2  encoded_global_CE  \\\n",
       "0                    0                   0                  0   \n",
       "1                    0                   1                  0   \n",
       "2                    0                   0                  0   \n",
       "3                    1                   0                  0   \n",
       "4                    0                   0                  0   \n",
       "..                 ...                 ...                ...   \n",
       "31                   0                   0                  1   \n",
       "32                   0                   0                  0   \n",
       "33                   0                   0                  1   \n",
       "34                   0                   0                  0   \n",
       "35                   0                   0                  0   \n",
       "\n",
       "    encoded_global_CE1  encoded_global_CE2  encoded_global_CE3  ...  \\\n",
       "0                    0                   0                   0  ...   \n",
       "1                    0                   0                   0  ...   \n",
       "2                    0                   0                   0  ...   \n",
       "3                    0                   0                   0  ...   \n",
       "4                    0                   0                   0  ...   \n",
       "..                 ...                 ...                 ...  ...   \n",
       "31                   0                   0                   0  ...   \n",
       "32                   0                   0                   0  ...   \n",
       "33                   0                   0                   0  ...   \n",
       "34                   0                   0                   0  ...   \n",
       "35                   0                   0                   0  ...   \n",
       "\n",
       "    encoded_global_O  encoded_global_OD1  encoded_global_OD2  \\\n",
       "0                  0                   0                   0   \n",
       "1                  0                   0                   0   \n",
       "2                  0                   0                   0   \n",
       "3                  0                   0                   0   \n",
       "4                  1                   0                   0   \n",
       "..               ...                 ...                 ...   \n",
       "31                 0                   0                   0   \n",
       "32                 0                   0                   0   \n",
       "33                 0                   0                   0   \n",
       "34                 0                   0                   0   \n",
       "35                 0                   0                   0   \n",
       "\n",
       "    encoded_global_OE1  encoded_global_OE2  encoded_global_OG  \\\n",
       "0                    0                   0                  0   \n",
       "1                    0                   0                  0   \n",
       "2                    0                   0                  0   \n",
       "3                    0                   0                  0   \n",
       "4                    0                   0                  0   \n",
       "..                 ...                 ...                ...   \n",
       "31                   0                   0                  0   \n",
       "32                   0                   0                  0   \n",
       "33                   0                   0                  0   \n",
       "34                   0                   0                  0   \n",
       "35                   0                   0                  0   \n",
       "\n",
       "    encoded_global_OG1  encoded_global_OH  encoded_global_SD  \\\n",
       "0                    0                  0                  0   \n",
       "1                    0                  0                  0   \n",
       "2                    0                  0                  0   \n",
       "3                    0                  0                  0   \n",
       "4                    0                  0                  0   \n",
       "..                 ...                ...                ...   \n",
       "31                   0                  0                  0   \n",
       "32                   0                  0                  0   \n",
       "33                   0                  0                  0   \n",
       "34                   0                  0                  0   \n",
       "35                   0                  0                  0   \n",
       "\n",
       "    encoded_global_SG  \n",
       "0                   0  \n",
       "1                   0  \n",
       "2                   0  \n",
       "3                   0  \n",
       "4                   0  \n",
       "..                ...  \n",
       "31                  0  \n",
       "32                  0  \n",
       "33                  0  \n",
       "34                  0  \n",
       "35                  0  \n",
       "\n",
       "[254050 rows x 79 columns]"
      ]
     },
     "execution_count": 55,
     "metadata": {},
     "output_type": "execute_result"
    }
   ],
   "source": [
    "df.iloc[:,13:]"
   ]
  },
  {
   "cell_type": "code",
   "execution_count": 56,
   "id": "0c4be3c4-c053-4d53-91cf-56b2e04cb6a2",
   "metadata": {},
   "outputs": [
    {
     "data": {
      "text/html": [
       "<div>\n",
       "<style scoped>\n",
       "    .dataframe tbody tr th:only-of-type {\n",
       "        vertical-align: middle;\n",
       "    }\n",
       "\n",
       "    .dataframe tbody tr th {\n",
       "        vertical-align: top;\n",
       "    }\n",
       "\n",
       "    .dataframe thead th {\n",
       "        text-align: right;\n",
       "    }\n",
       "</style>\n",
       "<table border=\"1\" class=\"dataframe\">\n",
       "  <thead>\n",
       "    <tr style=\"text-align: right;\">\n",
       "      <th></th>\n",
       "      <th>encoded_global_C</th>\n",
       "      <th>encoded_global_CA</th>\n",
       "      <th>encoded_global_CB</th>\n",
       "      <th>encoded_global_CD</th>\n",
       "      <th>encoded_global_CD1</th>\n",
       "      <th>encoded_global_CD2</th>\n",
       "      <th>encoded_global_CE</th>\n",
       "      <th>encoded_global_CE1</th>\n",
       "      <th>encoded_global_CE2</th>\n",
       "      <th>encoded_global_CE3</th>\n",
       "      <th>...</th>\n",
       "      <th>encoded_global_O</th>\n",
       "      <th>encoded_global_OD1</th>\n",
       "      <th>encoded_global_OD2</th>\n",
       "      <th>encoded_global_OE1</th>\n",
       "      <th>encoded_global_OE2</th>\n",
       "      <th>encoded_global_OG</th>\n",
       "      <th>encoded_global_OG1</th>\n",
       "      <th>encoded_global_OH</th>\n",
       "      <th>encoded_global_SD</th>\n",
       "      <th>encoded_global_SG</th>\n",
       "    </tr>\n",
       "  </thead>\n",
       "  <tbody>\n",
       "    <tr>\n",
       "      <th>0</th>\n",
       "      <td>0</td>\n",
       "      <td>0</td>\n",
       "      <td>0</td>\n",
       "      <td>0</td>\n",
       "      <td>0</td>\n",
       "      <td>0</td>\n",
       "      <td>0</td>\n",
       "      <td>0</td>\n",
       "      <td>0</td>\n",
       "      <td>0</td>\n",
       "      <td>...</td>\n",
       "      <td>0</td>\n",
       "      <td>0</td>\n",
       "      <td>0</td>\n",
       "      <td>0</td>\n",
       "      <td>0</td>\n",
       "      <td>0</td>\n",
       "      <td>0</td>\n",
       "      <td>0</td>\n",
       "      <td>0</td>\n",
       "      <td>0</td>\n",
       "    </tr>\n",
       "    <tr>\n",
       "      <th>1</th>\n",
       "      <td>0</td>\n",
       "      <td>0</td>\n",
       "      <td>0</td>\n",
       "      <td>0</td>\n",
       "      <td>0</td>\n",
       "      <td>1</td>\n",
       "      <td>0</td>\n",
       "      <td>0</td>\n",
       "      <td>0</td>\n",
       "      <td>0</td>\n",
       "      <td>...</td>\n",
       "      <td>0</td>\n",
       "      <td>0</td>\n",
       "      <td>0</td>\n",
       "      <td>0</td>\n",
       "      <td>0</td>\n",
       "      <td>0</td>\n",
       "      <td>0</td>\n",
       "      <td>0</td>\n",
       "      <td>0</td>\n",
       "      <td>0</td>\n",
       "    </tr>\n",
       "    <tr>\n",
       "      <th>2</th>\n",
       "      <td>0</td>\n",
       "      <td>0</td>\n",
       "      <td>0</td>\n",
       "      <td>0</td>\n",
       "      <td>0</td>\n",
       "      <td>0</td>\n",
       "      <td>0</td>\n",
       "      <td>0</td>\n",
       "      <td>0</td>\n",
       "      <td>0</td>\n",
       "      <td>...</td>\n",
       "      <td>0</td>\n",
       "      <td>0</td>\n",
       "      <td>0</td>\n",
       "      <td>0</td>\n",
       "      <td>0</td>\n",
       "      <td>0</td>\n",
       "      <td>0</td>\n",
       "      <td>0</td>\n",
       "      <td>0</td>\n",
       "      <td>0</td>\n",
       "    </tr>\n",
       "  </tbody>\n",
       "</table>\n",
       "<p>3 rows × 79 columns</p>\n",
       "</div>"
      ],
      "text/plain": [
       "   encoded_global_C  encoded_global_CA  encoded_global_CB  encoded_global_CD  \\\n",
       "0                 0                  0                  0                  0   \n",
       "1                 0                  0                  0                  0   \n",
       "2                 0                  0                  0                  0   \n",
       "\n",
       "   encoded_global_CD1  encoded_global_CD2  encoded_global_CE  \\\n",
       "0                   0                   0                  0   \n",
       "1                   0                   1                  0   \n",
       "2                   0                   0                  0   \n",
       "\n",
       "   encoded_global_CE1  encoded_global_CE2  encoded_global_CE3  ...  \\\n",
       "0                   0                   0                   0  ...   \n",
       "1                   0                   0                   0  ...   \n",
       "2                   0                   0                   0  ...   \n",
       "\n",
       "   encoded_global_O  encoded_global_OD1  encoded_global_OD2  \\\n",
       "0                 0                   0                   0   \n",
       "1                 0                   0                   0   \n",
       "2                 0                   0                   0   \n",
       "\n",
       "   encoded_global_OE1  encoded_global_OE2  encoded_global_OG  \\\n",
       "0                   0                   0                  0   \n",
       "1                   0                   0                  0   \n",
       "2                   0                   0                  0   \n",
       "\n",
       "   encoded_global_OG1  encoded_global_OH  encoded_global_SD  encoded_global_SG  \n",
       "0                   0                  0                  0                  0  \n",
       "1                   0                  0                  0                  0  \n",
       "2                   0                  0                  0                  0  \n",
       "\n",
       "[3 rows x 79 columns]"
      ]
     },
     "execution_count": 56,
     "metadata": {},
     "output_type": "execute_result"
    }
   ],
   "source": [
    "global_encoding.head(3)"
   ]
  },
  {
   "cell_type": "code",
   "execution_count": 57,
   "id": "1c669758-e47f-4792-841e-173ea2b40350",
   "metadata": {},
   "outputs": [
    {
     "data": {
      "text/plain": [
       "Series([], Name: receptor_atom_name, dtype: object)"
      ]
     },
     "execution_count": 57,
     "metadata": {},
     "output_type": "execute_result"
    }
   ],
   "source": [
    "df[(df['pdb']==pdb) & (df['pose']==str(pose))]['receptor_atom_name']"
   ]
  },
  {
   "cell_type": "code",
   "execution_count": 87,
   "id": "be31bfd1-c507-4bce-991a-0cf7854e7b15",
   "metadata": {
    "scrolled": true
   },
   "outputs": [
    {
     "name": "stderr",
     "output_type": "stream",
     "text": [
      "Processing PDBs:   0%|                                  | 0/284 [00:00<?, ?it/s]"
     ]
    },
    {
     "name": "stdout",
     "output_type": "stream",
     "text": [
      "4eor\n"
     ]
    },
    {
     "name": "stderr",
     "output_type": "stream",
     "text": [
      "Processing PDBs:   0%|                          | 1/284 [00:00<03:59,  1.18it/s]"
     ]
    },
    {
     "name": "stdout",
     "output_type": "stream",
     "text": [
      "2qbq\n"
     ]
    },
    {
     "name": "stderr",
     "output_type": "stream",
     "text": [
      "Processing PDBs:   1%|▏                         | 2/284 [00:01<03:22,  1.39it/s]"
     ]
    },
    {
     "name": "stdout",
     "output_type": "stream",
     "text": [
      "3g2n\n"
     ]
    },
    {
     "name": "stderr",
     "output_type": "stream",
     "text": [
      "Processing PDBs:   1%|▎                         | 3/284 [00:02<04:13,  1.11it/s]"
     ]
    },
    {
     "name": "stdout",
     "output_type": "stream",
     "text": [
      "1ydr\n"
     ]
    },
    {
     "name": "stderr",
     "output_type": "stream",
     "text": [
      "Processing PDBs:   1%|▎                         | 4/284 [00:03<03:52,  1.20it/s]"
     ]
    },
    {
     "name": "stdout",
     "output_type": "stream",
     "text": [
      "3uev\n"
     ]
    },
    {
     "name": "stderr",
     "output_type": "stream",
     "text": [
      "Processing PDBs:   2%|▍                         | 5/284 [00:03<03:32,  1.31it/s]"
     ]
    },
    {
     "name": "stdout",
     "output_type": "stream",
     "text": [
      "2xnb\n"
     ]
    },
    {
     "name": "stderr",
     "output_type": "stream",
     "text": [
      "Processing PDBs:   2%|▌                         | 6/284 [00:04<03:20,  1.39it/s]"
     ]
    },
    {
     "name": "stdout",
     "output_type": "stream",
     "text": [
      "3qqs\n"
     ]
    },
    {
     "name": "stderr",
     "output_type": "stream",
     "text": [
      "Processing PDBs:   2%|▋                         | 7/284 [00:05<03:15,  1.41it/s]"
     ]
    },
    {
     "name": "stdout",
     "output_type": "stream",
     "text": [
      "1w4o\n"
     ]
    },
    {
     "name": "stderr",
     "output_type": "stream",
     "text": [
      "Processing PDBs:   3%|▋                         | 8/284 [00:05<02:57,  1.55it/s]"
     ]
    },
    {
     "name": "stdout",
     "output_type": "stream",
     "text": [
      "4jxs\n"
     ]
    },
    {
     "name": "stderr",
     "output_type": "stream",
     "text": [
      "Processing PDBs:   3%|▊                         | 9/284 [00:06<03:03,  1.50it/s]"
     ]
    },
    {
     "name": "stdout",
     "output_type": "stream",
     "text": [
      "3zsx\n"
     ]
    },
    {
     "name": "stderr",
     "output_type": "stream",
     "text": [
      "Processing PDBs:   4%|▉                        | 10/284 [00:07<02:58,  1.53it/s]"
     ]
    },
    {
     "name": "stdout",
     "output_type": "stream",
     "text": [
      "3l7b\n"
     ]
    },
    {
     "name": "stderr",
     "output_type": "stream",
     "text": [
      "Processing PDBs:   4%|▉                        | 11/284 [00:09<04:52,  1.07s/it]"
     ]
    },
    {
     "name": "stdout",
     "output_type": "stream",
     "text": [
      "3pww\n"
     ]
    },
    {
     "name": "stderr",
     "output_type": "stream",
     "text": [
      "Processing PDBs:   4%|█                        | 12/284 [00:09<04:17,  1.06it/s]"
     ]
    },
    {
     "name": "stdout",
     "output_type": "stream",
     "text": [
      "4ih5\n"
     ]
    },
    {
     "name": "stderr",
     "output_type": "stream",
     "text": [
      "Processing PDBs:   5%|█▏                       | 13/284 [00:10<04:13,  1.07it/s]"
     ]
    },
    {
     "name": "stdout",
     "output_type": "stream",
     "text": [
      "4mme\n"
     ]
    },
    {
     "name": "stderr",
     "output_type": "stream",
     "text": [
      "Processing PDBs:   5%|█▏                       | 14/284 [00:11<04:10,  1.08it/s]"
     ]
    },
    {
     "name": "stdout",
     "output_type": "stream",
     "text": [
      "4de1\n"
     ]
    },
    {
     "name": "stderr",
     "output_type": "stream",
     "text": [
      "Processing PDBs:   5%|█▎                       | 15/284 [00:12<03:42,  1.21it/s][16:05:52] Explicit valence for atom # 0 N, 5, is greater than permitted\n"
     ]
    },
    {
     "name": "stdout",
     "output_type": "stream",
     "text": [
      "3gc5\n"
     ]
    },
    {
     "name": "stderr",
     "output_type": "stream",
     "text": [
      "[16:05:52] Explicit valence for atom # 0 N, 5, is greater than permitted\n",
      "[16:05:52] Explicit valence for atom # 0 N, 5, is greater than permitted\n",
      "[16:05:52] Explicit valence for atom # 0 N, 5, is greater than permitted\n",
      "[16:05:52] Explicit valence for atom # 0 N, 5, is greater than permitted\n",
      "[16:05:52] Explicit valence for atom # 0 N, 5, is greater than permitted\n",
      "[16:05:53] Explicit valence for atom # 0 N, 5, is greater than permitted\n",
      "[16:05:53] Explicit valence for atom # 0 N, 5, is greater than permitted\n",
      "[16:05:53] Explicit valence for atom # 0 N, 5, is greater than permitted\n",
      "[16:05:53] Explicit valence for atom # 0 N, 5, is greater than permitted\n",
      "Processing PDBs:   6%|█▍                       | 16/284 [00:13<04:30,  1.01s/it]"
     ]
    },
    {
     "name": "stdout",
     "output_type": "stream",
     "text": [
      "4djv\n"
     ]
    },
    {
     "name": "stderr",
     "output_type": "stream",
     "text": [
      "Processing PDBs:   6%|█▍                       | 17/284 [00:14<04:18,  1.03it/s]"
     ]
    },
    {
     "name": "stdout",
     "output_type": "stream",
     "text": [
      "2vvn\n"
     ]
    },
    {
     "name": "stderr",
     "output_type": "stream",
     "text": [
      "Processing PDBs:   6%|█▌                       | 18/284 [00:15<04:31,  1.02s/it]"
     ]
    },
    {
     "name": "stdout",
     "output_type": "stream",
     "text": [
      "3b68\n"
     ]
    },
    {
     "name": "stderr",
     "output_type": "stream",
     "text": [
      "Processing PDBs:   7%|█▋                       | 19/284 [00:16<03:59,  1.11it/s]"
     ]
    },
    {
     "name": "stdout",
     "output_type": "stream",
     "text": [
      "1owh\n"
     ]
    },
    {
     "name": "stderr",
     "output_type": "stream",
     "text": [
      "Processing PDBs:   7%|█▊                       | 20/284 [00:16<03:36,  1.22it/s]"
     ]
    },
    {
     "name": "stdout",
     "output_type": "stream",
     "text": [
      "4dld\n"
     ]
    },
    {
     "name": "stderr",
     "output_type": "stream",
     "text": [
      "Processing PDBs:   7%|█▊                       | 21/284 [00:17<03:35,  1.22it/s][16:05:57] Explicit valence for atom # 0 N, 5, is greater than permitted\n",
      "[16:05:57] Explicit valence for atom # 0 N, 5, is greater than permitted\n",
      "[16:05:57] Explicit valence for atom # 0 N, 5, is greater than permitted\n"
     ]
    },
    {
     "name": "stdout",
     "output_type": "stream",
     "text": [
      "2zda\n"
     ]
    },
    {
     "name": "stderr",
     "output_type": "stream",
     "text": [
      "[16:05:57] Explicit valence for atom # 0 N, 5, is greater than permitted\n",
      "[16:05:58] Explicit valence for atom # 0 N, 5, is greater than permitted\n",
      "[16:05:58] Explicit valence for atom # 0 N, 5, is greater than permitted\n",
      "[16:05:58] Explicit valence for atom # 0 N, 5, is greater than permitted\n",
      "[16:05:58] Explicit valence for atom # 0 N, 5, is greater than permitted\n",
      "[16:05:58] Explicit valence for atom # 0 N, 5, is greater than permitted\n",
      "[16:05:58] Explicit valence for atom # 0 N, 5, is greater than permitted\n",
      "Processing PDBs:   8%|█▉                       | 22/284 [00:18<03:31,  1.24it/s]"
     ]
    },
    {
     "name": "stdout",
     "output_type": "stream",
     "text": [
      "1g2k\n"
     ]
    },
    {
     "name": "stderr",
     "output_type": "stream",
     "text": [
      "Processing PDBs:   8%|██                       | 23/284 [00:19<03:11,  1.36it/s]"
     ]
    },
    {
     "name": "stdout",
     "output_type": "stream",
     "text": [
      "4gr0\n"
     ]
    },
    {
     "name": "stderr",
     "output_type": "stream",
     "text": [
      "Processing PDBs:   8%|██                       | 24/284 [00:19<02:57,  1.46it/s]"
     ]
    },
    {
     "name": "stdout",
     "output_type": "stream",
     "text": [
      "2vw5\n"
     ]
    },
    {
     "name": "stderr",
     "output_type": "stream",
     "text": [
      "Processing PDBs:   9%|██▏                      | 25/284 [00:20<02:48,  1.54it/s]"
     ]
    },
    {
     "name": "stdout",
     "output_type": "stream",
     "text": [
      "3gv9\n"
     ]
    },
    {
     "name": "stderr",
     "output_type": "stream",
     "text": [
      "Processing PDBs:   9%|██▎                      | 26/284 [00:20<02:53,  1.49it/s]"
     ]
    },
    {
     "name": "stdout",
     "output_type": "stream",
     "text": [
      "2fxs\n"
     ]
    },
    {
     "name": "stderr",
     "output_type": "stream",
     "text": [
      "Processing PDBs:  10%|██▍                      | 27/284 [00:21<02:44,  1.56it/s]"
     ]
    },
    {
     "name": "stdout",
     "output_type": "stream",
     "text": [
      "4f09\n"
     ]
    },
    {
     "name": "stderr",
     "output_type": "stream",
     "text": [
      "Processing PDBs:  10%|██▍                      | 28/284 [00:22<02:44,  1.56it/s]"
     ]
    },
    {
     "name": "stdout",
     "output_type": "stream",
     "text": [
      "4de3\n"
     ]
    },
    {
     "name": "stderr",
     "output_type": "stream",
     "text": [
      "Processing PDBs:  10%|██▌                      | 29/284 [00:22<02:39,  1.60it/s]"
     ]
    },
    {
     "name": "stdout",
     "output_type": "stream",
     "text": [
      "3rsx\n"
     ]
    },
    {
     "name": "stderr",
     "output_type": "stream",
     "text": [
      "Processing PDBs:  11%|██▋                      | 30/284 [00:23<02:51,  1.48it/s][16:06:03] Explicit valence for atom # 0 N, 5, is greater than permitted\n"
     ]
    },
    {
     "name": "stdout",
     "output_type": "stream",
     "text": [
      "3u8n\n"
     ]
    },
    {
     "name": "stderr",
     "output_type": "stream",
     "text": [
      "[16:06:03] Explicit valence for atom # 0 N, 5, is greater than permitted\n",
      "[16:06:03] Explicit valence for atom # 0 N, 5, is greater than permitted\n",
      "[16:06:04] Explicit valence for atom # 0 N, 5, is greater than permitted\n",
      "[16:06:04] Explicit valence for atom # 0 N, 5, is greater than permitted\n",
      "[16:06:04] Explicit valence for atom # 0 N, 5, is greater than permitted\n",
      "[16:06:04] Explicit valence for atom # 0 N, 5, is greater than permitted\n",
      "[16:06:04] Explicit valence for atom # 0 N, 5, is greater than permitted\n",
      "[16:06:04] Explicit valence for atom # 0 N, 5, is greater than permitted\n",
      "[16:06:04] Explicit valence for atom # 0 N, 5, is greater than permitted\n",
      "Processing PDBs:  11%|██▋                      | 31/284 [00:25<03:55,  1.08it/s]"
     ]
    },
    {
     "name": "stdout",
     "output_type": "stream",
     "text": [
      "2cet\n"
     ]
    },
    {
     "name": "stderr",
     "output_type": "stream",
     "text": [
      "Processing PDBs:  11%|██▊                      | 32/284 [00:25<03:46,  1.11it/s][16:06:05] Explicit valence for atom # 4 C, 5, is greater than permitted\n",
      "[16:06:05] Explicit valence for atom # 4 C, 5, is greater than permitted\n",
      "[16:06:05] Explicit valence for atom # 4 C, 5, is greater than permitted\n"
     ]
    },
    {
     "name": "stdout",
     "output_type": "stream",
     "text": [
      "5c2h\n"
     ]
    },
    {
     "name": "stderr",
     "output_type": "stream",
     "text": [
      "[16:06:06] Explicit valence for atom # 4 C, 5, is greater than permitted\n",
      "[16:06:06] Explicit valence for atom # 4 C, 5, is greater than permitted\n",
      "[16:06:06] Explicit valence for atom # 4 C, 5, is greater than permitted\n",
      "[16:06:06] Explicit valence for atom # 4 C, 5, is greater than permitted\n",
      "[16:06:06] Explicit valence for atom # 4 C, 5, is greater than permitted\n",
      "[16:06:06] Explicit valence for atom # 4 C, 5, is greater than permitted\n",
      "[16:06:06] Explicit valence for atom # 4 C, 5, is greater than permitted\n",
      "Processing PDBs:  12%|██▉                      | 33/284 [00:26<03:33,  1.18it/s]"
     ]
    },
    {
     "name": "stdout",
     "output_type": "stream",
     "text": [
      "5c28\n"
     ]
    },
    {
     "name": "stderr",
     "output_type": "stream",
     "text": [
      "Processing PDBs:  12%|██▉                      | 34/284 [00:27<03:24,  1.22it/s]"
     ]
    },
    {
     "name": "stdout",
     "output_type": "stream",
     "text": [
      "3zt2\n"
     ]
    },
    {
     "name": "stderr",
     "output_type": "stream",
     "text": [
      "Processing PDBs:  12%|███                      | 35/284 [00:27<03:10,  1.31it/s]"
     ]
    },
    {
     "name": "stdout",
     "output_type": "stream",
     "text": [
      "2r9w\n"
     ]
    },
    {
     "name": "stderr",
     "output_type": "stream",
     "text": [
      "Processing PDBs:  13%|███▏                     | 36/284 [00:28<03:09,  1.31it/s]"
     ]
    },
    {
     "name": "stdout",
     "output_type": "stream",
     "text": [
      "2br1\n"
     ]
    },
    {
     "name": "stderr",
     "output_type": "stream",
     "text": [
      "Processing PDBs:  13%|███▎                     | 37/284 [00:29<02:59,  1.37it/s]"
     ]
    },
    {
     "name": "stdout",
     "output_type": "stream",
     "text": [
      "3f3e\n"
     ]
    },
    {
     "name": "stderr",
     "output_type": "stream",
     "text": [
      "Processing PDBs:  13%|███▎                     | 38/284 [00:30<03:54,  1.05it/s]"
     ]
    },
    {
     "name": "stdout",
     "output_type": "stream",
     "text": [
      "1ydt\n"
     ]
    },
    {
     "name": "stderr",
     "output_type": "stream",
     "text": [
      "Processing PDBs:  14%|███▍                     | 39/284 [00:31<03:39,  1.12it/s]"
     ]
    },
    {
     "name": "stdout",
     "output_type": "stream",
     "text": [
      "2zcq\n"
     ]
    },
    {
     "name": "stderr",
     "output_type": "stream",
     "text": [
      "Processing PDBs:  14%|███▌                     | 40/284 [00:32<03:23,  1.20it/s]"
     ]
    },
    {
     "name": "stdout",
     "output_type": "stream",
     "text": [
      "1qf1\n"
     ]
    },
    {
     "name": "stderr",
     "output_type": "stream",
     "text": [
      "Processing PDBs:  14%|███▌                     | 41/284 [00:33<03:13,  1.26it/s]"
     ]
    },
    {
     "name": "stdout",
     "output_type": "stream",
     "text": [
      "5a7b\n"
     ]
    },
    {
     "name": "stderr",
     "output_type": "stream",
     "text": [
      "Processing PDBs:  15%|███▋                     | 42/284 [00:33<02:57,  1.37it/s]"
     ]
    },
    {
     "name": "stdout",
     "output_type": "stream",
     "text": [
      "4j3l\n"
     ]
    },
    {
     "name": "stderr",
     "output_type": "stream",
     "text": [
      "Processing PDBs:  15%|███▊                     | 43/284 [00:34<02:45,  1.45it/s][16:06:14] Explicit valence for atom # 0 N, 5, is greater than permitted\n",
      "[16:06:14] Explicit valence for atom # 0 N, 5, is greater than permitted\n"
     ]
    },
    {
     "name": "stdout",
     "output_type": "stream",
     "text": [
      "3ary\n"
     ]
    },
    {
     "name": "stderr",
     "output_type": "stream",
     "text": [
      "[16:06:14] Explicit valence for atom # 0 N, 5, is greater than permitted\n",
      "[16:06:14] Explicit valence for atom # 0 N, 5, is greater than permitted\n",
      "[16:06:14] Explicit valence for atom # 0 N, 5, is greater than permitted\n",
      "[16:06:14] Explicit valence for atom # 0 N, 5, is greater than permitted\n",
      "[16:06:14] Explicit valence for atom # 0 N, 5, is greater than permitted\n",
      "[16:06:14] Explicit valence for atom # 0 N, 5, is greater than permitted\n",
      "[16:06:15] Explicit valence for atom # 0 N, 5, is greater than permitted\n",
      "[16:06:15] Explicit valence for atom # 0 N, 5, is greater than permitted\n",
      "Processing PDBs:  15%|███▊                     | 44/284 [00:35<03:09,  1.27it/s]"
     ]
    },
    {
     "name": "stdout",
     "output_type": "stream",
     "text": [
      "2fvd\n"
     ]
    },
    {
     "name": "stderr",
     "output_type": "stream",
     "text": [
      "Processing PDBs:  16%|███▉                     | 45/284 [00:35<02:58,  1.34it/s]"
     ]
    },
    {
     "name": "stdout",
     "output_type": "stream",
     "text": [
      "4qd6\n"
     ]
    },
    {
     "name": "stderr",
     "output_type": "stream",
     "text": [
      "Processing PDBs:  16%|████                     | 46/284 [00:36<02:47,  1.42it/s]"
     ]
    },
    {
     "name": "stdout",
     "output_type": "stream",
     "text": [
      "3gbb\n"
     ]
    },
    {
     "name": "stderr",
     "output_type": "stream",
     "text": [
      "Processing PDBs:  17%|████▏                    | 47/284 [00:37<02:42,  1.46it/s]"
     ]
    },
    {
     "name": "stdout",
     "output_type": "stream",
     "text": [
      "4agn\n"
     ]
    },
    {
     "name": "stderr",
     "output_type": "stream",
     "text": [
      "Processing PDBs:  17%|████▏                    | 48/284 [00:37<02:34,  1.53it/s]"
     ]
    },
    {
     "name": "stdout",
     "output_type": "stream",
     "text": [
      "4gfm\n"
     ]
    },
    {
     "name": "stderr",
     "output_type": "stream",
     "text": [
      "Processing PDBs:  17%|████▎                    | 49/284 [00:38<02:37,  1.49it/s]"
     ]
    },
    {
     "name": "stdout",
     "output_type": "stream",
     "text": [
      "3fur\n"
     ]
    },
    {
     "name": "stderr",
     "output_type": "stream",
     "text": [
      "Processing PDBs:  18%|████▍                    | 50/284 [00:39<02:33,  1.52it/s]"
     ]
    },
    {
     "name": "stdout",
     "output_type": "stream",
     "text": [
      "3fv2\n"
     ]
    },
    {
     "name": "stderr",
     "output_type": "stream",
     "text": [
      "Processing PDBs:  18%|████▍                    | 51/284 [00:39<02:31,  1.54it/s]"
     ]
    },
    {
     "name": "stdout",
     "output_type": "stream",
     "text": [
      "2ymd\n"
     ]
    },
    {
     "name": "stderr",
     "output_type": "stream",
     "text": [
      "[16:06:19] Explicit valence for atom # 0 N, 5, is greater than permitted\n",
      "[16:06:20] Explicit valence for atom # 0 N, 5, is greater than permitted\n",
      "[16:06:20] Explicit valence for atom # 0 N, 5, is greater than permitted\n",
      "[16:06:20] Explicit valence for atom # 0 N, 5, is greater than permitted\n",
      "[16:06:20] Explicit valence for atom # 0 N, 5, is greater than permitted\n",
      "[16:06:21] Explicit valence for atom # 0 N, 5, is greater than permitted\n",
      "[16:06:21] Explicit valence for atom # 0 N, 5, is greater than permitted\n",
      "[16:06:21] Explicit valence for atom # 0 N, 5, is greater than permitted\n",
      "[16:06:22] Explicit valence for atom # 0 N, 5, is greater than permitted\n",
      "[16:06:22] Explicit valence for atom # 0 N, 5, is greater than permitted\n",
      "Processing PDBs:  18%|████▌                    | 52/284 [00:42<05:00,  1.30s/it]"
     ]
    },
    {
     "name": "stdout",
     "output_type": "stream",
     "text": [
      "3jvr\n"
     ]
    },
    {
     "name": "stderr",
     "output_type": "stream",
     "text": [
      "Processing PDBs:  19%|████▋                    | 53/284 [00:43<04:16,  1.11s/it]"
     ]
    },
    {
     "name": "stdout",
     "output_type": "stream",
     "text": [
      "3ehy\n"
     ]
    },
    {
     "name": "stderr",
     "output_type": "stream",
     "text": [
      "Processing PDBs:  19%|████▊                    | 54/284 [00:43<03:39,  1.05it/s]"
     ]
    },
    {
     "name": "stdout",
     "output_type": "stream",
     "text": [
      "3ao4\n"
     ]
    },
    {
     "name": "stderr",
     "output_type": "stream",
     "text": [
      "Processing PDBs:  19%|████▊                    | 55/284 [00:44<03:15,  1.17it/s]"
     ]
    },
    {
     "name": "stdout",
     "output_type": "stream",
     "text": [
      "2qbr\n"
     ]
    },
    {
     "name": "stderr",
     "output_type": "stream",
     "text": [
      "Processing PDBs:  20%|████▉                    | 56/284 [00:45<03:02,  1.25it/s]"
     ]
    },
    {
     "name": "stdout",
     "output_type": "stream",
     "text": [
      "4agp\n"
     ]
    },
    {
     "name": "stderr",
     "output_type": "stream",
     "text": [
      "Processing PDBs:  20%|█████                    | 57/284 [00:45<02:48,  1.35it/s]"
     ]
    },
    {
     "name": "stdout",
     "output_type": "stream",
     "text": [
      "4ogj\n"
     ]
    },
    {
     "name": "stderr",
     "output_type": "stream",
     "text": [
      "Processing PDBs:  20%|█████                    | 58/284 [00:46<02:33,  1.47it/s][16:06:26] Explicit valence for atom # 0 N, 5, is greater than permitted\n",
      "[16:06:26] Explicit valence for atom # 0 N, 5, is greater than permitted\n",
      "[16:06:26] Explicit valence for atom # 0 N, 5, is greater than permitted\n"
     ]
    },
    {
     "name": "stdout",
     "output_type": "stream",
     "text": [
      "4k18\n"
     ]
    },
    {
     "name": "stderr",
     "output_type": "stream",
     "text": [
      "[16:06:26] Explicit valence for atom # 0 N, 5, is greater than permitted\n",
      "[16:06:26] Explicit valence for atom # 0 N, 5, is greater than permitted\n",
      "[16:06:26] Explicit valence for atom # 0 N, 5, is greater than permitted\n",
      "[16:06:26] Explicit valence for atom # 0 N, 5, is greater than permitted\n",
      "[16:06:26] Explicit valence for atom # 0 N, 5, is greater than permitted\n",
      "[16:06:26] Explicit valence for atom # 0 N, 5, is greater than permitted\n",
      "[16:06:26] Explicit valence for atom # 0 N, 5, is greater than permitted\n",
      "Processing PDBs:  21%|█████▏                   | 59/284 [00:46<02:40,  1.40it/s]"
     ]
    },
    {
     "name": "stdout",
     "output_type": "stream",
     "text": [
      "3ui7\n"
     ]
    },
    {
     "name": "stderr",
     "output_type": "stream",
     "text": [
      "Processing PDBs:  21%|█████▎                   | 60/284 [00:47<02:43,  1.37it/s]"
     ]
    },
    {
     "name": "stdout",
     "output_type": "stream",
     "text": [
      "1vso\n"
     ]
    },
    {
     "name": "stderr",
     "output_type": "stream",
     "text": [
      "Processing PDBs:  21%|█████▎                   | 61/284 [00:48<02:49,  1.31it/s]"
     ]
    },
    {
     "name": "stdout",
     "output_type": "stream",
     "text": [
      "3fv1\n"
     ]
    },
    {
     "name": "stderr",
     "output_type": "stream",
     "text": [
      "Processing PDBs:  22%|█████▍                   | 62/284 [00:49<02:41,  1.37it/s]"
     ]
    },
    {
     "name": "stdout",
     "output_type": "stream",
     "text": [
      "4e5w\n"
     ]
    },
    {
     "name": "stderr",
     "output_type": "stream",
     "text": [
      "Processing PDBs:  22%|█████▌                   | 63/284 [00:50<02:53,  1.27it/s][16:06:30] Explicit valence for atom # 0 N, 5, is greater than permitted\n",
      "[16:06:30] Explicit valence for atom # 0 N, 5, is greater than permitted\n",
      "[16:06:30] Explicit valence for atom # 0 N, 5, is greater than permitted\n"
     ]
    },
    {
     "name": "stdout",
     "output_type": "stream",
     "text": [
      "2v7a\n"
     ]
    },
    {
     "name": "stderr",
     "output_type": "stream",
     "text": [
      "[16:06:30] Explicit valence for atom # 0 N, 5, is greater than permitted\n",
      "[16:06:30] Explicit valence for atom # 0 N, 5, is greater than permitted\n",
      "[16:06:30] Explicit valence for atom # 0 N, 5, is greater than permitted\n",
      "[16:06:30] Explicit valence for atom # 0 N, 5, is greater than permitted\n",
      "[16:06:30] Explicit valence for atom # 0 N, 5, is greater than permitted\n",
      "[16:06:30] Explicit valence for atom # 0 N, 5, is greater than permitted\n",
      "[16:06:30] Explicit valence for atom # 0 N, 5, is greater than permitted\n",
      "Processing PDBs:  23%|█████▋                   | 64/284 [00:50<02:51,  1.28it/s]"
     ]
    },
    {
     "name": "stdout",
     "output_type": "stream",
     "text": [
      "1a30\n"
     ]
    },
    {
     "name": "stderr",
     "output_type": "stream",
     "text": [
      "Processing PDBs:  23%|█████▋                   | 65/284 [00:51<02:36,  1.40it/s]"
     ]
    },
    {
     "name": "stdout",
     "output_type": "stream",
     "text": [
      "1ps3\n"
     ]
    },
    {
     "name": "stderr",
     "output_type": "stream",
     "text": [
      "Processing PDBs:  23%|█████▊                   | 66/284 [01:00<11:28,  3.16s/it]"
     ]
    },
    {
     "name": "stdout",
     "output_type": "stream",
     "text": [
      "1e66\n"
     ]
    },
    {
     "name": "stderr",
     "output_type": "stream",
     "text": [
      "Processing PDBs:  24%|█████▉                   | 67/284 [01:02<10:13,  2.83s/it]"
     ]
    },
    {
     "name": "stdout",
     "output_type": "stream",
     "text": [
      "2al5\n"
     ]
    },
    {
     "name": "stderr",
     "output_type": "stream",
     "text": [
      "Processing PDBs:  24%|█████▉                   | 68/284 [01:03<08:03,  2.24s/it]"
     ]
    },
    {
     "name": "stdout",
     "output_type": "stream",
     "text": [
      "1u1b\n"
     ]
    },
    {
     "name": "stderr",
     "output_type": "stream",
     "text": [
      "Processing PDBs:  24%|██████                   | 69/284 [01:03<06:11,  1.73s/it][16:06:43] Explicit valence for atom # 0 N, 5, is greater than permitted\n",
      "[16:06:43] Explicit valence for atom # 0 N, 5, is greater than permitted\n",
      "[16:06:43] Explicit valence for atom # 0 N, 5, is greater than permitted\n"
     ]
    },
    {
     "name": "stdout",
     "output_type": "stream",
     "text": [
      "3utu\n"
     ]
    },
    {
     "name": "stderr",
     "output_type": "stream",
     "text": [
      "[16:06:43] Explicit valence for atom # 0 N, 5, is greater than permitted\n",
      "[16:06:44] Explicit valence for atom # 0 N, 5, is greater than permitted\n",
      "[16:06:44] Explicit valence for atom # 0 N, 5, is greater than permitted\n",
      "[16:06:44] Explicit valence for atom # 0 N, 5, is greater than permitted\n",
      "[16:06:44] Explicit valence for atom # 0 N, 5, is greater than permitted\n",
      "[16:06:44] Explicit valence for atom # 0 N, 5, is greater than permitted\n",
      "[16:06:44] Explicit valence for atom # 0 N, 5, is greater than permitted\n",
      "Processing PDBs:  25%|██████▏                  | 70/284 [01:04<05:10,  1.45s/it][16:06:44] Explicit valence for atom # 0 N, 5, is greater than permitted\n",
      "[16:06:44] Explicit valence for atom # 0 N, 5, is greater than permitted\n",
      "[16:06:44] Explicit valence for atom # 0 N, 5, is greater than permitted\n"
     ]
    },
    {
     "name": "stdout",
     "output_type": "stream",
     "text": [
      "3ryj\n"
     ]
    },
    {
     "name": "stderr",
     "output_type": "stream",
     "text": [
      "[16:06:44] Explicit valence for atom # 0 N, 5, is greater than permitted\n",
      "[16:06:44] Explicit valence for atom # 0 N, 5, is greater than permitted\n",
      "[16:06:44] Explicit valence for atom # 0 N, 5, is greater than permitted\n",
      "[16:06:44] Explicit valence for atom # 0 N, 5, is greater than permitted\n",
      "[16:06:45] Explicit valence for atom # 0 N, 5, is greater than permitted\n",
      "[16:06:45] Explicit valence for atom # 0 N, 5, is greater than permitted\n",
      "[16:06:45] Explicit valence for atom # 0 N, 5, is greater than permitted\n",
      "Processing PDBs:  25%|██████▎                  | 71/284 [01:05<04:22,  1.23s/it]"
     ]
    },
    {
     "name": "stdout",
     "output_type": "stream",
     "text": [
      "2x00\n"
     ]
    },
    {
     "name": "stderr",
     "output_type": "stream",
     "text": [
      "[16:06:45] Explicit valence for atom # 0 N, 5, is greater than permitted\n",
      "[16:06:45] Explicit valence for atom # 0 N, 5, is greater than permitted\n",
      "[16:06:45] Explicit valence for atom # 0 N, 5, is greater than permitted\n",
      "[16:06:45] Explicit valence for atom # 0 N, 5, is greater than permitted\n",
      "[16:06:46] Explicit valence for atom # 0 N, 5, is greater than permitted\n",
      "[16:06:46] Explicit valence for atom # 0 N, 5, is greater than permitted\n",
      "[16:06:46] Explicit valence for atom # 0 N, 5, is greater than permitted\n",
      "[16:06:46] Explicit valence for atom # 0 N, 5, is greater than permitted\n",
      "[16:06:46] Explicit valence for atom # 0 N, 5, is greater than permitted\n",
      "[16:06:46] Explicit valence for atom # 0 N, 5, is greater than permitted\n",
      "Processing PDBs:  25%|██████▎                  | 72/284 [01:07<04:50,  1.37s/it]"
     ]
    },
    {
     "name": "stdout",
     "output_type": "stream",
     "text": [
      "4wiv\n"
     ]
    },
    {
     "name": "stderr",
     "output_type": "stream",
     "text": [
      "Processing PDBs:  26%|██████▍                  | 73/284 [01:07<03:55,  1.11s/it]"
     ]
    },
    {
     "name": "stdout",
     "output_type": "stream",
     "text": [
      "4w9i\n"
     ]
    },
    {
     "name": "stderr",
     "output_type": "stream",
     "text": [
      "Processing PDBs:  26%|██████▌                  | 74/284 [01:08<03:24,  1.03it/s]"
     ]
    },
    {
     "name": "stdout",
     "output_type": "stream",
     "text": [
      "4cr9\n"
     ]
    },
    {
     "name": "stderr",
     "output_type": "stream",
     "text": [
      "Processing PDBs:  26%|██████▌                  | 75/284 [01:09<03:15,  1.07it/s]"
     ]
    },
    {
     "name": "stdout",
     "output_type": "stream",
     "text": [
      "4u4s\n"
     ]
    },
    {
     "name": "stderr",
     "output_type": "stream",
     "text": [
      "Processing PDBs:  27%|██████▋                  | 76/284 [01:09<03:08,  1.10it/s]"
     ]
    },
    {
     "name": "stdout",
     "output_type": "stream",
     "text": [
      "3dx1\n"
     ]
    },
    {
     "name": "stderr",
     "output_type": "stream",
     "text": [
      "Processing PDBs:  27%|██████▊                  | 77/284 [01:19<11:44,  3.41s/it][16:06:59] Explicit valence for atom # 0 N, 5, is greater than permitted\n",
      "[16:06:59] Explicit valence for atom # 0 N, 5, is greater than permitted\n"
     ]
    },
    {
     "name": "stdout",
     "output_type": "stream",
     "text": [
      "3k5v\n"
     ]
    },
    {
     "name": "stderr",
     "output_type": "stream",
     "text": [
      "[16:06:59] Explicit valence for atom # 0 N, 5, is greater than permitted\n",
      "[16:06:59] Explicit valence for atom # 0 N, 5, is greater than permitted\n",
      "[16:06:59] Explicit valence for atom # 0 N, 5, is greater than permitted\n",
      "[16:06:59] Explicit valence for atom # 0 N, 5, is greater than permitted\n",
      "[16:06:59] Explicit valence for atom # 0 N, 5, is greater than permitted\n",
      "[16:06:59] Explicit valence for atom # 0 N, 5, is greater than permitted\n",
      "[16:06:59] Explicit valence for atom # 0 N, 5, is greater than permitted\n",
      "[16:06:59] Explicit valence for atom # 0 N, 5, is greater than permitted\n",
      "Processing PDBs:  27%|██████▊                  | 78/284 [01:20<09:12,  2.68s/it][16:07:00] Explicit valence for atom # 0 N, 5, is greater than permitted\n",
      "[16:07:00] Explicit valence for atom # 0 N, 5, is greater than permitted\n"
     ]
    },
    {
     "name": "stdout",
     "output_type": "stream",
     "text": [
      "1oyt\n"
     ]
    },
    {
     "name": "stderr",
     "output_type": "stream",
     "text": [
      "[16:07:00] Explicit valence for atom # 0 N, 5, is greater than permitted\n",
      "[16:07:00] Explicit valence for atom # 0 N, 5, is greater than permitted\n",
      "[16:07:00] Explicit valence for atom # 0 N, 5, is greater than permitted\n",
      "[16:07:00] Explicit valence for atom # 0 N, 5, is greater than permitted\n",
      "[16:07:00] Explicit valence for atom # 0 N, 5, is greater than permitted\n",
      "[16:07:00] Explicit valence for atom # 0 N, 5, is greater than permitted\n",
      "[16:07:00] Explicit valence for atom # 0 N, 5, is greater than permitted\n",
      "[16:07:00] Explicit valence for atom # 0 N, 5, is greater than permitted\n",
      "Processing PDBs:  28%|██████▉                  | 79/284 [01:20<07:15,  2.12s/it]"
     ]
    },
    {
     "name": "stdout",
     "output_type": "stream",
     "text": [
      "1qkt\n"
     ]
    },
    {
     "name": "stderr",
     "output_type": "stream",
     "text": [
      "Processing PDBs:  28%|███████                  | 80/284 [01:21<05:55,  1.74s/it]"
     ]
    },
    {
     "name": "stdout",
     "output_type": "stream",
     "text": [
      "3zso\n"
     ]
    },
    {
     "name": "stderr",
     "output_type": "stream",
     "text": [
      "Processing PDBs:  29%|███████▏                 | 81/284 [01:22<04:48,  1.42s/it][16:07:02] Explicit valence for atom # 0 N, 5, is greater than permitted\n",
      "[16:07:02] Explicit valence for atom # 0 N, 5, is greater than permitted\n",
      "[16:07:02] Explicit valence for atom # 0 N, 5, is greater than permitted\n"
     ]
    },
    {
     "name": "stdout",
     "output_type": "stream",
     "text": [
      "4ty7\n"
     ]
    },
    {
     "name": "stderr",
     "output_type": "stream",
     "text": [
      "[16:07:02] Explicit valence for atom # 0 N, 5, is greater than permitted\n",
      "[16:07:02] Explicit valence for atom # 0 N, 5, is greater than permitted\n",
      "[16:07:02] Explicit valence for atom # 0 N, 5, is greater than permitted\n",
      "[16:07:02] Explicit valence for atom # 0 N, 5, is greater than permitted\n",
      "[16:07:02] Explicit valence for atom # 0 N, 5, is greater than permitted\n",
      "[16:07:03] Explicit valence for atom # 0 N, 5, is greater than permitted\n",
      "[16:07:03] Explicit valence for atom # 0 N, 5, is greater than permitted\n",
      "Processing PDBs:  29%|███████▏                 | 82/284 [01:23<04:06,  1.22s/it]"
     ]
    },
    {
     "name": "stdout",
     "output_type": "stream",
     "text": [
      "1yc1\n"
     ]
    },
    {
     "name": "stderr",
     "output_type": "stream",
     "text": [
      "Processing PDBs:  29%|███████▎                 | 83/284 [01:23<03:30,  1.05s/it]"
     ]
    },
    {
     "name": "stdout",
     "output_type": "stream",
     "text": [
      "4tmn\n"
     ]
    },
    {
     "name": "stderr",
     "output_type": "stream",
     "text": [
      "Processing PDBs:  30%|███████▍                 | 84/284 [01:24<03:30,  1.05s/it]"
     ]
    },
    {
     "name": "stdout",
     "output_type": "stream",
     "text": [
      "1k1i\n"
     ]
    },
    {
     "name": "stderr",
     "output_type": "stream",
     "text": [
      "Processing PDBs:  30%|███████▍                 | 85/284 [01:25<03:07,  1.06it/s]"
     ]
    },
    {
     "name": "stdout",
     "output_type": "stream",
     "text": [
      "3r88\n"
     ]
    },
    {
     "name": "stderr",
     "output_type": "stream",
     "text": [
      "Processing PDBs:  30%|███████▌                 | 86/284 [01:26<03:06,  1.06it/s]"
     ]
    },
    {
     "name": "stdout",
     "output_type": "stream",
     "text": [
      "3f3c\n"
     ]
    },
    {
     "name": "stderr",
     "output_type": "stream",
     "text": [
      "Processing PDBs:  31%|███████▋                 | 87/284 [01:28<03:42,  1.13s/it]"
     ]
    },
    {
     "name": "stdout",
     "output_type": "stream",
     "text": [
      "1nvq\n"
     ]
    },
    {
     "name": "stderr",
     "output_type": "stream",
     "text": [
      "Processing PDBs:  31%|███████▋                 | 88/284 [01:28<03:15,  1.00it/s]"
     ]
    },
    {
     "name": "stdout",
     "output_type": "stream",
     "text": [
      "4de2\n"
     ]
    },
    {
     "name": "stderr",
     "output_type": "stream",
     "text": [
      "Processing PDBs:  31%|███████▊                 | 89/284 [01:29<02:51,  1.13it/s]"
     ]
    },
    {
     "name": "stdout",
     "output_type": "stream",
     "text": [
      "3dx2\n"
     ]
    },
    {
     "name": "stderr",
     "output_type": "stream",
     "text": [
      "Processing PDBs:  32%|███████▉                 | 90/284 [01:39<11:41,  3.61s/it]"
     ]
    },
    {
     "name": "stdout",
     "output_type": "stream",
     "text": [
      "3e92\n"
     ]
    },
    {
     "name": "stderr",
     "output_type": "stream",
     "text": [
      "Processing PDBs:  32%|████████                 | 91/284 [01:40<08:50,  2.75s/it]"
     ]
    },
    {
     "name": "stdout",
     "output_type": "stream",
     "text": [
      "2w4x\n"
     ]
    },
    {
     "name": "stderr",
     "output_type": "stream",
     "text": [
      "Processing PDBs:  32%|████████                 | 92/284 [01:41<07:20,  2.29s/it]"
     ]
    },
    {
     "name": "stdout",
     "output_type": "stream",
     "text": [
      "1sqa\n"
     ]
    },
    {
     "name": "stderr",
     "output_type": "stream",
     "text": [
      "Processing PDBs:  33%|████████▏                | 93/284 [01:42<05:46,  1.81s/it]"
     ]
    },
    {
     "name": "stdout",
     "output_type": "stream",
     "text": [
      "3uex\n"
     ]
    },
    {
     "name": "stderr",
     "output_type": "stream",
     "text": [
      "Processing PDBs:  33%|████████▎                | 94/284 [01:42<04:39,  1.47s/it][16:07:22] Explicit valence for atom # 0 N, 5, is greater than permitted\n",
      "[16:07:22] Explicit valence for atom # 0 N, 5, is greater than permitted\n"
     ]
    },
    {
     "name": "stdout",
     "output_type": "stream",
     "text": [
      "2qe4\n"
     ]
    },
    {
     "name": "stderr",
     "output_type": "stream",
     "text": [
      "[16:07:22] Explicit valence for atom # 0 N, 5, is greater than permitted\n",
      "[16:07:22] Explicit valence for atom # 0 N, 5, is greater than permitted\n",
      "[16:07:23] Explicit valence for atom # 0 N, 5, is greater than permitted\n",
      "[16:07:23] Explicit valence for atom # 0 N, 5, is greater than permitted\n",
      "[16:07:23] Explicit valence for atom # 0 N, 5, is greater than permitted\n",
      "[16:07:23] Explicit valence for atom # 0 N, 5, is greater than permitted\n",
      "[16:07:23] Explicit valence for atom # 0 N, 5, is greater than permitted\n",
      "[16:07:23] Explicit valence for atom # 0 N, 5, is greater than permitted\n",
      "Processing PDBs:  33%|████████▎                | 95/284 [01:43<04:06,  1.30s/it][16:07:23] Explicit valence for atom # 0 N, 5, is greater than permitted\n",
      "[16:07:23] Explicit valence for atom # 0 N, 5, is greater than permitted\n",
      "[16:07:23] Explicit valence for atom # 0 N, 5, is greater than permitted\n"
     ]
    },
    {
     "name": "stdout",
     "output_type": "stream",
     "text": [
      "3u5j\n"
     ]
    },
    {
     "name": "stderr",
     "output_type": "stream",
     "text": [
      "[16:07:23] Explicit valence for atom # 0 N, 5, is greater than permitted\n",
      "[16:07:23] Explicit valence for atom # 0 N, 5, is greater than permitted\n",
      "[16:07:23] Explicit valence for atom # 0 N, 5, is greater than permitted\n",
      "[16:07:23] Explicit valence for atom # 0 N, 5, is greater than permitted\n",
      "[16:07:23] Explicit valence for atom # 0 N, 5, is greater than permitted\n",
      "[16:07:24] Explicit valence for atom # 0 N, 5, is greater than permitted\n",
      "[16:07:24] Explicit valence for atom # 0 N, 5, is greater than permitted\n",
      "Processing PDBs:  34%|████████▍                | 96/284 [01:44<03:23,  1.08s/it]"
     ]
    },
    {
     "name": "stdout",
     "output_type": "stream",
     "text": [
      "3oe5\n"
     ]
    },
    {
     "name": "stderr",
     "output_type": "stream",
     "text": [
      "Processing PDBs:  34%|████████▌                | 97/284 [01:44<02:54,  1.07it/s]"
     ]
    },
    {
     "name": "stdout",
     "output_type": "stream",
     "text": [
      "3coy\n"
     ]
    },
    {
     "name": "stderr",
     "output_type": "stream",
     "text": [
      "Processing PDBs:  35%|████████▋                | 98/284 [01:45<02:49,  1.10it/s][16:07:25] Explicit valence for atom # 0 N, 5, is greater than permitted\n",
      "[16:07:25] Explicit valence for atom # 0 N, 5, is greater than permitted\n",
      "[16:07:25] Explicit valence for atom # 0 N, 5, is greater than permitted\n"
     ]
    },
    {
     "name": "stdout",
     "output_type": "stream",
     "text": [
      "3gr2\n"
     ]
    },
    {
     "name": "stderr",
     "output_type": "stream",
     "text": [
      "[16:07:25] Explicit valence for atom # 0 N, 5, is greater than permitted\n",
      "[16:07:25] Explicit valence for atom # 0 N, 5, is greater than permitted\n",
      "[16:07:25] Explicit valence for atom # 0 N, 5, is greater than permitted\n",
      "[16:07:26] Explicit valence for atom # 0 N, 5, is greater than permitted\n",
      "[16:07:26] Explicit valence for atom # 0 N, 5, is greater than permitted\n",
      "[16:07:26] Explicit valence for atom # 0 N, 5, is greater than permitted\n",
      "[16:07:26] Explicit valence for atom # 0 N, 5, is greater than permitted\n",
      "Processing PDBs:  35%|████████▋                | 99/284 [01:46<02:44,  1.13it/s]"
     ]
    },
    {
     "name": "stdout",
     "output_type": "stream",
     "text": [
      "4lzs\n"
     ]
    },
    {
     "name": "stderr",
     "output_type": "stream",
     "text": [
      "Processing PDBs:  35%|████████▍               | 100/284 [01:46<02:22,  1.29it/s]"
     ]
    },
    {
     "name": "stdout",
     "output_type": "stream",
     "text": [
      "4m0z\n"
     ]
    },
    {
     "name": "stderr",
     "output_type": "stream",
     "text": [
      "Processing PDBs:  36%|████████▌               | 101/284 [01:47<02:15,  1.35it/s]"
     ]
    },
    {
     "name": "stdout",
     "output_type": "stream",
     "text": [
      "3b5r\n"
     ]
    },
    {
     "name": "stderr",
     "output_type": "stream",
     "text": [
      "Processing PDBs:  36%|████████▌               | 102/284 [01:48<02:09,  1.40it/s]"
     ]
    },
    {
     "name": "stdout",
     "output_type": "stream",
     "text": [
      "2c3i\n"
     ]
    },
    {
     "name": "stderr",
     "output_type": "stream",
     "text": [
      "Processing PDBs:  36%|████████▋               | 103/284 [01:48<02:05,  1.45it/s]"
     ]
    },
    {
     "name": "stdout",
     "output_type": "stream",
     "text": [
      "3aru\n"
     ]
    },
    {
     "name": "stderr",
     "output_type": "stream",
     "text": [
      "Processing PDBs:  37%|████████▊               | 104/284 [01:50<02:26,  1.23it/s]"
     ]
    },
    {
     "name": "stdout",
     "output_type": "stream",
     "text": [
      "1pxn\n"
     ]
    },
    {
     "name": "stderr",
     "output_type": "stream",
     "text": [
      "Processing PDBs:  37%|████████▊               | 105/284 [01:50<02:18,  1.29it/s][16:07:30] Explicit valence for atom # 0 N, 5, is greater than permitted\n",
      "[16:07:30] Explicit valence for atom # 0 N, 5, is greater than permitted\n"
     ]
    },
    {
     "name": "stdout",
     "output_type": "stream",
     "text": [
      "1h22\n"
     ]
    },
    {
     "name": "stderr",
     "output_type": "stream",
     "text": [
      "[16:07:30] Explicit valence for atom # 0 N, 5, is greater than permitted\n",
      "[16:07:31] Explicit valence for atom # 0 N, 5, is greater than permitted\n",
      "[16:07:31] Explicit valence for atom # 0 N, 5, is greater than permitted\n",
      "[16:07:31] Explicit valence for atom # 0 N, 5, is greater than permitted\n",
      "[16:07:31] Explicit valence for atom # 0 N, 5, is greater than permitted\n",
      "[16:07:31] Explicit valence for atom # 0 N, 5, is greater than permitted\n",
      "[16:07:31] Explicit valence for atom # 0 N, 5, is greater than permitted\n",
      "[16:07:31] Explicit valence for atom # 0 N, 5, is greater than permitted\n",
      "Processing PDBs:  37%|████████▉               | 106/284 [01:51<02:34,  1.15it/s]"
     ]
    },
    {
     "name": "stdout",
     "output_type": "stream",
     "text": [
      "4eo8\n"
     ]
    },
    {
     "name": "stderr",
     "output_type": "stream",
     "text": [
      "Processing PDBs:  38%|█████████               | 107/284 [01:52<02:36,  1.13it/s]"
     ]
    },
    {
     "name": "stdout",
     "output_type": "stream",
     "text": [
      "3gy4\n"
     ]
    },
    {
     "name": "stderr",
     "output_type": "stream",
     "text": [
      "Processing PDBs:  38%|█████████▏              | 108/284 [01:53<02:24,  1.22it/s]"
     ]
    },
    {
     "name": "stdout",
     "output_type": "stream",
     "text": [
      "2yge\n"
     ]
    },
    {
     "name": "stderr",
     "output_type": "stream",
     "text": [
      "Processing PDBs:  38%|█████████▏              | 109/284 [01:53<02:10,  1.34it/s]"
     ]
    },
    {
     "name": "stdout",
     "output_type": "stream",
     "text": [
      "3cj4\n"
     ]
    },
    {
     "name": "stderr",
     "output_type": "stream",
     "text": [
      "Processing PDBs:  39%|█████████▎              | 110/284 [01:54<02:20,  1.24it/s]"
     ]
    },
    {
     "name": "stdout",
     "output_type": "stream",
     "text": [
      "4dli\n"
     ]
    },
    {
     "name": "stderr",
     "output_type": "stream",
     "text": [
      "Processing PDBs:  39%|█████████▍              | 111/284 [01:55<02:13,  1.30it/s]"
     ]
    },
    {
     "name": "stdout",
     "output_type": "stream",
     "text": [
      "4ivc\n"
     ]
    },
    {
     "name": "stderr",
     "output_type": "stream",
     "text": [
      "Processing PDBs:  39%|█████████▍              | 112/284 [01:56<02:06,  1.36it/s]"
     ]
    },
    {
     "name": "stdout",
     "output_type": "stream",
     "text": [
      "4f2w\n"
     ]
    },
    {
     "name": "stderr",
     "output_type": "stream",
     "text": [
      "Processing PDBs:  40%|█████████▌              | 113/284 [01:57<02:07,  1.34it/s]"
     ]
    },
    {
     "name": "stdout",
     "output_type": "stream",
     "text": [
      "4owm\n"
     ]
    },
    {
     "name": "stderr",
     "output_type": "stream",
     "text": [
      "Processing PDBs:  40%|█████████▋              | 114/284 [01:57<02:18,  1.23it/s]"
     ]
    },
    {
     "name": "stdout",
     "output_type": "stream",
     "text": [
      "4hge\n"
     ]
    },
    {
     "name": "stderr",
     "output_type": "stream",
     "text": [
      "Processing PDBs:  40%|█████████▋              | 115/284 [01:58<02:09,  1.30it/s]"
     ]
    },
    {
     "name": "stdout",
     "output_type": "stream",
     "text": [
      "1q8u\n"
     ]
    },
    {
     "name": "stderr",
     "output_type": "stream",
     "text": [
      "Processing PDBs:  41%|█████████▊              | 116/284 [01:59<02:09,  1.30it/s]"
     ]
    },
    {
     "name": "stdout",
     "output_type": "stream",
     "text": [
      "1q8t\n"
     ]
    },
    {
     "name": "stderr",
     "output_type": "stream",
     "text": [
      "Processing PDBs:  41%|█████████▉              | 117/284 [02:00<02:09,  1.29it/s]"
     ]
    },
    {
     "name": "stdout",
     "output_type": "stream",
     "text": [
      "3ueu\n"
     ]
    },
    {
     "name": "stderr",
     "output_type": "stream",
     "text": [
      "Processing PDBs:  42%|█████████▉              | 118/284 [02:00<02:02,  1.35it/s]"
     ]
    },
    {
     "name": "stdout",
     "output_type": "stream",
     "text": [
      "1o0h\n"
     ]
    },
    {
     "name": "stderr",
     "output_type": "stream",
     "text": [
      "Processing PDBs:  42%|██████████              | 119/284 [02:01<01:52,  1.47it/s][16:07:41] Explicit valence for atom # 0 N, 5, is greater than permitted\n",
      "[16:07:41] Explicit valence for atom # 0 N, 5, is greater than permitted\n",
      "[16:07:41] Explicit valence for atom # 0 N, 5, is greater than permitted\n"
     ]
    },
    {
     "name": "stdout",
     "output_type": "stream",
     "text": [
      "4bkt\n"
     ]
    },
    {
     "name": "stderr",
     "output_type": "stream",
     "text": [
      "[16:07:41] Explicit valence for atom # 0 N, 5, is greater than permitted\n",
      "[16:07:41] Explicit valence for atom # 0 N, 5, is greater than permitted\n",
      "[16:07:41] Explicit valence for atom # 0 N, 5, is greater than permitted\n",
      "[16:07:41] Explicit valence for atom # 0 N, 5, is greater than permitted\n",
      "[16:07:41] Explicit valence for atom # 0 N, 5, is greater than permitted\n",
      "[16:07:42] Explicit valence for atom # 0 N, 5, is greater than permitted\n",
      "[16:07:42] Explicit valence for atom # 0 N, 5, is greater than permitted\n",
      "Processing PDBs:  42%|██████████▏             | 120/284 [02:02<01:57,  1.40it/s]"
     ]
    },
    {
     "name": "stdout",
     "output_type": "stream",
     "text": [
      "3coz\n"
     ]
    },
    {
     "name": "stderr",
     "output_type": "stream",
     "text": [
      "Processing PDBs:  43%|██████████▏             | 121/284 [02:03<02:04,  1.31it/s]"
     ]
    },
    {
     "name": "stdout",
     "output_type": "stream",
     "text": [
      "4m0y\n"
     ]
    },
    {
     "name": "stderr",
     "output_type": "stream",
     "text": [
      "Processing PDBs:  43%|██████████▎             | 122/284 [02:03<01:58,  1.37it/s]"
     ]
    },
    {
     "name": "stdout",
     "output_type": "stream",
     "text": [
      "4ih7\n"
     ]
    },
    {
     "name": "stderr",
     "output_type": "stream",
     "text": [
      "Processing PDBs:  43%|██████████▍             | 123/284 [02:04<02:07,  1.26it/s]"
     ]
    },
    {
     "name": "stdout",
     "output_type": "stream",
     "text": [
      "3up2\n"
     ]
    },
    {
     "name": "stderr",
     "output_type": "stream",
     "text": [
      "Processing PDBs:  44%|██████████▍             | 124/284 [02:05<02:00,  1.33it/s]"
     ]
    },
    {
     "name": "stdout",
     "output_type": "stream",
     "text": [
      "4twp\n"
     ]
    },
    {
     "name": "stderr",
     "output_type": "stream",
     "text": [
      "Processing PDBs:  44%|██████████▌             | 125/284 [02:05<01:54,  1.38it/s]"
     ]
    },
    {
     "name": "stdout",
     "output_type": "stream",
     "text": [
      "3u9q\n"
     ]
    },
    {
     "name": "stderr",
     "output_type": "stream",
     "text": [
      "Processing PDBs:  44%|██████████▋             | 126/284 [02:06<01:48,  1.45it/s][16:07:46] Explicit valence for atom # 0 N, 5, is greater than permitted\n",
      "[16:07:46] Explicit valence for atom # 0 N, 5, is greater than permitted\n",
      "[16:07:46] Explicit valence for atom # 0 N, 5, is greater than permitted\n"
     ]
    },
    {
     "name": "stdout",
     "output_type": "stream",
     "text": [
      "2y5h\n"
     ]
    },
    {
     "name": "stderr",
     "output_type": "stream",
     "text": [
      "[16:07:46] Explicit valence for atom # 0 N, 5, is greater than permitted\n",
      "[16:07:46] Explicit valence for atom # 0 N, 5, is greater than permitted\n",
      "[16:07:46] Explicit valence for atom # 0 N, 5, is greater than permitted\n",
      "[16:07:47] Explicit valence for atom # 0 N, 5, is greater than permitted\n",
      "[16:07:47] Explicit valence for atom # 0 N, 5, is greater than permitted\n",
      "[16:07:47] Explicit valence for atom # 0 N, 5, is greater than permitted\n",
      "[16:07:47] Explicit valence for atom # 0 N, 5, is greater than permitted\n",
      "Processing PDBs:  45%|██████████▋             | 127/284 [02:07<01:50,  1.42it/s]"
     ]
    },
    {
     "name": "stdout",
     "output_type": "stream",
     "text": [
      "3kr8\n"
     ]
    },
    {
     "name": "stderr",
     "output_type": "stream",
     "text": [
      "Processing PDBs:  45%|██████████▊             | 128/284 [02:07<01:44,  1.50it/s]"
     ]
    },
    {
     "name": "stdout",
     "output_type": "stream",
     "text": [
      "2weg\n"
     ]
    },
    {
     "name": "stderr",
     "output_type": "stream",
     "text": [
      "Processing PDBs:  45%|██████████▉             | 129/284 [02:08<01:43,  1.50it/s][16:07:48] Explicit valence for atom # 0 N, 5, is greater than permitted\n",
      "[16:07:48] Explicit valence for atom # 0 N, 5, is greater than permitted\n"
     ]
    },
    {
     "name": "stdout",
     "output_type": "stream",
     "text": [
      "2wer\n"
     ]
    },
    {
     "name": "stderr",
     "output_type": "stream",
     "text": [
      "[16:07:48] Explicit valence for atom # 0 N, 5, is greater than permitted\n",
      "[16:07:48] Explicit valence for atom # 0 N, 5, is greater than permitted\n",
      "[16:07:48] Explicit valence for atom # 0 N, 5, is greater than permitted\n",
      "[16:07:49] Explicit valence for atom # 0 N, 5, is greater than permitted\n",
      "[16:07:49] Explicit valence for atom # 0 N, 5, is greater than permitted\n",
      "[16:07:49] Explicit valence for atom # 0 N, 5, is greater than permitted\n",
      "[16:07:49] Explicit valence for atom # 0 N, 5, is greater than permitted\n",
      "[16:07:49] Explicit valence for atom # 0 N, 5, is greater than permitted\n",
      "Processing PDBs:  46%|██████████▉             | 130/284 [02:09<01:56,  1.32it/s][16:07:49] Explicit valence for atom # 0 N, 5, is greater than permitted\n"
     ]
    },
    {
     "name": "stdout",
     "output_type": "stream",
     "text": [
      "1p1n\n"
     ]
    },
    {
     "name": "stderr",
     "output_type": "stream",
     "text": [
      "[16:07:49] Explicit valence for atom # 0 N, 5, is greater than permitted\n",
      "[16:07:49] Explicit valence for atom # 0 N, 5, is greater than permitted\n",
      "[16:07:49] Explicit valence for atom # 0 N, 5, is greater than permitted\n",
      "[16:07:49] Explicit valence for atom # 0 N, 5, is greater than permitted\n",
      "[16:07:50] Explicit valence for atom # 0 N, 5, is greater than permitted\n",
      "[16:07:50] Explicit valence for atom # 0 N, 5, is greater than permitted\n",
      "[16:07:50] Explicit valence for atom # 0 N, 5, is greater than permitted\n",
      "[16:07:50] Explicit valence for atom # 0 N, 5, is greater than permitted\n",
      "[16:07:50] Explicit valence for atom # 0 N, 5, is greater than permitted\n",
      "Processing PDBs:  46%|███████████             | 131/284 [02:10<02:12,  1.16it/s]"
     ]
    },
    {
     "name": "stdout",
     "output_type": "stream",
     "text": [
      "3nx7\n"
     ]
    },
    {
     "name": "stderr",
     "output_type": "stream",
     "text": [
      "Processing PDBs:  46%|███████████▏            | 132/284 [02:11<01:57,  1.30it/s]"
     ]
    },
    {
     "name": "stdout",
     "output_type": "stream",
     "text": [
      "4e6q\n"
     ]
    },
    {
     "name": "stderr",
     "output_type": "stream",
     "text": [
      "Processing PDBs:  47%|███████████▏            | 133/284 [02:11<01:52,  1.34it/s][16:07:51] Explicit valence for atom # 4 C, 5, is greater than permitted\n",
      "[16:07:51] Explicit valence for atom # 4 C, 5, is greater than permitted\n"
     ]
    },
    {
     "name": "stdout",
     "output_type": "stream",
     "text": [
      "2vkm\n"
     ]
    },
    {
     "name": "stderr",
     "output_type": "stream",
     "text": [
      "[16:07:52] Explicit valence for atom # 4 C, 5, is greater than permitted\n",
      "[16:07:52] Explicit valence for atom # 4 C, 5, is greater than permitted\n",
      "[16:07:52] Explicit valence for atom # 4 C, 5, is greater than permitted\n",
      "[16:07:52] Explicit valence for atom # 4 C, 5, is greater than permitted\n",
      "[16:07:52] Explicit valence for atom # 4 C, 5, is greater than permitted\n",
      "[16:07:52] Explicit valence for atom # 4 C, 5, is greater than permitted\n",
      "[16:07:52] Explicit valence for atom # 4 C, 5, is greater than permitted\n",
      "[16:07:52] Explicit valence for atom # 4 C, 5, is greater than permitted\n",
      "Processing PDBs:  47%|███████████▎            | 134/284 [02:12<02:00,  1.24it/s]"
     ]
    },
    {
     "name": "stdout",
     "output_type": "stream",
     "text": [
      "3uo4\n"
     ]
    },
    {
     "name": "stderr",
     "output_type": "stream",
     "text": [
      "Processing PDBs:  48%|███████████▍            | 135/284 [02:13<01:54,  1.31it/s][16:07:53] Explicit valence for atom # 0 N, 5, is greater than permitted\n",
      "[16:07:53] Explicit valence for atom # 0 N, 5, is greater than permitted\n"
     ]
    },
    {
     "name": "stdout",
     "output_type": "stream",
     "text": [
      "1gpk\n"
     ]
    },
    {
     "name": "stderr",
     "output_type": "stream",
     "text": [
      "[16:07:53] Explicit valence for atom # 0 N, 5, is greater than permitted\n",
      "[16:07:53] Explicit valence for atom # 0 N, 5, is greater than permitted\n",
      "[16:07:53] Explicit valence for atom # 0 N, 5, is greater than permitted\n",
      "[16:07:54] Explicit valence for atom # 0 N, 5, is greater than permitted\n",
      "[16:07:54] Explicit valence for atom # 0 N, 5, is greater than permitted\n",
      "[16:07:54] Explicit valence for atom # 0 N, 5, is greater than permitted\n",
      "[16:07:54] Explicit valence for atom # 0 N, 5, is greater than permitted\n",
      "[16:07:54] Explicit valence for atom # 0 N, 5, is greater than permitted\n",
      "Processing PDBs:  48%|███████████▍            | 136/284 [02:14<02:08,  1.15it/s]"
     ]
    },
    {
     "name": "stdout",
     "output_type": "stream",
     "text": [
      "4kzu\n"
     ]
    },
    {
     "name": "stderr",
     "output_type": "stream",
     "text": [
      "Processing PDBs:  48%|███████████▌            | 137/284 [02:15<01:54,  1.28it/s]"
     ]
    },
    {
     "name": "stdout",
     "output_type": "stream",
     "text": [
      "4ivb\n"
     ]
    },
    {
     "name": "stderr",
     "output_type": "stream",
     "text": [
      "Processing PDBs:  49%|███████████▋            | 138/284 [02:15<01:48,  1.35it/s]"
     ]
    },
    {
     "name": "stdout",
     "output_type": "stream",
     "text": [
      "5tmn\n"
     ]
    },
    {
     "name": "stderr",
     "output_type": "stream",
     "text": [
      "Processing PDBs:  49%|███████████▋            | 139/284 [02:16<01:59,  1.21it/s]"
     ]
    },
    {
     "name": "stdout",
     "output_type": "stream",
     "text": [
      "2yki\n"
     ]
    },
    {
     "name": "stderr",
     "output_type": "stream",
     "text": [
      "Processing PDBs:  49%|███████████▊            | 140/284 [02:17<01:48,  1.33it/s][16:07:57] Explicit valence for atom # 0 N, 5, is greater than permitted\n"
     ]
    },
    {
     "name": "stdout",
     "output_type": "stream",
     "text": [
      "4ciw\n"
     ]
    },
    {
     "name": "stderr",
     "output_type": "stream",
     "text": [
      "[16:07:57] Explicit valence for atom # 0 N, 5, is greater than permitted\n",
      "[16:07:58] Explicit valence for atom # 0 N, 5, is greater than permitted\n",
      "[16:07:58] Explicit valence for atom # 0 N, 5, is greater than permitted\n",
      "[16:07:58] Explicit valence for atom # 0 N, 5, is greater than permitted\n",
      "[16:07:58] Explicit valence for atom # 0 N, 5, is greater than permitted\n",
      "[16:07:59] Explicit valence for atom # 0 N, 5, is greater than permitted\n",
      "[16:07:59] Explicit valence for atom # 0 N, 5, is greater than permitted\n",
      "[16:07:59] Explicit valence for atom # 0 N, 5, is greater than permitted\n",
      "[16:07:59] Explicit valence for atom # 0 N, 5, is greater than permitted\n",
      "Processing PDBs:  50%|███████████▉            | 141/284 [02:19<03:00,  1.27s/it]"
     ]
    },
    {
     "name": "stdout",
     "output_type": "stream",
     "text": [
      "1z95\n"
     ]
    },
    {
     "name": "stderr",
     "output_type": "stream",
     "text": [
      "Processing PDBs:  50%|████████████            | 142/284 [02:20<02:32,  1.07s/it]"
     ]
    },
    {
     "name": "stdout",
     "output_type": "stream",
     "text": [
      "2xii\n"
     ]
    },
    {
     "name": "stderr",
     "output_type": "stream",
     "text": [
      "Processing PDBs:  50%|████████████            | 143/284 [02:21<02:26,  1.04s/it][16:08:01] Explicit valence for atom # 0 N, 5, is greater than permitted\n",
      "[16:08:01] Explicit valence for atom # 0 N, 5, is greater than permitted\n"
     ]
    },
    {
     "name": "stdout",
     "output_type": "stream",
     "text": [
      "1r5y\n"
     ]
    },
    {
     "name": "stderr",
     "output_type": "stream",
     "text": [
      "[16:08:01] Explicit valence for atom # 0 N, 5, is greater than permitted\n",
      "[16:08:01] Explicit valence for atom # 0 N, 5, is greater than permitted\n",
      "[16:08:01] Explicit valence for atom # 0 N, 5, is greater than permitted\n",
      "[16:08:02] Explicit valence for atom # 0 N, 5, is greater than permitted\n",
      "[16:08:02] Explicit valence for atom # 0 N, 5, is greater than permitted\n",
      "[16:08:02] Explicit valence for atom # 0 N, 5, is greater than permitted\n",
      "[16:08:02] Explicit valence for atom # 0 N, 5, is greater than permitted\n",
      "[16:08:02] Explicit valence for atom # 0 N, 5, is greater than permitted\n",
      "Processing PDBs:  51%|████████████▏           | 144/284 [02:22<02:29,  1.07s/it]"
     ]
    },
    {
     "name": "stdout",
     "output_type": "stream",
     "text": [
      "5dwr\n"
     ]
    },
    {
     "name": "stderr",
     "output_type": "stream",
     "text": [
      "Processing PDBs:  51%|████████████▎           | 145/284 [02:23<02:12,  1.05it/s]"
     ]
    },
    {
     "name": "stdout",
     "output_type": "stream",
     "text": [
      "3ag9\n"
     ]
    },
    {
     "name": "stderr",
     "output_type": "stream",
     "text": [
      "Processing PDBs:  51%|████████████▎           | 146/284 [02:24<02:03,  1.11it/s]"
     ]
    },
    {
     "name": "stdout",
     "output_type": "stream",
     "text": [
      "3b1m\n"
     ]
    },
    {
     "name": "stderr",
     "output_type": "stream",
     "text": [
      "Processing PDBs:  52%|████████████▍           | 147/284 [02:24<01:51,  1.22it/s][16:08:04] Explicit valence for atom # 0 N, 5, is greater than permitted\n",
      "[16:08:04] Explicit valence for atom # 0 N, 5, is greater than permitted\n"
     ]
    },
    {
     "name": "stdout",
     "output_type": "stream",
     "text": [
      "3arv\n"
     ]
    },
    {
     "name": "stderr",
     "output_type": "stream",
     "text": [
      "[16:08:04] Explicit valence for atom # 0 N, 5, is greater than permitted\n",
      "[16:08:05] Explicit valence for atom # 0 N, 5, is greater than permitted\n",
      "[16:08:05] Explicit valence for atom # 0 N, 5, is greater than permitted\n",
      "[16:08:05] Explicit valence for atom # 0 N, 5, is greater than permitted\n",
      "[16:08:05] Explicit valence for atom # 0 N, 5, is greater than permitted\n",
      "[16:08:05] Explicit valence for atom # 0 N, 5, is greater than permitted\n",
      "[16:08:05] Explicit valence for atom # 0 N, 5, is greater than permitted\n",
      "[16:08:05] Explicit valence for atom # 0 N, 5, is greater than permitted\n",
      "Processing PDBs:  52%|████████████▌           | 148/284 [02:25<02:01,  1.12it/s]"
     ]
    },
    {
     "name": "stdout",
     "output_type": "stream",
     "text": [
      "3dxg\n"
     ]
    },
    {
     "name": "stderr",
     "output_type": "stream",
     "text": [
      "Processing PDBs:  52%|████████████▌           | 149/284 [02:26<01:45,  1.28it/s]"
     ]
    },
    {
     "name": "stdout",
     "output_type": "stream",
     "text": [
      "4ivd\n"
     ]
    },
    {
     "name": "stderr",
     "output_type": "stream",
     "text": [
      "Processing PDBs:  53%|████████████▋           | 150/284 [02:26<01:39,  1.34it/s]"
     ]
    },
    {
     "name": "stdout",
     "output_type": "stream",
     "text": [
      "2xys\n"
     ]
    },
    {
     "name": "stderr",
     "output_type": "stream",
     "text": [
      "Processing PDBs:  53%|████████████▊           | 151/284 [02:28<02:05,  1.06it/s][16:08:08] Explicit valence for atom # 0 N, 5, is greater than permitted\n"
     ]
    },
    {
     "name": "stdout",
     "output_type": "stream",
     "text": [
      "2wn9\n"
     ]
    },
    {
     "name": "stderr",
     "output_type": "stream",
     "text": [
      "[16:08:08] Explicit valence for atom # 0 N, 5, is greater than permitted\n",
      "[16:08:08] Explicit valence for atom # 0 N, 5, is greater than permitted\n",
      "[16:08:08] Explicit valence for atom # 0 N, 5, is greater than permitted\n",
      "[16:08:09] Explicit valence for atom # 0 N, 5, is greater than permitted\n",
      "[16:08:09] Explicit valence for atom # 0 N, 5, is greater than permitted\n",
      "[16:08:09] Explicit valence for atom # 0 N, 5, is greater than permitted\n",
      "[16:08:09] Explicit valence for atom # 0 N, 5, is greater than permitted\n",
      "[16:08:09] Explicit valence for atom # 0 N, 5, is greater than permitted\n",
      "[16:08:09] Explicit valence for atom # 0 N, 5, is greater than permitted\n",
      "Processing PDBs:  54%|████████████▊           | 152/284 [02:30<02:33,  1.16s/it]"
     ]
    },
    {
     "name": "stdout",
     "output_type": "stream",
     "text": [
      "4kzq\n"
     ]
    },
    {
     "name": "stderr",
     "output_type": "stream",
     "text": [
      "Processing PDBs:  54%|████████████▉           | 153/284 [02:30<02:09,  1.01it/s][16:08:10] Explicit valence for atom # 0 N, 5, is greater than permitted\n",
      "[16:08:10] Explicit valence for atom # 0 N, 5, is greater than permitted\n",
      "[16:08:10] Explicit valence for atom # 0 N, 5, is greater than permitted\n"
     ]
    },
    {
     "name": "stdout",
     "output_type": "stream",
     "text": [
      "4w9h\n"
     ]
    },
    {
     "name": "stderr",
     "output_type": "stream",
     "text": [
      "[16:08:10] Explicit valence for atom # 0 N, 5, is greater than permitted\n",
      "[16:08:10] Explicit valence for atom # 0 N, 5, is greater than permitted\n",
      "[16:08:11] Explicit valence for atom # 0 N, 5, is greater than permitted\n",
      "[16:08:11] Explicit valence for atom # 0 N, 5, is greater than permitted\n",
      "[16:08:11] Explicit valence for atom # 0 N, 5, is greater than permitted\n",
      "[16:08:11] Explicit valence for atom # 0 N, 5, is greater than permitted\n",
      "[16:08:11] Explicit valence for atom # 0 N, 5, is greater than permitted\n",
      "Processing PDBs:  54%|█████████████           | 154/284 [02:31<02:01,  1.07it/s]"
     ]
    },
    {
     "name": "stdout",
     "output_type": "stream",
     "text": [
      "3arp\n"
     ]
    },
    {
     "name": "stderr",
     "output_type": "stream",
     "text": [
      "Processing PDBs:  55%|█████████████           | 155/284 [02:32<02:08,  1.01it/s]"
     ]
    },
    {
     "name": "stdout",
     "output_type": "stream",
     "text": [
      "3uuo\n"
     ]
    },
    {
     "name": "stderr",
     "output_type": "stream",
     "text": [
      "Processing PDBs:  55%|█████████████▏          | 156/284 [02:33<01:56,  1.10it/s]"
     ]
    },
    {
     "name": "stdout",
     "output_type": "stream",
     "text": [
      "3jvs\n"
     ]
    },
    {
     "name": "stderr",
     "output_type": "stream",
     "text": [
      "Processing PDBs:  55%|█████████████▎          | 157/284 [02:33<01:45,  1.20it/s]"
     ]
    },
    {
     "name": "stdout",
     "output_type": "stream",
     "text": [
      "2xj7\n"
     ]
    },
    {
     "name": "stderr",
     "output_type": "stream",
     "text": [
      "Processing PDBs:  56%|█████████████▎          | 158/284 [02:35<02:26,  1.17s/it]"
     ]
    },
    {
     "name": "stdout",
     "output_type": "stream",
     "text": [
      "3wtj\n"
     ]
    },
    {
     "name": "stderr",
     "output_type": "stream",
     "text": [
      "Processing PDBs:  56%|█████████████▍          | 159/284 [02:36<02:10,  1.05s/it]"
     ]
    },
    {
     "name": "stdout",
     "output_type": "stream",
     "text": [
      "3b65\n"
     ]
    },
    {
     "name": "stderr",
     "output_type": "stream",
     "text": [
      "Processing PDBs:  56%|█████████████▌          | 160/284 [02:37<01:55,  1.07it/s][16:08:17] Explicit valence for atom # 0 N, 5, is greater than permitted\n",
      "[16:08:17] Explicit valence for atom # 0 N, 5, is greater than permitted\n"
     ]
    },
    {
     "name": "stdout",
     "output_type": "stream",
     "text": [
      "2j7h\n"
     ]
    },
    {
     "name": "stderr",
     "output_type": "stream",
     "text": [
      "[16:08:17] Explicit valence for atom # 0 N, 5, is greater than permitted\n",
      "[16:08:17] Explicit valence for atom # 0 N, 5, is greater than permitted\n",
      "[16:08:17] Explicit valence for atom # 0 N, 5, is greater than permitted\n",
      "[16:08:17] Explicit valence for atom # 0 N, 5, is greater than permitted\n",
      "[16:08:17] Explicit valence for atom # 0 N, 5, is greater than permitted\n",
      "[16:08:18] Explicit valence for atom # 0 N, 5, is greater than permitted\n",
      "[16:08:18] Explicit valence for atom # 0 N, 5, is greater than permitted\n",
      "[16:08:18] Explicit valence for atom # 0 N, 5, is greater than permitted\n",
      "Processing PDBs:  57%|█████████████▌          | 161/284 [02:38<01:57,  1.04it/s]"
     ]
    },
    {
     "name": "stdout",
     "output_type": "stream",
     "text": [
      "2p15\n"
     ]
    },
    {
     "name": "stderr",
     "output_type": "stream",
     "text": [
      "Processing PDBs:  57%|█████████████▋          | 162/284 [02:39<01:51,  1.09it/s][16:08:19] Explicit valence for atom # 0 N, 5, is greater than permitted\n",
      "[16:08:19] Explicit valence for atom # 0 N, 5, is greater than permitted\n",
      "[16:08:19] Explicit valence for atom # 0 N, 5, is greater than permitted\n"
     ]
    },
    {
     "name": "stdout",
     "output_type": "stream",
     "text": [
      "4w9c\n"
     ]
    },
    {
     "name": "stderr",
     "output_type": "stream",
     "text": [
      "[16:08:19] Explicit valence for atom # 0 N, 5, is greater than permitted\n",
      "[16:08:19] Explicit valence for atom # 0 N, 5, is greater than permitted\n",
      "[16:08:19] Explicit valence for atom # 0 N, 5, is greater than permitted\n",
      "[16:08:19] Explicit valence for atom # 0 N, 5, is greater than permitted\n",
      "[16:08:19] Explicit valence for atom # 0 N, 5, is greater than permitted\n",
      "[16:08:19] Explicit valence for atom # 0 N, 5, is greater than permitted\n",
      "[16:08:19] Explicit valence for atom # 0 N, 5, is greater than permitted\n",
      "Processing PDBs:  57%|█████████████▊          | 163/284 [02:39<01:46,  1.14it/s]"
     ]
    },
    {
     "name": "stdout",
     "output_type": "stream",
     "text": [
      "3tsk\n"
     ]
    },
    {
     "name": "stderr",
     "output_type": "stream",
     "text": [
      "Processing PDBs:  58%|█████████████▊          | 164/284 [02:40<01:34,  1.27it/s]"
     ]
    },
    {
     "name": "stdout",
     "output_type": "stream",
     "text": [
      "2qbp\n"
     ]
    },
    {
     "name": "stderr",
     "output_type": "stream",
     "text": [
      "Processing PDBs:  58%|█████████████▉          | 165/284 [02:41<01:30,  1.31it/s]"
     ]
    },
    {
     "name": "stdout",
     "output_type": "stream",
     "text": [
      "3syr\n"
     ]
    },
    {
     "name": "stderr",
     "output_type": "stream",
     "text": [
      "Processing PDBs:  58%|██████████████          | 166/284 [02:43<02:24,  1.22s/it][16:08:23] Explicit valence for atom # 0 N, 5, is greater than permitted\n"
     ]
    },
    {
     "name": "stdout",
     "output_type": "stream",
     "text": [
      "4qac\n"
     ]
    },
    {
     "name": "stderr",
     "output_type": "stream",
     "text": [
      "[16:08:23] Explicit valence for atom # 0 N, 5, is greater than permitted\n",
      "[16:08:23] Explicit valence for atom # 0 N, 5, is greater than permitted\n",
      "[16:08:24] Explicit valence for atom # 0 N, 5, is greater than permitted\n",
      "[16:08:24] Explicit valence for atom # 0 N, 5, is greater than permitted\n",
      "[16:08:24] Explicit valence for atom # 0 N, 5, is greater than permitted\n",
      "[16:08:24] Explicit valence for atom # 0 N, 5, is greater than permitted\n",
      "[16:08:24] Explicit valence for atom # 0 N, 5, is greater than permitted\n",
      "[16:08:24] Explicit valence for atom # 0 N, 5, is greater than permitted\n",
      "[16:08:25] Explicit valence for atom # 0 N, 5, is greater than permitted\n",
      "Processing PDBs:  59%|██████████████          | 167/284 [02:45<02:39,  1.36s/it]"
     ]
    },
    {
     "name": "stdout",
     "output_type": "stream",
     "text": [
      "4ea2\n"
     ]
    },
    {
     "name": "stderr",
     "output_type": "stream",
     "text": [
      "Processing PDBs:  59%|██████████████▏         | 168/284 [02:45<02:14,  1.16s/it]"
     ]
    },
    {
     "name": "stdout",
     "output_type": "stream",
     "text": [
      "2brb\n"
     ]
    },
    {
     "name": "stderr",
     "output_type": "stream",
     "text": [
      "Processing PDBs:  60%|██████████████▎         | 169/284 [02:46<01:56,  1.01s/it][16:08:26] Explicit valence for atom # 0 N, 5, is greater than permitted\n",
      "[16:08:26] Explicit valence for atom # 0 N, 5, is greater than permitted\n"
     ]
    },
    {
     "name": "stdout",
     "output_type": "stream",
     "text": [
      "3arq\n"
     ]
    },
    {
     "name": "stderr",
     "output_type": "stream",
     "text": [
      "[16:08:26] Explicit valence for atom # 0 N, 5, is greater than permitted\n",
      "[16:08:26] Explicit valence for atom # 0 N, 5, is greater than permitted\n",
      "[16:08:26] Explicit valence for atom # 0 N, 5, is greater than permitted\n",
      "[16:08:27] Explicit valence for atom # 0 N, 5, is greater than permitted\n",
      "[16:08:27] Explicit valence for atom # 0 N, 5, is greater than permitted\n",
      "[16:08:27] Explicit valence for atom # 0 N, 5, is greater than permitted\n",
      "[16:08:27] Explicit valence for atom # 0 N, 5, is greater than permitted\n",
      "[16:08:27] Explicit valence for atom # 0 N, 5, is greater than permitted\n",
      "Processing PDBs:  60%|██████████████▎         | 170/284 [02:47<01:58,  1.04s/it]"
     ]
    },
    {
     "name": "stdout",
     "output_type": "stream",
     "text": [
      "1o5b\n"
     ]
    },
    {
     "name": "stderr",
     "output_type": "stream",
     "text": [
      "Processing PDBs:  60%|██████████████▍         | 171/284 [02:48<01:45,  1.07it/s]"
     ]
    },
    {
     "name": "stdout",
     "output_type": "stream",
     "text": [
      "4kz6\n"
     ]
    },
    {
     "name": "stderr",
     "output_type": "stream",
     "text": [
      "Processing PDBs:  61%|██████████████▌         | 172/284 [02:49<01:39,  1.13it/s]"
     ]
    },
    {
     "name": "stdout",
     "output_type": "stream",
     "text": [
      "3ozs\n"
     ]
    },
    {
     "name": "stderr",
     "output_type": "stream",
     "text": [
      "Processing PDBs:  61%|██████████████▌         | 173/284 [02:49<01:29,  1.25it/s]"
     ]
    },
    {
     "name": "stdout",
     "output_type": "stream",
     "text": [
      "1c5z\n"
     ]
    },
    {
     "name": "stderr",
     "output_type": "stream",
     "text": [
      "Processing PDBs:  61%|██████████████▋         | 174/284 [02:50<01:24,  1.31it/s][16:08:30] Explicit valence for atom # 0 N, 5, is greater than permitted\n"
     ]
    },
    {
     "name": "stdout",
     "output_type": "stream",
     "text": [
      "3n86\n"
     ]
    },
    {
     "name": "stderr",
     "output_type": "stream",
     "text": [
      "[16:08:30] Explicit valence for atom # 0 N, 5, is greater than permitted\n",
      "[16:08:31] Explicit valence for atom # 0 N, 5, is greater than permitted\n",
      "[16:08:31] Explicit valence for atom # 0 N, 5, is greater than permitted\n",
      "[16:08:31] Explicit valence for atom # 0 N, 5, is greater than permitted\n",
      "[16:08:31] Explicit valence for atom # 0 N, 5, is greater than permitted\n",
      "[16:08:32] Explicit valence for atom # 0 N, 5, is greater than permitted\n",
      "[16:08:32] Explicit valence for atom # 0 N, 5, is greater than permitted\n",
      "[16:08:32] Explicit valence for atom # 0 N, 5, is greater than permitted\n",
      "[16:08:32] Explicit valence for atom # 0 N, 5, is greater than permitted\n",
      "Processing PDBs:  62%|██████████████▊         | 175/284 [02:52<02:21,  1.30s/it]"
     ]
    },
    {
     "name": "stdout",
     "output_type": "stream",
     "text": [
      "3f3a\n"
     ]
    },
    {
     "name": "stderr",
     "output_type": "stream",
     "text": [
      "Processing PDBs:  62%|██████████████▊         | 176/284 [02:54<02:31,  1.41s/it]"
     ]
    },
    {
     "name": "stdout",
     "output_type": "stream",
     "text": [
      "3pxf\n"
     ]
    },
    {
     "name": "stderr",
     "output_type": "stream",
     "text": [
      "Processing PDBs:  62%|██████████████▉         | 177/284 [02:55<02:07,  1.20s/it]"
     ]
    },
    {
     "name": "stdout",
     "output_type": "stream",
     "text": [
      "4f9w\n"
     ]
    },
    {
     "name": "stderr",
     "output_type": "stream",
     "text": [
      "Processing PDBs:  63%|███████████████         | 178/284 [02:56<01:51,  1.05s/it]"
     ]
    },
    {
     "name": "stdout",
     "output_type": "stream",
     "text": [
      "1eby\n"
     ]
    },
    {
     "name": "stderr",
     "output_type": "stream",
     "text": [
      "Processing PDBs:  63%|███████████████▏        | 179/284 [02:56<01:35,  1.10it/s]"
     ]
    },
    {
     "name": "stdout",
     "output_type": "stream",
     "text": [
      "2v00\n"
     ]
    },
    {
     "name": "stderr",
     "output_type": "stream",
     "text": [
      "Processing PDBs:  63%|███████████████▏        | 180/284 [02:57<01:28,  1.17it/s]"
     ]
    },
    {
     "name": "stdout",
     "output_type": "stream",
     "text": [
      "4abg\n"
     ]
    },
    {
     "name": "stderr",
     "output_type": "stream",
     "text": [
      "Processing PDBs:  64%|███████████████▎        | 181/284 [02:57<01:21,  1.26it/s][16:08:38] Explicit valence for atom # 0 N, 5, is greater than permitted\n"
     ]
    },
    {
     "name": "stdout",
     "output_type": "stream",
     "text": [
      "2wbg\n"
     ]
    },
    {
     "name": "stderr",
     "output_type": "stream",
     "text": [
      "[16:08:38] Explicit valence for atom # 0 N, 5, is greater than permitted\n",
      "[16:08:38] Explicit valence for atom # 0 N, 5, is greater than permitted\n",
      "[16:08:38] Explicit valence for atom # 0 N, 5, is greater than permitted\n",
      "[16:08:38] Explicit valence for atom # 0 N, 5, is greater than permitted\n",
      "[16:08:38] Explicit valence for atom # 0 N, 5, is greater than permitted\n",
      "[16:08:38] Explicit valence for atom # 0 N, 5, is greater than permitted\n",
      "[16:08:39] Explicit valence for atom # 0 N, 5, is greater than permitted\n",
      "[16:08:39] Explicit valence for atom # 0 N, 5, is greater than permitted\n",
      "[16:08:39] Explicit valence for atom # 0 N, 5, is greater than permitted\n",
      "Processing PDBs:  64%|███████████████▍        | 182/284 [02:59<01:44,  1.03s/it]"
     ]
    },
    {
     "name": "stdout",
     "output_type": "stream",
     "text": [
      "1gpn\n"
     ]
    },
    {
     "name": "stderr",
     "output_type": "stream",
     "text": [
      "Processing PDBs:  64%|███████████████▍        | 183/284 [03:00<01:46,  1.05s/it]"
     ]
    },
    {
     "name": "stdout",
     "output_type": "stream",
     "text": [
      "1lpg\n"
     ]
    },
    {
     "name": "stderr",
     "output_type": "stream",
     "text": [
      "Processing PDBs:  65%|███████████████▌        | 184/284 [03:01<01:33,  1.07it/s]"
     ]
    },
    {
     "name": "stdout",
     "output_type": "stream",
     "text": [
      "3g2z\n"
     ]
    },
    {
     "name": "stderr",
     "output_type": "stream",
     "text": [
      "Processing PDBs:  65%|███████████████▋        | 185/284 [03:01<01:23,  1.18it/s]"
     ]
    },
    {
     "name": "stdout",
     "output_type": "stream",
     "text": [
      "3e5a\n"
     ]
    },
    {
     "name": "stderr",
     "output_type": "stream",
     "text": [
      "Processing PDBs:  65%|███████████████▋        | 186/284 [03:02<01:18,  1.25it/s]"
     ]
    },
    {
     "name": "stdout",
     "output_type": "stream",
     "text": [
      "1mq6\n"
     ]
    },
    {
     "name": "stderr",
     "output_type": "stream",
     "text": [
      "Processing PDBs:  66%|███████████████▊        | 187/284 [03:03<01:14,  1.30it/s][16:08:43] Explicit valence for atom # 0 N, 5, is greater than permitted\n",
      "[16:08:43] Explicit valence for atom # 0 N, 5, is greater than permitted\n"
     ]
    },
    {
     "name": "stdout",
     "output_type": "stream",
     "text": [
      "1p1q\n"
     ]
    },
    {
     "name": "stderr",
     "output_type": "stream",
     "text": [
      "[16:08:43] Explicit valence for atom # 0 N, 5, is greater than permitted\n",
      "[16:08:43] Explicit valence for atom # 0 N, 5, is greater than permitted\n",
      "[16:08:43] Explicit valence for atom # 0 N, 5, is greater than permitted\n",
      "[16:08:43] Explicit valence for atom # 0 N, 5, is greater than permitted\n",
      "[16:08:43] Explicit valence for atom # 0 N, 5, is greater than permitted\n",
      "[16:08:44] Explicit valence for atom # 0 N, 5, is greater than permitted\n",
      "[16:08:44] Explicit valence for atom # 0 N, 5, is greater than permitted\n",
      "[16:08:44] Explicit valence for atom # 0 N, 5, is greater than permitted\n",
      "Processing PDBs:  66%|███████████████▉        | 188/284 [03:04<01:22,  1.17it/s]"
     ]
    },
    {
     "name": "stdout",
     "output_type": "stream",
     "text": [
      "4x6p\n"
     ]
    },
    {
     "name": "stderr",
     "output_type": "stream",
     "text": [
      "Processing PDBs:  67%|███████████████▉        | 189/284 [03:05<01:15,  1.25it/s]"
     ]
    },
    {
     "name": "stdout",
     "output_type": "stream",
     "text": [
      "3zdg\n"
     ]
    },
    {
     "name": "stderr",
     "output_type": "stream",
     "text": [
      "Processing PDBs:  67%|████████████████        | 190/284 [03:06<01:32,  1.02it/s]"
     ]
    },
    {
     "name": "stdout",
     "output_type": "stream",
     "text": [
      "1o3f\n"
     ]
    },
    {
     "name": "stderr",
     "output_type": "stream",
     "text": [
      "Processing PDBs:  67%|████████████████▏       | 191/284 [03:07<01:23,  1.12it/s]"
     ]
    },
    {
     "name": "stdout",
     "output_type": "stream",
     "text": [
      "4pcs\n"
     ]
    },
    {
     "name": "stderr",
     "output_type": "stream",
     "text": [
      "Processing PDBs:  68%|████████████████▏       | 192/284 [03:08<01:23,  1.10it/s]"
     ]
    },
    {
     "name": "stdout",
     "output_type": "stream",
     "text": [
      "4eky\n"
     ]
    },
    {
     "name": "stderr",
     "output_type": "stream",
     "text": [
      "Processing PDBs:  68%|████████████████▎       | 193/284 [03:10<02:02,  1.35s/it]"
     ]
    },
    {
     "name": "stdout",
     "output_type": "stream",
     "text": [
      "3lka\n"
     ]
    },
    {
     "name": "stderr",
     "output_type": "stream",
     "text": [
      "Processing PDBs:  68%|████████████████▍       | 194/284 [03:11<01:39,  1.11s/it]"
     ]
    },
    {
     "name": "stdout",
     "output_type": "stream",
     "text": [
      "2wca\n"
     ]
    },
    {
     "name": "stderr",
     "output_type": "stream",
     "text": [
      "Processing PDBs:  69%|████████████████▍       | 195/284 [03:12<01:40,  1.13s/it]"
     ]
    },
    {
     "name": "stdout",
     "output_type": "stream",
     "text": [
      "4j21\n"
     ]
    },
    {
     "name": "stderr",
     "output_type": "stream",
     "text": [
      "Processing PDBs:  69%|████████████████▌       | 196/284 [03:12<01:25,  1.03it/s][16:08:52] Explicit valence for atom # 0 N, 5, is greater than permitted\n"
     ]
    },
    {
     "name": "stdout",
     "output_type": "stream",
     "text": [
      "3rr4\n"
     ]
    },
    {
     "name": "stderr",
     "output_type": "stream",
     "text": [
      "[16:08:53] Explicit valence for atom # 0 N, 5, is greater than permitted\n",
      "[16:08:53] Explicit valence for atom # 0 N, 5, is greater than permitted\n",
      "[16:08:53] Explicit valence for atom # 0 N, 5, is greater than permitted\n",
      "[16:08:53] Explicit valence for atom # 0 N, 5, is greater than permitted\n",
      "[16:08:53] Explicit valence for atom # 0 N, 5, is greater than permitted\n",
      "[16:08:53] Explicit valence for atom # 0 N, 5, is greater than permitted\n",
      "[16:08:53] Explicit valence for atom # 0 N, 5, is greater than permitted\n",
      "[16:08:54] Explicit valence for atom # 0 N, 5, is greater than permitted\n",
      "[16:08:54] Explicit valence for atom # 0 N, 5, is greater than permitted\n",
      "Processing PDBs:  69%|████████████████▋       | 197/284 [03:14<01:40,  1.15s/it]"
     ]
    },
    {
     "name": "stdout",
     "output_type": "stream",
     "text": [
      "2iwx\n"
     ]
    },
    {
     "name": "stderr",
     "output_type": "stream",
     "text": [
      "Processing PDBs:  70%|████████████████▋       | 198/284 [03:14<01:24,  1.02it/s]"
     ]
    },
    {
     "name": "stdout",
     "output_type": "stream",
     "text": [
      "3mss\n"
     ]
    },
    {
     "name": "stderr",
     "output_type": "stream",
     "text": [
      "Processing PDBs:  70%|████████████████▊       | 199/284 [03:15<01:15,  1.13it/s]"
     ]
    },
    {
     "name": "stdout",
     "output_type": "stream",
     "text": [
      "1y6r\n"
     ]
    },
    {
     "name": "stderr",
     "output_type": "stream",
     "text": [
      "Processing PDBs:  70%|████████████████▉       | 200/284 [03:16<01:11,  1.17it/s][16:08:56] Explicit valence for atom # 0 N, 5, is greater than permitted\n",
      "[16:08:56] Explicit valence for atom # 0 N, 5, is greater than permitted\n",
      "[16:08:56] Explicit valence for atom # 0 N, 5, is greater than permitted\n"
     ]
    },
    {
     "name": "stdout",
     "output_type": "stream",
     "text": [
      "3g0w\n"
     ]
    },
    {
     "name": "stderr",
     "output_type": "stream",
     "text": [
      "[16:08:56] Explicit valence for atom # 0 N, 5, is greater than permitted\n",
      "[16:08:56] Explicit valence for atom # 0 N, 5, is greater than permitted\n",
      "[16:08:56] Explicit valence for atom # 0 N, 5, is greater than permitted\n",
      "[16:08:56] Explicit valence for atom # 0 N, 5, is greater than permitted\n",
      "[16:08:56] Explicit valence for atom # 0 N, 5, is greater than permitted\n",
      "[16:08:57] Explicit valence for atom # 0 N, 5, is greater than permitted\n",
      "[16:08:57] Explicit valence for atom # 0 N, 5, is greater than permitted\n",
      "Processing PDBs:  71%|████████████████▉       | 201/284 [03:17<01:09,  1.20it/s]"
     ]
    },
    {
     "name": "stdout",
     "output_type": "stream",
     "text": [
      "1nc3\n"
     ]
    },
    {
     "name": "stderr",
     "output_type": "stream",
     "text": [
      "Processing PDBs:  71%|█████████████████       | 202/284 [03:18<01:07,  1.22it/s]"
     ]
    },
    {
     "name": "stdout",
     "output_type": "stream",
     "text": [
      "4k77\n"
     ]
    },
    {
     "name": "stderr",
     "output_type": "stream",
     "text": [
      "Processing PDBs:  71%|█████████████████▏      | 203/284 [03:18<01:02,  1.30it/s][16:08:58] Explicit valence for atom # 0 N, 5, is greater than permitted\n"
     ]
    },
    {
     "name": "stdout",
     "output_type": "stream",
     "text": [
      "3n76\n"
     ]
    },
    {
     "name": "stderr",
     "output_type": "stream",
     "text": [
      "[16:08:59] Explicit valence for atom # 0 N, 5, is greater than permitted\n",
      "[16:08:59] Explicit valence for atom # 0 N, 5, is greater than permitted\n",
      "[16:08:59] Explicit valence for atom # 0 N, 5, is greater than permitted\n",
      "[16:08:59] Explicit valence for atom # 0 N, 5, is greater than permitted\n",
      "[16:09:00] Explicit valence for atom # 0 N, 5, is greater than permitted\n",
      "[16:09:00] Explicit valence for atom # 0 N, 5, is greater than permitted\n",
      "[16:09:00] Explicit valence for atom # 0 N, 5, is greater than permitted\n",
      "[16:09:00] Explicit valence for atom # 0 N, 5, is greater than permitted\n",
      "[16:09:00] Explicit valence for atom # 0 N, 5, is greater than permitted\n",
      "Processing PDBs:  72%|█████████████████▏      | 204/284 [03:21<01:42,  1.28s/it][16:09:01] Explicit valence for atom # 0 N, 5, is greater than permitted\n",
      "[16:09:01] Explicit valence for atom # 0 N, 5, is greater than permitted\n",
      "[16:09:01] Explicit valence for atom # 0 N, 5, is greater than permitted\n"
     ]
    },
    {
     "name": "stdout",
     "output_type": "stream",
     "text": [
      "3o9i\n"
     ]
    },
    {
     "name": "stderr",
     "output_type": "stream",
     "text": [
      "[16:09:01] Explicit valence for atom # 0 N, 5, is greater than permitted\n",
      "[16:09:01] Explicit valence for atom # 0 N, 5, is greater than permitted\n",
      "[16:09:01] Explicit valence for atom # 0 N, 5, is greater than permitted\n",
      "[16:09:01] Explicit valence for atom # 0 N, 5, is greater than permitted\n",
      "[16:09:01] Explicit valence for atom # 0 N, 5, is greater than permitted\n",
      "[16:09:01] Explicit valence for atom # 0 N, 5, is greater than permitted\n",
      "[16:09:01] Explicit valence for atom # 0 N, 5, is greater than permitted\n",
      "Processing PDBs:  72%|█████████████████▎      | 205/284 [03:21<01:27,  1.10s/it]"
     ]
    },
    {
     "name": "stdout",
     "output_type": "stream",
     "text": [
      "3nw9\n"
     ]
    },
    {
     "name": "stderr",
     "output_type": "stream",
     "text": [
      "Processing PDBs:  73%|█████████████████▍      | 206/284 [03:22<01:14,  1.05it/s]"
     ]
    },
    {
     "name": "stdout",
     "output_type": "stream",
     "text": [
      "3ejr\n"
     ]
    },
    {
     "name": "stderr",
     "output_type": "stream",
     "text": [
      "Processing PDBs:  73%|█████████████████▍      | 207/284 [03:31<04:28,  3.49s/it]"
     ]
    },
    {
     "name": "stdout",
     "output_type": "stream",
     "text": [
      "3kwa\n"
     ]
    },
    {
     "name": "stderr",
     "output_type": "stream",
     "text": [
      "Processing PDBs:  73%|█████████████████▌      | 208/284 [03:32<03:21,  2.65s/it]"
     ]
    },
    {
     "name": "stdout",
     "output_type": "stream",
     "text": [
      "3qgy\n"
     ]
    },
    {
     "name": "stderr",
     "output_type": "stream",
     "text": [
      "Processing PDBs:  74%|█████████████████▋      | 209/284 [03:33<02:33,  2.04s/it]"
     ]
    },
    {
     "name": "stdout",
     "output_type": "stream",
     "text": [
      "3p5o\n"
     ]
    },
    {
     "name": "stderr",
     "output_type": "stream",
     "text": [
      "Processing PDBs:  74%|█████████████████▋      | 210/284 [03:33<01:57,  1.59s/it][16:09:13] Explicit valence for atom # 0 N, 5, is greater than permitted\n",
      "[16:09:13] Explicit valence for atom # 0 N, 5, is greater than permitted\n"
     ]
    },
    {
     "name": "stdout",
     "output_type": "stream",
     "text": [
      "2xdl\n"
     ]
    },
    {
     "name": "stderr",
     "output_type": "stream",
     "text": [
      "[16:09:13] Explicit valence for atom # 0 N, 5, is greater than permitted\n",
      "[16:09:13] Explicit valence for atom # 0 N, 5, is greater than permitted\n",
      "[16:09:14] Explicit valence for atom # 0 N, 5, is greater than permitted\n",
      "[16:09:14] Explicit valence for atom # 0 N, 5, is greater than permitted\n",
      "[16:09:14] Explicit valence for atom # 0 N, 5, is greater than permitted\n",
      "[16:09:14] Explicit valence for atom # 0 N, 5, is greater than permitted\n",
      "[16:09:14] Explicit valence for atom # 0 N, 5, is greater than permitted\n",
      "[16:09:14] Explicit valence for atom # 0 N, 5, is greater than permitted\n",
      "Processing PDBs:  74%|█████████████████▊      | 211/284 [03:34<01:41,  1.39s/it]"
     ]
    },
    {
     "name": "stdout",
     "output_type": "stream",
     "text": [
      "3ozt\n"
     ]
    },
    {
     "name": "stderr",
     "output_type": "stream",
     "text": [
      "Processing PDBs:  75%|█████████████████▉      | 212/284 [03:35<01:22,  1.15s/it][16:09:15] Explicit valence for atom # 0 N, 5, is greater than permitted\n"
     ]
    },
    {
     "name": "stdout",
     "output_type": "stream",
     "text": [
      "3u8k\n"
     ]
    },
    {
     "name": "stderr",
     "output_type": "stream",
     "text": [
      "[16:09:15] Explicit valence for atom # 0 N, 5, is greater than permitted\n",
      "[16:09:15] Explicit valence for atom # 0 N, 5, is greater than permitted\n",
      "[16:09:15] Explicit valence for atom # 0 N, 5, is greater than permitted\n",
      "[16:09:15] Explicit valence for atom # 0 N, 5, is greater than permitted\n",
      "[16:09:16] Explicit valence for atom # 0 N, 5, is greater than permitted\n",
      "[16:09:16] Explicit valence for atom # 0 N, 5, is greater than permitted\n",
      "[16:09:16] Explicit valence for atom # 0 N, 5, is greater than permitted\n",
      "[16:09:16] Explicit valence for atom # 0 N, 5, is greater than permitted\n",
      "[16:09:16] Explicit valence for atom # 0 N, 5, is greater than permitted\n",
      "Processing PDBs:  75%|██████████████████      | 213/284 [03:36<01:32,  1.31s/it]"
     ]
    },
    {
     "name": "stdout",
     "output_type": "stream",
     "text": [
      "1bzc\n"
     ]
    },
    {
     "name": "stderr",
     "output_type": "stream",
     "text": [
      "Processing PDBs:  75%|██████████████████      | 214/284 [03:37<01:19,  1.14s/it]"
     ]
    },
    {
     "name": "stdout",
     "output_type": "stream",
     "text": [
      "2p4y\n"
     ]
    },
    {
     "name": "stderr",
     "output_type": "stream",
     "text": [
      "Processing PDBs:  76%|██████████████████▏     | 215/284 [03:38<01:11,  1.04s/it]"
     ]
    },
    {
     "name": "stdout",
     "output_type": "stream",
     "text": [
      "3myg\n"
     ]
    },
    {
     "name": "stderr",
     "output_type": "stream",
     "text": [
      "Processing PDBs:  76%|██████████████████▎     | 216/284 [03:39<01:02,  1.09it/s]"
     ]
    },
    {
     "name": "stdout",
     "output_type": "stream",
     "text": [
      "3acw\n"
     ]
    },
    {
     "name": "stderr",
     "output_type": "stream",
     "text": [
      "Processing PDBs:  76%|██████████████████▎     | 217/284 [03:39<00:57,  1.17it/s]"
     ]
    },
    {
     "name": "stdout",
     "output_type": "stream",
     "text": [
      "3dd0\n"
     ]
    },
    {
     "name": "stderr",
     "output_type": "stream",
     "text": [
      "Processing PDBs:  77%|██████████████████▍     | 218/284 [03:40<00:53,  1.25it/s][16:09:20] Explicit valence for atom # 0 N, 5, is greater than permitted\n",
      "[16:09:20] Explicit valence for atom # 0 N, 5, is greater than permitted\n",
      "[16:09:20] Explicit valence for atom # 0 N, 5, is greater than permitted\n"
     ]
    },
    {
     "name": "stdout",
     "output_type": "stream",
     "text": [
      "3bv9\n"
     ]
    },
    {
     "name": "stderr",
     "output_type": "stream",
     "text": [
      "[16:09:20] Explicit valence for atom # 0 N, 5, is greater than permitted\n",
      "[16:09:20] Explicit valence for atom # 0 N, 5, is greater than permitted\n",
      "[16:09:20] Explicit valence for atom # 0 N, 5, is greater than permitted\n",
      "[16:09:20] Explicit valence for atom # 0 N, 5, is greater than permitted\n",
      "[16:09:20] Explicit valence for atom # 0 N, 5, is greater than permitted\n",
      "[16:09:21] Explicit valence for atom # 0 N, 5, is greater than permitted\n",
      "[16:09:21] Explicit valence for atom # 0 N, 5, is greater than permitted\n",
      "Processing PDBs:  77%|██████████████████▌     | 219/284 [03:41<00:52,  1.24it/s]"
     ]
    },
    {
     "name": "stdout",
     "output_type": "stream",
     "text": [
      "4crc\n"
     ]
    },
    {
     "name": "stderr",
     "output_type": "stream",
     "text": [
      "Processing PDBs:  77%|██████████████████▌     | 220/284 [03:41<00:49,  1.30it/s][16:09:21] Explicit valence for atom # 0 N, 5, is greater than permitted\n"
     ]
    },
    {
     "name": "stdout",
     "output_type": "stream",
     "text": [
      "3ge7\n"
     ]
    },
    {
     "name": "stderr",
     "output_type": "stream",
     "text": [
      "[16:09:22] Explicit valence for atom # 0 N, 5, is greater than permitted\n",
      "[16:09:22] Explicit valence for atom # 0 N, 5, is greater than permitted\n",
      "[16:09:22] Explicit valence for atom # 0 N, 5, is greater than permitted\n",
      "[16:09:22] Explicit valence for atom # 0 N, 5, is greater than permitted\n",
      "[16:09:22] Explicit valence for atom # 0 N, 5, is greater than permitted\n",
      "[16:09:22] Explicit valence for atom # 0 N, 5, is greater than permitted\n",
      "[16:09:23] Explicit valence for atom # 0 N, 5, is greater than permitted\n",
      "[16:09:23] Explicit valence for atom # 0 N, 5, is greater than permitted\n",
      "[16:09:23] Explicit valence for atom # 0 N, 5, is greater than permitted\n",
      "Processing PDBs:  78%|██████████████████▋     | 221/284 [03:43<01:03,  1.00s/it]"
     ]
    },
    {
     "name": "stdout",
     "output_type": "stream",
     "text": [
      "3jya\n"
     ]
    },
    {
     "name": "stderr",
     "output_type": "stream",
     "text": [
      "Processing PDBs:  78%|██████████████████▊     | 222/284 [03:44<00:56,  1.10it/s]"
     ]
    },
    {
     "name": "stdout",
     "output_type": "stream",
     "text": [
      "4rfm\n"
     ]
    },
    {
     "name": "stderr",
     "output_type": "stream",
     "text": [
      "Processing PDBs:  79%|██████████████████▊     | 223/284 [03:44<00:50,  1.21it/s]"
     ]
    },
    {
     "name": "stdout",
     "output_type": "stream",
     "text": [
      "1z9g\n"
     ]
    },
    {
     "name": "stderr",
     "output_type": "stream",
     "text": [
      "Processing PDBs:  79%|██████████████████▉     | 224/284 [03:45<00:47,  1.26it/s]"
     ]
    },
    {
     "name": "stdout",
     "output_type": "stream",
     "text": [
      "2hb1\n"
     ]
    },
    {
     "name": "stderr",
     "output_type": "stream",
     "text": [
      "Processing PDBs:  79%|███████████████████     | 225/284 [03:46<00:45,  1.30it/s]"
     ]
    },
    {
     "name": "stdout",
     "output_type": "stream",
     "text": [
      "4f3c\n"
     ]
    },
    {
     "name": "stderr",
     "output_type": "stream",
     "text": [
      "Processing PDBs:  80%|███████████████████     | 226/284 [03:47<00:44,  1.29it/s]"
     ]
    },
    {
     "name": "stdout",
     "output_type": "stream",
     "text": [
      "5aba\n"
     ]
    },
    {
     "name": "stderr",
     "output_type": "stream",
     "text": [
      "Processing PDBs:  80%|███████████████████▏    | 227/284 [03:47<00:40,  1.39it/s]"
     ]
    },
    {
     "name": "stdout",
     "output_type": "stream",
     "text": [
      "1bcu\n"
     ]
    },
    {
     "name": "stderr",
     "output_type": "stream",
     "text": [
      "Processing PDBs:  80%|███████████████████▎    | 228/284 [03:48<00:39,  1.42it/s]"
     ]
    },
    {
     "name": "stdout",
     "output_type": "stream",
     "text": [
      "2zcr\n"
     ]
    },
    {
     "name": "stderr",
     "output_type": "stream",
     "text": [
      "Processing PDBs:  81%|███████████████████▎    | 229/284 [03:48<00:38,  1.43it/s]"
     ]
    },
    {
     "name": "stdout",
     "output_type": "stream",
     "text": [
      "4llx\n"
     ]
    },
    {
     "name": "stderr",
     "output_type": "stream",
     "text": [
      "Processing PDBs:  81%|███████████████████▍    | 230/284 [03:49<00:38,  1.39it/s]"
     ]
    },
    {
     "name": "stdout",
     "output_type": "stream",
     "text": [
      "3f3d\n"
     ]
    },
    {
     "name": "stderr",
     "output_type": "stream",
     "text": [
      "Processing PDBs:  81%|███████████████████▌    | 231/284 [03:51<00:53,  1.00s/it][16:09:31] Explicit valence for atom # 0 N, 5, is greater than permitted\n"
     ]
    },
    {
     "name": "stdout",
     "output_type": "stream",
     "text": [
      "2wnc\n"
     ]
    },
    {
     "name": "stderr",
     "output_type": "stream",
     "text": [
      "[16:09:31] Explicit valence for atom # 0 N, 5, is greater than permitted\n",
      "[16:09:31] Explicit valence for atom # 0 N, 5, is greater than permitted\n",
      "[16:09:31] Explicit valence for atom # 0 N, 5, is greater than permitted\n",
      "[16:09:32] Explicit valence for atom # 0 N, 5, is greater than permitted\n",
      "[16:09:32] Explicit valence for atom # 0 N, 5, is greater than permitted\n",
      "[16:09:32] Explicit valence for atom # 0 N, 5, is greater than permitted\n",
      "[16:09:32] Explicit valence for atom # 0 N, 5, is greater than permitted\n",
      "[16:09:32] Explicit valence for atom # 0 N, 5, is greater than permitted\n",
      "[16:09:32] Explicit valence for atom # 0 N, 5, is greater than permitted\n",
      "Processing PDBs:  82%|███████████████████▌    | 232/284 [03:53<01:03,  1.21s/it]"
     ]
    },
    {
     "name": "stdout",
     "output_type": "stream",
     "text": [
      "3twp\n"
     ]
    },
    {
     "name": "stderr",
     "output_type": "stream",
     "text": [
      "Processing PDBs:  82%|███████████████████▋    | 233/284 [03:53<00:54,  1.06s/it]"
     ]
    },
    {
     "name": "stdout",
     "output_type": "stream",
     "text": [
      "3d4z\n"
     ]
    },
    {
     "name": "stderr",
     "output_type": "stream",
     "text": [
      "Processing PDBs:  82%|███████████████████▊    | 234/284 [04:03<02:59,  3.60s/it]"
     ]
    },
    {
     "name": "stdout",
     "output_type": "stream",
     "text": [
      "3e93\n"
     ]
    },
    {
     "name": "stderr",
     "output_type": "stream",
     "text": [
      "Processing PDBs:  83%|███████████████████▊    | 235/284 [04:04<02:14,  2.74s/it]"
     ]
    },
    {
     "name": "stdout",
     "output_type": "stream",
     "text": [
      "2qnq\n"
     ]
    },
    {
     "name": "stderr",
     "output_type": "stream",
     "text": [
      "Processing PDBs:  83%|███████████████████▉    | 236/284 [04:04<01:40,  2.09s/it]"
     ]
    },
    {
     "name": "stdout",
     "output_type": "stream",
     "text": [
      "4gkm\n"
     ]
    },
    {
     "name": "stderr",
     "output_type": "stream",
     "text": [
      "Processing PDBs:  83%|████████████████████    | 237/284 [04:05<01:23,  1.77s/it]"
     ]
    },
    {
     "name": "stdout",
     "output_type": "stream",
     "text": [
      "3gnw\n"
     ]
    },
    {
     "name": "stderr",
     "output_type": "stream",
     "text": [
      "Processing PDBs:  84%|████████████████████    | 238/284 [04:06<01:10,  1.53s/it]"
     ]
    },
    {
     "name": "stdout",
     "output_type": "stream",
     "text": [
      "1s38\n"
     ]
    },
    {
     "name": "stderr",
     "output_type": "stream",
     "text": [
      "Processing PDBs:  84%|████████████████████▏   | 239/284 [04:07<00:58,  1.29s/it]"
     ]
    },
    {
     "name": "stdout",
     "output_type": "stream",
     "text": [
      "2yfe\n"
     ]
    },
    {
     "name": "stderr",
     "output_type": "stream",
     "text": [
      "Processing PDBs:  85%|████████████████████▎   | 240/284 [04:08<00:48,  1.10s/it][16:09:47] Explicit valence for atom # 0 N, 5, is greater than permitted\n",
      "[16:09:48] Explicit valence for atom # 0 N, 5, is greater than permitted\n",
      "[16:09:48] Explicit valence for atom # 0 N, 5, is greater than permitted\n"
     ]
    },
    {
     "name": "stdout",
     "output_type": "stream",
     "text": [
      "2xbv\n"
     ]
    },
    {
     "name": "stderr",
     "output_type": "stream",
     "text": [
      "[16:09:48] Explicit valence for atom # 0 N, 5, is greater than permitted\n",
      "[16:09:48] Explicit valence for atom # 0 N, 5, is greater than permitted\n",
      "[16:09:48] Explicit valence for atom # 0 N, 5, is greater than permitted\n",
      "[16:09:48] Explicit valence for atom # 0 N, 5, is greater than permitted\n",
      "[16:09:48] Explicit valence for atom # 0 N, 5, is greater than permitted\n",
      "[16:09:48] Explicit valence for atom # 0 N, 5, is greater than permitted\n",
      "[16:09:48] Explicit valence for atom # 0 N, 5, is greater than permitted\n",
      "Processing PDBs:  85%|████████████████████▎   | 241/284 [04:08<00:42,  1.00it/s]"
     ]
    },
    {
     "name": "stdout",
     "output_type": "stream",
     "text": [
      "4jia\n"
     ]
    },
    {
     "name": "stderr",
     "output_type": "stream",
     "text": [
      "Processing PDBs:  85%|████████████████████▍   | 242/284 [04:09<00:38,  1.10it/s]"
     ]
    },
    {
     "name": "stdout",
     "output_type": "stream",
     "text": [
      "2wvt\n"
     ]
    },
    {
     "name": "stderr",
     "output_type": "stream",
     "text": [
      "Processing PDBs:  86%|████████████████████▌   | 243/284 [04:11<00:45,  1.11s/it]"
     ]
    },
    {
     "name": "stdout",
     "output_type": "stream",
     "text": [
      "3wz8\n"
     ]
    },
    {
     "name": "stderr",
     "output_type": "stream",
     "text": [
      "Processing PDBs:  86%|████████████████████▌   | 244/284 [04:11<00:40,  1.00s/it][16:09:51] Explicit valence for atom # 0 N, 5, is greater than permitted\n",
      "[16:09:51] Explicit valence for atom # 0 N, 5, is greater than permitted\n",
      "[16:09:51] Explicit valence for atom # 0 N, 5, is greater than permitted\n"
     ]
    },
    {
     "name": "stdout",
     "output_type": "stream",
     "text": [
      "3pyy\n"
     ]
    },
    {
     "name": "stderr",
     "output_type": "stream",
     "text": [
      "[16:09:52] Explicit valence for atom # 0 N, 5, is greater than permitted\n",
      "[16:09:52] Explicit valence for atom # 0 N, 5, is greater than permitted\n",
      "[16:09:52] Explicit valence for atom # 0 N, 5, is greater than permitted\n",
      "[16:09:52] Explicit valence for atom # 0 N, 5, is greater than permitted\n",
      "[16:09:52] Explicit valence for atom # 0 N, 5, is greater than permitted\n",
      "[16:09:52] Explicit valence for atom # 0 N, 5, is greater than permitted\n",
      "[16:09:52] Explicit valence for atom # 0 N, 5, is greater than permitted\n",
      "Processing PDBs:  86%|████████████████████▋   | 245/284 [04:12<00:36,  1.07it/s]"
     ]
    },
    {
     "name": "stdout",
     "output_type": "stream",
     "text": [
      "2zy1\n"
     ]
    },
    {
     "name": "stderr",
     "output_type": "stream",
     "text": [
      "Processing PDBs:  87%|████████████████████▊   | 246/284 [04:13<00:32,  1.16it/s][16:09:53] Explicit valence for atom # 0 N, 5, is greater than permitted\n"
     ]
    },
    {
     "name": "stdout",
     "output_type": "stream",
     "text": [
      "3n7a\n"
     ]
    },
    {
     "name": "stderr",
     "output_type": "stream",
     "text": [
      "[16:09:53] Explicit valence for atom # 0 N, 5, is greater than permitted\n",
      "[16:09:53] Explicit valence for atom # 0 N, 5, is greater than permitted\n",
      "[16:09:54] Explicit valence for atom # 0 N, 5, is greater than permitted\n",
      "[16:09:54] Explicit valence for atom # 0 N, 5, is greater than permitted\n",
      "[16:09:54] Explicit valence for atom # 0 N, 5, is greater than permitted\n",
      "[16:09:54] Explicit valence for atom # 0 N, 5, is greater than permitted\n",
      "[16:09:55] Explicit valence for atom # 0 N, 5, is greater than permitted\n",
      "[16:09:55] Explicit valence for atom # 0 N, 5, is greater than permitted\n",
      "[16:09:55] Explicit valence for atom # 0 N, 5, is greater than permitted\n",
      "Processing PDBs:  87%|████████████████████▊   | 247/284 [04:15<00:50,  1.35s/it]"
     ]
    },
    {
     "name": "stdout",
     "output_type": "stream",
     "text": [
      "2pog\n"
     ]
    },
    {
     "name": "stderr",
     "output_type": "stream",
     "text": [
      "Processing PDBs:  87%|████████████████████▉   | 248/284 [04:16<00:42,  1.19s/it]"
     ]
    },
    {
     "name": "stdout",
     "output_type": "stream",
     "text": [
      "4cra\n"
     ]
    },
    {
     "name": "stderr",
     "output_type": "stream",
     "text": [
      "Processing PDBs:  88%|█████████████████████   | 249/284 [04:17<00:36,  1.03s/it]"
     ]
    },
    {
     "name": "stdout",
     "output_type": "stream",
     "text": [
      "3d6q\n"
     ]
    },
    {
     "name": "stderr",
     "output_type": "stream",
     "text": [
      "Processing PDBs:  88%|█████████████████████▏  | 250/284 [04:17<00:29,  1.13it/s]"
     ]
    },
    {
     "name": "stdout",
     "output_type": "stream",
     "text": [
      "1syi\n"
     ]
    },
    {
     "name": "stderr",
     "output_type": "stream",
     "text": [
      "Processing PDBs:  88%|█████████████████████▏  | 251/284 [04:18<00:29,  1.13it/s]"
     ]
    },
    {
     "name": "stdout",
     "output_type": "stream",
     "text": [
      "2w66\n"
     ]
    },
    {
     "name": "stderr",
     "output_type": "stream",
     "text": [
      "Processing PDBs:  89%|█████████████████████▎  | 252/284 [04:20<00:32,  1.01s/it]"
     ]
    },
    {
     "name": "stdout",
     "output_type": "stream",
     "text": [
      "4gid\n"
     ]
    },
    {
     "name": "stderr",
     "output_type": "stream",
     "text": [
      "Processing PDBs:  89%|█████████████████████▍  | 253/284 [04:21<00:31,  1.01s/it]"
     ]
    },
    {
     "name": "stdout",
     "output_type": "stream",
     "text": [
      "3ebp\n"
     ]
    },
    {
     "name": "stderr",
     "output_type": "stream",
     "text": [
      "Processing PDBs:  89%|█████████████████████▍  | 254/284 [04:23<00:43,  1.45s/it]"
     ]
    },
    {
     "name": "stdout",
     "output_type": "stream",
     "text": [
      "3fcq\n"
     ]
    },
    {
     "name": "stderr",
     "output_type": "stream",
     "text": [
      "Processing PDBs:  90%|█████████████████████▌  | 255/284 [04:24<00:35,  1.23s/it]"
     ]
    },
    {
     "name": "stdout",
     "output_type": "stream",
     "text": [
      "1nc1\n"
     ]
    },
    {
     "name": "stderr",
     "output_type": "stream",
     "text": [
      "Processing PDBs:  90%|█████████████████████▋  | 256/284 [04:25<00:30,  1.10s/it]"
     ]
    },
    {
     "name": "stdout",
     "output_type": "stream",
     "text": [
      "3ivg\n"
     ]
    },
    {
     "name": "stderr",
     "output_type": "stream",
     "text": [
      "Processing PDBs:  90%|█████████████████████▋  | 257/284 [04:25<00:28,  1.05s/it]"
     ]
    },
    {
     "name": "stdout",
     "output_type": "stream",
     "text": [
      "2zb1\n"
     ]
    },
    {
     "name": "stderr",
     "output_type": "stream",
     "text": [
      "Processing PDBs:  91%|█████████████████████▊  | 258/284 [04:26<00:24,  1.05it/s]"
     ]
    },
    {
     "name": "stdout",
     "output_type": "stream",
     "text": [
      "3uew\n"
     ]
    },
    {
     "name": "stderr",
     "output_type": "stream",
     "text": [
      "Processing PDBs:  91%|█████████████████████▉  | 259/284 [04:27<00:22,  1.13it/s][16:10:07] Explicit valence for atom # 0 N, 5, is greater than permitted\n",
      "[16:10:07] Explicit valence for atom # 0 N, 5, is greater than permitted\n"
     ]
    },
    {
     "name": "stdout",
     "output_type": "stream",
     "text": [
      "1h23\n"
     ]
    },
    {
     "name": "stderr",
     "output_type": "stream",
     "text": [
      "[16:10:07] Explicit valence for atom # 0 N, 5, is greater than permitted\n",
      "[16:10:07] Explicit valence for atom # 0 N, 5, is greater than permitted\n",
      "[16:10:07] Explicit valence for atom # 0 N, 5, is greater than permitted\n",
      "[16:10:07] Explicit valence for atom # 0 N, 5, is greater than permitted\n",
      "[16:10:08] Explicit valence for atom # 0 N, 5, is greater than permitted\n",
      "[16:10:08] Explicit valence for atom # 0 N, 5, is greater than permitted\n",
      "[16:10:08] Explicit valence for atom # 0 N, 5, is greater than permitted\n",
      "[16:10:08] Explicit valence for atom # 0 N, 5, is greater than permitted\n",
      "Processing PDBs:  92%|█████████████████████▉  | 260/284 [04:28<00:23,  1.03it/s]"
     ]
    },
    {
     "name": "stdout",
     "output_type": "stream",
     "text": [
      "3b27\n"
     ]
    },
    {
     "name": "stderr",
     "output_type": "stream",
     "text": [
      "Processing PDBs:  92%|██████████████████████  | 261/284 [04:29<00:19,  1.17it/s]"
     ]
    },
    {
     "name": "stdout",
     "output_type": "stream",
     "text": [
      "4cig\n"
     ]
    },
    {
     "name": "stderr",
     "output_type": "stream",
     "text": [
      "Processing PDBs:  92%|██████████████████████▏ | 262/284 [04:29<00:17,  1.25it/s]"
     ]
    },
    {
     "name": "stdout",
     "output_type": "stream",
     "text": [
      "3rlr\n"
     ]
    },
    {
     "name": "stderr",
     "output_type": "stream",
     "text": [
      "Processing PDBs:  93%|██████████████████████▏ | 263/284 [04:30<00:15,  1.34it/s]"
     ]
    },
    {
     "name": "stdout",
     "output_type": "stream",
     "text": [
      "4ddk\n"
     ]
    },
    {
     "name": "stderr",
     "output_type": "stream",
     "text": [
      "Processing PDBs:  93%|██████████████████████▎ | 264/284 [04:31<00:15,  1.27it/s]"
     ]
    },
    {
     "name": "stdout",
     "output_type": "stream",
     "text": [
      "3nq9\n"
     ]
    },
    {
     "name": "stderr",
     "output_type": "stream",
     "text": [
      "Processing PDBs:  93%|██████████████████████▍ | 265/284 [04:31<00:13,  1.39it/s]"
     ]
    },
    {
     "name": "stdout",
     "output_type": "stream",
     "text": [
      "4jfs\n"
     ]
    },
    {
     "name": "stderr",
     "output_type": "stream",
     "text": [
      "Processing PDBs:  94%|██████████████████████▍ | 266/284 [04:32<00:14,  1.25it/s][16:10:12] Explicit valence for atom # 0 N, 5, is greater than permitted\n"
     ]
    },
    {
     "name": "stdout",
     "output_type": "stream",
     "text": [
      "2xb8\n"
     ]
    },
    {
     "name": "stderr",
     "output_type": "stream",
     "text": [
      "[16:10:13] Explicit valence for atom # 0 N, 5, is greater than permitted\n",
      "[16:10:13] Explicit valence for atom # 0 N, 5, is greater than permitted\n",
      "[16:10:13] Explicit valence for atom # 0 N, 5, is greater than permitted\n",
      "[16:10:14] Explicit valence for atom # 0 N, 5, is greater than permitted\n",
      "[16:10:14] Explicit valence for atom # 0 N, 5, is greater than permitted\n",
      "[16:10:14] Explicit valence for atom # 0 N, 5, is greater than permitted\n",
      "[16:10:14] Explicit valence for atom # 0 N, 5, is greater than permitted\n",
      "[16:10:15] Explicit valence for atom # 0 N, 5, is greater than permitted\n",
      "[16:10:15] Explicit valence for atom # 0 N, 5, is greater than permitted\n",
      "Processing PDBs:  94%|██████████████████████▌ | 267/284 [04:35<00:23,  1.36s/it][16:10:15] Explicit valence for atom # 0 N, 5, is greater than permitted\n"
     ]
    },
    {
     "name": "stdout",
     "output_type": "stream",
     "text": [
      "4mgd\n"
     ]
    },
    {
     "name": "stderr",
     "output_type": "stream",
     "text": [
      "[16:10:15] Explicit valence for atom # 0 N, 5, is greater than permitted\n",
      "[16:10:15] Explicit valence for atom # 0 N, 5, is greater than permitted\n",
      "[16:10:15] Explicit valence for atom # 0 N, 5, is greater than permitted\n",
      "[16:10:16] Explicit valence for atom # 0 N, 5, is greater than permitted\n",
      "[16:10:16] Explicit valence for atom # 0 N, 5, is greater than permitted\n",
      "[16:10:16] Explicit valence for atom # 0 N, 5, is greater than permitted\n",
      "[16:10:16] Explicit valence for atom # 0 N, 5, is greater than permitted\n",
      "[16:10:16] Explicit valence for atom # 0 N, 5, is greater than permitted\n",
      "[16:10:16] Explicit valence for atom # 0 N, 5, is greater than permitted\n",
      "Processing PDBs:  94%|██████████████████████▋ | 268/284 [04:36<00:21,  1.31s/it]"
     ]
    },
    {
     "name": "stdout",
     "output_type": "stream",
     "text": [
      "1uto\n"
     ]
    },
    {
     "name": "stderr",
     "output_type": "stream",
     "text": [
      "Processing PDBs:  95%|██████████████████████▋ | 269/284 [04:37<00:17,  1.14s/it]"
     ]
    },
    {
     "name": "stdout",
     "output_type": "stream",
     "text": [
      "2wtv\n"
     ]
    },
    {
     "name": "stderr",
     "output_type": "stream",
     "text": [
      "Processing PDBs:  95%|██████████████████████▊ | 270/284 [04:38<00:14,  1.02s/it]"
     ]
    },
    {
     "name": "stdout",
     "output_type": "stream",
     "text": [
      "1z6e\n"
     ]
    },
    {
     "name": "stderr",
     "output_type": "stream",
     "text": [
      "Processing PDBs:  95%|██████████████████████▉ | 271/284 [04:38<00:12,  1.06it/s]"
     ]
    },
    {
     "name": "stdout",
     "output_type": "stream",
     "text": [
      "3kgp\n"
     ]
    },
    {
     "name": "stderr",
     "output_type": "stream",
     "text": [
      "Processing PDBs:  96%|██████████████████████▉ | 272/284 [04:39<00:10,  1.16it/s]"
     ]
    },
    {
     "name": "stdout",
     "output_type": "stream",
     "text": [
      "4agq\n"
     ]
    },
    {
     "name": "stderr",
     "output_type": "stream",
     "text": [
      "Processing PDBs:  96%|███████████████████████ | 273/284 [04:40<00:08,  1.25it/s]"
     ]
    },
    {
     "name": "stdout",
     "output_type": "stream",
     "text": [
      "3prs\n"
     ]
    },
    {
     "name": "stderr",
     "output_type": "stream",
     "text": [
      "Processing PDBs:  96%|███████████████████████▏| 274/284 [04:41<00:08,  1.22it/s]"
     ]
    },
    {
     "name": "stdout",
     "output_type": "stream",
     "text": [
      "4ddh\n"
     ]
    },
    {
     "name": "stderr",
     "output_type": "stream",
     "text": [
      "Processing PDBs:  97%|███████████████████████▏| 275/284 [04:42<00:08,  1.06it/s]"
     ]
    },
    {
     "name": "stdout",
     "output_type": "stream",
     "text": [
      "3oe4\n"
     ]
    },
    {
     "name": "stderr",
     "output_type": "stream",
     "text": [
      "Processing PDBs:  97%|███████████████████████▎| 276/284 [04:43<00:07,  1.12it/s]"
     ]
    },
    {
     "name": "stdout",
     "output_type": "stream",
     "text": [
      "3g31\n"
     ]
    },
    {
     "name": "stderr",
     "output_type": "stream",
     "text": [
      "Processing PDBs:  98%|███████████████████████▍| 277/284 [04:43<00:05,  1.22it/s]"
     ]
    },
    {
     "name": "stdout",
     "output_type": "stream",
     "text": [
      "4jsz\n"
     ]
    },
    {
     "name": "stderr",
     "output_type": "stream",
     "text": [
      "Processing PDBs:  98%|███████████████████████▍| 278/284 [04:44<00:04,  1.26it/s]"
     ]
    },
    {
     "name": "stdout",
     "output_type": "stream",
     "text": [
      "3udh\n"
     ]
    },
    {
     "name": "stderr",
     "output_type": "stream",
     "text": [
      "Processing PDBs:  98%|███████████████████████▌| 279/284 [04:45<00:04,  1.17it/s][16:10:25] Explicit valence for atom # 0 N, 5, is greater than permitted\n",
      "[16:10:25] Explicit valence for atom # 0 N, 5, is greater than permitted\n"
     ]
    },
    {
     "name": "stdout",
     "output_type": "stream",
     "text": [
      "4w9l\n"
     ]
    },
    {
     "name": "stderr",
     "output_type": "stream",
     "text": [
      "[16:10:25] Explicit valence for atom # 0 N, 5, is greater than permitted\n",
      "[16:10:25] Explicit valence for atom # 0 N, 5, is greater than permitted\n",
      "[16:10:25] Explicit valence for atom # 0 N, 5, is greater than permitted\n",
      "[16:10:25] Explicit valence for atom # 0 N, 5, is greater than permitted\n",
      "[16:10:26] Explicit valence for atom # 0 N, 5, is greater than permitted\n",
      "[16:10:26] Explicit valence for atom # 0 N, 5, is greater than permitted\n",
      "[16:10:26] Explicit valence for atom # 0 N, 5, is greater than permitted\n",
      "[16:10:26] Explicit valence for atom # 0 N, 5, is greater than permitted\n",
      "Processing PDBs:  99%|███████████████████████▋| 280/284 [04:46<00:03,  1.15it/s]"
     ]
    },
    {
     "name": "stdout",
     "output_type": "stream",
     "text": [
      "2cbv\n"
     ]
    },
    {
     "name": "stderr",
     "output_type": "stream",
     "text": [
      "Processing PDBs:  99%|███████████████████████▋| 281/284 [04:47<00:02,  1.09it/s][16:10:27] Explicit valence for atom # 0 N, 5, is greater than permitted\n",
      "[16:10:27] Explicit valence for atom # 0 N, 5, is greater than permitted\n"
     ]
    },
    {
     "name": "stdout",
     "output_type": "stream",
     "text": [
      "4j28\n"
     ]
    },
    {
     "name": "stderr",
     "output_type": "stream",
     "text": [
      "[16:10:27] Explicit valence for atom # 0 N, 5, is greater than permitted\n",
      "[16:10:27] Explicit valence for atom # 0 N, 5, is greater than permitted\n",
      "[16:10:27] Explicit valence for atom # 0 N, 5, is greater than permitted\n",
      "[16:10:28] Explicit valence for atom # 0 N, 5, is greater than permitted\n",
      "[16:10:28] Explicit valence for atom # 0 N, 5, is greater than permitted\n",
      "[16:10:28] Explicit valence for atom # 0 N, 5, is greater than permitted\n",
      "[16:10:28] Explicit valence for atom # 0 N, 5, is greater than permitted\n",
      "[16:10:28] Explicit valence for atom # 0 N, 5, is greater than permitted\n",
      "Processing PDBs:  99%|███████████████████████▊| 282/284 [04:48<00:01,  1.03it/s]"
     ]
    },
    {
     "name": "stdout",
     "output_type": "stream",
     "text": [
      "2j78\n"
     ]
    },
    {
     "name": "stderr",
     "output_type": "stream",
     "text": [
      "Processing PDBs: 100%|███████████████████████▉| 283/284 [04:49<00:00,  1.02it/s]"
     ]
    },
    {
     "name": "stdout",
     "output_type": "stream",
     "text": [
      "3bgz\n"
     ]
    },
    {
     "name": "stderr",
     "output_type": "stream",
     "text": [
      "Processing PDBs: 100%|████████████████████████| 284/284 [04:50<00:00,  1.02s/it]"
     ]
    },
    {
     "name": "stdout",
     "output_type": "stream",
     "text": [
      "CPU times: user 4min 48s, sys: 1.95 s, total: 4min 49s\n",
      "Wall time: 4min 50s\n"
     ]
    },
    {
     "name": "stderr",
     "output_type": "stream",
     "text": [
      "\n"
     ]
    }
   ],
   "source": [
    "%%time\n",
    "for pdb in tqdm(pdbs, desc = \"Processing PDBs\"):\n",
    "    lig_atoms_prop[pdb] = {}\n",
    "    rec_atoms_prop[pdb] = {}\n",
    "    df_dict[pdb] = {}\n",
    "    print(pdb)\n",
    "    for pose in range(1, nposes+1):\n",
    "        ligand_path =   f\"{config.set}/{pdb}/results/pose_{pose}.pdb\"\n",
    "        protein_path =  f\"{config.set}/{pdb}/{pdb}_protein_fixed.pdb\"\n",
    "\n",
    "        lig = atom_ligand_extractor.extract_properties(ids_lig_with_poses[pdb][pose], config.node_descriptors, ligand_path)\n",
    "        lig_atoms_prop[pdb][pose] = lig\n",
    "        \n",
    "        try:\n",
    "            rec = atom_receptor_extractor.extract_properties(ids_rec_with_poses[pdb][pose], config.node_descriptors, protein_path)#.drop(columns = 'Name')\n",
    "            #rec = pd.concat([rec, df[(df['pdb']==pdb) & (df['pose']==str(pose))].iloc[:,13:]], axis = 1)\n",
    "            rec_atoms_prop[pdb][pose] = rec \n",
    "        except Exception as e:\n",
    "            print(e)\n",
    "       \n",
    "        df_dict[pdb][pose] = df[(df['pdb']==pdb) & (df['pose']==str(pose))]\n",
    "        #print(rec_atoms_prop[pdb][pose].shape)\n",
    "        #print(lig_atoms_prop[pdb][pose].shape)"
   ]
  },
  {
   "cell_type": "markdown",
   "id": "d7fcd9b0-2bfe-4949-bc1f-1c363fba0c19",
   "metadata": {},
   "source": [
    "Obs: **6min 4s for 284 PDBs**"
   ]
  },
  {
   "cell_type": "markdown",
   "id": "8f3ca652-9332-4d27-abb8-870aa2b7a5f4",
   "metadata": {},
   "source": [
    "<font color = red> Should i keep L, R? "
   ]
  },
  {
   "cell_type": "code",
   "execution_count": 88,
   "id": "6584cb6c",
   "metadata": {},
   "outputs": [],
   "source": [
    "#lig_atoms_prop['Atom_Index'] = \"L\" + lig_atoms_prop['Atom_Index'].astype(str)\n",
    "#rec_atoms_prop['Atom_Index'] = \"R\" + rec_atoms_prop['Atom_Index'].astype(str)"
   ]
  },
  {
   "cell_type": "markdown",
   "id": "1ee4f26f-1786-4446-a7cf-4c8b61c762aa",
   "metadata": {},
   "source": [
    "### Preparing data for graph"
   ]
  },
  {
   "cell_type": "markdown",
   "id": "0b132f02-0777-418f-ae93-fe48c6161dee",
   "metadata": {},
   "source": [
    "Obs: For 3gr2 pose 10 we have nothing! "
   ]
  },
  {
   "cell_type": "code",
   "execution_count": 89,
   "id": "8d06629e-a100-419d-98c3-2502e3855a35",
   "metadata": {},
   "outputs": [],
   "source": [
    "#torch.tensor(np.array(lig_atoms_prop['3gr2'][10].iloc[:, 1:].astype(\"float32\")))"
   ]
  },
  {
   "cell_type": "code",
   "execution_count": 90,
   "id": "490b554a-49bc-4696-978d-6c5be34c5da6",
   "metadata": {},
   "outputs": [],
   "source": [
    "#torch.tensor(np.array(rec_atoms_prop['3gr2'][pose].iloc[:, 1:].astype(\"float32\")))"
   ]
  },
  {
   "cell_type": "markdown",
   "id": "fea7f8a7-858d-4a6e-b65e-5b53eff5cca1",
   "metadata": {},
   "source": [
    "<font color =\"red \">x_t tensor([], size=(0, 8)) for 3gr2!"
   ]
  },
  {
   "cell_type": "markdown",
   "id": "ad2abe71-2e86-4448-92cf-4ae9ed348cd1",
   "metadata": {},
   "source": [
    "<font color = 'yellow'>  Teste Excluir depois"
   ]
  },
  {
   "cell_type": "code",
   "execution_count": 91,
   "id": "c888ce75-3408-4efe-adc5-ca5b3c744081",
   "metadata": {},
   "outputs": [],
   "source": [
    "pdb = '4eor'\n",
    "pose = 1"
   ]
  },
  {
   "cell_type": "code",
   "execution_count": 92,
   "id": "0e3d3aec-a27a-40c8-89ee-72b0ce3ecdaf",
   "metadata": {},
   "outputs": [
    {
     "data": {
      "text/html": [
       "<div>\n",
       "<style scoped>\n",
       "    .dataframe tbody tr th:only-of-type {\n",
       "        vertical-align: middle;\n",
       "    }\n",
       "\n",
       "    .dataframe tbody tr th {\n",
       "        vertical-align: top;\n",
       "    }\n",
       "\n",
       "    .dataframe thead th {\n",
       "        text-align: right;\n",
       "    }\n",
       "</style>\n",
       "<table border=\"1\" class=\"dataframe\">\n",
       "  <thead>\n",
       "    <tr style=\"text-align: right;\">\n",
       "      <th></th>\n",
       "      <th>Mass</th>\n",
       "      <th>Charge</th>\n",
       "      <th>Element_Name</th>\n",
       "      <th>Hybridization</th>\n",
       "      <th>Num_Hydrogens</th>\n",
       "      <th>Formal_Charge</th>\n",
       "      <th>Unpaired_Electron</th>\n",
       "      <th>In_Aromatic_Substructure</th>\n",
       "    </tr>\n",
       "  </thead>\n",
       "  <tbody>\n",
       "    <tr>\n",
       "      <th>0</th>\n",
       "      <td>12.011</td>\n",
       "      <td>0</td>\n",
       "      <td>0</td>\n",
       "      <td>3</td>\n",
       "      <td>3</td>\n",
       "      <td>0</td>\n",
       "      <td>0</td>\n",
       "      <td>0</td>\n",
       "    </tr>\n",
       "    <tr>\n",
       "      <th>1</th>\n",
       "      <td>12.011</td>\n",
       "      <td>0</td>\n",
       "      <td>0</td>\n",
       "      <td>3</td>\n",
       "      <td>3</td>\n",
       "      <td>0</td>\n",
       "      <td>0</td>\n",
       "      <td>0</td>\n",
       "    </tr>\n",
       "    <tr>\n",
       "      <th>2</th>\n",
       "      <td>12.011</td>\n",
       "      <td>0</td>\n",
       "      <td>0</td>\n",
       "      <td>3</td>\n",
       "      <td>3</td>\n",
       "      <td>0</td>\n",
       "      <td>0</td>\n",
       "      <td>0</td>\n",
       "    </tr>\n",
       "    <tr>\n",
       "      <th>3</th>\n",
       "      <td>12.011</td>\n",
       "      <td>0</td>\n",
       "      <td>0</td>\n",
       "      <td>3</td>\n",
       "      <td>3</td>\n",
       "      <td>0</td>\n",
       "      <td>0</td>\n",
       "      <td>0</td>\n",
       "    </tr>\n",
       "    <tr>\n",
       "      <th>4</th>\n",
       "      <td>15.999</td>\n",
       "      <td>0</td>\n",
       "      <td>3</td>\n",
       "      <td>2</td>\n",
       "      <td>0</td>\n",
       "      <td>0</td>\n",
       "      <td>0</td>\n",
       "      <td>0</td>\n",
       "    </tr>\n",
       "  </tbody>\n",
       "</table>\n",
       "</div>"
      ],
      "text/plain": [
       "     Mass  Charge  Element_Name  Hybridization  Num_Hydrogens  Formal_Charge  \\\n",
       "0  12.011       0             0              3              3              0   \n",
       "1  12.011       0             0              3              3              0   \n",
       "2  12.011       0             0              3              3              0   \n",
       "3  12.011       0             0              3              3              0   \n",
       "4  15.999       0             3              2              0              0   \n",
       "\n",
       "   Unpaired_Electron  In_Aromatic_Substructure  \n",
       "0                  0                         0  \n",
       "1                  0                         0  \n",
       "2                  0                         0  \n",
       "3                  0                         0  \n",
       "4                  0                         0  "
      ]
     },
     "execution_count": 92,
     "metadata": {},
     "output_type": "execute_result"
    }
   ],
   "source": [
    "rec_atoms_prop[pdb][pose].head()"
   ]
  },
  {
   "cell_type": "code",
   "execution_count": 93,
   "id": "89d6b09c-eec9-4a3f-9ba6-fc2ef8c02706",
   "metadata": {},
   "outputs": [],
   "source": [
    "edge_index = torch.tensor(np.array([df_dict[pdb][pose][\"ligand_atom_index\"].astype(\"int64\"),\n",
    "                                    df_dict[pdb][pose][\"receptor_atom_index\"].astype(\"int64\")]))"
   ]
  },
  {
   "cell_type": "code",
   "execution_count": 94,
   "id": "fa3c1094-eaea-4e34-82c0-3254ed367452",
   "metadata": {},
   "outputs": [
    {
     "data": {
      "text/plain": [
       "tensor([[   1,    1,    3,    3,    3,    3,    4,    4,    5,    5,    7,    7,\n",
       "            8,    8,    9,    9,   10,   10,   10,   11,   11,   12,   12,   12,\n",
       "           12,   12,   12,   12,   12,   12,   12,   13,   13,   13,   13,   13,\n",
       "           13,   14,   14,   14,   14,   14,   14,   14,   14,   15,   15,   16,\n",
       "           17,   18,   18,   18,   18,   22,   22,   23,   23,   23,   24,   24,\n",
       "           24,   25,   25,   26,   26,   27,   28,   28,   28,   29,   29,   29,\n",
       "           29,   29,   29,   30,   30,   30,   30,   30,   30,   31,   31,   31,\n",
       "           31,   31,   32,   32],\n",
       "        [  92, 1056,   92,   93,  639, 1055,   92, 1055,   92, 1055, 1027, 1056,\n",
       "           92, 1056,   92, 1056,  670, 1027, 1056,  639,  654,  638,  639,  644,\n",
       "          645,  646,  647,  654,  655,  656,  657,   92,  639,  646,  647,  654,\n",
       "          655,   91,   92,   93,  633,  635,  639,  646,  647,  635,  647,  647,\n",
       "          647,  646,  647,  654,  655,   74,   75,   74,   75,   76,   74,   75,\n",
       "           76,  146,  248,  248, 1055,  248,  478, 1055, 1127,  477,  478,  610,\n",
       "          612,  614, 1127,  263,  265,  611,  613,  614,  615,  147,  263,  265,\n",
       "          611,  613,  146,  147]])"
      ]
     },
     "execution_count": 94,
     "metadata": {},
     "output_type": "execute_result"
    }
   ],
   "source": [
    "edge_index"
   ]
  },
  {
   "cell_type": "code",
   "execution_count": 95,
   "id": "8e67a4ec-8bcf-48ed-bb91-7a47417b9f8d",
   "metadata": {},
   "outputs": [
    {
     "data": {
      "text/plain": [
       "'../coreset/3bgz/3bgz_protein_fixed.pdb'"
      ]
     },
     "execution_count": 95,
     "metadata": {},
     "output_type": "execute_result"
    }
   ],
   "source": [
    "protein_path"
   ]
  },
  {
   "cell_type": "code",
   "execution_count": 96,
   "id": "ccf74e9f-c728-4f0e-b720-6bab63573fab",
   "metadata": {},
   "outputs": [
    {
     "data": {
      "text/plain": [
       "0    86\n",
       "1     2\n",
       "Name: Charge, dtype: int64"
      ]
     },
     "execution_count": 96,
     "metadata": {},
     "output_type": "execute_result"
    }
   ],
   "source": [
    "atom_receptor_extractor.extract_properties(ids_rec_with_poses[pdb][pose], config.node_descriptors, f'../coreset/{pdb}/{pdb}_protein_fixed.pdb')['Charge'].value_counts()"
   ]
  },
  {
   "cell_type": "code",
   "execution_count": 97,
   "id": "c66d807a-117c-4843-9835-b060be830212",
   "metadata": {},
   "outputs": [],
   "source": [
    "rec_4eor_pose_1 = atom_receptor_extractor.extract_properties(ids_rec_with_poses[pdb][pose], config.node_descriptors, f'../coreset/{pdb}/{pdb}_protein_fixed.pdb')"
   ]
  },
  {
   "cell_type": "code",
   "execution_count": 98,
   "id": "2a75377f-3aca-4efd-a4fc-6b4f1c493368",
   "metadata": {},
   "outputs": [
    {
     "data": {
      "text/html": [
       "<div>\n",
       "<style scoped>\n",
       "    .dataframe tbody tr th:only-of-type {\n",
       "        vertical-align: middle;\n",
       "    }\n",
       "\n",
       "    .dataframe tbody tr th {\n",
       "        vertical-align: top;\n",
       "    }\n",
       "\n",
       "    .dataframe thead th {\n",
       "        text-align: right;\n",
       "    }\n",
       "</style>\n",
       "<table border=\"1\" class=\"dataframe\">\n",
       "  <thead>\n",
       "    <tr style=\"text-align: right;\">\n",
       "      <th></th>\n",
       "      <th>Mass</th>\n",
       "      <th>Charge</th>\n",
       "      <th>Element_Name</th>\n",
       "      <th>Hybridization</th>\n",
       "      <th>Num_Hydrogens</th>\n",
       "      <th>Formal_Charge</th>\n",
       "      <th>Unpaired_Electron</th>\n",
       "      <th>In_Aromatic_Substructure</th>\n",
       "    </tr>\n",
       "  </thead>\n",
       "  <tbody>\n",
       "    <tr>\n",
       "      <th>0</th>\n",
       "      <td>12.011</td>\n",
       "      <td>0</td>\n",
       "      <td>0</td>\n",
       "      <td>3</td>\n",
       "      <td>3</td>\n",
       "      <td>0</td>\n",
       "      <td>0</td>\n",
       "      <td>0</td>\n",
       "    </tr>\n",
       "    <tr>\n",
       "      <th>1</th>\n",
       "      <td>12.011</td>\n",
       "      <td>0</td>\n",
       "      <td>0</td>\n",
       "      <td>3</td>\n",
       "      <td>3</td>\n",
       "      <td>0</td>\n",
       "      <td>0</td>\n",
       "      <td>0</td>\n",
       "    </tr>\n",
       "    <tr>\n",
       "      <th>2</th>\n",
       "      <td>12.011</td>\n",
       "      <td>0</td>\n",
       "      <td>0</td>\n",
       "      <td>3</td>\n",
       "      <td>3</td>\n",
       "      <td>0</td>\n",
       "      <td>0</td>\n",
       "      <td>0</td>\n",
       "    </tr>\n",
       "    <tr>\n",
       "      <th>3</th>\n",
       "      <td>12.011</td>\n",
       "      <td>0</td>\n",
       "      <td>0</td>\n",
       "      <td>3</td>\n",
       "      <td>3</td>\n",
       "      <td>0</td>\n",
       "      <td>0</td>\n",
       "      <td>0</td>\n",
       "    </tr>\n",
       "    <tr>\n",
       "      <th>4</th>\n",
       "      <td>15.999</td>\n",
       "      <td>0</td>\n",
       "      <td>3</td>\n",
       "      <td>2</td>\n",
       "      <td>0</td>\n",
       "      <td>0</td>\n",
       "      <td>0</td>\n",
       "      <td>0</td>\n",
       "    </tr>\n",
       "  </tbody>\n",
       "</table>\n",
       "</div>"
      ],
      "text/plain": [
       "     Mass  Charge  Element_Name  Hybridization  Num_Hydrogens  Formal_Charge  \\\n",
       "0  12.011       0             0              3              3              0   \n",
       "1  12.011       0             0              3              3              0   \n",
       "2  12.011       0             0              3              3              0   \n",
       "3  12.011       0             0              3              3              0   \n",
       "4  15.999       0             3              2              0              0   \n",
       "\n",
       "   Unpaired_Electron  In_Aromatic_Substructure  \n",
       "0                  0                         0  \n",
       "1                  0                         0  \n",
       "2                  0                         0  \n",
       "3                  0                         0  \n",
       "4                  0                         0  "
      ]
     },
     "execution_count": 98,
     "metadata": {},
     "output_type": "execute_result"
    }
   ],
   "source": [
    "rec_4eor_pose_1.head()"
   ]
  },
  {
   "cell_type": "code",
   "execution_count": 99,
   "id": "2e30da50-77f8-4b97-b58d-bfc80d0db17f",
   "metadata": {},
   "outputs": [
    {
     "data": {
      "text/html": [
       "<div>\n",
       "<style scoped>\n",
       "    .dataframe tbody tr th:only-of-type {\n",
       "        vertical-align: middle;\n",
       "    }\n",
       "\n",
       "    .dataframe tbody tr th {\n",
       "        vertical-align: top;\n",
       "    }\n",
       "\n",
       "    .dataframe thead th {\n",
       "        text-align: right;\n",
       "    }\n",
       "</style>\n",
       "<table border=\"1\" class=\"dataframe\">\n",
       "  <thead>\n",
       "    <tr style=\"text-align: right;\">\n",
       "      <th></th>\n",
       "      <th>pdb</th>\n",
       "      <th>pose</th>\n",
       "      <th>ligand_atom_index</th>\n",
       "      <th>ligand_atom_name</th>\n",
       "      <th>receptor_atom_index</th>\n",
       "      <th>receptor_atom_name</th>\n",
       "      <th>distance</th>\n",
       "    </tr>\n",
       "  </thead>\n",
       "  <tbody>\n",
       "    <tr>\n",
       "      <th>0</th>\n",
       "      <td>4eor</td>\n",
       "      <td>1</td>\n",
       "      <td>1.0</td>\n",
       "      <td>C2</td>\n",
       "      <td>92.0</td>\n",
       "      <td>CG2</td>\n",
       "      <td>3.537490</td>\n",
       "    </tr>\n",
       "    <tr>\n",
       "      <th>1</th>\n",
       "      <td>4eor</td>\n",
       "      <td>1</td>\n",
       "      <td>1.0</td>\n",
       "      <td>C2</td>\n",
       "      <td>1056.0</td>\n",
       "      <td>CD2</td>\n",
       "      <td>3.918316</td>\n",
       "    </tr>\n",
       "    <tr>\n",
       "      <th>2</th>\n",
       "      <td>4eor</td>\n",
       "      <td>1</td>\n",
       "      <td>3.0</td>\n",
       "      <td>N1</td>\n",
       "      <td>92.0</td>\n",
       "      <td>CG2</td>\n",
       "      <td>3.659126</td>\n",
       "    </tr>\n",
       "    <tr>\n",
       "      <th>3</th>\n",
       "      <td>4eor</td>\n",
       "      <td>1</td>\n",
       "      <td>3.0</td>\n",
       "      <td>N1</td>\n",
       "      <td>93.0</td>\n",
       "      <td>CD1</td>\n",
       "      <td>3.711112</td>\n",
       "    </tr>\n",
       "    <tr>\n",
       "      <th>4</th>\n",
       "      <td>4eor</td>\n",
       "      <td>1</td>\n",
       "      <td>3.0</td>\n",
       "      <td>N1</td>\n",
       "      <td>639.0</td>\n",
       "      <td>O</td>\n",
       "      <td>3.983377</td>\n",
       "    </tr>\n",
       "  </tbody>\n",
       "</table>\n",
       "</div>"
      ],
      "text/plain": [
       "    pdb pose  ligand_atom_index ligand_atom_name  receptor_atom_index  \\\n",
       "0  4eor    1                1.0               C2                 92.0   \n",
       "1  4eor    1                1.0               C2               1056.0   \n",
       "2  4eor    1                3.0               N1                 92.0   \n",
       "3  4eor    1                3.0               N1                 93.0   \n",
       "4  4eor    1                3.0               N1                639.0   \n",
       "\n",
       "  receptor_atom_name  distance  \n",
       "0                CG2  3.537490  \n",
       "1                CD2  3.918316  \n",
       "2                CG2  3.659126  \n",
       "3                CD1  3.711112  \n",
       "4                  O  3.983377  "
      ]
     },
     "execution_count": 99,
     "metadata": {},
     "output_type": "execute_result"
    }
   ],
   "source": [
    "foureor1.head()"
   ]
  },
  {
   "cell_type": "code",
   "execution_count": 100,
   "id": "c0743e3e-7e7f-44d5-a1e0-02ecb9aad034",
   "metadata": {},
   "outputs": [],
   "source": [
    "#datos.groupby('Element_Name')['Mass'].value_counts()"
   ]
  },
  {
   "cell_type": "markdown",
   "id": "abbe8ec2-21ee-40e3-bffc-c1f001eb4f3e",
   "metadata": {},
   "source": [
    "###### map_node_names_to_indices"
   ]
  },
  {
   "cell_type": "code",
   "execution_count": 101,
   "id": "425cf924-095f-416d-8fbf-cda8796e8797",
   "metadata": {},
   "outputs": [],
   "source": [
    "def map_node_names_to_indices(edge_index):\n",
    "        unique_node_names_0, node_name_to_index_0 = torch.unique(edge_index[0], sorted=True, return_inverse=True)\n",
    "        unique_node_names_1, node_name_to_index_1 = torch.unique(edge_index[1], sorted=True, return_inverse=True)\n",
    "    \n",
    "        # Map the node names to their corresponding indices separately for edge_index[0] and edge_index[1]\n",
    "        updated_edge_index_0 = node_name_to_index_0.view(1, -1)\n",
    "        updated_edge_index_1 = node_name_to_index_1.view(1, -1)\n",
    "    \n",
    "        # Combine the updated edge indices back into the same format as edge_index\n",
    "        updated_edge_index = torch.cat((updated_edge_index_0, updated_edge_index_1), dim=0)\n",
    "    \n",
    "        return updated_edge_index"
   ]
  },
  {
   "cell_type": "code",
   "execution_count": 102,
   "id": "f31ff33b-5f56-4e00-ba44-2a4f6f35ecbd",
   "metadata": {},
   "outputs": [],
   "source": [
    "edge_index = map_node_names_to_indices(edge_index)"
   ]
  },
  {
   "cell_type": "markdown",
   "id": "7ead731f-890d-49af-be57-0d9013910a44",
   "metadata": {},
   "source": [
    "#### Label "
   ]
  },
  {
   "cell_type": "markdown",
   "id": "5e3bdb42-06cd-46db-bb7b-157442343eaa",
   "metadata": {},
   "source": [
    "Obs: \"Error calculating RMSD for 4kz6 pose 1: No sub-structure match found between the reference\n",
    "and probe mol\"\n",
    "<font color = 'red'> For  now, i will assume the label as 0 to just to begin!"
   ]
  },
  {
   "cell_type": "code",
   "execution_count": 103,
   "id": "4a557ba5-362f-4f2e-9839-9c303c6eeaa5",
   "metadata": {},
   "outputs": [
    {
     "data": {
      "image/png": "[encoded data removed]",
      "text/plain": [
       "<Figure size 640x480 with 1 Axes>"
      ]
     },
     "metadata": {},
     "output_type": "display_data"
    },
    {
     "data": {
      "image/png": "[encoded data removed]",
      "text/plain": [
       "<Figure size 640x480 with 1 Axes>"
      ]
     },
     "metadata": {},
     "output_type": "display_data"
    },
    {
     "name": "stdout",
     "output_type": "stream",
     "text": [
      "label.json saved at: ../Datahub/Data\n"
     ]
    }
   ],
   "source": [
    "%run Label.ipynb"
   ]
  },
  {
   "cell_type": "code",
   "execution_count": 104,
   "id": "6bda009f-94b5-4637-8933-8ede071dc3fb",
   "metadata": {},
   "outputs": [],
   "source": [
    "#lig_atoms_prop[\"2xnb\"][1].iloc[:, 1:]"
   ]
  },
  {
   "cell_type": "code",
   "execution_count": 105,
   "id": "ec0d8c63-7b3f-4efd-9b72-fbd0b2d255b0",
   "metadata": {},
   "outputs": [],
   "source": [
    "label = pd.read_json(f\"{config.data}/label.json\").fillna(0)"
   ]
  },
  {
   "cell_type": "code",
   "execution_count": 106,
   "id": "5168b348-b7bb-49c5-a000-29b468770d53",
   "metadata": {},
   "outputs": [
    {
     "data": {
      "text/plain": [
       "284"
      ]
     },
     "execution_count": 106,
     "metadata": {},
     "output_type": "execute_result"
    }
   ],
   "source": [
    "len(label.columns)"
   ]
  },
  {
   "cell_type": "code",
   "execution_count": 107,
   "id": "cef32559-63f2-4668-a3fb-d29d7567b38a",
   "metadata": {},
   "outputs": [],
   "source": [
    "class Get_dataset():\n",
    "    def __init__(self, pdbs, lig_atoms_prop, rec_atoms_prop, df_dict, subsample=None, preprocessed_protgraph=False):\n",
    "        self.pdbs = pdbs\n",
    "        self.lig_atoms_prop = lig_atoms_prop\n",
    "        self.rec_atoms_prop = rec_atoms_prop\n",
    "        self.df_dict = df_dict\n",
    "        self.protgraph_dict = self.get_unique_prot_graphs()\n",
    "        self.preprocessed_protgraph=preprocessed_protgraph\n",
    "        self.subsample = subsample \n",
    "        \n",
    "    def map_node_names_to_indices(self, edge_index):\n",
    "        unique_node_names_0, node_name_to_index_0 = torch.unique(edge_index[0], sorted=True, return_inverse=True)\n",
    "        unique_node_names_1, node_name_to_index_1 = torch.unique(edge_index[1], sorted=True, return_inverse=True)\n",
    "    \n",
    "        # Map the node names to their corresponding indices separately for edge_index[0] and edge_index[1]\n",
    "        updated_edge_index_0 = node_name_to_index_0.view(1, -1)\n",
    "        updated_edge_index_1 = node_name_to_index_1.view(1, -1)\n",
    "    \n",
    "        # Combine the updated edge indices back into the same format as edge_index\n",
    "        updated_edge_index = torch.cat((updated_edge_index_0, updated_edge_index_1), dim=0)\n",
    "    \n",
    "        return updated_edge_index\n",
    "        \n",
    "    def get_unique_prot_graphs(self):\n",
    "        protgraph_dict = {}\n",
    "        failed_protgraph = []\n",
    "\n",
    "        for pdb in self.pdbs:\n",
    "            protgraph_dict[pdb] = {}\n",
    "            for pose in range(1, nposes + 1):\n",
    "                try:\n",
    "                    x_s = torch.tensor(np.array(self.lig_atoms_prop[pdb][pose].iloc[:, 1:].astype(\"float32\")))\n",
    "                    x_t = torch.tensor(np.array(self.rec_atoms_prop[pdb][pose].iloc[:, 1:].astype(\"float32\")))\n",
    "                    edge_index = torch.tensor(np.array([self.df_dict[pdb][pose][\"ligand_atom_index\"].astype(\"int64\"),\n",
    "                                                    self.df_dict[pdb][pose][\"receptor_atom_index\"].astype(\"int64\")]))\n",
    "                \n",
    "                    edge_index = self.map_node_names_to_indices(edge_index)\n",
    "                    distances = torch.tensor(np.array(self.df_dict[pdb][pose]['distance']).astype(\"float32\"))\n",
    "\n",
    "                    protgraph_dict[pdb][pose] = {'x_s': x_s, # Ligand\n",
    "                                             'x_t': x_t, # Receptor\n",
    "                                             'edge_index': edge_index,\n",
    "                                             'edge_attr': distances,\n",
    "                                             }\n",
    "                except Exception as e:\n",
    "                    print('Error')\n",
    "                    continue\n",
    "        return protgraph_dict\n",
    "\n",
    "\n",
    "    def process(self):\n",
    "        print('processessing....')\n",
    "        if self.preprocessed_protgraph:\n",
    "            with open(f'{config.root}/{config.project_name}/protgraph_dict.pkl','rb') as f:\n",
    "               protgraph_dict = pickle.load(f)\n",
    "        else:\n",
    "            protgraph_dict = self.get_unique_prot_graphs()\n",
    "            with open(f'{config.root}/{config.project_name}/protgraph_dict.pkl','wb') as f:\n",
    "                pickle.dump(protgraph_dict,f)\n",
    "         \n",
    "        for pdb in pdbs:\n",
    "            for pose in range(1, nposes + 1): \n",
    "\n",
    "                protgraph = self.protgraph_dict[pdb][pose] ### Needs alteration to open saved dict, lets got with it righ now\n",
    "\n",
    "                interaction_id = str(pdb) + \"_\" + str(pose)                 \n",
    "     \n",
    "                x_s, x_t, edge_index, edge_attr= protgraph['x_s'], protgraph['x_t'], protgraph['edge_index'],protgraph['edge_attr']\n",
    "\n",
    "                #y = torch.randint(2, (1,), dtype=torch.float32)\n",
    "                try:\n",
    "                    y = torch.tensor(label[pdb][pose], dtype=torch.float32)\n",
    "                except Exception as e:\n",
    "                    print(f\"Error: {e}\")\n",
    "                    continue\n",
    "                #y = label[pdb][pose].astype(\"float32\")\n",
    "                data = BipartiteData(edge_index=edge_index, x_s=x_s, x_t=x_t, y=y, edge_attr = edge_attr, pdb = pdb, pose = pose)\n",
    "                print(f'saving data {config.processed_dir}')\n",
    "                torch.save(data, os.path.join(config.processed_dir, f'data_{interaction_id}.pt'))    \n",
    "\n",
    "    \n",
    "    def processed_file_names(self):\n",
    "        datalist =   [torch.load(os.path.join(config.processed_dir, f'{filename}')) for filename in os.listdir(config.processed_dir)]\n",
    "        return datalist\n",
    "\n",
    "   # def __len__(self):\n",
    "   #     return len(protgraph_dict)  ###\n",
    "   # \n",
    "   #def __getitem__(self, index):\n",
    "   #    pdb = self.pdbs[index]\n",
    "   #    pose = 1  # You may need to modify this\n",
    "   #    data_sample = self.protgraph_dict[pdb][pose]\n",
    "   #    return data_sample\n",
    "\n",
    "  \n",
    "\n",
    "dataset = Get_dataset(pdbs, lig_atoms_prop, rec_atoms_prop, df_dict)"
   ]
  },
  {
   "cell_type": "code",
   "execution_count": 108,
   "id": "85ca52f6-6702-4887-b752-32fa87d5b4dc",
   "metadata": {},
   "outputs": [],
   "source": [
    "#dataset.get_unique_prot_graphs()['3gv9'][1]['edge_index'].shape"
   ]
  },
  {
   "cell_type": "markdown",
   "id": "8eb625b0-e15c-474b-8e1a-ff2037a58b37",
   "metadata": {},
   "source": [
    "#### BipartiteData "
   ]
  },
  {
   "cell_type": "code",
   "execution_count": 7,
   "id": "77716d4e-2167-4de4-bc8f-0661df10f346",
   "metadata": {},
   "outputs": [],
   "source": [
    "class BipartiteData(Data):\n",
    "    def __init__(self, edge_index=None, x_s=None, x_t=None, y=None, edge_attr=None, pdb = None, pose = None):\n",
    "        super().__init__()\n",
    "        self.edge_index = edge_index\n",
    "        self.x_s = x_s\n",
    "        self.x_t = x_t\n",
    "        self.y = y\n",
    "        self.edge_attr = edge_attr  # Add edge_attr attribute\n",
    "        #self.num_nodes = len(set(edge_index[0].tolist())) +  len(set(edge_index[1].tolist()))\n",
    "        self.num_nodes = (x_s.size(0) if x_s is not None else 0) + (x_t.size(0) if x_t is not None else 0)\n",
    "        self.pdb = pdb\n",
    "        self.pose = pose\n",
    "    \n",
    "    def __inc__(self, key, value, *args, **kwargs):\n",
    "        if key == 'edge_index':\n",
    "            return torch.tensor([[self.x_s.size(0)], [self.x_t.size(0)]])\n",
    "        else:\n",
    "            return super().__inc__(key, value, *args, **kwargs)"
   ]
  },
  {
   "cell_type": "markdown",
   "id": "1d66a1df-7eaf-47c4-8a50-f173548a7901",
   "metadata": {},
   "source": [
    "#### Dataset"
   ]
  },
  {
   "cell_type": "code",
   "execution_count": 110,
   "id": "b61a87e4-0407-408a-832f-406872769667",
   "metadata": {
    "scrolled": true
   },
   "outputs": [
    {
     "name": "stdout",
     "output_type": "stream",
     "text": [
      "processessing....\n",
      "saving data ../Datahub/processed_dir\n",
      "saving data ../Datahub/processed_dir\n",
      "saving data ../Datahub/processed_dir\n",
      "saving data ../Datahub/processed_dir\n",
      "saving data ../Datahub/processed_dir\n",
      "saving data ../Datahub/processed_dir\n",
      "saving data ../Datahub/processed_dir\n",
      "saving data ../Datahub/processed_dir\n",
      "saving data ../Datahub/processed_dir\n",
      "saving data ../Datahub/processed_dir\n",
      "saving data ../Datahub/processed_dir\n",
      "saving data ../Datahub/processed_dir\n",
      "saving data ../Datahub/processed_dir\n",
      "saving data ../Datahub/processed_dir\n",
      "saving data ../Datahub/processed_dir\n",
      "saving data ../Datahub/processed_dir\n",
      "saving data ../Datahub/processed_dir\n",
      "saving data ../Datahub/processed_dir\n",
      "saving data ../Datahub/processed_dir\n",
      "saving data ../Datahub/processed_dir\n",
      "saving data ../Datahub/processed_dir\n",
      "saving data ../Datahub/processed_dir\n",
      "saving data ../Datahub/processed_dir\n",
      "saving data ../Datahub/processed_dir\n",
      "saving data ../Datahub/processed_dir\n",
      "saving data ../Datahub/processed_dir\n",
      "saving data ../Datahub/processed_dir\n",
      "saving data ../Datahub/processed_dir\n",
      "saving data ../Datahub/processed_dir\n",
      "saving data ../Datahub/processed_dir\n",
      "saving data ../Datahub/processed_dir\n",
      "saving data ../Datahub/processed_dir\n",
      "saving data ../Datahub/processed_dir\n",
      "saving data ../Datahub/processed_dir\n",
      "saving data ../Datahub/processed_dir\n",
      "saving data ../Datahub/processed_dir\n",
      "saving data ../Datahub/processed_dir\n",
      "saving data ../Datahub/processed_dir\n",
      "saving data ../Datahub/processed_dir\n",
      "saving data ../Datahub/processed_dir\n",
      "saving data ../Datahub/processed_dir\n",
      "saving data ../Datahub/processed_dir\n",
      "saving data ../Datahub/processed_dir\n",
      "saving data ../Datahub/processed_dir\n",
      "saving data ../Datahub/processed_dir\n",
      "saving data ../Datahub/processed_dir\n",
      "saving data ../Datahub/processed_dir\n",
      "saving data ../Datahub/processed_dir\n",
      "saving data ../Datahub/processed_dir\n",
      "saving data ../Datahub/processed_dir\n",
      "saving data ../Datahub/processed_dir\n",
      "saving data ../Datahub/processed_dir\n",
      "saving data ../Datahub/processed_dir\n",
      "saving data ../Datahub/processed_dir\n",
      "saving data ../Datahub/processed_dir\n",
      "saving data ../Datahub/processed_dir\n",
      "saving data ../Datahub/processed_dir\n",
      "saving data ../Datahub/processed_dir\n",
      "saving data ../Datahub/processed_dir\n",
      "saving data ../Datahub/processed_dir\n",
      "saving data ../Datahub/processed_dir\n",
      "saving data ../Datahub/processed_dir\n",
      "saving data ../Datahub/processed_dir\n",
      "saving data ../Datahub/processed_dir\n",
      "saving data ../Datahub/processed_dir\n",
      "saving data ../Datahub/processed_dir\n",
      "saving data ../Datahub/processed_dir\n",
      "saving data ../Datahub/processed_dir\n",
      "saving data ../Datahub/processed_dir\n",
      "saving data ../Datahub/processed_dir\n",
      "saving data ../Datahub/processed_dir\n",
      "saving data ../Datahub/processed_dir\n",
      "saving data ../Datahub/processed_dir\n",
      "saving data ../Datahub/processed_dir\n",
      "saving data ../Datahub/processed_dir\n",
      "saving data ../Datahub/processed_dir\n",
      "saving data ../Datahub/processed_dir\n",
      "saving data ../Datahub/processed_dir\n",
      "saving data ../Datahub/processed_dir\n",
      "saving data ../Datahub/processed_dir\n",
      "saving data ../Datahub/processed_dir\n",
      "saving data ../Datahub/processed_dir\n",
      "saving data ../Datahub/processed_dir\n",
      "saving data ../Datahub/processed_dir\n",
      "saving data ../Datahub/processed_dir\n",
      "saving data ../Datahub/processed_dir\n",
      "saving data ../Datahub/processed_dir\n",
      "saving data ../Datahub/processed_dir\n",
      "saving data ../Datahub/processed_dir\n",
      "saving data ../Datahub/processed_dir\n",
      "saving data ../Datahub/processed_dir\n",
      "saving data ../Datahub/processed_dir\n",
      "saving data ../Datahub/processed_dir\n",
      "saving data ../Datahub/processed_dir\n",
      "saving data ../Datahub/processed_dir\n",
      "saving data ../Datahub/processed_dir\n",
      "saving data ../Datahub/processed_dir\n",
      "saving data ../Datahub/processed_dir\n",
      "saving data ../Datahub/processed_dir\n",
      "saving data ../Datahub/processed_dir\n",
      "saving data ../Datahub/processed_dir\n",
      "saving data ../Datahub/processed_dir\n",
      "saving data ../Datahub/processed_dir\n",
      "saving data ../Datahub/processed_dir\n",
      "saving data ../Datahub/processed_dir\n",
      "saving data ../Datahub/processed_dir\n",
      "saving data ../Datahub/processed_dir\n",
      "saving data ../Datahub/processed_dir\n",
      "saving data ../Datahub/processed_dir\n",
      "saving data ../Datahub/processed_dir\n",
      "saving data ../Datahub/processed_dir\n",
      "saving data ../Datahub/processed_dir\n",
      "saving data ../Datahub/processed_dir\n",
      "saving data ../Datahub/processed_dir\n",
      "saving data ../Datahub/processed_dir\n",
      "saving data ../Datahub/processed_dir\n",
      "saving data ../Datahub/processed_dir\n",
      "saving data ../Datahub/processed_dir\n",
      "saving data ../Datahub/processed_dir\n",
      "saving data ../Datahub/processed_dir\n",
      "saving data ../Datahub/processed_dir\n",
      "saving data ../Datahub/processed_dir\n",
      "saving data ../Datahub/processed_dir\n",
      "saving data ../Datahub/processed_dir\n",
      "saving data ../Datahub/processed_dir\n",
      "saving data ../Datahub/processed_dir\n",
      "saving data ../Datahub/processed_dir\n",
      "saving data ../Datahub/processed_dir\n",
      "saving data ../Datahub/processed_dir\n",
      "saving data ../Datahub/processed_dir\n",
      "saving data ../Datahub/processed_dir\n",
      "saving data ../Datahub/processed_dir\n",
      "saving data ../Datahub/processed_dir\n",
      "saving data ../Datahub/processed_dir\n",
      "saving data ../Datahub/processed_dir\n",
      "saving data ../Datahub/processed_dir\n",
      "saving data ../Datahub/processed_dir\n",
      "saving data ../Datahub/processed_dir\n",
      "saving data ../Datahub/processed_dir\n",
      "saving data ../Datahub/processed_dir\n",
      "saving data ../Datahub/processed_dir\n",
      "saving data ../Datahub/processed_dir\n",
      "saving data ../Datahub/processed_dir\n",
      "saving data ../Datahub/processed_dir\n",
      "saving data ../Datahub/processed_dir\n",
      "saving data ../Datahub/processed_dir\n",
      "saving data ../Datahub/processed_dir\n",
      "saving data ../Datahub/processed_dir\n",
      "saving data ../Datahub/processed_dir\n",
      "saving data ../Datahub/processed_dir\n",
      "saving data ../Datahub/processed_dir\n",
      "saving data ../Datahub/processed_dir\n",
      "saving data ../Datahub/processed_dir\n",
      "saving data ../Datahub/processed_dir\n",
      "saving data ../Datahub/processed_dir\n",
      "saving data ../Datahub/processed_dir\n",
      "saving data ../Datahub/processed_dir\n",
      "saving data ../Datahub/processed_dir\n",
      "saving data ../Datahub/processed_dir\n",
      "saving data ../Datahub/processed_dir\n",
      "saving data ../Datahub/processed_dir\n",
      "saving data ../Datahub/processed_dir\n",
      "saving data ../Datahub/processed_dir\n",
      "saving data ../Datahub/processed_dir\n",
      "saving data ../Datahub/processed_dir\n",
      "saving data ../Datahub/processed_dir\n",
      "saving data ../Datahub/processed_dir\n",
      "saving data ../Datahub/processed_dir\n",
      "saving data ../Datahub/processed_dir\n",
      "saving data ../Datahub/processed_dir\n",
      "saving data ../Datahub/processed_dir\n",
      "saving data ../Datahub/processed_dir\n",
      "saving data ../Datahub/processed_dir\n",
      "saving data ../Datahub/processed_dir\n",
      "saving data ../Datahub/processed_dir\n",
      "saving data ../Datahub/processed_dir\n",
      "saving data ../Datahub/processed_dir\n",
      "saving data ../Datahub/processed_dir\n",
      "saving data ../Datahub/processed_dir\n",
      "saving data ../Datahub/processed_dir\n",
      "saving data ../Datahub/processed_dir\n",
      "saving data ../Datahub/processed_dir\n",
      "saving data ../Datahub/processed_dir\n",
      "saving data ../Datahub/processed_dir\n",
      "saving data ../Datahub/processed_dir\n",
      "saving data ../Datahub/processed_dir\n",
      "saving data ../Datahub/processed_dir\n",
      "saving data ../Datahub/processed_dir\n",
      "saving data ../Datahub/processed_dir\n",
      "saving data ../Datahub/processed_dir\n",
      "saving data ../Datahub/processed_dir\n",
      "saving data ../Datahub/processed_dir\n",
      "saving data ../Datahub/processed_dir\n",
      "saving data ../Datahub/processed_dir\n",
      "saving data ../Datahub/processed_dir\n",
      "saving data ../Datahub/processed_dir\n",
      "saving data ../Datahub/processed_dir\n",
      "saving data ../Datahub/processed_dir\n",
      "saving data ../Datahub/processed_dir\n",
      "saving data ../Datahub/processed_dir\n",
      "saving data ../Datahub/processed_dir\n",
      "saving data ../Datahub/processed_dir\n",
      "saving data ../Datahub/processed_dir\n",
      "saving data ../Datahub/processed_dir\n",
      "saving data ../Datahub/processed_dir\n",
      "saving data ../Datahub/processed_dir\n",
      "saving data ../Datahub/processed_dir\n",
      "saving data ../Datahub/processed_dir\n",
      "saving data ../Datahub/processed_dir\n",
      "saving data ../Datahub/processed_dir\n",
      "saving data ../Datahub/processed_dir\n",
      "saving data ../Datahub/processed_dir\n",
      "saving data ../Datahub/processed_dir\n",
      "saving data ../Datahub/processed_dir\n",
      "saving data ../Datahub/processed_dir\n",
      "saving data ../Datahub/processed_dir\n",
      "saving data ../Datahub/processed_dir\n",
      "saving data ../Datahub/processed_dir\n",
      "saving data ../Datahub/processed_dir\n",
      "saving data ../Datahub/processed_dir\n",
      "saving data ../Datahub/processed_dir\n",
      "saving data ../Datahub/processed_dir\n",
      "saving data ../Datahub/processed_dir\n",
      "saving data ../Datahub/processed_dir\n",
      "saving data ../Datahub/processed_dir\n",
      "saving data ../Datahub/processed_dir\n",
      "saving data ../Datahub/processed_dir\n",
      "saving data ../Datahub/processed_dir\n",
      "saving data ../Datahub/processed_dir\n",
      "saving data ../Datahub/processed_dir\n",
      "saving data ../Datahub/processed_dir\n",
      "saving data ../Datahub/processed_dir\n",
      "saving data ../Datahub/processed_dir\n",
      "saving data ../Datahub/processed_dir\n",
      "saving data ../Datahub/processed_dir\n",
      "saving data ../Datahub/processed_dir\n",
      "saving data ../Datahub/processed_dir\n",
      "saving data ../Datahub/processed_dir\n",
      "saving data ../Datahub/processed_dir\n",
      "saving data ../Datahub/processed_dir\n",
      "saving data ../Datahub/processed_dir\n",
      "saving data ../Datahub/processed_dir\n",
      "saving data ../Datahub/processed_dir\n",
      "saving data ../Datahub/processed_dir\n",
      "saving data ../Datahub/processed_dir\n",
      "saving data ../Datahub/processed_dir\n",
      "saving data ../Datahub/processed_dir\n",
      "saving data ../Datahub/processed_dir\n",
      "saving data ../Datahub/processed_dir\n",
      "saving data ../Datahub/processed_dir\n",
      "saving data ../Datahub/processed_dir\n",
      "saving data ../Datahub/processed_dir\n",
      "saving data ../Datahub/processed_dir\n",
      "saving data ../Datahub/processed_dir\n",
      "saving data ../Datahub/processed_dir\n",
      "saving data ../Datahub/processed_dir\n",
      "saving data ../Datahub/processed_dir\n",
      "saving data ../Datahub/processed_dir\n",
      "saving data ../Datahub/processed_dir\n",
      "saving data ../Datahub/processed_dir\n",
      "saving data ../Datahub/processed_dir\n",
      "saving data ../Datahub/processed_dir\n",
      "saving data ../Datahub/processed_dir\n",
      "saving data ../Datahub/processed_dir\n",
      "saving data ../Datahub/processed_dir\n",
      "saving data ../Datahub/processed_dir\n",
      "saving data ../Datahub/processed_dir\n",
      "saving data ../Datahub/processed_dir\n",
      "saving data ../Datahub/processed_dir\n",
      "saving data ../Datahub/processed_dir\n",
      "saving data ../Datahub/processed_dir\n",
      "saving data ../Datahub/processed_dir\n",
      "saving data ../Datahub/processed_dir\n",
      "saving data ../Datahub/processed_dir\n",
      "saving data ../Datahub/processed_dir\n",
      "saving data ../Datahub/processed_dir\n",
      "saving data ../Datahub/processed_dir\n",
      "saving data ../Datahub/processed_dir\n",
      "saving data ../Datahub/processed_dir\n",
      "saving data ../Datahub/processed_dir\n",
      "saving data ../Datahub/processed_dir\n",
      "saving data ../Datahub/processed_dir\n",
      "saving data ../Datahub/processed_dir\n",
      "saving data ../Datahub/processed_dir\n",
      "saving data ../Datahub/processed_dir\n",
      "saving data ../Datahub/processed_dir\n",
      "saving data ../Datahub/processed_dir\n",
      "saving data ../Datahub/processed_dir\n",
      "saving data ../Datahub/processed_dir\n",
      "saving data ../Datahub/processed_dir\n",
      "saving data ../Datahub/processed_dir\n",
      "saving data ../Datahub/processed_dir\n",
      "saving data ../Datahub/processed_dir\n",
      "saving data ../Datahub/processed_dir\n",
      "saving data ../Datahub/processed_dir\n",
      "saving data ../Datahub/processed_dir\n",
      "saving data ../Datahub/processed_dir\n",
      "saving data ../Datahub/processed_dir\n",
      "saving data ../Datahub/processed_dir\n",
      "saving data ../Datahub/processed_dir\n",
      "saving data ../Datahub/processed_dir\n",
      "saving data ../Datahub/processed_dir\n",
      "saving data ../Datahub/processed_dir\n",
      "saving data ../Datahub/processed_dir\n",
      "saving data ../Datahub/processed_dir\n",
      "saving data ../Datahub/processed_dir\n",
      "saving data ../Datahub/processed_dir\n",
      "saving data ../Datahub/processed_dir\n",
      "saving data ../Datahub/processed_dir\n",
      "saving data ../Datahub/processed_dir\n",
      "saving data ../Datahub/processed_dir\n",
      "saving data ../Datahub/processed_dir\n",
      "saving data ../Datahub/processed_dir\n",
      "saving data ../Datahub/processed_dir\n",
      "saving data ../Datahub/processed_dir\n",
      "saving data ../Datahub/processed_dir\n",
      "saving data ../Datahub/processed_dir\n",
      "saving data ../Datahub/processed_dir\n",
      "saving data ../Datahub/processed_dir\n",
      "saving data ../Datahub/processed_dir\n",
      "saving data ../Datahub/processed_dir\n",
      "saving data ../Datahub/processed_dir\n",
      "saving data ../Datahub/processed_dir\n",
      "saving data ../Datahub/processed_dir\n",
      "saving data ../Datahub/processed_dir\n",
      "saving data ../Datahub/processed_dir\n",
      "saving data ../Datahub/processed_dir\n",
      "saving data ../Datahub/processed_dir\n",
      "saving data ../Datahub/processed_dir\n",
      "saving data ../Datahub/processed_dir\n",
      "saving data ../Datahub/processed_dir\n",
      "saving data ../Datahub/processed_dir\n",
      "saving data ../Datahub/processed_dir\n",
      "saving data ../Datahub/processed_dir\n",
      "saving data ../Datahub/processed_dir\n",
      "saving data ../Datahub/processed_dir\n",
      "saving data ../Datahub/processed_dir\n",
      "saving data ../Datahub/processed_dir\n",
      "saving data ../Datahub/processed_dir\n",
      "saving data ../Datahub/processed_dir\n",
      "saving data ../Datahub/processed_dir\n",
      "saving data ../Datahub/processed_dir\n",
      "saving data ../Datahub/processed_dir\n",
      "saving data ../Datahub/processed_dir\n",
      "saving data ../Datahub/processed_dir\n",
      "saving data ../Datahub/processed_dir\n",
      "saving data ../Datahub/processed_dir\n",
      "saving data ../Datahub/processed_dir\n",
      "saving data ../Datahub/processed_dir\n",
      "saving data ../Datahub/processed_dir\n",
      "saving data ../Datahub/processed_dir\n",
      "saving data ../Datahub/processed_dir\n",
      "saving data ../Datahub/processed_dir\n",
      "saving data ../Datahub/processed_dir\n",
      "saving data ../Datahub/processed_dir\n",
      "saving data ../Datahub/processed_dir\n",
      "saving data ../Datahub/processed_dir\n",
      "saving data ../Datahub/processed_dir\n",
      "saving data ../Datahub/processed_dir\n",
      "saving data ../Datahub/processed_dir\n",
      "saving data ../Datahub/processed_dir\n",
      "saving data ../Datahub/processed_dir\n",
      "saving data ../Datahub/processed_dir\n",
      "saving data ../Datahub/processed_dir\n",
      "saving data ../Datahub/processed_dir\n",
      "saving data ../Datahub/processed_dir\n",
      "saving data ../Datahub/processed_dir\n",
      "saving data ../Datahub/processed_dir\n",
      "saving data ../Datahub/processed_dir\n",
      "saving data ../Datahub/processed_dir\n",
      "saving data ../Datahub/processed_dir\n",
      "saving data ../Datahub/processed_dir\n",
      "saving data ../Datahub/processed_dir\n",
      "saving data ../Datahub/processed_dir\n",
      "saving data ../Datahub/processed_dir\n",
      "saving data ../Datahub/processed_dir\n",
      "saving data ../Datahub/processed_dir\n",
      "saving data ../Datahub/processed_dir\n",
      "saving data ../Datahub/processed_dir\n",
      "saving data ../Datahub/processed_dir\n",
      "saving data ../Datahub/processed_dir\n",
      "saving data ../Datahub/processed_dir\n",
      "saving data ../Datahub/processed_dir\n",
      "saving data ../Datahub/processed_dir\n",
      "saving data ../Datahub/processed_dir\n",
      "saving data ../Datahub/processed_dir\n",
      "saving data ../Datahub/processed_dir\n",
      "saving data ../Datahub/processed_dir\n",
      "saving data ../Datahub/processed_dir\n",
      "saving data ../Datahub/processed_dir\n",
      "saving data ../Datahub/processed_dir\n",
      "saving data ../Datahub/processed_dir\n",
      "saving data ../Datahub/processed_dir\n",
      "saving data ../Datahub/processed_dir\n",
      "saving data ../Datahub/processed_dir\n",
      "saving data ../Datahub/processed_dir\n",
      "saving data ../Datahub/processed_dir\n",
      "saving data ../Datahub/processed_dir\n",
      "saving data ../Datahub/processed_dir\n",
      "saving data ../Datahub/processed_dir\n",
      "saving data ../Datahub/processed_dir\n",
      "saving data ../Datahub/processed_dir\n",
      "saving data ../Datahub/processed_dir\n",
      "saving data ../Datahub/processed_dir\n",
      "saving data ../Datahub/processed_dir\n",
      "saving data ../Datahub/processed_dir\n",
      "saving data ../Datahub/processed_dir\n",
      "saving data ../Datahub/processed_dir\n",
      "saving data ../Datahub/processed_dir\n",
      "saving data ../Datahub/processed_dir\n",
      "saving data ../Datahub/processed_dir\n",
      "saving data ../Datahub/processed_dir\n",
      "saving data ../Datahub/processed_dir\n",
      "saving data ../Datahub/processed_dir\n",
      "saving data ../Datahub/processed_dir\n",
      "saving data ../Datahub/processed_dir\n",
      "saving data ../Datahub/processed_dir\n",
      "saving data ../Datahub/processed_dir\n",
      "saving data ../Datahub/processed_dir\n",
      "saving data ../Datahub/processed_dir\n",
      "saving data ../Datahub/processed_dir\n",
      "saving data ../Datahub/processed_dir\n",
      "saving data ../Datahub/processed_dir\n",
      "saving data ../Datahub/processed_dir\n",
      "saving data ../Datahub/processed_dir\n",
      "saving data ../Datahub/processed_dir\n",
      "saving data ../Datahub/processed_dir\n",
      "saving data ../Datahub/processed_dir\n",
      "saving data ../Datahub/processed_dir\n",
      "saving data ../Datahub/processed_dir\n",
      "saving data ../Datahub/processed_dir\n",
      "saving data ../Datahub/processed_dir\n",
      "saving data ../Datahub/processed_dir\n",
      "saving data ../Datahub/processed_dir\n",
      "saving data ../Datahub/processed_dir\n",
      "saving data ../Datahub/processed_dir\n",
      "saving data ../Datahub/processed_dir\n",
      "saving data ../Datahub/processed_dir\n",
      "saving data ../Datahub/processed_dir\n",
      "saving data ../Datahub/processed_dir\n",
      "saving data ../Datahub/processed_dir\n",
      "saving data ../Datahub/processed_dir\n",
      "saving data ../Datahub/processed_dir\n",
      "saving data ../Datahub/processed_dir\n",
      "saving data ../Datahub/processed_dir\n",
      "saving data ../Datahub/processed_dir\n",
      "saving data ../Datahub/processed_dir\n",
      "saving data ../Datahub/processed_dir\n",
      "saving data ../Datahub/processed_dir\n",
      "saving data ../Datahub/processed_dir\n",
      "saving data ../Datahub/processed_dir\n",
      "saving data ../Datahub/processed_dir\n",
      "saving data ../Datahub/processed_dir\n",
      "saving data ../Datahub/processed_dir\n",
      "saving data ../Datahub/processed_dir\n",
      "saving data ../Datahub/processed_dir\n",
      "saving data ../Datahub/processed_dir\n",
      "saving data ../Datahub/processed_dir\n",
      "saving data ../Datahub/processed_dir\n",
      "saving data ../Datahub/processed_dir\n",
      "saving data ../Datahub/processed_dir\n",
      "saving data ../Datahub/processed_dir\n",
      "saving data ../Datahub/processed_dir\n",
      "saving data ../Datahub/processed_dir\n",
      "saving data ../Datahub/processed_dir\n",
      "saving data ../Datahub/processed_dir\n",
      "saving data ../Datahub/processed_dir\n",
      "saving data ../Datahub/processed_dir\n",
      "saving data ../Datahub/processed_dir\n",
      "saving data ../Datahub/processed_dir\n",
      "saving data ../Datahub/processed_dir\n",
      "saving data ../Datahub/processed_dir\n",
      "saving data ../Datahub/processed_dir\n",
      "saving data ../Datahub/processed_dir\n",
      "saving data ../Datahub/processed_dir\n",
      "saving data ../Datahub/processed_dir\n",
      "saving data ../Datahub/processed_dir\n",
      "saving data ../Datahub/processed_dir\n",
      "saving data ../Datahub/processed_dir\n",
      "saving data ../Datahub/processed_dir\n",
      "saving data ../Datahub/processed_dir\n",
      "saving data ../Datahub/processed_dir\n",
      "saving data ../Datahub/processed_dir\n",
      "saving data ../Datahub/processed_dir\n",
      "saving data ../Datahub/processed_dir\n",
      "saving data ../Datahub/processed_dir\n",
      "saving data ../Datahub/processed_dir\n",
      "saving data ../Datahub/processed_dir\n",
      "saving data ../Datahub/processed_dir\n",
      "saving data ../Datahub/processed_dir\n",
      "saving data ../Datahub/processed_dir\n",
      "saving data ../Datahub/processed_dir\n",
      "saving data ../Datahub/processed_dir\n",
      "saving data ../Datahub/processed_dir\n",
      "saving data ../Datahub/processed_dir\n",
      "saving data ../Datahub/processed_dir\n",
      "saving data ../Datahub/processed_dir\n",
      "saving data ../Datahub/processed_dir\n",
      "saving data ../Datahub/processed_dir\n",
      "saving data ../Datahub/processed_dir\n",
      "saving data ../Datahub/processed_dir\n",
      "saving data ../Datahub/processed_dir\n",
      "saving data ../Datahub/processed_dir\n",
      "saving data ../Datahub/processed_dir\n",
      "saving data ../Datahub/processed_dir\n",
      "saving data ../Datahub/processed_dir\n",
      "saving data ../Datahub/processed_dir\n",
      "saving data ../Datahub/processed_dir\n",
      "saving data ../Datahub/processed_dir\n",
      "saving data ../Datahub/processed_dir\n",
      "saving data ../Datahub/processed_dir\n",
      "saving data ../Datahub/processed_dir\n",
      "saving data ../Datahub/processed_dir\n",
      "saving data ../Datahub/processed_dir\n",
      "saving data ../Datahub/processed_dir\n",
      "saving data ../Datahub/processed_dir\n",
      "saving data ../Datahub/processed_dir\n",
      "saving data ../Datahub/processed_dir\n",
      "saving data ../Datahub/processed_dir\n",
      "saving data ../Datahub/processed_dir\n",
      "saving data ../Datahub/processed_dir\n",
      "saving data ../Datahub/processed_dir\n",
      "saving data ../Datahub/processed_dir\n",
      "saving data ../Datahub/processed_dir\n",
      "saving data ../Datahub/processed_dir\n",
      "saving data ../Datahub/processed_dir\n",
      "saving data ../Datahub/processed_dir\n",
      "saving data ../Datahub/processed_dir\n",
      "saving data ../Datahub/processed_dir\n",
      "saving data ../Datahub/processed_dir\n",
      "saving data ../Datahub/processed_dir\n",
      "saving data ../Datahub/processed_dir\n",
      "saving data ../Datahub/processed_dir\n",
      "saving data ../Datahub/processed_dir\n",
      "saving data ../Datahub/processed_dir\n",
      "saving data ../Datahub/processed_dir\n",
      "saving data ../Datahub/processed_dir\n",
      "saving data ../Datahub/processed_dir\n",
      "saving data ../Datahub/processed_dir\n",
      "saving data ../Datahub/processed_dir\n",
      "saving data ../Datahub/processed_dir\n",
      "saving data ../Datahub/processed_dir\n",
      "saving data ../Datahub/processed_dir\n",
      "saving data ../Datahub/processed_dir\n",
      "saving data ../Datahub/processed_dir\n",
      "saving data ../Datahub/processed_dir\n",
      "saving data ../Datahub/processed_dir\n",
      "saving data ../Datahub/processed_dir\n",
      "saving data ../Datahub/processed_dir\n",
      "saving data ../Datahub/processed_dir\n",
      "saving data ../Datahub/processed_dir\n",
      "saving data ../Datahub/processed_dir\n",
      "saving data ../Datahub/processed_dir\n",
      "saving data ../Datahub/processed_dir\n",
      "saving data ../Datahub/processed_dir\n",
      "saving data ../Datahub/processed_dir\n",
      "saving data ../Datahub/processed_dir\n",
      "saving data ../Datahub/processed_dir\n",
      "saving data ../Datahub/processed_dir\n",
      "saving data ../Datahub/processed_dir\n",
      "saving data ../Datahub/processed_dir\n",
      "saving data ../Datahub/processed_dir\n",
      "saving data ../Datahub/processed_dir\n",
      "saving data ../Datahub/processed_dir\n",
      "saving data ../Datahub/processed_dir\n",
      "saving data ../Datahub/processed_dir\n",
      "saving data ../Datahub/processed_dir\n",
      "saving data ../Datahub/processed_dir\n",
      "saving data ../Datahub/processed_dir\n",
      "saving data ../Datahub/processed_dir\n",
      "saving data ../Datahub/processed_dir\n",
      "saving data ../Datahub/processed_dir\n",
      "saving data ../Datahub/processed_dir\n",
      "saving data ../Datahub/processed_dir\n",
      "saving data ../Datahub/processed_dir\n",
      "saving data ../Datahub/processed_dir\n",
      "saving data ../Datahub/processed_dir\n",
      "saving data ../Datahub/processed_dir\n",
      "saving data ../Datahub/processed_dir\n",
      "saving data ../Datahub/processed_dir\n",
      "saving data ../Datahub/processed_dir\n",
      "saving data ../Datahub/processed_dir\n",
      "saving data ../Datahub/processed_dir\n",
      "saving data ../Datahub/processed_dir\n",
      "saving data ../Datahub/processed_dir\n",
      "saving data ../Datahub/processed_dir\n",
      "saving data ../Datahub/processed_dir\n",
      "saving data ../Datahub/processed_dir\n",
      "saving data ../Datahub/processed_dir\n",
      "saving data ../Datahub/processed_dir\n",
      "saving data ../Datahub/processed_dir\n",
      "saving data ../Datahub/processed_dir\n",
      "saving data ../Datahub/processed_dir\n",
      "saving data ../Datahub/processed_dir\n",
      "saving data ../Datahub/processed_dir\n",
      "saving data ../Datahub/processed_dir\n",
      "saving data ../Datahub/processed_dir\n",
      "saving data ../Datahub/processed_dir\n",
      "saving data ../Datahub/processed_dir\n",
      "saving data ../Datahub/processed_dir\n",
      "saving data ../Datahub/processed_dir\n",
      "saving data ../Datahub/processed_dir\n",
      "saving data ../Datahub/processed_dir\n",
      "saving data ../Datahub/processed_dir\n",
      "saving data ../Datahub/processed_dir\n",
      "saving data ../Datahub/processed_dir\n",
      "saving data ../Datahub/processed_dir\n",
      "saving data ../Datahub/processed_dir\n",
      "saving data ../Datahub/processed_dir\n",
      "saving data ../Datahub/processed_dir\n",
      "saving data ../Datahub/processed_dir\n",
      "saving data ../Datahub/processed_dir\n",
      "saving data ../Datahub/processed_dir\n",
      "saving data ../Datahub/processed_dir\n",
      "saving data ../Datahub/processed_dir\n",
      "saving data ../Datahub/processed_dir\n",
      "saving data ../Datahub/processed_dir\n",
      "saving data ../Datahub/processed_dir\n",
      "saving data ../Datahub/processed_dir\n",
      "saving data ../Datahub/processed_dir\n",
      "saving data ../Datahub/processed_dir\n",
      "saving data ../Datahub/processed_dir\n",
      "saving data ../Datahub/processed_dir\n",
      "saving data ../Datahub/processed_dir\n",
      "saving data ../Datahub/processed_dir\n",
      "saving data ../Datahub/processed_dir\n",
      "saving data ../Datahub/processed_dir\n",
      "saving data ../Datahub/processed_dir\n",
      "saving data ../Datahub/processed_dir\n",
      "saving data ../Datahub/processed_dir\n",
      "saving data ../Datahub/processed_dir\n",
      "saving data ../Datahub/processed_dir\n",
      "saving data ../Datahub/processed_dir\n",
      "saving data ../Datahub/processed_dir\n",
      "saving data ../Datahub/processed_dir\n",
      "saving data ../Datahub/processed_dir\n",
      "saving data ../Datahub/processed_dir\n",
      "saving data ../Datahub/processed_dir\n",
      "saving data ../Datahub/processed_dir\n",
      "saving data ../Datahub/processed_dir\n",
      "saving data ../Datahub/processed_dir\n",
      "saving data ../Datahub/processed_dir\n",
      "saving data ../Datahub/processed_dir\n",
      "saving data ../Datahub/processed_dir\n",
      "saving data ../Datahub/processed_dir\n",
      "saving data ../Datahub/processed_dir\n",
      "saving data ../Datahub/processed_dir\n",
      "saving data ../Datahub/processed_dir\n",
      "saving data ../Datahub/processed_dir\n",
      "saving data ../Datahub/processed_dir\n",
      "saving data ../Datahub/processed_dir\n",
      "saving data ../Datahub/processed_dir\n",
      "saving data ../Datahub/processed_dir\n",
      "saving data ../Datahub/processed_dir\n",
      "saving data ../Datahub/processed_dir\n",
      "saving data ../Datahub/processed_dir\n",
      "saving data ../Datahub/processed_dir\n",
      "saving data ../Datahub/processed_dir\n",
      "saving data ../Datahub/processed_dir\n",
      "saving data ../Datahub/processed_dir\n",
      "saving data ../Datahub/processed_dir\n",
      "saving data ../Datahub/processed_dir\n",
      "saving data ../Datahub/processed_dir\n",
      "saving data ../Datahub/processed_dir\n",
      "saving data ../Datahub/processed_dir\n",
      "saving data ../Datahub/processed_dir\n",
      "saving data ../Datahub/processed_dir\n",
      "saving data ../Datahub/processed_dir\n",
      "saving data ../Datahub/processed_dir\n",
      "saving data ../Datahub/processed_dir\n",
      "saving data ../Datahub/processed_dir\n",
      "saving data ../Datahub/processed_dir\n",
      "saving data ../Datahub/processed_dir\n",
      "saving data ../Datahub/processed_dir\n",
      "saving data ../Datahub/processed_dir\n",
      "saving data ../Datahub/processed_dir\n",
      "saving data ../Datahub/processed_dir\n",
      "saving data ../Datahub/processed_dir\n",
      "saving data ../Datahub/processed_dir\n",
      "saving data ../Datahub/processed_dir\n",
      "saving data ../Datahub/processed_dir\n",
      "saving data ../Datahub/processed_dir\n",
      "saving data ../Datahub/processed_dir\n",
      "saving data ../Datahub/processed_dir\n",
      "saving data ../Datahub/processed_dir\n",
      "saving data ../Datahub/processed_dir\n",
      "saving data ../Datahub/processed_dir\n",
      "saving data ../Datahub/processed_dir\n",
      "saving data ../Datahub/processed_dir\n",
      "saving data ../Datahub/processed_dir\n",
      "saving data ../Datahub/processed_dir\n",
      "saving data ../Datahub/processed_dir\n",
      "saving data ../Datahub/processed_dir\n",
      "saving data ../Datahub/processed_dir\n",
      "saving data ../Datahub/processed_dir\n",
      "saving data ../Datahub/processed_dir\n",
      "saving data ../Datahub/processed_dir\n",
      "saving data ../Datahub/processed_dir\n",
      "saving data ../Datahub/processed_dir\n",
      "saving data ../Datahub/processed_dir\n",
      "saving data ../Datahub/processed_dir\n",
      "saving data ../Datahub/processed_dir\n",
      "saving data ../Datahub/processed_dir\n",
      "saving data ../Datahub/processed_dir\n",
      "saving data ../Datahub/processed_dir\n",
      "saving data ../Datahub/processed_dir\n",
      "saving data ../Datahub/processed_dir\n",
      "saving data ../Datahub/processed_dir\n",
      "saving data ../Datahub/processed_dir\n",
      "saving data ../Datahub/processed_dir\n",
      "saving data ../Datahub/processed_dir\n",
      "saving data ../Datahub/processed_dir\n",
      "saving data ../Datahub/processed_dir\n",
      "saving data ../Datahub/processed_dir\n",
      "saving data ../Datahub/processed_dir\n",
      "saving data ../Datahub/processed_dir\n",
      "saving data ../Datahub/processed_dir\n",
      "saving data ../Datahub/processed_dir\n",
      "saving data ../Datahub/processed_dir\n",
      "saving data ../Datahub/processed_dir\n",
      "saving data ../Datahub/processed_dir\n",
      "saving data ../Datahub/processed_dir\n",
      "saving data ../Datahub/processed_dir\n",
      "saving data ../Datahub/processed_dir\n",
      "saving data ../Datahub/processed_dir\n",
      "saving data ../Datahub/processed_dir\n",
      "saving data ../Datahub/processed_dir\n",
      "saving data ../Datahub/processed_dir\n",
      "saving data ../Datahub/processed_dir\n",
      "saving data ../Datahub/processed_dir\n",
      "saving data ../Datahub/processed_dir\n",
      "saving data ../Datahub/processed_dir\n",
      "saving data ../Datahub/processed_dir\n",
      "saving data ../Datahub/processed_dir\n",
      "saving data ../Datahub/processed_dir\n",
      "saving data ../Datahub/processed_dir\n",
      "saving data ../Datahub/processed_dir\n",
      "saving data ../Datahub/processed_dir\n",
      "saving data ../Datahub/processed_dir\n",
      "saving data ../Datahub/processed_dir\n",
      "saving data ../Datahub/processed_dir\n",
      "saving data ../Datahub/processed_dir\n",
      "saving data ../Datahub/processed_dir\n",
      "saving data ../Datahub/processed_dir\n",
      "saving data ../Datahub/processed_dir\n",
      "saving data ../Datahub/processed_dir\n",
      "saving data ../Datahub/processed_dir\n",
      "saving data ../Datahub/processed_dir\n",
      "saving data ../Datahub/processed_dir\n",
      "saving data ../Datahub/processed_dir\n",
      "saving data ../Datahub/processed_dir\n",
      "saving data ../Datahub/processed_dir\n",
      "saving data ../Datahub/processed_dir\n",
      "saving data ../Datahub/processed_dir\n",
      "saving data ../Datahub/processed_dir\n",
      "saving data ../Datahub/processed_dir\n",
      "saving data ../Datahub/processed_dir\n",
      "saving data ../Datahub/processed_dir\n",
      "saving data ../Datahub/processed_dir\n",
      "saving data ../Datahub/processed_dir\n",
      "saving data ../Datahub/processed_dir\n",
      "saving data ../Datahub/processed_dir\n",
      "saving data ../Datahub/processed_dir\n",
      "saving data ../Datahub/processed_dir\n",
      "saving data ../Datahub/processed_dir\n",
      "saving data ../Datahub/processed_dir\n",
      "saving data ../Datahub/processed_dir\n",
      "saving data ../Datahub/processed_dir\n",
      "saving data ../Datahub/processed_dir\n",
      "saving data ../Datahub/processed_dir\n",
      "saving data ../Datahub/processed_dir\n",
      "saving data ../Datahub/processed_dir\n",
      "saving data ../Datahub/processed_dir\n",
      "saving data ../Datahub/processed_dir\n",
      "saving data ../Datahub/processed_dir\n",
      "saving data ../Datahub/processed_dir\n",
      "saving data ../Datahub/processed_dir\n",
      "saving data ../Datahub/processed_dir\n",
      "saving data ../Datahub/processed_dir\n",
      "saving data ../Datahub/processed_dir\n",
      "saving data ../Datahub/processed_dir\n",
      "saving data ../Datahub/processed_dir\n",
      "saving data ../Datahub/processed_dir\n",
      "saving data ../Datahub/processed_dir\n",
      "saving data ../Datahub/processed_dir\n",
      "saving data ../Datahub/processed_dir\n",
      "saving data ../Datahub/processed_dir\n",
      "saving data ../Datahub/processed_dir\n",
      "saving data ../Datahub/processed_dir\n",
      "saving data ../Datahub/processed_dir\n",
      "saving data ../Datahub/processed_dir\n",
      "saving data ../Datahub/processed_dir\n",
      "saving data ../Datahub/processed_dir\n",
      "saving data ../Datahub/processed_dir\n",
      "saving data ../Datahub/processed_dir\n",
      "saving data ../Datahub/processed_dir\n",
      "saving data ../Datahub/processed_dir\n",
      "saving data ../Datahub/processed_dir\n",
      "saving data ../Datahub/processed_dir\n",
      "saving data ../Datahub/processed_dir\n",
      "saving data ../Datahub/processed_dir\n",
      "saving data ../Datahub/processed_dir\n",
      "saving data ../Datahub/processed_dir\n",
      "saving data ../Datahub/processed_dir\n",
      "saving data ../Datahub/processed_dir\n",
      "saving data ../Datahub/processed_dir\n",
      "saving data ../Datahub/processed_dir\n",
      "saving data ../Datahub/processed_dir\n",
      "saving data ../Datahub/processed_dir\n",
      "saving data ../Datahub/processed_dir\n",
      "saving data ../Datahub/processed_dir\n",
      "saving data ../Datahub/processed_dir\n",
      "saving data ../Datahub/processed_dir\n",
      "saving data ../Datahub/processed_dir\n",
      "saving data ../Datahub/processed_dir\n",
      "saving data ../Datahub/processed_dir\n",
      "saving data ../Datahub/processed_dir\n",
      "saving data ../Datahub/processed_dir\n",
      "saving data ../Datahub/processed_dir\n",
      "saving data ../Datahub/processed_dir\n",
      "saving data ../Datahub/processed_dir\n",
      "saving data ../Datahub/processed_dir\n",
      "saving data ../Datahub/processed_dir\n",
      "saving data ../Datahub/processed_dir\n",
      "saving data ../Datahub/processed_dir\n",
      "saving data ../Datahub/processed_dir\n",
      "saving data ../Datahub/processed_dir\n",
      "saving data ../Datahub/processed_dir\n",
      "saving data ../Datahub/processed_dir\n",
      "saving data ../Datahub/processed_dir\n",
      "saving data ../Datahub/processed_dir\n",
      "saving data ../Datahub/processed_dir\n",
      "saving data ../Datahub/processed_dir\n",
      "saving data ../Datahub/processed_dir\n",
      "saving data ../Datahub/processed_dir\n",
      "saving data ../Datahub/processed_dir\n",
      "saving data ../Datahub/processed_dir\n",
      "saving data ../Datahub/processed_dir\n",
      "saving data ../Datahub/processed_dir\n",
      "saving data ../Datahub/processed_dir\n",
      "saving data ../Datahub/processed_dir\n",
      "saving data ../Datahub/processed_dir\n",
      "saving data ../Datahub/processed_dir\n",
      "saving data ../Datahub/processed_dir\n",
      "saving data ../Datahub/processed_dir\n",
      "saving data ../Datahub/processed_dir\n",
      "saving data ../Datahub/processed_dir\n",
      "saving data ../Datahub/processed_dir\n",
      "saving data ../Datahub/processed_dir\n",
      "saving data ../Datahub/processed_dir\n",
      "saving data ../Datahub/processed_dir\n",
      "saving data ../Datahub/processed_dir\n",
      "saving data ../Datahub/processed_dir\n",
      "saving data ../Datahub/processed_dir\n",
      "saving data ../Datahub/processed_dir\n",
      "saving data ../Datahub/processed_dir\n",
      "saving data ../Datahub/processed_dir\n",
      "saving data ../Datahub/processed_dir\n",
      "saving data ../Datahub/processed_dir\n",
      "saving data ../Datahub/processed_dir\n",
      "saving data ../Datahub/processed_dir\n",
      "saving data ../Datahub/processed_dir\n",
      "saving data ../Datahub/processed_dir\n",
      "saving data ../Datahub/processed_dir\n",
      "saving data ../Datahub/processed_dir\n",
      "saving data ../Datahub/processed_dir\n",
      "saving data ../Datahub/processed_dir\n",
      "saving data ../Datahub/processed_dir\n",
      "saving data ../Datahub/processed_dir\n",
      "saving data ../Datahub/processed_dir\n",
      "saving data ../Datahub/processed_dir\n",
      "saving data ../Datahub/processed_dir\n",
      "saving data ../Datahub/processed_dir\n",
      "saving data ../Datahub/processed_dir\n",
      "saving data ../Datahub/processed_dir\n",
      "saving data ../Datahub/processed_dir\n",
      "saving data ../Datahub/processed_dir\n",
      "saving data ../Datahub/processed_dir\n",
      "saving data ../Datahub/processed_dir\n",
      "saving data ../Datahub/processed_dir\n",
      "saving data ../Datahub/processed_dir\n",
      "saving data ../Datahub/processed_dir\n",
      "saving data ../Datahub/processed_dir\n",
      "saving data ../Datahub/processed_dir\n",
      "saving data ../Datahub/processed_dir\n",
      "saving data ../Datahub/processed_dir\n",
      "saving data ../Datahub/processed_dir\n",
      "saving data ../Datahub/processed_dir\n",
      "saving data ../Datahub/processed_dir\n",
      "saving data ../Datahub/processed_dir\n",
      "saving data ../Datahub/processed_dir\n",
      "saving data ../Datahub/processed_dir\n",
      "saving data ../Datahub/processed_dir\n",
      "saving data ../Datahub/processed_dir\n",
      "saving data ../Datahub/processed_dir\n",
      "saving data ../Datahub/processed_dir\n",
      "saving data ../Datahub/processed_dir\n",
      "saving data ../Datahub/processed_dir\n",
      "saving data ../Datahub/processed_dir\n",
      "saving data ../Datahub/processed_dir\n",
      "saving data ../Datahub/processed_dir\n",
      "saving data ../Datahub/processed_dir\n",
      "saving data ../Datahub/processed_dir\n",
      "saving data ../Datahub/processed_dir\n",
      "saving data ../Datahub/processed_dir\n",
      "saving data ../Datahub/processed_dir\n",
      "saving data ../Datahub/processed_dir\n",
      "saving data ../Datahub/processed_dir\n",
      "saving data ../Datahub/processed_dir\n",
      "saving data ../Datahub/processed_dir\n",
      "saving data ../Datahub/processed_dir\n",
      "saving data ../Datahub/processed_dir\n",
      "saving data ../Datahub/processed_dir\n",
      "saving data ../Datahub/processed_dir\n",
      "saving data ../Datahub/processed_dir\n",
      "saving data ../Datahub/processed_dir\n",
      "saving data ../Datahub/processed_dir\n",
      "saving data ../Datahub/processed_dir\n",
      "saving data ../Datahub/processed_dir\n",
      "saving data ../Datahub/processed_dir\n",
      "saving data ../Datahub/processed_dir\n",
      "saving data ../Datahub/processed_dir\n",
      "saving data ../Datahub/processed_dir\n",
      "saving data ../Datahub/processed_dir\n",
      "saving data ../Datahub/processed_dir\n",
      "saving data ../Datahub/processed_dir\n",
      "saving data ../Datahub/processed_dir\n",
      "saving data ../Datahub/processed_dir\n",
      "saving data ../Datahub/processed_dir\n",
      "saving data ../Datahub/processed_dir\n",
      "saving data ../Datahub/processed_dir\n",
      "saving data ../Datahub/processed_dir\n",
      "saving data ../Datahub/processed_dir\n",
      "saving data ../Datahub/processed_dir\n",
      "saving data ../Datahub/processed_dir\n",
      "saving data ../Datahub/processed_dir\n",
      "saving data ../Datahub/processed_dir\n",
      "saving data ../Datahub/processed_dir\n",
      "saving data ../Datahub/processed_dir\n",
      "saving data ../Datahub/processed_dir\n",
      "saving data ../Datahub/processed_dir\n",
      "saving data ../Datahub/processed_dir\n",
      "saving data ../Datahub/processed_dir\n",
      "saving data ../Datahub/processed_dir\n",
      "saving data ../Datahub/processed_dir\n",
      "saving data ../Datahub/processed_dir\n",
      "saving data ../Datahub/processed_dir\n",
      "saving data ../Datahub/processed_dir\n",
      "saving data ../Datahub/processed_dir\n",
      "saving data ../Datahub/processed_dir\n",
      "saving data ../Datahub/processed_dir\n",
      "saving data ../Datahub/processed_dir\n",
      "saving data ../Datahub/processed_dir\n",
      "saving data ../Datahub/processed_dir\n",
      "saving data ../Datahub/processed_dir\n",
      "saving data ../Datahub/processed_dir\n",
      "saving data ../Datahub/processed_dir\n",
      "saving data ../Datahub/processed_dir\n",
      "saving data ../Datahub/processed_dir\n",
      "saving data ../Datahub/processed_dir\n",
      "saving data ../Datahub/processed_dir\n",
      "saving data ../Datahub/processed_dir\n",
      "saving data ../Datahub/processed_dir\n",
      "saving data ../Datahub/processed_dir\n",
      "saving data ../Datahub/processed_dir\n",
      "saving data ../Datahub/processed_dir\n",
      "saving data ../Datahub/processed_dir\n",
      "saving data ../Datahub/processed_dir\n",
      "saving data ../Datahub/processed_dir\n",
      "saving data ../Datahub/processed_dir\n",
      "saving data ../Datahub/processed_dir\n",
      "saving data ../Datahub/processed_dir\n",
      "saving data ../Datahub/processed_dir\n",
      "saving data ../Datahub/processed_dir\n",
      "saving data ../Datahub/processed_dir\n",
      "saving data ../Datahub/processed_dir\n",
      "saving data ../Datahub/processed_dir\n",
      "saving data ../Datahub/processed_dir\n",
      "saving data ../Datahub/processed_dir\n",
      "saving data ../Datahub/processed_dir\n",
      "saving data ../Datahub/processed_dir\n",
      "saving data ../Datahub/processed_dir\n",
      "saving data ../Datahub/processed_dir\n",
      "saving data ../Datahub/processed_dir\n",
      "saving data ../Datahub/processed_dir\n",
      "saving data ../Datahub/processed_dir\n",
      "saving data ../Datahub/processed_dir\n",
      "saving data ../Datahub/processed_dir\n",
      "saving data ../Datahub/processed_dir\n",
      "saving data ../Datahub/processed_dir\n",
      "saving data ../Datahub/processed_dir\n",
      "saving data ../Datahub/processed_dir\n",
      "saving data ../Datahub/processed_dir\n",
      "saving data ../Datahub/processed_dir\n",
      "saving data ../Datahub/processed_dir\n",
      "saving data ../Datahub/processed_dir\n",
      "saving data ../Datahub/processed_dir\n",
      "saving data ../Datahub/processed_dir\n",
      "saving data ../Datahub/processed_dir\n",
      "saving data ../Datahub/processed_dir\n",
      "saving data ../Datahub/processed_dir\n",
      "saving data ../Datahub/processed_dir\n",
      "saving data ../Datahub/processed_dir\n",
      "saving data ../Datahub/processed_dir\n",
      "saving data ../Datahub/processed_dir\n",
      "saving data ../Datahub/processed_dir\n",
      "saving data ../Datahub/processed_dir\n",
      "saving data ../Datahub/processed_dir\n",
      "saving data ../Datahub/processed_dir\n",
      "saving data ../Datahub/processed_dir\n",
      "saving data ../Datahub/processed_dir\n",
      "saving data ../Datahub/processed_dir\n",
      "saving data ../Datahub/processed_dir\n",
      "saving data ../Datahub/processed_dir\n",
      "saving data ../Datahub/processed_dir\n",
      "saving data ../Datahub/processed_dir\n",
      "saving data ../Datahub/processed_dir\n",
      "saving data ../Datahub/processed_dir\n",
      "saving data ../Datahub/processed_dir\n",
      "saving data ../Datahub/processed_dir\n",
      "saving data ../Datahub/processed_dir\n",
      "saving data ../Datahub/processed_dir\n",
      "saving data ../Datahub/processed_dir\n",
      "saving data ../Datahub/processed_dir\n",
      "saving data ../Datahub/processed_dir\n",
      "saving data ../Datahub/processed_dir\n",
      "saving data ../Datahub/processed_dir\n",
      "saving data ../Datahub/processed_dir\n",
      "saving data ../Datahub/processed_dir\n",
      "saving data ../Datahub/processed_dir\n",
      "saving data ../Datahub/processed_dir\n",
      "saving data ../Datahub/processed_dir\n",
      "saving data ../Datahub/processed_dir\n",
      "saving data ../Datahub/processed_dir\n",
      "saving data ../Datahub/processed_dir\n",
      "saving data ../Datahub/processed_dir\n",
      "saving data ../Datahub/processed_dir\n",
      "saving data ../Datahub/processed_dir\n",
      "saving data ../Datahub/processed_dir\n",
      "saving data ../Datahub/processed_dir\n",
      "saving data ../Datahub/processed_dir\n",
      "saving data ../Datahub/processed_dir\n",
      "saving data ../Datahub/processed_dir\n",
      "saving data ../Datahub/processed_dir\n",
      "saving data ../Datahub/processed_dir\n",
      "saving data ../Datahub/processed_dir\n",
      "saving data ../Datahub/processed_dir\n",
      "saving data ../Datahub/processed_dir\n",
      "saving data ../Datahub/processed_dir\n",
      "saving data ../Datahub/processed_dir\n",
      "saving data ../Datahub/processed_dir\n",
      "saving data ../Datahub/processed_dir\n",
      "saving data ../Datahub/processed_dir\n",
      "saving data ../Datahub/processed_dir\n",
      "saving data ../Datahub/processed_dir\n",
      "saving data ../Datahub/processed_dir\n",
      "saving data ../Datahub/processed_dir\n",
      "saving data ../Datahub/processed_dir\n",
      "saving data ../Datahub/processed_dir\n",
      "saving data ../Datahub/processed_dir\n",
      "saving data ../Datahub/processed_dir\n",
      "saving data ../Datahub/processed_dir\n",
      "saving data ../Datahub/processed_dir\n",
      "saving data ../Datahub/processed_dir\n",
      "saving data ../Datahub/processed_dir\n",
      "saving data ../Datahub/processed_dir\n",
      "saving data ../Datahub/processed_dir\n",
      "saving data ../Datahub/processed_dir\n",
      "saving data ../Datahub/processed_dir\n",
      "saving data ../Datahub/processed_dir\n",
      "saving data ../Datahub/processed_dir\n",
      "saving data ../Datahub/processed_dir\n",
      "saving data ../Datahub/processed_dir\n",
      "saving data ../Datahub/processed_dir\n",
      "saving data ../Datahub/processed_dir\n",
      "saving data ../Datahub/processed_dir\n",
      "saving data ../Datahub/processed_dir\n",
      "saving data ../Datahub/processed_dir\n",
      "saving data ../Datahub/processed_dir\n",
      "saving data ../Datahub/processed_dir\n",
      "saving data ../Datahub/processed_dir\n",
      "saving data ../Datahub/processed_dir\n",
      "saving data ../Datahub/processed_dir\n",
      "saving data ../Datahub/processed_dir\n",
      "saving data ../Datahub/processed_dir\n",
      "saving data ../Datahub/processed_dir\n",
      "saving data ../Datahub/processed_dir\n",
      "saving data ../Datahub/processed_dir\n",
      "saving data ../Datahub/processed_dir\n",
      "saving data ../Datahub/processed_dir\n",
      "saving data ../Datahub/processed_dir\n",
      "saving data ../Datahub/processed_dir\n",
      "saving data ../Datahub/processed_dir\n",
      "saving data ../Datahub/processed_dir\n",
      "saving data ../Datahub/processed_dir\n",
      "saving data ../Datahub/processed_dir\n",
      "saving data ../Datahub/processed_dir\n",
      "saving data ../Datahub/processed_dir\n",
      "saving data ../Datahub/processed_dir\n",
      "saving data ../Datahub/processed_dir\n",
      "saving data ../Datahub/processed_dir\n",
      "saving data ../Datahub/processed_dir\n",
      "saving data ../Datahub/processed_dir\n",
      "saving data ../Datahub/processed_dir\n",
      "saving data ../Datahub/processed_dir\n",
      "saving data ../Datahub/processed_dir\n",
      "saving data ../Datahub/processed_dir\n",
      "saving data ../Datahub/processed_dir\n",
      "saving data ../Datahub/processed_dir\n",
      "saving data ../Datahub/processed_dir\n",
      "saving data ../Datahub/processed_dir\n",
      "saving data ../Datahub/processed_dir\n",
      "saving data ../Datahub/processed_dir\n",
      "saving data ../Datahub/processed_dir\n",
      "saving data ../Datahub/processed_dir\n",
      "saving data ../Datahub/processed_dir\n",
      "saving data ../Datahub/processed_dir\n",
      "saving data ../Datahub/processed_dir\n",
      "saving data ../Datahub/processed_dir\n",
      "saving data ../Datahub/processed_dir\n",
      "saving data ../Datahub/processed_dir\n",
      "saving data ../Datahub/processed_dir\n",
      "saving data ../Datahub/processed_dir\n",
      "saving data ../Datahub/processed_dir\n",
      "saving data ../Datahub/processed_dir\n",
      "saving data ../Datahub/processed_dir\n",
      "saving data ../Datahub/processed_dir\n",
      "saving data ../Datahub/processed_dir\n",
      "saving data ../Datahub/processed_dir\n",
      "saving data ../Datahub/processed_dir\n",
      "saving data ../Datahub/processed_dir\n",
      "saving data ../Datahub/processed_dir\n",
      "saving data ../Datahub/processed_dir\n",
      "saving data ../Datahub/processed_dir\n",
      "saving data ../Datahub/processed_dir\n",
      "saving data ../Datahub/processed_dir\n",
      "saving data ../Datahub/processed_dir\n",
      "saving data ../Datahub/processed_dir\n",
      "saving data ../Datahub/processed_dir\n",
      "saving data ../Datahub/processed_dir\n",
      "saving data ../Datahub/processed_dir\n",
      "saving data ../Datahub/processed_dir\n",
      "saving data ../Datahub/processed_dir\n",
      "saving data ../Datahub/processed_dir\n",
      "saving data ../Datahub/processed_dir\n",
      "saving data ../Datahub/processed_dir\n",
      "saving data ../Datahub/processed_dir\n",
      "saving data ../Datahub/processed_dir\n",
      "saving data ../Datahub/processed_dir\n",
      "saving data ../Datahub/processed_dir\n",
      "saving data ../Datahub/processed_dir\n",
      "saving data ../Datahub/processed_dir\n",
      "saving data ../Datahub/processed_dir\n",
      "saving data ../Datahub/processed_dir\n",
      "saving data ../Datahub/processed_dir\n",
      "saving data ../Datahub/processed_dir\n",
      "saving data ../Datahub/processed_dir\n",
      "saving data ../Datahub/processed_dir\n",
      "saving data ../Datahub/processed_dir\n",
      "saving data ../Datahub/processed_dir\n",
      "saving data ../Datahub/processed_dir\n",
      "saving data ../Datahub/processed_dir\n",
      "saving data ../Datahub/processed_dir\n",
      "saving data ../Datahub/processed_dir\n",
      "saving data ../Datahub/processed_dir\n",
      "saving data ../Datahub/processed_dir\n",
      "saving data ../Datahub/processed_dir\n",
      "saving data ../Datahub/processed_dir\n",
      "saving data ../Datahub/processed_dir\n",
      "saving data ../Datahub/processed_dir\n",
      "saving data ../Datahub/processed_dir\n",
      "saving data ../Datahub/processed_dir\n",
      "saving data ../Datahub/processed_dir\n",
      "saving data ../Datahub/processed_dir\n",
      "saving data ../Datahub/processed_dir\n",
      "saving data ../Datahub/processed_dir\n",
      "saving data ../Datahub/processed_dir\n",
      "saving data ../Datahub/processed_dir\n",
      "saving data ../Datahub/processed_dir\n",
      "saving data ../Datahub/processed_dir\n",
      "saving data ../Datahub/processed_dir\n",
      "saving data ../Datahub/processed_dir\n",
      "saving data ../Datahub/processed_dir\n",
      "saving data ../Datahub/processed_dir\n",
      "saving data ../Datahub/processed_dir\n",
      "saving data ../Datahub/processed_dir\n",
      "saving data ../Datahub/processed_dir\n",
      "saving data ../Datahub/processed_dir\n",
      "saving data ../Datahub/processed_dir\n",
      "saving data ../Datahub/processed_dir\n",
      "saving data ../Datahub/processed_dir\n",
      "saving data ../Datahub/processed_dir\n",
      "saving data ../Datahub/processed_dir\n",
      "saving data ../Datahub/processed_dir\n",
      "saving data ../Datahub/processed_dir\n",
      "saving data ../Datahub/processed_dir\n",
      "saving data ../Datahub/processed_dir\n",
      "saving data ../Datahub/processed_dir\n",
      "saving data ../Datahub/processed_dir\n",
      "saving data ../Datahub/processed_dir\n",
      "saving data ../Datahub/processed_dir\n",
      "saving data ../Datahub/processed_dir\n",
      "saving data ../Datahub/processed_dir\n",
      "saving data ../Datahub/processed_dir\n",
      "saving data ../Datahub/processed_dir\n",
      "saving data ../Datahub/processed_dir\n",
      "saving data ../Datahub/processed_dir\n",
      "saving data ../Datahub/processed_dir\n",
      "saving data ../Datahub/processed_dir\n",
      "saving data ../Datahub/processed_dir\n",
      "saving data ../Datahub/processed_dir\n",
      "saving data ../Datahub/processed_dir\n",
      "saving data ../Datahub/processed_dir\n",
      "saving data ../Datahub/processed_dir\n",
      "saving data ../Datahub/processed_dir\n",
      "saving data ../Datahub/processed_dir\n",
      "saving data ../Datahub/processed_dir\n",
      "saving data ../Datahub/processed_dir\n",
      "saving data ../Datahub/processed_dir\n",
      "saving data ../Datahub/processed_dir\n",
      "saving data ../Datahub/processed_dir\n",
      "saving data ../Datahub/processed_dir\n",
      "saving data ../Datahub/processed_dir\n",
      "saving data ../Datahub/processed_dir\n",
      "saving data ../Datahub/processed_dir\n",
      "saving data ../Datahub/processed_dir\n",
      "saving data ../Datahub/processed_dir\n",
      "saving data ../Datahub/processed_dir\n",
      "saving data ../Datahub/processed_dir\n",
      "saving data ../Datahub/processed_dir\n",
      "saving data ../Datahub/processed_dir\n",
      "saving data ../Datahub/processed_dir\n",
      "saving data ../Datahub/processed_dir\n",
      "saving data ../Datahub/processed_dir\n",
      "saving data ../Datahub/processed_dir\n",
      "saving data ../Datahub/processed_dir\n",
      "saving data ../Datahub/processed_dir\n",
      "saving data ../Datahub/processed_dir\n",
      "saving data ../Datahub/processed_dir\n",
      "saving data ../Datahub/processed_dir\n",
      "saving data ../Datahub/processed_dir\n",
      "saving data ../Datahub/processed_dir\n",
      "saving data ../Datahub/processed_dir\n",
      "saving data ../Datahub/processed_dir\n",
      "saving data ../Datahub/processed_dir\n",
      "saving data ../Datahub/processed_dir\n",
      "saving data ../Datahub/processed_dir\n",
      "saving data ../Datahub/processed_dir\n",
      "saving data ../Datahub/processed_dir\n",
      "saving data ../Datahub/processed_dir\n",
      "saving data ../Datahub/processed_dir\n",
      "saving data ../Datahub/processed_dir\n",
      "saving data ../Datahub/processed_dir\n",
      "saving data ../Datahub/processed_dir\n",
      "saving data ../Datahub/processed_dir\n",
      "saving data ../Datahub/processed_dir\n",
      "saving data ../Datahub/processed_dir\n",
      "saving data ../Datahub/processed_dir\n",
      "saving data ../Datahub/processed_dir\n",
      "saving data ../Datahub/processed_dir\n",
      "saving data ../Datahub/processed_dir\n",
      "saving data ../Datahub/processed_dir\n",
      "saving data ../Datahub/processed_dir\n",
      "saving data ../Datahub/processed_dir\n",
      "saving data ../Datahub/processed_dir\n",
      "saving data ../Datahub/processed_dir\n",
      "saving data ../Datahub/processed_dir\n",
      "saving data ../Datahub/processed_dir\n",
      "saving data ../Datahub/processed_dir\n",
      "saving data ../Datahub/processed_dir\n",
      "saving data ../Datahub/processed_dir\n",
      "saving data ../Datahub/processed_dir\n",
      "saving data ../Datahub/processed_dir\n",
      "saving data ../Datahub/processed_dir\n",
      "saving data ../Datahub/processed_dir\n",
      "saving data ../Datahub/processed_dir\n",
      "saving data ../Datahub/processed_dir\n",
      "saving data ../Datahub/processed_dir\n",
      "saving data ../Datahub/processed_dir\n",
      "saving data ../Datahub/processed_dir\n",
      "saving data ../Datahub/processed_dir\n",
      "saving data ../Datahub/processed_dir\n",
      "saving data ../Datahub/processed_dir\n",
      "saving data ../Datahub/processed_dir\n",
      "saving data ../Datahub/processed_dir\n",
      "saving data ../Datahub/processed_dir\n",
      "saving data ../Datahub/processed_dir\n",
      "saving data ../Datahub/processed_dir\n",
      "saving data ../Datahub/processed_dir\n",
      "saving data ../Datahub/processed_dir\n",
      "saving data ../Datahub/processed_dir\n",
      "saving data ../Datahub/processed_dir\n",
      "saving data ../Datahub/processed_dir\n",
      "saving data ../Datahub/processed_dir\n",
      "saving data ../Datahub/processed_dir\n",
      "saving data ../Datahub/processed_dir\n",
      "saving data ../Datahub/processed_dir\n",
      "saving data ../Datahub/processed_dir\n",
      "saving data ../Datahub/processed_dir\n",
      "saving data ../Datahub/processed_dir\n",
      "saving data ../Datahub/processed_dir\n",
      "saving data ../Datahub/processed_dir\n",
      "saving data ../Datahub/processed_dir\n",
      "saving data ../Datahub/processed_dir\n",
      "saving data ../Datahub/processed_dir\n",
      "saving data ../Datahub/processed_dir\n",
      "saving data ../Datahub/processed_dir\n",
      "saving data ../Datahub/processed_dir\n",
      "saving data ../Datahub/processed_dir\n",
      "saving data ../Datahub/processed_dir\n",
      "saving data ../Datahub/processed_dir\n",
      "saving data ../Datahub/processed_dir\n",
      "saving data ../Datahub/processed_dir\n",
      "saving data ../Datahub/processed_dir\n",
      "saving data ../Datahub/processed_dir\n",
      "saving data ../Datahub/processed_dir\n",
      "saving data ../Datahub/processed_dir\n",
      "saving data ../Datahub/processed_dir\n",
      "saving data ../Datahub/processed_dir\n",
      "saving data ../Datahub/processed_dir\n",
      "saving data ../Datahub/processed_dir\n",
      "saving data ../Datahub/processed_dir\n",
      "saving data ../Datahub/processed_dir\n",
      "saving data ../Datahub/processed_dir\n",
      "saving data ../Datahub/processed_dir\n",
      "saving data ../Datahub/processed_dir\n",
      "saving data ../Datahub/processed_dir\n",
      "saving data ../Datahub/processed_dir\n",
      "saving data ../Datahub/processed_dir\n",
      "saving data ../Datahub/processed_dir\n",
      "saving data ../Datahub/processed_dir\n",
      "saving data ../Datahub/processed_dir\n",
      "saving data ../Datahub/processed_dir\n",
      "saving data ../Datahub/processed_dir\n",
      "saving data ../Datahub/processed_dir\n",
      "saving data ../Datahub/processed_dir\n",
      "saving data ../Datahub/processed_dir\n",
      "saving data ../Datahub/processed_dir\n",
      "saving data ../Datahub/processed_dir\n",
      "saving data ../Datahub/processed_dir\n",
      "saving data ../Datahub/processed_dir\n",
      "saving data ../Datahub/processed_dir\n",
      "saving data ../Datahub/processed_dir\n",
      "saving data ../Datahub/processed_dir\n",
      "saving data ../Datahub/processed_dir\n",
      "saving data ../Datahub/processed_dir\n",
      "saving data ../Datahub/processed_dir\n",
      "saving data ../Datahub/processed_dir\n",
      "saving data ../Datahub/processed_dir\n",
      "saving data ../Datahub/processed_dir\n",
      "saving data ../Datahub/processed_dir\n",
      "saving data ../Datahub/processed_dir\n",
      "saving data ../Datahub/processed_dir\n",
      "saving data ../Datahub/processed_dir\n",
      "saving data ../Datahub/processed_dir\n",
      "saving data ../Datahub/processed_dir\n",
      "saving data ../Datahub/processed_dir\n",
      "saving data ../Datahub/processed_dir\n",
      "saving data ../Datahub/processed_dir\n",
      "saving data ../Datahub/processed_dir\n",
      "saving data ../Datahub/processed_dir\n",
      "saving data ../Datahub/processed_dir\n",
      "saving data ../Datahub/processed_dir\n",
      "saving data ../Datahub/processed_dir\n",
      "saving data ../Datahub/processed_dir\n",
      "saving data ../Datahub/processed_dir\n",
      "saving data ../Datahub/processed_dir\n",
      "saving data ../Datahub/processed_dir\n",
      "saving data ../Datahub/processed_dir\n",
      "saving data ../Datahub/processed_dir\n",
      "saving data ../Datahub/processed_dir\n",
      "saving data ../Datahub/processed_dir\n",
      "saving data ../Datahub/processed_dir\n",
      "saving data ../Datahub/processed_dir\n",
      "saving data ../Datahub/processed_dir\n",
      "saving data ../Datahub/processed_dir\n",
      "saving data ../Datahub/processed_dir\n",
      "saving data ../Datahub/processed_dir\n",
      "saving data ../Datahub/processed_dir\n",
      "saving data ../Datahub/processed_dir\n",
      "saving data ../Datahub/processed_dir\n",
      "saving data ../Datahub/processed_dir\n",
      "saving data ../Datahub/processed_dir\n",
      "saving data ../Datahub/processed_dir\n",
      "saving data ../Datahub/processed_dir\n",
      "saving data ../Datahub/processed_dir\n",
      "saving data ../Datahub/processed_dir\n",
      "saving data ../Datahub/processed_dir\n",
      "saving data ../Datahub/processed_dir\n",
      "saving data ../Datahub/processed_dir\n",
      "saving data ../Datahub/processed_dir\n",
      "saving data ../Datahub/processed_dir\n",
      "saving data ../Datahub/processed_dir\n",
      "saving data ../Datahub/processed_dir\n",
      "saving data ../Datahub/processed_dir\n",
      "saving data ../Datahub/processed_dir\n",
      "saving data ../Datahub/processed_dir\n",
      "saving data ../Datahub/processed_dir\n",
      "saving data ../Datahub/processed_dir\n",
      "saving data ../Datahub/processed_dir\n",
      "saving data ../Datahub/processed_dir\n",
      "saving data ../Datahub/processed_dir\n",
      "saving data ../Datahub/processed_dir\n",
      "saving data ../Datahub/processed_dir\n",
      "saving data ../Datahub/processed_dir\n",
      "saving data ../Datahub/processed_dir\n",
      "saving data ../Datahub/processed_dir\n",
      "saving data ../Datahub/processed_dir\n",
      "saving data ../Datahub/processed_dir\n",
      "saving data ../Datahub/processed_dir\n",
      "saving data ../Datahub/processed_dir\n",
      "saving data ../Datahub/processed_dir\n",
      "saving data ../Datahub/processed_dir\n",
      "saving data ../Datahub/processed_dir\n",
      "saving data ../Datahub/processed_dir\n",
      "saving data ../Datahub/processed_dir\n",
      "saving data ../Datahub/processed_dir\n",
      "saving data ../Datahub/processed_dir\n",
      "saving data ../Datahub/processed_dir\n",
      "saving data ../Datahub/processed_dir\n",
      "saving data ../Datahub/processed_dir\n",
      "saving data ../Datahub/processed_dir\n",
      "saving data ../Datahub/processed_dir\n",
      "saving data ../Datahub/processed_dir\n",
      "saving data ../Datahub/processed_dir\n",
      "saving data ../Datahub/processed_dir\n",
      "saving data ../Datahub/processed_dir\n",
      "saving data ../Datahub/processed_dir\n",
      "saving data ../Datahub/processed_dir\n",
      "saving data ../Datahub/processed_dir\n",
      "saving data ../Datahub/processed_dir\n",
      "saving data ../Datahub/processed_dir\n",
      "saving data ../Datahub/processed_dir\n",
      "saving data ../Datahub/processed_dir\n",
      "saving data ../Datahub/processed_dir\n",
      "saving data ../Datahub/processed_dir\n",
      "saving data ../Datahub/processed_dir\n",
      "saving data ../Datahub/processed_dir\n",
      "saving data ../Datahub/processed_dir\n",
      "saving data ../Datahub/processed_dir\n",
      "saving data ../Datahub/processed_dir\n",
      "saving data ../Datahub/processed_dir\n",
      "saving data ../Datahub/processed_dir\n",
      "saving data ../Datahub/processed_dir\n",
      "saving data ../Datahub/processed_dir\n",
      "saving data ../Datahub/processed_dir\n",
      "saving data ../Datahub/processed_dir\n",
      "saving data ../Datahub/processed_dir\n",
      "saving data ../Datahub/processed_dir\n",
      "saving data ../Datahub/processed_dir\n",
      "saving data ../Datahub/processed_dir\n",
      "saving data ../Datahub/processed_dir\n",
      "saving data ../Datahub/processed_dir\n",
      "saving data ../Datahub/processed_dir\n",
      "saving data ../Datahub/processed_dir\n",
      "saving data ../Datahub/processed_dir\n",
      "saving data ../Datahub/processed_dir\n",
      "saving data ../Datahub/processed_dir\n",
      "saving data ../Datahub/processed_dir\n",
      "saving data ../Datahub/processed_dir\n",
      "saving data ../Datahub/processed_dir\n",
      "saving data ../Datahub/processed_dir\n",
      "saving data ../Datahub/processed_dir\n",
      "saving data ../Datahub/processed_dir\n",
      "saving data ../Datahub/processed_dir\n",
      "saving data ../Datahub/processed_dir\n",
      "saving data ../Datahub/processed_dir\n",
      "saving data ../Datahub/processed_dir\n",
      "saving data ../Datahub/processed_dir\n",
      "saving data ../Datahub/processed_dir\n",
      "saving data ../Datahub/processed_dir\n",
      "saving data ../Datahub/processed_dir\n",
      "saving data ../Datahub/processed_dir\n",
      "saving data ../Datahub/processed_dir\n",
      "saving data ../Datahub/processed_dir\n",
      "saving data ../Datahub/processed_dir\n",
      "saving data ../Datahub/processed_dir\n",
      "saving data ../Datahub/processed_dir\n",
      "saving data ../Datahub/processed_dir\n",
      "saving data ../Datahub/processed_dir\n",
      "saving data ../Datahub/processed_dir\n",
      "saving data ../Datahub/processed_dir\n",
      "saving data ../Datahub/processed_dir\n",
      "saving data ../Datahub/processed_dir\n",
      "saving data ../Datahub/processed_dir\n",
      "saving data ../Datahub/processed_dir\n",
      "saving data ../Datahub/processed_dir\n",
      "saving data ../Datahub/processed_dir\n",
      "saving data ../Datahub/processed_dir\n",
      "saving data ../Datahub/processed_dir\n",
      "saving data ../Datahub/processed_dir\n",
      "saving data ../Datahub/processed_dir\n",
      "saving data ../Datahub/processed_dir\n",
      "saving data ../Datahub/processed_dir\n",
      "saving data ../Datahub/processed_dir\n",
      "saving data ../Datahub/processed_dir\n",
      "saving data ../Datahub/processed_dir\n",
      "saving data ../Datahub/processed_dir\n",
      "saving data ../Datahub/processed_dir\n",
      "saving data ../Datahub/processed_dir\n",
      "saving data ../Datahub/processed_dir\n",
      "saving data ../Datahub/processed_dir\n",
      "saving data ../Datahub/processed_dir\n",
      "saving data ../Datahub/processed_dir\n",
      "saving data ../Datahub/processed_dir\n",
      "saving data ../Datahub/processed_dir\n",
      "saving data ../Datahub/processed_dir\n",
      "saving data ../Datahub/processed_dir\n",
      "saving data ../Datahub/processed_dir\n",
      "saving data ../Datahub/processed_dir\n",
      "saving data ../Datahub/processed_dir\n",
      "saving data ../Datahub/processed_dir\n",
      "saving data ../Datahub/processed_dir\n",
      "saving data ../Datahub/processed_dir\n",
      "saving data ../Datahub/processed_dir\n",
      "saving data ../Datahub/processed_dir\n",
      "saving data ../Datahub/processed_dir\n",
      "saving data ../Datahub/processed_dir\n",
      "saving data ../Datahub/processed_dir\n",
      "saving data ../Datahub/processed_dir\n",
      "saving data ../Datahub/processed_dir\n",
      "saving data ../Datahub/processed_dir\n",
      "saving data ../Datahub/processed_dir\n",
      "saving data ../Datahub/processed_dir\n",
      "saving data ../Datahub/processed_dir\n",
      "saving data ../Datahub/processed_dir\n",
      "saving data ../Datahub/processed_dir\n",
      "saving data ../Datahub/processed_dir\n",
      "saving data ../Datahub/processed_dir\n",
      "saving data ../Datahub/processed_dir\n",
      "saving data ../Datahub/processed_dir\n",
      "saving data ../Datahub/processed_dir\n",
      "saving data ../Datahub/processed_dir\n",
      "saving data ../Datahub/processed_dir\n",
      "saving data ../Datahub/processed_dir\n",
      "saving data ../Datahub/processed_dir\n",
      "saving data ../Datahub/processed_dir\n",
      "saving data ../Datahub/processed_dir\n",
      "saving data ../Datahub/processed_dir\n",
      "saving data ../Datahub/processed_dir\n",
      "saving data ../Datahub/processed_dir\n",
      "saving data ../Datahub/processed_dir\n",
      "saving data ../Datahub/processed_dir\n",
      "saving data ../Datahub/processed_dir\n",
      "saving data ../Datahub/processed_dir\n",
      "saving data ../Datahub/processed_dir\n",
      "saving data ../Datahub/processed_dir\n",
      "saving data ../Datahub/processed_dir\n",
      "saving data ../Datahub/processed_dir\n",
      "saving data ../Datahub/processed_dir\n",
      "saving data ../Datahub/processed_dir\n",
      "saving data ../Datahub/processed_dir\n",
      "saving data ../Datahub/processed_dir\n",
      "saving data ../Datahub/processed_dir\n",
      "saving data ../Datahub/processed_dir\n",
      "saving data ../Datahub/processed_dir\n",
      "saving data ../Datahub/processed_dir\n",
      "saving data ../Datahub/processed_dir\n",
      "saving data ../Datahub/processed_dir\n",
      "saving data ../Datahub/processed_dir\n",
      "saving data ../Datahub/processed_dir\n",
      "saving data ../Datahub/processed_dir\n",
      "saving data ../Datahub/processed_dir\n",
      "saving data ../Datahub/processed_dir\n",
      "saving data ../Datahub/processed_dir\n",
      "saving data ../Datahub/processed_dir\n",
      "saving data ../Datahub/processed_dir\n",
      "saving data ../Datahub/processed_dir\n",
      "saving data ../Datahub/processed_dir\n",
      "saving data ../Datahub/processed_dir\n",
      "saving data ../Datahub/processed_dir\n",
      "saving data ../Datahub/processed_dir\n",
      "saving data ../Datahub/processed_dir\n",
      "saving data ../Datahub/processed_dir\n",
      "saving data ../Datahub/processed_dir\n",
      "saving data ../Datahub/processed_dir\n",
      "saving data ../Datahub/processed_dir\n",
      "saving data ../Datahub/processed_dir\n",
      "saving data ../Datahub/processed_dir\n",
      "saving data ../Datahub/processed_dir\n",
      "saving data ../Datahub/processed_dir\n",
      "saving data ../Datahub/processed_dir\n",
      "saving data ../Datahub/processed_dir\n",
      "saving data ../Datahub/processed_dir\n",
      "saving data ../Datahub/processed_dir\n",
      "saving data ../Datahub/processed_dir\n",
      "saving data ../Datahub/processed_dir\n",
      "saving data ../Datahub/processed_dir\n",
      "saving data ../Datahub/processed_dir\n",
      "saving data ../Datahub/processed_dir\n",
      "saving data ../Datahub/processed_dir\n",
      "saving data ../Datahub/processed_dir\n",
      "saving data ../Datahub/processed_dir\n",
      "saving data ../Datahub/processed_dir\n",
      "saving data ../Datahub/processed_dir\n",
      "saving data ../Datahub/processed_dir\n",
      "saving data ../Datahub/processed_dir\n",
      "saving data ../Datahub/processed_dir\n",
      "saving data ../Datahub/processed_dir\n",
      "saving data ../Datahub/processed_dir\n",
      "saving data ../Datahub/processed_dir\n",
      "saving data ../Datahub/processed_dir\n",
      "saving data ../Datahub/processed_dir\n",
      "saving data ../Datahub/processed_dir\n",
      "saving data ../Datahub/processed_dir\n",
      "saving data ../Datahub/processed_dir\n",
      "saving data ../Datahub/processed_dir\n",
      "saving data ../Datahub/processed_dir\n",
      "saving data ../Datahub/processed_dir\n",
      "saving data ../Datahub/processed_dir\n",
      "saving data ../Datahub/processed_dir\n",
      "saving data ../Datahub/processed_dir\n",
      "saving data ../Datahub/processed_dir\n",
      "saving data ../Datahub/processed_dir\n",
      "saving data ../Datahub/processed_dir\n",
      "saving data ../Datahub/processed_dir\n",
      "saving data ../Datahub/processed_dir\n",
      "saving data ../Datahub/processed_dir\n",
      "saving data ../Datahub/processed_dir\n",
      "saving data ../Datahub/processed_dir\n",
      "saving data ../Datahub/processed_dir\n",
      "saving data ../Datahub/processed_dir\n",
      "saving data ../Datahub/processed_dir\n",
      "saving data ../Datahub/processed_dir\n",
      "saving data ../Datahub/processed_dir\n",
      "saving data ../Datahub/processed_dir\n",
      "saving data ../Datahub/processed_dir\n",
      "saving data ../Datahub/processed_dir\n",
      "saving data ../Datahub/processed_dir\n",
      "saving data ../Datahub/processed_dir\n",
      "saving data ../Datahub/processed_dir\n",
      "saving data ../Datahub/processed_dir\n",
      "saving data ../Datahub/processed_dir\n",
      "saving data ../Datahub/processed_dir\n",
      "saving data ../Datahub/processed_dir\n",
      "saving data ../Datahub/processed_dir\n",
      "saving data ../Datahub/processed_dir\n",
      "saving data ../Datahub/processed_dir\n",
      "saving data ../Datahub/processed_dir\n",
      "saving data ../Datahub/processed_dir\n",
      "saving data ../Datahub/processed_dir\n",
      "saving data ../Datahub/processed_dir\n",
      "saving data ../Datahub/processed_dir\n",
      "saving data ../Datahub/processed_dir\n",
      "saving data ../Datahub/processed_dir\n",
      "saving data ../Datahub/processed_dir\n",
      "saving data ../Datahub/processed_dir\n",
      "saving data ../Datahub/processed_dir\n",
      "saving data ../Datahub/processed_dir\n",
      "saving data ../Datahub/processed_dir\n",
      "saving data ../Datahub/processed_dir\n",
      "saving data ../Datahub/processed_dir\n",
      "saving data ../Datahub/processed_dir\n",
      "saving data ../Datahub/processed_dir\n",
      "saving data ../Datahub/processed_dir\n",
      "saving data ../Datahub/processed_dir\n",
      "saving data ../Datahub/processed_dir\n",
      "saving data ../Datahub/processed_dir\n",
      "saving data ../Datahub/processed_dir\n",
      "saving data ../Datahub/processed_dir\n",
      "saving data ../Datahub/processed_dir\n",
      "saving data ../Datahub/processed_dir\n",
      "saving data ../Datahub/processed_dir\n",
      "saving data ../Datahub/processed_dir\n",
      "saving data ../Datahub/processed_dir\n",
      "saving data ../Datahub/processed_dir\n",
      "saving data ../Datahub/processed_dir\n",
      "saving data ../Datahub/processed_dir\n",
      "saving data ../Datahub/processed_dir\n",
      "saving data ../Datahub/processed_dir\n",
      "saving data ../Datahub/processed_dir\n",
      "saving data ../Datahub/processed_dir\n",
      "saving data ../Datahub/processed_dir\n",
      "saving data ../Datahub/processed_dir\n",
      "saving data ../Datahub/processed_dir\n",
      "saving data ../Datahub/processed_dir\n",
      "saving data ../Datahub/processed_dir\n",
      "saving data ../Datahub/processed_dir\n",
      "saving data ../Datahub/processed_dir\n",
      "saving data ../Datahub/processed_dir\n",
      "saving data ../Datahub/processed_dir\n",
      "saving data ../Datahub/processed_dir\n",
      "saving data ../Datahub/processed_dir\n",
      "saving data ../Datahub/processed_dir\n",
      "saving data ../Datahub/processed_dir\n",
      "saving data ../Datahub/processed_dir\n",
      "saving data ../Datahub/processed_dir\n",
      "saving data ../Datahub/processed_dir\n",
      "saving data ../Datahub/processed_dir\n",
      "saving data ../Datahub/processed_dir\n",
      "saving data ../Datahub/processed_dir\n",
      "saving data ../Datahub/processed_dir\n",
      "saving data ../Datahub/processed_dir\n",
      "saving data ../Datahub/processed_dir\n",
      "saving data ../Datahub/processed_dir\n",
      "saving data ../Datahub/processed_dir\n",
      "saving data ../Datahub/processed_dir\n",
      "saving data ../Datahub/processed_dir\n",
      "saving data ../Datahub/processed_dir\n",
      "saving data ../Datahub/processed_dir\n",
      "saving data ../Datahub/processed_dir\n",
      "saving data ../Datahub/processed_dir\n",
      "saving data ../Datahub/processed_dir\n",
      "saving data ../Datahub/processed_dir\n",
      "saving data ../Datahub/processed_dir\n",
      "saving data ../Datahub/processed_dir\n",
      "saving data ../Datahub/processed_dir\n",
      "saving data ../Datahub/processed_dir\n",
      "saving data ../Datahub/processed_dir\n",
      "saving data ../Datahub/processed_dir\n",
      "saving data ../Datahub/processed_dir\n",
      "saving data ../Datahub/processed_dir\n",
      "saving data ../Datahub/processed_dir\n",
      "saving data ../Datahub/processed_dir\n",
      "saving data ../Datahub/processed_dir\n",
      "saving data ../Datahub/processed_dir\n",
      "saving data ../Datahub/processed_dir\n",
      "saving data ../Datahub/processed_dir\n",
      "saving data ../Datahub/processed_dir\n",
      "saving data ../Datahub/processed_dir\n",
      "saving data ../Datahub/processed_dir\n",
      "saving data ../Datahub/processed_dir\n",
      "saving data ../Datahub/processed_dir\n",
      "saving data ../Datahub/processed_dir\n",
      "saving data ../Datahub/processed_dir\n",
      "saving data ../Datahub/processed_dir\n",
      "saving data ../Datahub/processed_dir\n",
      "saving data ../Datahub/processed_dir\n",
      "saving data ../Datahub/processed_dir\n",
      "saving data ../Datahub/processed_dir\n",
      "saving data ../Datahub/processed_dir\n",
      "saving data ../Datahub/processed_dir\n",
      "saving data ../Datahub/processed_dir\n",
      "saving data ../Datahub/processed_dir\n",
      "saving data ../Datahub/processed_dir\n",
      "saving data ../Datahub/processed_dir\n",
      "saving data ../Datahub/processed_dir\n",
      "saving data ../Datahub/processed_dir\n",
      "saving data ../Datahub/processed_dir\n",
      "saving data ../Datahub/processed_dir\n",
      "saving data ../Datahub/processed_dir\n",
      "saving data ../Datahub/processed_dir\n",
      "saving data ../Datahub/processed_dir\n",
      "saving data ../Datahub/processed_dir\n",
      "saving data ../Datahub/processed_dir\n",
      "saving data ../Datahub/processed_dir\n",
      "saving data ../Datahub/processed_dir\n",
      "saving data ../Datahub/processed_dir\n",
      "saving data ../Datahub/processed_dir\n",
      "saving data ../Datahub/processed_dir\n",
      "saving data ../Datahub/processed_dir\n",
      "saving data ../Datahub/processed_dir\n",
      "saving data ../Datahub/processed_dir\n",
      "saving data ../Datahub/processed_dir\n",
      "saving data ../Datahub/processed_dir\n",
      "saving data ../Datahub/processed_dir\n",
      "saving data ../Datahub/processed_dir\n",
      "saving data ../Datahub/processed_dir\n",
      "saving data ../Datahub/processed_dir\n",
      "saving data ../Datahub/processed_dir\n",
      "saving data ../Datahub/processed_dir\n",
      "saving data ../Datahub/processed_dir\n",
      "saving data ../Datahub/processed_dir\n",
      "saving data ../Datahub/processed_dir\n",
      "saving data ../Datahub/processed_dir\n",
      "saving data ../Datahub/processed_dir\n",
      "saving data ../Datahub/processed_dir\n",
      "saving data ../Datahub/processed_dir\n",
      "saving data ../Datahub/processed_dir\n",
      "saving data ../Datahub/processed_dir\n",
      "saving data ../Datahub/processed_dir\n",
      "saving data ../Datahub/processed_dir\n",
      "saving data ../Datahub/processed_dir\n",
      "saving data ../Datahub/processed_dir\n",
      "saving data ../Datahub/processed_dir\n",
      "saving data ../Datahub/processed_dir\n",
      "saving data ../Datahub/processed_dir\n",
      "saving data ../Datahub/processed_dir\n",
      "saving data ../Datahub/processed_dir\n",
      "saving data ../Datahub/processed_dir\n",
      "saving data ../Datahub/processed_dir\n",
      "saving data ../Datahub/processed_dir\n",
      "saving data ../Datahub/processed_dir\n",
      "saving data ../Datahub/processed_dir\n",
      "saving data ../Datahub/processed_dir\n",
      "saving data ../Datahub/processed_dir\n",
      "saving data ../Datahub/processed_dir\n",
      "saving data ../Datahub/processed_dir\n",
      "saving data ../Datahub/processed_dir\n",
      "saving data ../Datahub/processed_dir\n",
      "saving data ../Datahub/processed_dir\n",
      "saving data ../Datahub/processed_dir\n",
      "saving data ../Datahub/processed_dir\n",
      "saving data ../Datahub/processed_dir\n",
      "saving data ../Datahub/processed_dir\n",
      "saving data ../Datahub/processed_dir\n",
      "saving data ../Datahub/processed_dir\n",
      "saving data ../Datahub/processed_dir\n",
      "saving data ../Datahub/processed_dir\n",
      "saving data ../Datahub/processed_dir\n",
      "saving data ../Datahub/processed_dir\n",
      "saving data ../Datahub/processed_dir\n",
      "saving data ../Datahub/processed_dir\n",
      "saving data ../Datahub/processed_dir\n",
      "saving data ../Datahub/processed_dir\n",
      "saving data ../Datahub/processed_dir\n",
      "saving data ../Datahub/processed_dir\n",
      "saving data ../Datahub/processed_dir\n",
      "saving data ../Datahub/processed_dir\n",
      "saving data ../Datahub/processed_dir\n",
      "saving data ../Datahub/processed_dir\n",
      "saving data ../Datahub/processed_dir\n",
      "saving data ../Datahub/processed_dir\n",
      "saving data ../Datahub/processed_dir\n",
      "saving data ../Datahub/processed_dir\n",
      "saving data ../Datahub/processed_dir\n",
      "saving data ../Datahub/processed_dir\n",
      "saving data ../Datahub/processed_dir\n",
      "saving data ../Datahub/processed_dir\n",
      "saving data ../Datahub/processed_dir\n",
      "saving data ../Datahub/processed_dir\n",
      "saving data ../Datahub/processed_dir\n",
      "saving data ../Datahub/processed_dir\n",
      "saving data ../Datahub/processed_dir\n",
      "saving data ../Datahub/processed_dir\n",
      "saving data ../Datahub/processed_dir\n",
      "saving data ../Datahub/processed_dir\n",
      "saving data ../Datahub/processed_dir\n",
      "saving data ../Datahub/processed_dir\n",
      "saving data ../Datahub/processed_dir\n",
      "saving data ../Datahub/processed_dir\n",
      "saving data ../Datahub/processed_dir\n",
      "saving data ../Datahub/processed_dir\n",
      "saving data ../Datahub/processed_dir\n",
      "saving data ../Datahub/processed_dir\n",
      "saving data ../Datahub/processed_dir\n",
      "saving data ../Datahub/processed_dir\n",
      "saving data ../Datahub/processed_dir\n",
      "saving data ../Datahub/processed_dir\n",
      "saving data ../Datahub/processed_dir\n",
      "saving data ../Datahub/processed_dir\n",
      "saving data ../Datahub/processed_dir\n",
      "saving data ../Datahub/processed_dir\n",
      "saving data ../Datahub/processed_dir\n",
      "saving data ../Datahub/processed_dir\n",
      "saving data ../Datahub/processed_dir\n",
      "saving data ../Datahub/processed_dir\n",
      "saving data ../Datahub/processed_dir\n",
      "saving data ../Datahub/processed_dir\n",
      "saving data ../Datahub/processed_dir\n",
      "saving data ../Datahub/processed_dir\n",
      "saving data ../Datahub/processed_dir\n",
      "saving data ../Datahub/processed_dir\n",
      "saving data ../Datahub/processed_dir\n",
      "saving data ../Datahub/processed_dir\n",
      "saving data ../Datahub/processed_dir\n",
      "saving data ../Datahub/processed_dir\n",
      "saving data ../Datahub/processed_dir\n",
      "saving data ../Datahub/processed_dir\n",
      "saving data ../Datahub/processed_dir\n",
      "saving data ../Datahub/processed_dir\n",
      "saving data ../Datahub/processed_dir\n",
      "saving data ../Datahub/processed_dir\n",
      "saving data ../Datahub/processed_dir\n",
      "saving data ../Datahub/processed_dir\n",
      "saving data ../Datahub/processed_dir\n",
      "saving data ../Datahub/processed_dir\n",
      "saving data ../Datahub/processed_dir\n",
      "saving data ../Datahub/processed_dir\n",
      "saving data ../Datahub/processed_dir\n",
      "saving data ../Datahub/processed_dir\n",
      "saving data ../Datahub/processed_dir\n",
      "saving data ../Datahub/processed_dir\n",
      "saving data ../Datahub/processed_dir\n",
      "saving data ../Datahub/processed_dir\n",
      "saving data ../Datahub/processed_dir\n",
      "saving data ../Datahub/processed_dir\n",
      "saving data ../Datahub/processed_dir\n",
      "saving data ../Datahub/processed_dir\n",
      "saving data ../Datahub/processed_dir\n",
      "saving data ../Datahub/processed_dir\n",
      "saving data ../Datahub/processed_dir\n",
      "saving data ../Datahub/processed_dir\n",
      "saving data ../Datahub/processed_dir\n",
      "saving data ../Datahub/processed_dir\n",
      "saving data ../Datahub/processed_dir\n",
      "saving data ../Datahub/processed_dir\n",
      "saving data ../Datahub/processed_dir\n",
      "saving data ../Datahub/processed_dir\n",
      "saving data ../Datahub/processed_dir\n",
      "saving data ../Datahub/processed_dir\n",
      "saving data ../Datahub/processed_dir\n",
      "saving data ../Datahub/processed_dir\n",
      "saving data ../Datahub/processed_dir\n",
      "saving data ../Datahub/processed_dir\n",
      "saving data ../Datahub/processed_dir\n",
      "saving data ../Datahub/processed_dir\n",
      "saving data ../Datahub/processed_dir\n",
      "saving data ../Datahub/processed_dir\n",
      "saving data ../Datahub/processed_dir\n",
      "saving data ../Datahub/processed_dir\n",
      "saving data ../Datahub/processed_dir\n",
      "saving data ../Datahub/processed_dir\n",
      "saving data ../Datahub/processed_dir\n",
      "saving data ../Datahub/processed_dir\n",
      "saving data ../Datahub/processed_dir\n",
      "saving data ../Datahub/processed_dir\n",
      "saving data ../Datahub/processed_dir\n",
      "saving data ../Datahub/processed_dir\n",
      "saving data ../Datahub/processed_dir\n",
      "saving data ../Datahub/processed_dir\n",
      "saving data ../Datahub/processed_dir\n",
      "saving data ../Datahub/processed_dir\n",
      "saving data ../Datahub/processed_dir\n",
      "saving data ../Datahub/processed_dir\n",
      "saving data ../Datahub/processed_dir\n",
      "saving data ../Datahub/processed_dir\n",
      "saving data ../Datahub/processed_dir\n",
      "saving data ../Datahub/processed_dir\n",
      "saving data ../Datahub/processed_dir\n",
      "saving data ../Datahub/processed_dir\n",
      "saving data ../Datahub/processed_dir\n",
      "saving data ../Datahub/processed_dir\n",
      "saving data ../Datahub/processed_dir\n",
      "saving data ../Datahub/processed_dir\n",
      "saving data ../Datahub/processed_dir\n",
      "saving data ../Datahub/processed_dir\n",
      "saving data ../Datahub/processed_dir\n",
      "saving data ../Datahub/processed_dir\n",
      "saving data ../Datahub/processed_dir\n",
      "saving data ../Datahub/processed_dir\n",
      "saving data ../Datahub/processed_dir\n",
      "saving data ../Datahub/processed_dir\n",
      "saving data ../Datahub/processed_dir\n",
      "saving data ../Datahub/processed_dir\n",
      "saving data ../Datahub/processed_dir\n",
      "saving data ../Datahub/processed_dir\n",
      "saving data ../Datahub/processed_dir\n",
      "saving data ../Datahub/processed_dir\n",
      "saving data ../Datahub/processed_dir\n",
      "saving data ../Datahub/processed_dir\n",
      "saving data ../Datahub/processed_dir\n",
      "saving data ../Datahub/processed_dir\n",
      "saving data ../Datahub/processed_dir\n",
      "saving data ../Datahub/processed_dir\n",
      "saving data ../Datahub/processed_dir\n",
      "saving data ../Datahub/processed_dir\n",
      "saving data ../Datahub/processed_dir\n",
      "saving data ../Datahub/processed_dir\n",
      "saving data ../Datahub/processed_dir\n",
      "saving data ../Datahub/processed_dir\n",
      "saving data ../Datahub/processed_dir\n",
      "saving data ../Datahub/processed_dir\n",
      "saving data ../Datahub/processed_dir\n",
      "saving data ../Datahub/processed_dir\n",
      "saving data ../Datahub/processed_dir\n",
      "saving data ../Datahub/processed_dir\n",
      "saving data ../Datahub/processed_dir\n",
      "saving data ../Datahub/processed_dir\n",
      "saving data ../Datahub/processed_dir\n",
      "saving data ../Datahub/processed_dir\n",
      "saving data ../Datahub/processed_dir\n",
      "saving data ../Datahub/processed_dir\n",
      "saving data ../Datahub/processed_dir\n",
      "saving data ../Datahub/processed_dir\n",
      "saving data ../Datahub/processed_dir\n",
      "saving data ../Datahub/processed_dir\n",
      "saving data ../Datahub/processed_dir\n",
      "saving data ../Datahub/processed_dir\n",
      "saving data ../Datahub/processed_dir\n",
      "saving data ../Datahub/processed_dir\n",
      "saving data ../Datahub/processed_dir\n",
      "saving data ../Datahub/processed_dir\n",
      "saving data ../Datahub/processed_dir\n",
      "saving data ../Datahub/processed_dir\n",
      "saving data ../Datahub/processed_dir\n",
      "saving data ../Datahub/processed_dir\n",
      "saving data ../Datahub/processed_dir\n",
      "saving data ../Datahub/processed_dir\n",
      "saving data ../Datahub/processed_dir\n",
      "saving data ../Datahub/processed_dir\n",
      "saving data ../Datahub/processed_dir\n",
      "saving data ../Datahub/processed_dir\n",
      "saving data ../Datahub/processed_dir\n",
      "saving data ../Datahub/processed_dir\n",
      "saving data ../Datahub/processed_dir\n",
      "saving data ../Datahub/processed_dir\n",
      "saving data ../Datahub/processed_dir\n",
      "saving data ../Datahub/processed_dir\n",
      "saving data ../Datahub/processed_dir\n",
      "saving data ../Datahub/processed_dir\n",
      "saving data ../Datahub/processed_dir\n",
      "saving data ../Datahub/processed_dir\n",
      "saving data ../Datahub/processed_dir\n",
      "saving data ../Datahub/processed_dir\n",
      "saving data ../Datahub/processed_dir\n",
      "saving data ../Datahub/processed_dir\n",
      "saving data ../Datahub/processed_dir\n",
      "saving data ../Datahub/processed_dir\n",
      "saving data ../Datahub/processed_dir\n",
      "saving data ../Datahub/processed_dir\n",
      "saving data ../Datahub/processed_dir\n",
      "saving data ../Datahub/processed_dir\n",
      "saving data ../Datahub/processed_dir\n",
      "saving data ../Datahub/processed_dir\n",
      "saving data ../Datahub/processed_dir\n",
      "saving data ../Datahub/processed_dir\n",
      "saving data ../Datahub/processed_dir\n",
      "saving data ../Datahub/processed_dir\n",
      "saving data ../Datahub/processed_dir\n",
      "saving data ../Datahub/processed_dir\n",
      "saving data ../Datahub/processed_dir\n",
      "saving data ../Datahub/processed_dir\n",
      "saving data ../Datahub/processed_dir\n",
      "saving data ../Datahub/processed_dir\n",
      "saving data ../Datahub/processed_dir\n",
      "saving data ../Datahub/processed_dir\n",
      "saving data ../Datahub/processed_dir\n",
      "saving data ../Datahub/processed_dir\n",
      "saving data ../Datahub/processed_dir\n",
      "saving data ../Datahub/processed_dir\n",
      "saving data ../Datahub/processed_dir\n",
      "saving data ../Datahub/processed_dir\n",
      "saving data ../Datahub/processed_dir\n",
      "saving data ../Datahub/processed_dir\n",
      "saving data ../Datahub/processed_dir\n",
      "saving data ../Datahub/processed_dir\n",
      "saving data ../Datahub/processed_dir\n",
      "saving data ../Datahub/processed_dir\n",
      "saving data ../Datahub/processed_dir\n",
      "saving data ../Datahub/processed_dir\n",
      "saving data ../Datahub/processed_dir\n",
      "saving data ../Datahub/processed_dir\n",
      "saving data ../Datahub/processed_dir\n",
      "saving data ../Datahub/processed_dir\n",
      "saving data ../Datahub/processed_dir\n",
      "saving data ../Datahub/processed_dir\n",
      "saving data ../Datahub/processed_dir\n",
      "saving data ../Datahub/processed_dir\n",
      "saving data ../Datahub/processed_dir\n",
      "saving data ../Datahub/processed_dir\n",
      "saving data ../Datahub/processed_dir\n",
      "saving data ../Datahub/processed_dir\n",
      "saving data ../Datahub/processed_dir\n",
      "saving data ../Datahub/processed_dir\n",
      "saving data ../Datahub/processed_dir\n",
      "saving data ../Datahub/processed_dir\n",
      "saving data ../Datahub/processed_dir\n",
      "saving data ../Datahub/processed_dir\n",
      "saving data ../Datahub/processed_dir\n",
      "saving data ../Datahub/processed_dir\n",
      "saving data ../Datahub/processed_dir\n",
      "saving data ../Datahub/processed_dir\n",
      "saving data ../Datahub/processed_dir\n",
      "saving data ../Datahub/processed_dir\n",
      "saving data ../Datahub/processed_dir\n",
      "saving data ../Datahub/processed_dir\n",
      "saving data ../Datahub/processed_dir\n",
      "saving data ../Datahub/processed_dir\n",
      "saving data ../Datahub/processed_dir\n",
      "saving data ../Datahub/processed_dir\n",
      "saving data ../Datahub/processed_dir\n",
      "saving data ../Datahub/processed_dir\n",
      "saving data ../Datahub/processed_dir\n",
      "saving data ../Datahub/processed_dir\n",
      "saving data ../Datahub/processed_dir\n",
      "saving data ../Datahub/processed_dir\n",
      "saving data ../Datahub/processed_dir\n",
      "saving data ../Datahub/processed_dir\n",
      "saving data ../Datahub/processed_dir\n",
      "saving data ../Datahub/processed_dir\n",
      "saving data ../Datahub/processed_dir\n",
      "saving data ../Datahub/processed_dir\n",
      "saving data ../Datahub/processed_dir\n",
      "saving data ../Datahub/processed_dir\n",
      "saving data ../Datahub/processed_dir\n",
      "saving data ../Datahub/processed_dir\n",
      "saving data ../Datahub/processed_dir\n",
      "saving data ../Datahub/processed_dir\n",
      "saving data ../Datahub/processed_dir\n",
      "saving data ../Datahub/processed_dir\n",
      "saving data ../Datahub/processed_dir\n",
      "saving data ../Datahub/processed_dir\n",
      "saving data ../Datahub/processed_dir\n",
      "saving data ../Datahub/processed_dir\n",
      "saving data ../Datahub/processed_dir\n",
      "saving data ../Datahub/processed_dir\n",
      "saving data ../Datahub/processed_dir\n",
      "saving data ../Datahub/processed_dir\n",
      "saving data ../Datahub/processed_dir\n",
      "saving data ../Datahub/processed_dir\n",
      "saving data ../Datahub/processed_dir\n",
      "saving data ../Datahub/processed_dir\n",
      "saving data ../Datahub/processed_dir\n",
      "saving data ../Datahub/processed_dir\n",
      "saving data ../Datahub/processed_dir\n",
      "saving data ../Datahub/processed_dir\n",
      "saving data ../Datahub/processed_dir\n",
      "saving data ../Datahub/processed_dir\n",
      "saving data ../Datahub/processed_dir\n",
      "saving data ../Datahub/processed_dir\n",
      "saving data ../Datahub/processed_dir\n",
      "saving data ../Datahub/processed_dir\n",
      "saving data ../Datahub/processed_dir\n",
      "saving data ../Datahub/processed_dir\n",
      "saving data ../Datahub/processed_dir\n",
      "saving data ../Datahub/processed_dir\n",
      "saving data ../Datahub/processed_dir\n",
      "saving data ../Datahub/processed_dir\n",
      "saving data ../Datahub/processed_dir\n",
      "saving data ../Datahub/processed_dir\n",
      "saving data ../Datahub/processed_dir\n",
      "saving data ../Datahub/processed_dir\n",
      "saving data ../Datahub/processed_dir\n",
      "saving data ../Datahub/processed_dir\n",
      "saving data ../Datahub/processed_dir\n",
      "saving data ../Datahub/processed_dir\n",
      "saving data ../Datahub/processed_dir\n",
      "saving data ../Datahub/processed_dir\n",
      "saving data ../Datahub/processed_dir\n",
      "saving data ../Datahub/processed_dir\n",
      "saving data ../Datahub/processed_dir\n",
      "saving data ../Datahub/processed_dir\n",
      "saving data ../Datahub/processed_dir\n",
      "saving data ../Datahub/processed_dir\n",
      "saving data ../Datahub/processed_dir\n",
      "saving data ../Datahub/processed_dir\n",
      "saving data ../Datahub/processed_dir\n",
      "saving data ../Datahub/processed_dir\n",
      "saving data ../Datahub/processed_dir\n",
      "saving data ../Datahub/processed_dir\n",
      "saving data ../Datahub/processed_dir\n",
      "saving data ../Datahub/processed_dir\n",
      "saving data ../Datahub/processed_dir\n",
      "saving data ../Datahub/processed_dir\n",
      "saving data ../Datahub/processed_dir\n",
      "saving data ../Datahub/processed_dir\n",
      "saving data ../Datahub/processed_dir\n",
      "saving data ../Datahub/processed_dir\n",
      "saving data ../Datahub/processed_dir\n",
      "saving data ../Datahub/processed_dir\n",
      "saving data ../Datahub/processed_dir\n",
      "saving data ../Datahub/processed_dir\n",
      "saving data ../Datahub/processed_dir\n",
      "saving data ../Datahub/processed_dir\n",
      "saving data ../Datahub/processed_dir\n",
      "saving data ../Datahub/processed_dir\n",
      "saving data ../Datahub/processed_dir\n",
      "saving data ../Datahub/processed_dir\n",
      "saving data ../Datahub/processed_dir\n",
      "saving data ../Datahub/processed_dir\n",
      "saving data ../Datahub/processed_dir\n",
      "saving data ../Datahub/processed_dir\n",
      "saving data ../Datahub/processed_dir\n",
      "saving data ../Datahub/processed_dir\n",
      "saving data ../Datahub/processed_dir\n",
      "saving data ../Datahub/processed_dir\n",
      "saving data ../Datahub/processed_dir\n",
      "saving data ../Datahub/processed_dir\n",
      "saving data ../Datahub/processed_dir\n",
      "saving data ../Datahub/processed_dir\n",
      "saving data ../Datahub/processed_dir\n",
      "saving data ../Datahub/processed_dir\n",
      "saving data ../Datahub/processed_dir\n",
      "saving data ../Datahub/processed_dir\n",
      "saving data ../Datahub/processed_dir\n",
      "saving data ../Datahub/processed_dir\n",
      "saving data ../Datahub/processed_dir\n",
      "saving data ../Datahub/processed_dir\n",
      "saving data ../Datahub/processed_dir\n",
      "saving data ../Datahub/processed_dir\n",
      "saving data ../Datahub/processed_dir\n",
      "saving data ../Datahub/processed_dir\n",
      "saving data ../Datahub/processed_dir\n",
      "saving data ../Datahub/processed_dir\n",
      "saving data ../Datahub/processed_dir\n",
      "saving data ../Datahub/processed_dir\n",
      "saving data ../Datahub/processed_dir\n",
      "saving data ../Datahub/processed_dir\n",
      "saving data ../Datahub/processed_dir\n",
      "saving data ../Datahub/processed_dir\n",
      "saving data ../Datahub/processed_dir\n",
      "saving data ../Datahub/processed_dir\n",
      "saving data ../Datahub/processed_dir\n",
      "saving data ../Datahub/processed_dir\n",
      "saving data ../Datahub/processed_dir\n",
      "saving data ../Datahub/processed_dir\n",
      "saving data ../Datahub/processed_dir\n",
      "saving data ../Datahub/processed_dir\n",
      "saving data ../Datahub/processed_dir\n",
      "saving data ../Datahub/processed_dir\n",
      "saving data ../Datahub/processed_dir\n",
      "saving data ../Datahub/processed_dir\n",
      "saving data ../Datahub/processed_dir\n",
      "saving data ../Datahub/processed_dir\n",
      "saving data ../Datahub/processed_dir\n",
      "saving data ../Datahub/processed_dir\n",
      "saving data ../Datahub/processed_dir\n",
      "saving data ../Datahub/processed_dir\n",
      "saving data ../Datahub/processed_dir\n",
      "saving data ../Datahub/processed_dir\n",
      "saving data ../Datahub/processed_dir\n",
      "saving data ../Datahub/processed_dir\n",
      "saving data ../Datahub/processed_dir\n",
      "saving data ../Datahub/processed_dir\n",
      "saving data ../Datahub/processed_dir\n",
      "saving data ../Datahub/processed_dir\n",
      "saving data ../Datahub/processed_dir\n",
      "saving data ../Datahub/processed_dir\n",
      "saving data ../Datahub/processed_dir\n",
      "saving data ../Datahub/processed_dir\n",
      "saving data ../Datahub/processed_dir\n",
      "saving data ../Datahub/processed_dir\n",
      "saving data ../Datahub/processed_dir\n",
      "saving data ../Datahub/processed_dir\n",
      "saving data ../Datahub/processed_dir\n",
      "saving data ../Datahub/processed_dir\n",
      "saving data ../Datahub/processed_dir\n",
      "saving data ../Datahub/processed_dir\n",
      "saving data ../Datahub/processed_dir\n",
      "saving data ../Datahub/processed_dir\n",
      "saving data ../Datahub/processed_dir\n",
      "saving data ../Datahub/processed_dir\n",
      "saving data ../Datahub/processed_dir\n",
      "saving data ../Datahub/processed_dir\n",
      "saving data ../Datahub/processed_dir\n",
      "saving data ../Datahub/processed_dir\n",
      "saving data ../Datahub/processed_dir\n",
      "saving data ../Datahub/processed_dir\n",
      "saving data ../Datahub/processed_dir\n",
      "saving data ../Datahub/processed_dir\n",
      "saving data ../Datahub/processed_dir\n",
      "saving data ../Datahub/processed_dir\n",
      "saving data ../Datahub/processed_dir\n",
      "saving data ../Datahub/processed_dir\n",
      "saving data ../Datahub/processed_dir\n",
      "saving data ../Datahub/processed_dir\n",
      "saving data ../Datahub/processed_dir\n",
      "saving data ../Datahub/processed_dir\n",
      "saving data ../Datahub/processed_dir\n",
      "saving data ../Datahub/processed_dir\n",
      "saving data ../Datahub/processed_dir\n",
      "saving data ../Datahub/processed_dir\n",
      "saving data ../Datahub/processed_dir\n",
      "saving data ../Datahub/processed_dir\n",
      "saving data ../Datahub/processed_dir\n",
      "saving data ../Datahub/processed_dir\n",
      "saving data ../Datahub/processed_dir\n",
      "saving data ../Datahub/processed_dir\n",
      "saving data ../Datahub/processed_dir\n",
      "saving data ../Datahub/processed_dir\n",
      "saving data ../Datahub/processed_dir\n",
      "saving data ../Datahub/processed_dir\n",
      "saving data ../Datahub/processed_dir\n",
      "saving data ../Datahub/processed_dir\n",
      "saving data ../Datahub/processed_dir\n",
      "saving data ../Datahub/processed_dir\n",
      "saving data ../Datahub/processed_dir\n",
      "saving data ../Datahub/processed_dir\n",
      "saving data ../Datahub/processed_dir\n",
      "saving data ../Datahub/processed_dir\n",
      "saving data ../Datahub/processed_dir\n",
      "saving data ../Datahub/processed_dir\n",
      "saving data ../Datahub/processed_dir\n",
      "saving data ../Datahub/processed_dir\n",
      "saving data ../Datahub/processed_dir\n",
      "saving data ../Datahub/processed_dir\n",
      "saving data ../Datahub/processed_dir\n",
      "saving data ../Datahub/processed_dir\n",
      "saving data ../Datahub/processed_dir\n",
      "saving data ../Datahub/processed_dir\n",
      "saving data ../Datahub/processed_dir\n",
      "saving data ../Datahub/processed_dir\n",
      "saving data ../Datahub/processed_dir\n",
      "saving data ../Datahub/processed_dir\n",
      "saving data ../Datahub/processed_dir\n",
      "saving data ../Datahub/processed_dir\n",
      "saving data ../Datahub/processed_dir\n",
      "saving data ../Datahub/processed_dir\n",
      "saving data ../Datahub/processed_dir\n",
      "saving data ../Datahub/processed_dir\n",
      "saving data ../Datahub/processed_dir\n",
      "saving data ../Datahub/processed_dir\n",
      "saving data ../Datahub/processed_dir\n",
      "saving data ../Datahub/processed_dir\n",
      "saving data ../Datahub/processed_dir\n",
      "saving data ../Datahub/processed_dir\n",
      "saving data ../Datahub/processed_dir\n",
      "saving data ../Datahub/processed_dir\n",
      "saving data ../Datahub/processed_dir\n",
      "saving data ../Datahub/processed_dir\n",
      "saving data ../Datahub/processed_dir\n",
      "saving data ../Datahub/processed_dir\n",
      "saving data ../Datahub/processed_dir\n",
      "saving data ../Datahub/processed_dir\n",
      "saving data ../Datahub/processed_dir\n",
      "saving data ../Datahub/processed_dir\n",
      "saving data ../Datahub/processed_dir\n",
      "saving data ../Datahub/processed_dir\n",
      "saving data ../Datahub/processed_dir\n",
      "saving data ../Datahub/processed_dir\n",
      "saving data ../Datahub/processed_dir\n",
      "saving data ../Datahub/processed_dir\n",
      "saving data ../Datahub/processed_dir\n",
      "saving data ../Datahub/processed_dir\n",
      "saving data ../Datahub/processed_dir\n",
      "saving data ../Datahub/processed_dir\n",
      "saving data ../Datahub/processed_dir\n",
      "saving data ../Datahub/processed_dir\n",
      "saving data ../Datahub/processed_dir\n",
      "saving data ../Datahub/processed_dir\n",
      "saving data ../Datahub/processed_dir\n",
      "saving data ../Datahub/processed_dir\n",
      "saving data ../Datahub/processed_dir\n",
      "saving data ../Datahub/processed_dir\n",
      "saving data ../Datahub/processed_dir\n",
      "saving data ../Datahub/processed_dir\n",
      "saving data ../Datahub/processed_dir\n",
      "saving data ../Datahub/processed_dir\n",
      "saving data ../Datahub/processed_dir\n",
      "saving data ../Datahub/processed_dir\n",
      "saving data ../Datahub/processed_dir\n",
      "saving data ../Datahub/processed_dir\n",
      "saving data ../Datahub/processed_dir\n",
      "saving data ../Datahub/processed_dir\n",
      "saving data ../Datahub/processed_dir\n",
      "saving data ../Datahub/processed_dir\n",
      "saving data ../Datahub/processed_dir\n",
      "saving data ../Datahub/processed_dir\n",
      "saving data ../Datahub/processed_dir\n",
      "saving data ../Datahub/processed_dir\n",
      "saving data ../Datahub/processed_dir\n",
      "saving data ../Datahub/processed_dir\n",
      "saving data ../Datahub/processed_dir\n",
      "saving data ../Datahub/processed_dir\n",
      "saving data ../Datahub/processed_dir\n",
      "saving data ../Datahub/processed_dir\n",
      "saving data ../Datahub/processed_dir\n",
      "saving data ../Datahub/processed_dir\n",
      "saving data ../Datahub/processed_dir\n",
      "saving data ../Datahub/processed_dir\n",
      "saving data ../Datahub/processed_dir\n",
      "saving data ../Datahub/processed_dir\n",
      "saving data ../Datahub/processed_dir\n",
      "saving data ../Datahub/processed_dir\n",
      "saving data ../Datahub/processed_dir\n",
      "saving data ../Datahub/processed_dir\n",
      "saving data ../Datahub/processed_dir\n",
      "saving data ../Datahub/processed_dir\n",
      "saving data ../Datahub/processed_dir\n",
      "saving data ../Datahub/processed_dir\n",
      "saving data ../Datahub/processed_dir\n",
      "saving data ../Datahub/processed_dir\n",
      "saving data ../Datahub/processed_dir\n",
      "saving data ../Datahub/processed_dir\n",
      "saving data ../Datahub/processed_dir\n",
      "saving data ../Datahub/processed_dir\n",
      "saving data ../Datahub/processed_dir\n",
      "saving data ../Datahub/processed_dir\n",
      "saving data ../Datahub/processed_dir\n",
      "saving data ../Datahub/processed_dir\n",
      "saving data ../Datahub/processed_dir\n",
      "saving data ../Datahub/processed_dir\n",
      "saving data ../Datahub/processed_dir\n",
      "saving data ../Datahub/processed_dir\n",
      "saving data ../Datahub/processed_dir\n",
      "saving data ../Datahub/processed_dir\n",
      "saving data ../Datahub/processed_dir\n",
      "saving data ../Datahub/processed_dir\n",
      "saving data ../Datahub/processed_dir\n",
      "saving data ../Datahub/processed_dir\n",
      "saving data ../Datahub/processed_dir\n",
      "saving data ../Datahub/processed_dir\n",
      "saving data ../Datahub/processed_dir\n",
      "saving data ../Datahub/processed_dir\n",
      "saving data ../Datahub/processed_dir\n",
      "saving data ../Datahub/processed_dir\n",
      "saving data ../Datahub/processed_dir\n",
      "saving data ../Datahub/processed_dir\n",
      "saving data ../Datahub/processed_dir\n",
      "saving data ../Datahub/processed_dir\n",
      "saving data ../Datahub/processed_dir\n",
      "saving data ../Datahub/processed_dir\n",
      "saving data ../Datahub/processed_dir\n",
      "saving data ../Datahub/processed_dir\n",
      "saving data ../Datahub/processed_dir\n",
      "saving data ../Datahub/processed_dir\n",
      "saving data ../Datahub/processed_dir\n",
      "saving data ../Datahub/processed_dir\n",
      "saving data ../Datahub/processed_dir\n",
      "saving data ../Datahub/processed_dir\n",
      "saving data ../Datahub/processed_dir\n",
      "saving data ../Datahub/processed_dir\n",
      "saving data ../Datahub/processed_dir\n",
      "saving data ../Datahub/processed_dir\n",
      "saving data ../Datahub/processed_dir\n",
      "saving data ../Datahub/processed_dir\n",
      "saving data ../Datahub/processed_dir\n",
      "saving data ../Datahub/processed_dir\n",
      "saving data ../Datahub/processed_dir\n",
      "saving data ../Datahub/processed_dir\n",
      "saving data ../Datahub/processed_dir\n",
      "saving data ../Datahub/processed_dir\n",
      "saving data ../Datahub/processed_dir\n",
      "saving data ../Datahub/processed_dir\n",
      "saving data ../Datahub/processed_dir\n",
      "saving data ../Datahub/processed_dir\n",
      "saving data ../Datahub/processed_dir\n",
      "saving data ../Datahub/processed_dir\n",
      "saving data ../Datahub/processed_dir\n",
      "saving data ../Datahub/processed_dir\n",
      "saving data ../Datahub/processed_dir\n",
      "saving data ../Datahub/processed_dir\n",
      "saving data ../Datahub/processed_dir\n",
      "saving data ../Datahub/processed_dir\n",
      "saving data ../Datahub/processed_dir\n",
      "saving data ../Datahub/processed_dir\n",
      "saving data ../Datahub/processed_dir\n",
      "saving data ../Datahub/processed_dir\n",
      "saving data ../Datahub/processed_dir\n",
      "saving data ../Datahub/processed_dir\n",
      "saving data ../Datahub/processed_dir\n",
      "saving data ../Datahub/processed_dir\n",
      "saving data ../Datahub/processed_dir\n",
      "saving data ../Datahub/processed_dir\n",
      "saving data ../Datahub/processed_dir\n",
      "saving data ../Datahub/processed_dir\n",
      "saving data ../Datahub/processed_dir\n",
      "saving data ../Datahub/processed_dir\n",
      "saving data ../Datahub/processed_dir\n",
      "saving data ../Datahub/processed_dir\n",
      "saving data ../Datahub/processed_dir\n",
      "saving data ../Datahub/processed_dir\n",
      "saving data ../Datahub/processed_dir\n",
      "saving data ../Datahub/processed_dir\n",
      "saving data ../Datahub/processed_dir\n",
      "saving data ../Datahub/processed_dir\n",
      "saving data ../Datahub/processed_dir\n",
      "saving data ../Datahub/processed_dir\n",
      "saving data ../Datahub/processed_dir\n",
      "saving data ../Datahub/processed_dir\n",
      "saving data ../Datahub/processed_dir\n",
      "saving data ../Datahub/processed_dir\n",
      "saving data ../Datahub/processed_dir\n",
      "saving data ../Datahub/processed_dir\n",
      "saving data ../Datahub/processed_dir\n",
      "saving data ../Datahub/processed_dir\n",
      "saving data ../Datahub/processed_dir\n",
      "saving data ../Datahub/processed_dir\n",
      "saving data ../Datahub/processed_dir\n",
      "saving data ../Datahub/processed_dir\n",
      "saving data ../Datahub/processed_dir\n",
      "saving data ../Datahub/processed_dir\n",
      "saving data ../Datahub/processed_dir\n",
      "saving data ../Datahub/processed_dir\n",
      "saving data ../Datahub/processed_dir\n",
      "saving data ../Datahub/processed_dir\n",
      "saving data ../Datahub/processed_dir\n",
      "saving data ../Datahub/processed_dir\n",
      "saving data ../Datahub/processed_dir\n",
      "saving data ../Datahub/processed_dir\n",
      "saving data ../Datahub/processed_dir\n",
      "saving data ../Datahub/processed_dir\n",
      "saving data ../Datahub/processed_dir\n",
      "saving data ../Datahub/processed_dir\n",
      "saving data ../Datahub/processed_dir\n",
      "saving data ../Datahub/processed_dir\n",
      "saving data ../Datahub/processed_dir\n",
      "saving data ../Datahub/processed_dir\n",
      "saving data ../Datahub/processed_dir\n",
      "saving data ../Datahub/processed_dir\n",
      "saving data ../Datahub/processed_dir\n",
      "saving data ../Datahub/processed_dir\n",
      "saving data ../Datahub/processed_dir\n",
      "saving data ../Datahub/processed_dir\n",
      "saving data ../Datahub/processed_dir\n",
      "saving data ../Datahub/processed_dir\n",
      "saving data ../Datahub/processed_dir\n",
      "saving data ../Datahub/processed_dir\n",
      "saving data ../Datahub/processed_dir\n",
      "saving data ../Datahub/processed_dir\n",
      "saving data ../Datahub/processed_dir\n",
      "saving data ../Datahub/processed_dir\n",
      "saving data ../Datahub/processed_dir\n",
      "saving data ../Datahub/processed_dir\n",
      "saving data ../Datahub/processed_dir\n",
      "saving data ../Datahub/processed_dir\n",
      "saving data ../Datahub/processed_dir\n",
      "saving data ../Datahub/processed_dir\n",
      "saving data ../Datahub/processed_dir\n",
      "saving data ../Datahub/processed_dir\n",
      "saving data ../Datahub/processed_dir\n",
      "saving data ../Datahub/processed_dir\n",
      "saving data ../Datahub/processed_dir\n",
      "saving data ../Datahub/processed_dir\n",
      "saving data ../Datahub/processed_dir\n",
      "saving data ../Datahub/processed_dir\n",
      "saving data ../Datahub/processed_dir\n",
      "saving data ../Datahub/processed_dir\n",
      "saving data ../Datahub/processed_dir\n",
      "saving data ../Datahub/processed_dir\n",
      "saving data ../Datahub/processed_dir\n",
      "saving data ../Datahub/processed_dir\n",
      "saving data ../Datahub/processed_dir\n",
      "saving data ../Datahub/processed_dir\n",
      "saving data ../Datahub/processed_dir\n",
      "saving data ../Datahub/processed_dir\n",
      "saving data ../Datahub/processed_dir\n",
      "saving data ../Datahub/processed_dir\n",
      "saving data ../Datahub/processed_dir\n",
      "saving data ../Datahub/processed_dir\n",
      "saving data ../Datahub/processed_dir\n",
      "saving data ../Datahub/processed_dir\n",
      "saving data ../Datahub/processed_dir\n",
      "saving data ../Datahub/processed_dir\n",
      "saving data ../Datahub/processed_dir\n",
      "saving data ../Datahub/processed_dir\n",
      "saving data ../Datahub/processed_dir\n",
      "saving data ../Datahub/processed_dir\n",
      "saving data ../Datahub/processed_dir\n",
      "saving data ../Datahub/processed_dir\n",
      "saving data ../Datahub/processed_dir\n",
      "saving data ../Datahub/processed_dir\n",
      "saving data ../Datahub/processed_dir\n",
      "saving data ../Datahub/processed_dir\n",
      "saving data ../Datahub/processed_dir\n",
      "saving data ../Datahub/processed_dir\n",
      "saving data ../Datahub/processed_dir\n",
      "saving data ../Datahub/processed_dir\n",
      "saving data ../Datahub/processed_dir\n",
      "saving data ../Datahub/processed_dir\n",
      "saving data ../Datahub/processed_dir\n",
      "saving data ../Datahub/processed_dir\n",
      "saving data ../Datahub/processed_dir\n",
      "saving data ../Datahub/processed_dir\n",
      "saving data ../Datahub/processed_dir\n",
      "saving data ../Datahub/processed_dir\n",
      "saving data ../Datahub/processed_dir\n",
      "saving data ../Datahub/processed_dir\n",
      "saving data ../Datahub/processed_dir\n",
      "saving data ../Datahub/processed_dir\n",
      "saving data ../Datahub/processed_dir\n",
      "saving data ../Datahub/processed_dir\n",
      "saving data ../Datahub/processed_dir\n",
      "saving data ../Datahub/processed_dir\n",
      "saving data ../Datahub/processed_dir\n",
      "saving data ../Datahub/processed_dir\n",
      "saving data ../Datahub/processed_dir\n",
      "saving data ../Datahub/processed_dir\n",
      "saving data ../Datahub/processed_dir\n",
      "saving data ../Datahub/processed_dir\n",
      "saving data ../Datahub/processed_dir\n",
      "saving data ../Datahub/processed_dir\n",
      "saving data ../Datahub/processed_dir\n",
      "saving data ../Datahub/processed_dir\n",
      "saving data ../Datahub/processed_dir\n",
      "saving data ../Datahub/processed_dir\n",
      "saving data ../Datahub/processed_dir\n",
      "saving data ../Datahub/processed_dir\n",
      "saving data ../Datahub/processed_dir\n",
      "saving data ../Datahub/processed_dir\n",
      "saving data ../Datahub/processed_dir\n",
      "saving data ../Datahub/processed_dir\n",
      "saving data ../Datahub/processed_dir\n",
      "saving data ../Datahub/processed_dir\n",
      "saving data ../Datahub/processed_dir\n",
      "saving data ../Datahub/processed_dir\n",
      "saving data ../Datahub/processed_dir\n",
      "saving data ../Datahub/processed_dir\n",
      "saving data ../Datahub/processed_dir\n",
      "saving data ../Datahub/processed_dir\n",
      "saving data ../Datahub/processed_dir\n",
      "saving data ../Datahub/processed_dir\n",
      "saving data ../Datahub/processed_dir\n",
      "saving data ../Datahub/processed_dir\n",
      "saving data ../Datahub/processed_dir\n",
      "saving data ../Datahub/processed_dir\n",
      "saving data ../Datahub/processed_dir\n",
      "saving data ../Datahub/processed_dir\n",
      "saving data ../Datahub/processed_dir\n",
      "saving data ../Datahub/processed_dir\n",
      "saving data ../Datahub/processed_dir\n",
      "saving data ../Datahub/processed_dir\n",
      "saving data ../Datahub/processed_dir\n",
      "saving data ../Datahub/processed_dir\n",
      "saving data ../Datahub/processed_dir\n",
      "saving data ../Datahub/processed_dir\n",
      "saving data ../Datahub/processed_dir\n",
      "saving data ../Datahub/processed_dir\n",
      "saving data ../Datahub/processed_dir\n",
      "saving data ../Datahub/processed_dir\n",
      "saving data ../Datahub/processed_dir\n",
      "saving data ../Datahub/processed_dir\n",
      "saving data ../Datahub/processed_dir\n",
      "saving data ../Datahub/processed_dir\n",
      "saving data ../Datahub/processed_dir\n",
      "saving data ../Datahub/processed_dir\n",
      "saving data ../Datahub/processed_dir\n",
      "saving data ../Datahub/processed_dir\n",
      "saving data ../Datahub/processed_dir\n",
      "saving data ../Datahub/processed_dir\n",
      "saving data ../Datahub/processed_dir\n",
      "saving data ../Datahub/processed_dir\n",
      "saving data ../Datahub/processed_dir\n",
      "saving data ../Datahub/processed_dir\n",
      "saving data ../Datahub/processed_dir\n",
      "saving data ../Datahub/processed_dir\n",
      "saving data ../Datahub/processed_dir\n",
      "saving data ../Datahub/processed_dir\n",
      "saving data ../Datahub/processed_dir\n",
      "saving data ../Datahub/processed_dir\n",
      "saving data ../Datahub/processed_dir\n",
      "saving data ../Datahub/processed_dir\n",
      "saving data ../Datahub/processed_dir\n",
      "saving data ../Datahub/processed_dir\n",
      "saving data ../Datahub/processed_dir\n",
      "saving data ../Datahub/processed_dir\n",
      "saving data ../Datahub/processed_dir\n",
      "saving data ../Datahub/processed_dir\n",
      "saving data ../Datahub/processed_dir\n",
      "saving data ../Datahub/processed_dir\n",
      "saving data ../Datahub/processed_dir\n",
      "saving data ../Datahub/processed_dir\n",
      "saving data ../Datahub/processed_dir\n",
      "saving data ../Datahub/processed_dir\n",
      "saving data ../Datahub/processed_dir\n",
      "saving data ../Datahub/processed_dir\n",
      "saving data ../Datahub/processed_dir\n",
      "saving data ../Datahub/processed_dir\n",
      "saving data ../Datahub/processed_dir\n",
      "saving data ../Datahub/processed_dir\n",
      "saving data ../Datahub/processed_dir\n",
      "saving data ../Datahub/processed_dir\n",
      "saving data ../Datahub/processed_dir\n",
      "saving data ../Datahub/processed_dir\n",
      "saving data ../Datahub/processed_dir\n",
      "saving data ../Datahub/processed_dir\n",
      "saving data ../Datahub/processed_dir\n",
      "saving data ../Datahub/processed_dir\n",
      "saving data ../Datahub/processed_dir\n",
      "saving data ../Datahub/processed_dir\n",
      "saving data ../Datahub/processed_dir\n",
      "saving data ../Datahub/processed_dir\n",
      "saving data ../Datahub/processed_dir\n",
      "saving data ../Datahub/processed_dir\n",
      "saving data ../Datahub/processed_dir\n",
      "saving data ../Datahub/processed_dir\n",
      "saving data ../Datahub/processed_dir\n",
      "saving data ../Datahub/processed_dir\n",
      "saving data ../Datahub/processed_dir\n",
      "saving data ../Datahub/processed_dir\n",
      "saving data ../Datahub/processed_dir\n",
      "saving data ../Datahub/processed_dir\n",
      "saving data ../Datahub/processed_dir\n",
      "saving data ../Datahub/processed_dir\n",
      "saving data ../Datahub/processed_dir\n",
      "saving data ../Datahub/processed_dir\n",
      "saving data ../Datahub/processed_dir\n",
      "saving data ../Datahub/processed_dir\n",
      "saving data ../Datahub/processed_dir\n",
      "saving data ../Datahub/processed_dir\n",
      "saving data ../Datahub/processed_dir\n",
      "saving data ../Datahub/processed_dir\n",
      "saving data ../Datahub/processed_dir\n",
      "saving data ../Datahub/processed_dir\n",
      "saving data ../Datahub/processed_dir\n",
      "saving data ../Datahub/processed_dir\n",
      "saving data ../Datahub/processed_dir\n",
      "saving data ../Datahub/processed_dir\n",
      "saving data ../Datahub/processed_dir\n",
      "saving data ../Datahub/processed_dir\n",
      "saving data ../Datahub/processed_dir\n",
      "saving data ../Datahub/processed_dir\n",
      "saving data ../Datahub/processed_dir\n",
      "saving data ../Datahub/processed_dir\n",
      "saving data ../Datahub/processed_dir\n",
      "saving data ../Datahub/processed_dir\n",
      "saving data ../Datahub/processed_dir\n",
      "saving data ../Datahub/processed_dir\n",
      "saving data ../Datahub/processed_dir\n",
      "saving data ../Datahub/processed_dir\n",
      "saving data ../Datahub/processed_dir\n",
      "saving data ../Datahub/processed_dir\n",
      "saving data ../Datahub/processed_dir\n",
      "saving data ../Datahub/processed_dir\n",
      "saving data ../Datahub/processed_dir\n",
      "saving data ../Datahub/processed_dir\n",
      "saving data ../Datahub/processed_dir\n",
      "saving data ../Datahub/processed_dir\n",
      "saving data ../Datahub/processed_dir\n",
      "saving data ../Datahub/processed_dir\n",
      "saving data ../Datahub/processed_dir\n",
      "saving data ../Datahub/processed_dir\n",
      "saving data ../Datahub/processed_dir\n",
      "saving data ../Datahub/processed_dir\n",
      "saving data ../Datahub/processed_dir\n",
      "saving data ../Datahub/processed_dir\n",
      "saving data ../Datahub/processed_dir\n",
      "saving data ../Datahub/processed_dir\n",
      "saving data ../Datahub/processed_dir\n",
      "saving data ../Datahub/processed_dir\n",
      "saving data ../Datahub/processed_dir\n",
      "saving data ../Datahub/processed_dir\n",
      "saving data ../Datahub/processed_dir\n",
      "saving data ../Datahub/processed_dir\n",
      "saving data ../Datahub/processed_dir\n",
      "saving data ../Datahub/processed_dir\n",
      "saving data ../Datahub/processed_dir\n",
      "saving data ../Datahub/processed_dir\n",
      "saving data ../Datahub/processed_dir\n",
      "saving data ../Datahub/processed_dir\n",
      "saving data ../Datahub/processed_dir\n",
      "saving data ../Datahub/processed_dir\n",
      "saving data ../Datahub/processed_dir\n",
      "saving data ../Datahub/processed_dir\n",
      "saving data ../Datahub/processed_dir\n",
      "saving data ../Datahub/processed_dir\n",
      "saving data ../Datahub/processed_dir\n",
      "saving data ../Datahub/processed_dir\n",
      "saving data ../Datahub/processed_dir\n",
      "saving data ../Datahub/processed_dir\n",
      "saving data ../Datahub/processed_dir\n",
      "saving data ../Datahub/processed_dir\n",
      "saving data ../Datahub/processed_dir\n",
      "saving data ../Datahub/processed_dir\n",
      "saving data ../Datahub/processed_dir\n",
      "saving data ../Datahub/processed_dir\n",
      "saving data ../Datahub/processed_dir\n",
      "saving data ../Datahub/processed_dir\n",
      "saving data ../Datahub/processed_dir\n",
      "saving data ../Datahub/processed_dir\n",
      "saving data ../Datahub/processed_dir\n",
      "saving data ../Datahub/processed_dir\n",
      "saving data ../Datahub/processed_dir\n",
      "saving data ../Datahub/processed_dir\n",
      "saving data ../Datahub/processed_dir\n",
      "saving data ../Datahub/processed_dir\n",
      "saving data ../Datahub/processed_dir\n",
      "saving data ../Datahub/processed_dir\n",
      "saving data ../Datahub/processed_dir\n",
      "saving data ../Datahub/processed_dir\n",
      "saving data ../Datahub/processed_dir\n",
      "saving data ../Datahub/processed_dir\n",
      "saving data ../Datahub/processed_dir\n",
      "saving data ../Datahub/processed_dir\n",
      "saving data ../Datahub/processed_dir\n",
      "saving data ../Datahub/processed_dir\n",
      "saving data ../Datahub/processed_dir\n",
      "saving data ../Datahub/processed_dir\n",
      "saving data ../Datahub/processed_dir\n",
      "saving data ../Datahub/processed_dir\n",
      "saving data ../Datahub/processed_dir\n",
      "saving data ../Datahub/processed_dir\n",
      "saving data ../Datahub/processed_dir\n",
      "saving data ../Datahub/processed_dir\n",
      "saving data ../Datahub/processed_dir\n",
      "saving data ../Datahub/processed_dir\n",
      "saving data ../Datahub/processed_dir\n",
      "saving data ../Datahub/processed_dir\n",
      "saving data ../Datahub/processed_dir\n",
      "saving data ../Datahub/processed_dir\n",
      "saving data ../Datahub/processed_dir\n",
      "saving data ../Datahub/processed_dir\n",
      "saving data ../Datahub/processed_dir\n",
      "saving data ../Datahub/processed_dir\n",
      "saving data ../Datahub/processed_dir\n",
      "saving data ../Datahub/processed_dir\n",
      "saving data ../Datahub/processed_dir\n",
      "saving data ../Datahub/processed_dir\n",
      "saving data ../Datahub/processed_dir\n",
      "saving data ../Datahub/processed_dir\n",
      "saving data ../Datahub/processed_dir\n",
      "saving data ../Datahub/processed_dir\n",
      "saving data ../Datahub/processed_dir\n",
      "saving data ../Datahub/processed_dir\n",
      "saving data ../Datahub/processed_dir\n",
      "saving data ../Datahub/processed_dir\n",
      "saving data ../Datahub/processed_dir\n",
      "saving data ../Datahub/processed_dir\n",
      "saving data ../Datahub/processed_dir\n",
      "saving data ../Datahub/processed_dir\n",
      "saving data ../Datahub/processed_dir\n",
      "saving data ../Datahub/processed_dir\n",
      "saving data ../Datahub/processed_dir\n",
      "saving data ../Datahub/processed_dir\n",
      "saving data ../Datahub/processed_dir\n",
      "saving data ../Datahub/processed_dir\n",
      "saving data ../Datahub/processed_dir\n",
      "saving data ../Datahub/processed_dir\n",
      "saving data ../Datahub/processed_dir\n",
      "saving data ../Datahub/processed_dir\n",
      "saving data ../Datahub/processed_dir\n",
      "saving data ../Datahub/processed_dir\n",
      "saving data ../Datahub/processed_dir\n",
      "saving data ../Datahub/processed_dir\n",
      "saving data ../Datahub/processed_dir\n",
      "saving data ../Datahub/processed_dir\n",
      "saving data ../Datahub/processed_dir\n",
      "saving data ../Datahub/processed_dir\n",
      "saving data ../Datahub/processed_dir\n",
      "saving data ../Datahub/processed_dir\n",
      "saving data ../Datahub/processed_dir\n",
      "saving data ../Datahub/processed_dir\n",
      "saving data ../Datahub/processed_dir\n",
      "saving data ../Datahub/processed_dir\n",
      "saving data ../Datahub/processed_dir\n",
      "saving data ../Datahub/processed_dir\n",
      "saving data ../Datahub/processed_dir\n",
      "saving data ../Datahub/processed_dir\n",
      "saving data ../Datahub/processed_dir\n",
      "saving data ../Datahub/processed_dir\n",
      "saving data ../Datahub/processed_dir\n",
      "saving data ../Datahub/processed_dir\n",
      "saving data ../Datahub/processed_dir\n",
      "saving data ../Datahub/processed_dir\n",
      "saving data ../Datahub/processed_dir\n",
      "saving data ../Datahub/processed_dir\n",
      "saving data ../Datahub/processed_dir\n",
      "saving data ../Datahub/processed_dir\n",
      "saving data ../Datahub/processed_dir\n",
      "saving data ../Datahub/processed_dir\n",
      "saving data ../Datahub/processed_dir\n",
      "saving data ../Datahub/processed_dir\n",
      "saving data ../Datahub/processed_dir\n",
      "saving data ../Datahub/processed_dir\n",
      "saving data ../Datahub/processed_dir\n",
      "saving data ../Datahub/processed_dir\n",
      "saving data ../Datahub/processed_dir\n",
      "saving data ../Datahub/processed_dir\n",
      "saving data ../Datahub/processed_dir\n",
      "saving data ../Datahub/processed_dir\n",
      "saving data ../Datahub/processed_dir\n",
      "saving data ../Datahub/processed_dir\n",
      "saving data ../Datahub/processed_dir\n",
      "saving data ../Datahub/processed_dir\n",
      "saving data ../Datahub/processed_dir\n",
      "saving data ../Datahub/processed_dir\n",
      "saving data ../Datahub/processed_dir\n",
      "saving data ../Datahub/processed_dir\n",
      "saving data ../Datahub/processed_dir\n",
      "CPU times: user 7.49 s, sys: 572 ms, total: 8.06 s\n",
      "Wall time: 8.15 s\n"
     ]
    }
   ],
   "source": [
    "%%time\n",
    "dataset.process()\n",
    "dataset_list = dataset.processed_file_names()"
   ]
  },
  {
   "cell_type": "code",
   "execution_count": 111,
   "id": "099831f8-8e25-4b1b-87b5-db8bdd726a4f",
   "metadata": {},
   "outputs": [],
   "source": [
    "import torch.nn.functional as F"
   ]
  },
  {
   "cell_type": "markdown",
   "id": "c6f59a80-4ec8-4866-bd1c-035ce0752b40",
   "metadata": {},
   "source": [
    "\"possible_atoms\": ['C', 'S', 'N', 'O', 'H']"
   ]
  },
  {
   "cell_type": "code",
   "execution_count": 112,
   "id": "cdd2c1e5-606b-4048-8879-024998ee0814",
   "metadata": {},
   "outputs": [
    {
     "data": {
      "text/plain": [
       "2840"
      ]
     },
     "execution_count": 112,
     "metadata": {},
     "output_type": "execute_result"
    }
   ],
   "source": [
    "len(dataset_list)"
   ]
  },
  {
   "cell_type": "code",
   "execution_count": 113,
   "id": "e6eeb24f-1cf7-4cfe-99f8-41daec6a4856",
   "metadata": {},
   "outputs": [
    {
     "data": {
      "text/plain": [
       "tensor([[0., 2., 2., 0., 0., 0., 1.],\n",
       "        [0., 2., 2., 0., 0., 0., 1.],\n",
       "        [0., 2., 2., 0., 0., 0., 1.],\n",
       "        [0., 2., 2., 0., 0., 0., 1.],\n",
       "        [0., 0., 2., 0., 0., 0., 1.]])"
      ]
     },
     "execution_count": 113,
     "metadata": {},
     "output_type": "execute_result"
    }
   ],
   "source": [
    "dataset_list[5].x_s[0:5]"
   ]
  },
  {
   "cell_type": "code",
   "execution_count": 85,
   "id": "e7b84ae3-7d57-43b8-b59d-11a908cbb700",
   "metadata": {},
   "outputs": [
    {
     "data": {
      "text/plain": [
       "tensor([[0., 0., 2., 0., 0., 0., 1., 0., 0., 0., 0., 0., 0., 0., 0., 1., 0., 0.,\n",
       "         0., 0., 0., 0., 0., 0., 0., 0., 0., 0., 0., 0., 0., 0., 0., 0., 0., 0.,\n",
       "         0., 0., 0., 0., 0., 0., 0., 0., 0., 0., 0., 0., 0., 0., 0., 0., 0., 0.,\n",
       "         0., 0., 0., 0., 0., 0., 0., 0., 0., 0., 0., 0., 0., 0., 0., 0., 0., 0.,\n",
       "         0., 0., 0., 0., 0., 0., 0., 0., 0., 0., 0., 0., 0., 0.],\n",
       "        [0., 0., 2., 1., 0., 0., 1., 0., 0., 0., 0., 0., 0., 0., 0., 0., 0., 0.,\n",
       "         0., 0., 0., 0., 1., 0., 0., 0., 0., 0., 0., 0., 0., 0., 0., 0., 0., 0.,\n",
       "         0., 0., 0., 0., 0., 0., 0., 0., 0., 0., 0., 0., 0., 0., 0., 0., 0., 0.,\n",
       "         0., 0., 0., 0., 0., 0., 0., 0., 0., 0., 0., 0., 0., 0., 0., 0., 0., 0.,\n",
       "         0., 0., 0., 0., 0., 0., 0., 0., 0., 0., 0., 0., 0., 0.],\n",
       "        [0., 0., 2., 1., 0., 0., 1., 0., 0., 0., 0., 0., 0., 0., 0., 1., 0., 0.,\n",
       "         0., 0., 0., 0., 0., 0., 0., 0., 0., 0., 0., 0., 0., 0., 0., 0., 0., 0.,\n",
       "         0., 0., 0., 0., 0., 0., 0., 0., 0., 0., 0., 0., 0., 0., 0., 0., 0., 0.,\n",
       "         0., 0., 0., 0., 0., 0., 0., 0., 0., 0., 0., 0., 0., 0., 0., 0., 0., 0.,\n",
       "         0., 0., 0., 0., 0., 0., 0., 0., 0., 0., 0., 0., 0., 0.],\n",
       "        [0., 3., 2., 0., 0., 0., 0., 0., 0., 0., 0., 0., 0., 0., 0., 0., 0., 0.,\n",
       "         0., 0., 0., 0., 0., 0., 0., 0., 0., 0., 0., 0., 0., 0., 0., 0., 0., 0.,\n",
       "         0., 0., 0., 0., 0., 0., 0., 0., 0., 0., 0., 0., 0., 0., 0., 0., 0., 0.,\n",
       "         0., 0., 0., 0., 0., 0., 0., 0., 0., 0., 0., 0., 0., 0., 0., 0., 0., 0.,\n",
       "         0., 0., 0., 0., 1., 0., 0., 0., 0., 0., 0., 0., 0., 0.],\n",
       "        [0., 0., 2., 0., 0., 0., 1., 0., 0., 0., 0., 0., 0., 0., 0., 0., 0., 1.,\n",
       "         0., 0., 0., 0., 0., 0., 0., 0., 0., 0., 0., 0., 0., 0., 0., 0., 0., 0.,\n",
       "         0., 0., 0., 0., 0., 0., 0., 0., 0., 0., 0., 0., 0., 0., 0., 0., 0., 0.,\n",
       "         0., 0., 0., 0., 0., 0., 0., 0., 0., 0., 0., 0., 0., 0., 0., 0., 0., 0.,\n",
       "         0., 0., 0., 0., 0., 0., 0., 0., 0., 0., 0., 0., 0., 0.]])"
      ]
     },
     "execution_count": 85,
     "metadata": {},
     "output_type": "execute_result"
    }
   ],
   "source": [
    "dataset_list[5].x_t[0:5]"
   ]
  },
  {
   "cell_type": "code",
   "execution_count": 86,
   "id": "da5ed50c-08b6-49dc-9d1a-7f003eafe064",
   "metadata": {},
   "outputs": [
    {
     "name": "stdout",
     "output_type": "stream",
     "text": [
      "BipartiteData(edge_index=[2, 77], x_s=[77, 7], x_t=[77, 86], y=0.0, edge_attr=[77], num_nodes=154, pdb='3zsx', pose=6)\n",
      "BipartiteData(edge_index=[2, 77], x_s=[77, 7], x_t=[77, 86], y=0.0, edge_attr=[77], num_nodes=154, pdb='3zsx', pose=9)\n",
      "BipartiteData(edge_index=[2, 77], x_s=[77, 7], x_t=[77, 86], y=0.0, edge_attr=[77], num_nodes=154, pdb='3zsx', pose=4)\n",
      "BipartiteData(edge_index=[2, 78], x_s=[78, 7], x_t=[78, 86], y=0.0, edge_attr=[78], num_nodes=156, pdb='3zsx', pose=1)\n",
      "BipartiteData(edge_index=[2, 74], x_s=[74, 7], x_t=[74, 86], y=0.0, edge_attr=[74], num_nodes=148, pdb='3zsx', pose=3)\n",
      "BipartiteData(edge_index=[2, 65], x_s=[65, 7], x_t=[65, 86], y=0.0, edge_attr=[65], num_nodes=130, pdb='3zsx', pose=8)\n",
      "BipartiteData(edge_index=[2, 79], x_s=[79, 7], x_t=[79, 86], y=0.0, edge_attr=[79], num_nodes=158, pdb='3zsx', pose=7)\n",
      "BipartiteData(edge_index=[2, 0], x_s=[0, 7], x_t=[0, 86], y=0.0, edge_attr=[0], num_nodes=0, pdb='3zsx', pose=10)\n",
      "BipartiteData(edge_index=[2, 73], x_s=[73, 7], x_t=[73, 86], y=0.0, edge_attr=[73], num_nodes=146, pdb='3zsx', pose=2)\n",
      "BipartiteData(edge_index=[2, 64], x_s=[64, 7], x_t=[64, 86], y=0.0, edge_attr=[64], num_nodes=128, pdb='3zsx', pose=5)\n"
     ]
    }
   ],
   "source": [
    "for test in dataset_list:\n",
    "    if test.pdb == '3zsx':\n",
    "        print(test)"
   ]
  },
  {
   "cell_type": "code",
   "execution_count": 182,
   "id": "667dde0c-1112-4ed4-b212-f6be8592f81c",
   "metadata": {},
   "outputs": [
    {
     "data": {
      "text/plain": [
       "110"
      ]
     },
     "execution_count": 182,
     "metadata": {},
     "output_type": "execute_result"
    }
   ],
   "source": [
    "len(dataset_list[0].x_t)"
   ]
  },
  {
   "cell_type": "code",
   "execution_count": 183,
   "id": "a0265aaf-d520-4751-960e-eb91a1db6684",
   "metadata": {},
   "outputs": [
    {
     "data": {
      "text/plain": [
       "88"
      ]
     },
     "execution_count": 183,
     "metadata": {},
     "output_type": "execute_result"
    }
   ],
   "source": [
    "len(rec_4eor_pose_1)"
   ]
  },
  {
   "cell_type": "code",
   "execution_count": 184,
   "id": "2769b2ff-fdd3-446d-8fa0-fc9c3063397a",
   "metadata": {},
   "outputs": [
    {
     "data": {
      "text/plain": [
       "['Mass',\n",
       " 'Charge',\n",
       " 'Element_Name',\n",
       " 'Hybridization',\n",
       " 'Num_Hydrogens',\n",
       " 'Formal_Charge',\n",
       " 'Unpaired_Electron',\n",
       " 'In_Aromatic_Substructure']"
      ]
     },
     "execution_count": 184,
     "metadata": {},
     "output_type": "execute_result"
    }
   ],
   "source": [
    "config.node_descriptors"
   ]
  },
  {
   "cell_type": "code",
   "execution_count": 185,
   "id": "90fb0111-ebec-4e21-b2a8-5601a312790f",
   "metadata": {},
   "outputs": [
    {
     "data": {
      "text/plain": [
       "tensor([], size=(0, 86))"
      ]
     },
     "execution_count": 185,
     "metadata": {},
     "output_type": "execute_result"
    }
   ],
   "source": [
    "dataset_list[6].x_t[0:10]"
   ]
  },
  {
   "cell_type": "code",
   "execution_count": 186,
   "id": "2a87837b-0d69-4bdd-a40e-17f6dfb25b22",
   "metadata": {},
   "outputs": [
    {
     "data": {
      "text/html": [
       "<div>\n",
       "<style scoped>\n",
       "    .dataframe tbody tr th:only-of-type {\n",
       "        vertical-align: middle;\n",
       "    }\n",
       "\n",
       "    .dataframe tbody tr th {\n",
       "        vertical-align: top;\n",
       "    }\n",
       "\n",
       "    .dataframe thead th {\n",
       "        text-align: right;\n",
       "    }\n",
       "</style>\n",
       "<table border=\"1\" class=\"dataframe\">\n",
       "  <thead>\n",
       "    <tr style=\"text-align: right;\">\n",
       "      <th></th>\n",
       "      <th>Mass</th>\n",
       "      <th>Charge</th>\n",
       "      <th>Element_Name</th>\n",
       "      <th>Hybridization</th>\n",
       "      <th>Num_Hydrogens</th>\n",
       "      <th>Formal_Charge</th>\n",
       "      <th>Unpaired_Electron</th>\n",
       "      <th>In_Aromatic_Substructure</th>\n",
       "    </tr>\n",
       "  </thead>\n",
       "  <tbody>\n",
       "    <tr>\n",
       "      <th>0</th>\n",
       "      <td>12.011</td>\n",
       "      <td>0</td>\n",
       "      <td>0</td>\n",
       "      <td>3</td>\n",
       "      <td>3</td>\n",
       "      <td>0</td>\n",
       "      <td>0</td>\n",
       "      <td>0</td>\n",
       "    </tr>\n",
       "    <tr>\n",
       "      <th>1</th>\n",
       "      <td>12.011</td>\n",
       "      <td>0</td>\n",
       "      <td>0</td>\n",
       "      <td>3</td>\n",
       "      <td>3</td>\n",
       "      <td>0</td>\n",
       "      <td>0</td>\n",
       "      <td>0</td>\n",
       "    </tr>\n",
       "    <tr>\n",
       "      <th>2</th>\n",
       "      <td>12.011</td>\n",
       "      <td>0</td>\n",
       "      <td>0</td>\n",
       "      <td>3</td>\n",
       "      <td>3</td>\n",
       "      <td>0</td>\n",
       "      <td>0</td>\n",
       "      <td>0</td>\n",
       "    </tr>\n",
       "    <tr>\n",
       "      <th>3</th>\n",
       "      <td>12.011</td>\n",
       "      <td>0</td>\n",
       "      <td>0</td>\n",
       "      <td>3</td>\n",
       "      <td>3</td>\n",
       "      <td>0</td>\n",
       "      <td>0</td>\n",
       "      <td>0</td>\n",
       "    </tr>\n",
       "    <tr>\n",
       "      <th>4</th>\n",
       "      <td>15.999</td>\n",
       "      <td>0</td>\n",
       "      <td>3</td>\n",
       "      <td>2</td>\n",
       "      <td>0</td>\n",
       "      <td>0</td>\n",
       "      <td>0</td>\n",
       "      <td>0</td>\n",
       "    </tr>\n",
       "    <tr>\n",
       "      <th>5</th>\n",
       "      <td>12.011</td>\n",
       "      <td>0</td>\n",
       "      <td>0</td>\n",
       "      <td>3</td>\n",
       "      <td>3</td>\n",
       "      <td>0</td>\n",
       "      <td>0</td>\n",
       "      <td>0</td>\n",
       "    </tr>\n",
       "    <tr>\n",
       "      <th>6</th>\n",
       "      <td>12.011</td>\n",
       "      <td>0</td>\n",
       "      <td>0</td>\n",
       "      <td>3</td>\n",
       "      <td>3</td>\n",
       "      <td>0</td>\n",
       "      <td>0</td>\n",
       "      <td>0</td>\n",
       "    </tr>\n",
       "    <tr>\n",
       "      <th>7</th>\n",
       "      <td>12.011</td>\n",
       "      <td>0</td>\n",
       "      <td>0</td>\n",
       "      <td>3</td>\n",
       "      <td>3</td>\n",
       "      <td>0</td>\n",
       "      <td>0</td>\n",
       "      <td>0</td>\n",
       "    </tr>\n",
       "    <tr>\n",
       "      <th>8</th>\n",
       "      <td>12.011</td>\n",
       "      <td>0</td>\n",
       "      <td>0</td>\n",
       "      <td>3</td>\n",
       "      <td>3</td>\n",
       "      <td>0</td>\n",
       "      <td>0</td>\n",
       "      <td>0</td>\n",
       "    </tr>\n",
       "    <tr>\n",
       "      <th>9</th>\n",
       "      <td>12.011</td>\n",
       "      <td>0</td>\n",
       "      <td>0</td>\n",
       "      <td>3</td>\n",
       "      <td>3</td>\n",
       "      <td>0</td>\n",
       "      <td>0</td>\n",
       "      <td>0</td>\n",
       "    </tr>\n",
       "  </tbody>\n",
       "</table>\n",
       "</div>"
      ],
      "text/plain": [
       "     Mass  Charge  Element_Name  Hybridization  Num_Hydrogens  Formal_Charge  \\\n",
       "0  12.011       0             0              3              3              0   \n",
       "1  12.011       0             0              3              3              0   \n",
       "2  12.011       0             0              3              3              0   \n",
       "3  12.011       0             0              3              3              0   \n",
       "4  15.999       0             3              2              0              0   \n",
       "5  12.011       0             0              3              3              0   \n",
       "6  12.011       0             0              3              3              0   \n",
       "7  12.011       0             0              3              3              0   \n",
       "8  12.011       0             0              3              3              0   \n",
       "9  12.011       0             0              3              3              0   \n",
       "\n",
       "   Unpaired_Electron  In_Aromatic_Substructure  \n",
       "0                  0                         0  \n",
       "1                  0                         0  \n",
       "2                  0                         0  \n",
       "3                  0                         0  \n",
       "4                  0                         0  \n",
       "5                  0                         0  \n",
       "6                  0                         0  \n",
       "7                  0                         0  \n",
       "8                  0                         0  \n",
       "9                  0                         0  "
      ]
     },
     "execution_count": 186,
     "metadata": {},
     "output_type": "execute_result"
    }
   ],
   "source": [
    "rec_4eor_pose_1.head(10)"
   ]
  },
  {
   "cell_type": "code",
   "execution_count": 187,
   "id": "747259b0-84a5-4030-bbe5-b67126bd4bec",
   "metadata": {},
   "outputs": [
    {
     "data": {
      "text/html": [
       "<div>\n",
       "<style scoped>\n",
       "    .dataframe tbody tr th:only-of-type {\n",
       "        vertical-align: middle;\n",
       "    }\n",
       "\n",
       "    .dataframe tbody tr th {\n",
       "        vertical-align: top;\n",
       "    }\n",
       "\n",
       "    .dataframe thead th {\n",
       "        text-align: right;\n",
       "    }\n",
       "</style>\n",
       "<table border=\"1\" class=\"dataframe\">\n",
       "  <thead>\n",
       "    <tr style=\"text-align: right;\">\n",
       "      <th></th>\n",
       "      <th>pdb</th>\n",
       "      <th>pose</th>\n",
       "      <th>ligand_atom_index</th>\n",
       "      <th>ligand_atom_name</th>\n",
       "      <th>receptor_atom_index</th>\n",
       "      <th>receptor_atom_name</th>\n",
       "      <th>distance</th>\n",
       "    </tr>\n",
       "  </thead>\n",
       "  <tbody>\n",
       "    <tr>\n",
       "      <th>0</th>\n",
       "      <td>4eor</td>\n",
       "      <td>1</td>\n",
       "      <td>1.0</td>\n",
       "      <td>C2</td>\n",
       "      <td>92.0</td>\n",
       "      <td>CG2</td>\n",
       "      <td>3.537490</td>\n",
       "    </tr>\n",
       "    <tr>\n",
       "      <th>1</th>\n",
       "      <td>4eor</td>\n",
       "      <td>1</td>\n",
       "      <td>1.0</td>\n",
       "      <td>C2</td>\n",
       "      <td>1056.0</td>\n",
       "      <td>CD2</td>\n",
       "      <td>3.918316</td>\n",
       "    </tr>\n",
       "    <tr>\n",
       "      <th>2</th>\n",
       "      <td>4eor</td>\n",
       "      <td>1</td>\n",
       "      <td>3.0</td>\n",
       "      <td>N1</td>\n",
       "      <td>92.0</td>\n",
       "      <td>CG2</td>\n",
       "      <td>3.659126</td>\n",
       "    </tr>\n",
       "    <tr>\n",
       "      <th>3</th>\n",
       "      <td>4eor</td>\n",
       "      <td>1</td>\n",
       "      <td>3.0</td>\n",
       "      <td>N1</td>\n",
       "      <td>93.0</td>\n",
       "      <td>CD1</td>\n",
       "      <td>3.711112</td>\n",
       "    </tr>\n",
       "    <tr>\n",
       "      <th>4</th>\n",
       "      <td>4eor</td>\n",
       "      <td>1</td>\n",
       "      <td>3.0</td>\n",
       "      <td>N1</td>\n",
       "      <td>639.0</td>\n",
       "      <td>O</td>\n",
       "      <td>3.983377</td>\n",
       "    </tr>\n",
       "  </tbody>\n",
       "</table>\n",
       "</div>"
      ],
      "text/plain": [
       "    pdb pose  ligand_atom_index ligand_atom_name  receptor_atom_index  \\\n",
       "0  4eor    1                1.0               C2                 92.0   \n",
       "1  4eor    1                1.0               C2               1056.0   \n",
       "2  4eor    1                3.0               N1                 92.0   \n",
       "3  4eor    1                3.0               N1                 93.0   \n",
       "4  4eor    1                3.0               N1                639.0   \n",
       "\n",
       "  receptor_atom_name  distance  \n",
       "0                CG2  3.537490  \n",
       "1                CD2  3.918316  \n",
       "2                CG2  3.659126  \n",
       "3                CD1  3.711112  \n",
       "4                  O  3.983377  "
      ]
     },
     "execution_count": 187,
     "metadata": {},
     "output_type": "execute_result"
    }
   ],
   "source": [
    "foureor1.head()"
   ]
  },
  {
   "cell_type": "markdown",
   "id": "eb08037a-1f94-475c-a61e-54735f836e0f",
   "metadata": {},
   "source": [
    "### Saving pkl "
   ]
  },
  {
   "cell_type": "code",
   "execution_count": 114,
   "id": "0fd5e66f-3947-4d68-a79b-8af04447c9ff",
   "metadata": {},
   "outputs": [
    {
     "data": {
      "text/html": [
       "<div>\n",
       "<style scoped>\n",
       "    .dataframe tbody tr th:only-of-type {\n",
       "        vertical-align: middle;\n",
       "    }\n",
       "\n",
       "    .dataframe tbody tr th {\n",
       "        vertical-align: top;\n",
       "    }\n",
       "\n",
       "    .dataframe thead th {\n",
       "        text-align: right;\n",
       "    }\n",
       "</style>\n",
       "<table border=\"1\" class=\"dataframe\">\n",
       "  <thead>\n",
       "    <tr style=\"text-align: right;\">\n",
       "      <th></th>\n",
       "      <th>index</th>\n",
       "      <th>count_nodes</th>\n",
       "    </tr>\n",
       "  </thead>\n",
       "  <tbody>\n",
       "    <tr>\n",
       "      <th>0</th>\n",
       "      <td>1</td>\n",
       "      <td>33930</td>\n",
       "    </tr>\n",
       "    <tr>\n",
       "      <th>1</th>\n",
       "      <td>2</td>\n",
       "      <td>30931</td>\n",
       "    </tr>\n",
       "    <tr>\n",
       "      <th>2</th>\n",
       "      <td>3</td>\n",
       "      <td>29823</td>\n",
       "    </tr>\n",
       "    <tr>\n",
       "      <th>3</th>\n",
       "      <td>4</td>\n",
       "      <td>28908</td>\n",
       "    </tr>\n",
       "    <tr>\n",
       "      <th>4</th>\n",
       "      <td>5</td>\n",
       "      <td>27755</td>\n",
       "    </tr>\n",
       "    <tr>\n",
       "      <th>5</th>\n",
       "      <td>6</td>\n",
       "      <td>27284</td>\n",
       "    </tr>\n",
       "    <tr>\n",
       "      <th>6</th>\n",
       "      <td>7</td>\n",
       "      <td>26126</td>\n",
       "    </tr>\n",
       "    <tr>\n",
       "      <th>7</th>\n",
       "      <td>8</td>\n",
       "      <td>25427</td>\n",
       "    </tr>\n",
       "    <tr>\n",
       "      <th>8</th>\n",
       "      <td>9</td>\n",
       "      <td>23866</td>\n",
       "    </tr>\n",
       "  </tbody>\n",
       "</table>\n",
       "</div>"
      ],
      "text/plain": [
       "  index  count_nodes\n",
       "0     1        33930\n",
       "1     2        30931\n",
       "2     3        29823\n",
       "3     4        28908\n",
       "4     5        27755\n",
       "5     6        27284\n",
       "6     7        26126\n",
       "7     8        25427\n",
       "8     9        23866"
      ]
     },
     "execution_count": 114,
     "metadata": {},
     "output_type": "execute_result"
    }
   ],
   "source": [
    "data_frame_docked['pose'].value_counts().reset_index(name = \"count_nodes\").sort_values('index')"
   ]
  },
  {
   "cell_type": "code",
   "execution_count": 115,
   "id": "3c1c8db7-fa57-45eb-9b68-d57ea6f29f18",
   "metadata": {},
   "outputs": [],
   "source": [
    "pdb = '4j28'\n",
    "pose = 7"
   ]
  },
  {
   "cell_type": "code",
   "execution_count": 116,
   "id": "6e08a590-ed3b-45f5-b4ac-df373133c46d",
   "metadata": {},
   "outputs": [],
   "source": [
    "ligand_path =   f\"{config.set}/{pdb}/results/pose_{pose}.pdb\"\n",
    "protein_path =  f\"{config.set}/{pdb}/{pdb}_protein_fixed.pdb\""
   ]
  },
  {
   "cell_type": "code",
   "execution_count": 117,
   "id": "68122fc4-c987-4da5-9049-22ff3744c941",
   "metadata": {},
   "outputs": [
    {
     "name": "stderr",
     "output_type": "stream",
     "text": [
      "[16:12:46] Explicit valence for atom # 0 N, 5, is greater than permitted\n"
     ]
    }
   ],
   "source": [
    "molecule = Chem.MolFromPDBFile(protein_path, removeHs=False)"
   ]
  },
  {
   "cell_type": "code",
   "execution_count": 118,
   "id": "dce3b71f-80bf-4aa7-9696-05a7a8fa08e2",
   "metadata": {},
   "outputs": [],
   "source": [
    "molecule"
   ]
  },
  {
   "cell_type": "code",
   "execution_count": 119,
   "id": "a7c764a0-10eb-4cfb-9516-960acf1c9e36",
   "metadata": {},
   "outputs": [
    {
     "data": {
      "text/plain": [
       "BipartiteData(edge_index=[2, 0], x_s=[0, 7], x_t=[0, 7], y=0.0, edge_attr=[0], num_nodes=0, pdb='3e93', pose=8)"
      ]
     },
     "execution_count": 119,
     "metadata": {},
     "output_type": "execute_result"
    }
   ],
   "source": [
    "dataset_list[2]"
   ]
  },
  {
   "cell_type": "code",
   "execution_count": 120,
   "id": "506b2277-d9e9-4423-9048-57a825eb1e24",
   "metadata": {},
   "outputs": [
    {
     "data": {
      "text/plain": [
       "BipartiteData(edge_index=[2, 0], x_s=[0, 7], x_t=[0, 7], y=0.0, edge_attr=[0], num_nodes=0, pdb='4kzu', pose=7)"
      ]
     },
     "execution_count": 120,
     "metadata": {},
     "output_type": "execute_result"
    }
   ],
   "source": [
    "dataset_list[6] # pose 1 "
   ]
  },
  {
   "cell_type": "code",
   "execution_count": 121,
   "id": "d6a59566-a52a-4860-a488-fc6ec6d8e7c3",
   "metadata": {},
   "outputs": [
    {
     "data": {
      "text/plain": [
       "[BipartiteData(edge_index=[2, 110], x_s=[110, 7], x_t=[110, 7], y=0.0, edge_attr=[110], num_nodes=220, pdb='1nc1', pose=5),\n",
       " BipartiteData(edge_index=[2, 62], x_s=[62, 7], x_t=[62, 7], y=0.0, edge_attr=[62], num_nodes=124, pdb='1w4o', pose=3),\n",
       " BipartiteData(edge_index=[2, 0], x_s=[0, 7], x_t=[0, 7], y=0.0, edge_attr=[0], num_nodes=0, pdb='3e93', pose=8),\n",
       " BipartiteData(edge_index=[2, 123], x_s=[123, 7], x_t=[123, 7], y=0.0, edge_attr=[123], num_nodes=246, pdb='3b5r', pose=6),\n",
       " BipartiteData(edge_index=[2, 80], x_s=[0, 7], x_t=[80, 7], y=0.0, edge_attr=[80], num_nodes=80, pdb='5c2h', pose=9),\n",
       " BipartiteData(edge_index=[2, 92], x_s=[92, 7], x_t=[92, 7], y=1.0, edge_attr=[92], num_nodes=184, pdb='1e66', pose=1),\n",
       " BipartiteData(edge_index=[2, 0], x_s=[0, 7], x_t=[0, 7], y=0.0, edge_attr=[0], num_nodes=0, pdb='4kzu', pose=7),\n",
       " BipartiteData(edge_index=[2, 0], x_s=[0, 7], x_t=[0, 7], y=0.0, edge_attr=[0], num_nodes=0, pdb='3g2n', pose=10),\n",
       " BipartiteData(edge_index=[2, 59], x_s=[59, 7], x_t=[59, 7], y=0.0, edge_attr=[59], num_nodes=118, pdb='3b27', pose=8),\n",
       " BipartiteData(edge_index=[2, 75], x_s=[75, 7], x_t=[75, 7], y=0.0, edge_attr=[75], num_nodes=150, pdb='1pxn', pose=4),\n",
       " BipartiteData(edge_index=[2, 79], x_s=[79, 7], x_t=[79, 7], y=0.0, edge_attr=[79], num_nodes=158, pdb='3d6q', pose=3),\n",
       " BipartiteData(edge_index=[2, 129], x_s=[129, 7], x_t=[0, 7], y=0.0, edge_attr=[129], num_nodes=129, pdb='4j28', pose=7),\n",
       " BipartiteData(edge_index=[2, 0], x_s=[0, 7], x_t=[0, 7], y=0.0, edge_attr=[0], num_nodes=0, pdb='3arp', pose=10),\n",
       " BipartiteData(edge_index=[2, 0], x_s=[0, 7], x_t=[0, 7], y=0.0, edge_attr=[0], num_nodes=0, pdb='3pyy', pose=10),\n",
       " BipartiteData(edge_index=[2, 102], x_s=[102, 7], x_t=[102, 7], y=0.0, edge_attr=[102], num_nodes=204, pdb='1mq6', pose=5),\n",
       " BipartiteData(edge_index=[2, 122], x_s=[122, 7], x_t=[122, 7], y=0.0, edge_attr=[122], num_nodes=244, pdb='3oe5', pose=3),\n",
       " BipartiteData(edge_index=[2, 149], x_s=[149, 7], x_t=[149, 7], y=0.0, edge_attr=[149], num_nodes=298, pdb='1g2k', pose=2),\n",
       " BipartiteData(edge_index=[2, 78], x_s=[78, 7], x_t=[78, 7], y=0.0, edge_attr=[78], num_nodes=156, pdb='3gy4', pose=3),\n",
       " BipartiteData(edge_index=[2, 59], x_s=[59, 7], x_t=[59, 7], y=0.0, edge_attr=[59], num_nodes=118, pdb='3d4z', pose=7),\n",
       " BipartiteData(edge_index=[2, 71], x_s=[71, 7], x_t=[71, 7], y=0.0, edge_attr=[71], num_nodes=142, pdb='4djv', pose=3),\n",
       " BipartiteData(edge_index=[2, 138], x_s=[138, 7], x_t=[138, 7], y=0.0, edge_attr=[138], num_nodes=276, pdb='2al5', pose=4),\n",
       " BipartiteData(edge_index=[2, 254], x_s=[254, 7], x_t=[0, 7], y=0.0, edge_attr=[254], num_nodes=254, pdb='1h22', pose=9),\n",
       " BipartiteData(edge_index=[2, 86], x_s=[86, 7], x_t=[86, 7], y=0.0, edge_attr=[86], num_nodes=172, pdb='4eor', pose=6),\n",
       " BipartiteData(edge_index=[2, 185], x_s=[185, 7], x_t=[0, 7], y=0.0, edge_attr=[185], num_nodes=185, pdb='4mgd', pose=4),\n",
       " BipartiteData(edge_index=[2, 0], x_s=[0, 7], x_t=[0, 7], y=0.0, edge_attr=[0], num_nodes=0, pdb='2vvn', pose=10),\n",
       " BipartiteData(edge_index=[2, 123], x_s=[123, 7], x_t=[123, 7], y=0.0, edge_attr=[123], num_nodes=246, pdb='2xii', pose=6),\n",
       " BipartiteData(edge_index=[2, 165], x_s=[165, 7], x_t=[0, 7], y=1.0, edge_attr=[165], num_nodes=165, pdb='3u5j', pose=1),\n",
       " BipartiteData(edge_index=[2, 247], x_s=[247, 7], x_t=[0, 7], y=0.0, edge_attr=[247], num_nodes=247, pdb='1oyt', pose=4),\n",
       " BipartiteData(edge_index=[2, 105], x_s=[105, 7], x_t=[0, 7], y=0.0, edge_attr=[105], num_nodes=105, pdb='2y5h', pose=8),\n",
       " BipartiteData(edge_index=[2, 277], x_s=[277, 7], x_t=[0, 7], y=1.0, edge_attr=[277], num_nodes=277, pdb='2v7a', pose=2),\n",
       " BipartiteData(edge_index=[2, 300], x_s=[300, 7], x_t=[0, 7], y=0.0, edge_attr=[300], num_nodes=300, pdb='2zda', pose=4),\n",
       " BipartiteData(edge_index=[2, 71], x_s=[71, 7], x_t=[71, 7], y=0.0, edge_attr=[71], num_nodes=142, pdb='3dx2', pose=5),\n",
       " BipartiteData(edge_index=[2, 46], x_s=[46, 7], x_t=[46, 7], y=0.0, edge_attr=[46], num_nodes=92, pdb='3g2z', pose=7),\n",
       " BipartiteData(edge_index=[2, 91], x_s=[91, 7], x_t=[91, 7], y=0.0, edge_attr=[91], num_nodes=182, pdb='1o0h', pose=6),\n",
       " BipartiteData(edge_index=[2, 0], x_s=[0, 7], x_t=[0, 7], y=0.0, edge_attr=[0], num_nodes=0, pdb='4w9i', pose=10),\n",
       " BipartiteData(edge_index=[2, 87], x_s=[87, 7], x_t=[87, 7], y=0.0, edge_attr=[87], num_nodes=174, pdb='4crc', pose=3),\n",
       " BipartiteData(edge_index=[2, 82], x_s=[82, 7], x_t=[82, 7], y=0.0, edge_attr=[82], num_nodes=164, pdb='4qd6', pose=8),\n",
       " BipartiteData(edge_index=[2, 0], x_s=[0, 7], x_t=[0, 7], y=0.0, edge_attr=[0], num_nodes=0, pdb='3fv2', pose=8),\n",
       " BipartiteData(edge_index=[2, 92], x_s=[92, 7], x_t=[92, 7], y=0.0, edge_attr=[92], num_nodes=184, pdb='4f3c', pose=4),\n",
       " BipartiteData(edge_index=[2, 45], x_s=[45, 7], x_t=[45, 7], y=0.0, edge_attr=[45], num_nodes=90, pdb='3uev', pose=1),\n",
       " BipartiteData(edge_index=[2, 102], x_s=[102, 7], x_t=[102, 7], y=0.0, edge_attr=[102], num_nodes=204, pdb='4twp', pose=1),\n",
       " BipartiteData(edge_index=[2, 80], x_s=[80, 7], x_t=[80, 7], y=0.0, edge_attr=[80], num_nodes=160, pdb='4cig', pose=2),\n",
       " BipartiteData(edge_index=[2, 97], x_s=[97, 7], x_t=[97, 7], y=0.0, edge_attr=[97], num_nodes=194, pdb='3pww', pose=8),\n",
       " BipartiteData(edge_index=[2, 92], x_s=[92, 7], x_t=[92, 7], y=0.0, edge_attr=[92], num_nodes=184, pdb='3dx1', pose=2),\n",
       " BipartiteData(edge_index=[2, 161], x_s=[161, 7], x_t=[0, 7], y=0.0, edge_attr=[161], num_nodes=161, pdb='2wnc', pose=9),\n",
       " BipartiteData(edge_index=[2, 0], x_s=[0, 7], x_t=[0, 7], y=0.0, edge_attr=[0], num_nodes=0, pdb='3dd0', pose=10),\n",
       " BipartiteData(edge_index=[2, 76], x_s=[76, 7], x_t=[76, 7], y=1.0, edge_attr=[76], num_nodes=152, pdb='4kzq', pose=1),\n",
       " BipartiteData(edge_index=[2, 68], x_s=[68, 7], x_t=[68, 7], y=0.0, edge_attr=[68], num_nodes=136, pdb='2j78', pose=3),\n",
       " BipartiteData(edge_index=[2, 0], x_s=[0, 7], x_t=[0, 7], y=0.0, edge_attr=[0], num_nodes=0, pdb='3acw', pose=8),\n",
       " BipartiteData(edge_index=[2, 69], x_s=[69, 7], x_t=[69, 7], y=0.0, edge_attr=[69], num_nodes=138, pdb='3qgy', pose=4),\n",
       " BipartiteData(edge_index=[2, 43], x_s=[43, 7], x_t=[43, 7], y=0.0, edge_attr=[43], num_nodes=86, pdb='4llx', pose=1),\n",
       " BipartiteData(edge_index=[2, 31], x_s=[31, 7], x_t=[31, 7], y=0.0, edge_attr=[31], num_nodes=62, pdb='4eo8', pose=6),\n",
       " BipartiteData(edge_index=[2, 67], x_s=[67, 7], x_t=[67, 7], y=0.0, edge_attr=[67], num_nodes=134, pdb='4mme', pose=3),\n",
       " BipartiteData(edge_index=[2, 87], x_s=[87, 7], x_t=[87, 7], y=0.0, edge_attr=[87], num_nodes=174, pdb='3f3e', pose=7),\n",
       " BipartiteData(edge_index=[2, 80], x_s=[80, 7], x_t=[80, 7], y=0.0, edge_attr=[80], num_nodes=160, pdb='3dxg', pose=2),\n",
       " BipartiteData(edge_index=[2, 127], x_s=[127, 7], x_t=[127, 7], y=0.0, edge_attr=[127], num_nodes=254, pdb='2al5', pose=2),\n",
       " BipartiteData(edge_index=[2, 112], x_s=[112, 7], x_t=[0, 7], y=0.0, edge_attr=[112], num_nodes=112, pdb='3ary', pose=8),\n",
       " BipartiteData(edge_index=[2, 40], x_s=[40, 7], x_t=[40, 7], y=0.0, edge_attr=[40], num_nodes=80, pdb='3uev', pose=8),\n",
       " BipartiteData(edge_index=[2, 90], x_s=[90, 7], x_t=[90, 7], y=0.0, edge_attr=[90], num_nodes=180, pdb='4crc', pose=5),\n",
       " BipartiteData(edge_index=[2, 59], x_s=[59, 7], x_t=[59, 7], y=1.0, edge_attr=[59], num_nodes=118, pdb='4u4s', pose=2),\n",
       " BipartiteData(edge_index=[2, 0], x_s=[0, 7], x_t=[0, 7], y=0.0, edge_attr=[0], num_nodes=0, pdb='3b5r', pose=10),\n",
       " BipartiteData(edge_index=[2, 84], x_s=[84, 7], x_t=[84, 7], y=0.0, edge_attr=[84], num_nodes=168, pdb='2cbv', pose=4),\n",
       " BipartiteData(edge_index=[2, 0], x_s=[0, 7], x_t=[0, 7], y=0.0, edge_attr=[0], num_nodes=0, pdb='1z9g', pose=10),\n",
       " BipartiteData(edge_index=[2, 271], x_s=[271, 7], x_t=[0, 7], y=0.0, edge_attr=[271], num_nodes=271, pdb='1h23', pose=7),\n",
       " BipartiteData(edge_index=[2, 99], x_s=[99, 7], x_t=[99, 7], y=0.0, edge_attr=[99], num_nodes=198, pdb='3ebp', pose=2),\n",
       " BipartiteData(edge_index=[2, 52], x_s=[52, 7], x_t=[52, 7], y=0.0, edge_attr=[52], num_nodes=104, pdb='3g2z', pose=6),\n",
       " BipartiteData(edge_index=[2, 115], x_s=[115, 7], x_t=[115, 7], y=0.0, edge_attr=[115], num_nodes=230, pdb='3oe5', pose=5),\n",
       " BipartiteData(edge_index=[2, 87], x_s=[87, 7], x_t=[87, 7], y=0.0, edge_attr=[87], num_nodes=174, pdb='3cj4', pose=4),\n",
       " BipartiteData(edge_index=[2, 143], x_s=[143, 7], x_t=[143, 7], y=0.0, edge_attr=[143], num_nodes=286, pdb='1nc3', pose=7),\n",
       " BipartiteData(edge_index=[2, 93], x_s=[93, 7], x_t=[93, 7], y=0.0, edge_attr=[93], num_nodes=186, pdb='4cr9', pose=6),\n",
       " BipartiteData(edge_index=[2, 259], x_s=[259, 7], x_t=[0, 7], y=0.0, edge_attr=[259], num_nodes=259, pdb='3arq', pose=6),\n",
       " BipartiteData(edge_index=[2, 141], x_s=[141, 7], x_t=[141, 7], y=0.0, edge_attr=[141], num_nodes=282, pdb='4gr0', pose=8),\n",
       " BipartiteData(edge_index=[2, 52], x_s=[52, 7], x_t=[52, 7], y=0.0, edge_attr=[52], num_nodes=104, pdb='2br1', pose=2),\n",
       " BipartiteData(edge_index=[2, 61], x_s=[61, 7], x_t=[61, 7], y=0.0, edge_attr=[61], num_nodes=122, pdb='3rlr', pose=2),\n",
       " BipartiteData(edge_index=[2, 77], x_s=[77, 7], x_t=[77, 7], y=0.0, edge_attr=[77], num_nodes=154, pdb='2xii', pose=9),\n",
       " BipartiteData(edge_index=[2, 74], x_s=[74, 7], x_t=[74, 7], y=0.0, edge_attr=[74], num_nodes=148, pdb='2yfe', pose=7),\n",
       " BipartiteData(edge_index=[2, 66], x_s=[66, 7], x_t=[66, 7], y=1.0, edge_attr=[66], num_nodes=132, pdb='3dd0', pose=3),\n",
       " BipartiteData(edge_index=[2, 128], x_s=[128, 7], x_t=[128, 7], y=0.0, edge_attr=[128], num_nodes=256, pdb='3coy', pose=9),\n",
       " BipartiteData(edge_index=[2, 156], x_s=[156, 7], x_t=[156, 7], y=0.0, edge_attr=[156], num_nodes=312, pdb='1y6r', pose=8),\n",
       " BipartiteData(edge_index=[2, 72], x_s=[72, 7], x_t=[72, 7], y=0.0, edge_attr=[72], num_nodes=144, pdb='1gpn', pose=1),\n",
       " BipartiteData(edge_index=[2, 96], x_s=[96, 7], x_t=[96, 7], y=0.0, edge_attr=[96], num_nodes=192, pdb='3wz8', pose=4),\n",
       " BipartiteData(edge_index=[2, 121], x_s=[121, 7], x_t=[0, 7], y=0.0, edge_attr=[121], num_nodes=121, pdb='3u8n', pose=4),\n",
       " BipartiteData(edge_index=[2, 41], x_s=[41, 7], x_t=[41, 7], y=0.0, edge_attr=[41], num_nodes=82, pdb='4ddh', pose=5),\n",
       " BipartiteData(edge_index=[2, 80], x_s=[80, 7], x_t=[80, 7], y=0.0, edge_attr=[80], num_nodes=160, pdb='1c5z', pose=1),\n",
       " BipartiteData(edge_index=[2, 57], x_s=[57, 7], x_t=[57, 7], y=0.0, edge_attr=[57], num_nodes=114, pdb='3d4z', pose=5),\n",
       " BipartiteData(edge_index=[2, 81], x_s=[81, 7], x_t=[81, 7], y=0.0, edge_attr=[81], num_nodes=162, pdb='4ea2', pose=2),\n",
       " BipartiteData(edge_index=[2, 133], x_s=[133, 7], x_t=[0, 7], y=0.0, edge_attr=[133], num_nodes=133, pdb='4qac', pose=5),\n",
       " BipartiteData(edge_index=[2, 47], x_s=[47, 7], x_t=[47, 7], y=0.0, edge_attr=[47], num_nodes=94, pdb='3aru', pose=7),\n",
       " BipartiteData(edge_index=[2, 50], x_s=[50, 7], x_t=[50, 7], y=0.0, edge_attr=[50], num_nodes=100, pdb='5a7b', pose=7),\n",
       " BipartiteData(edge_index=[2, 142], x_s=[142, 7], x_t=[142, 7], y=0.0, edge_attr=[142], num_nodes=284, pdb='3coz', pose=6),\n",
       " BipartiteData(edge_index=[2, 117], x_s=[117, 7], x_t=[0, 7], y=0.0, edge_attr=[117], num_nodes=117, pdb='2wn9', pose=9),\n",
       " BipartiteData(edge_index=[2, 0], x_s=[0, 7], x_t=[0, 7], y=0.0, edge_attr=[0], num_nodes=0, pdb='2qbp', pose=10),\n",
       " BipartiteData(edge_index=[2, 60], x_s=[60, 7], x_t=[60, 7], y=0.0, edge_attr=[60], num_nodes=120, pdb='4m0y', pose=5),\n",
       " BipartiteData(edge_index=[2, 0], x_s=[0, 7], x_t=[0, 7], y=0.0, edge_attr=[0], num_nodes=0, pdb='2weg', pose=10),\n",
       " BipartiteData(edge_index=[2, 58], x_s=[58, 7], x_t=[58, 7], y=0.0, edge_attr=[58], num_nodes=116, pdb='3zt2', pose=1),\n",
       " BipartiteData(edge_index=[2, 40], x_s=[40, 7], x_t=[40, 7], y=0.0, edge_attr=[40], num_nodes=80, pdb='4eo8', pose=4),\n",
       " BipartiteData(edge_index=[2, 104], x_s=[104, 7], x_t=[104, 7], y=0.0, edge_attr=[104], num_nodes=208, pdb='3up2', pose=1),\n",
       " BipartiteData(edge_index=[2, 76], x_s=[76, 7], x_t=[76, 7], y=0.0, edge_attr=[76], num_nodes=152, pdb='1pxn', pose=6),\n",
       " BipartiteData(edge_index=[2, 31], x_s=[31, 7], x_t=[31, 7], y=0.0, edge_attr=[31], num_nodes=62, pdb='3twp', pose=5),\n",
       " BipartiteData(edge_index=[2, 62], x_s=[62, 7], x_t=[62, 7], y=0.0, edge_attr=[62], num_nodes=124, pdb='4wiv', pose=9),\n",
       " BipartiteData(edge_index=[2, 110], x_s=[110, 7], x_t=[110, 7], y=0.0, edge_attr=[110], num_nodes=220, pdb='1owh', pose=2),\n",
       " BipartiteData(edge_index=[2, 0], x_s=[0, 7], x_t=[0, 7], y=0.0, edge_attr=[0], num_nodes=0, pdb='4e5w', pose=7),\n",
       " BipartiteData(edge_index=[2, 121], x_s=[121, 7], x_t=[121, 7], y=0.0, edge_attr=[121], num_nodes=242, pdb='1owh', pose=1),\n",
       " BipartiteData(edge_index=[2, 55], x_s=[55, 7], x_t=[55, 7], y=0.0, edge_attr=[55], num_nodes=110, pdb='2zy1', pose=5),\n",
       " BipartiteData(edge_index=[2, 76], x_s=[76, 7], x_t=[76, 7], y=0.0, edge_attr=[76], num_nodes=152, pdb='4ivc', pose=9),\n",
       " BipartiteData(edge_index=[2, 71], x_s=[71, 7], x_t=[71, 7], y=0.0, edge_attr=[71], num_nodes=142, pdb='1z9g', pose=6),\n",
       " BipartiteData(edge_index=[2, 64], x_s=[64, 7], x_t=[64, 7], y=0.0, edge_attr=[64], num_nodes=128, pdb='1w4o', pose=8),\n",
       " BipartiteData(edge_index=[2, 62], x_s=[62, 7], x_t=[62, 7], y=0.0, edge_attr=[62], num_nodes=124, pdb='4ih5', pose=7),\n",
       " BipartiteData(edge_index=[2, 101], x_s=[101, 7], x_t=[101, 7], y=0.0, edge_attr=[101], num_nodes=202, pdb='4tmn', pose=3),\n",
       " BipartiteData(edge_index=[2, 95], x_s=[95, 7], x_t=[95, 7], y=0.0, edge_attr=[95], num_nodes=190, pdb='3e5a', pose=3),\n",
       " BipartiteData(edge_index=[2, 224], x_s=[224, 7], x_t=[0, 7], y=1.0, edge_attr=[224], num_nodes=224, pdb='2qe4', pose=1),\n",
       " BipartiteData(edge_index=[2, 78], x_s=[78, 7], x_t=[78, 7], y=0.0, edge_attr=[78], num_nodes=156, pdb='2qbq', pose=2),\n",
       " BipartiteData(edge_index=[2, 119], x_s=[119, 7], x_t=[119, 7], y=0.0, edge_attr=[119], num_nodes=238, pdb='4dld', pose=2),\n",
       " BipartiteData(edge_index=[2, 0], x_s=[0, 7], x_t=[0, 7], y=0.0, edge_attr=[0], num_nodes=0, pdb='2r9w', pose=10),\n",
       " BipartiteData(edge_index=[2, 0], x_s=[0, 7], x_t=[0, 7], y=0.0, edge_attr=[0], num_nodes=0, pdb='2fvd', pose=10),\n",
       " BipartiteData(edge_index=[2, 239], x_s=[239, 7], x_t=[0, 7], y=0.0, edge_attr=[239], num_nodes=239, pdb='4mgd', pose=7),\n",
       " BipartiteData(edge_index=[2, 95], x_s=[95, 7], x_t=[0, 7], y=0.0, edge_attr=[95], num_nodes=95, pdb='3ary', pose=9),\n",
       " BipartiteData(edge_index=[2, 48], x_s=[48, 7], x_t=[48, 7], y=0.0, edge_attr=[48], num_nodes=96, pdb='3lka', pose=9),\n",
       " BipartiteData(edge_index=[2, 182], x_s=[182, 7], x_t=[0, 7], y=0.0, edge_attr=[182], num_nodes=182, pdb='1gpk', pose=5),\n",
       " BipartiteData(edge_index=[2, 73], x_s=[73, 7], x_t=[73, 7], y=0.0, edge_attr=[73], num_nodes=146, pdb='3nx7', pose=5),\n",
       " BipartiteData(edge_index=[2, 264], x_s=[264, 7], x_t=[0, 7], y=1.0, edge_attr=[264], num_nodes=264, pdb='4w9l', pose=2),\n",
       " BipartiteData(edge_index=[2, 154], x_s=[154, 7], x_t=[0, 7], y=0.0, edge_attr=[154], num_nodes=154, pdb='3rr4', pose=5),\n",
       " BipartiteData(edge_index=[2, 69], x_s=[69, 7], x_t=[69, 7], y=0.0, edge_attr=[69], num_nodes=138, pdb='2v00', pose=5),\n",
       " BipartiteData(edge_index=[2, 117], x_s=[117, 7], x_t=[117, 7], y=0.0, edge_attr=[117], num_nodes=234, pdb='1sqa', pose=5),\n",
       " BipartiteData(edge_index=[2, 40], x_s=[40, 7], x_t=[40, 7], y=0.0, edge_attr=[40], num_nodes=80, pdb='3ueu', pose=9),\n",
       " BipartiteData(edge_index=[2, 117], x_s=[117, 7], x_t=[117, 7], y=0.0, edge_attr=[117], num_nodes=234, pdb='3ozt', pose=8),\n",
       " BipartiteData(edge_index=[2, 64], x_s=[64, 7], x_t=[64, 7], y=0.0, edge_attr=[64], num_nodes=128, pdb='1ydt', pose=6),\n",
       " BipartiteData(edge_index=[2, 195], x_s=[195, 7], x_t=[0, 7], y=0.0, edge_attr=[195], num_nodes=195, pdb='2v7a', pose=5),\n",
       " BipartiteData(edge_index=[2, 62], x_s=[62, 7], x_t=[62, 7], y=0.0, edge_attr=[62], num_nodes=124, pdb='1uto', pose=3),\n",
       " BipartiteData(edge_index=[2, 45], x_s=[45, 7], x_t=[45, 7], y=0.0, edge_attr=[45], num_nodes=90, pdb='3uew', pose=8),\n",
       " BipartiteData(edge_index=[2, 107], x_s=[107, 7], x_t=[107, 7], y=0.0, edge_attr=[107], num_nodes=214, pdb='3g2n', pose=3),\n",
       " BipartiteData(edge_index=[2, 112], x_s=[112, 7], x_t=[112, 7], y=0.0, edge_attr=[112], num_nodes=224, pdb='2vvn', pose=6),\n",
       " BipartiteData(edge_index=[2, 44], x_s=[44, 7], x_t=[44, 7], y=0.0, edge_attr=[44], num_nodes=88, pdb='2weg', pose=7),\n",
       " BipartiteData(edge_index=[2, 0], x_s=[0, 7], x_t=[0, 7], y=0.0, edge_attr=[0], num_nodes=0, pdb='3nx7', pose=10),\n",
       " BipartiteData(edge_index=[2, 52], x_s=[52, 7], x_t=[52, 7], y=0.0, edge_attr=[52], num_nodes=104, pdb='5c28', pose=8),\n",
       " BipartiteData(edge_index=[2, 46], x_s=[46, 7], x_t=[46, 7], y=0.0, edge_attr=[46], num_nodes=92, pdb='3pxf', pose=4),\n",
       " BipartiteData(edge_index=[2, 89], x_s=[89, 7], x_t=[89, 7], y=0.0, edge_attr=[89], num_nodes=178, pdb='2zcr', pose=4),\n",
       " BipartiteData(edge_index=[2, 0], x_s=[0, 7], x_t=[0, 7], y=0.0, edge_attr=[0], num_nodes=0, pdb='3tsk', pose=10),\n",
       " BipartiteData(edge_index=[2, 117], x_s=[117, 7], x_t=[117, 7], y=0.0, edge_attr=[117], num_nodes=234, pdb='1o3f', pose=3),\n",
       " BipartiteData(edge_index=[2, 142], x_s=[142, 7], x_t=[142, 7], y=0.0, edge_attr=[142], num_nodes=284, pdb='3pww', pose=6),\n",
       " BipartiteData(edge_index=[2, 150], x_s=[150, 7], x_t=[150, 7], y=0.0, edge_attr=[150], num_nodes=300, pdb='4gr0', pose=4),\n",
       " BipartiteData(edge_index=[2, 98], x_s=[98, 7], x_t=[98, 7], y=0.0, edge_attr=[98], num_nodes=196, pdb='2p4y', pose=6),\n",
       " BipartiteData(edge_index=[2, 129], x_s=[129, 7], x_t=[0, 7], y=0.0, edge_attr=[129], num_nodes=129, pdb='3ary', pose=2),\n",
       " BipartiteData(edge_index=[2, 90], x_s=[90, 7], x_t=[90, 7], y=0.0, edge_attr=[90], num_nodes=180, pdb='1o0h', pose=9),\n",
       " BipartiteData(edge_index=[2, 72], x_s=[72, 7], x_t=[72, 7], y=0.0, edge_attr=[72], num_nodes=144, pdb='2xys', pose=4),\n",
       " BipartiteData(edge_index=[2, 45], x_s=[45, 7], x_t=[45, 7], y=0.0, edge_attr=[45], num_nodes=90, pdb='2hb1', pose=9),\n",
       " BipartiteData(edge_index=[2, 93], x_s=[93, 7], x_t=[93, 7], y=1.0, edge_attr=[93], num_nodes=186, pdb='2p15', pose=1),\n",
       " BipartiteData(edge_index=[2, 244], x_s=[244, 7], x_t=[0, 7], y=0.0, edge_attr=[244], num_nodes=244, pdb='4k18', pose=3),\n",
       " BipartiteData(edge_index=[2, 0], x_s=[0, 7], x_t=[0, 7], y=0.0, edge_attr=[0], num_nodes=0, pdb='1o5b', pose=10),\n",
       " BipartiteData(edge_index=[2, 68], x_s=[68, 7], x_t=[68, 7], y=0.0, edge_attr=[68], num_nodes=136, pdb='4ea2', pose=5),\n",
       " BipartiteData(edge_index=[2, 82], x_s=[82, 7], x_t=[82, 7], y=0.0, edge_attr=[82], num_nodes=164, pdb='1bcu', pose=2),\n",
       " BipartiteData(edge_index=[2, 222], x_s=[222, 7], x_t=[222, 7], y=0.0, edge_attr=[222], num_nodes=444, pdb='3ag9', pose=1),\n",
       " BipartiteData(edge_index=[2, 155], x_s=[155, 7], x_t=[155, 7], y=0.0, edge_attr=[155], num_nodes=310, pdb='3coz', pose=3),\n",
       " BipartiteData(edge_index=[2, 0], x_s=[0, 7], x_t=[0, 7], y=0.0, edge_attr=[0], num_nodes=0, pdb='1qf1', pose=10),\n",
       " BipartiteData(edge_index=[2, 60], x_s=[60, 7], x_t=[60, 7], y=0.0, edge_attr=[60], num_nodes=120, pdb='4hge', pose=7),\n",
       " BipartiteData(edge_index=[2, 76], x_s=[76, 7], x_t=[76, 7], y=0.0, edge_attr=[76], num_nodes=152, pdb='2qbq', pose=4),\n",
       " BipartiteData(edge_index=[2, 146], x_s=[146, 7], x_t=[0, 7], y=0.0, edge_attr=[146], num_nodes=146, pdb='2j7h', pose=6),\n",
       " BipartiteData(edge_index=[2, 176], x_s=[176, 7], x_t=[0, 7], y=0.0, edge_attr=[176], num_nodes=176, pdb='4w9h', pose=4),\n",
       " BipartiteData(edge_index=[2, 0], x_s=[0, 7], x_t=[0, 7], y=0.0, edge_attr=[0], num_nodes=0, pdb='1p1n', pose=10),\n",
       " BipartiteData(edge_index=[2, 87], x_s=[87, 7], x_t=[87, 7], y=0.0, edge_attr=[87], num_nodes=174, pdb='3f3e', pose=6),\n",
       " BipartiteData(edge_index=[2, 77], x_s=[77, 7], x_t=[77, 7], y=0.0, edge_attr=[77], num_nodes=154, pdb='3ivg', pose=3),\n",
       " BipartiteData(edge_index=[2, 134], x_s=[134, 7], x_t=[134, 7], y=0.0, edge_attr=[134], num_nodes=268, pdb='3coy', pose=8),\n",
       " BipartiteData(edge_index=[2, 102], x_s=[102, 7], x_t=[102, 7], y=0.0, edge_attr=[102], num_nodes=204, pdb='1o0h', pose=4),\n",
       " BipartiteData(edge_index=[2, 0], x_s=[0, 7], x_t=[0, 7], y=0.0, edge_attr=[0], num_nodes=0, pdb='1nc3', pose=10),\n",
       " BipartiteData(edge_index=[2, 0], x_s=[0, 7], x_t=[0, 7], y=0.0, edge_attr=[0], num_nodes=0, pdb='1y6r', pose=10),\n",
       " BipartiteData(edge_index=[2, 65], x_s=[65, 7], x_t=[65, 7], y=0.0, edge_attr=[65], num_nodes=130, pdb='3zdg', pose=9),\n",
       " BipartiteData(edge_index=[2, 46], x_s=[46, 7], x_t=[46, 7], y=0.0, edge_attr=[46], num_nodes=92, pdb='3uew', pose=6),\n",
       " BipartiteData(edge_index=[2, 114], x_s=[114, 7], x_t=[114, 7], y=1.0, edge_attr=[114], num_nodes=228, pdb='2xj7', pose=1),\n",
       " BipartiteData(edge_index=[2, 63], x_s=[63, 7], x_t=[63, 7], y=0.0, edge_attr=[63], num_nodes=126, pdb='2fvd', pose=9),\n",
       " BipartiteData(edge_index=[2, 200], x_s=[200, 7], x_t=[0, 7], y=0.0, edge_attr=[200], num_nodes=200, pdb='4qac', pose=7),\n",
       " BipartiteData(edge_index=[2, 0], x_s=[0, 7], x_t=[0, 7], y=0.0, edge_attr=[0], num_nodes=0, pdb='2xys', pose=10),\n",
       " BipartiteData(edge_index=[2, 41], x_s=[41, 7], x_t=[41, 7], y=0.0, edge_attr=[41], num_nodes=82, pdb='2weg', pose=9),\n",
       " BipartiteData(edge_index=[2, 0], x_s=[0, 7], x_t=[0, 7], y=0.0, edge_attr=[0], num_nodes=0, pdb='2v7a', pose=10),\n",
       " BipartiteData(edge_index=[2, 99], x_s=[99, 7], x_t=[99, 7], y=0.0, edge_attr=[99], num_nodes=198, pdb='4cra', pose=5),\n",
       " BipartiteData(edge_index=[2, 57], x_s=[57, 7], x_t=[57, 7], y=0.0, edge_attr=[57], num_nodes=114, pdb='4ih5', pose=1),\n",
       " BipartiteData(edge_index=[2, 42], x_s=[42, 7], x_t=[42, 7], y=0.0, edge_attr=[42], num_nodes=84, pdb='3fcq', pose=4),\n",
       " BipartiteData(edge_index=[2, 47], x_s=[47, 7], x_t=[47, 7], y=0.0, edge_attr=[47], num_nodes=94, pdb='4owm', pose=7),\n",
       " BipartiteData(edge_index=[2, 0], x_s=[0, 7], x_t=[0, 7], y=0.0, edge_attr=[0], num_nodes=0, pdb='2pog', pose=5),\n",
       " BipartiteData(edge_index=[2, 0], x_s=[0, 7], x_t=[0, 7], y=0.0, edge_attr=[0], num_nodes=0, pdb='1z95', pose=5),\n",
       " BipartiteData(edge_index=[2, 53], x_s=[53, 7], x_t=[53, 7], y=0.0, edge_attr=[53], num_nodes=106, pdb='4f9w', pose=2),\n",
       " BipartiteData(edge_index=[2, 54], x_s=[54, 7], x_t=[54, 7], y=0.0, edge_attr=[54], num_nodes=108, pdb='3p5o', pose=5),\n",
       " BipartiteData(edge_index=[2, 472], x_s=[472, 7], x_t=[0, 7], y=0.0, edge_attr=[472], num_nodes=472, pdb='2vkm', pose=1),\n",
       " BipartiteData(edge_index=[2, 204], x_s=[204, 7], x_t=[0, 7], y=0.0, edge_attr=[204], num_nodes=204, pdb='3rr4', pose=6),\n",
       " BipartiteData(edge_index=[2, 68], x_s=[68, 7], x_t=[68, 7], y=0.0, edge_attr=[68], num_nodes=136, pdb='1o3f', pose=7),\n",
       " BipartiteData(edge_index=[2, 35], x_s=[35, 7], x_t=[35, 7], y=0.0, edge_attr=[35], num_nodes=70, pdb='3gv9', pose=1),\n",
       " BipartiteData(edge_index=[2, 198], x_s=[198, 7], x_t=[0, 7], y=0.0, edge_attr=[198], num_nodes=198, pdb='2wer', pose=9),\n",
       " BipartiteData(edge_index=[2, 295], x_s=[295, 7], x_t=[0, 7], y=0.0, edge_attr=[295], num_nodes=295, pdb='1h22', pose=3),\n",
       " BipartiteData(edge_index=[2, 260], x_s=[260, 7], x_t=[0, 7], y=0.0, edge_attr=[260], num_nodes=260, pdb='2xb8', pose=6),\n",
       " BipartiteData(edge_index=[2, 360], x_s=[360, 7], x_t=[0, 7], y=1.0, edge_attr=[360], num_nodes=360, pdb='3n86', pose=2),\n",
       " BipartiteData(edge_index=[2, 74], x_s=[74, 7], x_t=[74, 7], y=0.0, edge_attr=[74], num_nodes=148, pdb='3gnw', pose=6),\n",
       " BipartiteData(edge_index=[2, 135], x_s=[135, 7], x_t=[135, 7], y=0.0, edge_attr=[135], num_nodes=270, pdb='3tsk', pose=9),\n",
       " BipartiteData(edge_index=[2, 76], x_s=[76, 7], x_t=[76, 7], y=0.0, edge_attr=[76], num_nodes=152, pdb='4de1', pose=3),\n",
       " BipartiteData(edge_index=[2, 81], x_s=[81, 7], x_t=[81, 7], y=0.0, edge_attr=[81], num_nodes=162, pdb='2wca', pose=3),\n",
       " BipartiteData(edge_index=[2, 98], x_s=[98, 7], x_t=[98, 7], y=0.0, edge_attr=[98], num_nodes=196, pdb='4rfm', pose=8),\n",
       " BipartiteData(edge_index=[2, 86], x_s=[86, 7], x_t=[86, 7], y=0.0, edge_attr=[86], num_nodes=172, pdb='4dld', pose=7),\n",
       " BipartiteData(edge_index=[2, 125], x_s=[125, 7], x_t=[125, 7], y=0.0, edge_attr=[125], num_nodes=250, pdb='3oe5', pose=8),\n",
       " BipartiteData(edge_index=[2, 74], x_s=[74, 7], x_t=[74, 7], y=0.0, edge_attr=[74], num_nodes=148, pdb='3nx7', pose=9),\n",
       " BipartiteData(edge_index=[2, 0], x_s=[0, 7], x_t=[0, 7], y=0.0, edge_attr=[0], num_nodes=0, pdb='2p15', pose=8),\n",
       " BipartiteData(edge_index=[2, 0], x_s=[0, 7], x_t=[0, 7], y=0.0, edge_attr=[0], num_nodes=0, pdb='3bv9', pose=10),\n",
       " BipartiteData(edge_index=[2, 77], x_s=[77, 7], x_t=[77, 7], y=0.0, edge_attr=[77], num_nodes=154, pdb='3nx7', pose=7),\n",
       " BipartiteData(edge_index=[2, 110], x_s=[110, 7], x_t=[110, 7], y=1.0, edge_attr=[110], num_nodes=220, pdb='3zso', pose=1),\n",
       " BipartiteData(edge_index=[2, 63], x_s=[63, 7], x_t=[63, 7], y=0.0, edge_attr=[63], num_nodes=126, pdb='3qqs', pose=8),\n",
       " BipartiteData(edge_index=[2, 40], x_s=[40, 7], x_t=[40, 7], y=0.0, edge_attr=[40], num_nodes=80, pdb='3jvr', pose=9),\n",
       " BipartiteData(edge_index=[2, 315], x_s=[315, 7], x_t=[0, 7], y=0.0, edge_attr=[315], num_nodes=315, pdb='3n76', pose=2),\n",
       " BipartiteData(edge_index=[2, 70], x_s=[70, 7], x_t=[70, 7], y=0.0, edge_attr=[70], num_nodes=140, pdb='4de1', pose=6),\n",
       " BipartiteData(edge_index=[2, 0], x_s=[0, 7], x_t=[0, 7], y=0.0, edge_attr=[0], num_nodes=0, pdb='4lzs', pose=10),\n",
       " BipartiteData(edge_index=[2, 84], x_s=[84, 7], x_t=[84, 7], y=0.0, edge_attr=[84], num_nodes=168, pdb='3uo4', pose=6),\n",
       " BipartiteData(edge_index=[2, 45], x_s=[45, 7], x_t=[45, 7], y=0.0, edge_attr=[45], num_nodes=90, pdb='4kz6', pose=7),\n",
       " BipartiteData(edge_index=[2, 58], x_s=[58, 7], x_t=[58, 7], y=1.0, edge_attr=[58], num_nodes=116, pdb='2hb1', pose=2),\n",
       " BipartiteData(edge_index=[2, 65], x_s=[65, 7], x_t=[65, 7], y=0.0, edge_attr=[65], num_nodes=130, pdb='4cr9', pose=8),\n",
       " BipartiteData(edge_index=[2, 27], x_s=[27, 7], x_t=[27, 7], y=0.0, edge_attr=[27], num_nodes=54, pdb='3nq9', pose=8),\n",
       " BipartiteData(edge_index=[2, 0], x_s=[0, 7], x_t=[0, 7], y=0.0, edge_attr=[0], num_nodes=0, pdb='3fv2', pose=4),\n",
       " BipartiteData(edge_index=[2, 204], x_s=[204, 7], x_t=[0, 7], y=1.0, edge_attr=[204], num_nodes=204, pdb='2j7h', pose=3),\n",
       " BipartiteData(edge_index=[2, 137], x_s=[137, 7], x_t=[137, 7], y=0.0, edge_attr=[137], num_nodes=274, pdb='3oe4', pose=6),\n",
       " BipartiteData(edge_index=[2, 116], x_s=[116, 7], x_t=[116, 7], y=0.0, edge_attr=[116], num_nodes=232, pdb='1z6e', pose=5),\n",
       " BipartiteData(edge_index=[2, 64], x_s=[64, 7], x_t=[64, 7], y=0.0, edge_attr=[64], num_nodes=128, pdb='1gpn', pose=9),\n",
       " BipartiteData(edge_index=[2, 80], x_s=[80, 7], x_t=[80, 7], y=0.0, edge_attr=[80], num_nodes=160, pdb='1mq6', pose=8),\n",
       " BipartiteData(edge_index=[2, 51], x_s=[51, 7], x_t=[51, 7], y=0.0, edge_attr=[51], num_nodes=102, pdb='3pxf', pose=2),\n",
       " BipartiteData(edge_index=[2, 56], x_s=[56, 7], x_t=[56, 7], y=0.0, edge_attr=[56], num_nodes=112, pdb='2vvn', pose=8),\n",
       " BipartiteData(edge_index=[2, 42], x_s=[42, 7], x_t=[42, 7], y=0.0, edge_attr=[42], num_nodes=84, pdb='4ddk', pose=5),\n",
       " BipartiteData(edge_index=[2, 91], x_s=[91, 7], x_t=[91, 7], y=0.0, edge_attr=[91], num_nodes=182, pdb='3e5a', pose=5),\n",
       " BipartiteData(edge_index=[2, 0], x_s=[0, 7], x_t=[0, 7], y=0.0, edge_attr=[0], num_nodes=0, pdb='3fv2', pose=9),\n",
       " BipartiteData(edge_index=[2, 76], x_s=[76, 7], x_t=[76, 7], y=0.0, edge_attr=[76], num_nodes=152, pdb='1q8t', pose=1),\n",
       " BipartiteData(edge_index=[2, 104], x_s=[104, 7], x_t=[104, 7], y=0.0, edge_attr=[104], num_nodes=208, pdb='3b65', pose=5),\n",
       " BipartiteData(edge_index=[2, 60], x_s=[60, 7], x_t=[60, 7], y=0.0, edge_attr=[60], num_nodes=120, pdb='2yfe', pose=3),\n",
       " BipartiteData(edge_index=[2, 107], x_s=[107, 7], x_t=[107, 7], y=0.0, edge_attr=[107], num_nodes=214, pdb='2yki', pose=2),\n",
       " BipartiteData(edge_index=[2, 34], x_s=[34, 7], x_t=[34, 7], y=0.0, edge_attr=[34], num_nodes=68, pdb='3uev', pose=9),\n",
       " BipartiteData(edge_index=[2, 42], x_s=[42, 7], x_t=[42, 7], y=0.0, edge_attr=[42], num_nodes=84, pdb='4jsz', pose=4),\n",
       " BipartiteData(edge_index=[2, 54], x_s=[54, 7], x_t=[54, 7], y=0.0, edge_attr=[54], num_nodes=108, pdb='4djv', pose=7),\n",
       " BipartiteData(edge_index=[2, 103], x_s=[103, 7], x_t=[103, 7], y=0.0, edge_attr=[103], num_nodes=206, pdb='4crc', pose=4),\n",
       " BipartiteData(edge_index=[2, 223], x_s=[223, 7], x_t=[0, 7], y=0.0, edge_attr=[223], num_nodes=223, pdb='3ryj', pose=1),\n",
       " BipartiteData(edge_index=[2, 126], x_s=[126, 7], x_t=[126, 7], y=0.0, edge_attr=[126], num_nodes=252, pdb='3coz', pose=7),\n",
       " BipartiteData(edge_index=[2, 46], x_s=[46, 7], x_t=[46, 7], y=0.0, edge_attr=[46], num_nodes=92, pdb='2brb', pose=9),\n",
       " BipartiteData(edge_index=[2, 49], x_s=[49, 7], x_t=[49, 7], y=0.0, edge_attr=[49], num_nodes=98, pdb='1c5z', pose=8),\n",
       " BipartiteData(edge_index=[2, 57], x_s=[57, 7], x_t=[57, 7], y=0.0, edge_attr=[57], num_nodes=114, pdb='4gkm', pose=8),\n",
       " BipartiteData(edge_index=[2, 0], x_s=[0, 7], x_t=[0, 7], y=0.0, edge_attr=[0], num_nodes=0, pdb='3r88', pose=10),\n",
       " BipartiteData(edge_index=[2, 68], x_s=[68, 7], x_t=[68, 7], y=0.0, edge_attr=[68], num_nodes=136, pdb='5tmn', pose=4),\n",
       " BipartiteData(edge_index=[2, 61], x_s=[61, 7], x_t=[61, 7], y=0.0, edge_attr=[61], num_nodes=122, pdb='4jxs', pose=8),\n",
       " BipartiteData(edge_index=[2, 67], x_s=[67, 7], x_t=[67, 7], y=0.0, edge_attr=[67], num_nodes=134, pdb='2zcq', pose=1),\n",
       " BipartiteData(edge_index=[2, 37], x_s=[37, 7], x_t=[37, 7], y=0.0, edge_attr=[37], num_nodes=74, pdb='3fcq', pose=6),\n",
       " BipartiteData(edge_index=[2, 220], x_s=[220, 7], x_t=[0, 7], y=0.0, edge_attr=[220], num_nodes=220, pdb='3k5v', pose=9),\n",
       " BipartiteData(edge_index=[2, 102], x_s=[102, 7], x_t=[102, 7], y=0.0, edge_attr=[102], num_nodes=204, pdb='1z6e', pose=9),\n",
       " BipartiteData(edge_index=[2, 64], x_s=[64, 7], x_t=[64, 7], y=0.0, edge_attr=[64], num_nodes=128, pdb='5dwr', pose=4),\n",
       " BipartiteData(edge_index=[2, 0], x_s=[0, 7], x_t=[0, 7], y=0.0, edge_attr=[0], num_nodes=0, pdb='3u8n', pose=8),\n",
       " BipartiteData(edge_index=[2, 0], x_s=[0, 7], x_t=[0, 7], y=0.0, edge_attr=[0], num_nodes=0, pdb='4kzu', pose=5),\n",
       " BipartiteData(edge_index=[2, 91], x_s=[91, 7], x_t=[91, 7], y=0.0, edge_attr=[91], num_nodes=182, pdb='5a7b', pose=4),\n",
       " BipartiteData(edge_index=[2, 52], x_s=[52, 7], x_t=[52, 7], y=0.0, edge_attr=[52], num_nodes=104, pdb='1ydr', pose=7),\n",
       " BipartiteData(edge_index=[2, 64], x_s=[64, 7], x_t=[64, 7], y=0.0, edge_attr=[64], num_nodes=128, pdb='2brb', pose=4),\n",
       " BipartiteData(edge_index=[2, 75], x_s=[75, 7], x_t=[75, 7], y=1.0, edge_attr=[75], num_nodes=150, pdb='4ivc', pose=2),\n",
       " BipartiteData(edge_index=[2, 0], x_s=[0, 7], x_t=[0, 7], y=0.0, edge_attr=[0], num_nodes=0, pdb='4f09', pose=10),\n",
       " BipartiteData(edge_index=[2, 54], x_s=[54, 7], x_t=[54, 7], y=0.0, edge_attr=[54], num_nodes=108, pdb='2c3i', pose=7),\n",
       " BipartiteData(edge_index=[2, 110], x_s=[110, 7], x_t=[110, 7], y=0.0, edge_attr=[110], num_nodes=220, pdb='3up2', pose=8),\n",
       " BipartiteData(edge_index=[2, 316], x_s=[316, 7], x_t=[0, 7], y=0.0, edge_attr=[316], num_nodes=316, pdb='3k5v', pose=3),\n",
       " BipartiteData(edge_index=[2, 75], x_s=[75, 7], x_t=[75, 7], y=0.0, edge_attr=[75], num_nodes=150, pdb='1ydt', pose=3),\n",
       " BipartiteData(edge_index=[2, 216], x_s=[216, 7], x_t=[0, 7], y=0.0, edge_attr=[216], num_nodes=216, pdb='3ryj', pose=4),\n",
       " BipartiteData(edge_index=[2, 37], x_s=[37, 7], x_t=[37, 7], y=0.0, edge_attr=[37], num_nodes=74, pdb='3fcq', pose=5),\n",
       " BipartiteData(edge_index=[2, 54], x_s=[54, 7], x_t=[54, 7], y=0.0, edge_attr=[54], num_nodes=108, pdb='3qqs', pose=5),\n",
       " BipartiteData(edge_index=[2, 52], x_s=[52, 7], x_t=[52, 7], y=0.0, edge_attr=[52], num_nodes=104, pdb='4wiv', pose=2),\n",
       " BipartiteData(edge_index=[2, 118], x_s=[118, 7], x_t=[0, 7], y=0.0, edge_attr=[118], num_nodes=118, pdb='3ary', pose=5),\n",
       " BipartiteData(edge_index=[2, 100], x_s=[100, 7], x_t=[100, 7], y=0.0, edge_attr=[100], num_nodes=200, pdb='3oe5', pose=6),\n",
       " BipartiteData(edge_index=[2, 0], x_s=[0, 7], x_t=[0, 7], y=0.0, edge_attr=[0], num_nodes=0, pdb='1k1i', pose=10),\n",
       " BipartiteData(edge_index=[2, 65], x_s=[65, 7], x_t=[65, 7], y=0.0, edge_attr=[65], num_nodes=130, pdb='2cbv', pose=8),\n",
       " BipartiteData(edge_index=[2, 76], x_s=[76, 7], x_t=[76, 7], y=0.0, edge_attr=[76], num_nodes=152, pdb='4hge', pose=8),\n",
       " BipartiteData(edge_index=[2, 105], x_s=[105, 7], x_t=[105, 7], y=0.0, edge_attr=[105], num_nodes=210, pdb='3fur', pose=6),\n",
       " BipartiteData(edge_index=[2, 0], x_s=[0, 7], x_t=[0, 7], y=0.0, edge_attr=[0], num_nodes=0, pdb='5aba', pose=10),\n",
       " BipartiteData(edge_index=[2, 106], x_s=[106, 7], x_t=[106, 7], y=0.0, edge_attr=[106], num_nodes=212, pdb='2qnq', pose=7),\n",
       " BipartiteData(edge_index=[2, 51], x_s=[51, 7], x_t=[51, 7], y=0.0, edge_attr=[51], num_nodes=102, pdb='1uto', pose=5),\n",
       " BipartiteData(edge_index=[2, 85], x_s=[85, 7], x_t=[85, 7], y=0.0, edge_attr=[85], num_nodes=170, pdb='1owh', pose=9),\n",
       " BipartiteData(edge_index=[2, 93], x_s=[93, 7], x_t=[93, 7], y=0.0, edge_attr=[93], num_nodes=186, pdb='3ao4', pose=1),\n",
       " BipartiteData(edge_index=[2, 111], x_s=[111, 7], x_t=[0, 7], y=0.0, edge_attr=[111], num_nodes=111, pdb='3u5j', pose=9),\n",
       " BipartiteData(edge_index=[2, 177], x_s=[177, 7], x_t=[0, 7], y=0.0, edge_attr=[177], num_nodes=177, pdb='2x00', pose=5),\n",
       " BipartiteData(edge_index=[2, 196], x_s=[196, 7], x_t=[0, 7], y=0.0, edge_attr=[196], num_nodes=196, pdb='3n7a', pose=2),\n",
       " BipartiteData(edge_index=[2, 40], x_s=[40, 7], x_t=[40, 7], y=0.0, edge_attr=[40], num_nodes=80, pdb='3fcq', pose=1),\n",
       " BipartiteData(edge_index=[2, 85], x_s=[85, 7], x_t=[85, 7], y=0.0, edge_attr=[85], num_nodes=170, pdb='3ivg', pose=8),\n",
       " BipartiteData(edge_index=[2, 103], x_s=[103, 7], x_t=[103, 7], y=0.0, edge_attr=[103], num_nodes=206, pdb='2cet', pose=1),\n",
       " BipartiteData(edge_index=[2, 88], x_s=[88, 7], x_t=[88, 7], y=0.0, edge_attr=[88], num_nodes=176, pdb='3jvs', pose=5),\n",
       " BipartiteData(edge_index=[2, 140], x_s=[140, 7], x_t=[140, 7], y=1.0, edge_attr=[140], num_nodes=280, pdb='1g2k', pose=1),\n",
       " BipartiteData(edge_index=[2, 108], x_s=[108, 7], x_t=[108, 7], y=0.0, edge_attr=[108], num_nodes=216, pdb='4ogj', pose=1),\n",
       " BipartiteData(edge_index=[2, 0], x_s=[0, 7], x_t=[0, 7], y=0.0, edge_attr=[0], num_nodes=0, pdb='2ymd', pose=9),\n",
       " BipartiteData(edge_index=[2, 73], x_s=[73, 7], x_t=[73, 7], y=0.0, edge_attr=[73], num_nodes=146, pdb='3e5a', pose=4),\n",
       " BipartiteData(edge_index=[2, 229], x_s=[229, 7], x_t=[0, 7], y=0.0, edge_attr=[229], num_nodes=229, pdb='4k18', pose=2),\n",
       " BipartiteData(edge_index=[2, 219], x_s=[219, 7], x_t=[0, 7], y=0.0, edge_attr=[219], num_nodes=219, pdb='1oyt', pose=3),\n",
       " BipartiteData(edge_index=[2, 144], x_s=[144, 7], x_t=[144, 7], y=1.0, edge_attr=[144], num_nodes=288, pdb='4f3c', pose=1),\n",
       " BipartiteData(edge_index=[2, 61], x_s=[61, 7], x_t=[61, 7], y=0.0, edge_attr=[61], num_nodes=122, pdb='2r9w', pose=4),\n",
       " BipartiteData(edge_index=[2, 175], x_s=[175, 7], x_t=[0, 7], y=0.0, edge_attr=[175], num_nodes=175, pdb='4w9l', pose=7),\n",
       " BipartiteData(edge_index=[2, 172], x_s=[172, 7], x_t=[172, 7], y=0.0, edge_attr=[172], num_nodes=344, pdb='3coz', pose=1),\n",
       " BipartiteData(edge_index=[2, 50], x_s=[50, 7], x_t=[50, 7], y=0.0, edge_attr=[50], num_nodes=100, pdb='3jya', pose=4),\n",
       " BipartiteData(edge_index=[2, 65], x_s=[65, 7], x_t=[65, 7], y=1.0, edge_attr=[65], num_nodes=130, pdb='2xys', pose=1),\n",
       " BipartiteData(edge_index=[2, 79], x_s=[79, 7], x_t=[79, 7], y=0.0, edge_attr=[79], num_nodes=158, pdb='3ivg', pose=2),\n",
       " BipartiteData(edge_index=[2, 62], x_s=[62, 7], x_t=[62, 7], y=0.0, edge_attr=[62], num_nodes=124, pdb='2zcq', pose=7),\n",
       " BipartiteData(edge_index=[2, 88], x_s=[88, 7], x_t=[88, 7], y=0.0, edge_attr=[88], num_nodes=176, pdb='2qbr', pose=1),\n",
       " BipartiteData(edge_index=[2, 148], x_s=[148, 7], x_t=[0, 7], y=0.0, edge_attr=[148], num_nodes=148, pdb='2wnc', pose=6),\n",
       " BipartiteData(edge_index=[2, 120], x_s=[120, 7], x_t=[120, 7], y=0.0, edge_attr=[120], num_nodes=240, pdb='1u1b', pose=9),\n",
       " BipartiteData(edge_index=[2, 0], x_s=[0, 7], x_t=[0, 7], y=0.0, edge_attr=[0], num_nodes=0, pdb='1nc1', pose=10),\n",
       " BipartiteData(edge_index=[2, 82], x_s=[82, 7], x_t=[82, 7], y=0.0, edge_attr=[82], num_nodes=164, pdb='2vw5', pose=4),\n",
       " BipartiteData(edge_index=[2, 63], x_s=[63, 7], x_t=[63, 7], y=0.0, edge_attr=[63], num_nodes=126, pdb='3dx2', pose=9),\n",
       " BipartiteData(edge_index=[2, 100], x_s=[100, 7], x_t=[100, 7], y=1.0, edge_attr=[100], num_nodes=200, pdb='4djv', pose=1),\n",
       " BipartiteData(edge_index=[2, 0], x_s=[0, 7], x_t=[0, 7], y=0.0, edge_attr=[0], num_nodes=0, pdb='4f2w', pose=10),\n",
       " BipartiteData(edge_index=[2, 120], x_s=[120, 7], x_t=[120, 7], y=0.0, edge_attr=[120], num_nodes=240, pdb='1g2k', pose=8),\n",
       " BipartiteData(edge_index=[2, 104], x_s=[104, 7], x_t=[104, 7], y=0.0, edge_attr=[104], num_nodes=208, pdb='3gy4', pose=7),\n",
       " BipartiteData(edge_index=[2, 128], x_s=[128, 7], x_t=[128, 7], y=0.0, edge_attr=[128], num_nodes=256, pdb='3ozt', pose=5),\n",
       " BipartiteData(edge_index=[2, 229], x_s=[229, 7], x_t=[0, 7], y=0.0, edge_attr=[229], num_nodes=229, pdb='3gc5', pose=7),\n",
       " BipartiteData(edge_index=[2, 101], x_s=[101, 7], x_t=[101, 7], y=0.0, edge_attr=[101], num_nodes=202, pdb='4cra', pose=3),\n",
       " BipartiteData(edge_index=[2, 81], x_s=[81, 7], x_t=[81, 7], y=0.0, edge_attr=[81], num_nodes=162, pdb='2w66', pose=5),\n",
       " BipartiteData(edge_index=[2, 41], x_s=[41, 7], x_t=[41, 7], y=0.0, edge_attr=[41], num_nodes=82, pdb='4eo8', pose=9),\n",
       " BipartiteData(edge_index=[2, 40], x_s=[40, 7], x_t=[40, 7], y=0.0, edge_attr=[40], num_nodes=80, pdb='3uuo', pose=6),\n",
       " BipartiteData(edge_index=[2, 116], x_s=[116, 7], x_t=[116, 7], y=0.0, edge_attr=[116], num_nodes=232, pdb='1a30', pose=5),\n",
       " BipartiteData(edge_index=[2, 104], x_s=[104, 7], x_t=[104, 7], y=0.0, edge_attr=[104], num_nodes=208, pdb='3arp', pose=9),\n",
       " BipartiteData(edge_index=[2, 246], x_s=[246, 7], x_t=[0, 7], y=0.0, edge_attr=[246], num_nodes=246, pdb='4w9h', pose=1),\n",
       " BipartiteData(edge_index=[2, 58], x_s=[58, 7], x_t=[58, 7], y=1.0, edge_attr=[58], num_nodes=116, pdb='4k77', pose=5),\n",
       " BipartiteData(edge_index=[2, 53], x_s=[53, 7], x_t=[53, 7], y=0.0, edge_attr=[53], num_nodes=106, pdb='2hb1', pose=6),\n",
       " BipartiteData(edge_index=[2, 65], x_s=[65, 7], x_t=[65, 7], y=0.0, edge_attr=[65], num_nodes=130, pdb='2cbv', pose=9),\n",
       " BipartiteData(edge_index=[2, 113], x_s=[113, 7], x_t=[113, 7], y=0.0, edge_attr=[113], num_nodes=226, pdb='1bzc', pose=7),\n",
       " BipartiteData(edge_index=[2, 0], x_s=[0, 7], x_t=[0, 7], y=0.0, edge_attr=[0], num_nodes=0, pdb='3d6q', pose=10),\n",
       " BipartiteData(edge_index=[2, 84], x_s=[84, 7], x_t=[84, 7], y=0.0, edge_attr=[84], num_nodes=168, pdb='2wca', pose=4),\n",
       " BipartiteData(edge_index=[2, 205], x_s=[205, 7], x_t=[0, 7], y=1.0, edge_attr=[205], num_nodes=205, pdb='3n7a', pose=1),\n",
       " BipartiteData(edge_index=[2, 79], x_s=[79, 7], x_t=[79, 7], y=1.0, edge_attr=[79], num_nodes=158, pdb='4kzu', pose=1),\n",
       " BipartiteData(edge_index=[2, 98], x_s=[98, 7], x_t=[98, 7], y=0.0, edge_attr=[98], num_nodes=196, pdb='3b65', pose=1),\n",
       " BipartiteData(edge_index=[2, 36], x_s=[36, 7], x_t=[36, 7], y=0.0, edge_attr=[36], num_nodes=72, pdb='4kz6', pose=3),\n",
       " BipartiteData(edge_index=[2, 438], x_s=[438, 7], x_t=[0, 7], y=0.0, edge_attr=[438], num_nodes=438, pdb='2vkm', pose=2),\n",
       " BipartiteData(edge_index=[2, 58], x_s=[58, 7], x_t=[58, 7], y=1.0, edge_attr=[58], num_nodes=116, pdb='2iwx', pose=1),\n",
       " BipartiteData(edge_index=[2, 76], x_s=[76, 7], x_t=[76, 7], y=0.0, edge_attr=[76], num_nodes=152, pdb='5aba', pose=3),\n",
       " BipartiteData(edge_index=[2, 58], x_s=[58, 7], x_t=[58, 7], y=0.0, edge_attr=[58], num_nodes=116, pdb='2xj7', pose=8),\n",
       " BipartiteData(edge_index=[2, 63], x_s=[63, 7], x_t=[63, 7], y=0.0, edge_attr=[63], num_nodes=126, pdb='2zb1', pose=4),\n",
       " BipartiteData(edge_index=[2, 44], x_s=[44, 7], x_t=[44, 7], y=0.0, edge_attr=[44], num_nodes=88, pdb='3kgp', pose=6),\n",
       " BipartiteData(edge_index=[2, 46], x_s=[46, 7], x_t=[46, 7], y=0.0, edge_attr=[46], num_nodes=92, pdb='3fcq', pose=8),\n",
       " BipartiteData(edge_index=[2, 279], x_s=[279, 7], x_t=[0, 7], y=1.0, edge_attr=[279], num_nodes=279, pdb='2xbv', pose=1),\n",
       " BipartiteData(edge_index=[2, 0], x_s=[0, 7], x_t=[0, 7], y=0.0, edge_attr=[0], num_nodes=0, pdb='3ryj', pose=10),\n",
       " BipartiteData(edge_index=[2, 310], x_s=[310, 7], x_t=[0, 7], y=0.0, edge_attr=[310], num_nodes=310, pdb='3ge7', pose=6),\n",
       " BipartiteData(edge_index=[2, 0], x_s=[0, 7], x_t=[0, 7], y=0.0, edge_attr=[0], num_nodes=0, pdb='3uo4', pose=10),\n",
       " BipartiteData(edge_index=[2, 67], x_s=[67, 7], x_t=[67, 7], y=0.0, edge_attr=[67], num_nodes=134, pdb='2wtv', pose=4),\n",
       " BipartiteData(edge_index=[2, 0], x_s=[0, 7], x_t=[0, 7], y=0.0, edge_attr=[0], num_nodes=0, pdb='4j21', pose=8),\n",
       " BipartiteData(edge_index=[2, 0], x_s=[0, 7], x_t=[0, 7], y=0.0, edge_attr=[0], num_nodes=0, pdb='2yki', pose=9),\n",
       " BipartiteData(edge_index=[2, 41], x_s=[41, 7], x_t=[41, 7], y=0.0, edge_attr=[41], num_nodes=82, pdb='2weg', pose=8),\n",
       " BipartiteData(edge_index=[2, 219], x_s=[219, 7], x_t=[0, 7], y=0.0, edge_attr=[219], num_nodes=219, pdb='3rr4', pose=4),\n",
       " BipartiteData(edge_index=[2, 183], x_s=[183, 7], x_t=[183, 7], y=0.0, edge_attr=[183], num_nodes=366, pdb='3ag9', pose=9),\n",
       " BipartiteData(edge_index=[2, 70], x_s=[70, 7], x_t=[70, 7], y=0.0, edge_attr=[70], num_nodes=140, pdb='4pcs', pose=3),\n",
       " BipartiteData(edge_index=[2, 56], x_s=[56, 7], x_t=[56, 7], y=0.0, edge_attr=[56], num_nodes=112, pdb='2c3i', pose=4),\n",
       " BipartiteData(edge_index=[2, 52], x_s=[52, 7], x_t=[52, 7], y=0.0, edge_attr=[52], num_nodes=104, pdb='3gnw', pose=5),\n",
       " BipartiteData(edge_index=[2, 33], x_s=[33, 7], x_t=[33, 7], y=0.0, edge_attr=[33], num_nodes=66, pdb='4kz6', pose=9),\n",
       " BipartiteData(edge_index=[2, 76], x_s=[76, 7], x_t=[76, 7], y=0.0, edge_attr=[76], num_nodes=152, pdb='4ivc', pose=5),\n",
       " BipartiteData(edge_index=[2, 0], x_s=[0, 7], x_t=[0, 7], y=0.0, edge_attr=[0], num_nodes=0, pdb='1s38', pose=10),\n",
       " BipartiteData(edge_index=[2, 68], x_s=[68, 7], x_t=[68, 7], y=1.0, edge_attr=[68], num_nodes=136, pdb='4f9w', pose=1),\n",
       " BipartiteData(edge_index=[2, 67], x_s=[67, 7], x_t=[67, 7], y=0.0, edge_attr=[67], num_nodes=134, pdb='1q8t', pose=4),\n",
       " BipartiteData(edge_index=[2, 0], x_s=[0, 7], x_t=[0, 7], y=0.0, edge_attr=[0], num_nodes=0, pdb='3e93', pose=7),\n",
       " BipartiteData(edge_index=[2, 73], x_s=[73, 7], x_t=[73, 7], y=0.0, edge_attr=[73], num_nodes=146, pdb='4wiv', pose=5),\n",
       " BipartiteData(edge_index=[2, 108], x_s=[108, 7], x_t=[108, 7], y=0.0, edge_attr=[108], num_nodes=216, pdb='4f2w', pose=3),\n",
       " BipartiteData(edge_index=[2, 0], x_s=[0, 7], x_t=[0, 7], y=0.0, edge_attr=[0], num_nodes=0, pdb='3b65', pose=10),\n",
       " BipartiteData(edge_index=[2, 58], x_s=[58, 7], x_t=[58, 7], y=0.0, edge_attr=[58], num_nodes=116, pdb='3lka', pose=7),\n",
       " BipartiteData(edge_index=[2, 201], x_s=[201, 7], x_t=[0, 7], y=0.0, edge_attr=[201], num_nodes=201, pdb='4w9h', pose=3),\n",
       " BipartiteData(edge_index=[2, 0], x_s=[0, 7], x_t=[0, 7], y=0.0, edge_attr=[0], num_nodes=0, pdb='3coy', pose=10),\n",
       " BipartiteData(edge_index=[2, 49], x_s=[49, 7], x_t=[49, 7], y=0.0, edge_attr=[49], num_nodes=98, pdb='4wiv', pose=7),\n",
       " BipartiteData(edge_index=[2, 146], x_s=[146, 7], x_t=[146, 7], y=0.0, edge_attr=[146], num_nodes=292, pdb='4m0z', pose=4),\n",
       " BipartiteData(edge_index=[2, 35], x_s=[35, 7], x_t=[35, 7], y=0.0, edge_attr=[35], num_nodes=70, pdb='1ydr', pose=4),\n",
       " BipartiteData(edge_index=[2, 149], x_s=[149, 7], x_t=[149, 7], y=0.0, edge_attr=[149], num_nodes=298, pdb='4gr0', pose=5),\n",
       " BipartiteData(edge_index=[2, 62], x_s=[62, 7], x_t=[62, 7], y=0.0, edge_attr=[62], num_nodes=124, pdb='2w66', pose=6),\n",
       " BipartiteData(edge_index=[2, 77], x_s=[77, 7], x_t=[77, 7], y=0.0, edge_attr=[77], num_nodes=154, pdb='3zsx', pose=6),\n",
       " BipartiteData(edge_index=[2, 0], x_s=[0, 7], x_t=[0, 7], y=0.0, edge_attr=[0], num_nodes=0, pdb='3fv1', pose=7),\n",
       " BipartiteData(edge_index=[2, 94], x_s=[94, 7], x_t=[94, 7], y=0.0, edge_attr=[94], num_nodes=188, pdb='2vw5', pose=7),\n",
       " BipartiteData(edge_index=[2, 75], x_s=[75, 7], x_t=[75, 7], y=0.0, edge_attr=[75], num_nodes=150, pdb='2zcr', pose=7),\n",
       " BipartiteData(edge_index=[2, 157], x_s=[157, 7], x_t=[157, 7], y=0.0, edge_attr=[157], num_nodes=314, pdb='4eky', pose=1),\n",
       " BipartiteData(edge_index=[2, 51], x_s=[51, 7], x_t=[51, 7], y=0.0, edge_attr=[51], num_nodes=102, pdb='4ih7', pose=8),\n",
       " BipartiteData(edge_index=[2, 67], x_s=[67, 7], x_t=[67, 7], y=1.0, edge_attr=[67], num_nodes=134, pdb='2weg', pose=1),\n",
       " BipartiteData(edge_index=[2, 253], x_s=[253, 7], x_t=[0, 7], y=0.0, edge_attr=[253], num_nodes=253, pdb='4ty7', pose=6),\n",
       " BipartiteData(edge_index=[2, 0], x_s=[0, 7], x_t=[0, 7], y=0.0, edge_attr=[0], num_nodes=0, pdb='4f2w', pose=2),\n",
       " BipartiteData(edge_index=[2, 338], x_s=[338, 7], x_t=[0, 7], y=0.0, edge_attr=[338], num_nodes=338, pdb='3n86', pose=6),\n",
       " BipartiteData(edge_index=[2, 0], x_s=[0, 7], x_t=[0, 7], y=0.0, edge_attr=[0], num_nodes=0, pdb='1e66', pose=7),\n",
       " BipartiteData(edge_index=[2, 0], x_s=[0, 7], x_t=[0, 7], y=0.0, edge_attr=[0], num_nodes=0, pdb='1z95', pose=7),\n",
       " BipartiteData(edge_index=[2, 63], x_s=[63, 7], x_t=[63, 7], y=0.0, edge_attr=[63], num_nodes=126, pdb='3dxg', pose=5),\n",
       " BipartiteData(edge_index=[2, 48], x_s=[48, 7], x_t=[48, 7], y=0.0, edge_attr=[48], num_nodes=96, pdb='2iwx', pose=6),\n",
       " BipartiteData(edge_index=[2, 77], x_s=[77, 7], x_t=[77, 7], y=1.0, edge_attr=[77], num_nodes=154, pdb='4abg', pose=2),\n",
       " BipartiteData(edge_index=[2, 157], x_s=[157, 7], x_t=[157, 7], y=0.0, edge_attr=[157], num_nodes=314, pdb='1nc3', pose=6),\n",
       " BipartiteData(edge_index=[2, 185], x_s=[185, 7], x_t=[0, 7], y=0.0, edge_attr=[185], num_nodes=185, pdb='4w9c', pose=6),\n",
       " BipartiteData(edge_index=[2, 0], x_s=[0, 7], x_t=[0, 7], y=0.0, edge_attr=[0], num_nodes=0, pdb='3oe5', pose=10),\n",
       " BipartiteData(edge_index=[2, 51], x_s=[51, 7], x_t=[51, 7], y=0.0, edge_attr=[51], num_nodes=102, pdb='4wiv', pose=1),\n",
       " BipartiteData(edge_index=[2, 46], x_s=[46, 7], x_t=[46, 7], y=0.0, edge_attr=[46], num_nodes=92, pdb='3uev', pose=5),\n",
       " BipartiteData(edge_index=[2, 169], x_s=[169, 7], x_t=[0, 7], y=0.0, edge_attr=[169], num_nodes=169, pdb='2y5h', pose=3),\n",
       " BipartiteData(edge_index=[2, 114], x_s=[114, 7], x_t=[114, 7], y=0.0, edge_attr=[114], num_nodes=228, pdb='3ozs', pose=4),\n",
       " BipartiteData(edge_index=[2, 96], x_s=[96, 7], x_t=[96, 7], y=0.0, edge_attr=[96], num_nodes=192, pdb='3jvs', pose=3),\n",
       " BipartiteData(edge_index=[2, 179], x_s=[179, 7], x_t=[0, 7], y=0.0, edge_attr=[179], num_nodes=179, pdb='4mgd', pose=3),\n",
       " BipartiteData(edge_index=[2, 62], x_s=[62, 7], x_t=[62, 7], y=0.0, edge_attr=[62], num_nodes=124, pdb='5a7b', pose=8),\n",
       " BipartiteData(edge_index=[2, 75], x_s=[75, 7], x_t=[75, 7], y=1.0, edge_attr=[75], num_nodes=150, pdb='4ivd', pose=1),\n",
       " BipartiteData(edge_index=[2, 57], x_s=[57, 7], x_t=[57, 7], y=0.0, edge_attr=[57], num_nodes=114, pdb='2weg', pose=2),\n",
       " BipartiteData(edge_index=[2, 174], x_s=[174, 7], x_t=[0, 7], y=0.0, edge_attr=[174], num_nodes=174, pdb='2wn9', pose=5),\n",
       " BipartiteData(edge_index=[2, 272], x_s=[272, 7], x_t=[0, 7], y=1.0, edge_attr=[272], num_nodes=272, pdb='4k18', pose=1),\n",
       " BipartiteData(edge_index=[2, 175], x_s=[175, 7], x_t=[0, 7], y=0.0, edge_attr=[175], num_nodes=175, pdb='1p1n', pose=8),\n",
       " BipartiteData(edge_index=[2, 258], x_s=[258, 7], x_t=[0, 7], y=0.0, edge_attr=[258], num_nodes=258, pdb='3k5v', pose=6),\n",
       " BipartiteData(edge_index=[2, 249], x_s=[249, 7], x_t=[0, 7], y=0.0, edge_attr=[249], num_nodes=249, pdb='2xbv', pose=3),\n",
       " BipartiteData(edge_index=[2, 0], x_s=[0, 7], x_t=[0, 7], y=0.0, edge_attr=[0], num_nodes=0, pdb='2p4y', pose=10),\n",
       " BipartiteData(edge_index=[2, 132], x_s=[132, 7], x_t=[132, 7], y=0.0, edge_attr=[132], num_nodes=264, pdb='3pww', pose=7),\n",
       " BipartiteData(edge_index=[2, 81], x_s=[81, 7], x_t=[81, 7], y=0.0, edge_attr=[81], num_nodes=162, pdb='3wz8', pose=6),\n",
       " BipartiteData(edge_index=[2, 0], x_s=[0, 7], x_t=[0, 7], y=0.0, edge_attr=[0], num_nodes=0, pdb='1z95', pose=10),\n",
       " BipartiteData(edge_index=[2, 89], x_s=[89, 7], x_t=[89, 7], y=0.0, edge_attr=[89], num_nodes=178, pdb='2w66', pose=3),\n",
       " BipartiteData(edge_index=[2, 75], x_s=[75, 7], x_t=[75, 7], y=0.0, edge_attr=[75], num_nodes=150, pdb='4tmn', pose=7),\n",
       " BipartiteData(edge_index=[2, 240], x_s=[240, 7], x_t=[0, 7], y=0.0, edge_attr=[240], num_nodes=240, pdb='3gc5', pose=5),\n",
       " BipartiteData(edge_index=[2, 78], x_s=[78, 7], x_t=[78, 7], y=0.0, edge_attr=[78], num_nodes=156, pdb='3jvr', pose=2),\n",
       " BipartiteData(edge_index=[2, 128], x_s=[128, 7], x_t=[128, 7], y=0.0, edge_attr=[128], num_nodes=256, pdb='2al5', pose=5),\n",
       " BipartiteData(edge_index=[2, 88], x_s=[88, 7], x_t=[88, 7], y=0.0, edge_attr=[88], num_nodes=176, pdb='3nx7', pose=8),\n",
       " BipartiteData(edge_index=[2, 108], x_s=[108, 7], x_t=[108, 7], y=0.0, edge_attr=[108], num_nodes=216, pdb='3ozs', pose=9),\n",
       " BipartiteData(edge_index=[2, 117], x_s=[117, 7], x_t=[117, 7], y=0.0, edge_attr=[117], num_nodes=234, pdb='3arp', pose=8),\n",
       " BipartiteData(edge_index=[2, 84], x_s=[84, 7], x_t=[84, 7], y=0.0, edge_attr=[84], num_nodes=168, pdb='2xnb', pose=9),\n",
       " BipartiteData(edge_index=[2, 41], x_s=[41, 7], x_t=[41, 7], y=0.0, edge_attr=[41], num_nodes=82, pdb='4eo8', pose=7),\n",
       " BipartiteData(edge_index=[2, 51], x_s=[51, 7], x_t=[51, 7], y=1.0, edge_attr=[51], num_nodes=102, pdb='1ydr', pose=1),\n",
       " BipartiteData(edge_index=[2, 0], x_s=[0, 7], x_t=[0, 7], y=0.0, edge_attr=[0], num_nodes=0, pdb='4gid', pose=10),\n",
       " BipartiteData(edge_index=[2, 55], x_s=[55, 7], x_t=[55, 7], y=0.0, edge_attr=[55], num_nodes=110, pdb='4djv', pose=8),\n",
       " BipartiteData(edge_index=[2, 0], x_s=[0, 7], x_t=[0, 7], y=0.0, edge_attr=[0], num_nodes=0, pdb='1o3f', pose=10),\n",
       " BipartiteData(edge_index=[2, 59], x_s=[59, 7], x_t=[59, 7], y=0.0, edge_attr=[59], num_nodes=118, pdb='3uex', pose=3),\n",
       " BipartiteData(edge_index=[2, 39], x_s=[39, 7], x_t=[39, 7], y=0.0, edge_attr=[39], num_nodes=78, pdb='3bgz', pose=4),\n",
       " BipartiteData(edge_index=[2, 88], x_s=[88, 7], x_t=[88, 7], y=0.0, edge_attr=[88], num_nodes=176, pdb='1vso', pose=6),\n",
       " BipartiteData(edge_index=[2, 108], x_s=[108, 7], x_t=[108, 7], y=0.0, edge_attr=[108], num_nodes=216, pdb='1bzc', pose=9),\n",
       " BipartiteData(edge_index=[2, 374], x_s=[374, 7], x_t=[0, 7], y=1.0, edge_attr=[374], num_nodes=374, pdb='3utu', pose=4),\n",
       " BipartiteData(edge_index=[2, 78], x_s=[78, 7], x_t=[78, 7], y=0.0, edge_attr=[78], num_nodes=156, pdb='2cet', pose=9),\n",
       " BipartiteData(edge_index=[2, 86], x_s=[86, 7], x_t=[86, 7], y=0.0, edge_attr=[86], num_nodes=172, pdb='2w4x', pose=2),\n",
       " BipartiteData(edge_index=[2, 55], x_s=[55, 7], x_t=[55, 7], y=0.0, edge_attr=[55], num_nodes=110, pdb='3g2z', pose=5),\n",
       " BipartiteData(edge_index=[2, 167], x_s=[167, 7], x_t=[167, 7], y=0.0, edge_attr=[167], num_nodes=334, pdb='1y6r', pose=6),\n",
       " BipartiteData(edge_index=[2, 51], x_s=[51, 7], x_t=[51, 7], y=0.0, edge_attr=[51], num_nodes=102, pdb='3twp', pose=9),\n",
       " BipartiteData(edge_index=[2, 44], x_s=[44, 7], x_t=[44, 7], y=0.0, edge_attr=[44], num_nodes=88, pdb='2c3i', pose=8),\n",
       " BipartiteData(edge_index=[2, 72], x_s=[72, 7], x_t=[72, 7], y=0.0, edge_attr=[72], num_nodes=144, pdb='3p5o', pose=7),\n",
       " BipartiteData(edge_index=[2, 396], x_s=[396, 7], x_t=[0, 7], y=0.0, edge_attr=[396], num_nodes=396, pdb='3o9i', pose=5),\n",
       " BipartiteData(edge_index=[2, 0], x_s=[0, 7], x_t=[0, 7], y=0.0, edge_attr=[0], num_nodes=0, pdb='3d4z', pose=10),\n",
       " BipartiteData(edge_index=[2, 79], x_s=[79, 7], x_t=[79, 7], y=0.0, edge_attr=[79], num_nodes=158, pdb='2zy1', pose=7),\n",
       " BipartiteData(edge_index=[2, 75], x_s=[75, 7], x_t=[75, 7], y=0.0, edge_attr=[75], num_nodes=150, pdb='3ivg', pose=9),\n",
       " BipartiteData(edge_index=[2, 161], x_s=[161, 7], x_t=[161, 7], y=0.0, edge_attr=[161], num_nodes=322, pdb='1g2k', pose=3),\n",
       " BipartiteData(edge_index=[2, 305], x_s=[305, 7], x_t=[0, 7], y=0.0, edge_attr=[305], num_nodes=305, pdb='3n76', pose=8),\n",
       " BipartiteData(edge_index=[2, 136], x_s=[136, 7], x_t=[136, 7], y=0.0, edge_attr=[136], num_nodes=272, pdb='1bzc', pose=1),\n",
       " BipartiteData(edge_index=[2, 0], x_s=[0, 7], x_t=[0, 7], y=0.0, edge_attr=[0], num_nodes=0, pdb='4abg', pose=10),\n",
       " BipartiteData(edge_index=[2, 82], x_s=[82, 7], x_t=[82, 7], y=0.0, edge_attr=[82], num_nodes=164, pdb='3gy4', pose=6),\n",
       " BipartiteData(edge_index=[2, 86], x_s=[86, 7], x_t=[86, 7], y=0.0, edge_attr=[86], num_nodes=172, pdb='1yc1', pose=3),\n",
       " BipartiteData(edge_index=[2, 110], x_s=[110, 7], x_t=[110, 7], y=1.0, edge_attr=[110], num_nodes=220, pdb='4j3l', pose=1),\n",
       " BipartiteData(edge_index=[2, 84], x_s=[84, 7], x_t=[84, 7], y=0.0, edge_attr=[84], num_nodes=168, pdb='2qbr', pose=3),\n",
       " BipartiteData(edge_index=[2, 69], x_s=[69, 7], x_t=[69, 7], y=0.0, edge_attr=[69], num_nodes=138, pdb='3uo4', pose=8),\n",
       " BipartiteData(edge_index=[2, 199], x_s=[199, 7], x_t=[0, 7], y=0.0, edge_attr=[199], num_nodes=199, pdb='2qe4', pose=3),\n",
       " BipartiteData(edge_index=[2, 99], x_s=[99, 7], x_t=[99, 7], y=0.0, edge_attr=[99], num_nodes=198, pdb='4ogj', pose=3),\n",
       " BipartiteData(edge_index=[2, 167], x_s=[167, 7], x_t=[167, 7], y=1.0, edge_attr=[167], num_nodes=334, pdb='3ozs', pose=1),\n",
       " BipartiteData(edge_index=[2, 113], x_s=[113, 7], x_t=[113, 7], y=0.0, edge_attr=[113], num_nodes=226, pdb='4cr9', pose=5),\n",
       " BipartiteData(edge_index=[2, 78], x_s=[78, 7], x_t=[78, 7], y=0.0, edge_attr=[78], num_nodes=156, pdb='4twp', pose=3),\n",
       " BipartiteData(edge_index=[2, 36], x_s=[36, 7], x_t=[36, 7], y=0.0, edge_attr=[36], num_nodes=72, pdb='3bgz', pose=9),\n",
       " BipartiteData(edge_index=[2, 0], x_s=[0, 7], x_t=[0, 7], y=0.0, edge_attr=[0], num_nodes=0, pdb='3ozt', pose=10),\n",
       " BipartiteData(edge_index=[2, 78], x_s=[78, 7], x_t=[78, 7], y=0.0, edge_attr=[78], num_nodes=156, pdb='1pxn', pose=8),\n",
       " BipartiteData(edge_index=[2, 0], x_s=[0, 7], x_t=[0, 7], y=0.0, edge_attr=[0], num_nodes=0, pdb='2pog', pose=9),\n",
       " BipartiteData(edge_index=[2, 102], x_s=[102, 7], x_t=[102, 7], y=0.0, edge_attr=[102], num_nodes=204, pdb='1lpg', pose=6),\n",
       " BipartiteData(edge_index=[2, 139], x_s=[139, 7], x_t=[139, 7], y=0.0, edge_attr=[139], num_nodes=278, pdb='4eky', pose=7),\n",
       " BipartiteData(edge_index=[2, 64], x_s=[64, 7], x_t=[64, 7], y=0.0, edge_attr=[64], num_nodes=128, pdb='4e6q', pose=6),\n",
       " BipartiteData(edge_index=[2, 77], x_s=[77, 7], x_t=[77, 7], y=0.0, edge_attr=[77], num_nodes=154, pdb='3zsx', pose=9),\n",
       " BipartiteData(edge_index=[2, 88], x_s=[88, 7], x_t=[88, 7], y=0.0, edge_attr=[88], num_nodes=176, pdb='2p4y', pose=9),\n",
       " BipartiteData(edge_index=[2, 208], x_s=[208, 7], x_t=[208, 7], y=0.0, edge_attr=[208], num_nodes=416, pdb='3ag9', pose=3),\n",
       " BipartiteData(edge_index=[2, 141], x_s=[141, 7], x_t=[0, 7], y=0.0, edge_attr=[141], num_nodes=141, pdb='2y5h', pose=7),\n",
       " BipartiteData(edge_index=[2, 97], x_s=[97, 7], x_t=[97, 7], y=0.0, edge_attr=[97], num_nodes=194, pdb='3f3a', pose=3),\n",
       " BipartiteData(edge_index=[2, 77], x_s=[77, 7], x_t=[77, 7], y=0.0, edge_attr=[77], num_nodes=154, pdb='3zsx', pose=4),\n",
       " BipartiteData(edge_index=[2, 46], x_s=[46, 7], x_t=[46, 7], y=0.0, edge_attr=[46], num_nodes=92, pdb='4ddh', pose=8),\n",
       " BipartiteData(edge_index=[2, 69], x_s=[69, 7], x_t=[69, 7], y=0.0, edge_attr=[69], num_nodes=138, pdb='4qd6', pose=9),\n",
       " BipartiteData(edge_index=[2, 73], x_s=[73, 7], x_t=[73, 7], y=0.0, edge_attr=[73], num_nodes=146, pdb='2vw5', pose=8),\n",
       " BipartiteData(edge_index=[2, 196], x_s=[196, 7], x_t=[0, 7], y=0.0, edge_attr=[196], num_nodes=196, pdb='3rr4', pose=8),\n",
       " BipartiteData(edge_index=[2, 114], x_s=[114, 7], x_t=[114, 7], y=0.0, edge_attr=[114], num_nodes=228, pdb='3syr', pose=3),\n",
       " BipartiteData(edge_index=[2, 85], x_s=[85, 7], x_t=[85, 7], y=1.0, edge_attr=[85], num_nodes=170, pdb='2v00', pose=1),\n",
       " BipartiteData(edge_index=[2, 77], x_s=[77, 7], x_t=[77, 7], y=0.0, edge_attr=[77], num_nodes=154, pdb='4e5w', pose=5),\n",
       " BipartiteData(edge_index=[2, 0], x_s=[0, 7], x_t=[0, 7], y=0.0, edge_attr=[0], num_nodes=0, pdb='4j3l', pose=10),\n",
       " BipartiteData(edge_index=[2, 166], x_s=[166, 7], x_t=[166, 7], y=0.0, edge_attr=[166], num_nodes=332, pdb='3coy', pose=2),\n",
       " BipartiteData(edge_index=[2, 53], x_s=[53, 7], x_t=[53, 7], y=0.0, edge_attr=[53], num_nodes=106, pdb='2wtv', pose=7),\n",
       " BipartiteData(edge_index=[2, 62], x_s=[62, 7], x_t=[62, 7], y=0.0, edge_attr=[62], num_nodes=124, pdb='4k77', pose=1),\n",
       " BipartiteData(edge_index=[2, 300], x_s=[300, 7], x_t=[0, 7], y=0.0, edge_attr=[300], num_nodes=300, pdb='3o9i', pose=3),\n",
       " BipartiteData(edge_index=[2, 47], x_s=[47, 7], x_t=[47, 7], y=0.0, edge_attr=[47], num_nodes=94, pdb='4jfs', pose=7),\n",
       " BipartiteData(edge_index=[2, 126], x_s=[126, 7], x_t=[0, 7], y=0.0, edge_attr=[126], num_nodes=126, pdb='1r5y', pose=4),\n",
       " BipartiteData(edge_index=[2, 156], x_s=[156, 7], x_t=[0, 7], y=0.0, edge_attr=[156], num_nodes=156, pdb='1p1n', pose=3),\n",
       " BipartiteData(edge_index=[2, 82], x_s=[82, 7], x_t=[82, 7], y=0.0, edge_attr=[82], num_nodes=164, pdb='4agn', pose=7),\n",
       " BipartiteData(edge_index=[2, 91], x_s=[91, 7], x_t=[91, 7], y=0.0, edge_attr=[91], num_nodes=182, pdb='4dld', pose=4),\n",
       " BipartiteData(edge_index=[2, 74], x_s=[74, 7], x_t=[74, 7], y=0.0, edge_attr=[74], num_nodes=148, pdb='3e5a', pose=8),\n",
       " BipartiteData(edge_index=[2, 0], x_s=[0, 7], x_t=[0, 7], y=0.0, edge_attr=[0], num_nodes=0, pdb='4w9c', pose=10),\n",
       " BipartiteData(edge_index=[2, 53], x_s=[53, 7], x_t=[53, 7], y=0.0, edge_attr=[53], num_nodes=106, pdb='4f09', pose=9),\n",
       " BipartiteData(edge_index=[2, 128], x_s=[128, 7], x_t=[128, 7], y=1.0, edge_attr=[128], num_nodes=256, pdb='4f2w', pose=1),\n",
       " BipartiteData(edge_index=[2, 78], x_s=[78, 7], x_t=[78, 7], y=0.0, edge_attr=[78], num_nodes=156, pdb='3zsx', pose=1),\n",
       " BipartiteData(edge_index=[2, 45], x_s=[45, 7], x_t=[45, 7], y=0.0, edge_attr=[45], num_nodes=90, pdb='3fcq', pose=3),\n",
       " BipartiteData(edge_index=[2, 124], x_s=[124, 7], x_t=[0, 7], y=0.0, edge_attr=[124], num_nodes=124, pdb='3ary', pose=4),\n",
       " BipartiteData(edge_index=[2, 50], x_s=[50, 7], x_t=[50, 7], y=0.0, edge_attr=[50], num_nodes=100, pdb='3pxf', pose=7),\n",
       " BipartiteData(edge_index=[2, 0], x_s=[0, 7], x_t=[0, 7], y=0.0, edge_attr=[0], num_nodes=0, pdb='3e93', pose=9),\n",
       " BipartiteData(edge_index=[2, 89], x_s=[89, 7], x_t=[89, 7], y=0.0, edge_attr=[89], num_nodes=178, pdb='4rfm', pose=3),\n",
       " BipartiteData(edge_index=[2, 110], x_s=[110, 7], x_t=[110, 7], y=0.0, edge_attr=[110], num_nodes=220, pdb='1nvq', pose=2),\n",
       " BipartiteData(edge_index=[2, 128], x_s=[128, 7], x_t=[128, 7], y=0.0, edge_attr=[128], num_nodes=256, pdb='3ozs', pose=5),\n",
       " BipartiteData(edge_index=[2, 76], x_s=[76, 7], x_t=[76, 7], y=0.0, edge_attr=[76], num_nodes=152, pdb='2qbp', pose=6),\n",
       " BipartiteData(edge_index=[2, 39], x_s=[39, 7], x_t=[39, 7], y=0.0, edge_attr=[39], num_nodes=78, pdb='3udh', pose=8),\n",
       " BipartiteData(edge_index=[2, 125], x_s=[125, 7], x_t=[125, 7], y=0.0, edge_attr=[125], num_nodes=250, pdb='3tsk', pose=7),\n",
       " BipartiteData(edge_index=[2, 97], x_s=[97, 7], x_t=[97, 7], y=0.0, edge_attr=[97], num_nodes=194, pdb='4dli', pose=3),\n",
       " BipartiteData(edge_index=[2, 34], x_s=[34, 7], x_t=[34, 7], y=0.0, edge_attr=[34], num_nodes=68, pdb='1s38', pose=7),\n",
       " BipartiteData(edge_index=[2, 95], x_s=[95, 7], x_t=[95, 7], y=0.0, edge_attr=[95], num_nodes=190, pdb='1o3f', pose=5),\n",
       " BipartiteData(edge_index=[2, 53], x_s=[53, 7], x_t=[53, 7], y=0.0, edge_attr=[53], num_nodes=106, pdb='3gy4', pose=9),\n",
       " BipartiteData(edge_index=[2, 94], x_s=[94, 7], x_t=[94, 7], y=1.0, edge_attr=[94], num_nodes=188, pdb='3f3d', pose=1),\n",
       " BipartiteData(edge_index=[2, 0], x_s=[0, 7], x_t=[0, 7], y=0.0, edge_attr=[0], num_nodes=0, pdb='3zt2', pose=10),\n",
       " BipartiteData(edge_index=[2, 45], x_s=[45, 7], x_t=[45, 7], y=0.0, edge_attr=[45], num_nodes=90, pdb='4mme', pose=6),\n",
       " BipartiteData(edge_index=[2, 99], x_s=[99, 7], x_t=[99, 7], y=0.0, edge_attr=[99], num_nodes=198, pdb='1o0h', pose=2),\n",
       " BipartiteData(edge_index=[2, 128], x_s=[128, 7], x_t=[128, 7], y=1.0, edge_attr=[128], num_nodes=256, pdb='3ejr', pose=2),\n",
       " BipartiteData(edge_index=[2, 0], x_s=[0, 7], x_t=[0, 7], y=0.0, edge_attr=[0], num_nodes=0, pdb='3fv1', pose=9),\n",
       " BipartiteData(edge_index=[2, 0], x_s=[0, 7], x_t=[0, 7], y=0.0, edge_attr=[0], num_nodes=0, pdb='2yki', pose=4),\n",
       " BipartiteData(edge_index=[2, 271], x_s=[271, 7], x_t=[0, 7], y=0.0, edge_attr=[271], num_nodes=271, pdb='3ge7', pose=4),\n",
       " BipartiteData(edge_index=[2, 71], x_s=[71, 7], x_t=[71, 7], y=0.0, edge_attr=[71], num_nodes=142, pdb='3ehy', pose=4),\n",
       " BipartiteData(edge_index=[2, 134], x_s=[134, 7], x_t=[0, 7], y=0.0, edge_attr=[134], num_nodes=134, pdb='3arv', pose=3),\n",
       " BipartiteData(edge_index=[2, 51], x_s=[51, 7], x_t=[51, 7], y=0.0, edge_attr=[51], num_nodes=102, pdb='4ddh', pose=3),\n",
       " BipartiteData(edge_index=[2, 152], x_s=[152, 7], x_t=[152, 7], y=0.0, edge_attr=[152], num_nodes=304, pdb='1eby', pose=3),\n",
       " BipartiteData(edge_index=[2, 0], x_s=[0, 7], x_t=[0, 7], y=0.0, edge_attr=[0], num_nodes=0, pdb='3g0w', pose=10),\n",
       " BipartiteData(edge_index=[2, 290], x_s=[290, 7], x_t=[0, 7], y=0.0, edge_attr=[290], num_nodes=290, pdb='3k5v', pose=4),\n",
       " BipartiteData(edge_index=[2, 111], x_s=[111, 7], x_t=[111, 7], y=0.0, edge_attr=[111], num_nodes=222, pdb='1bzc', pose=8),\n",
       " BipartiteData(edge_index=[2, 43], x_s=[43, 7], x_t=[43, 7], y=0.0, edge_attr=[43], num_nodes=86, pdb='3ueu', pose=5),\n",
       " BipartiteData(edge_index=[2, 63], x_s=[63, 7], x_t=[63, 7], y=0.0, edge_attr=[63], num_nodes=126, pdb='4e6q', pose=3),\n",
       " BipartiteData(edge_index=[2, 52], x_s=[52, 7], x_t=[52, 7], y=0.0, edge_attr=[52], num_nodes=104, pdb='3qgy', pose=8),\n",
       " BipartiteData(edge_index=[2, 98], x_s=[98, 7], x_t=[98, 7], y=0.0, edge_attr=[98], num_nodes=196, pdb='3nx7', pose=4),\n",
       " BipartiteData(edge_index=[2, 100], x_s=[100, 7], x_t=[100, 7], y=0.0, edge_attr=[100], num_nodes=200, pdb='2wca', pose=8),\n",
       " BipartiteData(edge_index=[2, 0], x_s=[0, 7], x_t=[0, 7], y=0.0, edge_attr=[0], num_nodes=0, pdb='3uuo', pose=10),\n",
       " BipartiteData(edge_index=[2, 217], x_s=[217, 7], x_t=[0, 7], y=0.0, edge_attr=[217], num_nodes=217, pdb='1oyt', pose=2),\n",
       " BipartiteData(edge_index=[2, 301], x_s=[301, 7], x_t=[0, 7], y=0.0, edge_attr=[301], num_nodes=301, pdb='3n76', pose=5),\n",
       " BipartiteData(edge_index=[2, 346], x_s=[346, 7], x_t=[0, 7], y=0.0, edge_attr=[346], num_nodes=346, pdb='3n86', pose=4),\n",
       " BipartiteData(edge_index=[2, 89], x_s=[89, 7], x_t=[89, 7], y=0.0, edge_attr=[89], num_nodes=178, pdb='1a30', pose=8),\n",
       " BipartiteData(edge_index=[2, 245], x_s=[245, 7], x_t=[0, 7], y=0.0, edge_attr=[245], num_nodes=245, pdb='3arq', pose=7),\n",
       " BipartiteData(edge_index=[2, 61], x_s=[61, 7], x_t=[61, 7], y=0.0, edge_attr=[61], num_nodes=122, pdb='4eor', pose=9),\n",
       " BipartiteData(edge_index=[2, 0], x_s=[0, 7], x_t=[0, 7], y=0.0, edge_attr=[0], num_nodes=0, pdb='3b68', pose=3),\n",
       " BipartiteData(edge_index=[2, 0], x_s=[0, 7], x_t=[0, 7], y=0.0, edge_attr=[0], num_nodes=0, pdb='2p15', pose=4),\n",
       " BipartiteData(edge_index=[2, 57], x_s=[57, 7], x_t=[57, 7], y=0.0, edge_attr=[57], num_nodes=114, pdb='3ao4', pose=9),\n",
       " BipartiteData(edge_index=[2, 95], x_s=[95, 7], x_t=[95, 7], y=0.0, edge_attr=[95], num_nodes=190, pdb='1a30', pose=7),\n",
       " BipartiteData(edge_index=[2, 80], x_s=[80, 7], x_t=[80, 7], y=0.0, edge_attr=[80], num_nodes=160, pdb='3myg', pose=9),\n",
       " BipartiteData(edge_index=[2, 91], x_s=[91, 7], x_t=[91, 7], y=0.0, edge_attr=[91], num_nodes=182, pdb='3e92', pose=2),\n",
       " BipartiteData(edge_index=[2, 76], x_s=[76, 7], x_t=[76, 7], y=0.0, edge_attr=[76], num_nodes=152, pdb='4w9i', pose=9),\n",
       " BipartiteData(edge_index=[2, 361], x_s=[361, 7], x_t=[0, 7], y=1.0, edge_attr=[361], num_nodes=361, pdb='3ge7', pose=2),\n",
       " BipartiteData(edge_index=[2, 272], x_s=[272, 7], x_t=[0, 7], y=0.0, edge_attr=[272], num_nodes=272, pdb='3ge7', pose=8),\n",
       " BipartiteData(edge_index=[2, 323], x_s=[323, 7], x_t=[0, 7], y=0.0, edge_attr=[323], num_nodes=323, pdb='3n76', pose=3),\n",
       " BipartiteData(edge_index=[2, 172], x_s=[172, 7], x_t=[172, 7], y=1.0, edge_attr=[172], num_nodes=344, pdb='3coy', pose=1),\n",
       " BipartiteData(edge_index=[2, 68], x_s=[68, 7], x_t=[68, 7], y=0.0, edge_attr=[68], num_nodes=136, pdb='4cr9', pose=1),\n",
       " BipartiteData(edge_index=[2, 0], x_s=[0, 7], x_t=[0, 7], y=0.0, edge_attr=[0], num_nodes=0, pdb='3e92', pose=8),\n",
       " BipartiteData(edge_index=[2, 73], x_s=[73, 7], x_t=[73, 7], y=0.0, edge_attr=[73], num_nodes=146, pdb='3ivg', pose=7),\n",
       " BipartiteData(edge_index=[2, 57], x_s=[57, 7], x_t=[57, 7], y=0.0, edge_attr=[57], num_nodes=114, pdb='4w9i', pose=7),\n",
       " BipartiteData(edge_index=[2, 142], x_s=[142, 7], x_t=[142, 7], y=1.0, edge_attr=[142], num_nodes=284, pdb='3syr', pose=1),\n",
       " BipartiteData(edge_index=[2, 358], x_s=[358, 7], x_t=[0, 7], y=0.0, edge_attr=[358], num_nodes=358, pdb='3bv9', pose=9),\n",
       " BipartiteData(edge_index=[2, 55], x_s=[55, 7], x_t=[55, 7], y=0.0, edge_attr=[55], num_nodes=110, pdb='3g2z', pose=2),\n",
       " BipartiteData(edge_index=[2, 194], x_s=[194, 7], x_t=[0, 7], y=0.0, edge_attr=[194], num_nodes=194, pdb='4mgd', pose=5),\n",
       " BipartiteData(edge_index=[2, 0], x_s=[0, 7], x_t=[0, 7], y=0.0, edge_attr=[0], num_nodes=0, pdb='4bkt', pose=10),\n",
       " BipartiteData(edge_index=[2, 200], x_s=[200, 7], x_t=[0, 7], y=1.0, edge_attr=[200], num_nodes=200, pdb='2wer', pose=1),\n",
       " BipartiteData(edge_index=[2, 152], x_s=[152, 7], x_t=[152, 7], y=0.0, edge_attr=[152], num_nodes=304, pdb='1eby', pose=4),\n",
       " BipartiteData(edge_index=[2, 69], x_s=[69, 7], x_t=[69, 7], y=0.0, edge_attr=[69], num_nodes=138, pdb='4de1', pose=8),\n",
       " BipartiteData(edge_index=[2, 78], x_s=[78, 7], x_t=[78, 7], y=0.0, edge_attr=[78], num_nodes=156, pdb='3dx2', pose=3),\n",
       " BipartiteData(edge_index=[2, 0], x_s=[0, 7], x_t=[0, 7], y=0.0, edge_attr=[0], num_nodes=0, pdb='3fv1', pose=6),\n",
       " BipartiteData(edge_index=[2, 73], x_s=[73, 7], x_t=[73, 7], y=0.0, edge_attr=[73], num_nodes=146, pdb='4m0y', pose=1),\n",
       " BipartiteData(edge_index=[2, 87], x_s=[87, 7], x_t=[87, 7], y=0.0, edge_attr=[87], num_nodes=174, pdb='3ivg', pose=1),\n",
       " BipartiteData(edge_index=[2, 58], x_s=[58, 7], x_t=[58, 7], y=0.0, edge_attr=[58], num_nodes=116, pdb='2brb', pose=1),\n",
       " BipartiteData(edge_index=[2, 67], x_s=[67, 7], x_t=[67, 7], y=0.0, edge_attr=[67], num_nodes=134, pdb='4k77', pose=2),\n",
       " BipartiteData(edge_index=[2, 66], x_s=[66, 7], x_t=[66, 7], y=0.0, edge_attr=[66], num_nodes=132, pdb='3ao4', pose=3),\n",
       " BipartiteData(edge_index=[2, 0], x_s=[0, 7], x_t=[0, 7], y=0.0, edge_attr=[0], num_nodes=0, pdb='2ymd', pose=7),\n",
       " BipartiteData(edge_index=[2, 107], x_s=[107, 7], x_t=[107, 7], y=0.0, edge_attr=[107], num_nodes=214, pdb='1g2k', pose=5),\n",
       " BipartiteData(edge_index=[2, 54], x_s=[54, 7], x_t=[54, 7], y=0.0, edge_attr=[54], num_nodes=108, pdb='3uex', pose=5),\n",
       " BipartiteData(edge_index=[2, 56], x_s=[56, 7], x_t=[56, 7], y=0.0, edge_attr=[56], num_nodes=112, pdb='4e6q', pose=7),\n",
       " BipartiteData(edge_index=[2, 49], x_s=[49, 7], x_t=[49, 7], y=0.0, edge_attr=[49], num_nodes=98, pdb='3udh', pose=9),\n",
       " BipartiteData(edge_index=[2, 321], x_s=[321, 7], x_t=[0, 7], y=0.0, edge_attr=[321], num_nodes=321, pdb='1h22', pose=1),\n",
       " BipartiteData(edge_index=[2, 84], x_s=[84, 7], x_t=[84, 7], y=0.0, edge_attr=[84], num_nodes=168, pdb='2fvd', pose=7),\n",
       " BipartiteData(edge_index=[2, 85], x_s=[85, 7], x_t=[85, 7], y=0.0, edge_attr=[85], num_nodes=170, pdb='2wtv', pose=2),\n",
       " BipartiteData(edge_index=[2, 231], x_s=[231, 7], x_t=[0, 7], y=0.0, edge_attr=[231], num_nodes=231, pdb='3n7a', pose=8),\n",
       " BipartiteData(edge_index=[2, 61], x_s=[61, 7], x_t=[61, 7], y=0.0, edge_attr=[61], num_nodes=122, pdb='3jvr', pose=5),\n",
       " BipartiteData(edge_index=[2, 76], x_s=[76, 7], x_t=[76, 7], y=0.0, edge_attr=[76], num_nodes=152, pdb='3rsx', pose=2),\n",
       " BipartiteData(edge_index=[2, 64], x_s=[64, 7], x_t=[64, 7], y=0.0, edge_attr=[64], num_nodes=128, pdb='4de2', pose=8),\n",
       " BipartiteData(edge_index=[2, 78], x_s=[78, 7], x_t=[78, 7], y=0.0, edge_attr=[78], num_nodes=156, pdb='3nx7', pose=3),\n",
       " BipartiteData(edge_index=[2, 77], x_s=[77, 7], x_t=[77, 7], y=0.0, edge_attr=[77], num_nodes=154, pdb='1nvq', pose=5),\n",
       " BipartiteData(edge_index=[2, 59], x_s=[59, 7], x_t=[59, 7], y=0.0, edge_attr=[59], num_nodes=118, pdb='1q8t', pose=5),\n",
       " BipartiteData(edge_index=[2, 47], x_s=[47, 7], x_t=[47, 7], y=0.0, edge_attr=[47], num_nodes=94, pdb='2hb1', pose=8),\n",
       " BipartiteData(edge_index=[2, 0], x_s=[0, 7], x_t=[0, 7], y=0.0, edge_attr=[0], num_nodes=0, pdb='2qbq', pose=10),\n",
       " BipartiteData(edge_index=[2, 171], x_s=[171, 7], x_t=[0, 7], y=0.0, edge_attr=[171], num_nodes=171, pdb='2x00', pose=4),\n",
       " BipartiteData(edge_index=[2, 107], x_s=[107, 7], x_t=[107, 7], y=0.0, edge_attr=[107], num_nodes=214, pdb='3f3c', pose=4),\n",
       " BipartiteData(edge_index=[2, 101], x_s=[101, 7], x_t=[101, 7], y=0.0, edge_attr=[101], num_nodes=202, pdb='1z95', pose=2),\n",
       " BipartiteData(edge_index=[2, 58], x_s=[58, 7], x_t=[58, 7], y=0.0, edge_attr=[58], num_nodes=116, pdb='3uuo', pose=5),\n",
       " BipartiteData(edge_index=[2, 83], x_s=[83, 7], x_t=[83, 7], y=0.0, edge_attr=[83], num_nodes=166, pdb='3uo4', pose=4),\n",
       " BipartiteData(edge_index=[2, 196], x_s=[196, 7], x_t=[0, 7], y=0.0, edge_attr=[196], num_nodes=196, pdb='3arq', pose=9),\n",
       " BipartiteData(edge_index=[2, 131], x_s=[131, 7], x_t=[131, 7], y=1.0, edge_attr=[131], num_nodes=262, pdb='1u1b', pose=4),\n",
       " BipartiteData(edge_index=[2, 0], x_s=[0, 7], x_t=[0, 7], y=0.0, edge_attr=[0], num_nodes=0, pdb='2qe4', pose=5),\n",
       " BipartiteData(edge_index=[2, 116], x_s=[116, 7], x_t=[116, 7], y=0.0, edge_attr=[116], num_nodes=232, pdb='3arp', pose=2),\n",
       " BipartiteData(edge_index=[2, 41], x_s=[41, 7], x_t=[41, 7], y=0.0, edge_attr=[41], num_nodes=82, pdb='4gfm', pose=4),\n",
       " BipartiteData(edge_index=[2, 75], x_s=[75, 7], x_t=[75, 7], y=0.0, edge_attr=[75], num_nodes=150, pdb='1c5z', pose=4),\n",
       " BipartiteData(edge_index=[2, 98], x_s=[98, 7], x_t=[98, 7], y=0.0, edge_attr=[98], num_nodes=196, pdb='4eor', pose=5),\n",
       " BipartiteData(edge_index=[2, 45], x_s=[45, 7], x_t=[45, 7], y=0.0, edge_attr=[45], num_nodes=90, pdb='2hb1', pose=7),\n",
       " BipartiteData(edge_index=[2, 121], x_s=[121, 7], x_t=[121, 7], y=0.0, edge_attr=[121], num_nodes=242, pdb='1k1i', pose=5),\n",
       " BipartiteData(edge_index=[2, 82], x_s=[82, 7], x_t=[82, 7], y=0.0, edge_attr=[82], num_nodes=164, pdb='3f3a', pose=4),\n",
       " BipartiteData(edge_index=[2, 0], x_s=[0, 7], x_t=[0, 7], y=0.0, edge_attr=[0], num_nodes=0, pdb='4dli', pose=10),\n",
       " BipartiteData(edge_index=[2, 39], x_s=[39, 7], x_t=[39, 7], y=0.0, edge_attr=[39], num_nodes=78, pdb='4jsz', pose=3),\n",
       " BipartiteData(edge_index=[2, 105], x_s=[105, 7], x_t=[105, 7], y=1.0, edge_attr=[105], num_nodes=210, pdb='4eor', pose=2),\n",
       " BipartiteData(edge_index=[2, 0], x_s=[0, 7], x_t=[0, 7], y=0.0, edge_attr=[0], num_nodes=0, pdb='1e66', pose=2),\n",
       " BipartiteData(edge_index=[2, 299], x_s=[299, 7], x_t=[0, 7], y=0.0, edge_attr=[299], num_nodes=299, pdb='3g0w', pose=7),\n",
       " BipartiteData(edge_index=[2, 60], x_s=[60, 7], x_t=[60, 7], y=0.0, edge_attr=[60], num_nodes=120, pdb='3lka', pose=4),\n",
       " BipartiteData(edge_index=[2, 128], x_s=[128, 7], x_t=[128, 7], y=0.0, edge_attr=[128], num_nodes=256, pdb='3pww', pose=1),\n",
       " BipartiteData(edge_index=[2, 66], x_s=[66, 7], x_t=[66, 7], y=0.0, edge_attr=[66], num_nodes=132, pdb='1ydt', pose=1),\n",
       " BipartiteData(edge_index=[2, 74], x_s=[74, 7], x_t=[74, 7], y=0.0, edge_attr=[74], num_nodes=148, pdb='3zsx', pose=3),\n",
       " BipartiteData(edge_index=[2, 34], x_s=[34, 7], x_t=[34, 7], y=0.0, edge_attr=[34], num_nodes=68, pdb='4kz6', pose=8),\n",
       " BipartiteData(edge_index=[2, 61], x_s=[61, 7], x_t=[61, 7], y=0.0, edge_attr=[61], num_nodes=122, pdb='3zdg', pose=8),\n",
       " BipartiteData(edge_index=[2, 76], x_s=[76, 7], x_t=[76, 7], y=0.0, edge_attr=[76], num_nodes=152, pdb='4djv', pose=5),\n",
       " BipartiteData(edge_index=[2, 87], x_s=[87, 7], x_t=[87, 7], y=0.0, edge_attr=[87], num_nodes=174, pdb='4qd6', pose=4),\n",
       " BipartiteData(edge_index=[2, 134], x_s=[134, 7], x_t=[134, 7], y=1.0, edge_attr=[134], num_nodes=268, pdb='4x6p', pose=2),\n",
       " BipartiteData(edge_index=[2, 317], x_s=[317, 7], x_t=[0, 7], y=0.0, edge_attr=[317], num_nodes=317, pdb='1h23', pose=2),\n",
       " BipartiteData(edge_index=[2, 0], x_s=[0, 7], x_t=[0, 7], y=0.0, edge_attr=[0], num_nodes=0, pdb='1qkt', pose=8),\n",
       " BipartiteData(edge_index=[2, 68], x_s=[68, 7], x_t=[68, 7], y=0.0, edge_attr=[68], num_nodes=136, pdb='3dxg', pose=9),\n",
       " BipartiteData(edge_index=[2, 84], x_s=[84, 7], x_t=[84, 7], y=0.0, edge_attr=[84], num_nodes=168, pdb='4qd6', pose=7),\n",
       " BipartiteData(edge_index=[2, 0], x_s=[0, 7], x_t=[0, 7], y=0.0, edge_attr=[0], num_nodes=0, pdb='3u8n', pose=9),\n",
       " BipartiteData(edge_index=[2, 128], x_s=[128, 7], x_t=[128, 7], y=0.0, edge_attr=[128], num_nodes=256, pdb='3prs', pose=5),\n",
       " BipartiteData(edge_index=[2, 108], x_s=[108, 7], x_t=[108, 7], y=0.0, edge_attr=[108], num_nodes=216, pdb='3kwa', pose=4),\n",
       " BipartiteData(edge_index=[2, 114], x_s=[114, 7], x_t=[114, 7], y=0.0, edge_attr=[114], num_nodes=228, pdb='3arp', pose=7),\n",
       " BipartiteData(edge_index=[2, 135], x_s=[135, 7], x_t=[135, 7], y=1.0, edge_attr=[135], num_nodes=270, pdb='3ejr', pose=1),\n",
       " BipartiteData(edge_index=[2, 240], x_s=[240, 7], x_t=[0, 7], y=0.0, edge_attr=[240], num_nodes=240, pdb='4ty7', pose=7),\n",
       " BipartiteData(edge_index=[2, 102], x_s=[102, 7], x_t=[102, 7], y=0.0, edge_attr=[102], num_nodes=204, pdb='4cra', pose=6),\n",
       " BipartiteData(edge_index=[2, 70], x_s=[70, 7], x_t=[70, 7], y=0.0, edge_attr=[70], num_nodes=140, pdb='4cig', pose=7),\n",
       " BipartiteData(edge_index=[2, 62], x_s=[62, 7], x_t=[62, 7], y=0.0, edge_attr=[62], num_nodes=124, pdb='3lka', pose=6),\n",
       " BipartiteData(edge_index=[2, 63], x_s=[63, 7], x_t=[63, 7], y=0.0, edge_attr=[63], num_nodes=126, pdb='4ivd', pose=7),\n",
       " BipartiteData(edge_index=[2, 269], x_s=[269, 7], x_t=[0, 7], y=0.0, edge_attr=[269], num_nodes=269, pdb='3k5v', pose=8),\n",
       " BipartiteData(edge_index=[2, 53], x_s=[53, 7], x_t=[53, 7], y=0.0, edge_attr=[53], num_nodes=106, pdb='3aru', pose=3),\n",
       " BipartiteData(edge_index=[2, 0], x_s=[0, 7], x_t=[0, 7], y=0.0, edge_attr=[0], num_nodes=0, pdb='2qnq', pose=10),\n",
       " BipartiteData(edge_index=[2, 76], x_s=[76, 7], x_t=[76, 7], y=0.0, edge_attr=[76], num_nodes=152, pdb='3ao4', pose=6),\n",
       " BipartiteData(edge_index=[2, 82], x_s=[82, 7], x_t=[82, 7], y=1.0, edge_attr=[82], num_nodes=164, pdb='2zb1', pose=1),\n",
       " BipartiteData(edge_index=[2, 170], x_s=[170, 7], x_t=[0, 7], y=1.0, edge_attr=[170], num_nodes=170, pdb='4bkt', pose=1),\n",
       " BipartiteData(edge_index=[2, 94], x_s=[94, 7], x_t=[94, 7], y=0.0, edge_attr=[94], num_nodes=188, pdb='3l7b', pose=6),\n",
       " BipartiteData(edge_index=[2, 142], x_s=[142, 7], x_t=[0, 7], y=0.0, edge_attr=[142], num_nodes=142, pdb='3u8k', pose=8),\n",
       " BipartiteData(edge_index=[2, 65], x_s=[65, 7], x_t=[65, 7], y=0.0, edge_attr=[65], num_nodes=130, pdb='3b27', pose=2),\n",
       " BipartiteData(edge_index=[2, 59], x_s=[59, 7], x_t=[59, 7], y=0.0, edge_attr=[59], num_nodes=118, pdb='3uew', pose=3),\n",
       " BipartiteData(edge_index=[2, 263], x_s=[263, 7], x_t=[0, 7], y=0.0, edge_attr=[263], num_nodes=263, pdb='2zda', pose=8),\n",
       " BipartiteData(edge_index=[2, 60], x_s=[60, 7], x_t=[60, 7], y=0.0, edge_attr=[60], num_nodes=120, pdb='3qqs', pose=7),\n",
       " BipartiteData(edge_index=[2, 114], x_s=[114, 7], x_t=[114, 7], y=0.0, edge_attr=[114], num_nodes=228, pdb='4j3l', pose=6),\n",
       " BipartiteData(edge_index=[2, 46], x_s=[46, 7], x_t=[46, 7], y=0.0, edge_attr=[46], num_nodes=92, pdb='3udh', pose=5),\n",
       " BipartiteData(edge_index=[2, 0], x_s=[0, 7], x_t=[0, 7], y=0.0, edge_attr=[0], num_nodes=0, pdb='2yge', pose=6),\n",
       " BipartiteData(edge_index=[2, 109], x_s=[109, 7], x_t=[109, 7], y=0.0, edge_attr=[109], num_nodes=218, pdb='3wz8', pose=1),\n",
       " BipartiteData(edge_index=[2, 55], x_s=[55, 7], x_t=[55, 7], y=0.0, edge_attr=[55], num_nodes=110, pdb='3bgz', pose=1),\n",
       " BipartiteData(edge_index=[2, 110], x_s=[110, 7], x_t=[0, 7], y=0.0, edge_attr=[110], num_nodes=110, pdb='4bkt', pose=6),\n",
       " BipartiteData(edge_index=[2, 106], x_s=[106, 7], x_t=[106, 7], y=0.0, edge_attr=[106], num_nodes=212, pdb='1k1i', pose=7),\n",
       " BipartiteData(edge_index=[2, 364], x_s=[364, 7], x_t=[0, 7], y=0.0, edge_attr=[364], num_nodes=364, pdb='3utu', pose=5),\n",
       " BipartiteData(edge_index=[2, 90], x_s=[90, 7], x_t=[90, 7], y=0.0, edge_attr=[90], num_nodes=180, pdb='1gpn', pose=7),\n",
       " BipartiteData(edge_index=[2, 0], x_s=[0, 7], x_t=[0, 7], y=0.0, edge_attr=[0], num_nodes=0, pdb='4ih7', pose=10),\n",
       " BipartiteData(edge_index=[2, 0], x_s=[0, 7], x_t=[0, 7], y=0.0, edge_attr=[0], num_nodes=0, pdb='3e92', pose=5),\n",
       " BipartiteData(edge_index=[2, 130], x_s=[130, 7], x_t=[130, 7], y=0.0, edge_attr=[130], num_nodes=260, pdb='4eky', pose=6),\n",
       " BipartiteData(edge_index=[2, 119], x_s=[119, 7], x_t=[119, 7], y=0.0, edge_attr=[119], num_nodes=238, pdb='4cra', pose=8),\n",
       " BipartiteData(edge_index=[2, 72], x_s=[72, 7], x_t=[72, 7], y=1.0, edge_attr=[72], num_nodes=144, pdb='3udh', pose=1),\n",
       " BipartiteData(edge_index=[2, 55], x_s=[55, 7], x_t=[55, 7], y=0.0, edge_attr=[55], num_nodes=110, pdb='4pcs', pose=5),\n",
       " BipartiteData(edge_index=[2, 83], x_s=[83, 7], x_t=[83, 7], y=0.0, edge_attr=[83], num_nodes=166, pdb='3nx7', pose=1),\n",
       " BipartiteData(edge_index=[2, 41], x_s=[41, 7], x_t=[41, 7], y=0.0, edge_attr=[41], num_nodes=82, pdb='3jya', pose=9),\n",
       " BipartiteData(edge_index=[2, 57], x_s=[57, 7], x_t=[57, 7], y=0.0, edge_attr=[57], num_nodes=114, pdb='5aba', pose=7),\n",
       " BipartiteData(edge_index=[2, 44], x_s=[44, 7], x_t=[44, 7], y=0.0, edge_attr=[44], num_nodes=88, pdb='3gv9', pose=4),\n",
       " BipartiteData(edge_index=[2, 52], x_s=[52, 7], x_t=[52, 7], y=0.0, edge_attr=[52], num_nodes=104, pdb='4k77', pose=7),\n",
       " BipartiteData(edge_index=[2, 95], x_s=[95, 7], x_t=[95, 7], y=0.0, edge_attr=[95], num_nodes=190, pdb='4rfm', pose=2),\n",
       " BipartiteData(edge_index=[2, 64], x_s=[64, 7], x_t=[64, 7], y=0.0, edge_attr=[64], num_nodes=128, pdb='4u4s', pose=7),\n",
       " BipartiteData(edge_index=[2, 66], x_s=[66, 7], x_t=[66, 7], y=0.0, edge_attr=[66], num_nodes=132, pdb='4hge', pose=4),\n",
       " BipartiteData(edge_index=[2, 176], x_s=[176, 7], x_t=[0, 7], y=0.0, edge_attr=[176], num_nodes=176, pdb='3u8k', pose=3),\n",
       " BipartiteData(edge_index=[2, 56], x_s=[56, 7], x_t=[56, 7], y=0.0, edge_attr=[56], num_nodes=112, pdb='1yc1', pose=6),\n",
       " BipartiteData(edge_index=[2, 40], x_s=[40, 7], x_t=[40, 7], y=0.0, edge_attr=[40], num_nodes=80, pdb='4owm', pose=8),\n",
       " BipartiteData(edge_index=[2, 90], x_s=[90, 7], x_t=[90, 7], y=1.0, edge_attr=[90], num_nodes=180, pdb='5dwr', pose=1),\n",
       " BipartiteData(edge_index=[2, 0], x_s=[0, 7], x_t=[0, 7], y=0.0, edge_attr=[0], num_nodes=0, pdb='3jvr', pose=10),\n",
       " BipartiteData(edge_index=[2, 129], x_s=[129, 7], x_t=[129, 7], y=0.0, edge_attr=[129], num_nodes=258, pdb='3gbb', pose=6),\n",
       " BipartiteData(edge_index=[2, 133], x_s=[133, 7], x_t=[133, 7], y=0.0, edge_attr=[133], num_nodes=266, pdb='1k1i', pose=1),\n",
       " BipartiteData(edge_index=[2, 76], x_s=[76, 7], x_t=[76, 7], y=0.0, edge_attr=[76], num_nodes=152, pdb='4ivc', pose=6),\n",
       " BipartiteData(edge_index=[2, 0], x_s=[0, 7], x_t=[0, 7], y=0.0, edge_attr=[0], num_nodes=0, pdb='1uto', pose=10),\n",
       " BipartiteData(edge_index=[2, 88], x_s=[88, 7], x_t=[88, 7], y=0.0, edge_attr=[88], num_nodes=176, pdb='3uo4', pose=5),\n",
       " BipartiteData(edge_index=[2, 82], x_s=[82, 7], x_t=[82, 7], y=0.0, edge_attr=[82], num_nodes=164, pdb='2qnq', pose=6),\n",
       " BipartiteData(edge_index=[2, 119], x_s=[119, 7], x_t=[119, 7], y=0.0, edge_attr=[119], num_nodes=238, pdb='1u1b', pose=7),\n",
       " BipartiteData(edge_index=[2, 69], x_s=[69, 7], x_t=[69, 7], y=0.0, edge_attr=[69], num_nodes=138, pdb='3lka', pose=5),\n",
       " BipartiteData(edge_index=[2, 37], x_s=[37, 7], x_t=[37, 7], y=0.0, edge_attr=[37], num_nodes=74, pdb='3gv9', pose=8),\n",
       " BipartiteData(edge_index=[2, 102], x_s=[102, 7], x_t=[102, 7], y=0.0, edge_attr=[102], num_nodes=204, pdb='3jvs', pose=1),\n",
       " BipartiteData(edge_index=[2, 0], x_s=[0, 7], x_t=[0, 7], y=0.0, edge_attr=[0], num_nodes=0, pdb='1bzc', pose=10),\n",
       " BipartiteData(edge_index=[2, 0], x_s=[0, 7], x_t=[0, 7], y=0.0, edge_attr=[0], num_nodes=0, pdb='4j21', pose=9),\n",
       " BipartiteData(edge_index=[2, 62], x_s=[62, 7], x_t=[62, 7], y=0.0, edge_attr=[62], num_nodes=124, pdb='3ao4', pose=7),\n",
       " BipartiteData(edge_index=[2, 0], x_s=[0, 7], x_t=[0, 7], y=0.0, edge_attr=[0], num_nodes=0, pdb='4ciw', pose=10),\n",
       " BipartiteData(edge_index=[2, 73], x_s=[73, 7], x_t=[73, 7], y=0.0, edge_attr=[73], num_nodes=146, pdb='4twp', pose=6),\n",
       " BipartiteData(edge_index=[2, 119], x_s=[119, 7], x_t=[119, 7], y=0.0, edge_attr=[119], num_nodes=238, pdb='2al5', pose=8),\n",
       " BipartiteData(edge_index=[2, 113], x_s=[113, 7], x_t=[113, 7], y=0.0, edge_attr=[113], num_nodes=226, pdb='4j3l', pose=3),\n",
       " BipartiteData(edge_index=[2, 39], x_s=[39, 7], x_t=[39, 7], y=0.0, edge_attr=[39], num_nodes=78, pdb='1s38', pose=8),\n",
       " BipartiteData(edge_index=[2, 0], x_s=[0, 7], x_t=[0, 7], y=0.0, edge_attr=[0], num_nodes=0, pdb='4hge', pose=10),\n",
       " BipartiteData(edge_index=[2, 70], x_s=[70, 7], x_t=[70, 7], y=0.0, edge_attr=[70], num_nodes=140, pdb='3dd0', pose=4),\n",
       " BipartiteData(edge_index=[2, 307], x_s=[307, 7], x_t=[0, 7], y=0.0, edge_attr=[307], num_nodes=307, pdb='3ge7', pose=3),\n",
       " BipartiteData(edge_index=[2, 0], x_s=[0, 7], x_t=[0, 7], y=0.0, edge_attr=[0], num_nodes=0, pdb='4eor', pose=10),\n",
       " BipartiteData(edge_index=[2, 102], x_s=[102, 7], x_t=[102, 7], y=0.0, edge_attr=[102], num_nodes=204, pdb='3b1m', pose=7),\n",
       " BipartiteData(edge_index=[2, 143], x_s=[143, 7], x_t=[0, 7], y=0.0, edge_attr=[143], num_nodes=143, pdb='3arv', pose=1),\n",
       " BipartiteData(edge_index=[2, 0], x_s=[0, 7], x_t=[0, 7], y=0.0, edge_attr=[0], num_nodes=0, pdb='4f3c', pose=2),\n",
       " BipartiteData(edge_index=[2, 0], x_s=[0, 7], x_t=[0, 7], y=0.0, edge_attr=[0], num_nodes=0, pdb='3bgz', pose=10),\n",
       " BipartiteData(edge_index=[2, 66], x_s=[66, 7], x_t=[66, 7], y=0.0, edge_attr=[66], num_nodes=132, pdb='3qqs', pose=1),\n",
       " BipartiteData(edge_index=[2, 140], x_s=[140, 7], x_t=[0, 7], y=0.0, edge_attr=[140], num_nodes=140, pdb='2j7h', pose=8),\n",
       " BipartiteData(edge_index=[2, 63], x_s=[63, 7], x_t=[63, 7], y=0.0, edge_attr=[63], num_nodes=126, pdb='4hge', pose=6),\n",
       " BipartiteData(edge_index=[2, 0], x_s=[0, 7], x_t=[0, 7], y=0.0, edge_attr=[0], num_nodes=0, pdb='1e66', pose=10),\n",
       " BipartiteData(edge_index=[2, 401], x_s=[401, 7], x_t=[0, 7], y=0.0, edge_attr=[401], num_nodes=401, pdb='2vkm', pose=5),\n",
       " BipartiteData(edge_index=[2, 178], x_s=[178, 7], x_t=[0, 7], y=0.0, edge_attr=[178], num_nodes=178, pdb='1gpk', pose=9),\n",
       " BipartiteData(edge_index=[2, 91], x_s=[91, 7], x_t=[0, 7], y=0.0, edge_attr=[91], num_nodes=91, pdb='3gr2', pose=6),\n",
       " BipartiteData(edge_index=[2, 76], x_s=[76, 7], x_t=[76, 7], y=0.0, edge_attr=[76], num_nodes=152, pdb='4crc', pose=8),\n",
       " BipartiteData(edge_index=[2, 39], x_s=[39, 7], x_t=[39, 7], y=0.0, edge_attr=[39], num_nodes=78, pdb='4ddk', pose=3),\n",
       " BipartiteData(edge_index=[2, 0], x_s=[0, 7], x_t=[0, 7], y=0.0, edge_attr=[0], num_nodes=0, pdb='2wer', pose=10),\n",
       " BipartiteData(edge_index=[2, 84], x_s=[84, 7], x_t=[84, 7], y=1.0, edge_attr=[84], num_nodes=168, pdb='4pcs', pose=1),\n",
       " BipartiteData(edge_index=[2, 112], x_s=[112, 7], x_t=[112, 7], y=0.0, edge_attr=[112], num_nodes=224, pdb='3syr', pose=6),\n",
       " BipartiteData(edge_index=[2, 51], x_s=[51, 7], x_t=[51, 7], y=0.0, edge_attr=[51], num_nodes=102, pdb='3ueu', pose=3),\n",
       " BipartiteData(edge_index=[2, 255], x_s=[255, 7], x_t=[0, 7], y=0.0, edge_attr=[255], num_nodes=255, pdb='2xbv', pose=2),\n",
       " BipartiteData(edge_index=[2, 0], x_s=[0, 7], x_t=[0, 7], y=0.0, edge_attr=[0], num_nodes=0, pdb='3syr', pose=9),\n",
       " BipartiteData(edge_index=[2, 106], x_s=[106, 7], x_t=[106, 7], y=0.0, edge_attr=[106], num_nodes=212, pdb='3ozt', pose=6),\n",
       " BipartiteData(edge_index=[2, 0], x_s=[0, 7], x_t=[0, 7], y=0.0, edge_attr=[0], num_nodes=0, pdb='1vso', pose=10),\n",
       " BipartiteData(edge_index=[2, 54], x_s=[54, 7], x_t=[54, 7], y=0.0, edge_attr=[54], num_nodes=108, pdb='1z9g', pose=3),\n",
       " BipartiteData(edge_index=[2, 50], x_s=[50, 7], x_t=[50, 7], y=0.0, edge_attr=[50], num_nodes=100, pdb='3b27', pose=6),\n",
       " BipartiteData(edge_index=[2, 117], x_s=[117, 7], x_t=[0, 7], y=0.0, edge_attr=[117], num_nodes=117, pdb='4j28', pose=5),\n",
       " BipartiteData(edge_index=[2, 86], x_s=[86, 7], x_t=[86, 7], y=0.0, edge_attr=[86], num_nodes=172, pdb='3dx1', pose=5),\n",
       " BipartiteData(edge_index=[2, 87], x_s=[87, 7], x_t=[87, 7], y=0.0, edge_attr=[87], num_nodes=174, pdb='2qbp', pose=2),\n",
       " BipartiteData(edge_index=[2, 241], x_s=[241, 7], x_t=[0, 7], y=0.0, edge_attr=[241], num_nodes=241, pdb='1h22', pose=8),\n",
       " BipartiteData(edge_index=[2, 0], x_s=[0, 7], x_t=[0, 7], y=0.0, edge_attr=[0], num_nodes=0, pdb='1r5y', pose=10),\n",
       " BipartiteData(edge_index=[2, 75], x_s=[75, 7], x_t=[75, 7], y=0.0, edge_attr=[75], num_nodes=150, pdb='1pxn', pose=7),\n",
       " BipartiteData(edge_index=[2, 45], x_s=[45, 7], x_t=[45, 7], y=0.0, edge_attr=[45], num_nodes=90, pdb='3uew', pose=2),\n",
       " BipartiteData(edge_index=[2, 265], x_s=[265, 7], x_t=[0, 7], y=0.0, edge_attr=[265], num_nodes=265, pdb='2xb8', pose=9),\n",
       " BipartiteData(edge_index=[2, 74], x_s=[74, 7], x_t=[74, 7], y=0.0, edge_attr=[74], num_nodes=148, pdb='3f3a', pose=6),\n",
       " BipartiteData(edge_index=[2, 101], x_s=[101, 7], x_t=[101, 7], y=0.0, edge_attr=[101], num_nodes=202, pdb='3gbb', pose=3),\n",
       " BipartiteData(edge_index=[2, 47], x_s=[47, 7], x_t=[47, 7], y=0.0, edge_attr=[47], num_nodes=94, pdb='3b27', pose=9),\n",
       " BipartiteData(edge_index=[2, 0], x_s=[0, 7], x_t=[0, 7], y=0.0, edge_attr=[0], num_nodes=0, pdb='4kz6', pose=10),\n",
       " BipartiteData(edge_index=[2, 101], x_s=[101, 7], x_t=[101, 7], y=0.0, edge_attr=[101], num_nodes=202, pdb='3b65', pose=7),\n",
       " BipartiteData(edge_index=[2, 157], x_s=[157, 7], x_t=[0, 7], y=0.0, edge_attr=[157], num_nodes=157, pdb='2wer', pose=8),\n",
       " BipartiteData(edge_index=[2, 60], x_s=[60, 7], x_t=[60, 7], y=0.0, edge_attr=[60], num_nodes=120, pdb='4jia', pose=9),\n",
       " BipartiteData(edge_index=[2, 79], x_s=[79, 7], x_t=[79, 7], y=0.0, edge_attr=[79], num_nodes=158, pdb='3uo4', pose=1),\n",
       " BipartiteData(edge_index=[2, 0], x_s=[0, 7], x_t=[0, 7], y=0.0, edge_attr=[0], num_nodes=0, pdb='2zcr', pose=10),\n",
       " BipartiteData(edge_index=[2, 31], x_s=[31, 7], x_t=[31, 7], y=0.0, edge_attr=[31], num_nodes=62, pdb='3u9q', pose=5),\n",
       " BipartiteData(edge_index=[2, 289], x_s=[289, 7], x_t=[0, 7], y=0.0, edge_attr=[289], num_nodes=289, pdb='2xb8', pose=3),\n",
       " BipartiteData(edge_index=[2, 45], x_s=[45, 7], x_t=[45, 7], y=0.0, edge_attr=[45], num_nodes=90, pdb='3jya', pose=1),\n",
       " BipartiteData(edge_index=[2, 130], x_s=[130, 7], x_t=[130, 7], y=0.0, edge_attr=[130], num_nodes=260, pdb='3ozs', pose=7),\n",
       " BipartiteData(edge_index=[2, 42], x_s=[42, 7], x_t=[42, 7], y=0.0, edge_attr=[42], num_nodes=84, pdb='4mme', pose=4),\n",
       " BipartiteData(edge_index=[2, 79], x_s=[79, 7], x_t=[79, 7], y=0.0, edge_attr=[79], num_nodes=158, pdb='3f3e', pose=3),\n",
       " BipartiteData(edge_index=[2, 77], x_s=[77, 7], x_t=[77, 7], y=0.0, edge_attr=[77], num_nodes=154, pdb='3myg', pose=6),\n",
       " BipartiteData(edge_index=[2, 267], x_s=[267, 7], x_t=[0, 7], y=0.0, edge_attr=[267], num_nodes=267, pdb='2zda', pose=7),\n",
       " BipartiteData(edge_index=[2, 58], x_s=[58, 7], x_t=[58, 7], y=0.0, edge_attr=[58], num_nodes=116, pdb='3qgy', pose=1),\n",
       " BipartiteData(edge_index=[2, 73], x_s=[73, 7], x_t=[73, 7], y=0.0, edge_attr=[73], num_nodes=146, pdb='1ydt', pose=2),\n",
       " BipartiteData(edge_index=[2, 0], x_s=[0, 7], x_t=[0, 7], y=0.0, edge_attr=[0], num_nodes=0, pdb='3ao4', pose=10),\n",
       " BipartiteData(edge_index=[2, 244], x_s=[244, 7], x_t=[0, 7], y=0.0, edge_attr=[244], num_nodes=244, pdb='4ciw', pose=3),\n",
       " BipartiteData(edge_index=[2, 50], x_s=[50, 7], x_t=[50, 7], y=0.0, edge_attr=[50], num_nodes=100, pdb='3uuo', pose=2),\n",
       " BipartiteData(edge_index=[2, 0], x_s=[0, 7], x_t=[0, 7], y=0.0, edge_attr=[0], num_nodes=0, pdb='3ozs', pose=10),\n",
       " BipartiteData(edge_index=[2, 0], x_s=[0, 7], x_t=[0, 7], y=0.0, edge_attr=[0], num_nodes=0, pdb='2y5h', pose=10),\n",
       " BipartiteData(edge_index=[2, 0], x_s=[0, 7], x_t=[0, 7], y=0.0, edge_attr=[0], num_nodes=0, pdb='1a30', pose=10),\n",
       " BipartiteData(edge_index=[2, 92], x_s=[92, 7], x_t=[92, 7], y=0.0, edge_attr=[92], num_nodes=184, pdb='3myg', pose=4),\n",
       " BipartiteData(edge_index=[2, 78], x_s=[78, 7], x_t=[78, 7], y=0.0, edge_attr=[78], num_nodes=156, pdb='4jxs', pose=2),\n",
       " BipartiteData(edge_index=[2, 99], x_s=[99, 7], x_t=[99, 7], y=0.0, edge_attr=[99], num_nodes=198, pdb='4tmn', pose=5),\n",
       " BipartiteData(edge_index=[2, 69], x_s=[69, 7], x_t=[69, 7], y=0.0, edge_attr=[69], num_nodes=138, pdb='2yfe', pose=2),\n",
       " BipartiteData(edge_index=[2, 60], x_s=[60, 7], x_t=[60, 7], y=0.0, edge_attr=[60], num_nodes=120, pdb='1ps3', pose=8),\n",
       " BipartiteData(edge_index=[2, 267], x_s=[267, 7], x_t=[0, 7], y=0.0, edge_attr=[267], num_nodes=267, pdb='4ciw', pose=6),\n",
       " BipartiteData(edge_index=[2, 79], x_s=[79, 7], x_t=[79, 7], y=0.0, edge_attr=[79], num_nodes=158, pdb='3zso', pose=8),\n",
       " BipartiteData(edge_index=[2, 119], x_s=[119, 7], x_t=[119, 7], y=0.0, edge_attr=[119], num_nodes=238, pdb='1nc1', pose=8),\n",
       " BipartiteData(edge_index=[2, 77], x_s=[77, 7], x_t=[77, 7], y=0.0, edge_attr=[77], num_nodes=154, pdb='4ivc', pose=8),\n",
       " BipartiteData(edge_index=[2, 99], x_s=[99, 7], x_t=[0, 7], y=0.0, edge_attr=[99], num_nodes=99, pdb='4j28', pose=9),\n",
       " BipartiteData(edge_index=[2, 81], x_s=[81, 7], x_t=[0, 7], y=0.0, edge_attr=[81], num_nodes=81, pdb='3gr2', pose=2),\n",
       " BipartiteData(edge_index=[2, 50], x_s=[50, 7], x_t=[50, 7], y=0.0, edge_attr=[50], num_nodes=100, pdb='2zb1', pose=8),\n",
       " BipartiteData(edge_index=[2, 0], x_s=[0, 7], x_t=[0, 7], y=0.0, edge_attr=[0], num_nodes=0, pdb='4e6q', pose=10),\n",
       " BipartiteData(edge_index=[2, 63], x_s=[63, 7], x_t=[63, 7], y=0.0, edge_attr=[63], num_nodes=126, pdb='1q8t', pose=6),\n",
       " BipartiteData(edge_index=[2, 0], x_s=[0, 7], x_t=[0, 7], y=0.0, edge_attr=[0], num_nodes=0, pdb='3u8n', pose=10),\n",
       " BipartiteData(edge_index=[2, 79], x_s=[79, 7], x_t=[79, 7], y=0.0, edge_attr=[79], num_nodes=158, pdb='3uo4', pose=3),\n",
       " BipartiteData(edge_index=[2, 85], x_s=[85, 7], x_t=[85, 7], y=0.0, edge_attr=[85], num_nodes=170, pdb='3kwa', pose=8),\n",
       " BipartiteData(edge_index=[2, 54], x_s=[54, 7], x_t=[54, 7], y=0.0, edge_attr=[54], num_nodes=108, pdb='3cj4', pose=2),\n",
       " BipartiteData(edge_index=[2, 93], x_s=[93, 7], x_t=[93, 7], y=0.0, edge_attr=[93], num_nodes=186, pdb='3nw9', pose=9),\n",
       " BipartiteData(edge_index=[2, 43], x_s=[43, 7], x_t=[43, 7], y=0.0, edge_attr=[43], num_nodes=86, pdb='3r88', pose=2),\n",
       " BipartiteData(edge_index=[2, 83], x_s=[83, 7], x_t=[83, 7], y=0.0, edge_attr=[83], num_nodes=166, pdb='3dx1', pose=4),\n",
       " BipartiteData(edge_index=[2, 165], x_s=[165, 7], x_t=[165, 7], y=0.0, edge_attr=[165], num_nodes=330, pdb='3coz', pose=4),\n",
       " BipartiteData(edge_index=[2, 228], x_s=[228, 7], x_t=[0, 7], y=0.0, edge_attr=[228], num_nodes=228, pdb='1p1q', pose=5),\n",
       " BipartiteData(edge_index=[2, 0], x_s=[0, 7], x_t=[0, 7], y=0.0, edge_attr=[0], num_nodes=0, pdb='3rr4', pose=10),\n",
       " BipartiteData(edge_index=[2, 81], x_s=[81, 7], x_t=[81, 7], y=0.0, edge_attr=[81], num_nodes=162, pdb='5aba', pose=6),\n",
       " BipartiteData(edge_index=[2, 85], x_s=[85, 7], x_t=[85, 7], y=0.0, edge_attr=[85], num_nodes=170, pdb='3b65', pose=4),\n",
       " BipartiteData(edge_index=[2, 140], x_s=[140, 7], x_t=[140, 7], y=0.0, edge_attr=[140], num_nodes=280, pdb='4f2w', pose=7),\n",
       " BipartiteData(edge_index=[2, 137], x_s=[137, 7], x_t=[137, 7], y=0.0, edge_attr=[137], num_nodes=274, pdb='3b68', pose=1),\n",
       " BipartiteData(edge_index=[2, 61], x_s=[61, 7], x_t=[61, 7], y=0.0, edge_attr=[61], num_nodes=122, pdb='4m0y', pose=4),\n",
       " BipartiteData(edge_index=[2, 70], x_s=[70, 7], x_t=[70, 7], y=0.0, edge_attr=[70], num_nodes=140, pdb='2xnb', pose=5),\n",
       " BipartiteData(edge_index=[2, 70], x_s=[70, 7], x_t=[70, 7], y=0.0, edge_attr=[70], num_nodes=140, pdb='1ydt', pose=5),\n",
       " BipartiteData(edge_index=[2, 67], x_s=[67, 7], x_t=[67, 7], y=0.0, edge_attr=[67], num_nodes=134, pdb='4jxs', pose=3),\n",
       " BipartiteData(edge_index=[2, 98], x_s=[98, 7], x_t=[98, 7], y=0.0, edge_attr=[98], num_nodes=196, pdb='1z95', pose=1),\n",
       " BipartiteData(edge_index=[2, 0], x_s=[0, 7], x_t=[0, 7], y=0.0, edge_attr=[0], num_nodes=0, pdb='3fv1', pose=5),\n",
       " BipartiteData(edge_index=[2, 75], x_s=[75, 7], x_t=[75, 7], y=0.0, edge_attr=[75], num_nodes=150, pdb='3ejr', pose=8),\n",
       " BipartiteData(edge_index=[2, 99], x_s=[99, 7], x_t=[99, 7], y=0.0, edge_attr=[99], num_nodes=198, pdb='3l7b', pose=4),\n",
       " BipartiteData(edge_index=[2, 92], x_s=[92, 7], x_t=[92, 7], y=0.0, edge_attr=[92], num_nodes=184, pdb='3ebp', pose=6),\n",
       " BipartiteData(edge_index=[2, 71], x_s=[71, 7], x_t=[71, 7], y=0.0, edge_attr=[71], num_nodes=142, pdb='3cj4', pose=6),\n",
       " BipartiteData(edge_index=[2, 103], x_s=[103, 7], x_t=[103, 7], y=0.0, edge_attr=[103], num_nodes=206, pdb='3e5a', pose=2),\n",
       " BipartiteData(edge_index=[2, 117], x_s=[117, 7], x_t=[117, 7], y=0.0, edge_attr=[117], num_nodes=234, pdb='4eky', pose=2),\n",
       " BipartiteData(edge_index=[2, 61], x_s=[61, 7], x_t=[61, 7], y=0.0, edge_attr=[61], num_nodes=122, pdb='3dx2', pose=8),\n",
       " BipartiteData(edge_index=[2, 62], x_s=[62, 7], x_t=[62, 7], y=0.0, edge_attr=[62], num_nodes=124, pdb='2w66', pose=9),\n",
       " BipartiteData(edge_index=[2, 42], x_s=[42, 7], x_t=[42, 7], y=0.0, edge_attr=[42], num_nodes=84, pdb='4lzs', pose=7),\n",
       " BipartiteData(edge_index=[2, 113], x_s=[113, 7], x_t=[113, 7], y=0.0, edge_attr=[113], num_nodes=226, pdb='3b5r', pose=3),\n",
       " BipartiteData(edge_index=[2, 163], x_s=[163, 7], x_t=[0, 7], y=0.0, edge_attr=[163], num_nodes=163, pdb='1gpk', pose=2),\n",
       " BipartiteData(edge_index=[2, 68], x_s=[68, 7], x_t=[68, 7], y=0.0, edge_attr=[68], num_nodes=136, pdb='4jia', pose=6),\n",
       " BipartiteData(edge_index=[2, 89], x_s=[89, 7], x_t=[89, 7], y=0.0, edge_attr=[89], num_nodes=178, pdb='3mss', pose=8),\n",
       " BipartiteData(edge_index=[2, 77], x_s=[77, 7], x_t=[77, 7], y=0.0, edge_attr=[77], num_nodes=154, pdb='3jvs', pose=4),\n",
       " BipartiteData(edge_index=[2, 69], x_s=[69, 7], x_t=[69, 7], y=0.0, edge_attr=[69], num_nodes=138, pdb='4cig', pose=1),\n",
       " BipartiteData(edge_index=[2, 0], x_s=[0, 7], x_t=[0, 7], y=0.0, edge_attr=[0], num_nodes=0, pdb='3ge7', pose=10),\n",
       " BipartiteData(edge_index=[2, 0], x_s=[0, 7], x_t=[0, 7], y=0.0, edge_attr=[0], num_nodes=0, pdb='4mme', pose=10),\n",
       " BipartiteData(edge_index=[2, 63], x_s=[63, 7], x_t=[63, 7], y=0.0, edge_attr=[63], num_nodes=126, pdb='2cbv', pose=7),\n",
       " BipartiteData(edge_index=[2, 29], x_s=[29, 7], x_t=[29, 7], y=0.0, edge_attr=[29], num_nodes=58, pdb='4eo8', pose=8),\n",
       " BipartiteData(edge_index=[2, 0], x_s=[0, 7], x_t=[0, 7], y=0.0, edge_attr=[0], num_nodes=0, pdb='4f3c', pose=10),\n",
       " BipartiteData(edge_index=[2, 23], x_s=[23, 7], x_t=[23, 7], y=0.0, edge_attr=[23], num_nodes=46, pdb='3g31', pose=4),\n",
       " BipartiteData(edge_index=[2, 0], x_s=[0, 7], x_t=[0, 7], y=0.0, edge_attr=[0], num_nodes=0, pdb='3o9i', pose=10),\n",
       " BipartiteData(edge_index=[2, 41], x_s=[41, 7], x_t=[41, 7], y=0.0, edge_attr=[41], num_nodes=82, pdb='1q8u', pose=2),\n",
       " BipartiteData(edge_index=[2, 123], x_s=[123, 7], x_t=[0, 7], y=0.0, edge_attr=[123], num_nodes=123, pdb='2y5h', pose=5),\n",
       " BipartiteData(edge_index=[2, 150], x_s=[150, 7], x_t=[150, 7], y=0.0, edge_attr=[150], num_nodes=300, pdb='3prs', pose=1),\n",
       " BipartiteData(edge_index=[2, 87], x_s=[87, 7], x_t=[87, 7], y=0.0, edge_attr=[87], num_nodes=174, pdb='4tmn', pose=6),\n",
       " BipartiteData(edge_index=[2, 126], x_s=[126, 7], x_t=[126, 7], y=0.0, edge_attr=[126], num_nodes=252, pdb='2xii', pose=7),\n",
       " BipartiteData(edge_index=[2, 93], x_s=[93, 7], x_t=[93, 7], y=1.0, edge_attr=[93], num_nodes=186, pdb='3e92', pose=1),\n",
       " BipartiteData(edge_index=[2, 0], x_s=[0, 7], x_t=[0, 7], y=0.0, edge_attr=[0], num_nodes=0, pdb='4ih5', pose=10),\n",
       " BipartiteData(edge_index=[2, 60], x_s=[60, 7], x_t=[60, 7], y=0.0, edge_attr=[60], num_nodes=120, pdb='3myg', pose=8),\n",
       " BipartiteData(edge_index=[2, 46], x_s=[46, 7], x_t=[46, 7], y=0.0, edge_attr=[46], num_nodes=92, pdb='1qkt', pose=5),\n",
       " BipartiteData(edge_index=[2, 52], x_s=[52, 7], x_t=[52, 7], y=0.0, edge_attr=[52], num_nodes=104, pdb='3zt2', pose=8),\n",
       " BipartiteData(edge_index=[2, 82], x_s=[82, 7], x_t=[82, 7], y=0.0, edge_attr=[82], num_nodes=164, pdb='4agp', pose=5),\n",
       " BipartiteData(edge_index=[2, 55], x_s=[55, 7], x_t=[55, 7], y=0.0, edge_attr=[55], num_nodes=110, pdb='1w4o', pose=9),\n",
       " BipartiteData(edge_index=[2, 164], x_s=[164, 7], x_t=[164, 7], y=0.0, edge_attr=[164], num_nodes=328, pdb='1lpg', pose=1),\n",
       " BipartiteData(edge_index=[2, 60], x_s=[60, 7], x_t=[60, 7], y=0.0, edge_attr=[60], num_nodes=120, pdb='4gkm', pose=2),\n",
       " BipartiteData(edge_index=[2, 160], x_s=[160, 7], x_t=[0, 7], y=0.0, edge_attr=[160], num_nodes=160, pdb='1p1n', pose=6),\n",
       " BipartiteData(edge_index=[2, 49], x_s=[49, 7], x_t=[49, 7], y=0.0, edge_attr=[49], num_nodes=98, pdb='3acw', pose=5),\n",
       " BipartiteData(edge_index=[2, 105], x_s=[105, 7], x_t=[105, 7], y=0.0, edge_attr=[105], num_nodes=210, pdb='3gbb', pose=5),\n",
       " BipartiteData(edge_index=[2, 73], x_s=[73, 7], x_t=[73, 7], y=0.0, edge_attr=[73], num_nodes=146, pdb='4ogj', pose=9),\n",
       " BipartiteData(edge_index=[2, 132], x_s=[132, 7], x_t=[0, 7], y=0.0, edge_attr=[132], num_nodes=132, pdb='4j28', pose=1),\n",
       " BipartiteData(edge_index=[2, 0], x_s=[0, 7], x_t=[0, 7], y=0.0, edge_attr=[0], num_nodes=0, pdb='5c2h', pose=10),\n",
       " BipartiteData(edge_index=[2, 0], x_s=[0, 7], x_t=[0, 7], y=0.0, edge_attr=[0], num_nodes=0, pdb='4gid', pose=6),\n",
       " BipartiteData(edge_index=[2, 280], x_s=[280, 7], x_t=[0, 7], y=0.0, edge_attr=[280], num_nodes=280, pdb='1h23', pose=5),\n",
       " BipartiteData(edge_index=[2, 64], x_s=[64, 7], x_t=[64, 7], y=0.0, edge_attr=[64], num_nodes=128, pdb='1o5b', pose=5),\n",
       " BipartiteData(edge_index=[2, 45], x_s=[45, 7], x_t=[45, 7], y=0.0, edge_attr=[45], num_nodes=90, pdb='3nq9', pose=6),\n",
       " BipartiteData(edge_index=[2, 55], x_s=[55, 7], x_t=[55, 7], y=0.0, edge_attr=[55], num_nodes=110, pdb='1q8t', pose=7),\n",
       " BipartiteData(edge_index=[2, 104], x_s=[104, 7], x_t=[104, 7], y=1.0, edge_attr=[104], num_nodes=208, pdb='4j3l', pose=2),\n",
       " BipartiteData(edge_index=[2, 57], x_s=[57, 7], x_t=[57, 7], y=0.0, edge_attr=[57], num_nodes=114, pdb='1bcu', pose=7),\n",
       " BipartiteData(edge_index=[2, 77], x_s=[77, 7], x_t=[77, 7], y=0.0, edge_attr=[77], num_nodes=154, pdb='1gpn', pose=3),\n",
       " BipartiteData(edge_index=[2, 191], x_s=[191, 7], x_t=[0, 7], y=0.0, edge_attr=[191], num_nodes=191, pdb='4w9l', pose=8),\n",
       " BipartiteData(edge_index=[2, 182], x_s=[182, 7], x_t=[0, 7], y=0.0, edge_attr=[182], num_nodes=182, pdb='4mgd', pose=2),\n",
       " BipartiteData(edge_index=[2, 71], x_s=[71, 7], x_t=[71, 7], y=0.0, edge_attr=[71], num_nodes=142, pdb='5tmn', pose=6),\n",
       " BipartiteData(edge_index=[2, 222], x_s=[222, 7], x_t=[0, 7], y=0.0, edge_attr=[222], num_nodes=222, pdb='2wer', pose=5),\n",
       " BipartiteData(edge_index=[2, 160], x_s=[160, 7], x_t=[0, 7], y=0.0, edge_attr=[160], num_nodes=160, pdb='3pyy', pose=6),\n",
       " BipartiteData(edge_index=[2, 0], x_s=[0, 7], x_t=[0, 7], y=0.0, edge_attr=[0], num_nodes=0, pdb='1syi', pose=4),\n",
       " BipartiteData(edge_index=[2, 80], x_s=[80, 7], x_t=[80, 7], y=0.0, edge_attr=[80], num_nodes=160, pdb='1gpn', pose=5),\n",
       " BipartiteData(edge_index=[2, 61], x_s=[61, 7], x_t=[61, 7], y=0.0, edge_attr=[61], num_nodes=122, pdb='3aru', pose=1),\n",
       " BipartiteData(edge_index=[2, 0], x_s=[0, 7], x_t=[0, 7], y=0.0, edge_attr=[0], num_nodes=0, pdb='3nw9', pose=10),\n",
       " BipartiteData(edge_index=[2, 52], x_s=[52, 7], x_t=[52, 7], y=0.0, edge_attr=[52], num_nodes=104, pdb='3kgp', pose=5),\n",
       " BipartiteData(edge_index=[2, 65], x_s=[65, 7], x_t=[65, 7], y=0.0, edge_attr=[65], num_nodes=130, pdb='4gkm', pose=4),\n",
       " BipartiteData(edge_index=[2, 88], x_s=[88, 7], x_t=[88, 7], y=0.0, edge_attr=[88], num_nodes=176, pdb='4kzq', pose=2),\n",
       " BipartiteData(edge_index=[2, 0], x_s=[0, 7], x_t=[0, 7], y=0.0, edge_attr=[0], num_nodes=0, pdb='4qac', pose=9),\n",
       " BipartiteData(edge_index=[2, 211], x_s=[211, 7], x_t=[0, 7], y=0.0, edge_attr=[211], num_nodes=211, pdb='1r5y', pose=2),\n",
       " BipartiteData(edge_index=[2, 96], x_s=[96, 7], x_t=[96, 7], y=0.0, edge_attr=[96], num_nodes=192, pdb='4tmn', pose=4),\n",
       " BipartiteData(edge_index=[2, 0], x_s=[0, 7], x_t=[0, 7], y=0.0, edge_attr=[0], num_nodes=0, pdb='2pog', pose=8),\n",
       " BipartiteData(edge_index=[2, 85], x_s=[85, 7], x_t=[85, 7], y=0.0, edge_attr=[85], num_nodes=170, pdb='4qd6', pose=3),\n",
       " BipartiteData(edge_index=[2, 0], x_s=[0, 7], x_t=[0, 7], y=0.0, edge_attr=[0], num_nodes=0, pdb='2xbv', pose=10),\n",
       " BipartiteData(edge_index=[2, 140], x_s=[140, 7], x_t=[140, 7], y=0.0, edge_attr=[140], num_nodes=280, pdb='3ozs', pose=6),\n",
       " BipartiteData(edge_index=[2, 0], x_s=[0, 7], x_t=[0, 7], y=0.0, edge_attr=[0], num_nodes=0, pdb='5dwr', pose=10),\n",
       " BipartiteData(edge_index=[2, 68], x_s=[68, 7], x_t=[68, 7], y=0.0, edge_attr=[68], num_nodes=136, pdb='4hge', pose=2),\n",
       " BipartiteData(edge_index=[2, 38], x_s=[38, 7], x_t=[38, 7], y=0.0, edge_attr=[38], num_nodes=76, pdb='4eo8', pose=2),\n",
       " BipartiteData(edge_index=[2, 87], x_s=[87, 7], x_t=[87, 7], y=0.0, edge_attr=[87], num_nodes=174, pdb='4agq', pose=9),\n",
       " BipartiteData(edge_index=[2, 57], x_s=[57, 7], x_t=[57, 7], y=0.0, edge_attr=[57], num_nodes=114, pdb='2brb', pose=2),\n",
       " BipartiteData(edge_index=[2, 87], x_s=[87, 7], x_t=[87, 7], y=0.0, edge_attr=[87], num_nodes=174, pdb='2cet', pose=3),\n",
       " BipartiteData(edge_index=[2, 57], x_s=[57, 7], x_t=[57, 7], y=0.0, edge_attr=[57], num_nodes=114, pdb='3zdg', pose=1),\n",
       " BipartiteData(edge_index=[2, 64], x_s=[64, 7], x_t=[64, 7], y=0.0, edge_attr=[64], num_nodes=128, pdb='3wtj', pose=2),\n",
       " BipartiteData(edge_index=[2, 235], x_s=[235, 7], x_t=[0, 7], y=1.0, edge_attr=[235], num_nodes=235, pdb='4w9h', pose=2),\n",
       " BipartiteData(edge_index=[2, 28], x_s=[28, 7], x_t=[28, 7], y=0.0, edge_attr=[28], num_nodes=56, pdb='4owm', pose=9),\n",
       " BipartiteData(edge_index=[2, 67], x_s=[67, 7], x_t=[67, 7], y=0.0, edge_attr=[67], num_nodes=134, pdb='2zcq', pose=9),\n",
       " BipartiteData(edge_index=[2, 60], x_s=[60, 7], x_t=[60, 7], y=1.0, edge_attr=[60], num_nodes=120, pdb='3b27', pose=1),\n",
       " BipartiteData(edge_index=[2, 164], x_s=[164, 7], x_t=[0, 7], y=0.0, edge_attr=[164], num_nodes=164, pdb='3u5j', pose=3),\n",
       " BipartiteData(edge_index=[2, 76], x_s=[76, 7], x_t=[76, 7], y=0.0, edge_attr=[76], num_nodes=152, pdb='1qf1', pose=6),\n",
       " BipartiteData(edge_index=[2, 96], x_s=[96, 7], x_t=[96, 7], y=1.0, edge_attr=[96], num_nodes=192, pdb='3f3d', pose=2),\n",
       " BipartiteData(edge_index=[2, 102], x_s=[102, 7], x_t=[102, 7], y=0.0, edge_attr=[102], num_nodes=204, pdb='3e5a', pose=1),\n",
       " BipartiteData(edge_index=[2, 66], x_s=[66, 7], x_t=[66, 7], y=0.0, edge_attr=[66], num_nodes=132, pdb='4de3', pose=3),\n",
       " BipartiteData(edge_index=[2, 73], x_s=[73, 7], x_t=[73, 7], y=0.0, edge_attr=[73], num_nodes=146, pdb='1ydt', pose=7),\n",
       " BipartiteData(edge_index=[2, 57], x_s=[57, 7], x_t=[57, 7], y=0.0, edge_attr=[57], num_nodes=114, pdb='4u4s', pose=3),\n",
       " BipartiteData(edge_index=[2, 69], x_s=[69, 7], x_t=[69, 7], y=0.0, edge_attr=[69], num_nodes=138, pdb='2r9w', pose=3),\n",
       " BipartiteData(edge_index=[2, 144], x_s=[144, 7], x_t=[0, 7], y=0.0, edge_attr=[144], num_nodes=144, pdb='3n7a', pose=5),\n",
       " BipartiteData(edge_index=[2, 0], x_s=[0, 7], x_t=[0, 7], y=0.0, edge_attr=[0], num_nodes=0, pdb='3dx2', pose=10),\n",
       " BipartiteData(edge_index=[2, 43], x_s=[43, 7], x_t=[43, 7], y=0.0, edge_attr=[43], num_nodes=86, pdb='4llx', pose=7),\n",
       " BipartiteData(edge_index=[2, 332], x_s=[332, 7], x_t=[0, 7], y=0.0, edge_attr=[332], num_nodes=332, pdb='3n76', pose=1),\n",
       " BipartiteData(edge_index=[2, 101], x_s=[101, 7], x_t=[101, 7], y=0.0, edge_attr=[101], num_nodes=202, pdb='3b5r', pose=5),\n",
       " BipartiteData(edge_index=[2, 43], x_s=[43, 7], x_t=[43, 7], y=0.0, edge_attr=[43], num_nodes=86, pdb='4lzs', pose=6),\n",
       " BipartiteData(edge_index=[2, 31], x_s=[31, 7], x_t=[31, 7], y=0.0, edge_attr=[31], num_nodes=62, pdb='3jya', pose=8),\n",
       " BipartiteData(edge_index=[2, 133], x_s=[133, 7], x_t=[0, 7], y=0.0, edge_attr=[133], num_nodes=133, pdb='2xdl', pose=5),\n",
       " BipartiteData(edge_index=[2, 61], x_s=[61, 7], x_t=[61, 7], y=0.0, edge_attr=[61], num_nodes=122, pdb='4ivd', pose=9),\n",
       " BipartiteData(edge_index=[2, 150], x_s=[150, 7], x_t=[0, 7], y=0.0, edge_attr=[150], num_nodes=150, pdb='3u5j', pose=6),\n",
       " BipartiteData(edge_index=[2, 118], x_s=[118, 7], x_t=[118, 7], y=0.0, edge_attr=[118], num_nodes=236, pdb='1o3f', pose=1),\n",
       " BipartiteData(edge_index=[2, 130], x_s=[130, 7], x_t=[130, 7], y=0.0, edge_attr=[130], num_nodes=260, pdb='3oe4', pose=5),\n",
       " BipartiteData(edge_index=[2, 87], x_s=[87, 7], x_t=[87, 7], y=0.0, edge_attr=[87], num_nodes=174, pdb='4agp', pose=3),\n",
       " BipartiteData(edge_index=[2, 0], x_s=[0, 7], x_t=[0, 7], y=0.0, edge_attr=[0], num_nodes=0, pdb='2w66', pose=10),\n",
       " BipartiteData(edge_index=[2, 273], x_s=[273, 7], x_t=[0, 7], y=0.0, edge_attr=[273], num_nodes=273, pdb='3arq', pose=2),\n",
       " BipartiteData(edge_index=[2, 74], x_s=[74, 7], x_t=[74, 7], y=0.0, edge_attr=[74], num_nodes=148, pdb='5tmn', pose=9),\n",
       " BipartiteData(edge_index=[2, 151], x_s=[151, 7], x_t=[0, 7], y=0.0, edge_attr=[151], num_nodes=151, pdb='1r5y', pose=3),\n",
       " BipartiteData(edge_index=[2, 59], x_s=[59, 7], x_t=[59, 7], y=0.0, edge_attr=[59], num_nodes=118, pdb='3d6q', pose=7),\n",
       " BipartiteData(edge_index=[2, 109], x_s=[109, 7], x_t=[109, 7], y=0.0, edge_attr=[109], num_nodes=218, pdb='1syi', pose=3),\n",
       " BipartiteData(edge_index=[2, 45], x_s=[45, 7], x_t=[45, 7], y=0.0, edge_attr=[45], num_nodes=90, pdb='3cj4', pose=8),\n",
       " BipartiteData(edge_index=[2, 44], x_s=[44, 7], x_t=[44, 7], y=1.0, edge_attr=[44], num_nodes=88, pdb='5c28', pose=3),\n",
       " BipartiteData(edge_index=[2, 52], x_s=[52, 7], x_t=[52, 7], y=0.0, edge_attr=[52], num_nodes=104, pdb='3fcq', pose=2),\n",
       " BipartiteData(edge_index=[2, 0], x_s=[0, 7], x_t=[0, 7], y=0.0, edge_attr=[0], num_nodes=0, pdb='2al5', pose=7),\n",
       " BipartiteData(edge_index=[2, 294], x_s=[294, 7], x_t=[0, 7], y=0.0, edge_attr=[294], num_nodes=294, pdb='3bv9', pose=5),\n",
       " BipartiteData(edge_index=[2, 43], x_s=[43, 7], x_t=[43, 7], y=0.0, edge_attr=[43], num_nodes=86, pdb='3uev', pose=3),\n",
       " BipartiteData(edge_index=[2, 35], x_s=[35, 7], x_t=[35, 7], y=0.0, edge_attr=[35], num_nodes=70, pdb='3jvr', pose=6),\n",
       " BipartiteData(edge_index=[2, 174], x_s=[174, 7], x_t=[0, 7], y=0.0, edge_attr=[174], num_nodes=174, pdb='3ryj', pose=7),\n",
       " BipartiteData(edge_index=[2, 0], x_s=[0, 7], x_t=[0, 7], y=0.0, edge_attr=[0], num_nodes=0, pdb='2yge', pose=10),\n",
       " BipartiteData(edge_index=[2, 0], x_s=[0, 7], x_t=[0, 7], y=0.0, edge_attr=[0], num_nodes=0, pdb='2qe4', pose=8),\n",
       " BipartiteData(edge_index=[2, 155], x_s=[155, 7], x_t=[0, 7], y=0.0, edge_attr=[155], num_nodes=155, pdb='1p1n', pose=9),\n",
       " BipartiteData(edge_index=[2, 97], x_s=[97, 7], x_t=[97, 7], y=0.0, edge_attr=[97], num_nodes=194, pdb='3up2', pose=2),\n",
       " BipartiteData(edge_index=[2, 81], x_s=[81, 7], x_t=[81, 7], y=0.0, edge_attr=[81], num_nodes=162, pdb='3uo4', pose=2),\n",
       " BipartiteData(edge_index=[2, 22], x_s=[22, 7], x_t=[22, 7], y=0.0, edge_attr=[22], num_nodes=44, pdb='3g31', pose=5),\n",
       " BipartiteData(edge_index=[2, 0], x_s=[0, 7], x_t=[0, 7], y=0.0, edge_attr=[0], num_nodes=0, pdb='3kr8', pose=7),\n",
       " BipartiteData(edge_index=[2, 79], x_s=[79, 7], x_t=[79, 7], y=0.0, edge_attr=[79], num_nodes=158, pdb='3uo4', pose=7),\n",
       " BipartiteData(edge_index=[2, 53], x_s=[53, 7], x_t=[53, 7], y=1.0, edge_attr=[53], num_nodes=106, pdb='4wiv', pose=3),\n",
       " BipartiteData(edge_index=[2, 58], x_s=[58, 7], x_t=[58, 7], y=0.0, edge_attr=[58], num_nodes=116, pdb='2vw5', pose=6),\n",
       " BipartiteData(edge_index=[2, 0], x_s=[0, 7], x_t=[0, 7], y=0.0, edge_attr=[0], num_nodes=0, pdb='4tmn', pose=10),\n",
       " BipartiteData(edge_index=[2, 80], x_s=[80, 7], x_t=[80, 7], y=0.0, edge_attr=[80], num_nodes=160, pdb='1nvq', pose=4),\n",
       " BipartiteData(edge_index=[2, 0], x_s=[0, 7], x_t=[0, 7], y=0.0, edge_attr=[0], num_nodes=0, pdb='3e92', pose=4),\n",
       " BipartiteData(edge_index=[2, 0], x_s=[0, 7], x_t=[0, 7], y=0.0, edge_attr=[0], num_nodes=0, pdb='4j3l', pose=9),\n",
       " BipartiteData(edge_index=[2, 0], x_s=[0, 7], x_t=[0, 7], y=0.0, edge_attr=[0], num_nodes=0, pdb='4kzu', pose=10),\n",
       " BipartiteData(edge_index=[2, 189], x_s=[189, 7], x_t=[0, 7], y=0.0, edge_attr=[189], num_nodes=189, pdb='2wer', pose=4),\n",
       " BipartiteData(edge_index=[2, 180], x_s=[180, 7], x_t=[0, 7], y=0.0, edge_attr=[180], num_nodes=180, pdb='3u5j', pose=4),\n",
       " BipartiteData(edge_index=[2, 310], x_s=[310, 7], x_t=[0, 7], y=0.0, edge_attr=[310], num_nodes=310, pdb='1h23', pose=3),\n",
       " BipartiteData(edge_index=[2, 40], x_s=[40, 7], x_t=[40, 7], y=0.0, edge_attr=[40], num_nodes=80, pdb='3uew', pose=7),\n",
       " BipartiteData(edge_index=[2, 0], x_s=[0, 7], x_t=[0, 7], y=0.0, edge_attr=[0], num_nodes=0, pdb='3gc5', pose=10),\n",
       " BipartiteData(edge_index=[2, 43], x_s=[43, 7], x_t=[43, 7], y=0.0, edge_attr=[43], num_nodes=86, pdb='4gfm', pose=5),\n",
       " BipartiteData(edge_index=[2, 60], x_s=[60, 7], x_t=[60, 7], y=0.0, edge_attr=[60], num_nodes=120, pdb='1w4o', pose=1),\n",
       " BipartiteData(edge_index=[2, 162], x_s=[162, 7], x_t=[162, 7], y=0.0, edge_attr=[162], num_nodes=324, pdb='1nc3', pose=4),\n",
       " BipartiteData(edge_index=[2, 73], x_s=[73, 7], x_t=[73, 7], y=0.0, edge_attr=[73], num_nodes=146, pdb='4de3', pose=8),\n",
       " BipartiteData(edge_index=[2, 0], x_s=[0, 7], x_t=[0, 7], y=0.0, edge_attr=[0], num_nodes=0, pdb='1c5z', pose=10),\n",
       " BipartiteData(edge_index=[2, 0], x_s=[0, 7], x_t=[0, 7], y=0.0, edge_attr=[0], num_nodes=0, pdb='2yki', pose=10),\n",
       " BipartiteData(edge_index=[2, 0], x_s=[0, 7], x_t=[0, 7], y=0.0, edge_attr=[0], num_nodes=0, pdb='2p15', pose=7),\n",
       " BipartiteData(edge_index=[2, 83], x_s=[83, 7], x_t=[83, 7], y=0.0, edge_attr=[83], num_nodes=166, pdb='4agp', pose=1),\n",
       " BipartiteData(edge_index=[2, 85], x_s=[85, 7], x_t=[85, 7], y=0.0, edge_attr=[85], num_nodes=170, pdb='3b1m', pose=3),\n",
       " BipartiteData(edge_index=[2, 51], x_s=[51, 7], x_t=[51, 7], y=0.0, edge_attr=[51], num_nodes=102, pdb='3qgy', pose=9),\n",
       " BipartiteData(edge_index=[2, 65], x_s=[65, 7], x_t=[65, 7], y=0.0, edge_attr=[65], num_nodes=130, pdb='2xys', pose=6),\n",
       " BipartiteData(edge_index=[2, 65], x_s=[65, 7], x_t=[65, 7], y=0.0, edge_attr=[65], num_nodes=130, pdb='1o5b', pose=8),\n",
       " BipartiteData(edge_index=[2, 0], x_s=[0, 7], x_t=[0, 7], y=0.0, edge_attr=[0], num_nodes=0, pdb='3ebp', pose=10),\n",
       " BipartiteData(edge_index=[2, 80], x_s=[80, 7], x_t=[80, 7], y=0.0, edge_attr=[80], num_nodes=160, pdb='1k1i', pose=9),\n",
       " BipartiteData(edge_index=[2, 93], x_s=[93, 7], x_t=[93, 7], y=0.0, edge_attr=[93], num_nodes=186, pdb='4x6p', pose=5),\n",
       " BipartiteData(edge_index=[2, 76], x_s=[76, 7], x_t=[76, 7], y=0.0, edge_attr=[76], num_nodes=152, pdb='3d4z', pose=4),\n",
       " BipartiteData(edge_index=[2, 0], x_s=[0, 7], x_t=[0, 7], y=0.0, edge_attr=[0], num_nodes=0, pdb='3coz', pose=10),\n",
       " BipartiteData(edge_index=[2, 387], x_s=[387, 7], x_t=[0, 7], y=0.0, edge_attr=[387], num_nodes=387, pdb='3utu', pose=3),\n",
       " BipartiteData(edge_index=[2, 62], x_s=[62, 7], x_t=[62, 7], y=1.0, edge_attr=[62], num_nodes=124, pdb='2c3i', pose=5),\n",
       " BipartiteData(edge_index=[2, 125], x_s=[125, 7], x_t=[125, 7], y=0.0, edge_attr=[125], num_nodes=250, pdb='1sqa', pose=8),\n",
       " BipartiteData(edge_index=[2, 88], x_s=[88, 7], x_t=[88, 7], y=0.0, edge_attr=[88], num_nodes=176, pdb='1vso', pose=5),\n",
       " BipartiteData(edge_index=[2, 92], x_s=[92, 7], x_t=[92, 7], y=0.0, edge_attr=[92], num_nodes=184, pdb='4j21', pose=3),\n",
       " BipartiteData(edge_index=[2, 86], x_s=[86, 7], x_t=[86, 7], y=0.0, edge_attr=[86], num_nodes=172, pdb='5a7b', pose=5),\n",
       " BipartiteData(edge_index=[2, 141], x_s=[141, 7], x_t=[141, 7], y=0.0, edge_attr=[141], num_nodes=282, pdb='3ozt', pose=4),\n",
       " BipartiteData(edge_index=[2, 122], x_s=[122, 7], x_t=[122, 7], y=0.0, edge_attr=[122], num_nodes=244, pdb='3nw9', pose=5),\n",
       " BipartiteData(edge_index=[2, 68], x_s=[68, 7], x_t=[68, 7], y=0.0, edge_attr=[68], num_nodes=136, pdb='1q8t', pose=3),\n",
       " BipartiteData(edge_index=[2, 138], x_s=[138, 7], x_t=[0, 7], y=0.0, edge_attr=[138], num_nodes=138, pdb='3u5j', pose=8),\n",
       " BipartiteData(edge_index=[2, 61], x_s=[61, 7], x_t=[61, 7], y=0.0, edge_attr=[61], num_nodes=122, pdb='1bcu', pose=6),\n",
       " BipartiteData(edge_index=[2, 0], x_s=[0, 7], x_t=[0, 7], y=0.0, edge_attr=[0], num_nodes=0, pdb='3ehy', pose=10),\n",
       " BipartiteData(edge_index=[2, 87], x_s=[87, 7], x_t=[87, 7], y=0.0, edge_attr=[87], num_nodes=174, pdb='4twp', pose=8),\n",
       " BipartiteData(edge_index=[2, 50], x_s=[50, 7], x_t=[50, 7], y=1.0, edge_attr=[50], num_nodes=100, pdb='4ih7', pose=1),\n",
       " BipartiteData(edge_index=[2, 86], x_s=[86, 7], x_t=[86, 7], y=0.0, edge_attr=[86], num_nodes=172, pdb='2qbp', pose=3),\n",
       " BipartiteData(edge_index=[2, 60], x_s=[60, 7], x_t=[60, 7], y=0.0, edge_attr=[60], num_nodes=120, pdb='2wtv', pose=9),\n",
       " BipartiteData(edge_index=[2, 0], x_s=[0, 7], x_t=[0, 7], y=0.0, edge_attr=[0], num_nodes=0, pdb='2yge', pose=2),\n",
       " BipartiteData(edge_index=[2, 123], x_s=[123, 7], x_t=[123, 7], y=0.0, edge_attr=[123], num_nodes=246, pdb='3prs', pose=4),\n",
       " BipartiteData(edge_index=[2, 78], x_s=[78, 7], x_t=[78, 7], y=0.0, edge_attr=[78], num_nodes=156, pdb='2fxs', pose=6),\n",
       " BipartiteData(edge_index=[2, 57], x_s=[57, 7], x_t=[57, 7], y=0.0, edge_attr=[57], num_nodes=114, pdb='2pog', pose=3),\n",
       " BipartiteData(edge_index=[2, 80], x_s=[80, 7], x_t=[80, 7], y=0.0, edge_attr=[80], num_nodes=160, pdb='4de2', pose=4),\n",
       " BipartiteData(edge_index=[2, 338], x_s=[338, 7], x_t=[0, 7], y=0.0, edge_attr=[338], num_nodes=338, pdb='3bv9', pose=8),\n",
       " BipartiteData(edge_index=[2, 0], x_s=[0, 7], x_t=[0, 7], y=0.0, edge_attr=[0], num_nodes=0, pdb='4mme', pose=8),\n",
       " BipartiteData(edge_index=[2, 47], x_s=[47, 7], x_t=[47, 7], y=0.0, edge_attr=[47], num_nodes=94, pdb='3aru', pose=4),\n",
       " BipartiteData(edge_index=[2, 0], x_s=[0, 7], x_t=[0, 7], y=0.0, edge_attr=[0], num_nodes=0, pdb='2brb', pose=10),\n",
       " BipartiteData(edge_index=[2, 76], x_s=[76, 7], x_t=[76, 7], y=0.0, edge_attr=[76], num_nodes=152, pdb='2fxs', pose=9),\n",
       " BipartiteData(edge_index=[2, 0], x_s=[0, 7], x_t=[0, 7], y=0.0, edge_attr=[0], num_nodes=0, pdb='4e5w', pose=9),\n",
       " BipartiteData(edge_index=[2, 51], x_s=[51, 7], x_t=[51, 7], y=0.0, edge_attr=[51], num_nodes=102, pdb='3b27', pose=5),\n",
       " BipartiteData(edge_index=[2, 74], x_s=[74, 7], x_t=[74, 7], y=0.0, edge_attr=[74], num_nodes=148, pdb='1ydt', pose=4),\n",
       " BipartiteData(edge_index=[2, 89], x_s=[89, 7], x_t=[89, 7], y=0.0, edge_attr=[89], num_nodes=178, pdb='4dli', pose=5),\n",
       " BipartiteData(edge_index=[2, 112], x_s=[112, 7], x_t=[0, 7], y=0.0, edge_attr=[112], num_nodes=112, pdb='3gr2', pose=3),\n",
       " BipartiteData(edge_index=[2, 43], x_s=[43, 7], x_t=[43, 7], y=0.0, edge_attr=[43], num_nodes=86, pdb='4gfm', pose=6),\n",
       " BipartiteData(edge_index=[2, 219], x_s=[219, 7], x_t=[0, 7], y=0.0, edge_attr=[219], num_nodes=219, pdb='1p1q', pose=1),\n",
       " BipartiteData(edge_index=[2, 126], x_s=[126, 7], x_t=[126, 7], y=0.0, edge_attr=[126], num_nodes=252, pdb='3gbb', pose=9),\n",
       " BipartiteData(edge_index=[2, 65], x_s=[65, 7], x_t=[65, 7], y=0.0, edge_attr=[65], num_nodes=130, pdb='3myg', pose=5),\n",
       " BipartiteData(edge_index=[2, 62], x_s=[62, 7], x_t=[62, 7], y=0.0, edge_attr=[62], num_nodes=124, pdb='3dx1', pose=9),\n",
       " BipartiteData(edge_index=[2, 0], x_s=[0, 7], x_t=[0, 7], y=0.0, edge_attr=[0], num_nodes=0, pdb='3fcq', pose=10),\n",
       " BipartiteData(edge_index=[2, 107], x_s=[107, 7], x_t=[107, 7], y=1.0, edge_attr=[107], num_nodes=214, pdb='3b5r', pose=1),\n",
       " BipartiteData(edge_index=[2, 69], x_s=[69, 7], x_t=[69, 7], y=1.0, edge_attr=[69], num_nodes=138, pdb='3p5o', pose=1),\n",
       " BipartiteData(edge_index=[2, 32], x_s=[32, 7], x_t=[32, 7], y=0.0, edge_attr=[32], num_nodes=64, pdb='3twp', pose=4),\n",
       " BipartiteData(edge_index=[2, 84], x_s=[84, 7], x_t=[84, 7], y=0.0, edge_attr=[84], num_nodes=168, pdb='4w9i', pose=1),\n",
       " BipartiteData(edge_index=[2, 227], x_s=[227, 7], x_t=[0, 7], y=0.0, edge_attr=[227], num_nodes=227, pdb='2v7a', pose=7),\n",
       " BipartiteData(edge_index=[2, 49], x_s=[49, 7], x_t=[49, 7], y=0.0, edge_attr=[49], num_nodes=98, pdb='4w9i', pose=8),\n",
       " BipartiteData(edge_index=[2, 0], x_s=[0, 7], x_t=[0, 7], y=0.0, edge_attr=[0], num_nodes=0, pdb='5tmn', pose=10),\n",
       " BipartiteData(edge_index=[2, 65], x_s=[65, 7], x_t=[65, 7], y=0.0, edge_attr=[65], num_nodes=130, pdb='3kr8', pose=5),\n",
       " BipartiteData(edge_index=[2, 56], x_s=[56, 7], x_t=[56, 7], y=0.0, edge_attr=[56], num_nodes=112, pdb='4jsz', pose=9),\n",
       " BipartiteData(edge_index=[2, 46], x_s=[46, 7], x_t=[46, 7], y=0.0, edge_attr=[46], num_nodes=92, pdb='1s38', pose=9),\n",
       " BipartiteData(edge_index=[2, 61], x_s=[61, 7], x_t=[61, 7], y=0.0, edge_attr=[61], num_nodes=122, pdb='2w4x', pose=9),\n",
       " BipartiteData(edge_index=[2, 40], x_s=[40, 7], x_t=[40, 7], y=0.0, edge_attr=[40], num_nodes=80, pdb='3twp', pose=2),\n",
       " BipartiteData(edge_index=[2, 82], x_s=[82, 7], x_t=[82, 7], y=1.0, edge_attr=[82], num_nodes=164, pdb='4jia', pose=5),\n",
       " BipartiteData(edge_index=[2, 144], x_s=[144, 7], x_t=[144, 7], y=0.0, edge_attr=[144], num_nodes=288, pdb='4gr0', pose=6),\n",
       " BipartiteData(edge_index=[2, 57], x_s=[57, 7], x_t=[57, 7], y=0.0, edge_attr=[57], num_nodes=114, pdb='4jfs', pose=8),\n",
       " BipartiteData(edge_index=[2, 291], x_s=[291, 7], x_t=[0, 7], y=0.0, edge_attr=[291], num_nodes=291, pdb='3gc5', pose=6),\n",
       " BipartiteData(edge_index=[2, 193], x_s=[193, 7], x_t=[193, 7], y=0.0, edge_attr=[193], num_nodes=386, pdb='3ag9', pose=2),\n",
       " BipartiteData(edge_index=[2, 72], x_s=[0, 7], x_t=[72, 7], y=0.0, edge_attr=[72], num_nodes=72, pdb='5c2h', pose=8),\n",
       " BipartiteData(edge_index=[2, 97], x_s=[97, 7], x_t=[97, 7], y=0.0, edge_attr=[97], num_nodes=194, pdb='3jvs', pose=2),\n",
       " BipartiteData(edge_index=[2, 0], x_s=[0, 7], x_t=[0, 7], y=0.0, edge_attr=[0], num_nodes=0, pdb='3ejr', pose=10),\n",
       " BipartiteData(edge_index=[2, 70], x_s=[70, 7], x_t=[70, 7], y=0.0, edge_attr=[70], num_nodes=140, pdb='4f9w', pose=3),\n",
       " BipartiteData(edge_index=[2, 82], x_s=[82, 7], x_t=[82, 7], y=0.0, edge_attr=[82], num_nodes=164, pdb='3g2n', pose=5),\n",
       " BipartiteData(edge_index=[2, 127], x_s=[127, 7], x_t=[127, 7], y=0.0, edge_attr=[127], num_nodes=254, pdb='3b68', pose=2),\n",
       " BipartiteData(edge_index=[2, 194], x_s=[194, 7], x_t=[0, 7], y=0.0, edge_attr=[194], num_nodes=194, pdb='1p1n', pose=2),\n",
       " BipartiteData(edge_index=[2, 231], x_s=[231, 7], x_t=[0, 7], y=0.0, edge_attr=[231], num_nodes=231, pdb='2wbg', pose=7),\n",
       " BipartiteData(edge_index=[2, 70], x_s=[70, 7], x_t=[70, 7], y=0.0, edge_attr=[70], num_nodes=140, pdb='3r88', pose=5),\n",
       " BipartiteData(edge_index=[2, 60], x_s=[60, 7], x_t=[60, 7], y=0.0, edge_attr=[60], num_nodes=120, pdb='3kr8', pose=4),\n",
       " BipartiteData(edge_index=[2, 69], x_s=[69, 7], x_t=[69, 7], y=0.0, edge_attr=[69], num_nodes=138, pdb='1qkt', pose=6),\n",
       " BipartiteData(edge_index=[2, 61], x_s=[61, 7], x_t=[61, 7], y=0.0, edge_attr=[61], num_nodes=122, pdb='4gfm', pose=9),\n",
       " BipartiteData(edge_index=[2, 36], x_s=[36, 7], x_t=[36, 7], y=0.0, edge_attr=[36], num_nodes=72, pdb='4eo8', pose=5),\n",
       " BipartiteData(edge_index=[2, 219], x_s=[219, 7], x_t=[0, 7], y=1.0, edge_attr=[219], num_nodes=219, pdb='2ymd', pose=1),\n",
       " BipartiteData(edge_index=[2, 158], x_s=[158, 7], x_t=[0, 7], y=0.0, edge_attr=[158], num_nodes=158, pdb='3pyy', pose=4),\n",
       " BipartiteData(edge_index=[2, 0], x_s=[0, 7], x_t=[0, 7], y=0.0, edge_attr=[0], num_nodes=0, pdb='3fv2', pose=3),\n",
       " BipartiteData(edge_index=[2, 66], x_s=[66, 7], x_t=[66, 7], y=0.0, edge_attr=[66], num_nodes=132, pdb='2zb1', pose=3),\n",
       " BipartiteData(edge_index=[2, 45], x_s=[45, 7], x_t=[45, 7], y=0.0, edge_attr=[45], num_nodes=90, pdb='3rlr', pose=7),\n",
       " BipartiteData(edge_index=[2, 59], x_s=[59, 7], x_t=[59, 7], y=0.0, edge_attr=[59], num_nodes=118, pdb='4u4s', pose=9),\n",
       " BipartiteData(edge_index=[2, 91], x_s=[91, 7], x_t=[91, 7], y=1.0, edge_attr=[91], num_nodes=182, pdb='1o5b', pose=1),\n",
       " BipartiteData(edge_index=[2, 0], x_s=[0, 7], x_t=[0, 7], y=0.0, edge_attr=[0], num_nodes=0, pdb='3u8k', pose=10),\n",
       " BipartiteData(edge_index=[2, 48], x_s=[48, 7], x_t=[48, 7], y=0.0, edge_attr=[48], num_nodes=96, pdb='4llx', pose=3),\n",
       " BipartiteData(edge_index=[2, 69], x_s=[69, 7], x_t=[69, 7], y=0.0, edge_attr=[69], num_nodes=138, pdb='3dx1', pose=6),\n",
       " BipartiteData(edge_index=[2, 0], x_s=[0, 7], x_t=[0, 7], y=0.0, edge_attr=[0], num_nodes=0, pdb='3e92', pose=7),\n",
       " BipartiteData(edge_index=[2, 143], x_s=[143, 7], x_t=[0, 7], y=0.0, edge_attr=[143], num_nodes=143, pdb='4bkt', pose=2),\n",
       " BipartiteData(edge_index=[2, 38], x_s=[38, 7], x_t=[38, 7], y=0.0, edge_attr=[38], num_nodes=76, pdb='4ih7', pose=6),\n",
       " BipartiteData(edge_index=[2, 0], x_s=[0, 7], x_t=[0, 7], y=0.0, edge_attr=[0], num_nodes=0, pdb='2cbv', pose=10),\n",
       " BipartiteData(edge_index=[2, 182], x_s=[182, 7], x_t=[0, 7], y=0.0, edge_attr=[182], num_nodes=182, pdb='3u8k', pose=2),\n",
       " BipartiteData(edge_index=[2, 110], x_s=[110, 7], x_t=[110, 7], y=1.0, edge_attr=[110], num_nodes=220, pdb='2w66', pose=1),\n",
       " BipartiteData(edge_index=[2, 80], x_s=[80, 7], x_t=[0, 7], y=0.0, edge_attr=[80], num_nodes=80, pdb='3gr2', pose=9),\n",
       " BipartiteData(edge_index=[2, 98], x_s=[98, 7], x_t=[98, 7], y=0.0, edge_attr=[98], num_nodes=196, pdb='3kwa', pose=3),\n",
       " BipartiteData(edge_index=[2, 40], x_s=[40, 7], x_t=[40, 7], y=0.0, edge_attr=[40], num_nodes=80, pdb='4gfm', pose=2),\n",
       " BipartiteData(edge_index=[2, 137], x_s=[137, 7], x_t=[137, 7], y=0.0, edge_attr=[137], num_nodes=274, pdb='3prs', pose=8),\n",
       " BipartiteData(edge_index=[2, 51], x_s=[51, 7], x_t=[51, 7], y=0.0, edge_attr=[51], num_nodes=102, pdb='2br1', pose=7),\n",
       " BipartiteData(edge_index=[2, 58], x_s=[58, 7], x_t=[58, 7], y=0.0, edge_attr=[58], num_nodes=116, pdb='1o5b', pose=6),\n",
       " BipartiteData(edge_index=[2, 74], x_s=[74, 7], x_t=[74, 7], y=1.0, edge_attr=[74], num_nodes=148, pdb='4jfs', pose=2),\n",
       " BipartiteData(edge_index=[2, 122], x_s=[122, 7], x_t=[122, 7], y=0.0, edge_attr=[122], num_nodes=244, pdb='2al5', pose=6),\n",
       " BipartiteData(edge_index=[2, 0], x_s=[0, 7], x_t=[0, 7], y=0.0, edge_attr=[0], num_nodes=0, pdb='3e92', pose=6),\n",
       " BipartiteData(edge_index=[2, 72], x_s=[72, 7], x_t=[72, 7], y=0.0, edge_attr=[72], num_nodes=144, pdb='3ejr', pose=4),\n",
       " ...]"
      ]
     },
     "execution_count": 121,
     "metadata": {},
     "output_type": "execute_result"
    }
   ],
   "source": [
    "dataset_list"
   ]
  },
  {
   "cell_type": "code",
   "execution_count": 122,
   "id": "69c2c1b3-2b7d-4bdf-84ad-2fa2bea1d2a9",
   "metadata": {},
   "outputs": [],
   "source": [
    "import pickle"
   ]
  },
  {
   "cell_type": "code",
   "execution_count": 123,
   "id": "6719f59f-feb0-47ec-9b2d-7e9f6df5486e",
   "metadata": {},
   "outputs": [
    {
     "name": "stdout",
     "output_type": "stream",
     "text": [
      "Saved with sucess!\n"
     ]
    }
   ],
   "source": [
    "# Save the list to a file\n",
    "with open(f'{config.data}/bipartite_data_name_type.pkl', 'wb') as file:\n",
    "    pickle.dump(dataset_list, file)\n",
    "    print('Saved with sucess!')"
   ]
  },
  {
   "cell_type": "code",
   "execution_count": 124,
   "id": "7442cb09-c212-4c3b-8698-80838216cc8e",
   "metadata": {},
   "outputs": [
    {
     "data": {
      "text/plain": [
       "tensor([], size=(0, 7))"
      ]
     },
     "execution_count": 124,
     "metadata": {},
     "output_type": "execute_result"
    }
   ],
   "source": [
    "dataset_list[4].x_s#[0:10]"
   ]
  },
  {
   "cell_type": "markdown",
   "id": "2b20b3cf-296a-49cd-bfcf-68d0b66a1d27",
   "metadata": {},
   "source": [
    "#### Opening pkl "
   ]
  },
  {
   "cell_type": "code",
   "execution_count": 8,
   "id": "b90b9ecf-c2fa-4b12-b344-7d93d4ca07ef",
   "metadata": {},
   "outputs": [
    {
     "data": {
      "text/plain": [
       "2840"
      ]
     },
     "execution_count": 8,
     "metadata": {},
     "output_type": "execute_result"
    }
   ],
   "source": [
    "with open(f'{config.data}/bipartite_data_name_type.pkl', 'rb') as file:\n",
    "    dataset_list_opened = pickle.load(file)\n",
    "len(dataset_list_opened)"
   ]
  },
  {
   "cell_type": "markdown",
   "id": "502e58a1-e6a5-4825-8d0f-27a9cc366174",
   "metadata": {},
   "source": [
    "## Dataset info "
   ]
  },
  {
   "cell_type": "code",
   "execution_count": 10,
   "id": "66205f18-7903-4ade-8d51-c7aad4287ab6",
   "metadata": {},
   "outputs": [],
   "source": [
    "##### Filter data list \n",
    "\n",
    "filtered_data_list_num_nodes = [data for data in dataset_list_opened if data.num_nodes>0]\n",
    "filtered_data_list_descriptors = [data for data in filtered_data_list_num_nodes if data.x_s.shape[0] > 0 and data.x_t.shape[0] > 0]\n",
    "filtered_data_list_descriptors = [data for data in filtered_data_list_descriptors if not data.x_t[1,2].isnan()] \n",
    "\n",
    "filtered_data_list = filtered_data_list_descriptors.copy()\n",
    "\n",
    "label_distribuition = dict(Counter([label.y.tolist() for label in filtered_data_list]))\n",
    "amount_of_graphs_used_to_train = len(filtered_data_list)"
   ]
  },
  {
   "cell_type": "code",
   "execution_count": 11,
   "id": "473be1a7-6f1b-4603-bf1d-4429e9a2a2e0",
   "metadata": {},
   "outputs": [],
   "source": [
    "filtered_data_list_descriptors = [data for data in filtered_data_list_descriptors if not data.x_t[1,2].isnan()] "
   ]
  },
  {
   "cell_type": "code",
   "execution_count": 12,
   "id": "52defc85-a15c-4cc3-8e05-2b4d23cb00a0",
   "metadata": {
    "scrolled": true
   },
   "outputs": [
    {
     "data": {
      "text/plain": [
       "1948"
      ]
     },
     "execution_count": 12,
     "metadata": {},
     "output_type": "execute_result"
    }
   ],
   "source": [
    "len(filtered_data_list)"
   ]
  },
  {
   "cell_type": "code",
   "execution_count": 44,
   "id": "6e624b9d-b13d-431b-9c1a-1686e3fad3ee",
   "metadata": {},
   "outputs": [
    {
     "data": {
      "text/plain": [
       "27"
      ]
     },
     "execution_count": 44,
     "metadata": {},
     "output_type": "execute_result"
    }
   ],
   "source": [
    "len(set(pdbs) - set(proper_order))"
   ]
  },
  {
   "cell_type": "code",
   "execution_count": 36,
   "id": "7520baef-e56e-42e6-8763-a74e778cacd5",
   "metadata": {},
   "outputs": [],
   "source": [
    "proper_order = list(pd.read_csv('/home/lbcb02/Workspace/BindRanker/BindRanker/Datahub/Data/depara_pdb_protein_name.csv').sort_values('Protein name')['PDB code'])"
   ]
  },
  {
   "cell_type": "code",
   "execution_count": 37,
   "id": "ca1fb256-d34b-428c-be4c-4130e45e3a7b",
   "metadata": {},
   "outputs": [
    {
     "ename": "ValueError",
     "evalue": "'3d6q' is not in list",
     "output_type": "error",
     "traceback": [
      "\u001b[0;31m---------------------------------------------------------------------------\u001b[0m",
      "\u001b[0;31mValueError\u001b[0m                                Traceback (most recent call last)",
      "\u001b[0;32m/tmp/ipykernel_28486/4375825.py\u001b[0m in \u001b[0;36m<module>\u001b[0;34m\u001b[0m\n\u001b[1;32m      2\u001b[0m     \u001b[0;32mreturn\u001b[0m \u001b[0mproper_order\u001b[0m\u001b[0;34m.\u001b[0m\u001b[0mindex\u001b[0m\u001b[0;34m(\u001b[0m\u001b[0mitem\u001b[0m\u001b[0;34m.\u001b[0m\u001b[0mpdb\u001b[0m\u001b[0;34m)\u001b[0m\u001b[0;34m\u001b[0m\u001b[0;34m\u001b[0m\u001b[0m\n\u001b[1;32m      3\u001b[0m \u001b[0;34m\u001b[0m\u001b[0m\n\u001b[0;32m----> 4\u001b[0;31m \u001b[0msorted_bipartite_data\u001b[0m \u001b[0;34m=\u001b[0m \u001b[0msorted\u001b[0m\u001b[0;34m(\u001b[0m\u001b[0mfiltered_data_list\u001b[0m\u001b[0;34m,\u001b[0m \u001b[0mkey\u001b[0m\u001b[0;34m=\u001b[0m\u001b[0mpdb_index\u001b[0m\u001b[0;34m)\u001b[0m\u001b[0;34m\u001b[0m\u001b[0;34m\u001b[0m\u001b[0m\n\u001b[0m",
      "\u001b[0;32m/tmp/ipykernel_28486/4375825.py\u001b[0m in \u001b[0;36mpdb_index\u001b[0;34m(item)\u001b[0m\n\u001b[1;32m      1\u001b[0m \u001b[0;32mdef\u001b[0m \u001b[0mpdb_index\u001b[0m\u001b[0;34m(\u001b[0m\u001b[0mitem\u001b[0m\u001b[0;34m)\u001b[0m\u001b[0;34m:\u001b[0m\u001b[0;34m\u001b[0m\u001b[0;34m\u001b[0m\u001b[0m\n\u001b[0;32m----> 2\u001b[0;31m     \u001b[0;32mreturn\u001b[0m \u001b[0mproper_order\u001b[0m\u001b[0;34m.\u001b[0m\u001b[0mindex\u001b[0m\u001b[0;34m(\u001b[0m\u001b[0mitem\u001b[0m\u001b[0;34m.\u001b[0m\u001b[0mpdb\u001b[0m\u001b[0;34m)\u001b[0m\u001b[0;34m\u001b[0m\u001b[0;34m\u001b[0m\u001b[0m\n\u001b[0m\u001b[1;32m      3\u001b[0m \u001b[0;34m\u001b[0m\u001b[0m\n\u001b[1;32m      4\u001b[0m \u001b[0msorted_bipartite_data\u001b[0m \u001b[0;34m=\u001b[0m \u001b[0msorted\u001b[0m\u001b[0;34m(\u001b[0m\u001b[0mfiltered_data_list\u001b[0m\u001b[0;34m,\u001b[0m \u001b[0mkey\u001b[0m\u001b[0;34m=\u001b[0m\u001b[0mpdb_index\u001b[0m\u001b[0;34m)\u001b[0m\u001b[0;34m\u001b[0m\u001b[0;34m\u001b[0m\u001b[0m\n",
      "\u001b[0;31mValueError\u001b[0m: '3d6q' is not in list"
     ]
    }
   ],
   "source": [
    "def pdb_index(item):\n",
    "    proper_order.index(item.pdb)\n",
    "    return order \n",
    "\n",
    "sorted_bipartite_data = sorted(filtered_data_list, key=pdb_index)"
   ]
  },
  {
   "cell_type": "code",
   "execution_count": 28,
   "id": "1c3a6a1b-5569-4061-be82-53ca17e1e954",
   "metadata": {},
   "outputs": [
    {
     "data": {
      "text/plain": [
       "2"
      ]
     },
     "execution_count": 28,
     "metadata": {},
     "output_type": "execute_result"
    }
   ],
   "source": [
    "proper_order.index('2hs1')"
   ]
  },
  {
   "cell_type": "code",
   "execution_count": 141,
   "id": "4f4114cc-237e-4f98-b462-6089f6d0f389",
   "metadata": {},
   "outputs": [
    {
     "data": {
      "text/plain": [
       "['Mass',\n",
       " 'Charge',\n",
       " 'Element_Name',\n",
       " 'Hybridization',\n",
       " 'Num_Hydrogens',\n",
       " 'Formal_Charge',\n",
       " 'Unpaired_Electron',\n",
       " 'In_Aromatic_Substructure']"
      ]
     },
     "execution_count": 141,
     "metadata": {},
     "output_type": "execute_result"
    }
   ],
   "source": [
    "config.node_descriptors"
   ]
  },
  {
   "cell_type": "code",
   "execution_count": 142,
   "id": "2f72ddc9-48ed-42eb-bbd5-4e6713dc2479",
   "metadata": {},
   "outputs": [
    {
     "data": {
      "text/plain": [
       "tensor([[0., 0., 2., 0., 0., 0., 1.],\n",
       "        [0., 0., 2., 0., 0., 0., 1.],\n",
       "        [0., 0., 2., 1., 0., 0., 1.],\n",
       "        [0., 0., 2., 1., 0., 0., 1.],\n",
       "        [0., 2., 2., 0., 0., 0., 1.],\n",
       "        [0., 0., 2., 0., 0., 0., 1.],\n",
       "        [0., 2., 2., 0., 0., 0., 1.],\n",
       "        [0., 0., 2., 1., 0., 0., 1.],\n",
       "        [0., 2., 2., 0., 0., 0., 0.],\n",
       "        [0., 2., 2., 0., 0., 0., 0.]])"
      ]
     },
     "execution_count": 142,
     "metadata": {},
     "output_type": "execute_result"
    }
   ],
   "source": [
    "filtered_data_list[5].x_s[0:10]"
   ]
  },
  {
   "cell_type": "code",
   "execution_count": 143,
   "id": "8aaa633b-fd1e-4c13-b73b-c57d44d6f754",
   "metadata": {},
   "outputs": [],
   "source": [
    "import torch\n",
    "\n",
    "def apply_one_hot_encoding_to_tensor(tensor, column_index, num_classes):\n",
    "    column_data = tensor[:, column_index]\n",
    "     \n",
    "    one_hot_encoded = torch.nn.functional.one_hot(column_data.to(torch.int64), num_classes=num_classes)\n",
    "    tensor = torch.cat((tensor, one_hot_encoded.float()), dim=1)\n",
    "    tensor = torch.cat((tensor[:, :column_index], tensor[:, column_index + 1:]), dim=1)\n",
    " \n",
    "        \n",
    "    return tensor\n",
    "\n",
    "def apply_one_hot_encoding_to_data(data_list, column_index, num_classes):\n",
    "    i = 0 \n",
    "    for index, data in enumerate(data_list):\n",
    "        try:\n",
    "            data.x_s = apply_one_hot_encoding_to_tensor(data.x_s, column_index, num_classes)\n",
    "            data.x_t = apply_one_hot_encoding_to_tensor(data.x_t, column_index, num_classes)\n",
    "        except Exception as e:\n",
    "            print('Error: ', e, 'index', index)\n",
    "            i += 1\n",
    "    print('Total erros: ', i )"
   ]
  },
  {
   "cell_type": "markdown",
   "id": "614141a1-b929-4bcf-abad-af342e73e8c7",
   "metadata": {},
   "source": [
    "#### One-hot-enconding-Element_Name"
   ]
  },
  {
   "cell_type": "code",
   "execution_count": 144,
   "id": "9588e896-2aaa-4019-badf-b959c0b16a52",
   "metadata": {},
   "outputs": [
    {
     "name": "stdout",
     "output_type": "stream",
     "text": [
      "Total erros:  0\n"
     ]
    }
   ],
   "source": [
    "apply_one_hot_encoding_to_data(filtered_data_list, column_index=1, num_classes=5)"
   ]
  },
  {
   "cell_type": "markdown",
   "id": "80f486a8-0393-49a9-98b4-c80b699f59bf",
   "metadata": {},
   "source": [
    "['Charge',\n",
    " 'Element_Name',\n",
    " 'Hybridization',\n",
    " 'Num_Hydrogens',\n",
    " 'Formal_Charge',\n",
    " 'Unpaired_Electron',\n",
    " 'In_Aromatic_Substructure']"
   ]
  },
  {
   "cell_type": "code",
   "execution_count": 145,
   "id": "cf67dc64-d4e0-4b60-a8ca-c514e6082e67",
   "metadata": {},
   "outputs": [
    {
     "data": {
      "text/plain": [
       "tensor([[0., 2., 0., 0., 0., 1., 1., 0., 0., 0., 0.],\n",
       "        [0., 2., 0., 0., 0., 1., 1., 0., 0., 0., 0.],\n",
       "        [0., 2., 1., 0., 0., 1., 1., 0., 0., 0., 0.],\n",
       "        [0., 2., 1., 0., 0., 1., 1., 0., 0., 0., 0.],\n",
       "        [0., 2., 0., 0., 0., 1., 0., 0., 1., 0., 0.],\n",
       "        [0., 2., 0., 0., 0., 1., 1., 0., 0., 0., 0.],\n",
       "        [0., 2., 0., 0., 0., 1., 0., 0., 1., 0., 0.],\n",
       "        [0., 2., 1., 0., 0., 1., 1., 0., 0., 0., 0.],\n",
       "        [0., 2., 0., 0., 0., 0., 0., 0., 1., 0., 0.],\n",
       "        [0., 2., 0., 0., 0., 0., 0., 0., 1., 0., 0.]])"
      ]
     },
     "execution_count": 145,
     "metadata": {},
     "output_type": "execute_result"
    }
   ],
   "source": [
    "filtered_data_list[5].x_s[0:10]"
   ]
  },
  {
   "cell_type": "code",
   "execution_count": 146,
   "id": "dc7fc7c6-f8da-450c-9c61-eb89f906d9ef",
   "metadata": {},
   "outputs": [
    {
     "data": {
      "text/plain": [
       "torch.Size([10, 11])"
      ]
     },
     "execution_count": 146,
     "metadata": {},
     "output_type": "execute_result"
    }
   ],
   "source": [
    "filtered_data_list[5].x_t[0:10].shape"
   ]
  },
  {
   "cell_type": "code",
   "execution_count": 147,
   "id": "eca8cb7c-33ad-43dc-b0f7-a4cbaf3336fb",
   "metadata": {},
   "outputs": [],
   "source": [
    "# import numpy as np\n",
    "# \n",
    "# # Aggregate all x_s attributes from all BipartiteData objects into a single numpy array\n",
    "# all_x_t = np.concatenate([data.x_t for data in filtered_data_list])\n",
    "# all_x_s = np.concatenate([data.x_s for data in filtered_data_list])\n",
    "# \n",
    "# \n",
    "# # Calculate the minimum and maximum values across all x_s attributes\n",
    "# min_val_x_s = all_x_s.min()\n",
    "# max_val_x_s = all_x_s.max()\n",
    "# \n",
    "# min_val_x_t = all_x_t.min()\n",
    "# max_val_x_t = all_x_t.max()\n",
    "# \n",
    "# max_val  = max(max_val_x_s, max_val_x_t)\n",
    "# min_val  = min(min_val_x_s, min_val_x_t)\n",
    "# \n",
    "# print(\"min_val xs\", min_val_x_s)\n",
    "# print('max_val xs ', max_val_x_s)\n",
    "# \n",
    "# \n",
    "# print(\"min_val x_t\", min_val_x_t)\n",
    "# print('max_val x_t', max_val_x_t)\n",
    "# \n",
    "# \n",
    "# print(\"min_val\", min_val)\n",
    "# print('max_val', max_val)\n",
    "# # Apply min-max normalization to each BipartiteData object\n",
    "# for data in filtered_data_list:\n",
    "#     normalized_x_s = (data.x_s - min_val) / (max_val - min_val)\n",
    "#     normalized_x_t = (data.x_t - min_val) / (max_val - min_val)\n",
    "#     \n",
    "#     data.x_s = np.round(normalized_x_s,2)\n",
    "#     data.x_t = np.round(normalized_x_t,2)"
   ]
  },
  {
   "cell_type": "code",
   "execution_count": 148,
   "id": "19f4331e-8130-4ed8-b87b-876819effda9",
   "metadata": {},
   "outputs": [
    {
     "name": "stdout",
     "output_type": "stream",
     "text": [
      "***********************************\n",
      "Dataset 2016: 285\n",
      "Docked complexes:  284\n",
      "Nº of poses generated:  2840\n",
      "Nº Dataset to train  1948\n",
      "***********************************\n"
     ]
    }
   ],
   "source": [
    "print(5*\"*******\")\n",
    "print(\"Dataset 2016: 285\")\n",
    "print(\"Docked complexes: \", len(pdbs))\n",
    "print(\"Nº of poses generated: \", len(dataset_list))\n",
    "#print(\"Nº graphs with features: \", len(filtered_data_list_num_nodes))\n",
    "print(\"Nº Dataset to train \", len(filtered_data_list))\n",
    "print(5*\"*******\")"
   ]
  },
  {
   "cell_type": "markdown",
   "id": "9c27f697-15eb-4b28-a996-7fba02c94d9d",
   "metadata": {},
   "source": [
    "### Saving pkl "
   ]
  },
  {
   "cell_type": "code",
   "execution_count": 149,
   "id": "bce2dd36-5952-47b5-96de-fe7c7be6db50",
   "metadata": {},
   "outputs": [
    {
     "data": {
      "text/plain": [
       "tensor([[0., 3., 0., 0., 0., 0., 0., 0., 0., 1., 0.],\n",
       "        [0., 3., 1., 0., 0., 0., 1., 0., 0., 0., 0.],\n",
       "        [0., 3., 1., 0., 0., 0., 1., 0., 0., 0., 0.],\n",
       "        [0., 3., 1., 0., 0., 0., 1., 0., 0., 0., 0.],\n",
       "        [0., 3., 1., 0., 0., 0., 1., 0., 0., 0., 0.],\n",
       "        [0., 2., 0., 0., 0., 1., 0., 0., 1., 0., 0.],\n",
       "        [0., 2., 0., 0., 0., 1., 0., 0., 1., 0., 0.],\n",
       "        [0., 2., 0., 0., 0., 1., 1., 0., 0., 0., 0.],\n",
       "        [0., 2., 0., 0., 0., 1., 1., 0., 0., 0., 0.],\n",
       "        [0., 2., 0., 0., 0., 1., 1., 0., 0., 0., 0.]])"
      ]
     },
     "execution_count": 149,
     "metadata": {},
     "output_type": "execute_result"
    }
   ],
   "source": [
    "filtered_data_list[1].x_s[0:10]"
   ]
  },
  {
   "cell_type": "code",
   "execution_count": 290,
   "id": "3b15f24f-156d-4d8c-8927-be7cbf5d27e8",
   "metadata": {},
   "outputs": [],
   "source": [
    "import pickle"
   ]
  },
  {
   "cell_type": "code",
   "execution_count": 150,
   "id": "cb0d6b01-ec44-4a03-8849-842c701629f0",
   "metadata": {},
   "outputs": [
    {
     "name": "stdout",
     "output_type": "stream",
     "text": [
      "Saved with sucess!\n"
     ]
    }
   ],
   "source": [
    "## Save the list to a file\n",
    "#with open(f'{config.data}/bipartite_data_name_normalized.pkl', 'wb') as file:\n",
    "#    pickle.dump(filtered_data_list, file)\n",
    "#    print('Saved with sucess!')"
   ]
  },
  {
   "cell_type": "markdown",
   "id": "cb2777b1-ece5-408c-86f4-3bdfa57432b9",
   "metadata": {},
   "source": [
    "| Priority | Status      | Task Description                                |\n",
    "|----------|-------------|-------------------------------------------------|\n",
    "| 1        | To Do       | -   label                              |\n",
    "|          |             |   - Problem of rmsd                            |\n",
    "|          |             |   - Put rmsd method: rdkit                     |\n",
    "| 1        | To Do       | - Model descriptors                            |\n",
    "|          |             |   - Nodes meaning                                |\n",
    "| 2        | To Do       | - Add more metrics                             |\n",
    "| 2        | To Do       | - Print more metrics                           |\n",
    "| 3        | To Do       | - Cross-validation method as info              |\n",
    "| 3        | To Do       | - Revise split methods                         |\n",
    "| 4        | To Do       | - See what binna considers as close contact    |\n",
    "| 5        | To Do       | - Clean code                                   |\n",
    "| 5        | To Do       | - Comment code                                 |\n",
    "| 5        | To Do       | - Process all data                             |\n"
   ]
  },
  {
   "attachments": {},
   "cell_type": "markdown",
   "id": "fde2cb1f-e852-4c18-afa4-ecaa355d6f06",
   "metadata": {},
   "source": [
    "##### Figure 3: Cumulative fraction of results with crystal-like (within 2 Å RMSD) binding mode plotted versus pose number as ranked\n",
    "\n",
    "Cumulative fraction of systems that contain at least one correct pose up to a given pose number.\n",
    "\n",
    "    For example, at x=5, the y-values indicate the fraction of systems that have at least one \n",
    "    “positive” pose in the top 5 according to the rankings specified by each model. \n",
    "    \n",
    "    It can be seen that the “L+LP+R” model maintains roughly the advantage seen on the first pose until approximately x=10, where all plots in Figure 3 start to level off. In 65% of systems in our test set, the docking program samples a correct mode in at least one of the 20 rank positions."
   ]
  },
  {
   "cell_type": "markdown",
   "id": "e5a92354-a5df-4d1b-8414-b22d1f1af633",
   "metadata": {},
   "source": [
    "* CB: Beta carbon atom in amino acids.\n",
    "* N: Nitrogen atom.\n",
    "* O: Oxygen atom.\n",
    "* CD1: Side chain carbon atom in amino acids.\n",
    "* CA: Alpha carbon atom in amino acids.\n",
    "* CG2: Side chain carbon atom in amino acids.\n",
    "* CG: Side chain carbon atom in amino acids.\n",
    "* CD2: Side chain carbon atom in amino acids.\n",
    "* C: Carbon atom.\n",
    "* CZ: Side chain carbon atom in amino acids.\n",
    "* CG1: Side chain carbon atom in amino acids.\n",
    "* OD1: Oxygen atom in amino acids.\n",
    "* CE1: Side chain carbon atom in amino acids.\n",
    "* OD2: Oxygen atom in amino acids.\n",
    "* NZ: Side chain nitrogen atom in amino acids.\n",
    "* CD: Carbon atom in amino acids.\n",
    "* ND2: Side chain nitrogen atom in amino acids.\n",
    "* CE2: Side chain carbon atom in amino acids.\n",
    "* NE2: Side chain nitrogen atom in amino acids.\n",
    "* OE1: Oxygen atom in amino acids.\n",
    "* OH: Hydroxyl group.\n",
    "* CE: Side chain carbon atom in amino acids.\n",
    "* NE: Side chain nitrogen atom in amino acids.\n",
    "* NH2: Amine group.\n",
    "* OG1: Oxygen atom in amino acids.\n",
    "* OE2: Oxygen atom in amino acids.\n",
    "* OG: Oxygen atom in amino acids.\n",
    "* SD: Sulfur atom.\n",
    "* SG: Sulfur atom.\n",
    "* ND1: Side chain nitrogen atom in amino acids.\n",
    "* NH1: Amine group.\n"
   ]
  },
  {
   "cell_type": "markdown",
   "id": "c493ea34-3445-4857-8115-b38f6ff875b7",
   "metadata": {},
   "source": []
  },
  {
   "cell_type": "code",
   "execution_count": null,
   "id": "838c2156-5cff-485c-a8b8-247c90e8962c",
   "metadata": {},
   "outputs": [],
   "source": []
  }
 ],
 "metadata": {
  "kernelspec": {
   "display_name": "master_37",
   "language": "python",
   "name": "master_37"
  },
  "language_info": {
   "codemirror_mode": {
    "name": "ipython",
    "version": 3
   },
   "file_extension": ".py",
   "mimetype": "text/x-python",
   "name": "python",
   "nbconvert_exporter": "python",
   "pygments_lexer": "ipython3",
   "version": "3.7.16"
  }
 },
 "nbformat": 4,
 "nbformat_minor": 5
}
