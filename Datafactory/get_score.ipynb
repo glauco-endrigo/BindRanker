{
 "cells": [
  {
   "cell_type": "code",
   "execution_count": 7,
   "id": "a54c1845-3b33-45fd-bfe9-842b401aabdc",
   "metadata": {},
   "outputs": [],
   "source": [
    "import os\n",
    "import pandas as pd\n",
    "\n",
    "# Função para extrair o score de cada pose de um arquivo result.pdbqt\n",
    "def extract_scores(pdbqt_file):\n",
    "    scores = []\n",
    "    with open(pdbqt_file, 'r') as file:\n",
    "        for line in file:\n",
    "            if line.startswith(\"REMARK VINA RESULT:\"):\n",
    "                parts = line.split()\n",
    "                score = float(parts[3])\n",
    "                scores.append(score)\n",
    "    return scores\n",
    "\n",
    "# Pasta raiz contendo os diretórios de pdbs\n",
    "root_dir = '../coreset'\n",
    "\n",
    "data = []\n",
    "\n",
    "# Navegando pelos diretórios\n",
    "for pdb in os.listdir(root_dir):\n",
    "    pdb_dir = os.path.join(root_dir, pdb)\n",
    "    if os.path.isdir(pdb_dir):\n",
    "        results_dir = os.path.join(pdb_dir, 'results')\n",
    "        result_file = os.path.join(results_dir, 'result.pdbqt')\n",
    "        if os.path.isfile(result_file):\n",
    "            scores = extract_scores(result_file)\n",
    "            for pose, score in enumerate(scores, start=1):\n",
    "                data.append([pdb, pose, score])\n",
    "\n",
    "# Criando o DataFrame\n",
    "df = pd.DataFrame(data, columns=['pdb', 'pose', 'score'])\n",
    "\n",
    "# Salvando o DataFrame em um arquivo CSV\n",
    "df.to_csv('../Datahub/docking_scores_coreset.csv', index=False)"
   ]
  },
  {
   "cell_type": "code",
   "execution_count": 3,
   "id": "d3d0edac-e6e7-4831-b76b-58dc9de3aa39",
   "metadata": {},
   "outputs": [],
   "source": [
    "df = pd.read_csv('docking_scores_.csv')"
   ]
  },
  {
   "cell_type": "code",
   "execution_count": 4,
   "id": "3cc35f49-db75-4cee-96e6-3c3d641ede0a",
   "metadata": {},
   "outputs": [
    {
     "data": {
      "text/html": [
       "<div>\n",
       "<style scoped>\n",
       "    .dataframe tbody tr th:only-of-type {\n",
       "        vertical-align: middle;\n",
       "    }\n",
       "\n",
       "    .dataframe tbody tr th {\n",
       "        vertical-align: top;\n",
       "    }\n",
       "\n",
       "    .dataframe thead th {\n",
       "        text-align: right;\n",
       "    }\n",
       "</style>\n",
       "<table border=\"1\" class=\"dataframe\">\n",
       "  <thead>\n",
       "    <tr style=\"text-align: right;\">\n",
       "      <th></th>\n",
       "      <th>pdb</th>\n",
       "      <th>pose</th>\n",
       "      <th>score</th>\n",
       "    </tr>\n",
       "  </thead>\n",
       "  <tbody>\n",
       "    <tr>\n",
       "      <th>0</th>\n",
       "      <td>4eor</td>\n",
       "      <td>1</td>\n",
       "      <td>-9.399</td>\n",
       "    </tr>\n",
       "    <tr>\n",
       "      <th>1</th>\n",
       "      <td>4eor</td>\n",
       "      <td>2</td>\n",
       "      <td>-9.348</td>\n",
       "    </tr>\n",
       "    <tr>\n",
       "      <th>2</th>\n",
       "      <td>4eor</td>\n",
       "      <td>3</td>\n",
       "      <td>-9.281</td>\n",
       "    </tr>\n",
       "    <tr>\n",
       "      <th>3</th>\n",
       "      <td>4eor</td>\n",
       "      <td>4</td>\n",
       "      <td>-9.147</td>\n",
       "    </tr>\n",
       "    <tr>\n",
       "      <th>4</th>\n",
       "      <td>4eor</td>\n",
       "      <td>5</td>\n",
       "      <td>-9.018</td>\n",
       "    </tr>\n",
       "  </tbody>\n",
       "</table>\n",
       "</div>"
      ],
      "text/plain": [
       "    pdb  pose  score\n",
       "0  4eor     1 -9.399\n",
       "1  4eor     2 -9.348\n",
       "2  4eor     3 -9.281\n",
       "3  4eor     4 -9.147\n",
       "4  4eor     5 -9.018"
      ]
     },
     "execution_count": 4,
     "metadata": {},
     "output_type": "execute_result"
    }
   ],
   "source": [
    "df.head()"
   ]
  }
 ],
 "metadata": {
  "kernelspec": {
   "display_name": "Python 3 (ipykernel)",
   "language": "python",
   "name": "python3"
  },
  "language_info": {
   "codemirror_mode": {
    "name": "ipython",
    "version": 3
   },
   "file_extension": ".py",
   "mimetype": "text/x-python",
   "name": "python",
   "nbconvert_exporter": "python",
   "pygments_lexer": "ipython3",
   "version": "3.11.4"
  }
 },
 "nbformat": 4,
 "nbformat_minor": 5
}
