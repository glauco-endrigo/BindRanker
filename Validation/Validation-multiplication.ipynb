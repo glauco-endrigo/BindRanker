{
 "cells": [
  {
   "cell_type": "code",
   "execution_count": 354,
   "id": "2a22f623-7e0c-480f-bf4c-62598328f399",
   "metadata": {},
   "outputs": [],
   "source": [
    "import os\n",
    "import torch\n",
    "import pickle\n",
    "from tqdm import tqdm\n",
    "import pickle\n",
    "import torch\n",
    "from torch_geometric.data import Data, DataLoader\n",
    "from torch_geometric.nn import GCNConv\n",
    "import torch.nn as nn\n",
    "import torch.nn.functional as F\n",
    "import os\n",
    "import pandas as pd\n",
    "import subprocess\n",
    "import numpy as np\n",
    "import torch\n",
    "import pandas as pd\n",
    "from rdkit import Chem\n",
    "from rdkit.Chem import Descriptors\n",
    "import os\n",
    "from torch_geometric.loader import DataLoader\n",
    "from pathlib import Path\n",
    "import torch.nn as nn\n",
    "import torch.optim as optim\n",
    "from torch_geometric.data import DataLoader, Data\n",
    "from torch_geometric.nn import GCNConv\n",
    "import torch\n",
    "import torch.nn as nn\n",
    "import torch.optim as optim\n",
    "from torch_geometric.data import Data, DataLoader\n",
    "from torch_geometric.nn import GATConv\n",
    "import random\n",
    "from sklearn.model_selection import StratifiedKFold\n",
    "from sklearn.metrics import accuracy_score, precision_score, recall_score, f1_score\n",
    "import matplotlib.pyplot as plt\n",
    "from collections import Counter\n",
    "from torch_geometric.data import Data, Dataset\n",
    "import os\n",
    "from sklearn.metrics import roc_auc_score, average_precision_score, balanced_accuracy_score, confusion_matrix\n",
    "import matplotlib.pyplot as plt\n",
    "import seaborn as sns\n",
    "import os\n",
    "import pandas as pd\n",
    "import matplotlib.pyplot as plt\n",
    "from torch_geometric.nn import GATConv, global_mean_pool\n",
    "\n",
    "%run ../Config.ipynb\n",
    "config = Config()\n",
    "\n",
    "from torch_geometric.data import Data, Dataset\n",
    "from collections import Counter"
   ]
  },
  {
   "cell_type": "code",
   "execution_count": 429,
   "id": "74fbf7ce-f14d-411f-9dde-42fb9f6d1100",
   "metadata": {},
   "outputs": [],
   "source": [
    "import matplotlib.pyplot as plt\n",
    "import pandas as pd\n",
    "\n",
    "def plot_stacked_bar_chart(df, label_column='label', title='Distribuição', file_name='grafico_empilhado.png', palette = ['#CC8172', '#7D2D1F'] ):\n",
    "    \"\"\"\n",
    "    Plota um gráfico de barras empilhadas com base nas porcentagens de rótulos no DataFrame.\n",
    "\n",
    "    Parameters:\n",
    "    - df: DataFrame contendo os dados\n",
    "    - label_column: Nome da coluna no DataFrame que contém os rótulos\n",
    "    - title: Título do gráfico\n",
    "    - file_name: Nome do arquivo onde o gráfico será salvo\n",
    "    \"\"\"\n",
    "    \n",
    "    # Obtemos a contagem dos labels\n",
    "    value_counts = df[label_column].value_counts()\n",
    "\n",
    "    # Calculamos a porcentagem de cada label\n",
    "    percentages = value_counts / value_counts.sum() * 100\n",
    "\n",
    "    # Cria um DataFrame para facilitar a manipulação dos dados\n",
    "    df_plot = pd.DataFrame({\n",
    "        'Label': percentages.index,\n",
    "        'Percentual': percentages.values\n",
    "    })\n",
    "\n",
    "    # Mapeia os rótulos para \"Correct\" e \"Incorrect\"\n",
    "    df_plot['Label'] = df_plot['Label'].map({1: 'Correct', 0: 'Incorrect'})\n",
    "\n",
    "    # Ordena o DataFrame para que \"Correct\" venha antes de \"Incorrect\"\n",
    "    df_plot = df_plot.sort_values(by='Label', key=lambda x: x.map({'Correct': 0, 'Incorrect': 1}))\n",
    "\n",
    "    # Cria uma nova coluna com a porcentagem acumulada para o gráfico empilhado\n",
    "    df_plot['Percentual acumulado'] = df_plot['Percentual'].cumsum()\n",
    "\n",
    "    # Cria o gráfico de barras empilhadas\n",
    "    plt.figure(figsize=(1, 4))\n",
    "\n",
    "    # Define a paleta de cores\n",
    "    palette = palette  # \"Correct\" primeiro, depois \"Incorrect\"\n",
    "\n",
    "    # Adiciona barras empilhadas para cada categoria\n",
    "    bottom = 0\n",
    "    for i, row in df_plot.iterrows():\n",
    "        plt.bar(title, row['Percentual'], bottom=bottom, color=palette[i], label=row['Label'])\n",
    "        bottom += row['Percentual']\n",
    "\n",
    "    # Adiciona os valores percentuais no topo das barras\n",
    "    for i, row in df_plot.iterrows():\n",
    "        plt.text(0, row['Percentual acumulado'] - row['Percentual'] / 2, f'{row[\"Percentual\"]:.1f}%', \n",
    "                 ha='center', va='center', color='white')\n",
    "\n",
    "    # Ajusta a visualização\n",
    "    plt.xticks([])\n",
    "    plt.yticks([])\n",
    "    plt.gca().spines['top'].set_visible(False)\n",
    "    plt.gca().spines['right'].set_visible(False)\n",
    "    plt.gca().spines['left'].set_visible(False)\n",
    "    plt.gca().spines['bottom'].set_visible(False)\n",
    "\n",
    "    # Adiciona o título ao gráfico\n",
    "    plt.title(title)\n",
    "\n",
    "    # Salva o gráfico como PNG com fundo transparente\n",
    "    plt.savefig(file_name, bbox_inches='tight', pad_inches=0, transparent=True)\n",
    "\n",
    "    # Mostra o gráfico\n",
    "    plt.show()\n"
   ]
  },
  {
   "cell_type": "code",
   "execution_count": 430,
   "id": "489fc1ca-4765-4d3f-8dd2-4f0b47cacfb7",
   "metadata": {},
   "outputs": [
    {
     "name": "stderr",
     "output_type": "stream",
     "text": [
      "/home/lbcb02/anaconda3/lib/python3.11/site-packages/torch_geometric/deprecation.py:22: UserWarning: 'data.DataLoader' is deprecated, use 'loader.DataLoader' instead\n",
      "  warnings.warn(out)\n"
     ]
    }
   ],
   "source": [
    "class BipartiteData(Data):\n",
    "    def __init__(self, edge_index=None, x_s=None, x_t=None, y=None, edge_attr=None, pdb = None, pose = None):\n",
    "        super().__init__()\n",
    "        self.edge_index = edge_index\n",
    "        self.x_s = x_s\n",
    "        self.x_t = x_t\n",
    "        self.y = y\n",
    "        self.edge_attr = edge_attr  # Add edge_attr attribute\n",
    "        #self.num_nodes = len(set(edge_index[0].tolist())) +  len(set(edge_index[1].tolist()))\n",
    "        self.num_nodes = (x_s.size(0) if x_s is not None else 0) + (x_t.size(0) if x_t is not None else 0)\n",
    "        self.pdb = pdb\n",
    "        self.pose = pose\n",
    "    \n",
    "    def __inc__(self, key, value, *args, **kwargs):\n",
    "        if key == 'edge_index':\n",
    "            return torch.tensor([[self.x_s.size(0)], [self.x_t.size(0)]])\n",
    "        else:\n",
    "            return super().__inc__(key, value, *args, **kwargs)\n",
    "#bipartite_no_pose_rank_cut_4_coreset_RAND_ENCODED_POSERANK\n",
    "with open(f'{config.data}/bipartite_data_no_pose_rank_NOT_sorted_by_family_cut_4_coreset_1_RAND.pkl', 'rb') as file:\n",
    "    dataset_list_opened = pickle.load(file)\n",
    "len(dataset_list_opened)\n",
    "\n",
    "##### Filter data list \n",
    "\n",
    "filtered_data_list_num_nodes = [data for data in dataset_list_opened if data.num_nodes>0]\n",
    "filtered_data_list_descriptors = [data for data in filtered_data_list_num_nodes if data.x_s.shape[0] > 0 and data.x_t.shape[0] > 0]\n",
    "filtered_data_list_descriptors = [data for data in filtered_data_list_descriptors if not data.x_t[1,2].isnan()] \n",
    "\n",
    "filtered_data_list = filtered_data_list_descriptors.copy()\n",
    "\n",
    "label_distribuition = dict(Counter([label.y.tolist() for label in filtered_data_list]))\n",
    "amount_of_graphs_used_to_train = len(filtered_data_list)\n",
    "\n",
    "filtered_data_list_descriptors = [data for data in filtered_data_list_descriptors if not data.x_t[1,2].isnan()] \n",
    "\n",
    "len(filtered_data_list)\n",
    "\n",
    "filtered_data_list[0]\n",
    "\n",
    "class GATModel(nn.Module):\n",
    "    def __init__(self, input_dim, hidden_dim, batch_size):\n",
    "        super(GATModel, self).__init__()\n",
    "        self.conv1 = GATConv(in_channels=input_dim, out_channels=100, heads=2)\n",
    "        #self.conv2 = GATConv(in_channels=100, out_channels=hidden_dim, heads=1)\n",
    "        self.fc1 = nn.Linear(100*2, 10)\n",
    "        \n",
    "        self.fc3 = nn.Linear(10, 1)\n",
    "        self.dropout = nn.Dropout(0.1)\n",
    "\n",
    "    def forward(self, data):\n",
    "        x_s, x_t, edge_index, distances, x_t_batch, x_s_batch = data.x_s, data.x_t, data.edge_index, data.edge_attr, data.x_t_batch, data.x_s_batch\n",
    "        x_new_t = self.conv1((x_s, x_t), edge_index, size=(x_s.size(0), x_t.size(0)), edge_attr=distances)\n",
    "        x = torch.relu(x_new_t)\n",
    "\n",
    "        ##########3\n",
    "        #x_new_s = self.conv2((x_t, x_s), edge_index[torch.tensor([1, 0])], size=(x_t.size(0), x_s.size(0)), edge_attr=distances)\n",
    "        #x = torch.relu(x_new_s)\n",
    "        #####################Z\n",
    "        x = global_mean_pool(x, x_s_batch)\n",
    "        x = self.fc1(x)\n",
    "        #x = self.fc2(x)\n",
    "\n",
    "        #x = self.dropout(x)\n",
    "        x = self.fc3(x)\n",
    "        #print('x: ', x)\n",
    "        return x.squeeze()\n",
    "\n",
    "class BalancedBCEWithLogitsLoss(nn.Module):\n",
    "    def __init__(self, pos_weight=None, reduction='mean'):\n",
    "        super(BalancedBCEWithLogitsLoss, self).__init__()\n",
    "        self.pos_weight = pos_weight\n",
    "        self.reduction = reduction\n",
    "        self.bce_loss = nn.BCEWithLogitsLoss(pos_weight=pos_weight, reduction=reduction)\n",
    "\n",
    "    def forward(self, input, target):\n",
    "        loss = self.bce_loss(input, target)\n",
    "        return loss\n",
    "\n",
    "loader = DataLoader(filtered_data_list[1500:], batch_size=config.model_args[\"batch_size\"], shuffle=True, follow_batch=['x_s', 'x_t'])\n",
    "criterion = BalancedBCEWithLogitsLoss(pos_weight=torch.tensor(12.34))\n",
    "#[1500:1938],\n",
    "import re\n",
    "\n",
    "def predict(model, data):\n",
    "    # Preprocess your data here if necessary\n",
    "    # Convert your data into tensors or any format expected by your model\n",
    "    # For example:\n",
    "    model.eval()\n",
    "    val_probs = {}\n",
    "    true_label = {}\n",
    "    # Forward pass through the model\n",
    "    with torch.no_grad():\n",
    "        for batch_data in data:\n",
    "            output = model(batch_data)\n",
    "            val_probs[str(batch_data.pdb), str(batch_data.pose)] = torch.sigmoid(output).item()  # Obtain probabilities using sigmoid function\n",
    "            true_label[str(batch_data.pdb), str(batch_data.pose)] =  batch_data.y.item()\n",
    "    return val_probs, true_label\n",
    "\n",
    "best_model = GATModel(input_dim=7, hidden_dim=7, batch_size=config.model_args[\"batch_size\"])\n",
    "best_model.load_state_dict(torch.load('../Model/model_223.pt'))\n",
    "best_model.eval()\n",
    "# Make predictions using the best_model and criterion\n",
    "predictions,true_label = predict(best_model, loader)"
   ]
  },
  {
   "cell_type": "code",
   "execution_count": 431,
   "id": "53cf506c-893e-433a-91b6-30ad12edbe2a",
   "metadata": {},
   "outputs": [
    {
     "data": {
      "text/plain": [
       "1948"
      ]
     },
     "execution_count": 431,
     "metadata": {},
     "output_type": "execute_result"
    }
   ],
   "source": [
    "len(filtered_data_list)"
   ]
  },
  {
   "cell_type": "code",
   "execution_count": 432,
   "id": "65be1f34-ecd9-4d7e-8a49-2329ae95ab08",
   "metadata": {},
   "outputs": [],
   "source": [
    "pbs_to_remove_list = [data.pdb for data in filtered_data_list]"
   ]
  },
  {
   "cell_type": "markdown",
   "id": "9beee3b4-dadb-4967-b706-97341d1479ad",
   "metadata": {},
   "source": [
    "#### Convert dictionary to DataFrame"
   ]
  },
  {
   "cell_type": "code",
   "execution_count": 433,
   "id": "e3e6402b-89e2-4287-9a36-956c0d530871",
   "metadata": {},
   "outputs": [],
   "source": [
    "df = pd.DataFrame(predictions.items(), columns=['Index', 'Pred'])\n",
    "df[['pdb', 'pose']] = df['Index'].apply(lambda x: pd.Series(re.findall(r\"'(\\w+)'\", x[0]) + re.findall(r'\\[(\\d+)\\]', x[1])))\n",
    "df['label'] = list(true_label.values())\n",
    "df.drop('Index', axis=1, inplace=True)"
   ]
  },
  {
   "cell_type": "code",
   "execution_count": 434,
   "id": "9fc326e8-22eb-4b10-a20a-10242d6eadbe",
   "metadata": {},
   "outputs": [
    {
     "data": {
      "text/plain": [
       "0.0    381\n",
       "1.0     12\n",
       "Name: label, dtype: int64"
      ]
     },
     "execution_count": 434,
     "metadata": {},
     "output_type": "execute_result"
    }
   ],
   "source": [
    "df[df['pose'] != '1' ]['label'].value_counts()"
   ]
  },
  {
   "cell_type": "code",
   "execution_count": 435,
   "id": "3d23c065-cbb4-4064-964b-8f3b2ede7d9d",
   "metadata": {},
   "outputs": [
    {
     "data": {
      "text/plain": [
       "0.0    34\n",
       "1.0    21\n",
       "Name: label, dtype: int64"
      ]
     },
     "execution_count": 435,
     "metadata": {},
     "output_type": "execute_result"
    }
   ],
   "source": [
    "df[df['pose'] == '1' ]['label'].value_counts()"
   ]
  },
  {
   "cell_type": "code",
   "execution_count": 436,
   "id": "69ad8a93-198b-47d6-8cf8-7d42c3ca9246",
   "metadata": {},
   "outputs": [],
   "source": [
    "general = df.sort_values(['pdb','pose'])"
   ]
  },
  {
   "cell_type": "markdown",
   "id": "c3683a09-31b6-4a7c-81f4-58bfd2123423",
   "metadata": {},
   "source": [
    "#### Dist plots "
   ]
  },
  {
   "cell_type": "code",
   "execution_count": 437,
   "id": "0f655d5b-a700-4d74-af6c-e226ecdacef6",
   "metadata": {},
   "outputs": [
    {
     "data": {
      "image/png": "[encoded data removed]",
      "text/plain": [
       "<Figure size 400x500 with 1 Axes>"
      ]
     },
     "metadata": {},
     "output_type": "display_data"
    }
   ],
   "source": [
    "import seaborn as sns\n",
    "import matplotlib.pyplot as plt\n",
    "\n",
    "# Definir o tamanho da figura\n",
    "plt.figure(figsize=(4, 5))  # Ajuste a largura e altura conforme necessário\n",
    "\n",
    "# Criar o boxplot com ajuste no parâmetro width e customização de dodge\n",
    "ax = sns.boxplot(data=df, x='label', y='Pred', hue='label', dodge=False, palette=['#CC8172', '#7D2D1F'], width=0.7)\n",
    "\n",
    "# Ajustar o espaçamento entre os box plots manipulando o parâmetro dodge\n",
    "# O parâmetro dodge=False faz com que os box plots de diferentes categorias fiquem sobrepostos\n",
    "# Ajustar o parâmetro width para definir a largura dos box plots\n",
    "# Ajustar o tamanho da figura com plt.figure(figsize=(largura, altura))\n",
    "\n",
    "# Remover os eixos superiores, direito e inferior\n",
    "ax.spines['top'].set_visible(False)\n",
    "ax.spines['right'].set_visible(False)\n",
    "ax.spines['bottom'].set_visible(False)\n",
    "\n",
    "# Remover os ticks e labels do eixo inferior\n",
    "ax.xaxis.set_ticks([])\n",
    "ax.set_xticklabels([])\n",
    "\n",
    "# Remover o título do gráfico\n",
    "ax.set_title('')\n",
    "\n",
    "# Remover o label do eixo x\n",
    "ax.set_xlabel('')\n",
    "\n",
    "# Remover o label do eixo x\n",
    "ax.set_ylabel('Prediction (probability)')\n",
    "\n",
    "\n",
    "# Remover o fundo da legenda e personalizar os rótulos\n",
    "handles, _ = ax.get_legend_handles_labels()\n",
    "ax.legend(handles, ['Incorrect', 'Correct'], frameon=False)\n",
    "\n",
    "# Salvar o gráfico como um arquivo PNG com fundo transparente\n",
    "plt.savefig('boxplot_transparente.png', bbox_inches='tight', dpi=300, transparent=True)\n",
    "\n"
   ]
  },
  {
   "cell_type": "code",
   "execution_count": 438,
   "id": "1563d2e1-3e14-46bd-8472-2ae36f046660",
   "metadata": {},
   "outputs": [
    {
     "data": {
      "text/plain": [
       "<Axes: xlabel='label', ylabel='Pred'>"
      ]
     },
     "execution_count": 438,
     "metadata": {},
     "output_type": "execute_result"
    },
    {
     "data": {
      "image/png": "[encoded data removed]",
      "text/plain": [
       "<Figure size 640x480 with 1 Axes>"
      ]
     },
     "metadata": {},
     "output_type": "display_data"
    }
   ],
   "source": [
    "sns.boxplot(data=df[df['pose'] != \"1\"], x='label', y='Pred', hue='label', dodge=True)"
   ]
  },
  {
   "cell_type": "code",
   "execution_count": 439,
   "id": "07d51df3-0b4a-4c2e-b06f-8754d4b137e2",
   "metadata": {
    "scrolled": true
   },
   "outputs": [
    {
     "data": {
      "text/plain": [
       "<Axes: xlabel='label', ylabel='Pred'>"
      ]
     },
     "execution_count": 439,
     "metadata": {},
     "output_type": "execute_result"
    },
    {
     "data": {
      "image/png": "[encoded data removed]",
      "text/plain": [
       "<Figure size 640x480 with 1 Axes>"
      ]
     },
     "metadata": {},
     "output_type": "display_data"
    }
   ],
   "source": [
    "sns.boxplot(data=df[df['pose'] == \"1\"], x='label', y='Pred', hue='label', dodge=True)"
   ]
  },
  {
   "cell_type": "code",
   "execution_count": 440,
   "id": "cf7ddecd-88ab-4975-ad1f-1d80aa702e6a",
   "metadata": {},
   "outputs": [
    {
     "data": {
      "text/plain": [
       "<Axes: xlabel='Pred', ylabel='Density'>"
      ]
     },
     "execution_count": 440,
     "metadata": {},
     "output_type": "execute_result"
    },
    {
     "data": {
      "image/png": "[encoded data removed]",
      "text/plain": [
       "<Figure size 640x480 with 1 Axes>"
      ]
     },
     "metadata": {},
     "output_type": "display_data"
    }
   ],
   "source": [
    "sns.kdeplot(data=df[df['pose'] != \"1\"], x='Pred', hue='label', fill=True)"
   ]
  },
  {
   "cell_type": "code",
   "execution_count": 441,
   "id": "edcde1e0-4828-496c-b2d7-ff128608ad2d",
   "metadata": {},
   "outputs": [
    {
     "data": {
      "text/plain": [
       "<Axes: xlabel='Pred', ylabel='Density'>"
      ]
     },
     "execution_count": 441,
     "metadata": {},
     "output_type": "execute_result"
    },
    {
     "data": {
      "image/png": "[encoded data removed]",
      "text/plain": [
       "<Figure size 640x480 with 1 Axes>"
      ]
     },
     "metadata": {},
     "output_type": "display_data"
    }
   ],
   "source": [
    "sns.kdeplot(data=df[df['pose'] == \"1\"], x='Pred', hue='label', fill=True)"
   ]
  },
  {
   "cell_type": "markdown",
   "id": "f5da9d88-fece-482c-98cd-78344cbecff0",
   "metadata": {},
   "source": [
    "#### Top ranked"
   ]
  },
  {
   "cell_type": "code",
   "execution_count": 442,
   "id": "e7de2a9d-100a-448d-9d43-c8e65402935e",
   "metadata": {},
   "outputs": [],
   "source": [
    "df = df.sort_values(['pdb','Pred'], ascending = False)\n",
    "df['label'] = df['label'].astype(int)"
   ]
  },
  {
   "cell_type": "code",
   "execution_count": 443,
   "id": "56e9df4c-a52a-4986-a17a-ded5d5477d5a",
   "metadata": {},
   "outputs": [],
   "source": [
    "top_ranked = df.loc[df.groupby('pdb')['Pred'].idxmax()]"
   ]
  },
  {
   "cell_type": "markdown",
   "id": "5b18763d-200e-4888-97f4-86ff0c753c1b",
   "metadata": {},
   "source": [
    "#### My ranking ( RMSD and Scoring): Top sorted by model pred"
   ]
  },
  {
   "cell_type": "code",
   "execution_count": 444,
   "id": "1ed84569-c670-4c8e-937b-fee1ae96c674",
   "metadata": {},
   "outputs": [],
   "source": [
    "label_counts = df.groupby('pdb')['label'].sum().sort_values(ascending = False).reset_index()"
   ]
  },
  {
   "cell_type": "code",
   "execution_count": 445,
   "id": "96151840-ac89-4d96-9b75-2bbde103f24b",
   "metadata": {},
   "outputs": [],
   "source": [
    "pdbs_with_pose_1 = list(df[df['pose'] == '1']['pdb'])\n",
    "#pdbs_teste_set_with_atleast_one_correct_post = list(label_counts[label_counts['label'] > 0 ]['pdb'])"
   ]
  },
  {
   "cell_type": "code",
   "execution_count": 446,
   "id": "37cb03a5-ad67-4378-b600-c560ff0711f5",
   "metadata": {},
   "outputs": [],
   "source": [
    "#conjunto =  set(pdbs_teste_set_with_atleast_one_correct_post) and set(pdbs_with_pose_1)\n",
    "conjunto =  set(pdbs_with_pose_1)"
   ]
  },
  {
   "cell_type": "code",
   "execution_count": 447,
   "id": "beb830ed-7a42-4efe-b95c-64beff499d70",
   "metadata": {},
   "outputs": [
    {
     "data": {
      "text/plain": [
       "(199, 4)"
      ]
     },
     "execution_count": 447,
     "metadata": {},
     "output_type": "execute_result"
    }
   ],
   "source": [
    "top_ranked.shape"
   ]
  },
  {
   "cell_type": "code",
   "execution_count": 448,
   "id": "d60575f2-3ee8-47e7-84a8-1033aca8ede5",
   "metadata": {},
   "outputs": [
    {
     "data": {
      "text/plain": [
       "0.09547738693467336"
      ]
     },
     "execution_count": 448,
     "metadata": {},
     "output_type": "execute_result"
    }
   ],
   "source": [
    "#top_ranked = top_ranked[top_ranked['pdb'].isin(conjunto)]\n",
    "top_ranked[top_ranked['label'] == 1].shape[0] / top_ranked.shape[0]"
   ]
  },
  {
   "cell_type": "code",
   "execution_count": 449,
   "id": "000f2b8f-4716-4830-9821-eb1a91a5b701",
   "metadata": {},
   "outputs": [
    {
     "data": {
      "text/plain": [
       "199"
      ]
     },
     "execution_count": 449,
     "metadata": {},
     "output_type": "execute_result"
    }
   ],
   "source": [
    "df['pdb'].nunique()"
   ]
  },
  {
   "cell_type": "code",
   "execution_count": 450,
   "id": "1275a738-def9-456d-a61a-c1d1e2d6667c",
   "metadata": {},
   "outputs": [
    {
     "data": {
      "text/plain": [
       "199"
      ]
     },
     "execution_count": 450,
     "metadata": {},
     "output_type": "execute_result"
    }
   ],
   "source": [
    "top_ranked.shape[0]"
   ]
  },
  {
   "cell_type": "markdown",
   "id": "adbb0b52-c741-4dc2-8a45-73b5cf172909",
   "metadata": {},
   "source": [
    "#### Vina Fraction of top-ranked"
   ]
  },
  {
   "cell_type": "code",
   "execution_count": 451,
   "id": "20f5b26d-a56d-47c3-b882-19506a108048",
   "metadata": {},
   "outputs": [],
   "source": [
    "#df = df[df['pdb'].isin(conjunto)]"
   ]
  },
  {
   "cell_type": "code",
   "execution_count": 452,
   "id": "ea121cd9-6513-48fb-bb1a-afbfc060abcf",
   "metadata": {},
   "outputs": [
    {
     "data": {
      "text/plain": [
       "0.10552763819095477"
      ]
     },
     "execution_count": 452,
     "metadata": {},
     "output_type": "execute_result"
    }
   ],
   "source": [
    "df[(df['pose']==\"1\") & (df['label']==1)].shape[0] /df['pdb'].nunique()"
   ]
  },
  {
   "cell_type": "markdown",
   "id": "68e3d1d7-cda0-4086-9805-74fec003560c",
   "metadata": {},
   "source": [
    "#### Prediction distribuition "
   ]
  },
  {
   "cell_type": "code",
   "execution_count": 453,
   "id": "eb7e5de7-0cfc-450b-863f-f8eb077e949a",
   "metadata": {},
   "outputs": [],
   "source": [
    "df['binary_pred'] = df['Pred'].apply(lambda val: 0 if val <= 0.5 else 1)"
   ]
  },
  {
   "cell_type": "code",
   "execution_count": 454,
   "id": "1492556e-b58e-487c-94fc-8920262b7f45",
   "metadata": {},
   "outputs": [
    {
     "data": {
      "text/plain": [
       "1    328\n",
       "0    120\n",
       "Name: binary_pred, dtype: int64"
      ]
     },
     "execution_count": 454,
     "metadata": {},
     "output_type": "execute_result"
    }
   ],
   "source": [
    "df['binary_pred'].value_counts()"
   ]
  },
  {
   "cell_type": "markdown",
   "id": "94934740-0ada-4572-a309-24d6c996d6a2",
   "metadata": {},
   "source": [
    "#### Label distribuition "
   ]
  },
  {
   "cell_type": "code",
   "execution_count": 455,
   "id": "7c293eaf-bd7f-41b1-aea9-a09a70b4ed34",
   "metadata": {},
   "outputs": [
    {
     "data": {
      "text/plain": [
       "0    0.926339\n",
       "1    0.073661\n",
       "Name: label, dtype: float64"
      ]
     },
     "execution_count": 455,
     "metadata": {},
     "output_type": "execute_result"
    }
   ],
   "source": [
    "df['label'].value_counts(1)"
   ]
  },
  {
   "cell_type": "markdown",
   "id": "9afdf745-6e21-40aa-b39e-a5d4a4ea603d",
   "metadata": {},
   "source": [
    "#### Comparando resultados "
   ]
  },
  {
   "cell_type": "code",
   "execution_count": 456,
   "id": "9bbb5fef-2c9d-4e30-b429-71a60175cfdc",
   "metadata": {},
   "outputs": [
    {
     "data": {
      "text/plain": [
       "0    0.904523\n",
       "1    0.095477\n",
       "Name: label, dtype: float64"
      ]
     },
     "execution_count": 456,
     "metadata": {},
     "output_type": "execute_result"
    }
   ],
   "source": [
    "top_ranked['label'].value_counts(1)"
   ]
  },
  {
   "cell_type": "code",
   "execution_count": 457,
   "id": "b15cc235-ed2d-4f9a-8a41-f2de06a6aed3",
   "metadata": {},
   "outputs": [
    {
     "data": {
      "text/plain": [
       "0    0.904523\n",
       "1    0.095477\n",
       "Name: label, dtype: float64"
      ]
     },
     "execution_count": 457,
     "metadata": {},
     "output_type": "execute_result"
    }
   ],
   "source": [
    "top_ranked['label'].value_counts(1)"
   ]
  },
  {
   "cell_type": "markdown",
   "id": "2a1b504c-8315-494b-85e9-d025f5374d58",
   "metadata": {},
   "source": [
    "#### Vina score "
   ]
  },
  {
   "cell_type": "code",
   "execution_count": 458,
   "id": "7afa7bd4-2de9-411e-a87e-720dceecb5ec",
   "metadata": {},
   "outputs": [],
   "source": [
    "vina_score = pd.read_csv('../Datahub/docking_scores_coreset.csv')"
   ]
  },
  {
   "cell_type": "code",
   "execution_count": 459,
   "id": "c4fbffc9-97e9-4a7f-bf8c-1fd84df97003",
   "metadata": {},
   "outputs": [
    {
     "data": {
      "text/plain": [
       "0.0    415\n",
       "1.0     33\n",
       "Name: label, dtype: int64"
      ]
     },
     "execution_count": 459,
     "metadata": {},
     "output_type": "execute_result"
    }
   ],
   "source": [
    "general['label'].value_counts()"
   ]
  },
  {
   "cell_type": "code",
   "execution_count": 460,
   "id": "2f00c8fe-4dc5-45f2-9a80-5bb81716d0ab",
   "metadata": {},
   "outputs": [],
   "source": [
    "#general = general[general['pdb'].isin(conjunto)]"
   ]
  },
  {
   "cell_type": "code",
   "execution_count": 461,
   "id": "01d30a58-0190-4235-ab07-a307fec3d636",
   "metadata": {},
   "outputs": [
    {
     "data": {
      "text/plain": [
       "0.0    381\n",
       "1.0     12\n",
       "Name: label, dtype: int64"
      ]
     },
     "execution_count": 461,
     "metadata": {},
     "output_type": "execute_result"
    }
   ],
   "source": [
    "general[general['pose'] !='1']['label'].value_counts()"
   ]
  },
  {
   "cell_type": "code",
   "execution_count": 462,
   "id": "901e93b4-d167-4150-a2d9-6abc45c78e60",
   "metadata": {},
   "outputs": [
    {
     "data": {
      "text/plain": [
       "0.0    34\n",
       "1.0    21\n",
       "Name: label, dtype: int64"
      ]
     },
     "execution_count": 462,
     "metadata": {},
     "output_type": "execute_result"
    }
   ],
   "source": [
    "general[general['pose'] =='1']['label'].value_counts()"
   ]
  },
  {
   "cell_type": "code",
   "execution_count": 463,
   "id": "0ba6abdb-fb1c-41c8-aadc-b9e56e81fe64",
   "metadata": {},
   "outputs": [],
   "source": [
    "vina_score['pose'] = vina_score['pose'].astype(str)"
   ]
  },
  {
   "cell_type": "code",
   "execution_count": 464,
   "id": "d3b26a5e-9bbd-4eaf-b2c9-9e2cb417d7ab",
   "metadata": {
    "scrolled": true
   },
   "outputs": [],
   "source": [
    "merge = pd.merge(vina_score, general, left_on = ['pdb','pose'], right_on = ['pdb','pose'], how = 'outer').dropna()"
   ]
  },
  {
   "cell_type": "code",
   "execution_count": 465,
   "id": "4e09c70a-0954-451a-8fba-47edfe6a3170",
   "metadata": {},
   "outputs": [],
   "source": [
    "merge['Pred_vina_score'] =  merge['score'] # - *merge['Pred']  "
   ]
  },
  {
   "cell_type": "markdown",
   "id": "486e2f6c-5b7c-4e80-9e31-5922ee3106d6",
   "metadata": {},
   "source": [
    "#### Best ranked "
   ]
  },
  {
   "cell_type": "code",
   "execution_count": 466,
   "id": "09da2108-595a-4680-9879-7ad09be60498",
   "metadata": {},
   "outputs": [],
   "source": [
    "df = merge.copy()"
   ]
  },
  {
   "cell_type": "code",
   "execution_count": 467,
   "id": "b29f515b-6826-4f51-9728-65e73ebd9feb",
   "metadata": {},
   "outputs": [
    {
     "data": {
      "text/html": [
       "<div>\n",
       "<style scoped>\n",
       "    .dataframe tbody tr th:only-of-type {\n",
       "        vertical-align: middle;\n",
       "    }\n",
       "\n",
       "    .dataframe tbody tr th {\n",
       "        vertical-align: top;\n",
       "    }\n",
       "\n",
       "    .dataframe thead th {\n",
       "        text-align: right;\n",
       "    }\n",
       "</style>\n",
       "<table border=\"1\" class=\"dataframe\">\n",
       "  <thead>\n",
       "    <tr style=\"text-align: right;\">\n",
       "      <th></th>\n",
       "      <th>pdb</th>\n",
       "      <th>pose</th>\n",
       "      <th>score</th>\n",
       "      <th>Pred</th>\n",
       "      <th>label</th>\n",
       "      <th>Pred_vina_score</th>\n",
       "    </tr>\n",
       "  </thead>\n",
       "  <tbody>\n",
       "    <tr>\n",
       "      <th>2</th>\n",
       "      <td>4eor</td>\n",
       "      <td>3</td>\n",
       "      <td>-9.281</td>\n",
       "      <td>0.611110</td>\n",
       "      <td>0.0</td>\n",
       "      <td>-9.281</td>\n",
       "    </tr>\n",
       "    <tr>\n",
       "      <th>4</th>\n",
       "      <td>4eor</td>\n",
       "      <td>5</td>\n",
       "      <td>-9.018</td>\n",
       "      <td>0.676989</td>\n",
       "      <td>0.0</td>\n",
       "      <td>-9.018</td>\n",
       "    </tr>\n",
       "    <tr>\n",
       "      <th>20</th>\n",
       "      <td>3g2n</td>\n",
       "      <td>2</td>\n",
       "      <td>-9.324</td>\n",
       "      <td>0.644099</td>\n",
       "      <td>0.0</td>\n",
       "      <td>-9.324</td>\n",
       "    </tr>\n",
       "    <tr>\n",
       "      <th>23</th>\n",
       "      <td>3g2n</td>\n",
       "      <td>5</td>\n",
       "      <td>-8.044</td>\n",
       "      <td>0.569885</td>\n",
       "      <td>0.0</td>\n",
       "      <td>-8.044</td>\n",
       "    </tr>\n",
       "    <tr>\n",
       "      <th>32</th>\n",
       "      <td>1ydr</td>\n",
       "      <td>4</td>\n",
       "      <td>-7.960</td>\n",
       "      <td>0.436474</td>\n",
       "      <td>0.0</td>\n",
       "      <td>-7.960</td>\n",
       "    </tr>\n",
       "  </tbody>\n",
       "</table>\n",
       "</div>"
      ],
      "text/plain": [
       "     pdb pose  score      Pred  label  Pred_vina_score\n",
       "2   4eor    3 -9.281  0.611110    0.0           -9.281\n",
       "4   4eor    5 -9.018  0.676989    0.0           -9.018\n",
       "20  3g2n    2 -9.324  0.644099    0.0           -9.324\n",
       "23  3g2n    5 -8.044  0.569885    0.0           -8.044\n",
       "32  1ydr    4 -7.960  0.436474    0.0           -7.960"
      ]
     },
     "execution_count": 467,
     "metadata": {},
     "output_type": "execute_result"
    }
   ],
   "source": [
    "df.head()"
   ]
  },
  {
   "cell_type": "code",
   "execution_count": 468,
   "id": "83d1333b-7b65-4a6d-b2f0-1272fd3d497e",
   "metadata": {},
   "outputs": [],
   "source": [
    "df = df.sort_values(['pdb','Pred_vina_score'], ascending = False)\n",
    "df['label'] = df['label'].astype(int)"
   ]
  },
  {
   "cell_type": "code",
   "execution_count": 469,
   "id": "61d1f76b-2938-46e5-874c-f9c788c27641",
   "metadata": {},
   "outputs": [
    {
     "data": {
      "text/html": [
       "<div>\n",
       "<style scoped>\n",
       "    .dataframe tbody tr th:only-of-type {\n",
       "        vertical-align: middle;\n",
       "    }\n",
       "\n",
       "    .dataframe tbody tr th {\n",
       "        vertical-align: top;\n",
       "    }\n",
       "\n",
       "    .dataframe thead th {\n",
       "        text-align: right;\n",
       "    }\n",
       "</style>\n",
       "<table border=\"1\" class=\"dataframe\">\n",
       "  <thead>\n",
       "    <tr style=\"text-align: right;\">\n",
       "      <th></th>\n",
       "      <th>pdb</th>\n",
       "      <th>pose</th>\n",
       "      <th>score</th>\n",
       "      <th>Pred</th>\n",
       "      <th>label</th>\n",
       "      <th>Pred_vina_score</th>\n",
       "    </tr>\n",
       "  </thead>\n",
       "  <tbody>\n",
       "    <tr>\n",
       "      <th>723</th>\n",
       "      <td>1yc1</td>\n",
       "      <td>1</td>\n",
       "      <td>-9.978</td>\n",
       "      <td>0.681463</td>\n",
       "      <td>0</td>\n",
       "      <td>-9.978</td>\n",
       "    </tr>\n",
       "    <tr>\n",
       "      <th>725</th>\n",
       "      <td>1yc1</td>\n",
       "      <td>3</td>\n",
       "      <td>-8.326</td>\n",
       "      <td>0.664400</td>\n",
       "      <td>0</td>\n",
       "      <td>-8.326</td>\n",
       "    </tr>\n",
       "    <tr>\n",
       "      <th>730</th>\n",
       "      <td>1yc1</td>\n",
       "      <td>8</td>\n",
       "      <td>-7.613</td>\n",
       "      <td>0.608164</td>\n",
       "      <td>0</td>\n",
       "      <td>-7.613</td>\n",
       "    </tr>\n",
       "  </tbody>\n",
       "</table>\n",
       "</div>"
      ],
      "text/plain": [
       "      pdb pose  score      Pred  label  Pred_vina_score\n",
       "723  1yc1    1 -9.978  0.681463      0           -9.978\n",
       "725  1yc1    3 -8.326  0.664400      0           -8.326\n",
       "730  1yc1    8 -7.613  0.608164      0           -7.613"
      ]
     },
     "execution_count": 469,
     "metadata": {},
     "output_type": "execute_result"
    }
   ],
   "source": [
    "df[df['pdb'] == '1yc1'].sort_values(['pdb','pose', 'Pred_vina_score']).head(20)"
   ]
  },
  {
   "cell_type": "code",
   "execution_count": 470,
   "id": "70c267ca-bba8-4ce7-97b2-e37fbcf0b2fb",
   "metadata": {},
   "outputs": [],
   "source": [
    "top_ranked = df.loc[df.groupby('pdb')['Pred_vina_score'].idxmin()]"
   ]
  },
  {
   "cell_type": "code",
   "execution_count": 471,
   "id": "94cbdadd-04d0-4451-8f3e-54809a3371e3",
   "metadata": {},
   "outputs": [
    {
     "data": {
      "text/plain": [
       "0.15384615384615385"
      ]
     },
     "execution_count": 471,
     "metadata": {},
     "output_type": "execute_result"
    }
   ],
   "source": [
    "#top_ranked = top_ranked[top_ranked['pdb'].isin(conjunto)]\n",
    "top_ranked[top_ranked['label'] == 1].shape[0] / top_ranked.shape[0]"
   ]
  },
  {
   "cell_type": "code",
   "execution_count": 472,
   "id": "2ae006b7-c3a5-4fdd-b113-5561ba7d5f27",
   "metadata": {},
   "outputs": [
    {
     "data": {
      "text/plain": [
       "30"
      ]
     },
     "execution_count": 472,
     "metadata": {},
     "output_type": "execute_result"
    }
   ],
   "source": [
    "top_ranked[top_ranked['label'] == 1].shape[0]"
   ]
  },
  {
   "cell_type": "code",
   "execution_count": 473,
   "id": "ec54c30c-abf7-4263-a0c5-d18b542c4bc1",
   "metadata": {},
   "outputs": [
    {
     "data": {
      "text/plain": [
       "(195, 6)"
      ]
     },
     "execution_count": 473,
     "metadata": {},
     "output_type": "execute_result"
    }
   ],
   "source": [
    "top_ranked.shape"
   ]
  },
  {
   "cell_type": "code",
   "execution_count": 474,
   "id": "9c95a400-bcb5-41f7-aa45-82b1fbc78ed7",
   "metadata": {},
   "outputs": [
    {
     "data": {
      "text/plain": [
       "(448, 4)"
      ]
     },
     "execution_count": 474,
     "metadata": {},
     "output_type": "execute_result"
    }
   ],
   "source": [
    "general.shape"
   ]
  },
  {
   "cell_type": "code",
   "execution_count": 475,
   "id": "77dde457-30eb-4690-8a0b-87fb203b8a49",
   "metadata": {},
   "outputs": [
    {
     "data": {
      "text/plain": [
       "(55, 4)"
      ]
     },
     "execution_count": 475,
     "metadata": {},
     "output_type": "execute_result"
    }
   ],
   "source": [
    "general[(general['pose']==\"1\")].shape"
   ]
  },
  {
   "cell_type": "code",
   "execution_count": 476,
   "id": "0acd3d44-0884-46ed-b138-63d2a3be3e60",
   "metadata": {},
   "outputs": [
    {
     "data": {
      "text/plain": [
       "21"
      ]
     },
     "execution_count": 476,
     "metadata": {},
     "output_type": "execute_result"
    }
   ],
   "source": [
    "general[(general['pose']==\"1\") & (general['label']==1)].shape[0]"
   ]
  },
  {
   "cell_type": "markdown",
   "id": "9aa4bcef-76d4-4513-9515-f1d3532e26c0",
   "metadata": {
    "jp-MarkdownHeadingCollapsed": true
   },
   "source": [
    "#### Report "
   ]
  },
  {
   "cell_type": "markdown",
   "id": "7ca51aff-4298-42b4-ab3e-32e728fff7ec",
   "metadata": {},
   "source": [
    "#### label (Pose != 1) \n",
    "\n",
    "0:381,\n",
    "1: 12"
   ]
  },
  {
   "cell_type": "markdown",
   "id": "8bc0c882-c422-46b9-b677-2b1effc786b1",
   "metadata": {},
   "source": [
    "#### Pose == 1 classe == 1\n",
    "\n",
    "21\n"
   ]
  },
  {
   "cell_type": "markdown",
   "id": "fa24f8bd-4c24-4a78-a32a-fe401880c48c",
   "metadata": {},
   "source": [
    "#### Pose != 1 classe == 1\n",
    "\n",
    "12\n"
   ]
  },
  {
   "cell_type": "markdown",
   "id": "54a0cd4a-4e8e-4ef0-9303-b94123cf9fc2",
   "metadata": {},
   "source": [
    "Então o dataframe para ser reranquedo precisaria ter as 33 poses. Qual é esse dataframe? "
   ]
  },
  {
   "cell_type": "markdown",
   "id": "bf6874a8-e22e-4322-976a-adc1a480dcb3",
   "metadata": {},
   "source": [
    "#### label (Pose == 1) "
   ]
  },
  {
   "cell_type": "markdown",
   "id": "428243f3-69d9-4751-a2bf-b062135ef005",
   "metadata": {},
   "source": [
    "0: 34,\n",
    "1: 21"
   ]
  },
  {
   "cell_type": "markdown",
   "id": "0edd4d9e-6c4d-4ae6-958a-6d1fbd3f7119",
   "metadata": {},
   "source": [
    "#### Results "
   ]
  },
  {
   "cell_type": "code",
   "execution_count": 477,
   "id": "a56f578a-207f-45a3-a167-e92d6eb2e755",
   "metadata": {},
   "outputs": [],
   "source": [
    "teste = df.copy()\n",
    "teste = teste.sort_values('pdb')"
   ]
  },
  {
   "cell_type": "code",
   "execution_count": 478,
   "id": "79994f85-3bf9-45d3-9f7a-2f4bbd10b3b6",
   "metadata": {},
   "outputs": [
    {
     "data": {
      "text/plain": [
       "(430, 6)"
      ]
     },
     "execution_count": 478,
     "metadata": {},
     "output_type": "execute_result"
    }
   ],
   "source": [
    "teste.shape"
   ]
  },
  {
   "cell_type": "code",
   "execution_count": 479,
   "id": "96a8ca3a-5fa1-469d-abb2-27899a2d9dc5",
   "metadata": {},
   "outputs": [],
   "source": [
    "pose_1 = teste[teste['pose'] =='1']"
   ]
  },
  {
   "cell_type": "code",
   "execution_count": 480,
   "id": "1df94b58-6f92-40cd-b5dd-475ffedf2e1b",
   "metadata": {},
   "outputs": [
    {
     "data": {
      "text/plain": [
       "0    34\n",
       "1    21\n",
       "Name: label, dtype: int64"
      ]
     },
     "execution_count": 480,
     "metadata": {},
     "output_type": "execute_result"
    }
   ],
   "source": [
    "pose_1['label'].value_counts()"
   ]
  },
  {
   "cell_type": "code",
   "execution_count": 481,
   "id": "f005b813-6e05-443f-b559-bea3b72a5a14",
   "metadata": {},
   "outputs": [
    {
     "data": {
      "text/plain": [
       "1    10\n",
       "0     8\n",
       "Name: label, dtype: int64"
      ]
     },
     "execution_count": 481,
     "metadata": {},
     "output_type": "execute_result"
    }
   ],
   "source": [
    "pose_1[pose_1['Pred'] > 0.6]['label'].value_counts()"
   ]
  },
  {
   "cell_type": "code",
   "execution_count": 482,
   "id": "a30e25b4-32a8-4d8b-8d8b-4b024c66e08e",
   "metadata": {},
   "outputs": [
    {
     "data": {
      "text/plain": [
       "1    19\n",
       "0    18\n",
       "Name: label, dtype: int64"
      ]
     },
     "execution_count": 482,
     "metadata": {},
     "output_type": "execute_result"
    }
   ],
   "source": [
    "pose_1[pose_1['Pred'] > 0.5]['label'].value_counts()"
   ]
  },
  {
   "cell_type": "code",
   "execution_count": 483,
   "id": "50a8b9a5-9f1d-45f9-acb7-2253a10dcd2c",
   "metadata": {},
   "outputs": [
    {
     "data": {
      "text/plain": [
       "0    0.5\n",
       "1    0.5\n",
       "Name: label, dtype: float64"
      ]
     },
     "execution_count": 483,
     "metadata": {},
     "output_type": "execute_result"
    }
   ],
   "source": [
    "pose_1[pose_1['Pred'] > 0.55]['label'].value_counts(1)"
   ]
  },
  {
   "cell_type": "code",
   "execution_count": 484,
   "id": "5e49b79a-8e14-4a7c-884f-fa549e801528",
   "metadata": {},
   "outputs": [],
   "source": [
    "palette=['#7D2D1F', '#CC8172']"
   ]
  },
  {
   "cell_type": "code",
   "execution_count": 485,
   "id": "11d18252-af58-4a53-9c0b-a250250d0eaf",
   "metadata": {
    "scrolled": true
   },
   "outputs": [
    {
     "data": {
      "image/png": "[encoded data removed]",
      "text/plain": [
       "<Figure size 100x400 with 1 Axes>"
      ]
     },
     "metadata": {},
     "output_type": "display_data"
    }
   ],
   "source": [
    "plot_stacked_bar_chart(teste, label_column='label', title='Distribuição de Labels', file_name='grafico_empilhado_before.png')"
   ]
  },
  {
   "cell_type": "code",
   "execution_count": 486,
   "id": "ebdddc38-dc9f-4ff4-ab92-5f70ffc61e58",
   "metadata": {},
   "outputs": [
    {
     "data": {
      "text/plain": [
       "0    397\n",
       "1     33\n",
       "Name: label, dtype: int64"
      ]
     },
     "execution_count": 486,
     "metadata": {},
     "output_type": "execute_result"
    }
   ],
   "source": [
    "teste['label'].value_counts()"
   ]
  },
  {
   "cell_type": "code",
   "execution_count": 487,
   "id": "bd33dff9-f0d1-41d3-85a1-6a95b6615206",
   "metadata": {},
   "outputs": [
    {
     "data": {
      "text/plain": [
       "0    335\n",
       "1     32\n",
       "Name: label, dtype: int64"
      ]
     },
     "execution_count": 487,
     "metadata": {},
     "output_type": "execute_result"
    }
   ],
   "source": [
    "teste[teste['Pred'] > 0.45]['label'].value_counts()"
   ]
  },
  {
   "cell_type": "code",
   "execution_count": 488,
   "id": "a6012ed5-be9a-4ace-957d-c0e29368ef23",
   "metadata": {},
   "outputs": [
    {
     "data": {
      "text/plain": [
       "0    397\n",
       "1     33\n",
       "Name: label, dtype: int64"
      ]
     },
     "execution_count": 488,
     "metadata": {},
     "output_type": "execute_result"
    }
   ],
   "source": [
    "teste['label'].value_counts()"
   ]
  },
  {
   "cell_type": "code",
   "execution_count": 489,
   "id": "e805827c-baf9-4027-a580-53464d5be111",
   "metadata": {},
   "outputs": [
    {
     "data": {
      "text/plain": [
       "0    284\n",
       "1     30\n",
       "Name: label, dtype: int64"
      ]
     },
     "execution_count": 489,
     "metadata": {},
     "output_type": "execute_result"
    }
   ],
   "source": [
    "teste[teste['Pred'] > 0.5]['label'].value_counts()"
   ]
  },
  {
   "cell_type": "code",
   "execution_count": 490,
   "id": "95f5e1b8-73b2-44cc-a0fe-8515538a20b4",
   "metadata": {},
   "outputs": [
    {
     "data": {
      "image/png": "[encoded data removed]",
      "text/plain": [
       "<Figure size 100x400 with 1 Axes>"
      ]
     },
     "metadata": {},
     "output_type": "display_data"
    }
   ],
   "source": [
    "plot_stacked_bar_chart(teste[teste['Pred'] > 0.5], label_column='label', title='Distribuição de Labels', file_name='grafico_empilhado_before.png')"
   ]
  },
  {
   "cell_type": "markdown",
   "id": "d44b4598-324b-443e-8a51-11854bfb7562",
   "metadata": {},
   "source": [
    "#### Pose 1 "
   ]
  },
  {
   "cell_type": "code",
   "execution_count": 491,
   "id": "64b17603-2cdf-4967-b2a8-3a9c0bb5b854",
   "metadata": {
    "scrolled": true
   },
   "outputs": [
    {
     "data": {
      "image/png": "[encoded data removed]",
      "text/plain": [
       "<Figure size 100x400 with 1 Axes>"
      ]
     },
     "metadata": {},
     "output_type": "display_data"
    }
   ],
   "source": [
    "plot_stacked_bar_chart(pose_1, label_column='label', title='Distribuição de Labels', file_name='grafico_empilhado_before_pose_1.png')"
   ]
  },
  {
   "cell_type": "code",
   "execution_count": 492,
   "id": "18c0f8b5-3f11-486f-940c-0d0435454895",
   "metadata": {},
   "outputs": [
    {
     "data": {
      "text/plain": [
       "0    34\n",
       "1    21\n",
       "Name: label, dtype: int64"
      ]
     },
     "execution_count": 492,
     "metadata": {},
     "output_type": "execute_result"
    }
   ],
   "source": [
    "pose_1['label'].value_counts()"
   ]
  },
  {
   "cell_type": "code",
   "execution_count": 493,
   "id": "ca143c8e-7ff8-4c84-9767-1131954c248f",
   "metadata": {},
   "outputs": [
    {
     "data": {
      "text/plain": [
       "1    19\n",
       "0    18\n",
       "Name: label, dtype: int64"
      ]
     },
     "execution_count": 493,
     "metadata": {},
     "output_type": "execute_result"
    }
   ],
   "source": [
    "pose_1[pose_1['Pred'] > 0.5]['label'].value_counts()"
   ]
  },
  {
   "cell_type": "code",
   "execution_count": 497,
   "id": "ffa66fa3-7ed2-4f0b-ad00-500fec465a16",
   "metadata": {},
   "outputs": [
    {
     "data": {
      "image/png": "[encoded data removed]",
      "text/plain": [
       "<Figure size 100x400 with 1 Axes>"
      ]
     },
     "metadata": {},
     "output_type": "display_data"
    }
   ],
   "source": [
    "plot_stacked_bar_chart(pose_1[pose_1['Pred'] > 0.50], label_column='label', title='Distribuição de Labels', file_name='grafico_empilhado_pose_1.png', palette = ['#7D2D1F', '#CC8172'])"
   ]
  },
  {
   "cell_type": "markdown",
   "id": "2ccabe23-7787-41a5-a1bf-441d70dc1470",
   "metadata": {},
   "source": [
    "## New validation "
   ]
  },
  {
   "cell_type": "code",
   "execution_count": 313,
   "id": "6c7da5ee-c15d-4f2e-bd9c-f0971f471154",
   "metadata": {
    "scrolled": true
   },
   "outputs": [
    {
     "data": {
      "text/plain": [
       "27651"
      ]
     },
     "execution_count": 313,
     "metadata": {},
     "output_type": "execute_result"
    }
   ],
   "source": [
    "name = 'NO_POSERANK_cut_4_REFINED_SET_05_06_2024.pkl'\n",
    "with open(f'{config.data}/{name}', 'rb') as file:\n",
    "    dataset_list_opened = pickle.load(file)\n",
    "len(dataset_list_opened)"
   ]
  },
  {
   "cell_type": "code",
   "execution_count": 314,
   "id": "e70ce27a-60fd-461e-a60d-7665be4de200",
   "metadata": {},
   "outputs": [
    {
     "data": {
      "text/plain": [
       "[BipartiteData(edge_index=[2, 56], x_s=[56, 7], x_t=[56, 7], y=0.0, edge_attr=[56], num_nodes=112, pdb='4kfq', pose=5),\n",
       " BipartiteData(edge_index=[2, 77], x_s=[77, 7], x_t=[77, 7], y=0.0, edge_attr=[77], num_nodes=154, pdb='5byi', pose=8),\n",
       " BipartiteData(edge_index=[2, 72], x_s=[72, 7], x_t=[72, 7], y=0.0, edge_attr=[72], num_nodes=144, pdb='6e5l', pose=2),\n",
       " BipartiteData(edge_index=[2, 110], x_s=[110, 7], x_t=[110, 7], y=0.0, edge_attr=[110], num_nodes=220, pdb='5d3h', pose=5),\n",
       " BipartiteData(edge_index=[2, 126], x_s=[126, 7], x_t=[126, 7], y=1.0, edge_attr=[126], num_nodes=252, pdb='1ejn', pose=3),\n",
       " BipartiteData(edge_index=[2, 132], x_s=[132, 7], x_t=[132, 7], y=0.0, edge_attr=[132], num_nodes=264, pdb='5oa6', pose=9),\n",
       " BipartiteData(edge_index=[2, 86], x_s=[86, 7], x_t=[86, 7], y=0.0, edge_attr=[86], num_nodes=172, pdb='4u73', pose=7),\n",
       " BipartiteData(edge_index=[2, 127], x_s=[127, 7], x_t=[127, 7], y=0.0, edge_attr=[127], num_nodes=254, pdb='5kr2', pose=5),\n",
       " BipartiteData(edge_index=[2, 67], x_s=[67, 7], x_t=[67, 7], y=0.0, edge_attr=[67], num_nodes=134, pdb='3iub', pose=7),\n",
       " BipartiteData(edge_index=[2, 36], x_s=[36, 7], x_t=[36, 7], y=0.0, edge_attr=[36], num_nodes=72, pdb='3uxl', pose=8),\n",
       " BipartiteData(edge_index=[2, 97], x_s=[97, 7], x_t=[97, 7], y=0.0, edge_attr=[97], num_nodes=194, pdb='3n1c', pose=1),\n",
       " BipartiteData(edge_index=[2, 75], x_s=[75, 7], x_t=[75, 7], y=0.0, edge_attr=[75], num_nodes=150, pdb='6e23', pose=4),\n",
       " BipartiteData(edge_index=[2, 98], x_s=[98, 7], x_t=[98, 7], y=0.0, edge_attr=[98], num_nodes=196, pdb='4uoh', pose=5),\n",
       " BipartiteData(edge_index=[2, 37], x_s=[37, 7], x_t=[37, 7], y=0.0, edge_attr=[37], num_nodes=74, pdb='2hzl', pose=3),\n",
       " BipartiteData(edge_index=[2, 105], x_s=[105, 7], x_t=[105, 7], y=0.0, edge_attr=[105], num_nodes=210, pdb='3wmc', pose=5),\n",
       " BipartiteData(edge_index=[2, 138], x_s=[138, 7], x_t=[138, 7], y=0.0, edge_attr=[138], num_nodes=276, pdb='5efa', pose=1),\n",
       " BipartiteData(edge_index=[2, 92], x_s=[92, 7], x_t=[92, 7], y=1.0, edge_attr=[92], num_nodes=184, pdb='6g5u', pose=1),\n",
       " BipartiteData(edge_index=[2, 102], x_s=[102, 7], x_t=[102, 7], y=0.0, edge_attr=[102], num_nodes=204, pdb='6h2t', pose=4),\n",
       " BipartiteData(edge_index=[2, 68], x_s=[68, 7], x_t=[68, 7], y=0.0, edge_attr=[68], num_nodes=136, pdb='3o84', pose=5),\n",
       " BipartiteData(edge_index=[2, 44], x_s=[44, 7], x_t=[44, 7], y=0.0, edge_attr=[44], num_nodes=88, pdb='6hoq', pose=8)]"
      ]
     },
     "execution_count": 314,
     "metadata": {},
     "output_type": "execute_result"
    }
   ],
   "source": [
    "dataset_list_opened[:20]"
   ]
  },
  {
   "cell_type": "code",
   "execution_count": 186,
   "id": "bb209a4a-82bf-4669-a144-e106899ecf89",
   "metadata": {},
   "outputs": [
    {
     "data": {
      "text/plain": [
       "Counter({0.0: 9182, 1.0: 818})"
      ]
     },
     "execution_count": 186,
     "metadata": {},
     "output_type": "execute_result"
    }
   ],
   "source": [
    "Counter([data.y.tolist() for data in dataset_list_opened[:10000]])"
   ]
  },
  {
   "cell_type": "code",
   "execution_count": 187,
   "id": "62894480-3e03-46b5-9792-a971b36e71bf",
   "metadata": {},
   "outputs": [
    {
     "data": {
      "text/plain": [
       "11.224938875305623"
      ]
     },
     "execution_count": 187,
     "metadata": {},
     "output_type": "execute_result"
    }
   ],
   "source": [
    "9182/818"
   ]
  },
  {
   "cell_type": "code",
   "execution_count": 88,
   "id": "fdf95bf8-6257-43c3-9b47-818bf86a440d",
   "metadata": {},
   "outputs": [
    {
     "data": {
      "text/plain": [
       "27651"
      ]
     },
     "execution_count": 88,
     "metadata": {},
     "output_type": "execute_result"
    }
   ],
   "source": [
    "#bipartite_no_pose_rank_cut_4_coreset_RAND_ENCODED_POSERANK\n",
    "with open(f'{config.data}/NO_POSERANK_cut_4_REFINED_SET_05_06_2024.pkl', 'rb') as file:\n",
    "    dataset_list_opened = pickle.load(file)\n",
    "len(dataset_list_opened)"
   ]
  },
  {
   "cell_type": "code",
   "execution_count": 89,
   "id": "11143d74-c73a-4a18-bf29-7796d9ec8a3f",
   "metadata": {},
   "outputs": [],
   "source": [
    "dataset_list_opened = [data for data in dataset_list_opened if data.pdb not in pbs_to_remove_list]"
   ]
  },
  {
   "cell_type": "code",
   "execution_count": 90,
   "id": "41faaa1e-6fc1-4b9b-bdde-1b5250030926",
   "metadata": {},
   "outputs": [
    {
     "name": "stderr",
     "output_type": "stream",
     "text": [
      "/home/lbcb02/anaconda3/lib/python3.11/site-packages/torch_geometric/deprecation.py:22: UserWarning: 'data.DataLoader' is deprecated, use 'loader.DataLoader' instead\n",
      "  warnings.warn(out)\n"
     ]
    }
   ],
   "source": [
    "##### Filter data list \n",
    "\n",
    "filtered_data_list_num_nodes = [data for data in dataset_list_opened if data.num_nodes>0]\n",
    "filtered_data_list_descriptors = [data for data in filtered_data_list_num_nodes if data.x_s.shape[0] > 0 and data.x_t.shape[0] > 0]\n",
    "filtered_data_list_descriptors = [data for data in filtered_data_list_descriptors if not data.x_t[1,2].isnan()] \n",
    "\n",
    "filtered_data_list = filtered_data_list_descriptors.copy()\n",
    "\n",
    "label_distribuition = dict(Counter([label.y.tolist() for label in filtered_data_list]))\n",
    "amount_of_graphs_used_to_train = len(filtered_data_list)\n",
    "\n",
    "filtered_data_list_descriptors = [data for data in filtered_data_list_descriptors if not data.x_t[1,2].isnan()] \n",
    "\n",
    "len(filtered_data_list)\n",
    "\n",
    "filtered_data_list[0]\n",
    "\n",
    "\n",
    "loader = DataLoader(filtered_data_list[:1000], batch_size=config.model_args[\"batch_size\"], shuffle=True, follow_batch=['x_s', 'x_t'])\n",
    "criterion = BalancedBCEWithLogitsLoss(pos_weight=torch.tensor(11.22))\n",
    "\n",
    "\n",
    "best_model = GATModel(input_dim=7, hidden_dim=7, batch_size=config.model_args[\"batch_size\"])\n",
    "best_model.load_state_dict(torch.load('../Model/model_223.pt'))\n",
    "best_model.eval()\n",
    "# Make predictions using the best_model and criterion\n",
    "predictions,true_label = predict(best_model, loader)"
   ]
  },
  {
   "cell_type": "code",
   "execution_count": 91,
   "id": "4d8e535e-9b6d-41a7-8588-d7ec7b3064ef",
   "metadata": {},
   "outputs": [],
   "source": [
    "df = pd.DataFrame(predictions.items(), columns=['Index', 'Pred'])\n",
    "df[['pdb', 'pose']] = df['Index'].apply(lambda x: pd.Series(re.findall(r\"'(\\w+)'\", x[0]) + re.findall(r'\\[(\\d+)\\]', x[1])))\n",
    "df['label'] = list(true_label.values())\n",
    "df.drop('Index', axis=1, inplace=True)"
   ]
  },
  {
   "cell_type": "code",
   "execution_count": 92,
   "id": "875457d9-7c57-485e-8e66-7c52935ff20a",
   "metadata": {},
   "outputs": [
    {
     "data": {
      "text/html": [
       "<div>\n",
       "<style scoped>\n",
       "    .dataframe tbody tr th:only-of-type {\n",
       "        vertical-align: middle;\n",
       "    }\n",
       "\n",
       "    .dataframe tbody tr th {\n",
       "        vertical-align: top;\n",
       "    }\n",
       "\n",
       "    .dataframe thead th {\n",
       "        text-align: right;\n",
       "    }\n",
       "</style>\n",
       "<table border=\"1\" class=\"dataframe\">\n",
       "  <thead>\n",
       "    <tr style=\"text-align: right;\">\n",
       "      <th></th>\n",
       "      <th>Pred</th>\n",
       "      <th>pdb</th>\n",
       "      <th>pose</th>\n",
       "      <th>label</th>\n",
       "    </tr>\n",
       "  </thead>\n",
       "  <tbody>\n",
       "    <tr>\n",
       "      <th>0</th>\n",
       "      <td>0.590323</td>\n",
       "      <td>2xm2</td>\n",
       "      <td>3</td>\n",
       "      <td>0.0</td>\n",
       "    </tr>\n",
       "    <tr>\n",
       "      <th>1</th>\n",
       "      <td>0.284823</td>\n",
       "      <td>5hbs</td>\n",
       "      <td>5</td>\n",
       "      <td>0.0</td>\n",
       "    </tr>\n",
       "    <tr>\n",
       "      <th>2</th>\n",
       "      <td>0.492983</td>\n",
       "      <td>1h6h</td>\n",
       "      <td>3</td>\n",
       "      <td>0.0</td>\n",
       "    </tr>\n",
       "    <tr>\n",
       "      <th>3</th>\n",
       "      <td>0.520624</td>\n",
       "      <td>5e2o</td>\n",
       "      <td>2</td>\n",
       "      <td>0.0</td>\n",
       "    </tr>\n",
       "    <tr>\n",
       "      <th>4</th>\n",
       "      <td>0.534146</td>\n",
       "      <td>4bco</td>\n",
       "      <td>7</td>\n",
       "      <td>0.0</td>\n",
       "    </tr>\n",
       "  </tbody>\n",
       "</table>\n",
       "</div>"
      ],
      "text/plain": [
       "       Pred   pdb pose  label\n",
       "0  0.590323  2xm2    3    0.0\n",
       "1  0.284823  5hbs    5    0.0\n",
       "2  0.492983  1h6h    3    0.0\n",
       "3  0.520624  5e2o    2    0.0\n",
       "4  0.534146  4bco    7    0.0"
      ]
     },
     "execution_count": 92,
     "metadata": {},
     "output_type": "execute_result"
    }
   ],
   "source": [
    "df.head()"
   ]
  },
  {
   "cell_type": "code",
   "execution_count": 93,
   "id": "73f69572-8c82-4faa-ac83-5a5e9d9261a6",
   "metadata": {},
   "outputs": [],
   "source": [
    "pose_1 = df[df['pose'] =='1']"
   ]
  },
  {
   "cell_type": "code",
   "execution_count": 94,
   "id": "6be7ef8e-09f6-411b-bc56-2fc2db082b1f",
   "metadata": {},
   "outputs": [
    {
     "data": {
      "text/plain": [
       "0.0    67\n",
       "1.0    31\n",
       "Name: label, dtype: int64"
      ]
     },
     "execution_count": 94,
     "metadata": {},
     "output_type": "execute_result"
    }
   ],
   "source": [
    "pose_1['label'].value_counts()"
   ]
  },
  {
   "cell_type": "code",
   "execution_count": 95,
   "id": "e2d65749-264e-4b1b-9bb2-627180120d35",
   "metadata": {},
   "outputs": [
    {
     "data": {
      "text/plain": [
       "0.0    0.683673\n",
       "1.0    0.316327\n",
       "Name: label, dtype: float64"
      ]
     },
     "execution_count": 95,
     "metadata": {},
     "output_type": "execute_result"
    }
   ],
   "source": [
    "pose_1['label'].value_counts(1)"
   ]
  },
  {
   "cell_type": "code",
   "execution_count": 96,
   "id": "ba95c89a-49ab-414c-8c5f-e2cea4e50f48",
   "metadata": {},
   "outputs": [],
   "source": [
    "#pose_1[pose_1['Pred'] > 0.6]['label'].value_counts()"
   ]
  },
  {
   "cell_type": "code",
   "execution_count": 97,
   "id": "30fbeece-352a-4a73-9303-28f34a1af604",
   "metadata": {},
   "outputs": [
    {
     "data": {
      "text/plain": [
       "0.0    0.677419\n",
       "1.0    0.322581\n",
       "Name: label, dtype: float64"
      ]
     },
     "execution_count": 97,
     "metadata": {},
     "output_type": "execute_result"
    }
   ],
   "source": [
    "pose_1[pose_1['Pred'] > 0.6]['label'].value_counts(1)"
   ]
  },
  {
   "cell_type": "code",
   "execution_count": 98,
   "id": "a08e626d-c822-4dba-bba0-388b837f03e1",
   "metadata": {},
   "outputs": [
    {
     "data": {
      "text/plain": [
       "0.0    47\n",
       "1.0    24\n",
       "Name: label, dtype: int64"
      ]
     },
     "execution_count": 98,
     "metadata": {},
     "output_type": "execute_result"
    }
   ],
   "source": [
    "pose_1[pose_1['Pred'] > 0.5]['label'].value_counts()"
   ]
  },
  {
   "cell_type": "code",
   "execution_count": 99,
   "id": "73488797-6506-4dc6-81cc-e9d58666f9a6",
   "metadata": {},
   "outputs": [
    {
     "data": {
      "text/plain": [
       "0.0    0.661972\n",
       "1.0    0.338028\n",
       "Name: label, dtype: float64"
      ]
     },
     "execution_count": 99,
     "metadata": {},
     "output_type": "execute_result"
    }
   ],
   "source": [
    "pose_1[pose_1['Pred'] > 0.5]['label'].value_counts(1)"
   ]
  },
  {
   "cell_type": "code",
   "execution_count": 100,
   "id": "9545ff68-7388-4c78-9476-1c9ef11e5b90",
   "metadata": {},
   "outputs": [
    {
     "data": {
      "text/plain": [
       "0.0    0.66\n",
       "1.0    0.34\n",
       "Name: label, dtype: float64"
      ]
     },
     "execution_count": 100,
     "metadata": {},
     "output_type": "execute_result"
    }
   ],
   "source": [
    "pose_1[pose_1['Pred'] > 0.55]['label'].value_counts(1)"
   ]
  },
  {
   "cell_type": "code",
   "execution_count": null,
   "id": "26fd5b5c-1b24-4e9c-af9a-56458c512605",
   "metadata": {},
   "outputs": [],
   "source": []
  },
  {
   "cell_type": "code",
   "execution_count": 1,
   "id": "247cf89e-f6a4-40a2-a7ac-95efc875e1b7",
   "metadata": {},
   "outputs": [
    {
     "data": {
      "text/plain": [
       "12.342465753424657"
      ]
     },
     "execution_count": 1,
     "metadata": {},
     "output_type": "execute_result"
    }
   ],
   "source": [
    "1802/146"
   ]
  },
  {
   "cell_type": "code",
   "execution_count": null,
   "id": "0c254c1e-7061-4920-b780-b467525e9f39",
   "metadata": {},
   "outputs": [],
   "source": []
  }
 ],
 "metadata": {
  "kernelspec": {
   "display_name": "Python 3 (ipykernel)",
   "language": "python",
   "name": "python3"
  },
  "language_info": {
   "codemirror_mode": {
    "name": "ipython",
    "version": 3
   },
   "file_extension": ".py",
   "mimetype": "text/x-python",
   "name": "python",
   "nbconvert_exporter": "python",
   "pygments_lexer": "ipython3",
   "version": "3.11.4"
  }
 },
 "nbformat": 4,
 "nbformat_minor": 5
}
