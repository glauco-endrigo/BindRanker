{
 "cells": [
  {
   "cell_type": "code",
   "execution_count": 2,
   "id": "ca8f8871-9567-4ac9-90c7-668e757951d1",
   "metadata": {},
   "outputs": [],
   "source": [
    "!pip install torch --quiet\n",
    "!pip install torch_geometric --quiet"
   ]
  },
  {
   "cell_type": "code",
   "execution_count": 37,
   "id": "2a22f623-7e0c-480f-bf4c-62598328f399",
   "metadata": {
    "scrolled": true
   },
   "outputs": [],
   "source": [
    "import os\n",
    "import torch\n",
    "import pickle\n",
    "from tqdm import tqdm\n",
    "import pickle\n",
    "import torch\n",
    "from torch_geometric.data import Data, DataLoader\n",
    "from torch_geometric.nn import GCNConv\n",
    "import torch.nn as nn\n",
    "import torch.nn.functional as F\n",
    "import os\n",
    "import pandas as pd\n",
    "import subprocess\n",
    "import numpy as np\n",
    "import torch\n",
    "import pandas as pd\n",
    "from rdkit import Chem\n",
    "from rdkit.Chem import Descriptors\n",
    "import os\n",
    "from torch_geometric.loader import DataLoader\n",
    "from pathlib import Path\n",
    "import torch.nn as nn\n",
    "import torch.optim as optim\n",
    "from torch_geometric.data import DataLoader, Data\n",
    "from torch_geometric.nn import GCNConv\n",
    "import torch\n",
    "import torch.nn as nn\n",
    "import torch.optim as optim\n",
    "from torch_geometric.data import Data, DataLoader\n",
    "from torch_geometric.nn import GATConv\n",
    "import random\n",
    "from sklearn.model_selection import StratifiedKFold\n",
    "from sklearn.metrics import accuracy_score, precision_score, recall_score, f1_score\n",
    "import matplotlib.pyplot as plt\n",
    "from collections import Counter\n",
    "from torch_geometric.data import Data, Dataset\n",
    "import os\n",
    "from sklearn.metrics import roc_auc_score, average_precision_score, balanced_accuracy_score, confusion_matrix\n",
    "import matplotlib.pyplot as plt\n",
    "import seaborn as sns\n",
    "import os\n",
    "import pandas as pd\n",
    "import matplotlib.pyplot as plt\n",
    "from torch_geometric.nn import GATConv, global_mean_pool\n",
    "\n",
    "%run ../Config.ipynb\n",
    "config = Config()\n",
    "\n",
    "from torch_geometric.data import Data, Dataset\n",
    "from collections import Counter"
   ]
  },
  {
   "cell_type": "code",
   "execution_count": 38,
   "id": "74fbf7ce-f14d-411f-9dde-42fb9f6d1100",
   "metadata": {},
   "outputs": [],
   "source": [
    "import matplotlib.pyplot as plt\n",
    "import pandas as pd\n",
    "\n",
    "def plot_stacked_bar_chart(df, label_column='label', title='Distribuição', file_name='grafico_empilhado.png', palette=  ['#7D2D1F', 'steelblue'] ):\n",
    "    \"\"\"\n",
    "    Plota um gráfico de barras empilhadas com base nas porcentagens de rótulos no DataFrame.\n",
    "\n",
    "    Parameters:\n",
    "    - df: DataFrame contendo os dados\n",
    "    - label_column: Nome da coluna no DataFrame que contém os rótulos\n",
    "    - title: Título do gráfico\n",
    "    - file_name: Nome do arquivo onde o gráfico será salvo\n",
    "    \"\"\"\n",
    "    \n",
    "    # Obtemos a contagem dos labels\n",
    "    value_counts = df[label_column].value_counts()\n",
    "\n",
    "    # Calculamos a porcentagem de cada label\n",
    "    percentages = value_counts / value_counts.sum() * 100\n",
    "\n",
    "    # Cria um DataFrame para facilitar a manipulação dos dados\n",
    "    df_plot = pd.DataFrame({\n",
    "        'Label': percentages.index,\n",
    "        'Percentual': percentages.values\n",
    "    })\n",
    "\n",
    "    # Mapeia os rótulos para \"Correct\" e \"Incorrect\"\n",
    "    df_plot['Label'] = df_plot['Label'].map({1: 'Correct', 0: 'Incorrect'})\n",
    "\n",
    "    # Ordena o DataFrame para que \"Correct\" venha antes de \"Incorrect\"\n",
    "    df_plot = df_plot.sort_values(by='Label', key=lambda x: x.map({'Correct': 0, 'Incorrect': 1}))\n",
    "\n",
    "    # Cria uma nova coluna com a porcentagem acumulada para o gráfico empilhado\n",
    "    df_plot['Percentual acumulado'] = df_plot['Percentual'].cumsum()\n",
    "\n",
    "    # Cria o gráfico de barras empilhadas\n",
    "    plt.figure(figsize=(1, 4))\n",
    "\n",
    "    # Define a paleta de cores\n",
    "    palette = palette  # \"Correct\" primeiro, depois \"Incorrect\"\n",
    "\n",
    "    # Adiciona barras empilhadas para cada categoria\n",
    "    bottom = 0\n",
    "    for i, row in df_plot.iterrows():\n",
    "        plt.bar(title, row['Percentual'], bottom=bottom, color=palette[i], label=row['Label'], )\n",
    "        bottom += row['Percentual']\n",
    "\n",
    "    # Adiciona os valores percentuais no topo das barras\n",
    "    for i, row in df_plot.iterrows():\n",
    "        plt.text(0, row['Percentual acumulado'] - row['Percentual'] / 2, f'{row[\"Percentual\"]:.1f}%', \n",
    "                 ha='center', va='center', color='white')\n",
    "\n",
    "    # Ajusta a visualização\n",
    "    plt.xticks([])\n",
    "    plt.yticks([])\n",
    "    plt.gca().spines['top'].set_visible(False)\n",
    "    plt.gca().spines['right'].set_visible(False)\n",
    "    plt.gca().spines['left'].set_visible(False)\n",
    "    plt.gca().spines['bottom'].set_visible(False)\n",
    "\n",
    "    # Adiciona o título ao gráfico\n",
    "    #plt.title(title)\n",
    "\n",
    "    # Salva o gráfico como PNG com fundo transparente\n",
    "    plt.savefig(file_name, bbox_inches='tight', pad_inches=0, transparent=True)\n",
    "\n",
    "    # Mostra o gráfico\n",
    "    plt.show()"
   ]
  },
  {
   "cell_type": "code",
   "execution_count": 39,
   "id": "489fc1ca-4765-4d3f-8dd2-4f0b47cacfb7",
   "metadata": {
    "scrolled": true
   },
   "outputs": [
    {
     "name": "stderr",
     "output_type": "stream",
     "text": [
      "/home/lbcb00/anaconda3/lib/python3.12/site-packages/torch/storage.py:414: FutureWarning: You are using `torch.load` with `weights_only=False` (the current default value), which uses the default pickle module implicitly. It is possible to construct malicious pickle data which will execute arbitrary code during unpickling (See https://github.com/pytorch/pytorch/blob/main/SECURITY.md#untrusted-models for more details). In a future release, the default value for `weights_only` will be flipped to `True`. This limits the functions that could be executed during unpickling. Arbitrary objects will no longer be allowed to be loaded via this mode unless they are explicitly allowlisted by the user via `torch.serialization.add_safe_globals`. We recommend you start setting `weights_only=True` for any use case where you don't have full control of the loaded file. Please open an issue on GitHub for any issues related to this experimental feature.\n",
      "  return torch.load(io.BytesIO(b))\n",
      "/home/lbcb00/anaconda3/lib/python3.12/site-packages/torch_geometric/deprecation.py:26: UserWarning: 'data.DataLoader' is deprecated, use 'loader.DataLoader' instead\n",
      "  warnings.warn(out)\n"
     ]
    }
   ],
   "source": [
    "class BipartiteData(Data):\n",
    "    def __init__(self, edge_index=None, x_s=None, x_t=None, y=None, edge_attr=None, pdb = None, pose = None):\n",
    "        super().__init__()\n",
    "        self.edge_index = edge_index\n",
    "        self.x_s = x_s\n",
    "        self.x_t = x_t\n",
    "        self.y = y\n",
    "        self.edge_attr = edge_attr  # Add edge_attr attribute\n",
    "        #self.num_nodes = len(set(edge_index[0].tolist())) +  len(set(edge_index[1].tolist()))\n",
    "        self.num_nodes = (x_s.size(0) if x_s is not None else 0) + (x_t.size(0) if x_t is not None else 0)\n",
    "        self.pdb = pdb\n",
    "        self.pose = pose\n",
    "    \n",
    "    def __inc__(self, key, value, *args, **kwargs):\n",
    "        if key == 'edge_index':\n",
    "            return torch.tensor([[self.x_s.size(0)], [self.x_t.size(0)]])\n",
    "        else:\n",
    "            return super().__inc__(key, value, *args, **kwargs)\n",
    "#bipartite_no_pose_rank_cut_4_coreset_RAND_ENCODED_POSERANK\n",
    "with open(f'{config.data}/bipartite_data_no_pose_rank_NOT_sorted_by_family_cut_4_coreset_1_RAND.pkl', 'rb') as file:\n",
    "    dataset_list_opened = pickle.load(file)\n",
    "len(dataset_list_opened)\n",
    "\n",
    "##### Filter data list \n",
    "\n",
    "filtered_data_list_num_nodes = [data for data in dataset_list_opened if data.num_nodes>0]\n",
    "filtered_data_list_descriptors = [data for data in filtered_data_list_num_nodes if data.x_s.shape[0] > 0 and data.x_t.shape[0] > 0]\n",
    "filtered_data_list_descriptors = [data for data in filtered_data_list_descriptors if not data.x_t[1,2].isnan()] \n",
    "\n",
    "filtered_data_list = filtered_data_list_descriptors.copy()\n",
    "\n",
    "label_distribuition = dict(Counter([label.y.tolist() for label in filtered_data_list]))\n",
    "amount_of_graphs_used_to_train = len(filtered_data_list)\n",
    "\n",
    "filtered_data_list_descriptors = [data for data in filtered_data_list_descriptors if not data.x_t[1,2].isnan()] \n",
    "\n",
    "len(filtered_data_list)\n",
    "\n",
    "filtered_data_list[0]\n",
    "\n",
    "class GATModel(nn.Module):\n",
    "    def __init__(self, input_dim, hidden_dim, batch_size):\n",
    "        super(GATModel, self).__init__()\n",
    "        self.conv1 = GATConv(in_channels=input_dim, out_channels=50, heads=2)\n",
    "        #self.conv2 = GATConv(in_channels=100, out_channels=hidden_dim, heads=1)\n",
    "        self.fc1 = nn.Linear(50*2, 1)\n",
    "        \n",
    "        #self.fc3 = nn.Linear(10, 1)\n",
    "        self.dropout = nn.Dropout(0.1)\n",
    "\n",
    "    def forward(self, data):\n",
    "        x_s, x_t, edge_index, distances, x_t_batch, x_s_batch = data.x_s, data.x_t, data.edge_index, data.edge_attr, data.x_t_batch, data.x_s_batch\n",
    "        x_new_t = self.conv1((x_s, x_t), edge_index, size=(x_s.size(0), x_t.size(0)), edge_attr=distances)\n",
    "        x = torch.relu(x_new_t)\n",
    "\n",
    "        ##########3\n",
    "        #x_new_s = self.conv2((x_t, x_s), edge_index[torch.tensor([1, 0])], size=(x_t.size(0), x_s.size(0)), edge_attr=distances)\n",
    "        #x = torch.relu(x_new_s)\n",
    "        #####################Z\n",
    "        x = global_mean_pool(x, x_s_batch)\n",
    "        x = self.fc1(x)\n",
    "        #x = self.fc2(x)\n",
    "\n",
    "        #x = self.dropout(x)\n",
    "        #x = self.fc3(x)\n",
    "        #print('x: ', x)\n",
    "        return x.squeeze()\n",
    "\n",
    "class BalancedBCEWithLogitsLoss(nn.Module):\n",
    "    def __init__(self, pos_weight=None, reduction='mean'):\n",
    "        super(BalancedBCEWithLogitsLoss, self).__init__()\n",
    "        self.pos_weight = pos_weight\n",
    "        self.reduction = reduction\n",
    "        self.bce_loss = nn.BCEWithLogitsLoss(pos_weight=pos_weight, reduction=reduction)\n",
    "\n",
    "    def forward(self, input, target):\n",
    "        loss = self.bce_loss(input, target)\n",
    "        return loss\n",
    "\n",
    "loader = DataLoader(filtered_data_list[1500:], batch_size=config.model_args[\"batch_size\"], shuffle=True, follow_batch=['x_s', 'x_t'])\n",
    "criterion = BalancedBCEWithLogitsLoss(pos_weight=torch.tensor(14))\n",
    "#[1500:1938],\n",
    "import re\n",
    "\n",
    "def predict(model, data):\n",
    "    # Preprocess your data here if necessary\n",
    "    # Convert your data into tensors or any format expected by your model\n",
    "    # For example:\n",
    "    model.eval()\n",
    "    val_probs = {}\n",
    "    true_label = {}\n",
    "    # Forward pass through the model\n",
    "    with torch.no_grad():\n",
    "        for batch_data in data:\n",
    "            output = model(batch_data)\n",
    "            val_probs[str(batch_data.pdb), str(batch_data.pose)] = torch.sigmoid(output).item()  # Obtain probabilities using sigmoid function\n",
    "            true_label[str(batch_data.pdb), str(batch_data.pose)] =  batch_data.y.item()\n",
    "    return val_probs, true_label\n",
    "#best_model = GATModel(input_dim=7, hidden_dim=7, batch_size=config.model_args[\"batch_size\"])\n",
    "#best_model.load_state_dict(torch.load('../Model/models_pt/model_163.pt'))\n",
    "##model_223\n",
    "#best_model\n",
    "#best_model.eval()\n",
    "## Make predictions using the best_model and criterion\n",
    "#predictions,true_label = predict(best_model, loader)"
   ]
  },
  {
   "cell_type": "code",
   "execution_count": 40,
   "id": "8df3f55e-ff0c-4fe0-8b35-a124de0f6cf4",
   "metadata": {},
   "outputs": [
    {
     "name": "stderr",
     "output_type": "stream",
     "text": [
      "/tmp/ipykernel_21051/4125475986.py:2: FutureWarning: You are using `torch.load` with `weights_only=False` (the current default value), which uses the default pickle module implicitly. It is possible to construct malicious pickle data which will execute arbitrary code during unpickling (See https://github.com/pytorch/pytorch/blob/main/SECURITY.md#untrusted-models for more details). In a future release, the default value for `weights_only` will be flipped to `True`. This limits the functions that could be executed during unpickling. Arbitrary objects will no longer be allowed to be loaded via this mode unless they are explicitly allowlisted by the user via `torch.serialization.add_safe_globals`. We recommend you start setting `weights_only=True` for any use case where you don't have full control of the loaded file. Please open an issue on GitHub for any issues related to this experimental feature.\n",
      "  model_state_dict = torch.load(f'../Model/models_pt/{model_name}.pt')\n"
     ]
    },
    {
     "data": {
      "text/plain": [
       "GATModel(\n",
       "  (conv1): GATConv(7, 50, heads=2)\n",
       "  (fc1): Linear(in_features=100, out_features=1, bias=True)\n",
       "  (dropout): Dropout(p=0.1, inplace=False)\n",
       ")"
      ]
     },
     "execution_count": 40,
     "metadata": {},
     "output_type": "execute_result"
    }
   ],
   "source": [
    "model_name = 'model_188'\n",
    "model_state_dict = torch.load(f'../Model/models_pt/{model_name}.pt')\n",
    "#model_223\n",
    "#model_160\n",
    "# Create a new state dict to match current model\n",
    "new_state_dict = {}\n",
    "for key, value in model_state_dict.items():\n",
    "    if 'conv1.lin_src' in key:\n",
    "        new_key = key.replace('conv1.lin_src', 'conv1.lin')\n",
    "    elif 'conv1.lin_dst' in key:\n",
    "        new_key = key.replace('conv1.lin_dst', 'conv1.lin')\n",
    "    else:\n",
    "        new_key = key\n",
    "    new_state_dict[new_key] = value\n",
    "\n",
    "# Load the modified state dict\n",
    "best_model = GATModel(input_dim=7, hidden_dim=7, batch_size=config.model_args[\"batch_size\"])\n",
    "best_model.load_state_dict(new_state_dict)\n",
    "best_model.eval()"
   ]
  },
  {
   "cell_type": "code",
   "execution_count": 41,
   "id": "eaa1175d-5aa7-4fb0-8012-4abaab0f0092",
   "metadata": {},
   "outputs": [],
   "source": [
    "predictions,true_label = predict(best_model, loader)"
   ]
  },
  {
   "cell_type": "code",
   "execution_count": 42,
   "id": "65be1f34-ecd9-4d7e-8a49-2329ae95ab08",
   "metadata": {},
   "outputs": [],
   "source": [
    "pbs_to_remove_list = [data.pdb for data in filtered_data_list]"
   ]
  },
  {
   "cell_type": "markdown",
   "id": "9beee3b4-dadb-4967-b706-97341d1479ad",
   "metadata": {},
   "source": [
    "#### Convert dictionary to DataFrame"
   ]
  },
  {
   "cell_type": "code",
   "execution_count": 43,
   "id": "e3e6402b-89e2-4287-9a36-956c0d530871",
   "metadata": {},
   "outputs": [],
   "source": [
    "df = pd.DataFrame(predictions.items(), columns=['Index', 'Pred'])\n",
    "df[['pdb', 'pose']] = df['Index'].apply(lambda x: pd.Series(re.findall(r\"'(\\w+)'\", x[0]) + re.findall(r'\\[(\\d+)\\]', x[1])))\n",
    "df['label'] = list(true_label.values())\n",
    "df.drop('Index', axis=1, inplace=True)"
   ]
  },
  {
   "cell_type": "code",
   "execution_count": 44,
   "id": "9fc326e8-22eb-4b10-a20a-10242d6eadbe",
   "metadata": {},
   "outputs": [
    {
     "data": {
      "text/plain": [
       "label\n",
       "0.0    381\n",
       "1.0     12\n",
       "Name: count, dtype: int64"
      ]
     },
     "execution_count": 44,
     "metadata": {},
     "output_type": "execute_result"
    }
   ],
   "source": [
    "df[df['pose'] != '1' ]['label'].value_counts()"
   ]
  },
  {
   "cell_type": "code",
   "execution_count": 45,
   "id": "3d23c065-cbb4-4064-964b-8f3b2ede7d9d",
   "metadata": {},
   "outputs": [
    {
     "data": {
      "text/plain": [
       "label\n",
       "0.0    34\n",
       "1.0    21\n",
       "Name: count, dtype: int64"
      ]
     },
     "execution_count": 45,
     "metadata": {},
     "output_type": "execute_result"
    }
   ],
   "source": [
    "df[df['pose'] == '1' ]['label'].value_counts()"
   ]
  },
  {
   "cell_type": "code",
   "execution_count": 46,
   "id": "69ad8a93-198b-47d6-8cf8-7d42c3ca9246",
   "metadata": {},
   "outputs": [],
   "source": [
    "general = df.sort_values(['pdb','pose'])"
   ]
  },
  {
   "cell_type": "code",
   "execution_count": 47,
   "id": "cf544e2c-47f8-4ffa-be31-98e8f5ba364f",
   "metadata": {},
   "outputs": [],
   "source": [
    "import matplotlib.pyplot as plt\n",
    "import numpy as np\n",
    "import pandas as pd\n",
    "\n",
    "def plot_classification_results(df, score_col, true_class_col, threshold=0.55):\n",
    "    \"\"\"\n",
    "    Função para plotar os resultados de classificação com base nos escores de IA e nas classes verdadeiras.\n",
    "\n",
    "    Parâmetros:\n",
    "    - df: DataFrame contendo as predições e as classes verdadeiras.\n",
    "    - score_col: Nome da coluna que contém as predições (escores) da IA.\n",
    "    - true_class_col: Nome da coluna que contém as classes verdadeiras (0 para negativo, 1 para positivo).\n",
    "    - threshold: Limiar de classificação (default é 0.55).\n",
    "    \"\"\"\n",
    "    # Criar a coluna de classe predita com base no threshold\n",
    "    df['predicted_class'] = np.where(df[score_col] >= threshold, 1, 0)\n",
    "\n",
    "    # Contar TP, TN, FP, FN\n",
    "    TP = len(df[(df['predicted_class'] == 1) & (df[true_class_col] == 1)])\n",
    "    TN = len(df[(df['predicted_class'] == 0) & (df[true_class_col] == 0)])\n",
    "    FP = len(df[(df['predicted_class'] == 1) & (df[true_class_col] == 0)])\n",
    "    FN = len(df[(df['predicted_class'] == 0) & (df[true_class_col] == 1)])\n",
    "\n",
    "    # Calcular TPR e FPR\n",
    "    TPR = TP / (TP + FN) if TP + FN > 0 else 0\n",
    "    FPR = FP / (FP + TN) if FP + TN > 0 else 0\n",
    "\n",
    "    # Criar o gráfico\n",
    "    plt.figure(figsize=(8, 6))\n",
    "\n",
    "    # Colocar os pontos de positivos e negativos em y levemente diferentes\n",
    "    y_pos_positive = 0.01  # para positivos\n",
    "    y_pos_negative = -0.01  # para negativos\n",
    "\n",
    "    # Plotar pontos para positivos e negativos reais em diferentes níveis\n",
    "    plt.scatter(df[df[true_class_col] == 1][score_col], \n",
    "                np.full_like(df[df[true_class_col] == 1][score_col], y_pos_positive), \n",
    "                color='blue', label='Actual Positive', alpha=0.6, marker='o')\n",
    "\n",
    "    plt.scatter(df[df[true_class_col] == 0][score_col], \n",
    "                np.full_like(df[df[true_class_col] == 0][score_col], y_pos_negative), \n",
    "                color='orange', label='Actual Negative', alpha=0.6, marker='o')\n",
    "\n",
    "    # Adicionar linha do threshold\n",
    "    plt.axvline(x=threshold, color='black', linestyle='-', label='Threshold')\n",
    "\n",
    "    # Adicionar texto com as métricas no meio do gráfico\n",
    "    plt.text(0.02, 0.02, f'TP: {TP}, TN: {TN}', fontsize=12)\n",
    "    plt.text(0.02, -0.005, f'FP: {FP}, FN: {FN}', fontsize=12)\n",
    "    plt.text(0.02, -0.015, f'TPR: {TPR:.2f}', fontsize=12)\n",
    "    plt.text(0.02, -0.025, f'FPR: {FPR:.2f}', fontsize=12)\n",
    "\n",
    "    # Remover eixos y e bordas, mantendo apenas o eixo x\n",
    "    plt.gca().spines['top'].set_visible(False)  # Remove top border\n",
    "    plt.gca().spines['right'].set_visible(False)  # Remove right border\n",
    "    plt.gca().spines['left'].set_visible(False)  # Remove left border\n",
    "    plt.gca().spines['bottom'].set_visible(True)  # Keep the bottom (x-axis)\n",
    "\n",
    "    # Remover o eixo y (para parecer com a imagem original)\n",
    "    plt.gca().get_yaxis().set_visible(False)\n",
    "\n",
    "    # Ajustes no gráfico\n",
    "    plt.ylim([-0.05, 0.05])  # Ajuste o y-axis para acomodar os dois níveis\n",
    "    plt.xlim([0, 1])\n",
    "    \n",
    "    # Customizar a legenda para remover a borda\n",
    "    plt.legend(loc=\"upper right\", frameon=False)\n",
    "    \n",
    "    plt.xlabel('AI Score')\n",
    "    plt.title('AI Predictions vs Actual Classes')\n",
    "\n",
    "    plt.show()\n",
    "\n",
    "# Exemplo de uso\n",
    "# df = pd.DataFrame({\n",
    "#     'score': np.random.rand(2000),\n",
    "#     'true_class': np.random.choice([0, 1], size=2000, p=[0.92, 0.08])\n",
    "# })\n",
    "# plot_classification_results(df, score_col='score', true_class_col='true_class', threshold=0.55)\n"
   ]
  },
  {
   "cell_type": "code",
   "execution_count": 48,
   "id": "4c473bf7-464d-4b79-b776-330d05c3d860",
   "metadata": {},
   "outputs": [
    {
     "data": {
      "text/html": [
       "<div>\n",
       "<style scoped>\n",
       "    .dataframe tbody tr th:only-of-type {\n",
       "        vertical-align: middle;\n",
       "    }\n",
       "\n",
       "    .dataframe tbody tr th {\n",
       "        vertical-align: top;\n",
       "    }\n",
       "\n",
       "    .dataframe thead th {\n",
       "        text-align: right;\n",
       "    }\n",
       "</style>\n",
       "<table border=\"1\" class=\"dataframe\">\n",
       "  <thead>\n",
       "    <tr style=\"text-align: right;\">\n",
       "      <th></th>\n",
       "      <th>Pred</th>\n",
       "      <th>pdb</th>\n",
       "      <th>pose</th>\n",
       "      <th>label</th>\n",
       "    </tr>\n",
       "  </thead>\n",
       "  <tbody>\n",
       "    <tr>\n",
       "      <th>87</th>\n",
       "      <td>0.603737</td>\n",
       "      <td>1a30</td>\n",
       "      <td>3</td>\n",
       "      <td>0.0</td>\n",
       "    </tr>\n",
       "    <tr>\n",
       "      <th>276</th>\n",
       "      <td>0.612946</td>\n",
       "      <td>1a30</td>\n",
       "      <td>8</td>\n",
       "      <td>0.0</td>\n",
       "    </tr>\n",
       "    <tr>\n",
       "      <th>274</th>\n",
       "      <td>0.603102</td>\n",
       "      <td>1a30</td>\n",
       "      <td>9</td>\n",
       "      <td>0.0</td>\n",
       "    </tr>\n",
       "    <tr>\n",
       "      <th>235</th>\n",
       "      <td>0.628869</td>\n",
       "      <td>1bcu</td>\n",
       "      <td>3</td>\n",
       "      <td>0.0</td>\n",
       "    </tr>\n",
       "    <tr>\n",
       "      <th>102</th>\n",
       "      <td>0.671514</td>\n",
       "      <td>1bzc</td>\n",
       "      <td>4</td>\n",
       "      <td>0.0</td>\n",
       "    </tr>\n",
       "  </tbody>\n",
       "</table>\n",
       "</div>"
      ],
      "text/plain": [
       "         Pred   pdb pose  label\n",
       "87   0.603737  1a30    3    0.0\n",
       "276  0.612946  1a30    8    0.0\n",
       "274  0.603102  1a30    9    0.0\n",
       "235  0.628869  1bcu    3    0.0\n",
       "102  0.671514  1bzc    4    0.0"
      ]
     },
     "execution_count": 48,
     "metadata": {},
     "output_type": "execute_result"
    }
   ],
   "source": [
    "general.head()"
   ]
  },
  {
   "cell_type": "code",
   "execution_count": 49,
   "id": "7dee230a-c1a5-4195-8ab7-1ebcf0d7720b",
   "metadata": {},
   "outputs": [
    {
     "ename": "KeyError",
     "evalue": "'predicted_class'",
     "output_type": "error",
     "traceback": [
      "\u001b[0;31m---------------------------------------------------------------------------\u001b[0m",
      "\u001b[0;31mKeyError\u001b[0m                                  Traceback (most recent call last)",
      "File \u001b[0;32m~/anaconda3/lib/python3.12/site-packages/pandas/core/indexes/base.py:3805\u001b[0m, in \u001b[0;36mIndex.get_loc\u001b[0;34m(self, key)\u001b[0m\n\u001b[1;32m   3804\u001b[0m \u001b[38;5;28;01mtry\u001b[39;00m:\n\u001b[0;32m-> 3805\u001b[0m     \u001b[38;5;28;01mreturn\u001b[39;00m \u001b[38;5;28mself\u001b[39m\u001b[38;5;241m.\u001b[39m_engine\u001b[38;5;241m.\u001b[39mget_loc(casted_key)\n\u001b[1;32m   3806\u001b[0m \u001b[38;5;28;01mexcept\u001b[39;00m \u001b[38;5;167;01mKeyError\u001b[39;00m \u001b[38;5;28;01mas\u001b[39;00m err:\n",
      "File \u001b[0;32mindex.pyx:167\u001b[0m, in \u001b[0;36mpandas._libs.index.IndexEngine.get_loc\u001b[0;34m()\u001b[0m\n",
      "File \u001b[0;32mindex.pyx:196\u001b[0m, in \u001b[0;36mpandas._libs.index.IndexEngine.get_loc\u001b[0;34m()\u001b[0m\n",
      "File \u001b[0;32mpandas/_libs/hashtable_class_helper.pxi:7081\u001b[0m, in \u001b[0;36mpandas._libs.hashtable.PyObjectHashTable.get_item\u001b[0;34m()\u001b[0m\n",
      "File \u001b[0;32mpandas/_libs/hashtable_class_helper.pxi:7089\u001b[0m, in \u001b[0;36mpandas._libs.hashtable.PyObjectHashTable.get_item\u001b[0;34m()\u001b[0m\n",
      "\u001b[0;31mKeyError\u001b[0m: 'predicted_class'",
      "\nThe above exception was the direct cause of the following exception:\n",
      "\u001b[0;31mKeyError\u001b[0m                                  Traceback (most recent call last)",
      "Cell \u001b[0;32mIn[49], line 1\u001b[0m\n\u001b[0;32m----> 1\u001b[0m general[general[\u001b[38;5;124m'\u001b[39m\u001b[38;5;124mpredicted_class\u001b[39m\u001b[38;5;124m'\u001b[39m]\u001b[38;5;241m==\u001b[39m\u001b[38;5;241m1\u001b[39m]\u001b[38;5;241m.\u001b[39mdescribe()\n",
      "File \u001b[0;32m~/anaconda3/lib/python3.12/site-packages/pandas/core/frame.py:4102\u001b[0m, in \u001b[0;36mDataFrame.__getitem__\u001b[0;34m(self, key)\u001b[0m\n\u001b[1;32m   4100\u001b[0m \u001b[38;5;28;01mif\u001b[39;00m \u001b[38;5;28mself\u001b[39m\u001b[38;5;241m.\u001b[39mcolumns\u001b[38;5;241m.\u001b[39mnlevels \u001b[38;5;241m>\u001b[39m \u001b[38;5;241m1\u001b[39m:\n\u001b[1;32m   4101\u001b[0m     \u001b[38;5;28;01mreturn\u001b[39;00m \u001b[38;5;28mself\u001b[39m\u001b[38;5;241m.\u001b[39m_getitem_multilevel(key)\n\u001b[0;32m-> 4102\u001b[0m indexer \u001b[38;5;241m=\u001b[39m \u001b[38;5;28mself\u001b[39m\u001b[38;5;241m.\u001b[39mcolumns\u001b[38;5;241m.\u001b[39mget_loc(key)\n\u001b[1;32m   4103\u001b[0m \u001b[38;5;28;01mif\u001b[39;00m is_integer(indexer):\n\u001b[1;32m   4104\u001b[0m     indexer \u001b[38;5;241m=\u001b[39m [indexer]\n",
      "File \u001b[0;32m~/anaconda3/lib/python3.12/site-packages/pandas/core/indexes/base.py:3812\u001b[0m, in \u001b[0;36mIndex.get_loc\u001b[0;34m(self, key)\u001b[0m\n\u001b[1;32m   3807\u001b[0m     \u001b[38;5;28;01mif\u001b[39;00m \u001b[38;5;28misinstance\u001b[39m(casted_key, \u001b[38;5;28mslice\u001b[39m) \u001b[38;5;129;01mor\u001b[39;00m (\n\u001b[1;32m   3808\u001b[0m         \u001b[38;5;28misinstance\u001b[39m(casted_key, abc\u001b[38;5;241m.\u001b[39mIterable)\n\u001b[1;32m   3809\u001b[0m         \u001b[38;5;129;01mand\u001b[39;00m \u001b[38;5;28many\u001b[39m(\u001b[38;5;28misinstance\u001b[39m(x, \u001b[38;5;28mslice\u001b[39m) \u001b[38;5;28;01mfor\u001b[39;00m x \u001b[38;5;129;01min\u001b[39;00m casted_key)\n\u001b[1;32m   3810\u001b[0m     ):\n\u001b[1;32m   3811\u001b[0m         \u001b[38;5;28;01mraise\u001b[39;00m InvalidIndexError(key)\n\u001b[0;32m-> 3812\u001b[0m     \u001b[38;5;28;01mraise\u001b[39;00m \u001b[38;5;167;01mKeyError\u001b[39;00m(key) \u001b[38;5;28;01mfrom\u001b[39;00m \u001b[38;5;21;01merr\u001b[39;00m\n\u001b[1;32m   3813\u001b[0m \u001b[38;5;28;01mexcept\u001b[39;00m \u001b[38;5;167;01mTypeError\u001b[39;00m:\n\u001b[1;32m   3814\u001b[0m     \u001b[38;5;66;03m# If we have a listlike key, _check_indexing_error will raise\u001b[39;00m\n\u001b[1;32m   3815\u001b[0m     \u001b[38;5;66;03m#  InvalidIndexError. Otherwise we fall through and re-raise\u001b[39;00m\n\u001b[1;32m   3816\u001b[0m     \u001b[38;5;66;03m#  the TypeError.\u001b[39;00m\n\u001b[1;32m   3817\u001b[0m     \u001b[38;5;28mself\u001b[39m\u001b[38;5;241m.\u001b[39m_check_indexing_error(key)\n",
      "\u001b[0;31mKeyError\u001b[0m: 'predicted_class'"
     ]
    }
   ],
   "source": [
    "general[general['predicted_class']==1].describe()"
   ]
  },
  {
   "cell_type": "code",
   "execution_count": null,
   "id": "69bc96c5-0bca-4b0f-bfd5-fc8668c7ad6a",
   "metadata": {},
   "outputs": [],
   "source": [
    "general['label'].value_counts()"
   ]
  },
  {
   "cell_type": "code",
   "execution_count": null,
   "id": "89a33bfd-0cfc-485a-ba39-6a00cd050b8c",
   "metadata": {},
   "outputs": [],
   "source": [
    "general"
   ]
  },
  {
   "cell_type": "code",
   "execution_count": 50,
   "id": "5f4f2001-f9c8-4175-8630-984daded943e",
   "metadata": {},
   "outputs": [],
   "source": [
    "#plot_classification_results(df, score_col='Pred', true_class_col='label', threshold=0.55)"
   ]
  },
  {
   "cell_type": "code",
   "execution_count": 54,
   "id": "116dc933-09b6-4add-bf91-ac5b2ba172be",
   "metadata": {},
   "outputs": [],
   "source": [
    "import matplotlib.pyplot as plt\n",
    "import numpy as np\n",
    "import pandas as pd\n",
    "\n",
    "def find_optimal_threshold(df, score_col, true_class_col, nome_arquivo):\n",
    "    \"\"\"\n",
    "    Função para encontrar o threshold ótimo que maximiza o TPR e minimiza o FPR,\n",
    "    com uma visualização gráfica do processo.\n",
    "    \n",
    "    Parâmetros:\n",
    "    - df: DataFrame contendo as predições e as classes verdadeiras.\n",
    "    - score_col: Nome da coluna que contém as predições (escores) da IA.\n",
    "    - true_class_col: Nome da coluna que contém as classes verdadeiras (0 para negativo, 1 para positivo).\n",
    "    \n",
    "    Retorno:\n",
    "    - Threshold ótimo, juntamente com o TPR e FPR associados.\n",
    "    \"\"\"\n",
    "    # Valores possíveis de threshold entre 0 e 1\n",
    "    thresholds = np.linspace(0, 1, 100)\n",
    "\n",
    "    # Inicializar listas para armazenar TPR, FPR e J-statistic para cada threshold\n",
    "    tpr_list = []\n",
    "    fpr_list = []\n",
    "    j_stat_list = []\n",
    "\n",
    "    # Inicializar variáveis para armazenar o melhor threshold e seus TPR/FPR\n",
    "    best_threshold = 0\n",
    "    best_tpr = 0\n",
    "    best_fpr = 1\n",
    "    best_j_stat = -1  # Estatística J de Youden (TPR - FPR)\n",
    "\n",
    "    for threshold in thresholds:\n",
    "        # Prever classes com o threshold atual\n",
    "        df['predicted_class'] = np.where(df[score_col] >= threshold, 1, 0)\n",
    "\n",
    "        # Contar TP, TN, FP, FN\n",
    "        TP = len(df[(df['predicted_class'] == 1) & (df[true_class_col] == 1)])\n",
    "        TN = len(df[(df['predicted_class'] == 0) & (df[true_class_col] == 0)])\n",
    "        FP = len(df[(df['predicted_class'] == 1) & (df[true_class_col] == 0)])\n",
    "        FN = len(df[(df['predicted_class'] == 0) & (df[true_class_col] == 1)])\n",
    "\n",
    "        # Calcular TPR e FPR\n",
    "        TPR = TP / (TP + FN) if (TP + FN) > 0 else 0\n",
    "        FPR = FP / (FP + TN) if (FP + TN) > 0 else 0\n",
    "\n",
    "        # Estatística J de Youden\n",
    "        j_stat = TPR - FPR\n",
    "\n",
    "        # Adicionar TPR, FPR e J-statistic nas listas\n",
    "        tpr_list.append(TPR)\n",
    "        fpr_list.append(FPR)\n",
    "        j_stat_list.append(j_stat)\n",
    "\n",
    "        # Verificar se este threshold é o melhor até agora (maior J)\n",
    "        if j_stat > best_j_stat:\n",
    "            best_j_stat = j_stat\n",
    "            best_threshold = threshold\n",
    "            best_tpr = TPR\n",
    "            best_fpr = FPR\n",
    "\n",
    "    # Gráfico dos resultados\n",
    "    plt.figure(figsize=(8, 6))\n",
    "    \n",
    "    # Plotar TPR e FPR como função do threshold\n",
    "    plt.plot(thresholds, tpr_list, label='TPR (Taxa de Verdadeiros Positivos)', color='steelblue')\n",
    "    plt.plot(thresholds, fpr_list, label='FPR (Taxa de Falsos Positivos)', color='#7D2D1F')\n",
    "    \n",
    "    # Plotar a estatística J de Youden\n",
    "    plt.plot(thresholds, j_stat_list, label='J de Youden (TPR - FPR)', color='green', linestyle='--')\n",
    "    \n",
    "    # Marcar o threshold ótimo\n",
    "    plt.axvline(x=best_threshold, color='black', linestyle=':', label=f'Threshold (J de Youden) = {best_threshold:.2f}')\n",
    "    plt.axvline(x=0.55, color='grey', linestyle='-.', label=f'Threshold Escolhido = {0.55:.2f}')\n",
    "\n",
    "    # Remover eixos superior e direito\n",
    "    plt.gca().spines['top'].set_visible(False)\n",
    "    plt.gca().spines['right'].set_visible(False)\n",
    "    \n",
    "    plt.xlabel('Threshold')\n",
    "    plt.ylabel('Taxa')\n",
    "    plt.legend(loc='best', frameon=False)\n",
    "    \n",
    "    plt.savefig(nome_arquivo, bbox_inches='tight', dpi=300, transparent=True)\n",
    "    # Exibir o gráfico sem grid\n",
    "    plt.show()\n",
    "    return best_threshold, best_tpr, best_fpr"
   ]
  },
  {
   "cell_type": "code",
   "execution_count": 56,
   "id": "402c6b6c-7b8c-45da-aa9a-db7c7519f453",
   "metadata": {},
   "outputs": [
    {
     "data": {
      "image/png": "[encoded data removed]",
      "text/plain": [
       "<Figure size 800x600 with 1 Axes>"
      ]
     },
     "metadata": {},
     "output_type": "display_data"
    }
   ],
   "source": [
    "threshold, tpr, fpr = find_optimal_threshold(df, score_col='Pred', true_class_col='label', nome_arquivo ='New_pr_TPR_2.png')"
   ]
  },
  {
   "cell_type": "markdown",
   "id": "c3683a09-31b6-4a7c-81f4-58bfd2123423",
   "metadata": {},
   "source": [
    "#### Dist plots "
   ]
  },
  {
   "cell_type": "code",
   "execution_count": 16,
   "id": "daa0fb31-9d58-4cf7-9cf2-b5032c077ecf",
   "metadata": {},
   "outputs": [],
   "source": [
    "palette = ['#7D2D1F', 'steelblue']"
   ]
  },
  {
   "cell_type": "code",
   "execution_count": 17,
   "id": "0f655d5b-a700-4d74-af6c-e226ecdacef6",
   "metadata": {},
   "outputs": [
    {
     "data": {
      "image/png": "[encoded data removed]",
      "text/plain": [
       "<Figure size 400x500 with 1 Axes>"
      ]
     },
     "metadata": {},
     "output_type": "display_data"
    }
   ],
   "source": [
    "import seaborn as sns\n",
    "import matplotlib.pyplot as plt\n",
    "\n",
    "def criar_boxplot(df, nome_arquivo='boxplot_transparente.png'):\n",
    "    \"\"\"\n",
    "    Cria e salva um boxplot com as seguintes características:\n",
    "    - Customização das cores e largura dos boxplots\n",
    "    - Ajuste do tamanho da figura\n",
    "    - Remoção de elementos estéticos (eixos, título, labels)\n",
    "    - Salva o gráfico como um arquivo PNG com fundo transparente\n",
    "    \n",
    "    Parâmetros:\n",
    "    df (DataFrame): O DataFrame contendo os dados para o boxplot. \n",
    "    nome_arquivo (str): O nome do arquivo para salvar o gráfico (opcional).\n",
    "    \"\"\"\n",
    "    # Definir o tamanho da figura\n",
    "    plt.figure(figsize=(4, 5))  # Ajuste a largura e altura conforme necessário\n",
    "    \n",
    "    # Criar o boxplot com ajuste no parâmetro width e customização de dodge\n",
    "    ax = sns.boxplot(data=df, x='label', y='Pred', hue='label', dodge=False, \n",
    "                     palette=palette, width=0.7)\n",
    "\n",
    "    \n",
    "    # Remover os eixos superiores, direito e inferior\n",
    "    ax.spines['top'].set_visible(False)\n",
    "    ax.spines['right'].set_visible(False)\n",
    "    ax.spines['bottom'].set_visible(False)\n",
    "    \n",
    "    # Remover os ticks e labels do eixo inferior\n",
    "    ax.xaxis.set_ticks([])\n",
    "    ax.set_xticklabels([])\n",
    "\n",
    "    # Remover o título do gráfico\n",
    "    ax.set_title('')\n",
    "    \n",
    "    # Remover o label do eixo x\n",
    "    ax.set_xlabel('')\n",
    "    \n",
    "    # Remover o label do eixo y\n",
    "    ax.set_ylabel('Prediction')\n",
    "    \n",
    "    # Remover o fundo da legenda e personalizar os rótulos\n",
    "    handles, _ = ax.get_legend_handles_labels()\n",
    "    ax.legend(handles, ['Incorrect', 'Correct'], frameon=False)\n",
    "    \n",
    "    # Salvar o gráfico como um arquivo PNG com fundo transparente\n",
    "    plt.savefig(nome_arquivo, bbox_inches='tight', dpi=300, transparent=True)\n",
    "\n",
    "\n",
    "# Exemplo de uso:\n",
    "criar_boxplot(df, nome_arquivo = f'simple_box_plot_{model_name}.png')\n"
   ]
  },
  {
   "cell_type": "code",
   "execution_count": 18,
   "id": "1563d2e1-3e14-46bd-8472-2ae36f046660",
   "metadata": {},
   "outputs": [
    {
     "data": {
      "image/png": "[encoded data removed]",
      "text/plain": [
       "<Figure size 400x500 with 1 Axes>"
      ]
     },
     "metadata": {},
     "output_type": "display_data"
    }
   ],
   "source": [
    "criar_boxplot(df[df['pose'] != \"1\"], nome_arquivo = f'box_plot_poses_diferente_de_1_{model_name}.png' )"
   ]
  },
  {
   "cell_type": "code",
   "execution_count": 19,
   "id": "07d51df3-0b4a-4c2e-b06f-8754d4b137e2",
   "metadata": {
    "scrolled": true
   },
   "outputs": [
    {
     "data": {
      "image/png": "[encoded data removed]",
      "text/plain": [
       "<Figure size 400x500 with 1 Axes>"
      ]
     },
     "metadata": {},
     "output_type": "display_data"
    }
   ],
   "source": [
    "criar_boxplot(df[df['pose'] == \"1\"], nome_arquivo = f'box_plot_poses_1_{model_name}.png' )"
   ]
  },
  {
   "cell_type": "code",
   "execution_count": 20,
   "id": "158d064d-eb90-40c7-b622-6d8dcbd1d658",
   "metadata": {},
   "outputs": [],
   "source": [
    "import seaborn as sns\n",
    "import matplotlib.pyplot as plt\n",
    "\n",
    "def criar_kdeplot(df, nome_arquivo='kdeplot_transparente.png', palette=None):\n",
    "    \"\"\"\n",
    "    Cria e salva um gráfico KDE com as seguintes características:\n",
    "    - Customização das cores e preenchimento\n",
    "    - Ajuste do tamanho da figura\n",
    "    - Remoção de elementos estéticos (eixos, título, labels)\n",
    "    - Salva o gráfico como um arquivo PNG com fundo transparente\n",
    "    \n",
    "    Parâmetros:\n",
    "    df (DataFrame): O DataFrame contendo os dados para o KDE plot.\n",
    "    nome_arquivo (str): O nome do arquivo para salvar o gráfico (opcional).\n",
    "    palette (dict): Dicionário de paletas de cores para os diferentes hues (opcional).\n",
    "    \"\"\"\n",
    "    # Definir o tamanho da figura\n",
    "    plt.figure(figsize=(8, 6))  # Ajuste a largura e altura conforme necessário\n",
    "    \n",
    "    # Criar o gráfico KDE\n",
    "    ax = sns.kdeplot(data=df, x='Pred', hue='label', fill=True, palette=palette)\n",
    "    \n",
    "    # Remover os eixos superiores, direito e inferior\n",
    "    ax.spines['top'].set_visible(False)\n",
    "    ax.spines['right'].set_visible(False)\n",
    "    \n",
    "    # Remover o título da legenda e a borda da legenda\n",
    "    legend = ax.get_legend()\n",
    "    if legend:\n",
    "        legend.set_title(None)\n",
    "        legend.get_frame().set_visible(False)\n",
    "    \n",
    "    # Remover o título do gráfico\n",
    "    ax.set_title('')\n",
    "    \n",
    "    # Remover o label do eixo x e y\n",
    "    ax.set_xlabel('Prediction')\n",
    "    ax.set_ylabel('Density')\n",
    "    \n",
    "    # Salvar o gráfico como um arquivo PNG com fundo transparente\n",
    "    plt.savefig(nome_arquivo, bbox_inches='tight', dpi=300, transparent=True)\n"
   ]
  },
  {
   "cell_type": "code",
   "execution_count": 21,
   "id": "e12c0aaa-2e2a-4e1e-98a8-805ac06ed9b3",
   "metadata": {},
   "outputs": [
    {
     "data": {
      "text/plain": [
       "['#7D2D1F', 'steelblue']"
      ]
     },
     "execution_count": 21,
     "metadata": {},
     "output_type": "execute_result"
    }
   ],
   "source": [
    "palette"
   ]
  },
  {
   "cell_type": "code",
   "execution_count": 22,
   "id": "d1264adb-ef70-421f-bbcf-4eff67448919",
   "metadata": {},
   "outputs": [],
   "source": [
    "cores = {\"Incorrect\": '#7D2D1F', \"Correct\": 'steelblue'}"
   ]
  },
  {
   "cell_type": "code",
   "execution_count": 23,
   "id": "da3cc3d5-3dc5-4f08-bed9-ff911ff93e9c",
   "metadata": {},
   "outputs": [],
   "source": [
    "df = df.replace( {0:\"Incorrect\", 1:'Correct'})"
   ]
  },
  {
   "cell_type": "code",
   "execution_count": 24,
   "id": "cf7ddecd-88ab-4975-ad1f-1d80aa702e6a",
   "metadata": {},
   "outputs": [
    {
     "data": {
      "image/png": "[encoded data removed]",
      "text/plain": [
       "<Figure size 800x600 with 1 Axes>"
      ]
     },
     "metadata": {},
     "output_type": "display_data"
    }
   ],
   "source": [
    "criar_kdeplot(df[df['pose'] != \"1\"], nome_arquivo=f'plot_pose_diferente_1_{model_name}.png', palette=cores)"
   ]
  },
  {
   "cell_type": "code",
   "execution_count": 25,
   "id": "a070c240-7ee2-4ade-b22e-943d24953240",
   "metadata": {},
   "outputs": [
    {
     "data": {
      "image/png": "[encoded data removed]",
      "text/plain": [
       "<Figure size 800x600 with 1 Axes>"
      ]
     },
     "metadata": {},
     "output_type": "display_data"
    }
   ],
   "source": [
    "criar_kdeplot(df, nome_arquivo=f'plot_simple_{model_name}.png', palette=cores)"
   ]
  },
  {
   "cell_type": "code",
   "execution_count": 26,
   "id": "edcde1e0-4828-496c-b2d7-ff128608ad2d",
   "metadata": {},
   "outputs": [
    {
     "data": {
      "image/png": "[encoded data removed]",
      "text/plain": [
       "<Figure size 800x600 with 1 Axes>"
      ]
     },
     "metadata": {},
     "output_type": "display_data"
    }
   ],
   "source": [
    "criar_kdeplot(df[df['pose'] == \"1\"], nome_arquivo=f'plot_pose_1_{model_name}.png', palette=cores)"
   ]
  },
  {
   "cell_type": "markdown",
   "id": "f5da9d88-fece-482c-98cd-78344cbecff0",
   "metadata": {},
   "source": [
    "#### Top ranked"
   ]
  },
  {
   "cell_type": "code",
   "execution_count": 27,
   "id": "e7de2a9d-100a-448d-9d43-c8e65402935e",
   "metadata": {},
   "outputs": [
    {
     "ename": "ValueError",
     "evalue": "invalid literal for int() with base 10: 'Incorrect'",
     "output_type": "error",
     "traceback": [
      "\u001b[0;31m---------------------------------------------------------------------------\u001b[0m",
      "\u001b[0;31mValueError\u001b[0m                                Traceback (most recent call last)",
      "Cell \u001b[0;32mIn[27], line 2\u001b[0m\n\u001b[1;32m      1\u001b[0m df \u001b[38;5;241m=\u001b[39m df\u001b[38;5;241m.\u001b[39msort_values([\u001b[38;5;124m'\u001b[39m\u001b[38;5;124mpdb\u001b[39m\u001b[38;5;124m'\u001b[39m,\u001b[38;5;124m'\u001b[39m\u001b[38;5;124mPred\u001b[39m\u001b[38;5;124m'\u001b[39m], ascending \u001b[38;5;241m=\u001b[39m \u001b[38;5;28;01mFalse\u001b[39;00m)\n\u001b[0;32m----> 2\u001b[0m df[\u001b[38;5;124m'\u001b[39m\u001b[38;5;124mlabel\u001b[39m\u001b[38;5;124m'\u001b[39m] \u001b[38;5;241m=\u001b[39m df[\u001b[38;5;124m'\u001b[39m\u001b[38;5;124mlabel\u001b[39m\u001b[38;5;124m'\u001b[39m]\u001b[38;5;241m.\u001b[39mastype(\u001b[38;5;28mint\u001b[39m)\n",
      "File \u001b[0;32m~/anaconda3/lib/python3.12/site-packages/pandas/core/generic.py:6643\u001b[0m, in \u001b[0;36mNDFrame.astype\u001b[0;34m(self, dtype, copy, errors)\u001b[0m\n\u001b[1;32m   6637\u001b[0m     results \u001b[38;5;241m=\u001b[39m [\n\u001b[1;32m   6638\u001b[0m         ser\u001b[38;5;241m.\u001b[39mastype(dtype, copy\u001b[38;5;241m=\u001b[39mcopy, errors\u001b[38;5;241m=\u001b[39merrors) \u001b[38;5;28;01mfor\u001b[39;00m _, ser \u001b[38;5;129;01min\u001b[39;00m \u001b[38;5;28mself\u001b[39m\u001b[38;5;241m.\u001b[39mitems()\n\u001b[1;32m   6639\u001b[0m     ]\n\u001b[1;32m   6641\u001b[0m \u001b[38;5;28;01melse\u001b[39;00m:\n\u001b[1;32m   6642\u001b[0m     \u001b[38;5;66;03m# else, only a single dtype is given\u001b[39;00m\n\u001b[0;32m-> 6643\u001b[0m     new_data \u001b[38;5;241m=\u001b[39m \u001b[38;5;28mself\u001b[39m\u001b[38;5;241m.\u001b[39m_mgr\u001b[38;5;241m.\u001b[39mastype(dtype\u001b[38;5;241m=\u001b[39mdtype, copy\u001b[38;5;241m=\u001b[39mcopy, errors\u001b[38;5;241m=\u001b[39merrors)\n\u001b[1;32m   6644\u001b[0m     res \u001b[38;5;241m=\u001b[39m \u001b[38;5;28mself\u001b[39m\u001b[38;5;241m.\u001b[39m_constructor_from_mgr(new_data, axes\u001b[38;5;241m=\u001b[39mnew_data\u001b[38;5;241m.\u001b[39maxes)\n\u001b[1;32m   6645\u001b[0m     \u001b[38;5;28;01mreturn\u001b[39;00m res\u001b[38;5;241m.\u001b[39m__finalize__(\u001b[38;5;28mself\u001b[39m, method\u001b[38;5;241m=\u001b[39m\u001b[38;5;124m\"\u001b[39m\u001b[38;5;124mastype\u001b[39m\u001b[38;5;124m\"\u001b[39m)\n",
      "File \u001b[0;32m~/anaconda3/lib/python3.12/site-packages/pandas/core/internals/managers.py:430\u001b[0m, in \u001b[0;36mBaseBlockManager.astype\u001b[0;34m(self, dtype, copy, errors)\u001b[0m\n\u001b[1;32m    427\u001b[0m \u001b[38;5;28;01melif\u001b[39;00m using_copy_on_write():\n\u001b[1;32m    428\u001b[0m     copy \u001b[38;5;241m=\u001b[39m \u001b[38;5;28;01mFalse\u001b[39;00m\n\u001b[0;32m--> 430\u001b[0m \u001b[38;5;28;01mreturn\u001b[39;00m \u001b[38;5;28mself\u001b[39m\u001b[38;5;241m.\u001b[39mapply(\n\u001b[1;32m    431\u001b[0m     \u001b[38;5;124m\"\u001b[39m\u001b[38;5;124mastype\u001b[39m\u001b[38;5;124m\"\u001b[39m,\n\u001b[1;32m    432\u001b[0m     dtype\u001b[38;5;241m=\u001b[39mdtype,\n\u001b[1;32m    433\u001b[0m     copy\u001b[38;5;241m=\u001b[39mcopy,\n\u001b[1;32m    434\u001b[0m     errors\u001b[38;5;241m=\u001b[39merrors,\n\u001b[1;32m    435\u001b[0m     using_cow\u001b[38;5;241m=\u001b[39musing_copy_on_write(),\n\u001b[1;32m    436\u001b[0m )\n",
      "File \u001b[0;32m~/anaconda3/lib/python3.12/site-packages/pandas/core/internals/managers.py:363\u001b[0m, in \u001b[0;36mBaseBlockManager.apply\u001b[0;34m(self, f, align_keys, **kwargs)\u001b[0m\n\u001b[1;32m    361\u001b[0m         applied \u001b[38;5;241m=\u001b[39m b\u001b[38;5;241m.\u001b[39mapply(f, \u001b[38;5;241m*\u001b[39m\u001b[38;5;241m*\u001b[39mkwargs)\n\u001b[1;32m    362\u001b[0m     \u001b[38;5;28;01melse\u001b[39;00m:\n\u001b[0;32m--> 363\u001b[0m         applied \u001b[38;5;241m=\u001b[39m \u001b[38;5;28mgetattr\u001b[39m(b, f)(\u001b[38;5;241m*\u001b[39m\u001b[38;5;241m*\u001b[39mkwargs)\n\u001b[1;32m    364\u001b[0m     result_blocks \u001b[38;5;241m=\u001b[39m extend_blocks(applied, result_blocks)\n\u001b[1;32m    366\u001b[0m out \u001b[38;5;241m=\u001b[39m \u001b[38;5;28mtype\u001b[39m(\u001b[38;5;28mself\u001b[39m)\u001b[38;5;241m.\u001b[39mfrom_blocks(result_blocks, \u001b[38;5;28mself\u001b[39m\u001b[38;5;241m.\u001b[39maxes)\n",
      "File \u001b[0;32m~/anaconda3/lib/python3.12/site-packages/pandas/core/internals/blocks.py:758\u001b[0m, in \u001b[0;36mBlock.astype\u001b[0;34m(self, dtype, copy, errors, using_cow, squeeze)\u001b[0m\n\u001b[1;32m    755\u001b[0m         \u001b[38;5;28;01mraise\u001b[39;00m \u001b[38;5;167;01mValueError\u001b[39;00m(\u001b[38;5;124m\"\u001b[39m\u001b[38;5;124mCan not squeeze with more than one column.\u001b[39m\u001b[38;5;124m\"\u001b[39m)\n\u001b[1;32m    756\u001b[0m     values \u001b[38;5;241m=\u001b[39m values[\u001b[38;5;241m0\u001b[39m, :]  \u001b[38;5;66;03m# type: ignore[call-overload]\u001b[39;00m\n\u001b[0;32m--> 758\u001b[0m new_values \u001b[38;5;241m=\u001b[39m astype_array_safe(values, dtype, copy\u001b[38;5;241m=\u001b[39mcopy, errors\u001b[38;5;241m=\u001b[39merrors)\n\u001b[1;32m    760\u001b[0m new_values \u001b[38;5;241m=\u001b[39m maybe_coerce_values(new_values)\n\u001b[1;32m    762\u001b[0m refs \u001b[38;5;241m=\u001b[39m \u001b[38;5;28;01mNone\u001b[39;00m\n",
      "File \u001b[0;32m~/anaconda3/lib/python3.12/site-packages/pandas/core/dtypes/astype.py:237\u001b[0m, in \u001b[0;36mastype_array_safe\u001b[0;34m(values, dtype, copy, errors)\u001b[0m\n\u001b[1;32m    234\u001b[0m     dtype \u001b[38;5;241m=\u001b[39m dtype\u001b[38;5;241m.\u001b[39mnumpy_dtype\n\u001b[1;32m    236\u001b[0m \u001b[38;5;28;01mtry\u001b[39;00m:\n\u001b[0;32m--> 237\u001b[0m     new_values \u001b[38;5;241m=\u001b[39m astype_array(values, dtype, copy\u001b[38;5;241m=\u001b[39mcopy)\n\u001b[1;32m    238\u001b[0m \u001b[38;5;28;01mexcept\u001b[39;00m (\u001b[38;5;167;01mValueError\u001b[39;00m, \u001b[38;5;167;01mTypeError\u001b[39;00m):\n\u001b[1;32m    239\u001b[0m     \u001b[38;5;66;03m# e.g. _astype_nansafe can fail on object-dtype of strings\u001b[39;00m\n\u001b[1;32m    240\u001b[0m     \u001b[38;5;66;03m#  trying to convert to float\u001b[39;00m\n\u001b[1;32m    241\u001b[0m     \u001b[38;5;28;01mif\u001b[39;00m errors \u001b[38;5;241m==\u001b[39m \u001b[38;5;124m\"\u001b[39m\u001b[38;5;124mignore\u001b[39m\u001b[38;5;124m\"\u001b[39m:\n",
      "File \u001b[0;32m~/anaconda3/lib/python3.12/site-packages/pandas/core/dtypes/astype.py:182\u001b[0m, in \u001b[0;36mastype_array\u001b[0;34m(values, dtype, copy)\u001b[0m\n\u001b[1;32m    179\u001b[0m     values \u001b[38;5;241m=\u001b[39m values\u001b[38;5;241m.\u001b[39mastype(dtype, copy\u001b[38;5;241m=\u001b[39mcopy)\n\u001b[1;32m    181\u001b[0m \u001b[38;5;28;01melse\u001b[39;00m:\n\u001b[0;32m--> 182\u001b[0m     values \u001b[38;5;241m=\u001b[39m _astype_nansafe(values, dtype, copy\u001b[38;5;241m=\u001b[39mcopy)\n\u001b[1;32m    184\u001b[0m \u001b[38;5;66;03m# in pandas we don't store numpy str dtypes, so convert to object\u001b[39;00m\n\u001b[1;32m    185\u001b[0m \u001b[38;5;28;01mif\u001b[39;00m \u001b[38;5;28misinstance\u001b[39m(dtype, np\u001b[38;5;241m.\u001b[39mdtype) \u001b[38;5;129;01mand\u001b[39;00m \u001b[38;5;28missubclass\u001b[39m(values\u001b[38;5;241m.\u001b[39mdtype\u001b[38;5;241m.\u001b[39mtype, \u001b[38;5;28mstr\u001b[39m):\n",
      "File \u001b[0;32m~/anaconda3/lib/python3.12/site-packages/pandas/core/dtypes/astype.py:133\u001b[0m, in \u001b[0;36m_astype_nansafe\u001b[0;34m(arr, dtype, copy, skipna)\u001b[0m\n\u001b[1;32m    129\u001b[0m     \u001b[38;5;28;01mraise\u001b[39;00m \u001b[38;5;167;01mValueError\u001b[39;00m(msg)\n\u001b[1;32m    131\u001b[0m \u001b[38;5;28;01mif\u001b[39;00m copy \u001b[38;5;129;01mor\u001b[39;00m arr\u001b[38;5;241m.\u001b[39mdtype \u001b[38;5;241m==\u001b[39m \u001b[38;5;28mobject\u001b[39m \u001b[38;5;129;01mor\u001b[39;00m dtype \u001b[38;5;241m==\u001b[39m \u001b[38;5;28mobject\u001b[39m:\n\u001b[1;32m    132\u001b[0m     \u001b[38;5;66;03m# Explicit copy, or required since NumPy can't view from / to object.\u001b[39;00m\n\u001b[0;32m--> 133\u001b[0m     \u001b[38;5;28;01mreturn\u001b[39;00m arr\u001b[38;5;241m.\u001b[39mastype(dtype, copy\u001b[38;5;241m=\u001b[39m\u001b[38;5;28;01mTrue\u001b[39;00m)\n\u001b[1;32m    135\u001b[0m \u001b[38;5;28;01mreturn\u001b[39;00m arr\u001b[38;5;241m.\u001b[39mastype(dtype, copy\u001b[38;5;241m=\u001b[39mcopy)\n",
      "\u001b[0;31mValueError\u001b[0m: invalid literal for int() with base 10: 'Incorrect'"
     ]
    }
   ],
   "source": [
    "df = df.sort_values(['pdb','Pred'], ascending = False)\n",
    "df['label'] = df['label'].astype(int)"
   ]
  },
  {
   "cell_type": "code",
   "execution_count": null,
   "id": "56e9df4c-a52a-4986-a17a-ded5d5477d5a",
   "metadata": {},
   "outputs": [],
   "source": [
    "top_ranked = df.loc[df.groupby('pdb')['Pred'].idxmax()]"
   ]
  },
  {
   "cell_type": "markdown",
   "id": "5b18763d-200e-4888-97f4-86ff0c753c1b",
   "metadata": {},
   "source": [
    "#### My ranking ( RMSD and Scoring): Top sorted by model pred"
   ]
  },
  {
   "cell_type": "code",
   "execution_count": null,
   "id": "1ed84569-c670-4c8e-937b-fee1ae96c674",
   "metadata": {},
   "outputs": [],
   "source": [
    "label_counts = df.groupby('pdb')['label'].sum().sort_values(ascending = False).reset_index()"
   ]
  },
  {
   "cell_type": "code",
   "execution_count": null,
   "id": "96151840-ac89-4d96-9b75-2bbde103f24b",
   "metadata": {},
   "outputs": [],
   "source": [
    "pdbs_with_pose_1 = list(df[df['pose'] == '1']['pdb'])\n",
    "#pdbs_teste_set_with_atleast_one_correct_post = list(label_counts[label_counts['label'] > 0 ]['pdb'])"
   ]
  },
  {
   "cell_type": "code",
   "execution_count": null,
   "id": "37cb03a5-ad67-4378-b600-c560ff0711f5",
   "metadata": {},
   "outputs": [],
   "source": [
    "#conjunto =  set(pdbs_teste_set_with_atleast_one_correct_post) and set(pdbs_with_pose_1)\n",
    "conjunto =  set(pdbs_with_pose_1)"
   ]
  },
  {
   "cell_type": "code",
   "execution_count": null,
   "id": "beb830ed-7a42-4efe-b95c-64beff499d70",
   "metadata": {},
   "outputs": [],
   "source": [
    "top_ranked.shape"
   ]
  },
  {
   "cell_type": "code",
   "execution_count": null,
   "id": "d60575f2-3ee8-47e7-84a8-1033aca8ede5",
   "metadata": {},
   "outputs": [],
   "source": [
    "#top_ranked = top_ranked[top_ranked['pdb'].isin(conjunto)]\n",
    "top_ranked[top_ranked['label'] == 1].shape[0] / top_ranked.shape[0]"
   ]
  },
  {
   "cell_type": "code",
   "execution_count": null,
   "id": "000f2b8f-4716-4830-9821-eb1a91a5b701",
   "metadata": {},
   "outputs": [],
   "source": [
    "df['pdb'].nunique()"
   ]
  },
  {
   "cell_type": "code",
   "execution_count": null,
   "id": "1275a738-def9-456d-a61a-c1d1e2d6667c",
   "metadata": {},
   "outputs": [],
   "source": [
    "top_ranked.shape[0]"
   ]
  },
  {
   "cell_type": "markdown",
   "id": "adbb0b52-c741-4dc2-8a45-73b5cf172909",
   "metadata": {},
   "source": [
    "#### Vina Fraction of top-ranked"
   ]
  },
  {
   "cell_type": "code",
   "execution_count": null,
   "id": "20f5b26d-a56d-47c3-b882-19506a108048",
   "metadata": {},
   "outputs": [],
   "source": [
    "#df = df[df['pdb'].isin(conjunto)]"
   ]
  },
  {
   "cell_type": "code",
   "execution_count": null,
   "id": "ea121cd9-6513-48fb-bb1a-afbfc060abcf",
   "metadata": {},
   "outputs": [],
   "source": [
    "df[(df['pose']==\"1\") & (df['label']==1)].shape[0] /df['pdb'].nunique()"
   ]
  },
  {
   "cell_type": "markdown",
   "id": "68e3d1d7-cda0-4086-9805-74fec003560c",
   "metadata": {},
   "source": [
    "#### Prediction distribuition "
   ]
  },
  {
   "cell_type": "code",
   "execution_count": null,
   "id": "eb7e5de7-0cfc-450b-863f-f8eb077e949a",
   "metadata": {},
   "outputs": [],
   "source": [
    "df['binary_pred'] = df['Pred'].apply(lambda val: 0 if val <= 0.5 else 1)"
   ]
  },
  {
   "cell_type": "code",
   "execution_count": 206,
   "id": "1492556e-b58e-487c-94fc-8920262b7f45",
   "metadata": {},
   "outputs": [
    {
     "ename": "KeyError",
     "evalue": "'binary_pred'",
     "output_type": "error",
     "traceback": [
      "\u001b[0;31m---------------------------------------------------------------------------\u001b[0m",
      "\u001b[0;31mKeyError\u001b[0m                                  Traceback (most recent call last)",
      "File \u001b[0;32m~/anaconda3/lib/python3.12/site-packages/pandas/core/indexes/base.py:3805\u001b[0m, in \u001b[0;36mIndex.get_loc\u001b[0;34m(self, key)\u001b[0m\n\u001b[1;32m   3804\u001b[0m \u001b[38;5;28;01mtry\u001b[39;00m:\n\u001b[0;32m-> 3805\u001b[0m     \u001b[38;5;28;01mreturn\u001b[39;00m \u001b[38;5;28mself\u001b[39m\u001b[38;5;241m.\u001b[39m_engine\u001b[38;5;241m.\u001b[39mget_loc(casted_key)\n\u001b[1;32m   3806\u001b[0m \u001b[38;5;28;01mexcept\u001b[39;00m \u001b[38;5;167;01mKeyError\u001b[39;00m \u001b[38;5;28;01mas\u001b[39;00m err:\n",
      "File \u001b[0;32mindex.pyx:167\u001b[0m, in \u001b[0;36mpandas._libs.index.IndexEngine.get_loc\u001b[0;34m()\u001b[0m\n",
      "File \u001b[0;32mindex.pyx:196\u001b[0m, in \u001b[0;36mpandas._libs.index.IndexEngine.get_loc\u001b[0;34m()\u001b[0m\n",
      "File \u001b[0;32mpandas/_libs/hashtable_class_helper.pxi:7081\u001b[0m, in \u001b[0;36mpandas._libs.hashtable.PyObjectHashTable.get_item\u001b[0;34m()\u001b[0m\n",
      "File \u001b[0;32mpandas/_libs/hashtable_class_helper.pxi:7089\u001b[0m, in \u001b[0;36mpandas._libs.hashtable.PyObjectHashTable.get_item\u001b[0;34m()\u001b[0m\n",
      "\u001b[0;31mKeyError\u001b[0m: 'binary_pred'",
      "\nThe above exception was the direct cause of the following exception:\n",
      "\u001b[0;31mKeyError\u001b[0m                                  Traceback (most recent call last)",
      "Cell \u001b[0;32mIn[206], line 1\u001b[0m\n\u001b[0;32m----> 1\u001b[0m df[\u001b[38;5;124m'\u001b[39m\u001b[38;5;124mbinary_pred\u001b[39m\u001b[38;5;124m'\u001b[39m]\u001b[38;5;241m.\u001b[39mvalue_counts()\n",
      "File \u001b[0;32m~/anaconda3/lib/python3.12/site-packages/pandas/core/frame.py:4102\u001b[0m, in \u001b[0;36mDataFrame.__getitem__\u001b[0;34m(self, key)\u001b[0m\n\u001b[1;32m   4100\u001b[0m \u001b[38;5;28;01mif\u001b[39;00m \u001b[38;5;28mself\u001b[39m\u001b[38;5;241m.\u001b[39mcolumns\u001b[38;5;241m.\u001b[39mnlevels \u001b[38;5;241m>\u001b[39m \u001b[38;5;241m1\u001b[39m:\n\u001b[1;32m   4101\u001b[0m     \u001b[38;5;28;01mreturn\u001b[39;00m \u001b[38;5;28mself\u001b[39m\u001b[38;5;241m.\u001b[39m_getitem_multilevel(key)\n\u001b[0;32m-> 4102\u001b[0m indexer \u001b[38;5;241m=\u001b[39m \u001b[38;5;28mself\u001b[39m\u001b[38;5;241m.\u001b[39mcolumns\u001b[38;5;241m.\u001b[39mget_loc(key)\n\u001b[1;32m   4103\u001b[0m \u001b[38;5;28;01mif\u001b[39;00m is_integer(indexer):\n\u001b[1;32m   4104\u001b[0m     indexer \u001b[38;5;241m=\u001b[39m [indexer]\n",
      "File \u001b[0;32m~/anaconda3/lib/python3.12/site-packages/pandas/core/indexes/base.py:3812\u001b[0m, in \u001b[0;36mIndex.get_loc\u001b[0;34m(self, key)\u001b[0m\n\u001b[1;32m   3807\u001b[0m     \u001b[38;5;28;01mif\u001b[39;00m \u001b[38;5;28misinstance\u001b[39m(casted_key, \u001b[38;5;28mslice\u001b[39m) \u001b[38;5;129;01mor\u001b[39;00m (\n\u001b[1;32m   3808\u001b[0m         \u001b[38;5;28misinstance\u001b[39m(casted_key, abc\u001b[38;5;241m.\u001b[39mIterable)\n\u001b[1;32m   3809\u001b[0m         \u001b[38;5;129;01mand\u001b[39;00m \u001b[38;5;28many\u001b[39m(\u001b[38;5;28misinstance\u001b[39m(x, \u001b[38;5;28mslice\u001b[39m) \u001b[38;5;28;01mfor\u001b[39;00m x \u001b[38;5;129;01min\u001b[39;00m casted_key)\n\u001b[1;32m   3810\u001b[0m     ):\n\u001b[1;32m   3811\u001b[0m         \u001b[38;5;28;01mraise\u001b[39;00m InvalidIndexError(key)\n\u001b[0;32m-> 3812\u001b[0m     \u001b[38;5;28;01mraise\u001b[39;00m \u001b[38;5;167;01mKeyError\u001b[39;00m(key) \u001b[38;5;28;01mfrom\u001b[39;00m \u001b[38;5;21;01merr\u001b[39;00m\n\u001b[1;32m   3813\u001b[0m \u001b[38;5;28;01mexcept\u001b[39;00m \u001b[38;5;167;01mTypeError\u001b[39;00m:\n\u001b[1;32m   3814\u001b[0m     \u001b[38;5;66;03m# If we have a listlike key, _check_indexing_error will raise\u001b[39;00m\n\u001b[1;32m   3815\u001b[0m     \u001b[38;5;66;03m#  InvalidIndexError. Otherwise we fall through and re-raise\u001b[39;00m\n\u001b[1;32m   3816\u001b[0m     \u001b[38;5;66;03m#  the TypeError.\u001b[39;00m\n\u001b[1;32m   3817\u001b[0m     \u001b[38;5;28mself\u001b[39m\u001b[38;5;241m.\u001b[39m_check_indexing_error(key)\n",
      "\u001b[0;31mKeyError\u001b[0m: 'binary_pred'"
     ]
    }
   ],
   "source": [
    "df['binary_pred'].value_counts()"
   ]
  },
  {
   "cell_type": "markdown",
   "id": "94934740-0ada-4572-a309-24d6c996d6a2",
   "metadata": {},
   "source": [
    "#### Label distribuition "
   ]
  },
  {
   "cell_type": "code",
   "execution_count": null,
   "id": "7c293eaf-bd7f-41b1-aea9-a09a70b4ed34",
   "metadata": {},
   "outputs": [],
   "source": [
    "df['label'].value_counts(1)"
   ]
  },
  {
   "cell_type": "markdown",
   "id": "9afdf745-6e21-40aa-b39e-a5d4a4ea603d",
   "metadata": {},
   "source": [
    "#### Comparando resultados "
   ]
  },
  {
   "cell_type": "code",
   "execution_count": null,
   "id": "9bbb5fef-2c9d-4e30-b429-71a60175cfdc",
   "metadata": {},
   "outputs": [],
   "source": [
    "top_ranked['label'].value_counts(1)"
   ]
  },
  {
   "cell_type": "code",
   "execution_count": null,
   "id": "b15cc235-ed2d-4f9a-8a41-f2de06a6aed3",
   "metadata": {},
   "outputs": [],
   "source": [
    "top_ranked['label'].value_counts(1)"
   ]
  },
  {
   "cell_type": "markdown",
   "id": "2a1b504c-8315-494b-85e9-d025f5374d58",
   "metadata": {},
   "source": [
    "#### Vina score "
   ]
  },
  {
   "cell_type": "code",
   "execution_count": null,
   "id": "7afa7bd4-2de9-411e-a87e-720dceecb5ec",
   "metadata": {},
   "outputs": [],
   "source": [
    "vina_score = pd.read_csv('../Datahub/docking_scores_coreset.csv')"
   ]
  },
  {
   "cell_type": "code",
   "execution_count": null,
   "id": "c4fbffc9-97e9-4a7f-bf8c-1fd84df97003",
   "metadata": {},
   "outputs": [],
   "source": [
    "general['label'].value_counts()"
   ]
  },
  {
   "cell_type": "code",
   "execution_count": null,
   "id": "2f00c8fe-4dc5-45f2-9a80-5bb81716d0ab",
   "metadata": {},
   "outputs": [],
   "source": [
    "#general = general[general['pdb'].isin(conjunto)]"
   ]
  },
  {
   "cell_type": "code",
   "execution_count": null,
   "id": "01d30a58-0190-4235-ab07-a307fec3d636",
   "metadata": {},
   "outputs": [],
   "source": [
    "general[general['pose'] !='1']['label'].value_counts()"
   ]
  },
  {
   "cell_type": "code",
   "execution_count": 207,
   "id": "901e93b4-d167-4150-a2d9-6abc45c78e60",
   "metadata": {},
   "outputs": [
    {
     "data": {
      "text/plain": [
       "label\n",
       "0.0    34\n",
       "1.0    21\n",
       "Name: count, dtype: int64"
      ]
     },
     "execution_count": 207,
     "metadata": {},
     "output_type": "execute_result"
    }
   ],
   "source": [
    "general[general['pose'] =='1']['label'].value_counts()"
   ]
  },
  {
   "cell_type": "code",
   "execution_count": 208,
   "id": "0ba6abdb-fb1c-41c8-aadc-b9e56e81fe64",
   "metadata": {},
   "outputs": [],
   "source": [
    "vina_score['pose'] = vina_score['pose'].astype(str)"
   ]
  },
  {
   "cell_type": "code",
   "execution_count": 209,
   "id": "d3b26a5e-9bbd-4eaf-b2c9-9e2cb417d7ab",
   "metadata": {
    "scrolled": true
   },
   "outputs": [],
   "source": [
    "merge = pd.merge(vina_score, general, left_on = ['pdb','pose'], right_on = ['pdb','pose'], how = 'outer').dropna()"
   ]
  },
  {
   "cell_type": "code",
   "execution_count": 210,
   "id": "4e09c70a-0954-451a-8fba-47edfe6a3170",
   "metadata": {},
   "outputs": [],
   "source": [
    "merge['Pred_vina_score'] =  merge['score'] # - *merge['Pred']  "
   ]
  },
  {
   "cell_type": "markdown",
   "id": "486e2f6c-5b7c-4e80-9e31-5922ee3106d6",
   "metadata": {},
   "source": [
    "#### Best ranked "
   ]
  },
  {
   "cell_type": "code",
   "execution_count": 211,
   "id": "09da2108-595a-4680-9879-7ad09be60498",
   "metadata": {},
   "outputs": [],
   "source": [
    "df = merge.copy()"
   ]
  },
  {
   "cell_type": "code",
   "execution_count": 212,
   "id": "b29f515b-6826-4f51-9728-65e73ebd9feb",
   "metadata": {},
   "outputs": [
    {
     "data": {
      "text/html": [
       "<div>\n",
       "<style scoped>\n",
       "    .dataframe tbody tr th:only-of-type {\n",
       "        vertical-align: middle;\n",
       "    }\n",
       "\n",
       "    .dataframe tbody tr th {\n",
       "        vertical-align: top;\n",
       "    }\n",
       "\n",
       "    .dataframe thead th {\n",
       "        text-align: right;\n",
       "    }\n",
       "</style>\n",
       "<table border=\"1\" class=\"dataframe\">\n",
       "  <thead>\n",
       "    <tr style=\"text-align: right;\">\n",
       "      <th></th>\n",
       "      <th>pdb</th>\n",
       "      <th>pose</th>\n",
       "      <th>score</th>\n",
       "      <th>Pred</th>\n",
       "      <th>label</th>\n",
       "      <th>Pred_vina_score</th>\n",
       "    </tr>\n",
       "  </thead>\n",
       "  <tbody>\n",
       "    <tr>\n",
       "      <th>3</th>\n",
       "      <td>1a30</td>\n",
       "      <td>3</td>\n",
       "      <td>-7.199</td>\n",
       "      <td>0.603737</td>\n",
       "      <td>0.0</td>\n",
       "      <td>-7.199</td>\n",
       "    </tr>\n",
       "    <tr>\n",
       "      <th>8</th>\n",
       "      <td>1a30</td>\n",
       "      <td>8</td>\n",
       "      <td>-7.075</td>\n",
       "      <td>0.612946</td>\n",
       "      <td>0.0</td>\n",
       "      <td>-7.075</td>\n",
       "    </tr>\n",
       "    <tr>\n",
       "      <th>9</th>\n",
       "      <td>1a30</td>\n",
       "      <td>9</td>\n",
       "      <td>-6.999</td>\n",
       "      <td>0.603102</td>\n",
       "      <td>0.0</td>\n",
       "      <td>-6.999</td>\n",
       "    </tr>\n",
       "    <tr>\n",
       "      <th>13</th>\n",
       "      <td>1bcu</td>\n",
       "      <td>3</td>\n",
       "      <td>-7.377</td>\n",
       "      <td>0.628869</td>\n",
       "      <td>0.0</td>\n",
       "      <td>-7.377</td>\n",
       "    </tr>\n",
       "    <tr>\n",
       "      <th>24</th>\n",
       "      <td>1bzc</td>\n",
       "      <td>4</td>\n",
       "      <td>-9.405</td>\n",
       "      <td>0.671514</td>\n",
       "      <td>0.0</td>\n",
       "      <td>-9.405</td>\n",
       "    </tr>\n",
       "  </tbody>\n",
       "</table>\n",
       "</div>"
      ],
      "text/plain": [
       "     pdb pose  score      Pred  label  Pred_vina_score\n",
       "3   1a30    3 -7.199  0.603737    0.0           -7.199\n",
       "8   1a30    8 -7.075  0.612946    0.0           -7.075\n",
       "9   1a30    9 -6.999  0.603102    0.0           -6.999\n",
       "13  1bcu    3 -7.377  0.628869    0.0           -7.377\n",
       "24  1bzc    4 -9.405  0.671514    0.0           -9.405"
      ]
     },
     "execution_count": 212,
     "metadata": {},
     "output_type": "execute_result"
    }
   ],
   "source": [
    "df.head()"
   ]
  },
  {
   "cell_type": "code",
   "execution_count": 213,
   "id": "83d1333b-7b65-4a6d-b2f0-1272fd3d497e",
   "metadata": {},
   "outputs": [],
   "source": [
    "df = df.sort_values(['pdb','Pred_vina_score'], ascending = False)\n",
    "df['label'] = df['label'].astype(int)"
   ]
  },
  {
   "cell_type": "code",
   "execution_count": 214,
   "id": "61d1f76b-2938-46e5-874c-f9c788c27641",
   "metadata": {},
   "outputs": [
    {
     "data": {
      "text/html": [
       "<div>\n",
       "<style scoped>\n",
       "    .dataframe tbody tr th:only-of-type {\n",
       "        vertical-align: middle;\n",
       "    }\n",
       "\n",
       "    .dataframe tbody tr th {\n",
       "        vertical-align: top;\n",
       "    }\n",
       "\n",
       "    .dataframe thead th {\n",
       "        text-align: right;\n",
       "    }\n",
       "</style>\n",
       "<table border=\"1\" class=\"dataframe\">\n",
       "  <thead>\n",
       "    <tr style=\"text-align: right;\">\n",
       "      <th></th>\n",
       "      <th>pdb</th>\n",
       "      <th>pose</th>\n",
       "      <th>score</th>\n",
       "      <th>Pred</th>\n",
       "      <th>label</th>\n",
       "      <th>Pred_vina_score</th>\n",
       "    </tr>\n",
       "  </thead>\n",
       "  <tbody>\n",
       "    <tr>\n",
       "      <th>345</th>\n",
       "      <td>1yc1</td>\n",
       "      <td>1</td>\n",
       "      <td>-9.978</td>\n",
       "      <td>0.694951</td>\n",
       "      <td>0</td>\n",
       "      <td>-9.978</td>\n",
       "    </tr>\n",
       "    <tr>\n",
       "      <th>347</th>\n",
       "      <td>1yc1</td>\n",
       "      <td>3</td>\n",
       "      <td>-8.326</td>\n",
       "      <td>0.697222</td>\n",
       "      <td>0</td>\n",
       "      <td>-8.326</td>\n",
       "    </tr>\n",
       "    <tr>\n",
       "      <th>352</th>\n",
       "      <td>1yc1</td>\n",
       "      <td>8</td>\n",
       "      <td>-7.613</td>\n",
       "      <td>0.638723</td>\n",
       "      <td>0</td>\n",
       "      <td>-7.613</td>\n",
       "    </tr>\n",
       "  </tbody>\n",
       "</table>\n",
       "</div>"
      ],
      "text/plain": [
       "      pdb pose  score      Pred  label  Pred_vina_score\n",
       "345  1yc1    1 -9.978  0.694951      0           -9.978\n",
       "347  1yc1    3 -8.326  0.697222      0           -8.326\n",
       "352  1yc1    8 -7.613  0.638723      0           -7.613"
      ]
     },
     "execution_count": 214,
     "metadata": {},
     "output_type": "execute_result"
    }
   ],
   "source": [
    "df[df['pdb'] == '1yc1'].sort_values(['pdb','pose', 'Pred_vina_score']).head(20)"
   ]
  },
  {
   "cell_type": "code",
   "execution_count": 215,
   "id": "70c267ca-bba8-4ce7-97b2-e37fbcf0b2fb",
   "metadata": {},
   "outputs": [],
   "source": [
    "top_ranked = df.loc[df.groupby('pdb')['Pred_vina_score'].idxmin()]"
   ]
  },
  {
   "cell_type": "code",
   "execution_count": 216,
   "id": "94cbdadd-04d0-4451-8f3e-54809a3371e3",
   "metadata": {},
   "outputs": [
    {
     "data": {
      "text/plain": [
       "0.15384615384615385"
      ]
     },
     "execution_count": 216,
     "metadata": {},
     "output_type": "execute_result"
    }
   ],
   "source": [
    "#top_ranked = top_ranked[top_ranked['pdb'].isin(conjunto)]\n",
    "top_ranked[top_ranked['label'] == 1].shape[0] / top_ranked.shape[0]"
   ]
  },
  {
   "cell_type": "code",
   "execution_count": 217,
   "id": "2ae006b7-c3a5-4fdd-b113-5561ba7d5f27",
   "metadata": {},
   "outputs": [
    {
     "data": {
      "text/plain": [
       "30"
      ]
     },
     "execution_count": 217,
     "metadata": {},
     "output_type": "execute_result"
    }
   ],
   "source": [
    "top_ranked[top_ranked['label'] == 1].shape[0]"
   ]
  },
  {
   "cell_type": "code",
   "execution_count": 218,
   "id": "ec54c30c-abf7-4263-a0c5-d18b542c4bc1",
   "metadata": {},
   "outputs": [
    {
     "data": {
      "text/plain": [
       "(195, 6)"
      ]
     },
     "execution_count": 218,
     "metadata": {},
     "output_type": "execute_result"
    }
   ],
   "source": [
    "top_ranked.shape"
   ]
  },
  {
   "cell_type": "code",
   "execution_count": 219,
   "id": "9c95a400-bcb5-41f7-aa45-82b1fbc78ed7",
   "metadata": {},
   "outputs": [
    {
     "data": {
      "text/plain": [
       "(448, 4)"
      ]
     },
     "execution_count": 219,
     "metadata": {},
     "output_type": "execute_result"
    }
   ],
   "source": [
    "general.shape"
   ]
  },
  {
   "cell_type": "code",
   "execution_count": 220,
   "id": "77dde457-30eb-4690-8a0b-87fb203b8a49",
   "metadata": {},
   "outputs": [
    {
     "data": {
      "text/plain": [
       "(55, 4)"
      ]
     },
     "execution_count": 220,
     "metadata": {},
     "output_type": "execute_result"
    }
   ],
   "source": [
    "general[(general['pose']==\"1\")].shape"
   ]
  },
  {
   "cell_type": "code",
   "execution_count": 221,
   "id": "0acd3d44-0884-46ed-b138-63d2a3be3e60",
   "metadata": {},
   "outputs": [
    {
     "data": {
      "text/plain": [
       "21"
      ]
     },
     "execution_count": 221,
     "metadata": {},
     "output_type": "execute_result"
    }
   ],
   "source": [
    "general[(general['pose']==\"1\") & (general['label']==1)].shape[0]"
   ]
  },
  {
   "cell_type": "markdown",
   "id": "9aa4bcef-76d4-4513-9515-f1d3532e26c0",
   "metadata": {
    "jp-MarkdownHeadingCollapsed": true
   },
   "source": [
    "#### Report "
   ]
  },
  {
   "cell_type": "markdown",
   "id": "7ca51aff-4298-42b4-ab3e-32e728fff7ec",
   "metadata": {},
   "source": [
    "#### label (Pose != 1) \n",
    "\n",
    "0:381,\n",
    "1: 12"
   ]
  },
  {
   "cell_type": "markdown",
   "id": "8bc0c882-c422-46b9-b677-2b1effc786b1",
   "metadata": {},
   "source": [
    "#### Pose == 1 classe == 1\n",
    "\n",
    "21\n"
   ]
  },
  {
   "cell_type": "markdown",
   "id": "fa24f8bd-4c24-4a78-a32a-fe401880c48c",
   "metadata": {},
   "source": [
    "#### Pose != 1 classe == 1\n",
    "\n",
    "12\n"
   ]
  },
  {
   "cell_type": "markdown",
   "id": "54a0cd4a-4e8e-4ef0-9303-b94123cf9fc2",
   "metadata": {},
   "source": [
    "Então o dataframe para ser reranquedo precisaria ter as 33 poses. Qual é esse dataframe? "
   ]
  },
  {
   "cell_type": "markdown",
   "id": "bf6874a8-e22e-4322-976a-adc1a480dcb3",
   "metadata": {},
   "source": [
    "#### label (Pose == 1) "
   ]
  },
  {
   "cell_type": "markdown",
   "id": "428243f3-69d9-4751-a2bf-b062135ef005",
   "metadata": {},
   "source": [
    "0: 34,\n",
    "1: 21"
   ]
  },
  {
   "cell_type": "markdown",
   "id": "0edd4d9e-6c4d-4ae6-958a-6d1fbd3f7119",
   "metadata": {},
   "source": [
    "#### Results "
   ]
  },
  {
   "cell_type": "code",
   "execution_count": 222,
   "id": "a56f578a-207f-45a3-a167-e92d6eb2e755",
   "metadata": {},
   "outputs": [],
   "source": [
    "teste = df.copy()\n",
    "teste = teste.sort_values('pdb')"
   ]
  },
  {
   "cell_type": "code",
   "execution_count": 223,
   "id": "731397f7-7647-4507-b631-6d3fa2199b4e",
   "metadata": {},
   "outputs": [
    {
     "data": {
      "text/plain": [
       "label\n",
       "0    397\n",
       "1     33\n",
       "Name: count, dtype: int64"
      ]
     },
     "execution_count": 223,
     "metadata": {},
     "output_type": "execute_result"
    }
   ],
   "source": [
    "teste['label'].value_counts()"
   ]
  },
  {
   "cell_type": "code",
   "execution_count": 224,
   "id": "15328970-f5c8-42b7-9560-0f189603f05c",
   "metadata": {},
   "outputs": [
    {
     "data": {
      "text/plain": [
       "0.8571428571428571"
      ]
     },
     "execution_count": 224,
     "metadata": {},
     "output_type": "execute_result"
    }
   ],
   "source": [
    "198/231"
   ]
  },
  {
   "cell_type": "code",
   "execution_count": 225,
   "id": "ca045b4a-b1b6-49e1-be9d-e4434448f761",
   "metadata": {},
   "outputs": [
    {
     "data": {
      "text/plain": [
       "label\n",
       "0    0.923256\n",
       "1    0.076744\n",
       "Name: proportion, dtype: float64"
      ]
     },
     "execution_count": 225,
     "metadata": {},
     "output_type": "execute_result"
    }
   ],
   "source": [
    "teste['label'].value_counts(1)"
   ]
  },
  {
   "cell_type": "code",
   "execution_count": 226,
   "id": "79994f85-3bf9-45d3-9f7a-2f4bbd10b3b6",
   "metadata": {},
   "outputs": [
    {
     "data": {
      "text/plain": [
       "(430, 6)"
      ]
     },
     "execution_count": 226,
     "metadata": {},
     "output_type": "execute_result"
    }
   ],
   "source": [
    "teste.shape"
   ]
  },
  {
   "cell_type": "code",
   "execution_count": 227,
   "id": "96a8ca3a-5fa1-469d-abb2-27899a2d9dc5",
   "metadata": {},
   "outputs": [],
   "source": [
    "pose_1 = teste[teste['pose'] =='1']"
   ]
  },
  {
   "cell_type": "code",
   "execution_count": 228,
   "id": "1df94b58-6f92-40cd-b5dd-475ffedf2e1b",
   "metadata": {},
   "outputs": [
    {
     "data": {
      "text/plain": [
       "label\n",
       "0    34\n",
       "1    21\n",
       "Name: count, dtype: int64"
      ]
     },
     "execution_count": 228,
     "metadata": {},
     "output_type": "execute_result"
    }
   ],
   "source": [
    "pose_1['label'].value_counts()"
   ]
  },
  {
   "cell_type": "code",
   "execution_count": 229,
   "id": "f005b813-6e05-443f-b559-bea3b72a5a14",
   "metadata": {},
   "outputs": [
    {
     "data": {
      "text/plain": [
       "label\n",
       "1    16\n",
       "0    14\n",
       "Name: count, dtype: int64"
      ]
     },
     "execution_count": 229,
     "metadata": {},
     "output_type": "execute_result"
    }
   ],
   "source": [
    "pose_1[pose_1['Pred'] > 0.6]['label'].value_counts()"
   ]
  },
  {
   "cell_type": "code",
   "execution_count": 230,
   "id": "a30e25b4-32a8-4d8b-8d8b-4b024c66e08e",
   "metadata": {},
   "outputs": [
    {
     "data": {
      "text/plain": [
       "label\n",
       "0    27\n",
       "1    20\n",
       "Name: count, dtype: int64"
      ]
     },
     "execution_count": 230,
     "metadata": {},
     "output_type": "execute_result"
    }
   ],
   "source": [
    "pose_1[pose_1['Pred'] > 0.5]['label'].value_counts()"
   ]
  },
  {
   "cell_type": "code",
   "execution_count": 231,
   "id": "50a8b9a5-9f1d-45f9-acb7-2253a10dcd2c",
   "metadata": {},
   "outputs": [
    {
     "data": {
      "text/plain": [
       "label\n",
       "0    0.512821\n",
       "1    0.487179\n",
       "Name: proportion, dtype: float64"
      ]
     },
     "execution_count": 231,
     "metadata": {},
     "output_type": "execute_result"
    }
   ],
   "source": [
    "pose_1[pose_1['Pred'] > 0.55]['label'].value_counts(1)"
   ]
  },
  {
   "cell_type": "code",
   "execution_count": 232,
   "id": "5e49b79a-8e14-4a7c-884f-fa549e801528",
   "metadata": {},
   "outputs": [],
   "source": [
    "palette=  ['#7D2D1F', 'steelblue']"
   ]
  },
  {
   "cell_type": "code",
   "execution_count": 233,
   "id": "11d18252-af58-4a53-9c0b-a250250d0eaf",
   "metadata": {
    "scrolled": true
   },
   "outputs": [
    {
     "data": {
      "image/png": "[encoded data removed]",
      "text/plain": [
       "<Figure size 100x400 with 1 Axes>"
      ]
     },
     "metadata": {},
     "output_type": "display_data"
    }
   ],
   "source": [
    "plot_stacked_bar_chart(teste, label_column='label', title=' ', file_name=f'grafico_empilhado_before_{model_name}.png')"
   ]
  },
  {
   "cell_type": "code",
   "execution_count": 234,
   "id": "ebdddc38-dc9f-4ff4-ab92-5f70ffc61e58",
   "metadata": {},
   "outputs": [
    {
     "data": {
      "text/plain": [
       "label\n",
       "0    397\n",
       "1     33\n",
       "Name: count, dtype: int64"
      ]
     },
     "execution_count": 234,
     "metadata": {},
     "output_type": "execute_result"
    }
   ],
   "source": [
    "teste['label'].value_counts()"
   ]
  },
  {
   "cell_type": "code",
   "execution_count": 235,
   "id": "bd33dff9-f0d1-41d3-85a1-6a95b6615206",
   "metadata": {},
   "outputs": [
    {
     "data": {
      "text/plain": [
       "label\n",
       "0    366\n",
       "1     32\n",
       "Name: count, dtype: int64"
      ]
     },
     "execution_count": 235,
     "metadata": {},
     "output_type": "execute_result"
    }
   ],
   "source": [
    "teste[teste['Pred'] > 0.45]['label'].value_counts()"
   ]
  },
  {
   "cell_type": "code",
   "execution_count": 236,
   "id": "a6012ed5-be9a-4ace-957d-c0e29368ef23",
   "metadata": {},
   "outputs": [
    {
     "data": {
      "text/plain": [
       "label\n",
       "0    397\n",
       "1     33\n",
       "Name: count, dtype: int64"
      ]
     },
     "execution_count": 236,
     "metadata": {},
     "output_type": "execute_result"
    }
   ],
   "source": [
    "teste['label'].value_counts()"
   ]
  },
  {
   "cell_type": "code",
   "execution_count": 237,
   "id": "9db5a7a6-3a19-48a9-aaa6-a13cbc0e8901",
   "metadata": {},
   "outputs": [
    {
     "data": {
      "text/plain": [
       "3       0\n",
       "8       0\n",
       "9       0\n",
       "13      0\n",
       "26      0\n",
       "       ..\n",
       "2491    0\n",
       "2492    1\n",
       "2511    0\n",
       "2513    0\n",
       "2518    0\n",
       "Name: label, Length: 430, dtype: int64"
      ]
     },
     "execution_count": 237,
     "metadata": {},
     "output_type": "execute_result"
    }
   ],
   "source": [
    "teste['label']"
   ]
  },
  {
   "cell_type": "code",
   "execution_count": null,
   "id": "5da9d9e4-3ca6-4740-b261-ab4c9a4acaeb",
   "metadata": {},
   "outputs": [],
   "source": []
  },
  {
   "cell_type": "code",
   "execution_count": 238,
   "id": "31b64d9e-7591-4ab6-ac10-9356b8004e80",
   "metadata": {},
   "outputs": [
    {
     "data": {
      "image/png": "[encoded data removed]",
      "text/plain": [
       "<Figure size 800x600 with 1 Axes>"
      ]
     },
     "metadata": {},
     "output_type": "display_data"
    }
   ],
   "source": [
    "import numpy as np\n",
    "import pandas as pd\n",
    "import matplotlib.pyplot as plt\n",
    "\n",
    "# Inicializando dicionários para TPR e FPR\n",
    "tpr_values = {}\n",
    "fpr_values = {}\n",
    "\n",
    "# Calculando TPR e FPR para diferentes limiares\n",
    "for threshold in np.arange(0, 1, 0.001):\n",
    "    # Condição para positivos e negativos preditos corretamente/erroneamente\n",
    "    tp = len(teste[(teste['Pred'] > threshold) & (teste['label'] == 1)])  # True Positives\n",
    "    fp = len(teste[(teste['Pred'] > threshold) & (teste['label'] == 0)])  # False Positives\n",
    "    fn = len(teste[(teste['Pred'] <= threshold) & (teste['label'] == 1)])  # False Negatives\n",
    "    tn = len(teste[(teste['Pred'] <= threshold) & (teste['label'] == 0)])  # True Negatives\n",
    "\n",
    "    # Taxa de verdadeiros positivos (TPR)\n",
    "    if (tp + fn) > 0:\n",
    "        tpr = tp / (tp + fn)\n",
    "    else:\n",
    "        tpr = 0\n",
    "\n",
    "    # Taxa de falsos positivos (FPR)\n",
    "    if (fp + tn) > 0:\n",
    "        fpr = fp / (fp + tn)\n",
    "    else:\n",
    "        fpr = 0\n",
    "\n",
    "    # Salvando os valores\n",
    "    tpr_values[threshold] = tpr\n",
    "    fpr_values[threshold] = fpr\n",
    "\n",
    "# Convertendo para DataFrame\n",
    "tpr_df = pd.DataFrame(list(tpr_values.items()), columns=['Threshold', 'TPR'])\n",
    "fpr_df = pd.DataFrame(list(fpr_values.items()), columns=['Threshold', 'FPR'])\n",
    "\n",
    "# Plotando TPR e FPR no mesmo gráfico\n",
    "plt.figure(figsize=(8, 6))\n",
    "plt.plot(tpr_df['Threshold'], tpr_df['TPR'], label='Taxa de Verdadeiros Positivos (TPR)', color='blue')\n",
    "plt.plot(fpr_df['Threshold'], fpr_df['FPR'], label='Taxa de Falsos Positivos (FPR)', color='red')\n",
    "\n",
    "# Adicionando uma linha vertical no threshold\n",
    "Threshold = 0.55\n",
    "plt.axvline(x=Threshold, color='black', linestyle='--', label=f'Threshold = {Threshold}')\n",
    "\n",
    "# Ajustando os eixos\n",
    "ax = plt.gca()  # Obtendo o objeto Axes\n",
    "ax.spines['top'].set_visible(False)  # Remover o eixo superior\n",
    "ax.spines['right'].set_visible(False)  # Remover o eixo direito\n",
    "\n",
    "# Adicionando rótulos e título\n",
    "plt.xlabel('Threshold')\n",
    "plt.ylabel('Taxa')\n",
    "plt.title('TPR vs FPR para Diferentes Thresholds')\n",
    "plt.legend()\n",
    "\n",
    "    # Salvar o gráfico como um arquivo PNG com fundo transparente\n",
    "plt.savefig(f'TPR_{model_name}.png', bbox_inches='tight', dpi=300, transparent=True)\n",
    "# Exibindo o gráfico\n",
    "plt.show()"
   ]
  },
  {
   "cell_type": "code",
   "execution_count": 239,
   "id": "1d3d4f14-826f-467b-b9bf-1da1cb5a018f",
   "metadata": {},
   "outputs": [
    {
     "data": {
      "text/plain": [
       "<Figure size 600x400 with 0 Axes>"
      ]
     },
     "metadata": {},
     "output_type": "display_data"
    },
    {
     "data": {
      "image/png": "[encoded data removed]",
      "text/plain": [
       "<Figure size 800x600 with 1 Axes>"
      ]
     },
     "metadata": {},
     "output_type": "display_data"
    }
   ],
   "source": [
    "import numpy as np\n",
    "import pandas as pd\n",
    "import matplotlib.pyplot as plt\n",
    "\n",
    "# Initializing dictionaries for TPR and FPR\n",
    "tpr_values = {}\n",
    "fpr_values = {}\n",
    "\n",
    "plt.figure(figsize=(6, 4)) \n",
    "\n",
    "# Calculating TPR and FPR for different thresholds\n",
    "for threshold in np.arange(0, 1, 0.001):\n",
    "    # Condition for correctly/incorrectly predicted positives and negatives\n",
    "    tp = len(teste[(teste['Pred'] > threshold) & (teste['label'] == 1)])  # True Positives\n",
    "    fp = len(teste[(teste['Pred'] > threshold) & (teste['label'] == 0)])  # False Positives\n",
    "    fn = len(teste[(teste['Pred'] <= threshold) & (teste['label'] == 1)])  # False Negatives\n",
    "    tn = len(teste[(teste['Pred'] <= threshold) & (teste['label'] == 0)])  # True Negatives\n",
    "\n",
    "    # True Positive Rate (TPR)\n",
    "    if (tp + fn) > 0:\n",
    "        tpr = tp / (tp + fn)\n",
    "    else:\n",
    "        tpr = 0\n",
    "\n",
    "    # False Positive Rate (FPR)\n",
    "    if (fp + tn) > 0:\n",
    "        fpr = fp / (fp + tn)\n",
    "    else:\n",
    "        fpr = 0\n",
    "\n",
    "    # Saving the values\n",
    "    tpr_values[threshold] = tpr\n",
    "    fpr_values[threshold] = fpr\n",
    "\n",
    "# Converting to DataFrame\n",
    "tpr_df = pd.DataFrame(list(tpr_values.items()), columns=['Threshold', 'TPR'])\n",
    "fpr_df = pd.DataFrame(list(fpr_values.items()), columns=['Threshold', 'FPR'])\n",
    "\n",
    "# Plotting TPR and FPR on the same graph\n",
    "plt.figure(figsize=(8, 6))\n",
    "plt.plot(tpr_df['Threshold'], tpr_df['TPR'], label='True Positive Rate (TPR)', color='steelblue')\n",
    "plt.plot(fpr_df['Threshold'], fpr_df['FPR'], label='False Positive Rate (FPR)', color='#7D2D1F')\n",
    "\n",
    "# Adding a vertical line at the threshold\n",
    "Threshold = 0.55\n",
    "plt.axvline(x=Threshold, color='black', linestyle='--', label=f'Threshold = {Threshold}')\n",
    "\n",
    "# Adjusting the axes\n",
    "ax = plt.gca()  # Getting the Axes object\n",
    "ax.spines['top'].set_visible(False)  # Remove the top spine\n",
    "ax.spines['right'].set_visible(False)  # Remove the right spine\n",
    "\n",
    "# Adding labels and title\n",
    "plt.xlabel('Threshold')\n",
    "plt.ylabel('Rate')\n",
    "plt.title('TPR vs FPR for different Thresholds')\n",
    "plt.legend()\n",
    "\n",
    "# Saving the plot as a PNG file with a transparent background\n",
    "plt.savefig(f'TPR_{model_name}.png', bbox_inches='tight', dpi=300, transparent=True)\n",
    "# Displaying the plot\n",
    "plt.show()"
   ]
  },
  {
   "cell_type": "code",
   "execution_count": 240,
   "id": "95f5e1b8-73b2-44cc-a0fe-8515538a20b4",
   "metadata": {},
   "outputs": [
    {
     "data": {
      "image/png": "[encoded data removed]",
      "text/plain": [
       "<Figure size 100x400 with 1 Axes>"
      ]
     },
     "metadata": {},
     "output_type": "display_data"
    }
   ],
   "source": [
    "plot_stacked_bar_chart(teste[teste['Pred'] > 0.55], label_column='label', file_name=f'grafico_empilhado_after_{model_name}.png')"
   ]
  },
  {
   "cell_type": "code",
   "execution_count": null,
   "id": "d0f06d4a-9855-4119-91a9-66281a5cd967",
   "metadata": {},
   "outputs": [],
   "source": []
  },
  {
   "cell_type": "markdown",
   "id": "d44b4598-324b-443e-8a51-11854bfb7562",
   "metadata": {},
   "source": [
    "#### Pose 1 "
   ]
  },
  {
   "cell_type": "code",
   "execution_count": 241,
   "id": "64b17603-2cdf-4967-b2a8-3a9c0bb5b854",
   "metadata": {
    "scrolled": true
   },
   "outputs": [
    {
     "data": {
      "image/png": "[encoded data removed]",
      "text/plain": [
       "<Figure size 100x400 with 1 Axes>"
      ]
     },
     "metadata": {},
     "output_type": "display_data"
    }
   ],
   "source": [
    "plot_stacked_bar_chart(pose_1, label_column='label', file_name=f'grafico_empilhado_before_pose_1_{model_name}.png')"
   ]
  },
  {
   "cell_type": "code",
   "execution_count": 242,
   "id": "18c0f8b5-3f11-486f-940c-0d0435454895",
   "metadata": {},
   "outputs": [
    {
     "data": {
      "text/plain": [
       "label\n",
       "0    34\n",
       "1    21\n",
       "Name: count, dtype: int64"
      ]
     },
     "execution_count": 242,
     "metadata": {},
     "output_type": "execute_result"
    }
   ],
   "source": [
    "pose_1['label'].value_counts()"
   ]
  },
  {
   "cell_type": "code",
   "execution_count": 243,
   "id": "ca143c8e-7ff8-4c84-9767-1131954c248f",
   "metadata": {},
   "outputs": [
    {
     "data": {
      "text/plain": [
       "label\n",
       "0    20\n",
       "1    19\n",
       "Name: count, dtype: int64"
      ]
     },
     "execution_count": 243,
     "metadata": {},
     "output_type": "execute_result"
    }
   ],
   "source": [
    "pose_1[pose_1['Pred'] > 0.55]['label'].value_counts()"
   ]
  },
  {
   "cell_type": "code",
   "execution_count": 244,
   "id": "ffa66fa3-7ed2-4f0b-ad00-500fec465a16",
   "metadata": {
    "scrolled": true
   },
   "outputs": [
    {
     "data": {
      "image/png": "[encoded data removed]",
      "text/plain": [
       "<Figure size 100x400 with 1 Axes>"
      ]
     },
     "metadata": {},
     "output_type": "display_data"
    }
   ],
   "source": [
    "plot_stacked_bar_chart(pose_1[pose_1['Pred'] > 0.55], label_column='label', file_name=f'grafico_empilhado_pose_1_{model_name}.png', palette=  ['#7D2D1F','steelblue'])"
   ]
  },
  {
   "cell_type": "code",
   "execution_count": null,
   "id": "1be3280e-2722-4f83-a660-88e47fba5a11",
   "metadata": {},
   "outputs": [],
   "source": []
  },
  {
   "cell_type": "code",
   "execution_count": null,
   "id": "0c0fb922-4ff8-4582-a378-b00599cd57ef",
   "metadata": {},
   "outputs": [],
   "source": []
  },
  {
   "cell_type": "code",
   "execution_count": null,
   "id": "5fbdd35f-59b1-44fc-8637-d18fce90ab85",
   "metadata": {},
   "outputs": [],
   "source": []
  },
  {
   "cell_type": "code",
   "execution_count": null,
   "id": "ff945ba5-c6d0-4134-987c-8aefd132997c",
   "metadata": {},
   "outputs": [],
   "source": []
  },
  {
   "cell_type": "code",
   "execution_count": null,
   "id": "af9595e3-eb3a-4242-b0a3-1fee560dde62",
   "metadata": {},
   "outputs": [],
   "source": []
  },
  {
   "cell_type": "code",
   "execution_count": null,
   "id": "87c382c9-1035-4088-9141-73522d64e686",
   "metadata": {},
   "outputs": [],
   "source": []
  },
  {
   "cell_type": "code",
   "execution_count": null,
   "id": "09951392-0404-4b2e-ad48-57220e2d6cf9",
   "metadata": {},
   "outputs": [],
   "source": []
  },
  {
   "cell_type": "code",
   "execution_count": null,
   "id": "3787c0f5-fbf6-4f97-bc40-6827c9ef671f",
   "metadata": {},
   "outputs": [],
   "source": []
  },
  {
   "cell_type": "code",
   "execution_count": null,
   "id": "4d23001c-6736-46bf-be0e-d9c98464721d",
   "metadata": {},
   "outputs": [],
   "source": []
  },
  {
   "cell_type": "code",
   "execution_count": null,
   "id": "ec4c4ba1-5216-4e91-888e-1ae497adc44c",
   "metadata": {},
   "outputs": [],
   "source": []
  },
  {
   "cell_type": "markdown",
   "id": "2ccabe23-7787-41a5-a1bf-441d70dc1470",
   "metadata": {},
   "source": [
    "## New validation "
   ]
  },
  {
   "cell_type": "code",
   "execution_count": 174,
   "id": "6c7da5ee-c15d-4f2e-bd9c-f0971f471154",
   "metadata": {
    "scrolled": true
   },
   "outputs": [
    {
     "name": "stderr",
     "output_type": "stream",
     "text": [
      "/home/lbcb00/anaconda3/lib/python3.12/site-packages/torch/storage.py:414: FutureWarning: You are using `torch.load` with `weights_only=False` (the current default value), which uses the default pickle module implicitly. It is possible to construct malicious pickle data which will execute arbitrary code during unpickling (See https://github.com/pytorch/pytorch/blob/main/SECURITY.md#untrusted-models for more details). In a future release, the default value for `weights_only` will be flipped to `True`. This limits the functions that could be executed during unpickling. Arbitrary objects will no longer be allowed to be loaded via this mode unless they are explicitly allowlisted by the user via `torch.serialization.add_safe_globals`. We recommend you start setting `weights_only=True` for any use case where you don't have full control of the loaded file. Please open an issue on GitHub for any issues related to this experimental feature.\n",
      "  return torch.load(io.BytesIO(b))\n"
     ]
    },
    {
     "data": {
      "text/plain": [
       "27651"
      ]
     },
     "execution_count": 174,
     "metadata": {},
     "output_type": "execute_result"
    }
   ],
   "source": [
    "name = 'NO_POSERANK_cut_4_REFINED_SET_05_06_2024.pkl'\n",
    "with open(f'{config.data}/{name}', 'rb') as file:\n",
    "    dataset_list_opened = pickle.load(file)\n",
    "len(dataset_list_opened)"
   ]
  },
  {
   "cell_type": "code",
   "execution_count": 175,
   "id": "e70ce27a-60fd-461e-a60d-7665be4de200",
   "metadata": {},
   "outputs": [
    {
     "data": {
      "text/plain": [
       "[BipartiteData(edge_index=[2, 56], x_s=[56, 7], x_t=[56, 7], y=0.0, edge_attr=[56], num_nodes=112, pdb='4kfq', pose=5),\n",
       " BipartiteData(edge_index=[2, 77], x_s=[77, 7], x_t=[77, 7], y=0.0, edge_attr=[77], num_nodes=154, pdb='5byi', pose=8),\n",
       " BipartiteData(edge_index=[2, 72], x_s=[72, 7], x_t=[72, 7], y=0.0, edge_attr=[72], num_nodes=144, pdb='6e5l', pose=2),\n",
       " BipartiteData(edge_index=[2, 110], x_s=[110, 7], x_t=[110, 7], y=0.0, edge_attr=[110], num_nodes=220, pdb='5d3h', pose=5),\n",
       " BipartiteData(edge_index=[2, 126], x_s=[126, 7], x_t=[126, 7], y=1.0, edge_attr=[126], num_nodes=252, pdb='1ejn', pose=3),\n",
       " BipartiteData(edge_index=[2, 132], x_s=[132, 7], x_t=[132, 7], y=0.0, edge_attr=[132], num_nodes=264, pdb='5oa6', pose=9),\n",
       " BipartiteData(edge_index=[2, 86], x_s=[86, 7], x_t=[86, 7], y=0.0, edge_attr=[86], num_nodes=172, pdb='4u73', pose=7),\n",
       " BipartiteData(edge_index=[2, 127], x_s=[127, 7], x_t=[127, 7], y=0.0, edge_attr=[127], num_nodes=254, pdb='5kr2', pose=5),\n",
       " BipartiteData(edge_index=[2, 67], x_s=[67, 7], x_t=[67, 7], y=0.0, edge_attr=[67], num_nodes=134, pdb='3iub', pose=7),\n",
       " BipartiteData(edge_index=[2, 36], x_s=[36, 7], x_t=[36, 7], y=0.0, edge_attr=[36], num_nodes=72, pdb='3uxl', pose=8),\n",
       " BipartiteData(edge_index=[2, 97], x_s=[97, 7], x_t=[97, 7], y=0.0, edge_attr=[97], num_nodes=194, pdb='3n1c', pose=1),\n",
       " BipartiteData(edge_index=[2, 75], x_s=[75, 7], x_t=[75, 7], y=0.0, edge_attr=[75], num_nodes=150, pdb='6e23', pose=4),\n",
       " BipartiteData(edge_index=[2, 98], x_s=[98, 7], x_t=[98, 7], y=0.0, edge_attr=[98], num_nodes=196, pdb='4uoh', pose=5),\n",
       " BipartiteData(edge_index=[2, 37], x_s=[37, 7], x_t=[37, 7], y=0.0, edge_attr=[37], num_nodes=74, pdb='2hzl', pose=3),\n",
       " BipartiteData(edge_index=[2, 105], x_s=[105, 7], x_t=[105, 7], y=0.0, edge_attr=[105], num_nodes=210, pdb='3wmc', pose=5),\n",
       " BipartiteData(edge_index=[2, 138], x_s=[138, 7], x_t=[138, 7], y=0.0, edge_attr=[138], num_nodes=276, pdb='5efa', pose=1),\n",
       " BipartiteData(edge_index=[2, 92], x_s=[92, 7], x_t=[92, 7], y=1.0, edge_attr=[92], num_nodes=184, pdb='6g5u', pose=1),\n",
       " BipartiteData(edge_index=[2, 102], x_s=[102, 7], x_t=[102, 7], y=0.0, edge_attr=[102], num_nodes=204, pdb='6h2t', pose=4),\n",
       " BipartiteData(edge_index=[2, 68], x_s=[68, 7], x_t=[68, 7], y=0.0, edge_attr=[68], num_nodes=136, pdb='3o84', pose=5),\n",
       " BipartiteData(edge_index=[2, 44], x_s=[44, 7], x_t=[44, 7], y=0.0, edge_attr=[44], num_nodes=88, pdb='6hoq', pose=8)]"
      ]
     },
     "execution_count": 175,
     "metadata": {},
     "output_type": "execute_result"
    }
   ],
   "source": [
    "dataset_list_opened[:20]"
   ]
  },
  {
   "cell_type": "code",
   "execution_count": 176,
   "id": "bb209a4a-82bf-4669-a144-e106899ecf89",
   "metadata": {},
   "outputs": [
    {
     "data": {
      "text/plain": [
       "Counter({0.0: 9182, 1.0: 818})"
      ]
     },
     "execution_count": 176,
     "metadata": {},
     "output_type": "execute_result"
    }
   ],
   "source": [
    "Counter([data.y.tolist() for data in dataset_list_opened[:10000]])"
   ]
  },
  {
   "cell_type": "code",
   "execution_count": 177,
   "id": "62894480-3e03-46b5-9792-a971b36e71bf",
   "metadata": {},
   "outputs": [
    {
     "data": {
      "text/plain": [
       "11.224938875305623"
      ]
     },
     "execution_count": 177,
     "metadata": {},
     "output_type": "execute_result"
    }
   ],
   "source": [
    "9182/818"
   ]
  },
  {
   "cell_type": "code",
   "execution_count": 178,
   "id": "fdf95bf8-6257-43c3-9b47-818bf86a440d",
   "metadata": {},
   "outputs": [
    {
     "data": {
      "text/plain": [
       "27651"
      ]
     },
     "execution_count": 178,
     "metadata": {},
     "output_type": "execute_result"
    }
   ],
   "source": [
    "#bipartite_no_pose_rank_cut_4_coreset_RAND_ENCODED_POSERANK\n",
    "with open(f'{config.data}/NO_POSERANK_cut_4_REFINED_SET_05_06_2024.pkl', 'rb') as file:\n",
    "    dataset_list_opened = pickle.load(file)\n",
    "len(dataset_list_opened)"
   ]
  },
  {
   "cell_type": "code",
   "execution_count": 167,
   "id": "11143d74-c73a-4a18-bf29-7796d9ec8a3f",
   "metadata": {},
   "outputs": [],
   "source": [
    "dataset_list_opened = [data for data in dataset_list_opened if data.pdb not in pbs_to_remove_list]"
   ]
  },
  {
   "cell_type": "code",
   "execution_count": 180,
   "id": "41faaa1e-6fc1-4b9b-bdde-1b5250030926",
   "metadata": {},
   "outputs": [
    {
     "name": "stderr",
     "output_type": "stream",
     "text": [
      "/home/lbcb00/anaconda3/lib/python3.12/site-packages/torch_geometric/deprecation.py:26: UserWarning: 'data.DataLoader' is deprecated, use 'loader.DataLoader' instead\n",
      "  warnings.warn(out)\n",
      "/tmp/ipykernel_10769/2744982026.py:24: FutureWarning: You are using `torch.load` with `weights_only=False` (the current default value), which uses the default pickle module implicitly. It is possible to construct malicious pickle data which will execute arbitrary code during unpickling (See https://github.com/pytorch/pytorch/blob/main/SECURITY.md#untrusted-models for more details). In a future release, the default value for `weights_only` will be flipped to `True`. This limits the functions that could be executed during unpickling. Arbitrary objects will no longer be allowed to be loaded via this mode unless they are explicitly allowlisted by the user via `torch.serialization.add_safe_globals`. We recommend you start setting `weights_only=True` for any use case where you don't have full control of the loaded file. Please open an issue on GitHub for any issues related to this experimental feature.\n",
      "  best_model.load_state_dict(torch.load('../Model/models_pt/model_188.pt'))\n"
     ]
    },
    {
     "ename": "RuntimeError",
     "evalue": "Error(s) in loading state_dict for GATModel:\n\tMissing key(s) in state_dict: \"conv1.lin.weight\". \n\tUnexpected key(s) in state_dict: \"conv1.lin_src.weight\", \"conv1.lin_dst.weight\". ",
     "output_type": "error",
     "traceback": [
      "\u001b[0;31m---------------------------------------------------------------------------\u001b[0m",
      "\u001b[0;31mRuntimeError\u001b[0m                              Traceback (most recent call last)",
      "Cell \u001b[0;32mIn[180], line 24\u001b[0m\n\u001b[1;32m     20\u001b[0m criterion \u001b[38;5;241m=\u001b[39m BalancedBCEWithLogitsLoss(pos_weight\u001b[38;5;241m=\u001b[39mtorch\u001b[38;5;241m.\u001b[39mtensor(\u001b[38;5;241m13.5\u001b[39m))\n\u001b[1;32m     23\u001b[0m best_model \u001b[38;5;241m=\u001b[39m GATModel(input_dim\u001b[38;5;241m=\u001b[39m\u001b[38;5;241m7\u001b[39m, hidden_dim\u001b[38;5;241m=\u001b[39m\u001b[38;5;241m7\u001b[39m, batch_size\u001b[38;5;241m=\u001b[39mconfig\u001b[38;5;241m.\u001b[39mmodel_args[\u001b[38;5;124m\"\u001b[39m\u001b[38;5;124mbatch_size\u001b[39m\u001b[38;5;124m\"\u001b[39m])\n\u001b[0;32m---> 24\u001b[0m best_model\u001b[38;5;241m.\u001b[39mload_state_dict(torch\u001b[38;5;241m.\u001b[39mload(\u001b[38;5;124m'\u001b[39m\u001b[38;5;124m../Model/models_pt/model_188.pt\u001b[39m\u001b[38;5;124m'\u001b[39m))\n\u001b[1;32m     25\u001b[0m best_model\u001b[38;5;241m.\u001b[39meval()\n\u001b[1;32m     26\u001b[0m \u001b[38;5;66;03m# Make predictions using the best_model and criterion\u001b[39;00m\n",
      "File \u001b[0;32m~/anaconda3/lib/python3.12/site-packages/torch/nn/modules/module.py:2215\u001b[0m, in \u001b[0;36mModule.load_state_dict\u001b[0;34m(self, state_dict, strict, assign)\u001b[0m\n\u001b[1;32m   2210\u001b[0m         error_msgs\u001b[38;5;241m.\u001b[39minsert(\n\u001b[1;32m   2211\u001b[0m             \u001b[38;5;241m0\u001b[39m, \u001b[38;5;124m'\u001b[39m\u001b[38;5;124mMissing key(s) in state_dict: \u001b[39m\u001b[38;5;132;01m{}\u001b[39;00m\u001b[38;5;124m. \u001b[39m\u001b[38;5;124m'\u001b[39m\u001b[38;5;241m.\u001b[39mformat(\n\u001b[1;32m   2212\u001b[0m                 \u001b[38;5;124m'\u001b[39m\u001b[38;5;124m, \u001b[39m\u001b[38;5;124m'\u001b[39m\u001b[38;5;241m.\u001b[39mjoin(\u001b[38;5;124mf\u001b[39m\u001b[38;5;124m'\u001b[39m\u001b[38;5;124m\"\u001b[39m\u001b[38;5;132;01m{\u001b[39;00mk\u001b[38;5;132;01m}\u001b[39;00m\u001b[38;5;124m\"\u001b[39m\u001b[38;5;124m'\u001b[39m \u001b[38;5;28;01mfor\u001b[39;00m k \u001b[38;5;129;01min\u001b[39;00m missing_keys)))\n\u001b[1;32m   2214\u001b[0m \u001b[38;5;28;01mif\u001b[39;00m \u001b[38;5;28mlen\u001b[39m(error_msgs) \u001b[38;5;241m>\u001b[39m \u001b[38;5;241m0\u001b[39m:\n\u001b[0;32m-> 2215\u001b[0m     \u001b[38;5;28;01mraise\u001b[39;00m \u001b[38;5;167;01mRuntimeError\u001b[39;00m(\u001b[38;5;124m'\u001b[39m\u001b[38;5;124mError(s) in loading state_dict for \u001b[39m\u001b[38;5;132;01m{}\u001b[39;00m\u001b[38;5;124m:\u001b[39m\u001b[38;5;130;01m\\n\u001b[39;00m\u001b[38;5;130;01m\\t\u001b[39;00m\u001b[38;5;132;01m{}\u001b[39;00m\u001b[38;5;124m'\u001b[39m\u001b[38;5;241m.\u001b[39mformat(\n\u001b[1;32m   2216\u001b[0m                        \u001b[38;5;28mself\u001b[39m\u001b[38;5;241m.\u001b[39m\u001b[38;5;18m__class__\u001b[39m\u001b[38;5;241m.\u001b[39m\u001b[38;5;18m__name__\u001b[39m, \u001b[38;5;124m\"\u001b[39m\u001b[38;5;130;01m\\n\u001b[39;00m\u001b[38;5;130;01m\\t\u001b[39;00m\u001b[38;5;124m\"\u001b[39m\u001b[38;5;241m.\u001b[39mjoin(error_msgs)))\n\u001b[1;32m   2217\u001b[0m \u001b[38;5;28;01mreturn\u001b[39;00m _IncompatibleKeys(missing_keys, unexpected_keys)\n",
      "\u001b[0;31mRuntimeError\u001b[0m: Error(s) in loading state_dict for GATModel:\n\tMissing key(s) in state_dict: \"conv1.lin.weight\". \n\tUnexpected key(s) in state_dict: \"conv1.lin_src.weight\", \"conv1.lin_dst.weight\". "
     ]
    }
   ],
   "source": [
    "##### Filter data list \n",
    "\n",
    "filtered_data_list_num_nodes = [data for data in dataset_list_opened if data.num_nodes>0]\n",
    "filtered_data_list_descriptors = [data for data in filtered_data_list_num_nodes if data.x_s.shape[0] > 0 and data.x_t.shape[0] > 0]\n",
    "filtered_data_list_descriptors = [data for data in filtered_data_list_descriptors if not data.x_t[1,2].isnan()] \n",
    "\n",
    "filtered_data_list = filtered_data_list_descriptors.copy()\n",
    "\n",
    "label_distribuition = dict(Counter([label.y.tolist() for label in filtered_data_list]))\n",
    "amount_of_graphs_used_to_train = len(filtered_data_list)\n",
    "\n",
    "filtered_data_list_descriptors = [data for data in filtered_data_list_descriptors if not data.x_t[1,2].isnan()] \n",
    "\n",
    "len(filtered_data_list)\n",
    "\n",
    "filtered_data_list[0]\n",
    "\n",
    "\n",
    "loader = DataLoader(filtered_data_list[:1000], batch_size=config.model_args[\"batch_size\"], shuffle=True, follow_batch=['x_s', 'x_t'])\n",
    "criterion = BalancedBCEWithLogitsLoss(pos_weight=torch.tensor(13.5))\n",
    "\n",
    "\n",
    "best_model = GATModel(input_dim=7, hidden_dim=7, batch_size=config.model_args[\"batch_size\"])\n",
    "best_model.load_state_dict(torch.load('../Model/models_pt/model_188.pt'))\n",
    "best_model.eval()\n",
    "# Make predictions using the best_model and criterion\n",
    "predictions,true_label = predict(best_model, loader)"
   ]
  },
  {
   "cell_type": "code",
   "execution_count": null,
   "id": "4d8e535e-9b6d-41a7-8588-d7ec7b3064ef",
   "metadata": {},
   "outputs": [],
   "source": [
    "df = pd.DataFrame(predictions.items(), columns=['Index', 'Pred'])\n",
    "df[['pdb', 'pose']] = df['Index'].apply(lambda x: pd.Series(re.findall(r\"'(\\w+)'\", x[0]) + re.findall(r'\\[(\\d+)\\]', x[1])))\n",
    "df['label'] = list(true_label.values())\n",
    "df.drop('Index', axis=1, inplace=True)"
   ]
  },
  {
   "cell_type": "code",
   "execution_count": null,
   "id": "875457d9-7c57-485e-8e66-7c52935ff20a",
   "metadata": {},
   "outputs": [],
   "source": [
    "df.head()"
   ]
  },
  {
   "cell_type": "code",
   "execution_count": null,
   "id": "73f69572-8c82-4faa-ac83-5a5e9d9261a6",
   "metadata": {},
   "outputs": [],
   "source": [
    "pose_1 = df[df['pose'] =='1']"
   ]
  },
  {
   "cell_type": "code",
   "execution_count": null,
   "id": "6be7ef8e-09f6-411b-bc56-2fc2db082b1f",
   "metadata": {},
   "outputs": [],
   "source": [
    "pose_1['label'].value_counts()"
   ]
  },
  {
   "cell_type": "code",
   "execution_count": null,
   "id": "e2d65749-264e-4b1b-9bb2-627180120d35",
   "metadata": {},
   "outputs": [],
   "source": [
    "pose_1['label'].value_counts(1)"
   ]
  },
  {
   "cell_type": "code",
   "execution_count": null,
   "id": "ba95c89a-49ab-414c-8c5f-e2cea4e50f48",
   "metadata": {},
   "outputs": [],
   "source": [
    "#pose_1[pose_1['Pred'] > 0.6]['label'].value_counts()"
   ]
  },
  {
   "cell_type": "code",
   "execution_count": null,
   "id": "30fbeece-352a-4a73-9303-28f34a1af604",
   "metadata": {},
   "outputs": [],
   "source": [
    "pose_1[pose_1['Pred'] > 0.6]['label'].value_counts(1)"
   ]
  },
  {
   "cell_type": "code",
   "execution_count": null,
   "id": "a08e626d-c822-4dba-bba0-388b837f03e1",
   "metadata": {},
   "outputs": [],
   "source": [
    "pose_1[pose_1['Pred'] > 0.5]['label'].value_counts()"
   ]
  },
  {
   "cell_type": "code",
   "execution_count": null,
   "id": "73488797-6506-4dc6-81cc-e9d58666f9a6",
   "metadata": {},
   "outputs": [],
   "source": [
    "pose_1[pose_1['Pred'] > 0.5]['label'].value_counts(1)"
   ]
  },
  {
   "cell_type": "code",
   "execution_count": null,
   "id": "9545ff68-7388-4c78-9476-1c9ef11e5b90",
   "metadata": {},
   "outputs": [],
   "source": [
    "pose_1[pose_1['Pred'] > 0.55]['label'].value_counts(1)"
   ]
  },
  {
   "cell_type": "code",
   "execution_count": null,
   "id": "26fd5b5c-1b24-4e9c-af9a-56458c512605",
   "metadata": {},
   "outputs": [],
   "source": []
  },
  {
   "cell_type": "code",
   "execution_count": null,
   "id": "247cf89e-f6a4-40a2-a7ac-95efc875e1b7",
   "metadata": {},
   "outputs": [],
   "source": [
    "1802/146"
   ]
  },
  {
   "cell_type": "code",
   "execution_count": null,
   "id": "0c254c1e-7061-4920-b780-b467525e9f39",
   "metadata": {},
   "outputs": [],
   "source": []
  },
  {
   "cell_type": "code",
   "execution_count": null,
   "id": "8e4709af-d1a3-428b-a3f1-cc6a88d64318",
   "metadata": {},
   "outputs": [],
   "source": []
  },
  {
   "cell_type": "code",
   "execution_count": null,
   "id": "7cfe56de-9882-4613-a304-3e13e08877a4",
   "metadata": {},
   "outputs": [],
   "source": []
  },
  {
   "cell_type": "code",
   "execution_count": null,
   "id": "11d4177b-4d77-4ca1-9132-ce6fdfdf7ff9",
   "metadata": {},
   "outputs": [],
   "source": []
  },
  {
   "cell_type": "code",
   "execution_count": null,
   "id": "1febb5a7-406e-43d4-8c84-8e31b240df66",
   "metadata": {},
   "outputs": [],
   "source": []
  },
  {
   "cell_type": "code",
   "execution_count": null,
   "id": "c136f148-9629-458a-b622-e45f1e78e214",
   "metadata": {},
   "outputs": [],
   "source": []
  },
  {
   "cell_type": "code",
   "execution_count": null,
   "id": "a90500d1-ad8d-4815-b465-bef8245b9422",
   "metadata": {},
   "outputs": [],
   "source": []
  },
  {
   "cell_type": "code",
   "execution_count": null,
   "id": "80151af9-06a0-4ce4-92b8-357e9c47c7af",
   "metadata": {},
   "outputs": [],
   "source": []
  },
  {
   "cell_type": "code",
   "execution_count": null,
   "id": "f0458fd9-8203-4830-b8d9-58bdfd01ff85",
   "metadata": {},
   "outputs": [],
   "source": []
  },
  {
   "cell_type": "code",
   "execution_count": null,
   "id": "96452d94-d60d-4ba1-932e-f3d5853e6bce",
   "metadata": {},
   "outputs": [],
   "source": []
  },
  {
   "cell_type": "code",
   "execution_count": null,
   "id": "154c8d55-98d6-4d4d-b0cf-0e796443bb24",
   "metadata": {},
   "outputs": [],
   "source": []
  },
  {
   "cell_type": "code",
   "execution_count": null,
   "id": "9e932de1-1944-4541-afe1-d193b94df2fb",
   "metadata": {},
   "outputs": [],
   "source": []
  },
  {
   "cell_type": "code",
   "execution_count": null,
   "id": "927b5537-6c9a-4817-9de3-196c77db6de9",
   "metadata": {},
   "outputs": [],
   "source": []
  },
  {
   "cell_type": "code",
   "execution_count": null,
   "id": "e7d26f4c-7f58-4547-82e5-751573c655d2",
   "metadata": {},
   "outputs": [],
   "source": []
  },
  {
   "cell_type": "code",
   "execution_count": null,
   "id": "fefe339e-4c49-446e-bf83-12b06bf92065",
   "metadata": {},
   "outputs": [],
   "source": []
  }
 ],
 "metadata": {
  "kernelspec": {
   "display_name": "py37",
   "language": "python",
   "name": "py37"
  },
  "language_info": {
   "codemirror_mode": {
    "name": "ipython",
    "version": 3
   },
   "file_extension": ".py",
   "mimetype": "text/x-python",
   "name": "python",
   "nbconvert_exporter": "python",
   "pygments_lexer": "ipython3",
   "version": "3.12.4"
  }
 },
 "nbformat": 4,
 "nbformat_minor": 5
}
