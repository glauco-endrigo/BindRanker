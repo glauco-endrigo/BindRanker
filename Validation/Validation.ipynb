{
 "cells": [
  {
   "cell_type": "code",
   "execution_count": 1,
   "id": "2a22f623-7e0c-480f-bf4c-62598328f399",
   "metadata": {},
   "outputs": [],
   "source": [
    "import os\n",
    "import torch\n",
    "import pickle\n",
    "from tqdm import tqdm\n",
    "import pickle\n",
    "import torch\n",
    "from torch_geometric.data import Data, DataLoader\n",
    "from torch_geometric.nn import GCNConv\n",
    "import torch.nn as nn\n",
    "import torch.nn.functional as F\n",
    "import os\n",
    "import pandas as pd\n",
    "import subprocess\n",
    "import numpy as np\n",
    "import torch\n",
    "import pandas as pd\n",
    "from rdkit import Chem\n",
    "from rdkit.Chem import Descriptors\n",
    "import os\n",
    "from torch_geometric.loader import DataLoader\n",
    "from pathlib import Path\n",
    "import torch.nn as nn\n",
    "import torch.optim as optim\n",
    "from torch_geometric.data import DataLoader, Data\n",
    "from torch_geometric.nn import GCNConv\n",
    "import torch\n",
    "import torch.nn as nn\n",
    "import torch.optim as optim\n",
    "from torch_geometric.data import Data, DataLoader\n",
    "from torch_geometric.nn import GATConv\n",
    "import random\n",
    "from sklearn.model_selection import StratifiedKFold\n",
    "from sklearn.metrics import accuracy_score, precision_score, recall_score, f1_score\n",
    "import matplotlib.pyplot as plt\n",
    "from collections import Counter\n",
    "from torch_geometric.data import Data, Dataset\n",
    "import os\n",
    "from sklearn.metrics import roc_auc_score, average_precision_score, balanced_accuracy_score, confusion_matrix\n",
    "import matplotlib.pyplot as plt\n",
    "import seaborn as sns\n",
    "import os\n",
    "import pandas as pd\n",
    "import matplotlib.pyplot as plt\n",
    "from torch_geometric.nn import GATConv, global_mean_pool\n",
    "\n",
    "%run ../Config.ipynb\n",
    "config = Config()\n",
    "\n",
    "from torch_geometric.data import Data, Dataset\n",
    "from collections import Counter"
   ]
  },
  {
   "cell_type": "code",
   "execution_count": 2,
   "id": "489fc1ca-4765-4d3f-8dd2-4f0b47cacfb7",
   "metadata": {},
   "outputs": [
    {
     "name": "stderr",
     "output_type": "stream",
     "text": [
      "/home/lbcb02/anaconda3/lib/python3.11/site-packages/torch_geometric/deprecation.py:22: UserWarning: 'data.DataLoader' is deprecated, use 'loader.DataLoader' instead\n",
      "  warnings.warn(out)\n"
     ]
    }
   ],
   "source": [
    "class BipartiteData(Data):\n",
    "    def __init__(self, edge_index=None, x_s=None, x_t=None, y=None, edge_attr=None, pdb = None, pose = None):\n",
    "        super().__init__()\n",
    "        self.edge_index = edge_index\n",
    "        self.x_s = x_s\n",
    "        self.x_t = x_t\n",
    "        self.y = y\n",
    "        self.edge_attr = edge_attr  # Add edge_attr attribute\n",
    "        #self.num_nodes = len(set(edge_index[0].tolist())) +  len(set(edge_index[1].tolist()))\n",
    "        self.num_nodes = (x_s.size(0) if x_s is not None else 0) + (x_t.size(0) if x_t is not None else 0)\n",
    "        self.pdb = pdb\n",
    "        self.pose = pose\n",
    "    \n",
    "    def __inc__(self, key, value, *args, **kwargs):\n",
    "        if key == 'edge_index':\n",
    "            return torch.tensor([[self.x_s.size(0)], [self.x_t.size(0)]])\n",
    "        else:\n",
    "            return super().__inc__(key, value, *args, **kwargs)\n",
    "#bipartite_no_pose_rank_cut_4_coreset_RAND_ENCODED_POSERANK\n",
    "with open(f'{config.data}/bipartite_data_with_pose_pred.pkl', 'rb') as file:\n",
    "    dataset_list_opened = pickle.load(file)\n",
    "len(dataset_list_opened)\n",
    "\n",
    "##### Filter data list \n",
    "\n",
    "filtered_data_list_num_nodes = [data for data in dataset_list_opened if data.num_nodes>0]\n",
    "filtered_data_list_descriptors = [data for data in filtered_data_list_num_nodes if data.x_s.shape[0] > 0 and data.x_t.shape[0] > 0]\n",
    "filtered_data_list_descriptors = [data for data in filtered_data_list_descriptors if not data.x_t[1,2].isnan()] \n",
    "\n",
    "filtered_data_list = filtered_data_list_descriptors.copy()\n",
    "\n",
    "label_distribuition = dict(Counter([label.y.tolist() for label in filtered_data_list]))\n",
    "amount_of_graphs_used_to_train = len(filtered_data_list)\n",
    "\n",
    "filtered_data_list_descriptors = [data for data in filtered_data_list_descriptors if not data.x_t[1,2].isnan()] \n",
    "\n",
    "len(filtered_data_list)\n",
    "\n",
    "filtered_data_list[0]\n",
    "\n",
    "class GATModel(nn.Module):\n",
    "    def __init__(self, input_dim, hidden_dim, batch_size):\n",
    "        super(GATModel, self).__init__()\n",
    "        self.conv1 = GATConv(in_channels=input_dim, out_channels=600, heads=2)\n",
    "        #self.conv2 = GATConv(in_channels=100, out_channels=hidden_dim, heads=1)\n",
    "        self.fc1 = nn.Linear(600*2, 10)\n",
    "        \n",
    "        self.fc3 = nn.Linear(10, 1)\n",
    "        self.dropout = nn.Dropout(0.1)\n",
    "\n",
    "    def forward(self, data):\n",
    "        x_s, x_t, edge_index, distances, x_t_batch, x_s_batch = data.x_s, data.x_t, data.edge_index, data.edge_attr, data.x_t_batch, data.x_s_batch\n",
    "        x_new_t = self.conv1((x_s, x_t), edge_index, size=(x_s.size(0), x_t.size(0)), edge_attr=distances)\n",
    "        x = torch.relu(x_new_t)\n",
    "\n",
    "        ##########3\n",
    "        #x_new_s = self.conv2((x_t, x_s), edge_index[torch.tensor([1, 0])], size=(x_t.size(0), x_s.size(0)), edge_attr=distances)\n",
    "        #x = torch.relu(x_new_s)\n",
    "        #####################\n",
    "        x = global_mean_pool(x, x_s_batch)\n",
    "        x = self.fc1(x)\n",
    "        #x = self.fc2(x)\n",
    "\n",
    "        #x = self.dropout(x)\n",
    "        x = self.fc3(x)\n",
    "        #print('x: ', x)\n",
    "        return x.squeeze()\n",
    "\n",
    "class BalancedBCEWithLogitsLoss(nn.Module):\n",
    "    def __init__(self, pos_weight=None, reduction='mean'):\n",
    "        super(BalancedBCEWithLogitsLoss, self).__init__()\n",
    "        self.pos_weight = pos_weight\n",
    "        self.reduction = reduction\n",
    "        self.bce_loss = nn.BCEWithLogitsLoss(pos_weight=pos_weight, reduction=reduction)\n",
    "\n",
    "    def forward(self, input, target):\n",
    "        loss = self.bce_loss(input, target)\n",
    "        return loss\n",
    "\n",
    "loader = DataLoader(filtered_data_list[1500:], batch_size=config.model_args[\"batch_size\"], shuffle=True, follow_batch=['x_s', 'x_t'])\n",
    "criterion = BalancedBCEWithLogitsLoss(pos_weight=torch.tensor(11.5))\n",
    "#[1500:1938],\n",
    "import re\n",
    "\n",
    "def predict(model, data):\n",
    "    # Preprocess your data here if necessary\n",
    "    # Convert your data into tensors or any format expected by your model\n",
    "    # For example:\n",
    "    model.eval()\n",
    "    val_probs = {}\n",
    "    true_label = {}\n",
    "    # Forward pass through the model\n",
    "    with torch.no_grad():\n",
    "        for batch_data in data:\n",
    "            output = model(batch_data)\n",
    "            val_probs[str(batch_data.pdb), str(batch_data.pose)] = torch.sigmoid(output).item()  # Obtain probabilities using sigmoid function\n",
    "            true_label[str(batch_data.pdb), str(batch_data.pose)] =  batch_data.y.item()\n",
    "    return val_probs, true_label\n",
    "\n",
    "best_model = GATModel(input_dim=12, hidden_dim=12, batch_size=config.model_args[\"batch_size\"])\n",
    "best_model.load_state_dict(torch.load('../Model/model_183.pt'))\n",
    "best_model.eval()\n",
    "# Make predictions using the best_model and criterion\n",
    "predictions,true_label = predict(best_model, loader)"
   ]
  },
  {
   "cell_type": "code",
   "execution_count": 3,
   "id": "53cf506c-893e-433a-91b6-30ad12edbe2a",
   "metadata": {},
   "outputs": [
    {
     "data": {
      "text/plain": [
       "1948"
      ]
     },
     "execution_count": 3,
     "metadata": {},
     "output_type": "execute_result"
    }
   ],
   "source": [
    "len(filtered_data_list)"
   ]
  },
  {
   "cell_type": "code",
   "execution_count": 4,
   "id": "b13648fd-5188-4f3d-8dd1-e3da021cbb04",
   "metadata": {},
   "outputs": [
    {
     "data": {
      "text/plain": [
       "448"
      ]
     },
     "execution_count": 4,
     "metadata": {},
     "output_type": "execute_result"
    }
   ],
   "source": [
    "1948 - 1500"
   ]
  },
  {
   "cell_type": "markdown",
   "id": "9beee3b4-dadb-4967-b706-97341d1479ad",
   "metadata": {},
   "source": [
    "#### Convert dictionary to DataFrame"
   ]
  },
  {
   "cell_type": "code",
   "execution_count": 5,
   "id": "e3e6402b-89e2-4287-9a36-956c0d530871",
   "metadata": {},
   "outputs": [],
   "source": [
    "# Convert dictionary to DataFrame\n",
    "df = pd.DataFrame(predictions.items(), columns=['Index', 'Pred'])\n",
    "\n",
    "# Extract values from 'Index' column using regular expressions\n",
    "df[['pdb', 'pose']] = df['Index'].apply(lambda x: pd.Series(re.findall(r\"'(\\w+)'\", x[0]) + re.findall(r'\\[(\\d+)\\]', x[1])))\n",
    "\n",
    "df['label'] = list(true_label.values())\n",
    "# Drop the original 'Index' column\n",
    "df.drop('Index', axis=1, inplace=True)"
   ]
  },
  {
   "cell_type": "code",
   "execution_count": 6,
   "id": "a0bcb59d-ed6a-4023-a9a0-84e758ffeabb",
   "metadata": {},
   "outputs": [
    {
     "data": {
      "text/plain": [
       "448"
      ]
     },
     "execution_count": 6,
     "metadata": {},
     "output_type": "execute_result"
    }
   ],
   "source": [
    "len(df)"
   ]
  },
  {
   "cell_type": "code",
   "execution_count": 7,
   "id": "69ad8a93-198b-47d6-8cf8-7d42c3ca9246",
   "metadata": {},
   "outputs": [
    {
     "data": {
      "text/html": [
       "<div>\n",
       "<style scoped>\n",
       "    .dataframe tbody tr th:only-of-type {\n",
       "        vertical-align: middle;\n",
       "    }\n",
       "\n",
       "    .dataframe tbody tr th {\n",
       "        vertical-align: top;\n",
       "    }\n",
       "\n",
       "    .dataframe thead th {\n",
       "        text-align: right;\n",
       "    }\n",
       "</style>\n",
       "<table border=\"1\" class=\"dataframe\">\n",
       "  <thead>\n",
       "    <tr style=\"text-align: right;\">\n",
       "      <th></th>\n",
       "      <th>Pred</th>\n",
       "      <th>pdb</th>\n",
       "      <th>pose</th>\n",
       "      <th>label</th>\n",
       "    </tr>\n",
       "  </thead>\n",
       "  <tbody>\n",
       "    <tr>\n",
       "      <th>377</th>\n",
       "      <td>0.612179</td>\n",
       "      <td>1a30</td>\n",
       "      <td>1</td>\n",
       "      <td>0.0</td>\n",
       "    </tr>\n",
       "    <tr>\n",
       "      <th>116</th>\n",
       "      <td>0.120718</td>\n",
       "      <td>1a30</td>\n",
       "      <td>3</td>\n",
       "      <td>0.0</td>\n",
       "    </tr>\n",
       "    <tr>\n",
       "      <th>15</th>\n",
       "      <td>0.095587</td>\n",
       "      <td>1a30</td>\n",
       "      <td>9</td>\n",
       "      <td>0.0</td>\n",
       "    </tr>\n",
       "    <tr>\n",
       "      <th>191</th>\n",
       "      <td>0.141282</td>\n",
       "      <td>1bcu</td>\n",
       "      <td>4</td>\n",
       "      <td>0.0</td>\n",
       "    </tr>\n",
       "    <tr>\n",
       "      <th>125</th>\n",
       "      <td>0.130671</td>\n",
       "      <td>1bcu</td>\n",
       "      <td>9</td>\n",
       "      <td>0.0</td>\n",
       "    </tr>\n",
       "  </tbody>\n",
       "</table>\n",
       "</div>"
      ],
      "text/plain": [
       "         Pred   pdb pose  label\n",
       "377  0.612179  1a30    1    0.0\n",
       "116  0.120718  1a30    3    0.0\n",
       "15   0.095587  1a30    9    0.0\n",
       "191  0.141282  1bcu    4    0.0\n",
       "125  0.130671  1bcu    9    0.0"
      ]
     },
     "execution_count": 7,
     "metadata": {},
     "output_type": "execute_result"
    }
   ],
   "source": [
    "df.sort_values(['pdb','pose']).head()"
   ]
  },
  {
   "cell_type": "code",
   "execution_count": 8,
   "id": "e53d9115-2df5-4ca3-96ab-d81f8fe6c39f",
   "metadata": {},
   "outputs": [
    {
     "data": {
      "text/plain": [
       "0.0    409\n",
       "1.0     39\n",
       "Name: label, dtype: int64"
      ]
     },
     "execution_count": 8,
     "metadata": {},
     "output_type": "execute_result"
    }
   ],
   "source": [
    "df['label'].value_counts()"
   ]
  },
  {
   "cell_type": "code",
   "execution_count": 9,
   "id": "b586619c-b5aa-475a-90a0-be860e729dbc",
   "metadata": {},
   "outputs": [
    {
     "data": {
      "text/html": [
       "<div>\n",
       "<style scoped>\n",
       "    .dataframe tbody tr th:only-of-type {\n",
       "        vertical-align: middle;\n",
       "    }\n",
       "\n",
       "    .dataframe tbody tr th {\n",
       "        vertical-align: top;\n",
       "    }\n",
       "\n",
       "    .dataframe thead th {\n",
       "        text-align: right;\n",
       "    }\n",
       "</style>\n",
       "<table border=\"1\" class=\"dataframe\">\n",
       "  <thead>\n",
       "    <tr style=\"text-align: right;\">\n",
       "      <th></th>\n",
       "      <th>Pred</th>\n",
       "      <th>pdb</th>\n",
       "      <th>pose</th>\n",
       "      <th>label</th>\n",
       "    </tr>\n",
       "  </thead>\n",
       "  <tbody>\n",
       "    <tr>\n",
       "      <th>377</th>\n",
       "      <td>0.612179</td>\n",
       "      <td>1a30</td>\n",
       "      <td>1</td>\n",
       "      <td>0.0</td>\n",
       "    </tr>\n",
       "    <tr>\n",
       "      <th>116</th>\n",
       "      <td>0.120718</td>\n",
       "      <td>1a30</td>\n",
       "      <td>3</td>\n",
       "      <td>0.0</td>\n",
       "    </tr>\n",
       "    <tr>\n",
       "      <th>15</th>\n",
       "      <td>0.095587</td>\n",
       "      <td>1a30</td>\n",
       "      <td>9</td>\n",
       "      <td>0.0</td>\n",
       "    </tr>\n",
       "    <tr>\n",
       "      <th>191</th>\n",
       "      <td>0.141282</td>\n",
       "      <td>1bcu</td>\n",
       "      <td>4</td>\n",
       "      <td>0.0</td>\n",
       "    </tr>\n",
       "    <tr>\n",
       "      <th>125</th>\n",
       "      <td>0.130671</td>\n",
       "      <td>1bcu</td>\n",
       "      <td>9</td>\n",
       "      <td>0.0</td>\n",
       "    </tr>\n",
       "  </tbody>\n",
       "</table>\n",
       "</div>"
      ],
      "text/plain": [
       "         Pred   pdb pose  label\n",
       "377  0.612179  1a30    1    0.0\n",
       "116  0.120718  1a30    3    0.0\n",
       "15   0.095587  1a30    9    0.0\n",
       "191  0.141282  1bcu    4    0.0\n",
       "125  0.130671  1bcu    9    0.0"
      ]
     },
     "execution_count": 9,
     "metadata": {},
     "output_type": "execute_result"
    }
   ],
   "source": [
    "df.sort_values(['pdb','pose']).head()"
   ]
  },
  {
   "cell_type": "code",
   "execution_count": 10,
   "id": "5528217e-0b4b-41f3-98b1-cd804b92c801",
   "metadata": {},
   "outputs": [
    {
     "data": {
      "text/html": [
       "<div>\n",
       "<style scoped>\n",
       "    .dataframe tbody tr th:only-of-type {\n",
       "        vertical-align: middle;\n",
       "    }\n",
       "\n",
       "    .dataframe tbody tr th {\n",
       "        vertical-align: top;\n",
       "    }\n",
       "\n",
       "    .dataframe thead th {\n",
       "        text-align: right;\n",
       "    }\n",
       "</style>\n",
       "<table border=\"1\" class=\"dataframe\">\n",
       "  <thead>\n",
       "    <tr style=\"text-align: right;\">\n",
       "      <th></th>\n",
       "      <th>Pred</th>\n",
       "      <th>pdb</th>\n",
       "      <th>pose</th>\n",
       "      <th>label</th>\n",
       "    </tr>\n",
       "  </thead>\n",
       "  <tbody>\n",
       "    <tr>\n",
       "      <th>291</th>\n",
       "      <td>0.095578</td>\n",
       "      <td>2cet</td>\n",
       "      <td>8</td>\n",
       "      <td>1.0</td>\n",
       "    </tr>\n",
       "  </tbody>\n",
       "</table>\n",
       "</div>"
      ],
      "text/plain": [
       "         Pred   pdb pose  label\n",
       "291  0.095578  2cet    8    1.0"
      ]
     },
     "execution_count": 10,
     "metadata": {},
     "output_type": "execute_result"
    }
   ],
   "source": [
    "df[(df['pose'] == '8') & (df['label']==1)]"
   ]
  },
  {
   "cell_type": "code",
   "execution_count": 11,
   "id": "0f57c17b-5336-4855-b821-8e7c70e3712b",
   "metadata": {},
   "outputs": [],
   "source": [
    "df_filtered = df[df['pose'] != \"1\"]"
   ]
  },
  {
   "cell_type": "code",
   "execution_count": 12,
   "id": "0c1d4700-ec45-49c1-9e0b-d96b62d5e577",
   "metadata": {},
   "outputs": [
    {
     "data": {
      "text/html": [
       "<div>\n",
       "<style scoped>\n",
       "    .dataframe tbody tr th:only-of-type {\n",
       "        vertical-align: middle;\n",
       "    }\n",
       "\n",
       "    .dataframe tbody tr th {\n",
       "        vertical-align: top;\n",
       "    }\n",
       "\n",
       "    .dataframe thead th {\n",
       "        text-align: right;\n",
       "    }\n",
       "</style>\n",
       "<table border=\"1\" class=\"dataframe\">\n",
       "  <thead>\n",
       "    <tr style=\"text-align: right;\">\n",
       "      <th></th>\n",
       "      <th>Pred</th>\n",
       "      <th>pdb</th>\n",
       "      <th>pose</th>\n",
       "      <th>label</th>\n",
       "    </tr>\n",
       "  </thead>\n",
       "  <tbody>\n",
       "    <tr>\n",
       "      <th>70</th>\n",
       "      <td>0.284821</td>\n",
       "      <td>1sqa</td>\n",
       "      <td>2</td>\n",
       "      <td>0.0</td>\n",
       "    </tr>\n",
       "    <tr>\n",
       "      <th>43</th>\n",
       "      <td>0.263490</td>\n",
       "      <td>1c5z</td>\n",
       "      <td>2</td>\n",
       "      <td>0.0</td>\n",
       "    </tr>\n",
       "    <tr>\n",
       "      <th>396</th>\n",
       "      <td>0.258572</td>\n",
       "      <td>4m0y</td>\n",
       "      <td>2</td>\n",
       "      <td>0.0</td>\n",
       "    </tr>\n",
       "    <tr>\n",
       "      <th>356</th>\n",
       "      <td>0.240515</td>\n",
       "      <td>2v00</td>\n",
       "      <td>2</td>\n",
       "      <td>0.0</td>\n",
       "    </tr>\n",
       "    <tr>\n",
       "      <th>196</th>\n",
       "      <td>0.229993</td>\n",
       "      <td>3b65</td>\n",
       "      <td>2</td>\n",
       "      <td>0.0</td>\n",
       "    </tr>\n",
       "    <tr>\n",
       "      <th>...</th>\n",
       "      <td>...</td>\n",
       "      <td>...</td>\n",
       "      <td>...</td>\n",
       "      <td>...</td>\n",
       "    </tr>\n",
       "    <tr>\n",
       "      <th>199</th>\n",
       "      <td>0.039389</td>\n",
       "      <td>3zdg</td>\n",
       "      <td>4</td>\n",
       "      <td>0.0</td>\n",
       "    </tr>\n",
       "    <tr>\n",
       "      <th>108</th>\n",
       "      <td>0.036197</td>\n",
       "      <td>3u9q</td>\n",
       "      <td>8</td>\n",
       "      <td>0.0</td>\n",
       "    </tr>\n",
       "    <tr>\n",
       "      <th>36</th>\n",
       "      <td>0.035843</td>\n",
       "      <td>3nq9</td>\n",
       "      <td>5</td>\n",
       "      <td>0.0</td>\n",
       "    </tr>\n",
       "    <tr>\n",
       "      <th>283</th>\n",
       "      <td>0.033747</td>\n",
       "      <td>3uex</td>\n",
       "      <td>6</td>\n",
       "      <td>0.0</td>\n",
       "    </tr>\n",
       "    <tr>\n",
       "      <th>31</th>\n",
       "      <td>0.032057</td>\n",
       "      <td>3ueu</td>\n",
       "      <td>6</td>\n",
       "      <td>0.0</td>\n",
       "    </tr>\n",
       "  </tbody>\n",
       "</table>\n",
       "<p>394 rows × 4 columns</p>\n",
       "</div>"
      ],
      "text/plain": [
       "         Pred   pdb pose  label\n",
       "70   0.284821  1sqa    2    0.0\n",
       "43   0.263490  1c5z    2    0.0\n",
       "396  0.258572  4m0y    2    0.0\n",
       "356  0.240515  2v00    2    0.0\n",
       "196  0.229993  3b65    2    0.0\n",
       "..        ...   ...  ...    ...\n",
       "199  0.039389  3zdg    4    0.0\n",
       "108  0.036197  3u9q    8    0.0\n",
       "36   0.035843  3nq9    5    0.0\n",
       "283  0.033747  3uex    6    0.0\n",
       "31   0.032057  3ueu    6    0.0\n",
       "\n",
       "[394 rows x 4 columns]"
      ]
     },
     "execution_count": 12,
     "metadata": {},
     "output_type": "execute_result"
    }
   ],
   "source": [
    "df_filtered.sort_values('Pred', ascending = False)"
   ]
  },
  {
   "cell_type": "code",
   "execution_count": 13,
   "id": "02936677-4b26-43b0-9551-45e38fc98a66",
   "metadata": {},
   "outputs": [
    {
     "data": {
      "text/html": [
       "<div>\n",
       "<style scoped>\n",
       "    .dataframe tbody tr th:only-of-type {\n",
       "        vertical-align: middle;\n",
       "    }\n",
       "\n",
       "    .dataframe tbody tr th {\n",
       "        vertical-align: top;\n",
       "    }\n",
       "\n",
       "    .dataframe thead th {\n",
       "        text-align: right;\n",
       "    }\n",
       "</style>\n",
       "<table border=\"1\" class=\"dataframe\">\n",
       "  <thead>\n",
       "    <tr style=\"text-align: right;\">\n",
       "      <th></th>\n",
       "      <th>Pred</th>\n",
       "      <th>pdb</th>\n",
       "      <th>pose</th>\n",
       "      <th>label</th>\n",
       "    </tr>\n",
       "  </thead>\n",
       "  <tbody>\n",
       "    <tr>\n",
       "      <th>70</th>\n",
       "      <td>0.284821</td>\n",
       "      <td>1sqa</td>\n",
       "      <td>2</td>\n",
       "      <td>0.0</td>\n",
       "    </tr>\n",
       "    <tr>\n",
       "      <th>95</th>\n",
       "      <td>0.808427</td>\n",
       "      <td>1sqa</td>\n",
       "      <td>1</td>\n",
       "      <td>0.0</td>\n",
       "    </tr>\n",
       "    <tr>\n",
       "      <th>197</th>\n",
       "      <td>0.153042</td>\n",
       "      <td>1sqa</td>\n",
       "      <td>7</td>\n",
       "      <td>0.0</td>\n",
       "    </tr>\n",
       "    <tr>\n",
       "      <th>259</th>\n",
       "      <td>0.130890</td>\n",
       "      <td>1sqa</td>\n",
       "      <td>9</td>\n",
       "      <td>0.0</td>\n",
       "    </tr>\n",
       "  </tbody>\n",
       "</table>\n",
       "</div>"
      ],
      "text/plain": [
       "         Pred   pdb pose  label\n",
       "70   0.284821  1sqa    2    0.0\n",
       "95   0.808427  1sqa    1    0.0\n",
       "197  0.153042  1sqa    7    0.0\n",
       "259  0.130890  1sqa    9    0.0"
      ]
     },
     "execution_count": 13,
     "metadata": {},
     "output_type": "execute_result"
    }
   ],
   "source": [
    "df[df['pdb'] == '1sqa']"
   ]
  },
  {
   "cell_type": "code",
   "execution_count": 14,
   "id": "28b31609-95fb-4ab2-8016-61bcc246efc1",
   "metadata": {},
   "outputs": [
    {
     "data": {
      "text/html": [
       "<div>\n",
       "<style scoped>\n",
       "    .dataframe tbody tr th:only-of-type {\n",
       "        vertical-align: middle;\n",
       "    }\n",
       "\n",
       "    .dataframe tbody tr th {\n",
       "        vertical-align: top;\n",
       "    }\n",
       "\n",
       "    .dataframe thead th {\n",
       "        text-align: right;\n",
       "    }\n",
       "</style>\n",
       "<table border=\"1\" class=\"dataframe\">\n",
       "  <thead>\n",
       "    <tr style=\"text-align: right;\">\n",
       "      <th></th>\n",
       "      <th>Pred</th>\n",
       "      <th>pdb</th>\n",
       "      <th>pose</th>\n",
       "      <th>label</th>\n",
       "    </tr>\n",
       "  </thead>\n",
       "  <tbody>\n",
       "    <tr>\n",
       "      <th>7</th>\n",
       "      <td>0.125687</td>\n",
       "      <td>1c5z</td>\n",
       "      <td>7</td>\n",
       "      <td>0.0</td>\n",
       "    </tr>\n",
       "    <tr>\n",
       "      <th>20</th>\n",
       "      <td>0.153117</td>\n",
       "      <td>1c5z</td>\n",
       "      <td>9</td>\n",
       "      <td>0.0</td>\n",
       "    </tr>\n",
       "    <tr>\n",
       "      <th>43</th>\n",
       "      <td>0.263490</td>\n",
       "      <td>1c5z</td>\n",
       "      <td>2</td>\n",
       "      <td>0.0</td>\n",
       "    </tr>\n",
       "    <tr>\n",
       "      <th>81</th>\n",
       "      <td>0.123549</td>\n",
       "      <td>1c5z</td>\n",
       "      <td>6</td>\n",
       "      <td>0.0</td>\n",
       "    </tr>\n",
       "  </tbody>\n",
       "</table>\n",
       "</div>"
      ],
      "text/plain": [
       "        Pred   pdb pose  label\n",
       "7   0.125687  1c5z    7    0.0\n",
       "20  0.153117  1c5z    9    0.0\n",
       "43  0.263490  1c5z    2    0.0\n",
       "81  0.123549  1c5z    6    0.0"
      ]
     },
     "execution_count": 14,
     "metadata": {},
     "output_type": "execute_result"
    }
   ],
   "source": [
    "df[df['pdb'] == '1c5z']"
   ]
  },
  {
   "cell_type": "code",
   "execution_count": 15,
   "id": "c46e1d82-870b-49b2-b418-9c42f9f8ccba",
   "metadata": {},
   "outputs": [
    {
     "data": {
      "text/html": [
       "<div>\n",
       "<style scoped>\n",
       "    .dataframe tbody tr th:only-of-type {\n",
       "        vertical-align: middle;\n",
       "    }\n",
       "\n",
       "    .dataframe tbody tr th {\n",
       "        vertical-align: top;\n",
       "    }\n",
       "\n",
       "    .dataframe thead th {\n",
       "        text-align: right;\n",
       "    }\n",
       "</style>\n",
       "<table border=\"1\" class=\"dataframe\">\n",
       "  <thead>\n",
       "    <tr style=\"text-align: right;\">\n",
       "      <th></th>\n",
       "      <th>Pred</th>\n",
       "      <th>pdb</th>\n",
       "      <th>pose</th>\n",
       "      <th>label</th>\n",
       "    </tr>\n",
       "  </thead>\n",
       "  <tbody>\n",
       "    <tr>\n",
       "      <th>22</th>\n",
       "      <td>0.132865</td>\n",
       "      <td>3prs</td>\n",
       "      <td>2</td>\n",
       "      <td>0.0</td>\n",
       "    </tr>\n",
       "    <tr>\n",
       "      <th>32</th>\n",
       "      <td>0.081356</td>\n",
       "      <td>3prs</td>\n",
       "      <td>6</td>\n",
       "      <td>0.0</td>\n",
       "    </tr>\n",
       "    <tr>\n",
       "      <th>85</th>\n",
       "      <td>0.116633</td>\n",
       "      <td>3prs</td>\n",
       "      <td>3</td>\n",
       "      <td>1.0</td>\n",
       "    </tr>\n",
       "    <tr>\n",
       "      <th>90</th>\n",
       "      <td>0.084484</td>\n",
       "      <td>3prs</td>\n",
       "      <td>7</td>\n",
       "      <td>0.0</td>\n",
       "    </tr>\n",
       "  </tbody>\n",
       "</table>\n",
       "</div>"
      ],
      "text/plain": [
       "        Pred   pdb pose  label\n",
       "22  0.132865  3prs    2    0.0\n",
       "32  0.081356  3prs    6    0.0\n",
       "85  0.116633  3prs    3    1.0\n",
       "90  0.084484  3prs    7    0.0"
      ]
     },
     "execution_count": 15,
     "metadata": {},
     "output_type": "execute_result"
    }
   ],
   "source": [
    "df[df['pdb'] == '3prs']"
   ]
  },
  {
   "cell_type": "code",
   "execution_count": 16,
   "id": "6b719602-d0a8-451e-bfdb-e2089ba55cf8",
   "metadata": {},
   "outputs": [
    {
     "data": {
      "text/html": [
       "<div>\n",
       "<style scoped>\n",
       "    .dataframe tbody tr th:only-of-type {\n",
       "        vertical-align: middle;\n",
       "    }\n",
       "\n",
       "    .dataframe tbody tr th {\n",
       "        vertical-align: top;\n",
       "    }\n",
       "\n",
       "    .dataframe thead th {\n",
       "        text-align: right;\n",
       "    }\n",
       "</style>\n",
       "<table border=\"1\" class=\"dataframe\">\n",
       "  <thead>\n",
       "    <tr style=\"text-align: right;\">\n",
       "      <th></th>\n",
       "      <th>Pred</th>\n",
       "      <th>pdb</th>\n",
       "      <th>pose</th>\n",
       "      <th>label</th>\n",
       "    </tr>\n",
       "  </thead>\n",
       "  <tbody>\n",
       "    <tr>\n",
       "      <th>291</th>\n",
       "      <td>0.095578</td>\n",
       "      <td>2cet</td>\n",
       "      <td>8</td>\n",
       "      <td>1.0</td>\n",
       "    </tr>\n",
       "    <tr>\n",
       "      <th>348</th>\n",
       "      <td>0.103164</td>\n",
       "      <td>2cet</td>\n",
       "      <td>4</td>\n",
       "      <td>1.0</td>\n",
       "    </tr>\n",
       "    <tr>\n",
       "      <th>366</th>\n",
       "      <td>0.102774</td>\n",
       "      <td>2cet</td>\n",
       "      <td>6</td>\n",
       "      <td>1.0</td>\n",
       "    </tr>\n",
       "  </tbody>\n",
       "</table>\n",
       "</div>"
      ],
      "text/plain": [
       "         Pred   pdb pose  label\n",
       "291  0.095578  2cet    8    1.0\n",
       "348  0.103164  2cet    4    1.0\n",
       "366  0.102774  2cet    6    1.0"
      ]
     },
     "execution_count": 16,
     "metadata": {},
     "output_type": "execute_result"
    }
   ],
   "source": [
    "df[df['pdb'] == '2cet']"
   ]
  },
  {
   "cell_type": "code",
   "execution_count": 17,
   "id": "cf7ddecd-88ab-4975-ad1f-1d80aa702e6a",
   "metadata": {},
   "outputs": [
    {
     "data": {
      "text/plain": [
       "<Axes: xlabel='Pred', ylabel='Density'>"
      ]
     },
     "execution_count": 17,
     "metadata": {},
     "output_type": "execute_result"
    },
    {
     "data": {
      "image/png": "[encoded data removed]",
      "text/plain": [
       "<Figure size 640x480 with 1 Axes>"
      ]
     },
     "metadata": {},
     "output_type": "display_data"
    }
   ],
   "source": [
    "sns.kdeplot(data=df[df['pose'] != \"1\"], x='Pred', hue='label', fill=True)"
   ]
  },
  {
   "cell_type": "code",
   "execution_count": 18,
   "id": "edcde1e0-4828-496c-b2d7-ff128608ad2d",
   "metadata": {},
   "outputs": [
    {
     "data": {
      "text/plain": [
       "<Axes: xlabel='Pred', ylabel='Density'>"
      ]
     },
     "execution_count": 18,
     "metadata": {},
     "output_type": "execute_result"
    },
    {
     "data": {
      "image/png": "[encoded data removed]",
      "text/plain": [
       "<Figure size 640x480 with 1 Axes>"
      ]
     },
     "metadata": {},
     "output_type": "display_data"
    }
   ],
   "source": [
    "sns.kdeplot(data=df[df['pose'] == \"1\"], x='Pred', hue='label', fill=True)"
   ]
  },
  {
   "cell_type": "markdown",
   "id": "f5da9d88-fece-482c-98cd-78344cbecff0",
   "metadata": {},
   "source": [
    "#### Best ranked "
   ]
  },
  {
   "cell_type": "code",
   "execution_count": 19,
   "id": "e7de2a9d-100a-448d-9d43-c8e65402935e",
   "metadata": {},
   "outputs": [],
   "source": [
    "df = df.sort_values(['pdb','Pred'], ascending = False)\n",
    "df['label'] = df['label'].astype(int)"
   ]
  },
  {
   "cell_type": "code",
   "execution_count": 20,
   "id": "56e9df4c-a52a-4986-a17a-ded5d5477d5a",
   "metadata": {},
   "outputs": [],
   "source": [
    "top_ranked = df.loc[df.groupby('pdb')['Pred'].idxmax()]"
   ]
  },
  {
   "cell_type": "markdown",
   "id": "5b18763d-200e-4888-97f4-86ff0c753c1b",
   "metadata": {},
   "source": [
    "#### My ranking ( RMSD and Scoring): Top sorted by model pred"
   ]
  },
  {
   "cell_type": "code",
   "execution_count": 21,
   "id": "1ed84569-c670-4c8e-937b-fee1ae96c674",
   "metadata": {},
   "outputs": [],
   "source": [
    "label_counts = df.groupby('pdb')['label'].sum().sort_values(ascending = False).reset_index()"
   ]
  },
  {
   "cell_type": "code",
   "execution_count": 22,
   "id": "62c2574f-03e1-417d-895c-ac0c0c6ee858",
   "metadata": {},
   "outputs": [
    {
     "data": {
      "text/plain": [
       "0    162\n",
       "1     34\n",
       "3      1\n",
       "2      1\n",
       "Name: label, dtype: int64"
      ]
     },
     "execution_count": 22,
     "metadata": {},
     "output_type": "execute_result"
    }
   ],
   "source": [
    "label_counts['label'].value_counts()"
   ]
  },
  {
   "cell_type": "code",
   "execution_count": 23,
   "id": "13037d7a-c3c2-48fc-8ba8-959220a2c924",
   "metadata": {},
   "outputs": [
    {
     "data": {
      "text/html": [
       "<div>\n",
       "<style scoped>\n",
       "    .dataframe tbody tr th:only-of-type {\n",
       "        vertical-align: middle;\n",
       "    }\n",
       "\n",
       "    .dataframe tbody tr th {\n",
       "        vertical-align: top;\n",
       "    }\n",
       "\n",
       "    .dataframe thead th {\n",
       "        text-align: right;\n",
       "    }\n",
       "</style>\n",
       "<table border=\"1\" class=\"dataframe\">\n",
       "  <thead>\n",
       "    <tr style=\"text-align: right;\">\n",
       "      <th></th>\n",
       "      <th>pdb</th>\n",
       "      <th>label</th>\n",
       "    </tr>\n",
       "  </thead>\n",
       "  <tbody>\n",
       "    <tr>\n",
       "      <th>0</th>\n",
       "      <td>2cet</td>\n",
       "      <td>3</td>\n",
       "    </tr>\n",
       "    <tr>\n",
       "      <th>1</th>\n",
       "      <td>1vso</td>\n",
       "      <td>2</td>\n",
       "    </tr>\n",
       "    <tr>\n",
       "      <th>2</th>\n",
       "      <td>3ebp</td>\n",
       "      <td>1</td>\n",
       "    </tr>\n",
       "    <tr>\n",
       "      <th>3</th>\n",
       "      <td>4f09</td>\n",
       "      <td>1</td>\n",
       "    </tr>\n",
       "    <tr>\n",
       "      <th>4</th>\n",
       "      <td>3fur</td>\n",
       "      <td>1</td>\n",
       "    </tr>\n",
       "  </tbody>\n",
       "</table>\n",
       "</div>"
      ],
      "text/plain": [
       "    pdb  label\n",
       "0  2cet      3\n",
       "1  1vso      2\n",
       "2  3ebp      1\n",
       "3  4f09      1\n",
       "4  3fur      1"
      ]
     },
     "execution_count": 23,
     "metadata": {},
     "output_type": "execute_result"
    }
   ],
   "source": [
    "label_counts.head()"
   ]
  },
  {
   "cell_type": "code",
   "execution_count": 24,
   "id": "55520b27-0969-4e8d-8293-787eead56b4d",
   "metadata": {},
   "outputs": [],
   "source": [
    "pdbs_with_pose_1 = list(df[df['pose'] == '1']['pdb'])"
   ]
  },
  {
   "cell_type": "code",
   "execution_count": 25,
   "id": "cee0a455-df6b-4e10-842d-f01b3112cd9f",
   "metadata": {},
   "outputs": [],
   "source": [
    "pdbs_teste_set_with_atleast_one_correct_post = list(label_counts[label_counts['label'] > 0 ]['pdb'])"
   ]
  },
  {
   "cell_type": "code",
   "execution_count": 26,
   "id": "37cb03a5-ad67-4378-b600-c560ff0711f5",
   "metadata": {},
   "outputs": [],
   "source": [
    "conjunto =  set(pdbs_teste_set_with_atleast_one_correct_post) and set(pdbs_with_pose_1)"
   ]
  },
  {
   "cell_type": "code",
   "execution_count": 27,
   "id": "631bd486-ddb6-43ae-b015-e49202ab5947",
   "metadata": {},
   "outputs": [],
   "source": [
    "top_ranked = top_ranked[top_ranked['pdb'].isin(conjunto)]"
   ]
  },
  {
   "cell_type": "code",
   "execution_count": 51,
   "id": "beb830ed-7a42-4efe-b95c-64beff499d70",
   "metadata": {},
   "outputs": [
    {
     "data": {
      "text/plain": [
       "(54, 4)"
      ]
     },
     "execution_count": 51,
     "metadata": {},
     "output_type": "execute_result"
    }
   ],
   "source": [
    "top_ranked.shape"
   ]
  },
  {
   "cell_type": "code",
   "execution_count": 28,
   "id": "d60575f2-3ee8-47e7-84a8-1033aca8ede5",
   "metadata": {},
   "outputs": [
    {
     "data": {
      "text/plain": [
       "0.5"
      ]
     },
     "execution_count": 28,
     "metadata": {},
     "output_type": "execute_result"
    }
   ],
   "source": [
    "top_ranked[top_ranked['label'] == 1].shape[0] / top_ranked.shape[0]"
   ]
  },
  {
   "cell_type": "code",
   "execution_count": 53,
   "id": "000f2b8f-4716-4830-9821-eb1a91a5b701",
   "metadata": {},
   "outputs": [
    {
     "data": {
      "text/plain": [
       "54"
      ]
     },
     "execution_count": 53,
     "metadata": {},
     "output_type": "execute_result"
    }
   ],
   "source": [
    "df['pdb'].nunique()"
   ]
  },
  {
   "cell_type": "code",
   "execution_count": 30,
   "id": "1275a738-def9-456d-a61a-c1d1e2d6667c",
   "metadata": {},
   "outputs": [
    {
     "data": {
      "text/plain": [
       "54"
      ]
     },
     "execution_count": 30,
     "metadata": {},
     "output_type": "execute_result"
    }
   ],
   "source": [
    "top_ranked.shape[0]"
   ]
  },
  {
   "cell_type": "markdown",
   "id": "adbb0b52-c741-4dc2-8a45-73b5cf172909",
   "metadata": {},
   "source": [
    "#### Vina Fraction of top-ranked"
   ]
  },
  {
   "cell_type": "code",
   "execution_count": 31,
   "id": "20f5b26d-a56d-47c3-b882-19506a108048",
   "metadata": {},
   "outputs": [],
   "source": [
    "df = df[df['pdb'].isin(conjunto)]"
   ]
  },
  {
   "cell_type": "code",
   "execution_count": 32,
   "id": "ea121cd9-6513-48fb-bb1a-afbfc060abcf",
   "metadata": {},
   "outputs": [
    {
     "data": {
      "text/plain": [
       "0.5"
      ]
     },
     "execution_count": 32,
     "metadata": {},
     "output_type": "execute_result"
    }
   ],
   "source": [
    "df[(df['pose']==\"1\") & (df['label']==1)].shape[0] /df['pdb'].nunique()"
   ]
  },
  {
   "cell_type": "code",
   "execution_count": 33,
   "id": "8da14d22-4933-48bd-9a4f-00279d452947",
   "metadata": {},
   "outputs": [
    {
     "data": {
      "text/html": [
       "<div>\n",
       "<style scoped>\n",
       "    .dataframe tbody tr th:only-of-type {\n",
       "        vertical-align: middle;\n",
       "    }\n",
       "\n",
       "    .dataframe tbody tr th {\n",
       "        vertical-align: top;\n",
       "    }\n",
       "\n",
       "    .dataframe thead th {\n",
       "        text-align: right;\n",
       "    }\n",
       "</style>\n",
       "<table border=\"1\" class=\"dataframe\">\n",
       "  <thead>\n",
       "    <tr style=\"text-align: right;\">\n",
       "      <th></th>\n",
       "      <th>Pred</th>\n",
       "      <th>pdb</th>\n",
       "      <th>pose</th>\n",
       "      <th>label</th>\n",
       "    </tr>\n",
       "  </thead>\n",
       "  <tbody>\n",
       "  </tbody>\n",
       "</table>\n",
       "</div>"
      ],
      "text/plain": [
       "Empty DataFrame\n",
       "Columns: [Pred, pdb, pose, label]\n",
       "Index: []"
      ]
     },
     "execution_count": 33,
     "metadata": {},
     "output_type": "execute_result"
    }
   ],
   "source": [
    "df[df['pdb'] == '2cet']"
   ]
  },
  {
   "cell_type": "code",
   "execution_count": 34,
   "id": "1191aed1-83ae-4ea8-9fe7-c08975bd8152",
   "metadata": {},
   "outputs": [
    {
     "data": {
      "text/html": [
       "<div>\n",
       "<style scoped>\n",
       "    .dataframe tbody tr th:only-of-type {\n",
       "        vertical-align: middle;\n",
       "    }\n",
       "\n",
       "    .dataframe tbody tr th {\n",
       "        vertical-align: top;\n",
       "    }\n",
       "\n",
       "    .dataframe thead th {\n",
       "        text-align: right;\n",
       "    }\n",
       "</style>\n",
       "<table border=\"1\" class=\"dataframe\">\n",
       "  <thead>\n",
       "    <tr style=\"text-align: right;\">\n",
       "      <th></th>\n",
       "      <th>Pred</th>\n",
       "      <th>pdb</th>\n",
       "      <th>pose</th>\n",
       "      <th>label</th>\n",
       "    </tr>\n",
       "  </thead>\n",
       "  <tbody>\n",
       "    <tr>\n",
       "      <th>235</th>\n",
       "      <td>0.784238</td>\n",
       "      <td>1nc3</td>\n",
       "      <td>1</td>\n",
       "      <td>1</td>\n",
       "    </tr>\n",
       "    <tr>\n",
       "      <th>39</th>\n",
       "      <td>0.695849</td>\n",
       "      <td>1ps3</td>\n",
       "      <td>1</td>\n",
       "      <td>1</td>\n",
       "    </tr>\n",
       "    <tr>\n",
       "      <th>177</th>\n",
       "      <td>0.670355</td>\n",
       "      <td>1qf1</td>\n",
       "      <td>1</td>\n",
       "      <td>1</td>\n",
       "    </tr>\n",
       "    <tr>\n",
       "      <th>0</th>\n",
       "      <td>0.769849</td>\n",
       "      <td>1s38</td>\n",
       "      <td>1</td>\n",
       "      <td>1</td>\n",
       "    </tr>\n",
       "    <tr>\n",
       "      <th>242</th>\n",
       "      <td>0.662293</td>\n",
       "      <td>1vso</td>\n",
       "      <td>1</td>\n",
       "      <td>1</td>\n",
       "    </tr>\n",
       "    <tr>\n",
       "      <th>399</th>\n",
       "      <td>0.762556</td>\n",
       "      <td>1y6r</td>\n",
       "      <td>1</td>\n",
       "      <td>1</td>\n",
       "    </tr>\n",
       "    <tr>\n",
       "      <th>163</th>\n",
       "      <td>0.732615</td>\n",
       "      <td>2j78</td>\n",
       "      <td>1</td>\n",
       "      <td>1</td>\n",
       "    </tr>\n",
       "    <tr>\n",
       "      <th>156</th>\n",
       "      <td>0.629486</td>\n",
       "      <td>2p4y</td>\n",
       "      <td>1</td>\n",
       "      <td>1</td>\n",
       "    </tr>\n",
       "    <tr>\n",
       "      <th>213</th>\n",
       "      <td>0.714215</td>\n",
       "      <td>2pog</td>\n",
       "      <td>1</td>\n",
       "      <td>1</td>\n",
       "    </tr>\n",
       "    <tr>\n",
       "      <th>284</th>\n",
       "      <td>0.639606</td>\n",
       "      <td>2vw5</td>\n",
       "      <td>1</td>\n",
       "      <td>1</td>\n",
       "    </tr>\n",
       "    <tr>\n",
       "      <th>299</th>\n",
       "      <td>0.670636</td>\n",
       "      <td>2w4x</td>\n",
       "      <td>1</td>\n",
       "      <td>1</td>\n",
       "    </tr>\n",
       "    <tr>\n",
       "      <th>281</th>\n",
       "      <td>0.704286</td>\n",
       "      <td>2wvt</td>\n",
       "      <td>1</td>\n",
       "      <td>1</td>\n",
       "    </tr>\n",
       "    <tr>\n",
       "      <th>217</th>\n",
       "      <td>0.571808</td>\n",
       "      <td>3b1m</td>\n",
       "      <td>1</td>\n",
       "      <td>1</td>\n",
       "    </tr>\n",
       "    <tr>\n",
       "      <th>79</th>\n",
       "      <td>0.794262</td>\n",
       "      <td>3dd0</td>\n",
       "      <td>1</td>\n",
       "      <td>1</td>\n",
       "    </tr>\n",
       "    <tr>\n",
       "      <th>165</th>\n",
       "      <td>0.706226</td>\n",
       "      <td>3ebp</td>\n",
       "      <td>1</td>\n",
       "      <td>1</td>\n",
       "    </tr>\n",
       "    <tr>\n",
       "      <th>142</th>\n",
       "      <td>0.716340</td>\n",
       "      <td>3f3c</td>\n",
       "      <td>1</td>\n",
       "      <td>1</td>\n",
       "    </tr>\n",
       "    <tr>\n",
       "      <th>420</th>\n",
       "      <td>0.729813</td>\n",
       "      <td>3fur</td>\n",
       "      <td>1</td>\n",
       "      <td>1</td>\n",
       "    </tr>\n",
       "    <tr>\n",
       "      <th>258</th>\n",
       "      <td>0.641332</td>\n",
       "      <td>3gbb</td>\n",
       "      <td>1</td>\n",
       "      <td>1</td>\n",
       "    </tr>\n",
       "    <tr>\n",
       "      <th>365</th>\n",
       "      <td>0.706736</td>\n",
       "      <td>3nw9</td>\n",
       "      <td>1</td>\n",
       "      <td>1</td>\n",
       "    </tr>\n",
       "    <tr>\n",
       "      <th>130</th>\n",
       "      <td>0.689285</td>\n",
       "      <td>3r88</td>\n",
       "      <td>1</td>\n",
       "      <td>1</td>\n",
       "    </tr>\n",
       "    <tr>\n",
       "      <th>363</th>\n",
       "      <td>0.595520</td>\n",
       "      <td>3ui7</td>\n",
       "      <td>1</td>\n",
       "      <td>1</td>\n",
       "    </tr>\n",
       "    <tr>\n",
       "      <th>138</th>\n",
       "      <td>0.679562</td>\n",
       "      <td>3uuo</td>\n",
       "      <td>1</td>\n",
       "      <td>1</td>\n",
       "    </tr>\n",
       "    <tr>\n",
       "      <th>56</th>\n",
       "      <td>0.724938</td>\n",
       "      <td>4f09</td>\n",
       "      <td>1</td>\n",
       "      <td>1</td>\n",
       "    </tr>\n",
       "    <tr>\n",
       "      <th>350</th>\n",
       "      <td>0.677449</td>\n",
       "      <td>4gid</td>\n",
       "      <td>1</td>\n",
       "      <td>1</td>\n",
       "    </tr>\n",
       "    <tr>\n",
       "      <th>172</th>\n",
       "      <td>0.652639</td>\n",
       "      <td>4ivc</td>\n",
       "      <td>1</td>\n",
       "      <td>1</td>\n",
       "    </tr>\n",
       "    <tr>\n",
       "      <th>193</th>\n",
       "      <td>0.718629</td>\n",
       "      <td>4j21</td>\n",
       "      <td>1</td>\n",
       "      <td>1</td>\n",
       "    </tr>\n",
       "    <tr>\n",
       "      <th>218</th>\n",
       "      <td>0.778608</td>\n",
       "      <td>4m0z</td>\n",
       "      <td>1</td>\n",
       "      <td>1</td>\n",
       "    </tr>\n",
       "  </tbody>\n",
       "</table>\n",
       "</div>"
      ],
      "text/plain": [
       "         Pred   pdb pose  label\n",
       "235  0.784238  1nc3    1      1\n",
       "39   0.695849  1ps3    1      1\n",
       "177  0.670355  1qf1    1      1\n",
       "0    0.769849  1s38    1      1\n",
       "242  0.662293  1vso    1      1\n",
       "399  0.762556  1y6r    1      1\n",
       "163  0.732615  2j78    1      1\n",
       "156  0.629486  2p4y    1      1\n",
       "213  0.714215  2pog    1      1\n",
       "284  0.639606  2vw5    1      1\n",
       "299  0.670636  2w4x    1      1\n",
       "281  0.704286  2wvt    1      1\n",
       "217  0.571808  3b1m    1      1\n",
       "79   0.794262  3dd0    1      1\n",
       "165  0.706226  3ebp    1      1\n",
       "142  0.716340  3f3c    1      1\n",
       "420  0.729813  3fur    1      1\n",
       "258  0.641332  3gbb    1      1\n",
       "365  0.706736  3nw9    1      1\n",
       "130  0.689285  3r88    1      1\n",
       "363  0.595520  3ui7    1      1\n",
       "138  0.679562  3uuo    1      1\n",
       "56   0.724938  4f09    1      1\n",
       "350  0.677449  4gid    1      1\n",
       "172  0.652639  4ivc    1      1\n",
       "193  0.718629  4j21    1      1\n",
       "218  0.778608  4m0z    1      1"
      ]
     },
     "execution_count": 34,
     "metadata": {},
     "output_type": "execute_result"
    }
   ],
   "source": [
    "top_ranked[top_ranked['label'] == 1]"
   ]
  },
  {
   "cell_type": "code",
   "execution_count": 35,
   "id": "a5a86223-f437-4973-bbf5-e047d0ad2b03",
   "metadata": {},
   "outputs": [
    {
     "data": {
      "text/html": [
       "<div>\n",
       "<style scoped>\n",
       "    .dataframe tbody tr th:only-of-type {\n",
       "        vertical-align: middle;\n",
       "    }\n",
       "\n",
       "    .dataframe tbody tr th {\n",
       "        vertical-align: top;\n",
       "    }\n",
       "\n",
       "    .dataframe thead th {\n",
       "        text-align: right;\n",
       "    }\n",
       "</style>\n",
       "<table border=\"1\" class=\"dataframe\">\n",
       "  <thead>\n",
       "    <tr style=\"text-align: right;\">\n",
       "      <th></th>\n",
       "      <th>Pred</th>\n",
       "      <th>pdb</th>\n",
       "      <th>pose</th>\n",
       "      <th>label</th>\n",
       "    </tr>\n",
       "  </thead>\n",
       "  <tbody>\n",
       "    <tr>\n",
       "      <th>218</th>\n",
       "      <td>0.778608</td>\n",
       "      <td>4m0z</td>\n",
       "      <td>1</td>\n",
       "      <td>1</td>\n",
       "    </tr>\n",
       "    <tr>\n",
       "      <th>193</th>\n",
       "      <td>0.718629</td>\n",
       "      <td>4j21</td>\n",
       "      <td>1</td>\n",
       "      <td>1</td>\n",
       "    </tr>\n",
       "    <tr>\n",
       "      <th>172</th>\n",
       "      <td>0.652639</td>\n",
       "      <td>4ivc</td>\n",
       "      <td>1</td>\n",
       "      <td>1</td>\n",
       "    </tr>\n",
       "    <tr>\n",
       "      <th>350</th>\n",
       "      <td>0.677449</td>\n",
       "      <td>4gid</td>\n",
       "      <td>1</td>\n",
       "      <td>1</td>\n",
       "    </tr>\n",
       "    <tr>\n",
       "      <th>56</th>\n",
       "      <td>0.724938</td>\n",
       "      <td>4f09</td>\n",
       "      <td>1</td>\n",
       "      <td>1</td>\n",
       "    </tr>\n",
       "    <tr>\n",
       "      <th>138</th>\n",
       "      <td>0.679562</td>\n",
       "      <td>3uuo</td>\n",
       "      <td>1</td>\n",
       "      <td>1</td>\n",
       "    </tr>\n",
       "    <tr>\n",
       "      <th>363</th>\n",
       "      <td>0.595520</td>\n",
       "      <td>3ui7</td>\n",
       "      <td>1</td>\n",
       "      <td>1</td>\n",
       "    </tr>\n",
       "    <tr>\n",
       "      <th>130</th>\n",
       "      <td>0.689285</td>\n",
       "      <td>3r88</td>\n",
       "      <td>1</td>\n",
       "      <td>1</td>\n",
       "    </tr>\n",
       "    <tr>\n",
       "      <th>365</th>\n",
       "      <td>0.706736</td>\n",
       "      <td>3nw9</td>\n",
       "      <td>1</td>\n",
       "      <td>1</td>\n",
       "    </tr>\n",
       "    <tr>\n",
       "      <th>258</th>\n",
       "      <td>0.641332</td>\n",
       "      <td>3gbb</td>\n",
       "      <td>1</td>\n",
       "      <td>1</td>\n",
       "    </tr>\n",
       "    <tr>\n",
       "      <th>420</th>\n",
       "      <td>0.729813</td>\n",
       "      <td>3fur</td>\n",
       "      <td>1</td>\n",
       "      <td>1</td>\n",
       "    </tr>\n",
       "    <tr>\n",
       "      <th>142</th>\n",
       "      <td>0.716340</td>\n",
       "      <td>3f3c</td>\n",
       "      <td>1</td>\n",
       "      <td>1</td>\n",
       "    </tr>\n",
       "    <tr>\n",
       "      <th>165</th>\n",
       "      <td>0.706226</td>\n",
       "      <td>3ebp</td>\n",
       "      <td>1</td>\n",
       "      <td>1</td>\n",
       "    </tr>\n",
       "    <tr>\n",
       "      <th>79</th>\n",
       "      <td>0.794262</td>\n",
       "      <td>3dd0</td>\n",
       "      <td>1</td>\n",
       "      <td>1</td>\n",
       "    </tr>\n",
       "    <tr>\n",
       "      <th>217</th>\n",
       "      <td>0.571808</td>\n",
       "      <td>3b1m</td>\n",
       "      <td>1</td>\n",
       "      <td>1</td>\n",
       "    </tr>\n",
       "    <tr>\n",
       "      <th>281</th>\n",
       "      <td>0.704286</td>\n",
       "      <td>2wvt</td>\n",
       "      <td>1</td>\n",
       "      <td>1</td>\n",
       "    </tr>\n",
       "    <tr>\n",
       "      <th>299</th>\n",
       "      <td>0.670636</td>\n",
       "      <td>2w4x</td>\n",
       "      <td>1</td>\n",
       "      <td>1</td>\n",
       "    </tr>\n",
       "    <tr>\n",
       "      <th>284</th>\n",
       "      <td>0.639606</td>\n",
       "      <td>2vw5</td>\n",
       "      <td>1</td>\n",
       "      <td>1</td>\n",
       "    </tr>\n",
       "    <tr>\n",
       "      <th>213</th>\n",
       "      <td>0.714215</td>\n",
       "      <td>2pog</td>\n",
       "      <td>1</td>\n",
       "      <td>1</td>\n",
       "    </tr>\n",
       "    <tr>\n",
       "      <th>156</th>\n",
       "      <td>0.629486</td>\n",
       "      <td>2p4y</td>\n",
       "      <td>1</td>\n",
       "      <td>1</td>\n",
       "    </tr>\n",
       "    <tr>\n",
       "      <th>163</th>\n",
       "      <td>0.732615</td>\n",
       "      <td>2j78</td>\n",
       "      <td>1</td>\n",
       "      <td>1</td>\n",
       "    </tr>\n",
       "    <tr>\n",
       "      <th>399</th>\n",
       "      <td>0.762556</td>\n",
       "      <td>1y6r</td>\n",
       "      <td>1</td>\n",
       "      <td>1</td>\n",
       "    </tr>\n",
       "    <tr>\n",
       "      <th>242</th>\n",
       "      <td>0.662293</td>\n",
       "      <td>1vso</td>\n",
       "      <td>1</td>\n",
       "      <td>1</td>\n",
       "    </tr>\n",
       "    <tr>\n",
       "      <th>0</th>\n",
       "      <td>0.769849</td>\n",
       "      <td>1s38</td>\n",
       "      <td>1</td>\n",
       "      <td>1</td>\n",
       "    </tr>\n",
       "    <tr>\n",
       "      <th>177</th>\n",
       "      <td>0.670355</td>\n",
       "      <td>1qf1</td>\n",
       "      <td>1</td>\n",
       "      <td>1</td>\n",
       "    </tr>\n",
       "    <tr>\n",
       "      <th>39</th>\n",
       "      <td>0.695849</td>\n",
       "      <td>1ps3</td>\n",
       "      <td>1</td>\n",
       "      <td>1</td>\n",
       "    </tr>\n",
       "    <tr>\n",
       "      <th>235</th>\n",
       "      <td>0.784238</td>\n",
       "      <td>1nc3</td>\n",
       "      <td>1</td>\n",
       "      <td>1</td>\n",
       "    </tr>\n",
       "  </tbody>\n",
       "</table>\n",
       "</div>"
      ],
      "text/plain": [
       "         Pred   pdb pose  label\n",
       "218  0.778608  4m0z    1      1\n",
       "193  0.718629  4j21    1      1\n",
       "172  0.652639  4ivc    1      1\n",
       "350  0.677449  4gid    1      1\n",
       "56   0.724938  4f09    1      1\n",
       "138  0.679562  3uuo    1      1\n",
       "363  0.595520  3ui7    1      1\n",
       "130  0.689285  3r88    1      1\n",
       "365  0.706736  3nw9    1      1\n",
       "258  0.641332  3gbb    1      1\n",
       "420  0.729813  3fur    1      1\n",
       "142  0.716340  3f3c    1      1\n",
       "165  0.706226  3ebp    1      1\n",
       "79   0.794262  3dd0    1      1\n",
       "217  0.571808  3b1m    1      1\n",
       "281  0.704286  2wvt    1      1\n",
       "299  0.670636  2w4x    1      1\n",
       "284  0.639606  2vw5    1      1\n",
       "213  0.714215  2pog    1      1\n",
       "156  0.629486  2p4y    1      1\n",
       "163  0.732615  2j78    1      1\n",
       "399  0.762556  1y6r    1      1\n",
       "242  0.662293  1vso    1      1\n",
       "0    0.769849  1s38    1      1\n",
       "177  0.670355  1qf1    1      1\n",
       "39   0.695849  1ps3    1      1\n",
       "235  0.784238  1nc3    1      1"
      ]
     },
     "execution_count": 35,
     "metadata": {},
     "output_type": "execute_result"
    }
   ],
   "source": [
    "df[(df['pose']==\"1\") & (df['label']==1)]"
   ]
  },
  {
   "cell_type": "markdown",
   "id": "68e3d1d7-cda0-4086-9805-74fec003560c",
   "metadata": {},
   "source": [
    "#### Prediction distribuition "
   ]
  },
  {
   "cell_type": "code",
   "execution_count": 36,
   "id": "eb7e5de7-0cfc-450b-863f-f8eb077e949a",
   "metadata": {},
   "outputs": [],
   "source": [
    "df['binary_pred'] = df['Pred'].apply(lambda val: 0 if val <= 0.5 else 1)"
   ]
  },
  {
   "cell_type": "code",
   "execution_count": 37,
   "id": "1492556e-b58e-487c-94fc-8920262b7f45",
   "metadata": {},
   "outputs": [
    {
     "data": {
      "text/plain": [
       "0    99\n",
       "1    50\n",
       "Name: binary_pred, dtype: int64"
      ]
     },
     "execution_count": 37,
     "metadata": {},
     "output_type": "execute_result"
    }
   ],
   "source": [
    "df['binary_pred'].value_counts()"
   ]
  },
  {
   "cell_type": "markdown",
   "id": "94934740-0ada-4572-a309-24d6c996d6a2",
   "metadata": {},
   "source": [
    "#### Label distribuition "
   ]
  },
  {
   "cell_type": "code",
   "execution_count": 38,
   "id": "2f278f2a-edf5-417f-bf09-8c120a737c68",
   "metadata": {},
   "outputs": [
    {
     "data": {
      "text/plain": [
       "0    120\n",
       "1     29\n",
       "Name: label, dtype: int64"
      ]
     },
     "execution_count": 38,
     "metadata": {},
     "output_type": "execute_result"
    }
   ],
   "source": [
    "df['label'].value_counts()"
   ]
  },
  {
   "cell_type": "markdown",
   "id": "9afdf745-6e21-40aa-b39e-a5d4a4ea603d",
   "metadata": {},
   "source": [
    "#### Compparando resultados "
   ]
  },
  {
   "cell_type": "code",
   "execution_count": 39,
   "id": "b15cc235-ed2d-4f9a-8a41-f2de06a6aed3",
   "metadata": {},
   "outputs": [
    {
     "data": {
      "text/plain": [
       "0    27\n",
       "1    27\n",
       "Name: label, dtype: int64"
      ]
     },
     "execution_count": 39,
     "metadata": {},
     "output_type": "execute_result"
    }
   ],
   "source": [
    "top_ranked['label'].value_counts()"
   ]
  },
  {
   "cell_type": "markdown",
   "id": "00d7a9f6-ca60-4781-93bb-cd2fc916a863",
   "metadata": {},
   "source": [
    "#### Segunda validação  "
   ]
  },
  {
   "cell_type": "code",
   "execution_count": 40,
   "id": "204dc1b9-44b3-4ae6-b764-6ff85601b86a",
   "metadata": {},
   "outputs": [],
   "source": [
    "new_df = pd.DataFrame([(item.pdb, item.pose, round(item.y.item())) for item in filtered_data_list], columns=['pdb', 'pose', 'y'])"
   ]
  },
  {
   "cell_type": "code",
   "execution_count": 41,
   "id": "c63e3bbc-a07a-4178-afd4-336ff3ed2dc4",
   "metadata": {},
   "outputs": [],
   "source": [
    "teste = new_df[1500:]"
   ]
  },
  {
   "cell_type": "code",
   "execution_count": 42,
   "id": "e7141ea3-d98e-4987-bb44-912c0973d1e3",
   "metadata": {},
   "outputs": [
    {
     "data": {
      "text/plain": [
       "0    409\n",
       "1     39\n",
       "Name: y, dtype: int64"
      ]
     },
     "execution_count": 42,
     "metadata": {},
     "output_type": "execute_result"
    }
   ],
   "source": [
    "teste['y'].value_counts()"
   ]
  },
  {
   "cell_type": "code",
   "execution_count": 43,
   "id": "a76e7def-527a-462f-8529-b287c15ee8e5",
   "metadata": {},
   "outputs": [
    {
     "data": {
      "text/plain": [
       "1    27\n",
       "0    27\n",
       "Name: y, dtype: int64"
      ]
     },
     "execution_count": 43,
     "metadata": {},
     "output_type": "execute_result"
    }
   ],
   "source": [
    "teste[ teste['pose'] == 1 ]['y'].value_counts()"
   ]
  },
  {
   "cell_type": "code",
   "execution_count": 44,
   "id": "6d26c953-d0f7-4627-ab67-43d442db8910",
   "metadata": {},
   "outputs": [
    {
     "data": {
      "text/plain": [
       "0.5"
      ]
     },
     "execution_count": 44,
     "metadata": {},
     "output_type": "execute_result"
    }
   ],
   "source": [
    "27 / (27+27)"
   ]
  },
  {
   "cell_type": "code",
   "execution_count": 45,
   "id": "d779d0b8-802d-427f-9c7e-5bbb6b424028",
   "metadata": {},
   "outputs": [
    {
     "data": {
      "text/plain": [
       "0.5"
      ]
     },
     "execution_count": 45,
     "metadata": {},
     "output_type": "execute_result"
    }
   ],
   "source": [
    "27 / (27+27)"
   ]
  },
  {
   "cell_type": "code",
   "execution_count": 46,
   "id": "a5d57ecc-7f1f-429a-9aac-045ab8be483c",
   "metadata": {},
   "outputs": [],
   "source": [
    "prob = 102 / (102+129)"
   ]
  },
  {
   "cell_type": "code",
   "execution_count": 47,
   "id": "f8e425aa-9714-41ff-bf9e-7f16125f8323",
   "metadata": {},
   "outputs": [
    {
     "data": {
      "text/plain": [
       "0.44155844155844154"
      ]
     },
     "execution_count": 47,
     "metadata": {},
     "output_type": "execute_result"
    }
   ],
   "source": [
    "prob"
   ]
  },
  {
   "cell_type": "code",
   "execution_count": 48,
   "id": "5a13936f-575f-4735-aaca-63bf5855dabb",
   "metadata": {},
   "outputs": [
    {
     "data": {
      "text/plain": [
       "0    382\n",
       "1     12\n",
       "Name: y, dtype: int64"
      ]
     },
     "execution_count": 48,
     "metadata": {},
     "output_type": "execute_result"
    }
   ],
   "source": [
    "teste[ teste['pose'] != 1 ]['y'].value_counts()"
   ]
  },
  {
   "cell_type": "code",
   "execution_count": 49,
   "id": "f4f732b9-0725-42b0-82b9-c7e429347550",
   "metadata": {},
   "outputs": [
    {
     "data": {
      "text/plain": [
       "0.6923076923076923"
      ]
     },
     "execution_count": 49,
     "metadata": {},
     "output_type": "execute_result"
    }
   ],
   "source": [
    "27 / (27+12)"
   ]
  },
  {
   "cell_type": "code",
   "execution_count": 50,
   "id": "fc94a9cb-434c-4460-98c7-05bd8f1df73d",
   "metadata": {},
   "outputs": [
    {
     "name": "stdout",
     "output_type": "stream",
     "text": [
      "F1 Score: 0.58\n"
     ]
    }
   ],
   "source": [
    "def calculate_f1_score(precision, recall):\n",
    "    if precision + recall == 0:\n",
    "        return 0.0\n",
    "    f1_score = 2 * (precision * recall) / (precision + recall)\n",
    "    return f1_score\n",
    "\n",
    "# Example usage:\n",
    "precision = 0.5\n",
    "recall = 0.69\n",
    "f1_score = calculate_f1_score(precision, recall)\n",
    "print(f\"F1 Score: {f1_score:.2f}\")\n"
   ]
  },
  {
   "cell_type": "code",
   "execution_count": null,
   "id": "e0e5a919-fd79-42e7-9084-f6499edc1d99",
   "metadata": {},
   "outputs": [],
   "source": []
  },
  {
   "cell_type": "code",
   "execution_count": null,
   "id": "7afa7bd4-2de9-411e-a87e-720dceecb5ec",
   "metadata": {},
   "outputs": [],
   "source": []
  },
  {
   "cell_type": "code",
   "execution_count": null,
   "id": "d3b26a5e-9bbd-4eaf-b2c9-9e2cb417d7ab",
   "metadata": {},
   "outputs": [],
   "source": [
    "\n"
   ]
  }
 ],
 "metadata": {
  "kernelspec": {
   "display_name": "Python 3 (ipykernel)",
   "language": "python",
   "name": "python3"
  },
  "language_info": {
   "codemirror_mode": {
    "name": "ipython",
    "version": 3
   },
   "file_extension": ".py",
   "mimetype": "text/x-python",
   "name": "python",
   "nbconvert_exporter": "python",
   "pygments_lexer": "ipython3",
   "version": "3.11.4"
  }
 },
 "nbformat": 4,
 "nbformat_minor": 5
}
