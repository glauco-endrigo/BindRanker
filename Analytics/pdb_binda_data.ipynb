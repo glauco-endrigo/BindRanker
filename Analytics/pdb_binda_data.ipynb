{
 "cells": [
  {
   "cell_type": "markdown",
   "id": "1095d9bc-1f1d-43e8-917f-73e7739eb9f8",
   "metadata": {},
   "source": [
    "## Pdb bind dataset"
   ]
  },
  {
   "cell_type": "markdown",
   "id": "4e64d90a-026e-49ee-95e6-362af51d9124",
   "metadata": {},
   "source": [
    "| Dataset          | Description                                                                                                         | nº of complexes |\n",
    "|------------------|---------------------------------------------------------------------------------------------------------------------|------------------|\n",
    "| General dataset  | - Experimentally determined binding affinity                                                                     |                  |\n",
    "| Refined set      |  (i) the quality of the complex structures Resolution better than 2 A <br> (ii) the quality of the binding data  <br> (iii) the biological/chemical nature of the complex | ~ 5000             |\n",
    "| Core dataset     |  <br> - As described in the article (Li et al. 2014), the complexes were grouped into clusters based on sequence similarity (90%). <br> - Clusters with fewer than 5 members were ignored. <br> - 3 Complexes from each cluster were chosen based on the affinity constant k_a, max <br> - Electron density maps were analyzed for the \"Best, Median, and Poorest\" subset of the Core dataset | 285              |\n"
   ]
  },
  {
   "cell_type": "markdown",
   "id": "c9f0af47-5b7e-45e5-950c-c2347c4f88ab",
   "metadata": {},
   "source": [
    "#### Libraries "
   ]
  },
  {
   "cell_type": "code",
   "execution_count": 1,
   "id": "f87e8aac",
   "metadata": {},
   "outputs": [],
   "source": [
    "import rdkit.Chem as Chem\n",
    "from rdkit.Chem import Draw\n",
    "from rdkit.Chem import AllChem\n",
    "import pandas as pd\n",
    "import sys\n",
    "import seaborn as sns\n",
    "import matplotlib.pyplot as plt"
   ]
  },
  {
   "cell_type": "code",
   "execution_count": 2,
   "id": "2e6acbfd-04a7-4857-a39d-b1ff702e89f1",
   "metadata": {},
   "outputs": [
    {
     "name": "stdout",
     "output_type": "stream",
     "text": [
      "Python 3.11.4\n"
     ]
    }
   ],
   "source": [
    "!python --version"
   ]
  },
  {
   "cell_type": "markdown",
   "id": "9a7cadd9-b2c3-4b7f-b130-94d86eef5c0b",
   "metadata": {},
   "source": [
    "#### Functions "
   ]
  },
  {
   "cell_type": "code",
   "execution_count": 3,
   "id": "6fcae4c8-29e2-4874-b953-03211a257712",
   "metadata": {},
   "outputs": [],
   "source": [
    "def create_density_plot(data, column_name):\n",
    "    sns.set(style=\"whitegrid\")\n",
    "    plt.figure(figsize=(6, 3))\n",
    "\n",
    "    sns.kdeplot(data[column_name], fill=True, color='skyblue', label='Density Plot')\n",
    "\n",
    "    plt.title(f'Density Plot of {column_name}')\n",
    "    plt.xlabel(column_name)\n",
    "    plt.ylabel('Density')\n",
    "    plt.legend()\n",
    "\n",
    "    plt.show()"
   ]
  },
  {
   "cell_type": "markdown",
   "id": "7fe35d26-7a43-4d35-8a52-d105b99a5941",
   "metadata": {},
   "source": [
    "Python 3.11.4"
   ]
  },
  {
   "cell_type": "markdown",
   "id": "42be3530",
   "metadata": {},
   "source": [
    "#### Constantes "
   ]
  },
  {
   "cell_type": "code",
   "execution_count": 4,
   "id": "e5fbb810-8f1b-4d20-bb32-7071cd29a9a8",
   "metadata": {},
   "outputs": [],
   "source": [
    "path_to_index = 'PDBbind_meta_dados/refined_dataset/PDBbind_v2020_plain_text_index/index'"
   ]
  },
  {
   "cell_type": "code",
   "execution_count": 5,
   "id": "64970be9-65f7-422c-bbcd-969a03fe9d3d",
   "metadata": {},
   "outputs": [],
   "source": [
    "index = pd.read_csv(f\"{path_to_index}/INDEX_refined_data.2020\", sep=\"\\s+\", comment=\"#\", header=None).drop(columns = [6,5])\n",
    "index.columns = [ \"PDB code\", \"resolution\", \"release year\", \"-logKd/Ki\", \"Kd/Ki\", \"ligand name\"]"
   ]
  },
  {
   "cell_type": "markdown",
   "id": "e0729600",
   "metadata": {},
   "source": [
    "#### Names "
   ]
  },
  {
   "cell_type": "code",
   "execution_count": 6,
   "id": "d66c7e2a",
   "metadata": {},
   "outputs": [
    {
     "name": "stderr",
     "output_type": "stream",
     "text": [
      "/home/lbcb02/anaconda3/envs/master_37/lib/python3.7/site-packages/pandas/util/_decorators.py:311: ParserWarning: Falling back to the 'python' engine because the 'c' engine does not support regex separators (separators > 1 char and different from '\\s+' are interpreted as regex); you can avoid this warning by specifying engine='python'.\n",
      "  return func(*args, **kwargs)\n",
      "/home/lbcb02/anaconda3/envs/master_37/lib/python3.7/site-packages/IPython/core/interactiveshell.py:3457: FutureWarning: The error_bad_lines argument has been deprecated and will be removed in a future version.\n",
      "\n",
      "\n",
      "  exec(code_obj, self.user_global_ns, self.user_ns)\n",
      "Skipping line 3896: Expected 4 fields in line 3896, saw 5. Error could possibly be due to quotes being ignored when a multi-char delimiter is used.\n"
     ]
    }
   ],
   "source": [
    "name = pd.read_csv(f\"{path_to_index}/INDEX_refined_name.2020\", sep=\"  \", comment=\"#\", header=None, error_bad_lines=False, names=[\"PDB code\", \"Release year\", \"Uniprot ID\", \"Protein name\"])"
   ]
  },
  {
   "cell_type": "markdown",
   "id": "02c737aa",
   "metadata": {},
   "source": [
    "#### Merging "
   ]
  },
  {
   "cell_type": "markdown",
   "id": "6d7dd855",
   "metadata": {},
   "source": [
    "###### Metas dados"
   ]
  },
  {
   "cell_type": "code",
   "execution_count": 7,
   "id": "8b05aabb",
   "metadata": {},
   "outputs": [],
   "source": [
    "df = pd.merge(index, name[[\"PDB code\",\"Uniprot ID\",\"Protein name\"]], left_on = \"PDB code\", right_on = \"PDB code\", how = \"inner\")\n"
   ]
  },
  {
   "cell_type": "code",
   "execution_count": 8,
   "id": "5911f5c1",
   "metadata": {},
   "outputs": [
    {
     "data": {
      "text/plain": [
       "(5315, 8)"
      ]
     },
     "execution_count": 8,
     "metadata": {},
     "output_type": "execute_result"
    }
   ],
   "source": [
    "df.shape"
   ]
  },
  {
   "cell_type": "code",
   "execution_count": 9,
   "id": "4a5587cf",
   "metadata": {},
   "outputs": [
    {
     "data": {
      "text/html": [
       "<div>\n",
       "<style scoped>\n",
       "    .dataframe tbody tr th:only-of-type {\n",
       "        vertical-align: middle;\n",
       "    }\n",
       "\n",
       "    .dataframe tbody tr th {\n",
       "        vertical-align: top;\n",
       "    }\n",
       "\n",
       "    .dataframe thead th {\n",
       "        text-align: right;\n",
       "    }\n",
       "</style>\n",
       "<table border=\"1\" class=\"dataframe\">\n",
       "  <thead>\n",
       "    <tr style=\"text-align: right;\">\n",
       "      <th></th>\n",
       "      <th>PDB code</th>\n",
       "      <th>resolution</th>\n",
       "      <th>release year</th>\n",
       "      <th>-logKd/Ki</th>\n",
       "      <th>Kd/Ki</th>\n",
       "      <th>ligand name</th>\n",
       "      <th>Uniprot ID</th>\n",
       "      <th>Protein name</th>\n",
       "    </tr>\n",
       "  </thead>\n",
       "  <tbody>\n",
       "    <tr>\n",
       "      <th>0</th>\n",
       "      <td>2r58</td>\n",
       "      <td>2.00</td>\n",
       "      <td>2007</td>\n",
       "      <td>2.0</td>\n",
       "      <td>Kd=10mM</td>\n",
       "      <td>(MLY)</td>\n",
       "      <td>Q9VHA0</td>\n",
       "      <td>POLYCOMB PROTEIN SCM</td>\n",
       "    </tr>\n",
       "    <tr>\n",
       "      <th>1</th>\n",
       "      <td>3c2f</td>\n",
       "      <td>2.35</td>\n",
       "      <td>2008</td>\n",
       "      <td>2.0</td>\n",
       "      <td>Kd=10.1mM</td>\n",
       "      <td>(PRP)</td>\n",
       "      <td>P43619</td>\n",
       "      <td>NICOTINATE-NUCLEOTIDE PYROPHOSPHORYLASE</td>\n",
       "    </tr>\n",
       "    <tr>\n",
       "      <th>2</th>\n",
       "      <td>3g2y</td>\n",
       "      <td>1.31</td>\n",
       "      <td>2009</td>\n",
       "      <td>2.0</td>\n",
       "      <td>Ki=10mM</td>\n",
       "      <td>(GF4)</td>\n",
       "      <td>Q9L5C8</td>\n",
       "      <td>BETA-LACTAMASE CTX-M-9A</td>\n",
       "    </tr>\n",
       "    <tr>\n",
       "      <th>3</th>\n",
       "      <td>3pce</td>\n",
       "      <td>2.06</td>\n",
       "      <td>1998</td>\n",
       "      <td>2.0</td>\n",
       "      <td>Ki=10mM</td>\n",
       "      <td>(3HP)</td>\n",
       "      <td>P00436</td>\n",
       "      <td>PROTOCATECHUATE 3,4-DIOXYGENASE</td>\n",
       "    </tr>\n",
       "    <tr>\n",
       "      <th>4</th>\n",
       "      <td>4qsu</td>\n",
       "      <td>1.90</td>\n",
       "      <td>2014</td>\n",
       "      <td>2.0</td>\n",
       "      <td>Kd=10mM</td>\n",
       "      <td>(TDR)</td>\n",
       "      <td>Q6PL18</td>\n",
       "      <td>ATPASE FAMILY AAA DOMAIN-CONTAINING PROTEIN 2</td>\n",
       "    </tr>\n",
       "  </tbody>\n",
       "</table>\n",
       "</div>"
      ],
      "text/plain": [
       "  PDB code  resolution  release year  -logKd/Ki      Kd/Ki ligand name  \\\n",
       "0     2r58        2.00          2007        2.0    Kd=10mM       (MLY)   \n",
       "1     3c2f        2.35          2008        2.0  Kd=10.1mM       (PRP)   \n",
       "2     3g2y        1.31          2009        2.0    Ki=10mM       (GF4)   \n",
       "3     3pce        2.06          1998        2.0    Ki=10mM       (3HP)   \n",
       "4     4qsu        1.90          2014        2.0    Kd=10mM       (TDR)   \n",
       "\n",
       "  Uniprot ID                                   Protein name  \n",
       "0     Q9VHA0                           POLYCOMB PROTEIN SCM  \n",
       "1     P43619        NICOTINATE-NUCLEOTIDE PYROPHOSPHORYLASE  \n",
       "2     Q9L5C8                        BETA-LACTAMASE CTX-M-9A  \n",
       "3     P00436                PROTOCATECHUATE 3,4-DIOXYGENASE  \n",
       "4     Q6PL18  ATPASE FAMILY AAA DOMAIN-CONTAINING PROTEIN 2  "
      ]
     },
     "execution_count": 9,
     "metadata": {},
     "output_type": "execute_result"
    }
   ],
   "source": [
    "df.head()"
   ]
  },
  {
   "cell_type": "code",
   "execution_count": 10,
   "id": "18eba196-b3b2-4828-bb29-92f523774b2e",
   "metadata": {},
   "outputs": [
    {
     "data": {
      "text/plain": [
       "HIV-1 PROTEASE                      303\n",
       "CARBONIC ANHYDRASE 2                291\n",
       "HEAT SHOCK PROTEIN HSP90-ALPHA       94\n",
       "BROMODOMAIN-CONTAINING PROTEIN 4     69\n",
       "TRYPSIN                              64\n",
       "Name: Protein name, dtype: int64"
      ]
     },
     "execution_count": 10,
     "metadata": {},
     "output_type": "execute_result"
    }
   ],
   "source": [
    "df['Protein name'].value_counts().head(5)"
   ]
  },
  {
   "cell_type": "code",
   "execution_count": 11,
   "id": "7995ebd3-e439-46c2-8757-526f2ecfce77",
   "metadata": {},
   "outputs": [
    {
     "data": {
      "text/html": [
       "<div>\n",
       "<style scoped>\n",
       "    .dataframe tbody tr th:only-of-type {\n",
       "        vertical-align: middle;\n",
       "    }\n",
       "\n",
       "    .dataframe tbody tr th {\n",
       "        vertical-align: top;\n",
       "    }\n",
       "\n",
       "    .dataframe thead th {\n",
       "        text-align: right;\n",
       "    }\n",
       "</style>\n",
       "<table border=\"1\" class=\"dataframe\">\n",
       "  <thead>\n",
       "    <tr style=\"text-align: right;\">\n",
       "      <th></th>\n",
       "      <th>PDB code</th>\n",
       "      <th>resolution</th>\n",
       "      <th>release year</th>\n",
       "      <th>-logKd/Ki</th>\n",
       "      <th>Kd/Ki</th>\n",
       "      <th>ligand name</th>\n",
       "      <th>Uniprot ID</th>\n",
       "      <th>Protein name</th>\n",
       "    </tr>\n",
       "  </thead>\n",
       "  <tbody>\n",
       "    <tr>\n",
       "      <th>1376</th>\n",
       "      <td>2vxn</td>\n",
       "      <td>0.82</td>\n",
       "      <td>2009</td>\n",
       "      <td>5.0</td>\n",
       "      <td>Kd=10uM</td>\n",
       "      <td>(PGH)</td>\n",
       "      <td>P48499</td>\n",
       "      <td>TRIOSEPHOSPHATE ISOMERASE</td>\n",
       "    </tr>\n",
       "  </tbody>\n",
       "</table>\n",
       "</div>"
      ],
      "text/plain": [
       "     PDB code  resolution  release year  -logKd/Ki    Kd/Ki ligand name  \\\n",
       "1376     2vxn        0.82          2009        5.0  Kd=10uM       (PGH)   \n",
       "\n",
       "     Uniprot ID               Protein name  \n",
       "1376     P48499  TRIOSEPHOSPHATE ISOMERASE  "
      ]
     },
     "execution_count": 11,
     "metadata": {},
     "output_type": "execute_result"
    }
   ],
   "source": [
    "df[df['PDB code'] == \"2vxn\"]"
   ]
  },
  {
   "cell_type": "code",
   "execution_count": 12,
   "id": "65abcd1f-98a7-4ea5-9341-a0fca24a71af",
   "metadata": {},
   "outputs": [],
   "source": [
    "import os"
   ]
  },
  {
   "cell_type": "code",
   "execution_count": 13,
   "id": "ca43877c-9b4f-48fa-868a-fa7732db8c76",
   "metadata": {},
   "outputs": [],
   "source": [
    "my_list = os.listdir('/home/lbcb02/Workspace/General data/refined-set')"
   ]
  },
  {
   "cell_type": "code",
   "execution_count": 14,
   "id": "a8efee31-b904-49e2-b376-f6882cc59e5b",
   "metadata": {
    "scrolled": true
   },
   "outputs": [
    {
     "data": {
      "text/plain": [
       "5318"
      ]
     },
     "execution_count": 14,
     "metadata": {},
     "output_type": "execute_result"
    }
   ],
   "source": [
    "len(my_list)"
   ]
  },
  {
   "cell_type": "markdown",
   "id": "cc3b4d78-1972-467e-8eb5-922a5094eb94",
   "metadata": {},
   "source": [
    "#### Completing the missing 'Kd'"
   ]
  },
  {
   "cell_type": "code",
   "execution_count": 15,
   "id": "8b937cf7-450d-457f-9f83-c4d4ea878947",
   "metadata": {},
   "outputs": [],
   "source": [
    "df['kd'] = df['Kd/Ki'].apply(lambda x: float(x.split('=')[1][:-2]) if 'Kd' in x else None)\n",
    "df['ki'] = df['Kd/Ki'].apply(lambda x: float(x.split('=')[1][:-2]) if 'Ki' in x else None)\n",
    "\n",
    "# Completing the missing 'Kd' values based on '-logKd/Ki' considering units\n",
    "df['Kd'] = df.apply(lambda row: (10 ** (-row['-logKd/Ki'])) * row['ki'] if pd.isna(row['kd']) else row['kd'], axis=1)\n",
    "\n",
    "# Multiply 'Kd' by the proper unit\n",
    "df['Kd'] = df.apply(lambda row: row['Kd'] * 1e-3 if 'mM' in row['Kd/Ki'] else row['Kd'], axis=1)\n",
    "df['Kd'] = df.apply(lambda row: row['Kd'] * 1e-6 if 'uM' in row['Kd/Ki'] else row['Kd'], axis=1)\n",
    "df['Kd'] = df.apply(lambda row: row['Kd'] * 1e-9 if 'nM' in row['Kd/Ki'] else row['Kd'], axis=1)"
   ]
  },
  {
   "cell_type": "markdown",
   "id": "4b3a5643-b8d2-41a5-99b9-6bfd41d5caa0",
   "metadata": {},
   "source": [
    "#### Dropping redundancy "
   ]
  },
  {
   "cell_type": "code",
   "execution_count": 16,
   "id": "6036dee4-2526-4d47-8f35-384c68c5b455",
   "metadata": {},
   "outputs": [],
   "source": [
    "df = df.sort_values(['resolution','Kd'])"
   ]
  },
  {
   "cell_type": "code",
   "execution_count": 17,
   "id": "9d12ab81-c8ff-4535-876d-91863dc3adc5",
   "metadata": {},
   "outputs": [],
   "source": [
    "df['complex_code'] = df['Protein name'] + \"_\" + df['ligand name']"
   ]
  },
  {
   "cell_type": "code",
   "execution_count": 18,
   "id": "11eb22f7-6d14-4a63-b563-7c7dc1074689",
   "metadata": {},
   "outputs": [],
   "source": [
    "df = df.drop_duplicates(subset = 'complex_code', keep = \"first\")"
   ]
  },
  {
   "cell_type": "code",
   "execution_count": 19,
   "id": "b6a51377-6820-4694-8ef3-90a57eb58811",
   "metadata": {
    "scrolled": true
   },
   "outputs": [
    {
     "data": {
      "text/plain": [
       "4790"
      ]
     },
     "execution_count": 19,
     "metadata": {},
     "output_type": "execute_result"
    }
   ],
   "source": [
    "df['complex_code'].nunique()"
   ]
  },
  {
   "cell_type": "code",
   "execution_count": 20,
   "id": "e4347d27-3f78-4ee4-906d-246acd36b374",
   "metadata": {
    "scrolled": true
   },
   "outputs": [
    {
     "data": {
      "text/plain": [
       "CARBONIC ANHYDRASE 2                               263\n",
       "HIV-1 PROTEASE                                     182\n",
       "HEAT SHOCK PROTEIN HSP90-ALPHA                      87\n",
       "BROMODOMAIN-CONTAINING PROTEIN 4                    68\n",
       "TRYPSIN                                             56\n",
       "                                                  ... \n",
       "INORGANIC POLYPHOSPHATE/ATP-NAD KINASE               1\n",
       "ANTIBODY FAB FRAGMENT, HEAVY CHAIN                   1\n",
       "ATP-DEPENDENT CLP PROTEASE ADAPTER PROTEIN CLPS      1\n",
       "GLYCOLIPID TRANSFER PROTEIN                          1\n",
       "LECTIN CEL-IV, C-TYPE                                1\n",
       "Name: Protein name, Length: 1411, dtype: int64"
      ]
     },
     "execution_count": 20,
     "metadata": {},
     "output_type": "execute_result"
    }
   ],
   "source": [
    "df['Protein name'].value_counts()"
   ]
  },
  {
   "cell_type": "code",
   "execution_count": 21,
   "id": "4d8f4353-1377-40f5-aebd-909f4aa7461d",
   "metadata": {},
   "outputs": [
    {
     "data": {
      "text/plain": [
       "4790"
      ]
     },
     "execution_count": 21,
     "metadata": {},
     "output_type": "execute_result"
    }
   ],
   "source": [
    "df['PDB code'].nunique()"
   ]
  },
  {
   "cell_type": "code",
   "execution_count": 22,
   "id": "35be56be-ecbf-4eed-b48e-1e668d113477",
   "metadata": {},
   "outputs": [],
   "source": [
    "df[['PDB code','Protein name']].to_csv('/home/lbcb02/Workspace/BindRanker/BindRanker/Datahub/Data/depara_pdb_protein_name.csv', index = False)"
   ]
  },
  {
   "cell_type": "markdown",
   "id": "8609813d-e3b6-4de7-b273-d87b9cc2a2c7",
   "metadata": {},
   "source": [
    "#### Quandos complexos temos para o modelo? "
   ]
  },
  {
   "cell_type": "code",
   "execution_count": 23,
   "id": "ca095ab9-ed78-4f48-9b2d-59b536bbcd01",
   "metadata": {},
   "outputs": [
    {
     "data": {
      "text/plain": [
       "(4790, 12)"
      ]
     },
     "execution_count": 23,
     "metadata": {},
     "output_type": "execute_result"
    }
   ],
   "source": [
    "df.shape"
   ]
  },
  {
   "cell_type": "code",
   "execution_count": 24,
   "id": "ac01a707-d656-48a0-be5b-229679c4efb2",
   "metadata": {},
   "outputs": [
    {
     "data": {
      "text/plain": [
       "4790"
      ]
     },
     "execution_count": 24,
     "metadata": {},
     "output_type": "execute_result"
    }
   ],
   "source": [
    "df['complex_code'].nunique()"
   ]
  },
  {
   "cell_type": "code",
   "execution_count": 25,
   "id": "c24f7a49-ad74-41a9-a36a-563a96bf23d9",
   "metadata": {},
   "outputs": [
    {
     "data": {
      "text/plain": [
       "CARBONIC ANHYDRASE 2                263\n",
       "HIV-1 PROTEASE                      182\n",
       "HEAT SHOCK PROTEIN HSP90-ALPHA       87\n",
       "BROMODOMAIN-CONTAINING PROTEIN 4     68\n",
       "TRYPSIN                              56\n",
       "Name: Protein name, dtype: int64"
      ]
     },
     "execution_count": 25,
     "metadata": {},
     "output_type": "execute_result"
    }
   ],
   "source": [
    "df['Protein name'].value_counts().head()"
   ]
  },
  {
   "cell_type": "code",
   "execution_count": 26,
   "id": "0d34d4fa-953c-4086-8989-4e269725fd56",
   "metadata": {},
   "outputs": [],
   "source": [
    "name = \"pdbs_refined_set.csv\""
   ]
  },
  {
   "cell_type": "code",
   "execution_count": 27,
   "id": "9edb03e1-28c5-4523-a49d-5801a919d2f7",
   "metadata": {},
   "outputs": [
    {
     "data": {
      "text/html": [
       "<div>\n",
       "<style scoped>\n",
       "    .dataframe tbody tr th:only-of-type {\n",
       "        vertical-align: middle;\n",
       "    }\n",
       "\n",
       "    .dataframe tbody tr th {\n",
       "        vertical-align: top;\n",
       "    }\n",
       "\n",
       "    .dataframe thead th {\n",
       "        text-align: right;\n",
       "    }\n",
       "</style>\n",
       "<table border=\"1\" class=\"dataframe\">\n",
       "  <thead>\n",
       "    <tr style=\"text-align: right;\">\n",
       "      <th></th>\n",
       "      <th>PDB code</th>\n",
       "      <th>resolution</th>\n",
       "      <th>release year</th>\n",
       "      <th>-logKd/Ki</th>\n",
       "      <th>Kd/Ki</th>\n",
       "      <th>ligand name</th>\n",
       "      <th>Uniprot ID</th>\n",
       "      <th>Protein name</th>\n",
       "      <th>kd</th>\n",
       "      <th>ki</th>\n",
       "      <th>Kd</th>\n",
       "      <th>complex_code</th>\n",
       "    </tr>\n",
       "  </thead>\n",
       "  <tbody>\n",
       "    <tr>\n",
       "      <th>76</th>\n",
       "      <td>5mn1</td>\n",
       "      <td>0.79</td>\n",
       "      <td>2017</td>\n",
       "      <td>2.48</td>\n",
       "      <td>Kd=3.3mM</td>\n",
       "      <td>(2AP)</td>\n",
       "      <td>P00760</td>\n",
       "      <td>TRYPSIN</td>\n",
       "      <td>3.30</td>\n",
       "      <td>NaN</td>\n",
       "      <td>3.300000e-03</td>\n",
       "      <td>TRYPSIN_(2AP)</td>\n",
       "    </tr>\n",
       "    <tr>\n",
       "      <th>1376</th>\n",
       "      <td>2vxn</td>\n",
       "      <td>0.82</td>\n",
       "      <td>2009</td>\n",
       "      <td>5.00</td>\n",
       "      <td>Kd=10uM</td>\n",
       "      <td>(PGH)</td>\n",
       "      <td>P48499</td>\n",
       "      <td>TRIOSEPHOSPHATE ISOMERASE</td>\n",
       "      <td>10.00</td>\n",
       "      <td>NaN</td>\n",
       "      <td>1.000000e-05</td>\n",
       "      <td>TRIOSEPHOSPHATE ISOMERASE_(PGH)</td>\n",
       "    </tr>\n",
       "    <tr>\n",
       "      <th>4537</th>\n",
       "      <td>2hs1</td>\n",
       "      <td>0.84</td>\n",
       "      <td>2006</td>\n",
       "      <td>8.48</td>\n",
       "      <td>Ki=3.3nM</td>\n",
       "      <td>(017)</td>\n",
       "      <td>P03368</td>\n",
       "      <td>HIV-1 PROTEASE</td>\n",
       "      <td>NaN</td>\n",
       "      <td>3.3</td>\n",
       "      <td>1.092733e-17</td>\n",
       "      <td>HIV-1 PROTEASE_(017)</td>\n",
       "    </tr>\n",
       "    <tr>\n",
       "      <th>2379</th>\n",
       "      <td>4ayp</td>\n",
       "      <td>0.85</td>\n",
       "      <td>2013</td>\n",
       "      <td>6.12</td>\n",
       "      <td>Kd=755nM</td>\n",
       "      <td>(SMD)</td>\n",
       "      <td>B0SWV2</td>\n",
       "      <td>MANNOSYL-OLIGOSACCHARIDE 1,2-ALPHA-MANNOSIDASE</td>\n",
       "      <td>755.00</td>\n",
       "      <td>NaN</td>\n",
       "      <td>7.550000e-07</td>\n",
       "      <td>MANNOSYL-OLIGOSACCHARIDE 1,2-ALPHA-MANNOSIDASE...</td>\n",
       "    </tr>\n",
       "    <tr>\n",
       "      <th>1883</th>\n",
       "      <td>4tkb</td>\n",
       "      <td>0.86</td>\n",
       "      <td>2015</td>\n",
       "      <td>5.59</td>\n",
       "      <td>Kd=2.56uM</td>\n",
       "      <td>(DAO)</td>\n",
       "      <td>P05413</td>\n",
       "      <td>FATTY ACID-BINDING PROTEIN</td>\n",
       "      <td>2.56</td>\n",
       "      <td>NaN</td>\n",
       "      <td>2.560000e-06</td>\n",
       "      <td>FATTY ACID-BINDING PROTEIN_(DAO)</td>\n",
       "    </tr>\n",
       "  </tbody>\n",
       "</table>\n",
       "</div>"
      ],
      "text/plain": [
       "     PDB code  resolution  release year  -logKd/Ki      Kd/Ki ligand name  \\\n",
       "76       5mn1        0.79          2017       2.48   Kd=3.3mM       (2AP)   \n",
       "1376     2vxn        0.82          2009       5.00    Kd=10uM       (PGH)   \n",
       "4537     2hs1        0.84          2006       8.48   Ki=3.3nM       (017)   \n",
       "2379     4ayp        0.85          2013       6.12   Kd=755nM       (SMD)   \n",
       "1883     4tkb        0.86          2015       5.59  Kd=2.56uM       (DAO)   \n",
       "\n",
       "     Uniprot ID                                    Protein name      kd   ki  \\\n",
       "76       P00760                                         TRYPSIN    3.30  NaN   \n",
       "1376     P48499                       TRIOSEPHOSPHATE ISOMERASE   10.00  NaN   \n",
       "4537     P03368                                  HIV-1 PROTEASE     NaN  3.3   \n",
       "2379     B0SWV2  MANNOSYL-OLIGOSACCHARIDE 1,2-ALPHA-MANNOSIDASE  755.00  NaN   \n",
       "1883     P05413                      FATTY ACID-BINDING PROTEIN    2.56  NaN   \n",
       "\n",
       "                Kd                                       complex_code  \n",
       "76    3.300000e-03                                      TRYPSIN_(2AP)  \n",
       "1376  1.000000e-05                    TRIOSEPHOSPHATE ISOMERASE_(PGH)  \n",
       "4537  1.092733e-17                               HIV-1 PROTEASE_(017)  \n",
       "2379  7.550000e-07  MANNOSYL-OLIGOSACCHARIDE 1,2-ALPHA-MANNOSIDASE...  \n",
       "1883  2.560000e-06                   FATTY ACID-BINDING PROTEIN_(DAO)  "
      ]
     },
     "execution_count": 27,
     "metadata": {},
     "output_type": "execute_result"
    }
   ],
   "source": [
    "df.head()"
   ]
  },
  {
   "cell_type": "code",
   "execution_count": 28,
   "id": "decf0724-4b1a-4717-b841-41391b483159",
   "metadata": {},
   "outputs": [],
   "source": [
    "df['PDB code'].to_csv(f\"../Datahub/{name}\", index =False)"
   ]
  },
  {
   "cell_type": "code",
   "execution_count": 33,
   "id": "b3c4a857-16e5-4c69-89eb-9caf5352504e",
   "metadata": {},
   "outputs": [],
   "source": [
    "pdb = pd.read_csv(f\"../Datahub/{name}\")"
   ]
  },
  {
   "cell_type": "code",
   "execution_count": 40,
   "id": "bf89c347-de4e-4733-9039-406d72230fb8",
   "metadata": {},
   "outputs": [
    {
     "data": {
      "text/plain": [
       "False"
      ]
     },
     "execution_count": 40,
     "metadata": {},
     "output_type": "execute_result"
    }
   ],
   "source": [
    "'3mv0' in list(pdb['PDB code'])"
   ]
  },
  {
   "cell_type": "code",
   "execution_count": 29,
   "id": "fe692544-5e57-4887-ac80-f02aff8ca4cf",
   "metadata": {},
   "outputs": [],
   "source": [
    "dataset = df.groupby(['Protein name'])['ligand name'].value_counts().reset_index(name='count').sort_values(['count'])"
   ]
  },
  {
   "cell_type": "code",
   "execution_count": 30,
   "id": "0ce157dd-6238-4cbb-bca9-9666ca19810d",
   "metadata": {},
   "outputs": [
    {
     "data": {
      "text/plain": [
       "(0, 3)"
      ]
     },
     "execution_count": 30,
     "metadata": {},
     "output_type": "execute_result"
    }
   ],
   "source": [
    "dataset[dataset['count'] > 1].shape"
   ]
  },
  {
   "cell_type": "markdown",
   "id": "be89013d-4f01-4155-ac8e-040a5dbcd448",
   "metadata": {},
   "source": [
    "**274 Complexos com mais de uma repetição!** "
   ]
  },
  {
   "cell_type": "code",
   "execution_count": 31,
   "id": "0e68f331-308c-4aa3-ad42-73d05ac7285c",
   "metadata": {},
   "outputs": [
    {
     "data": {
      "text/html": [
       "<div>\n",
       "<style scoped>\n",
       "    .dataframe tbody tr th:only-of-type {\n",
       "        vertical-align: middle;\n",
       "    }\n",
       "\n",
       "    .dataframe tbody tr th {\n",
       "        vertical-align: top;\n",
       "    }\n",
       "\n",
       "    .dataframe thead th {\n",
       "        text-align: right;\n",
       "    }\n",
       "</style>\n",
       "<table border=\"1\" class=\"dataframe\">\n",
       "  <thead>\n",
       "    <tr style=\"text-align: right;\">\n",
       "      <th></th>\n",
       "      <th>Protein name</th>\n",
       "      <th>ligand name</th>\n",
       "      <th>count</th>\n",
       "    </tr>\n",
       "  </thead>\n",
       "  <tbody>\n",
       "  </tbody>\n",
       "</table>\n",
       "</div>"
      ],
      "text/plain": [
       "Empty DataFrame\n",
       "Columns: [Protein name, ligand name, count]\n",
       "Index: []"
      ]
     },
     "execution_count": 31,
     "metadata": {},
     "output_type": "execute_result"
    }
   ],
   "source": [
    "dataset[dataset['count'] > 1].head()"
   ]
  },
  {
   "cell_type": "code",
   "execution_count": 32,
   "id": "8a6d3750-6ff2-4a14-b2f8-8add38f20719",
   "metadata": {},
   "outputs": [],
   "source": [
    "#df.groupby(\"Protein name\")['resolution'].value_counts()\n",
    "#df.groupby(\"Protein name\")['-logKd/Ki'].value_counts().sort_values(ascending = False).head()\n",
    "#df.groupby(\"PDB code\")['ligand name'].value_counts().sort_values(0, ascending = False).head()"
   ]
  },
  {
   "cell_type": "markdown",
   "id": "a72d4184-d6eb-4449-bc84-43714925d0af",
   "metadata": {},
   "source": [
    "#### Metadata"
   ]
  },
  {
   "cell_type": "markdown",
   "id": "4b607bfa-6f3e-4320-babb-c1c6df4ff8d7",
   "metadata": {},
   "source": [
    " \"-log(Kd/Ki)\" refers to the negative logarithm of the ratio of dissociation constant (Kd) to the inhibition constant (Ki). \n",
    " * Kd represents the equilibrium dissociation constant, which quantifies the strength of the interaction between a ligand and its target by measuring the concentration of ligand required to achieve 50% dissociation from the target. \n",
    " * Ki, on the other hand, represents the inhibition constant, which quantifies the ability of a ligand to inhibit the activity of the target.\n",
    "\n",
    "The ratio Kd/Ki is a measure of the binding affinity. \n",
    "*  __A lower Kd/Ki value indicates a stronger binding affinity__, implying that the ligand has a higher likelihood of effectively interacting with the target and modulating its function.\n",
    "* __The negative logarithm of this ratio, -log(Kd/Ki), is often used to express the binding affinity on a logarithmic scale, where a higher value indicates a stronger binding.__\n"
   ]
  },
  {
   "cell_type": "markdown",
   "id": "34d9331e",
   "metadata": {},
   "source": [
    "#### Core dataset"
   ]
  },
  {
   "cell_type": "code",
   "execution_count": 40,
   "id": "71d50a87-11ec-446b-9de8-413a508ce615",
   "metadata": {},
   "outputs": [],
   "source": [
    "comp = pd.read_csv(\"complexes.csv\")[[\"PDB\",\"Missing data | Pocket\",\"Metals | Pocket\"]]\n",
    "comp[\"Missing data | Pocket\"] = comp[\"Missing data | Pocket\"].str.strip()\n",
    "comp['PDB'] = comp['PDB'].astype(\"str\")"
   ]
  },
  {
   "cell_type": "code",
   "execution_count": 41,
   "id": "3a7d3a5b",
   "metadata": {},
   "outputs": [
    {
     "data": {
      "text/html": [
       "<div>\n",
       "<style scoped>\n",
       "    .dataframe tbody tr th:only-of-type {\n",
       "        vertical-align: middle;\n",
       "    }\n",
       "\n",
       "    .dataframe tbody tr th {\n",
       "        vertical-align: top;\n",
       "    }\n",
       "\n",
       "    .dataframe thead th {\n",
       "        text-align: right;\n",
       "    }\n",
       "</style>\n",
       "<table border=\"1\" class=\"dataframe\">\n",
       "  <thead>\n",
       "    <tr style=\"text-align: right;\">\n",
       "      <th></th>\n",
       "      <th>PDB</th>\n",
       "      <th>Missing data | Pocket</th>\n",
       "      <th>Metals | Pocket</th>\n",
       "    </tr>\n",
       "  </thead>\n",
       "  <tbody>\n",
       "    <tr>\n",
       "      <th>0</th>\n",
       "      <td>1a30</td>\n",
       "      <td>Não</td>\n",
       "      <td>NaN</td>\n",
       "    </tr>\n",
       "    <tr>\n",
       "      <th>1</th>\n",
       "      <td>1bcu</td>\n",
       "      <td>Sim</td>\n",
       "      <td>NaN</td>\n",
       "    </tr>\n",
       "  </tbody>\n",
       "</table>\n",
       "</div>"
      ],
      "text/plain": [
       "    PDB Missing data | Pocket Metals | Pocket\n",
       "0  1a30                   Não             NaN\n",
       "1  1bcu                   Sim             NaN"
      ]
     },
     "execution_count": 41,
     "metadata": {},
     "output_type": "execute_result"
    }
   ],
   "source": [
    "comp.head(2)"
   ]
  },
  {
   "cell_type": "code",
   "execution_count": 42,
   "id": "54a7b9fb-c356-474d-b1ee-b477a5b77846",
   "metadata": {},
   "outputs": [
    {
     "data": {
      "text/plain": [
       "285"
      ]
     },
     "execution_count": 42,
     "metadata": {},
     "output_type": "execute_result"
    }
   ],
   "source": [
    "comp['PDB'].nunique()"
   ]
  },
  {
   "cell_type": "code",
   "execution_count": null,
   "id": "c1409e33-0030-4498-aa64-ce02b34bdafb",
   "metadata": {},
   "outputs": [],
   "source": []
  },
  {
   "cell_type": "markdown",
   "id": "fd805ffe-0631-4d7a-8cc6-9daf19650851",
   "metadata": {},
   "source": [
    "#### General info "
   ]
  },
  {
   "cell_type": "code",
   "execution_count": 1,
   "id": "ac20d510-e56e-4dac-8119-c847c821c2aa",
   "metadata": {},
   "outputs": [],
   "source": [
    "#comp[\"Missing data | Pocket\"].value_counts()"
   ]
  },
  {
   "cell_type": "code",
   "execution_count": 2,
   "id": "2e8bc07d-f90c-4a23-a36f-19656caba76a",
   "metadata": {},
   "outputs": [],
   "source": [
    "#comp[\"Metals | Pocket\"].value_counts(dropna = False)"
   ]
  },
  {
   "cell_type": "markdown",
   "id": "3c4109e9",
   "metadata": {},
   "source": [
    "#### Merging everthing "
   ]
  },
  {
   "cell_type": "markdown",
   "id": "ce22b717-d1f9-4409-8479-0ddad589e6d8",
   "metadata": {},
   "source": [
    "<font color = yellow> Warning! 23 pdbs without info! "
   ]
  },
  {
   "cell_type": "code",
   "execution_count": 45,
   "id": "6f904024-8217-470f-9e01-9a23e6937f04",
   "metadata": {},
   "outputs": [
    {
     "data": {
      "text/plain": [
       "27"
      ]
     },
     "execution_count": 45,
     "metadata": {},
     "output_type": "execute_result"
    }
   ],
   "source": [
    "len(set(comp[\"PDB\"]) - set(df[\"PDB code\"]))"
   ]
  },
  {
   "cell_type": "code",
   "execution_count": 46,
   "id": "a6498df1",
   "metadata": {},
   "outputs": [],
   "source": [
    "data = pd.merge(df, comp, left_on = \"PDB code\", right_on = \"PDB\", how = \"right\")"
   ]
  },
  {
   "cell_type": "code",
   "execution_count": 47,
   "id": "ce0d6ba2-8fc3-4daf-9042-c80f9c072d09",
   "metadata": {},
   "outputs": [
    {
     "data": {
      "text/plain": [
       "285"
      ]
     },
     "execution_count": 47,
     "metadata": {},
     "output_type": "execute_result"
    }
   ],
   "source": [
    "data['PDB'].nunique()"
   ]
  },
  {
   "cell_type": "code",
   "execution_count": 49,
   "id": "124c3282-7a3d-46ba-bded-62f392bef713",
   "metadata": {},
   "outputs": [
    {
     "data": {
      "text/plain": [
       "HIV-1 PROTEASE                                      5\n",
       "RNA-DIRECTED RNA POLYMERASE                         5\n",
       "ENDOTHIAPEPSIN                                      5\n",
       "BETA-SECRETASE 1                                    5\n",
       "THROMBIN                                            5\n",
       "ACETYLCHOLINE RECEPTOR                              5\n",
       "SERINE/THREONINE-PROTEIN KINASE 6                   5\n",
       "ALPHA-L-FUCOSIDASE                                  5\n",
       "3-DEHYDROQUINATE DEHYDRATASE                        5\n",
       "DEHYDROSQUALENE SYNTHASE                            5\n",
       "HIV-1 INTEGRASE                                     5\n",
       "PANTOTHENATE SYNTHETASE                             5\n",
       "PEROXISOME PROLIFERATOR-ACTIVATED RECEPTOR GAMMA    5\n",
       "MACROPHAGE METALLOELASTASE (MMP-12)                 5\n",
       "TANKYRASE-2                                         5\n",
       "BETA-LACTOGLOBULIN                                  5\n",
       "BROMODOMAIN-CONTAINING PROTEIN 4                    5\n",
       "ACETYLCHOLINE-BINDING PROTEIN                       5\n",
       "CGMP 3',5'-CYCLIC PHOSPHODIESTERASE                 5\n",
       "CELLULAR TUMOR ANTIGEN P53                          5\n",
       "TRANSCRIPTION ELONGATION FACTOR B POLYPEPTIDE 2     5\n",
       "TYROSINE-PROTEIN KINASE JAK1                        5\n",
       "BETA-LACTAMASE                                      5\n",
       "O-GLCNACASE BT_4395                                 5\n",
       "HEAT SHOCK PROTEIN HSP82                            5\n",
       "THERMOLYSIN                                         5\n",
       "PROTEIN-TYROSINE PHOSPHATASE 1B                     5\n",
       "ACETYLCHOLINESTERASE                                5\n",
       "TRYPSIN BETA                                        5\n",
       "COAGULATION FACTOR XA                               5\n",
       "MTA/SAH NUCLEOSIDASE                                5\n",
       "SERINE/THREONINE-PROTEIN KINASE CHK1                5\n",
       "BETA-GLUCOSIDASE A                                  5\n",
       "ALPHA-MANNOSIDASE II                                5\n",
       "CAMP-DEPENDENT PROTEIN KINASE                       5\n",
       "TYROSINE-PROTEIN KINASE JAK2                        5\n",
       "ESTROGEN RECEPTOR                                   5\n",
       "QUEUINE TRNA-RIBOSYLTRANSFERASE                     5\n",
       "SERINE/THREONINE-PROTEIN KINASE PIM-1               5\n",
       "ANDROGEN RECEPTOR                                   5\n",
       "HEAT SHOCK PROTEIN HSP90-ALPHA                      5\n",
       "MITOGEN-ACTIVATED PROTEIN KINASE 14                 4\n",
       "GLUTAMATE RECEPTOR, IONOTROPIC KAINATE 1            4\n",
       "TYROSINE-PROTEIN KINASE ABL1                        4\n",
       "COAGULATION FACTOR XI                               4\n",
       "ANTHRANILATE PHOSPHORIBOSYLTRANSFERASE              4\n",
       "TYROSINE-PROTEIN KINASE ITK/TSK                     4\n",
       "CATECHOL O-METHYLTRANSFERASE                        4\n",
       "BETA-LACTAMASE CTX-M-9A                             4\n",
       "TRANSPORTER                                         4\n",
       "RIBONUCLEASE A                                      3\n",
       "UROKINASE-TYPE PLASMINOGEN ACTIVATOR                3\n",
       "CARBONIC ANHYDRASE 2                                3\n",
       "CELL DIVISION PROTEIN KINASE 2                      3\n",
       "CHITINASE A                                         2\n",
       "GLUTAMATE RECEPTOR 2                                2\n",
       "GLYCOGEN PHOSPHORYLASE                              1\n",
       "Name: Protein name, dtype: int64"
      ]
     },
     "execution_count": 49,
     "metadata": {},
     "output_type": "execute_result"
    }
   ],
   "source": [
    "data['Protein name'].value_counts()"
   ]
  },
  {
   "cell_type": "markdown",
   "id": "636aa602-36ef-434f-bffd-cc774cf0197f",
   "metadata": {},
   "source": [
    "#### Saving data "
   ]
  },
  {
   "cell_type": "code",
   "execution_count": 68,
   "id": "35f1fc8f-bc6c-4854-bb99-77566c8e3c8e",
   "metadata": {},
   "outputs": [],
   "source": [
    "name = \"coreset_all_285.csv\""
   ]
  },
  {
   "cell_type": "code",
   "execution_count": 107,
   "id": "e0951c3f-09a9-4aea-9ed8-7ac2a0608378",
   "metadata": {},
   "outputs": [],
   "source": [
    "data.to_csv(f\"../Datahub/{name}\")"
   ]
  },
  {
   "cell_type": "code",
   "execution_count": 50,
   "id": "de67e29f-03a2-4615-8f63-97a69b624e1d",
   "metadata": {},
   "outputs": [
    {
     "data": {
      "text/html": [
       "<div>\n",
       "<style scoped>\n",
       "    .dataframe tbody tr th:only-of-type {\n",
       "        vertical-align: middle;\n",
       "    }\n",
       "\n",
       "    .dataframe tbody tr th {\n",
       "        vertical-align: top;\n",
       "    }\n",
       "\n",
       "    .dataframe thead th {\n",
       "        text-align: right;\n",
       "    }\n",
       "</style>\n",
       "<table border=\"1\" class=\"dataframe\">\n",
       "  <thead>\n",
       "    <tr style=\"text-align: right;\">\n",
       "      <th></th>\n",
       "      <th>Protein name</th>\n",
       "      <th>ligand name</th>\n",
       "      <th>count</th>\n",
       "    </tr>\n",
       "  </thead>\n",
       "  <tbody>\n",
       "    <tr>\n",
       "      <th>0</th>\n",
       "      <td>3-DEHYDROQUINATE DEHYDRATASE</td>\n",
       "      <td>(CA2)</td>\n",
       "      <td>1</td>\n",
       "    </tr>\n",
       "    <tr>\n",
       "      <th>1</th>\n",
       "      <td>3-DEHYDROQUINATE DEHYDRATASE</td>\n",
       "      <td>(FA1)</td>\n",
       "      <td>1</td>\n",
       "    </tr>\n",
       "    <tr>\n",
       "      <th>2</th>\n",
       "      <td>3-DEHYDROQUINATE DEHYDRATASE</td>\n",
       "      <td>(RJP)</td>\n",
       "      <td>1</td>\n",
       "    </tr>\n",
       "    <tr>\n",
       "      <th>3</th>\n",
       "      <td>3-DEHYDROQUINATE DEHYDRATASE</td>\n",
       "      <td>(XH2)</td>\n",
       "      <td>1</td>\n",
       "    </tr>\n",
       "    <tr>\n",
       "      <th>4</th>\n",
       "      <td>3-DEHYDROQUINATE DEHYDRATASE</td>\n",
       "      <td>(XNW)</td>\n",
       "      <td>1</td>\n",
       "    </tr>\n",
       "  </tbody>\n",
       "</table>\n",
       "</div>"
      ],
      "text/plain": [
       "                   Protein name ligand name  count\n",
       "0  3-DEHYDROQUINATE DEHYDRATASE       (CA2)      1\n",
       "1  3-DEHYDROQUINATE DEHYDRATASE       (FA1)      1\n",
       "2  3-DEHYDROQUINATE DEHYDRATASE       (RJP)      1\n",
       "3  3-DEHYDROQUINATE DEHYDRATASE       (XH2)      1\n",
       "4  3-DEHYDROQUINATE DEHYDRATASE       (XNW)      1"
      ]
     },
     "execution_count": 50,
     "metadata": {},
     "output_type": "execute_result"
    }
   ],
   "source": [
    "data.groupby(['Protein name'])['ligand name'].value_counts().reset_index(name = \"count\").head()"
   ]
  },
  {
   "cell_type": "code",
   "execution_count": 136,
   "id": "d0cf9d08",
   "metadata": {},
   "outputs": [],
   "source": [
    "#data.groupby(\"Protein name\")[\"PDB code\"].nunique().head()"
   ]
  },
  {
   "cell_type": "code",
   "execution_count": 137,
   "id": "83e75745",
   "metadata": {},
   "outputs": [],
   "source": [
    "#data.groupby('Protein name')['Posição residuos faltantes'].value_counts().head(20)"
   ]
  },
  {
   "cell_type": "code",
   "execution_count": 138,
   "id": "a2cf4c55",
   "metadata": {},
   "outputs": [],
   "source": [
    "#data.head(2)"
   ]
  },
  {
   "cell_type": "code",
   "execution_count": 139,
   "id": "1c03dbe5",
   "metadata": {},
   "outputs": [],
   "source": [
    "#data.groupby([\"Protein name\",'Missing residues'])[['Missing residues']].count().head(60)"
   ]
  },
  {
   "cell_type": "code",
   "execution_count": 140,
   "id": "07baec98",
   "metadata": {},
   "outputs": [],
   "source": [
    "#data.sort_values(\"Protein name\")[['Protein name','Posição residuos faltantes']].head(50)"
   ]
  },
  {
   "cell_type": "markdown",
   "id": "7e340c83-4c1c-4867-b248-64278e94f82b",
   "metadata": {},
   "source": [
    "#### Report data availabity "
   ]
  },
  {
   "cell_type": "markdown",
   "id": "6613fe63-6c98-4d2b-9038-e925f682ad0d",
   "metadata": {},
   "source": [
    "| Dataset          | Description                                                                                                         | nº of complexes |\n",
    "|------------------|---------------------------------------------------------------------------------------------------------------------|------------------|\n",
    "| General dataset  | - Experimentally determined binding affinity                                                                     |                  |\n",
    "| Refined set      |  (i) the quality of the complex structures Resolution better than 2 A <br> (ii) the quality of the binding data  <br> (iii) the biological/chemical nature of the complex | ~ 5000             |\n",
    "| Core dataset     |  <br> - As described in the article (Li et al. 2014), the complexes were grouped into clusters based on sequence similarity (90%). <br> - Clusters with fewer than 5 members were ignored. <br> - 3 Complexes from each cluster were chosen based on the affinity constant k_a, max <br> - Electron density maps were analyzed for the \"Best, Median, and Poorest\" subset of the Core dataset | 285              |\n"
   ]
  },
  {
   "cell_type": "markdown",
   "id": "cd56ad33-784e-45d8-9921-03445fcdc1f2",
   "metadata": {},
   "source": [
    "#### Refined set"
   ]
  },
  {
   "cell_type": "markdown",
   "id": "272fbd1c-ef5b-4628-8b6a-f55c46c9ca22",
   "metadata": {},
   "source": [
    "| Information: Refined set                      | Value  |\n",
    "|-----------------------------------------------|--------|\n",
    "| Initial complexes qtd                          | 5315   |\n",
    "| qtd uniques (protein_name_ligand_name) complexes | 4790   |\n",
    "| Complexos com pelo menos 2 aparições            | 274    |\n"
   ]
  },
  {
   "cell_type": "code",
   "execution_count": 35,
   "id": "2dd6e82f-3342-47a9-bc69-0e3195396a75",
   "metadata": {},
   "outputs": [
    {
     "data": {
      "text/html": [
       "<div>\n",
       "<style scoped>\n",
       "    .dataframe tbody tr th:only-of-type {\n",
       "        vertical-align: middle;\n",
       "    }\n",
       "\n",
       "    .dataframe tbody tr th {\n",
       "        vertical-align: top;\n",
       "    }\n",
       "\n",
       "    .dataframe thead th {\n",
       "        text-align: right;\n",
       "    }\n",
       "</style>\n",
       "<table border=\"1\" class=\"dataframe\">\n",
       "  <thead>\n",
       "    <tr style=\"text-align: right;\">\n",
       "      <th></th>\n",
       "      <th>PDB code</th>\n",
       "      <th>resolution</th>\n",
       "      <th>release year</th>\n",
       "      <th>-logKd/Ki</th>\n",
       "      <th>Kd/Ki</th>\n",
       "      <th>ligand name</th>\n",
       "      <th>Uniprot ID</th>\n",
       "      <th>Protein name</th>\n",
       "      <th>complex_code</th>\n",
       "    </tr>\n",
       "  </thead>\n",
       "  <tbody>\n",
       "    <tr>\n",
       "      <th>0</th>\n",
       "      <td>2r58</td>\n",
       "      <td>2.00</td>\n",
       "      <td>2007</td>\n",
       "      <td>2.0</td>\n",
       "      <td>Kd=10mM</td>\n",
       "      <td>(MLY)</td>\n",
       "      <td>Q9VHA0</td>\n",
       "      <td>POLYCOMB PROTEIN SCM</td>\n",
       "      <td>POLYCOMB PROTEIN SCM_(MLY)</td>\n",
       "    </tr>\n",
       "    <tr>\n",
       "      <th>1</th>\n",
       "      <td>3c2f</td>\n",
       "      <td>2.35</td>\n",
       "      <td>2008</td>\n",
       "      <td>2.0</td>\n",
       "      <td>Kd=10.1mM</td>\n",
       "      <td>(PRP)</td>\n",
       "      <td>P43619</td>\n",
       "      <td>NICOTINATE-NUCLEOTIDE PYROPHOSPHORYLASE</td>\n",
       "      <td>NICOTINATE-NUCLEOTIDE PYROPHOSPHORYLASE_(PRP)</td>\n",
       "    </tr>\n",
       "    <tr>\n",
       "      <th>2</th>\n",
       "      <td>3g2y</td>\n",
       "      <td>1.31</td>\n",
       "      <td>2009</td>\n",
       "      <td>2.0</td>\n",
       "      <td>Ki=10mM</td>\n",
       "      <td>(GF4)</td>\n",
       "      <td>Q9L5C8</td>\n",
       "      <td>BETA-LACTAMASE CTX-M-9A</td>\n",
       "      <td>BETA-LACTAMASE CTX-M-9A_(GF4)</td>\n",
       "    </tr>\n",
       "    <tr>\n",
       "      <th>3</th>\n",
       "      <td>3pce</td>\n",
       "      <td>2.06</td>\n",
       "      <td>1998</td>\n",
       "      <td>2.0</td>\n",
       "      <td>Ki=10mM</td>\n",
       "      <td>(3HP)</td>\n",
       "      <td>P00436</td>\n",
       "      <td>PROTOCATECHUATE 3,4-DIOXYGENASE</td>\n",
       "      <td>PROTOCATECHUATE 3,4-DIOXYGENASE_(3HP)</td>\n",
       "    </tr>\n",
       "    <tr>\n",
       "      <th>4</th>\n",
       "      <td>4qsu</td>\n",
       "      <td>1.90</td>\n",
       "      <td>2014</td>\n",
       "      <td>2.0</td>\n",
       "      <td>Kd=10mM</td>\n",
       "      <td>(TDR)</td>\n",
       "      <td>Q6PL18</td>\n",
       "      <td>ATPASE FAMILY AAA DOMAIN-CONTAINING PROTEIN 2</td>\n",
       "      <td>ATPASE FAMILY AAA DOMAIN-CONTAINING PROTEIN 2_...</td>\n",
       "    </tr>\n",
       "  </tbody>\n",
       "</table>\n",
       "</div>"
      ],
      "text/plain": [
       "  PDB code  resolution  release year  -logKd/Ki      Kd/Ki ligand name  \\\n",
       "0     2r58        2.00          2007        2.0    Kd=10mM       (MLY)   \n",
       "1     3c2f        2.35          2008        2.0  Kd=10.1mM       (PRP)   \n",
       "2     3g2y        1.31          2009        2.0    Ki=10mM       (GF4)   \n",
       "3     3pce        2.06          1998        2.0    Ki=10mM       (3HP)   \n",
       "4     4qsu        1.90          2014        2.0    Kd=10mM       (TDR)   \n",
       "\n",
       "  Uniprot ID                                   Protein name  \\\n",
       "0     Q9VHA0                           POLYCOMB PROTEIN SCM   \n",
       "1     P43619        NICOTINATE-NUCLEOTIDE PYROPHOSPHORYLASE   \n",
       "2     Q9L5C8                        BETA-LACTAMASE CTX-M-9A   \n",
       "3     P00436                PROTOCATECHUATE 3,4-DIOXYGENASE   \n",
       "4     Q6PL18  ATPASE FAMILY AAA DOMAIN-CONTAINING PROTEIN 2   \n",
       "\n",
       "                                        complex_code  \n",
       "0                         POLYCOMB PROTEIN SCM_(MLY)  \n",
       "1      NICOTINATE-NUCLEOTIDE PYROPHOSPHORYLASE_(PRP)  \n",
       "2                      BETA-LACTAMASE CTX-M-9A_(GF4)  \n",
       "3              PROTOCATECHUATE 3,4-DIOXYGENASE_(3HP)  \n",
       "4  ATPASE FAMILY AAA DOMAIN-CONTAINING PROTEIN 2_...  "
      ]
     },
     "execution_count": 35,
     "metadata": {},
     "output_type": "execute_result"
    }
   ],
   "source": [
    "df.head()"
   ]
  },
  {
   "cell_type": "code",
   "execution_count": 35,
   "id": "3df55f4c-3126-42ca-bc19-0c81432db1f3",
   "metadata": {},
   "outputs": [
    {
     "data": {
      "text/html": [
       "<div>\n",
       "<style scoped>\n",
       "    .dataframe tbody tr th:only-of-type {\n",
       "        vertical-align: middle;\n",
       "    }\n",
       "\n",
       "    .dataframe tbody tr th {\n",
       "        vertical-align: top;\n",
       "    }\n",
       "\n",
       "    .dataframe thead th {\n",
       "        text-align: right;\n",
       "    }\n",
       "</style>\n",
       "<table border=\"1\" class=\"dataframe\">\n",
       "  <thead>\n",
       "    <tr style=\"text-align: right;\">\n",
       "      <th></th>\n",
       "      <th>PDB code</th>\n",
       "      <th>resolution</th>\n",
       "      <th>release year</th>\n",
       "      <th>-logKd/Ki</th>\n",
       "      <th>Kd/Ki</th>\n",
       "      <th>ligand name</th>\n",
       "      <th>Uniprot ID</th>\n",
       "      <th>Protein name</th>\n",
       "    </tr>\n",
       "  </thead>\n",
       "  <tbody>\n",
       "    <tr>\n",
       "      <th>1285</th>\n",
       "      <td>3pju</td>\n",
       "      <td>2.5</td>\n",
       "      <td>2011</td>\n",
       "      <td>4.88</td>\n",
       "      <td>Kd=13.1uM</td>\n",
       "      <td>(C2E)</td>\n",
       "      <td>Q3KK31</td>\n",
       "      <td>CYCLIC DIMERIC GMP BINDING PROTEIN</td>\n",
       "    </tr>\n",
       "    <tr>\n",
       "      <th>4476</th>\n",
       "      <td>1aaq</td>\n",
       "      <td>2.5</td>\n",
       "      <td>1994</td>\n",
       "      <td>8.40</td>\n",
       "      <td>Ki=4.0nM</td>\n",
       "      <td>(PSI)</td>\n",
       "      <td>Q8Q3J5</td>\n",
       "      <td>HIV-1 PROTEASE</td>\n",
       "    </tr>\n",
       "    <tr>\n",
       "      <th>4820</th>\n",
       "      <td>1y0l</td>\n",
       "      <td>2.5</td>\n",
       "      <td>2005</td>\n",
       "      <td>9.00</td>\n",
       "      <td>Kd=1nM</td>\n",
       "      <td>(HAN)</td>\n",
       "      <td>------</td>\n",
       "      <td>ANTIBODY FAB 34E4, LIGHT CHAIN</td>\n",
       "    </tr>\n",
       "    <tr>\n",
       "      <th>3650</th>\n",
       "      <td>1drj</td>\n",
       "      <td>2.5</td>\n",
       "      <td>1995</td>\n",
       "      <td>7.40</td>\n",
       "      <td>Kd=0.040uM</td>\n",
       "      <td>(RIP)</td>\n",
       "      <td>P02925</td>\n",
       "      <td>D-RIBOSE-BINDING PROTEIN</td>\n",
       "    </tr>\n",
       "    <tr>\n",
       "      <th>4761</th>\n",
       "      <td>4gj3</td>\n",
       "      <td>2.5</td>\n",
       "      <td>2013</td>\n",
       "      <td>8.85</td>\n",
       "      <td>Ki=1.4nM</td>\n",
       "      <td>(0XP)</td>\n",
       "      <td>P29597</td>\n",
       "      <td>NON-RECEPTOR TYROSINE-PROTEIN KINASE TYK2</td>\n",
       "    </tr>\n",
       "  </tbody>\n",
       "</table>\n",
       "</div>"
      ],
      "text/plain": [
       "     PDB code  resolution  release year  -logKd/Ki       Kd/Ki ligand name  \\\n",
       "1285     3pju         2.5          2011       4.88   Kd=13.1uM       (C2E)   \n",
       "4476     1aaq         2.5          1994       8.40    Ki=4.0nM       (PSI)   \n",
       "4820     1y0l         2.5          2005       9.00      Kd=1nM       (HAN)   \n",
       "3650     1drj         2.5          1995       7.40  Kd=0.040uM       (RIP)   \n",
       "4761     4gj3         2.5          2013       8.85    Ki=1.4nM       (0XP)   \n",
       "\n",
       "     Uniprot ID                               Protein name  \n",
       "1285     Q3KK31         CYCLIC DIMERIC GMP BINDING PROTEIN  \n",
       "4476     Q8Q3J5                             HIV-1 PROTEASE  \n",
       "4820     ------             ANTIBODY FAB 34E4, LIGHT CHAIN  \n",
       "3650     P02925                   D-RIBOSE-BINDING PROTEIN  \n",
       "4761     P29597  NON-RECEPTOR TYROSINE-PROTEIN KINASE TYK2  "
      ]
     },
     "execution_count": 35,
     "metadata": {},
     "output_type": "execute_result"
    }
   ],
   "source": [
    "df.tail()"
   ]
  },
  {
   "cell_type": "code",
   "execution_count": 52,
   "id": "902e8849-df0e-4aee-ac5a-f4577e8bd610",
   "metadata": {},
   "outputs": [
    {
     "data": {
      "image/png": "[encoded data removed]",
      "text/plain": [
       "<Figure size 600x300 with 1 Axes>"
      ]
     },
     "metadata": {},
     "output_type": "display_data"
    }
   ],
   "source": [
    "create_density_plot(df, 'resolution')"
   ]
  },
  {
   "cell_type": "code",
   "execution_count": 55,
   "id": "a1111191-3d59-45ca-8959-1dae5b482b35",
   "metadata": {},
   "outputs": [
    {
     "data": {
      "image/png": "[encoded data removed]",
      "text/plain": [
       "<Figure size 600x300 with 1 Axes>"
      ]
     },
     "metadata": {},
     "output_type": "display_data"
    }
   ],
   "source": [
    "create_density_plot(df, '-logKd/Ki')"
   ]
  },
  {
   "cell_type": "code",
   "execution_count": 61,
   "id": "c9b90eab-7b2e-4fc2-8500-33ea14e4c6a2",
   "metadata": {},
   "outputs": [
    {
     "data": {
      "text/plain": [
       "<AxesSubplot:>"
      ]
     },
     "execution_count": 61,
     "metadata": {},
     "output_type": "execute_result"
    },
    {
     "data": {
      "image/png": "[encoded data removed]",
      "text/plain": [
       "<Figure size 640x480 with 1 Axes>"
      ]
     },
     "metadata": {},
     "output_type": "display_data"
    }
   ],
   "source": [
    "df['release year'].hist()"
   ]
  },
  {
   "cell_type": "code",
   "execution_count": null,
   "id": "3772103e-b009-430e-8f5a-fbf0f62ca692",
   "metadata": {},
   "outputs": [],
   "source": []
  },
  {
   "cell_type": "code",
   "execution_count": null,
   "id": "38e6586e-c7ac-4452-8b47-196335b2eec6",
   "metadata": {},
   "outputs": [],
   "source": []
  },
  {
   "cell_type": "code",
   "execution_count": null,
   "id": "f66a2bdc-a60d-449a-985c-01b285f37671",
   "metadata": {},
   "outputs": [],
   "source": []
  },
  {
   "cell_type": "markdown",
   "id": "d81b2811-8be2-40f2-9763-8fb2df644546",
   "metadata": {},
   "source": []
  },
  {
   "cell_type": "code",
   "execution_count": null,
   "id": "354b22cb-cf1d-4d6b-8070-c82c7e9ebc31",
   "metadata": {},
   "outputs": [],
   "source": []
  },
  {
   "cell_type": "code",
   "execution_count": null,
   "id": "361819ab-8019-4933-9065-2da5439509e5",
   "metadata": {},
   "outputs": [],
   "source": []
  },
  {
   "cell_type": "code",
   "execution_count": null,
   "id": "885141f3-5094-4fb5-9a2b-1e5240c094f8",
   "metadata": {},
   "outputs": [],
   "source": []
  },
  {
   "cell_type": "code",
   "execution_count": null,
   "id": "c2009399-8629-4f91-a747-601ea69ee3a1",
   "metadata": {},
   "outputs": [],
   "source": []
  },
  {
   "cell_type": "code",
   "execution_count": null,
   "id": "ed2aff96-5a8f-455f-98c8-5abbb93a986a",
   "metadata": {},
   "outputs": [],
   "source": []
  },
  {
   "cell_type": "code",
   "execution_count": null,
   "id": "d0470893-80c5-4761-9cd3-bc4c4d53a3a5",
   "metadata": {},
   "outputs": [],
   "source": []
  },
  {
   "cell_type": "code",
   "execution_count": null,
   "id": "894b8c16-8773-4697-b3a5-c1ed74567809",
   "metadata": {},
   "outputs": [],
   "source": []
  },
  {
   "cell_type": "code",
   "execution_count": null,
   "id": "cf6d8da1-0472-4623-9905-7cd77df29caf",
   "metadata": {},
   "outputs": [],
   "source": []
  },
  {
   "cell_type": "code",
   "execution_count": null,
   "id": "2f53f47e-8055-4294-a17d-01f2d8f4f0a4",
   "metadata": {},
   "outputs": [],
   "source": []
  },
  {
   "cell_type": "code",
   "execution_count": null,
   "id": "6ed37ab8-aaa4-48d5-814b-12d5336e2600",
   "metadata": {},
   "outputs": [],
   "source": []
  },
  {
   "cell_type": "code",
   "execution_count": null,
   "id": "182b1535-8d78-40ab-be27-cb1ffeadeaea",
   "metadata": {},
   "outputs": [],
   "source": []
  },
  {
   "cell_type": "code",
   "execution_count": null,
   "id": "02ebf9da-0d3b-4a92-b9e1-bc7c176c578c",
   "metadata": {},
   "outputs": [],
   "source": []
  },
  {
   "cell_type": "code",
   "execution_count": null,
   "id": "5ba4d9a2-b018-4d1c-8c18-7d1a04a3dec3",
   "metadata": {},
   "outputs": [],
   "source": []
  },
  {
   "cell_type": "code",
   "execution_count": null,
   "id": "19196483-411f-4031-ae83-a9d6728d7fa8",
   "metadata": {},
   "outputs": [],
   "source": []
  },
  {
   "cell_type": "code",
   "execution_count": null,
   "id": "1607710c-04d4-4e4a-87ed-0a7e48c116da",
   "metadata": {},
   "outputs": [],
   "source": []
  },
  {
   "cell_type": "code",
   "execution_count": null,
   "id": "c459ab9b-7c13-4b92-ab6e-ea8a7e97e8bd",
   "metadata": {},
   "outputs": [],
   "source": []
  },
  {
   "cell_type": "code",
   "execution_count": null,
   "id": "ba709b64-23a4-4e18-ad86-b3a1ebe02314",
   "metadata": {},
   "outputs": [],
   "source": []
  },
  {
   "cell_type": "code",
   "execution_count": null,
   "id": "13d242aa-9396-44f3-9d08-95e7fdbd960b",
   "metadata": {},
   "outputs": [],
   "source": []
  },
  {
   "cell_type": "code",
   "execution_count": null,
   "id": "bc1de02a-14ff-4f65-ba24-5d1cdeb73a8a",
   "metadata": {},
   "outputs": [],
   "source": []
  },
  {
   "cell_type": "code",
   "execution_count": null,
   "id": "e23bb473-0e24-474e-b6a5-9993262852ef",
   "metadata": {},
   "outputs": [],
   "source": []
  },
  {
   "cell_type": "code",
   "execution_count": null,
   "id": "af1ca853-0e48-4c14-881c-1d6983f1dd67",
   "metadata": {},
   "outputs": [],
   "source": []
  },
  {
   "cell_type": "code",
   "execution_count": null,
   "id": "55406891-71c4-4484-a02c-e6eaca8d2ccb",
   "metadata": {},
   "outputs": [],
   "source": []
  },
  {
   "cell_type": "code",
   "execution_count": null,
   "id": "760f9b4a-d3fe-483b-98ed-a89742b748fa",
   "metadata": {},
   "outputs": [],
   "source": []
  },
  {
   "cell_type": "code",
   "execution_count": null,
   "id": "fabf66e1-f616-4ded-993b-c651635b4f07",
   "metadata": {},
   "outputs": [],
   "source": []
  },
  {
   "cell_type": "code",
   "execution_count": null,
   "id": "dfa11232-287b-4b23-b959-4ed72e1abc10",
   "metadata": {},
   "outputs": [],
   "source": []
  },
  {
   "cell_type": "code",
   "execution_count": null,
   "id": "72144307-7751-4cf2-a94e-2a59a29447e9",
   "metadata": {},
   "outputs": [],
   "source": []
  },
  {
   "cell_type": "code",
   "execution_count": null,
   "id": "4f9f1701-ba82-4463-b534-bd27897c1932",
   "metadata": {},
   "outputs": [],
   "source": []
  },
  {
   "cell_type": "code",
   "execution_count": null,
   "id": "f8df68e2-0eb8-48db-a6f4-52c54338b235",
   "metadata": {},
   "outputs": [],
   "source": []
  },
  {
   "cell_type": "code",
   "execution_count": null,
   "id": "23d8c4d9-964a-4ce4-a6ff-16404b53af32",
   "metadata": {},
   "outputs": [],
   "source": []
  },
  {
   "cell_type": "code",
   "execution_count": null,
   "id": "0211d95d-2b90-45bd-90e0-e6704b64a1b8",
   "metadata": {},
   "outputs": [],
   "source": []
  },
  {
   "cell_type": "code",
   "execution_count": null,
   "id": "f5b47f75-2481-42a2-a556-e7220b734a9a",
   "metadata": {},
   "outputs": [],
   "source": []
  },
  {
   "cell_type": "code",
   "execution_count": null,
   "id": "e92e6530-4fe2-4147-9b4d-eb44bb78b489",
   "metadata": {},
   "outputs": [],
   "source": []
  },
  {
   "cell_type": "code",
   "execution_count": null,
   "id": "2a5a3a4b-1d9e-489c-a7a8-a048787969f2",
   "metadata": {},
   "outputs": [],
   "source": []
  },
  {
   "cell_type": "markdown",
   "id": "4f3cf434",
   "metadata": {},
   "source": [
    "1 passo \n",
    " -  Ver se os metais são da proteína ou não, olhano o cabeçalho da proteína????"
   ]
  },
  {
   "cell_type": "markdown",
   "id": "b90ca025",
   "metadata": {},
   "source": [
    "https://pymolwiki.org/index.php/Centerofmass#:~:text=The%20centerofmass%20command%20calculates%20the,considers%20atom%20mass%20and%20occupancy."
   ]
  },
  {
   "cell_type": "code",
   "execution_count": 26,
   "id": "4f71d662-26ca-4170-a314-95cf0b58a446",
   "metadata": {},
   "outputs": [
    {
     "data": {
      "text/plain": [
       "'https://proteins.plus/'"
      ]
     },
     "execution_count": 26,
     "metadata": {},
     "output_type": "execute_result"
    }
   ],
   "source": [
    "\"https://proteins.plus/\""
   ]
  },
  {
   "cell_type": "markdown",
   "id": "9225cde4-377c-46fb-9569-6d6769c47c71",
   "metadata": {},
   "source": [
    "#### Anotações "
   ]
  },
  {
   "cell_type": "markdown",
   "id": "0999ba94-5939-409a-852c-592c13dd634c",
   "metadata": {},
   "source": [
    "* 2 anéis com espaçador (6 carbonos, hidrogênio)\n",
    "    * não podem estar no mesmo plano, um deles gira\n",
    " \n",
    "* Anel com 4 carbonos e 1 nitrogênio, plano\n",
    "* anel com 5 carbonos e 1 nitrogênio, plano\n",
    "\n",
    "* 3ehy\n",
    "  - Mesa: hidrogênio da ponta, tem que apontar para baixo, e o enxofre tbm, um de cada lado.\n",
    "  - só desce se for o hidrogênio\n",
    "* 3kwa:\n",
    "  - Olhar emenda de hidrogênios, falso anel"
   ]
  },
  {
   "cell_type": "markdown",
   "id": "b6bd370b-3836-4e6e-b65b-9825d9cfeb9c",
   "metadata": {},
   "source": [
    "* Tem um clash no 3nw9 com o metal, porque marcamos como azul;\n",
    "* Porque marcamos o 3ozs com vermelho ?  "
   ]
  },
  {
   "cell_type": "markdown",
   "id": "960cba55-14d8-4fe7-8f1a-cf429ef9d1a4",
   "metadata": {},
   "source": [
    "* 1c5z porque não tem hidrogênios no anel "
   ]
  },
  {
   "cell_type": "code",
   "execution_count": null,
   "id": "fc67df84-cc11-4e79-8e29-77bc7e791d3c",
   "metadata": {},
   "outputs": [],
   "source": []
  },
  {
   "cell_type": "code",
   "execution_count": null,
   "id": "24fa9b2f-b6bc-4642-85a3-bc4f9e754205",
   "metadata": {},
   "outputs": [],
   "source": []
  },
  {
   "cell_type": "code",
   "execution_count": null,
   "id": "3a5a7dae-32c2-496a-b6c2-adf56b6b925c",
   "metadata": {},
   "outputs": [],
   "source": []
  },
  {
   "cell_type": "code",
   "execution_count": null,
   "id": "79d655ba-46d1-49a4-aabf-1975dba23415",
   "metadata": {},
   "outputs": [],
   "source": []
  },
  {
   "cell_type": "code",
   "execution_count": null,
   "id": "44a8481b-0e94-48e7-97fd-b4932618e00d",
   "metadata": {},
   "outputs": [],
   "source": []
  }
 ],
 "metadata": {
  "kernelspec": {
   "display_name": "master_37",
   "language": "python",
   "name": "master_37"
  },
  "language_info": {
   "codemirror_mode": {
    "name": "ipython",
    "version": 3
   },
   "file_extension": ".py",
   "mimetype": "text/x-python",
   "name": "python",
   "nbconvert_exporter": "python",
   "pygments_lexer": "ipython3",
   "version": "3.7.16"
  }
 },
 "nbformat": 4,
 "nbformat_minor": 5
}
