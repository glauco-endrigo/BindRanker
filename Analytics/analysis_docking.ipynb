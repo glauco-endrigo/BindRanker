{
 "cells": [
  {
   "cell_type": "code",
   "execution_count": 1,
   "id": "49ff6d30-6512-46be-a810-1305ff893e9d",
   "metadata": {},
   "outputs": [],
   "source": [
    "import pandas as pd\n",
    "import os\n",
    "import torch\n",
    "import json\n",
    "import numpy as np\n",
    "from tqdm import tqdm\n",
    "import pickle\n",
    "import torch\n",
    "from torch_geometric.data import Data, DataLoader\n",
    "from torch_geometric.nn import GCNConv\n",
    "import torch.nn as nn\n",
    "import torch.nn.functional as F\n",
    "import os\n",
    "import pandas as pd\n",
    "import subprocess\n",
    "import numpy as np\n",
    "import torch\n",
    "import pandas as pd\n",
    "from rdkit import Chem\n",
    "from rdkit.Chem import Descriptors\n",
    "import os\n",
    "from torch_geometric.loader import DataLoader\n",
    "from pathlib import Path\n",
    "import torch.nn as nn\n",
    "import torch.optim as optim\n",
    "from torch_geometric.data import DataLoader, Data\n",
    "from torch_geometric.nn import GCNConv\n",
    "import torch\n",
    "import torch.nn as nn\n",
    "import torch.optim as optim\n",
    "from torch_geometric.data import Data, DataLoader\n",
    "from torch_geometric.nn import GATConv\n",
    "import random\n",
    "from sklearn.model_selection import StratifiedKFold\n",
    "from sklearn.metrics import accuracy_score, precision_score, recall_score, f1_score\n",
    "import matplotlib.pyplot as plt\n",
    "from collections import Counter\n",
    "from torch_geometric.data import Data, Dataset\n",
    "import json\n",
    "import os\n",
    "import pandas as pd\n",
    "import pandas as pd\n",
    "from rdkit import Chem\n",
    "import torch\n",
    "import numpy as np\n",
    "from torch.utils.data import Dataset\n",
    "import pickle\n",
    "from collections import defaultdict\n",
    "from pathlib import Path\n",
    "import torch.nn.functional as F\n",
    "import pickle"
   ]
  },
  {
   "cell_type": "code",
   "execution_count": 2,
   "id": "db477c79-2c95-4f0b-a704-47a1130c3004",
   "metadata": {},
   "outputs": [],
   "source": [
    "import matplotlib.pyplot as plt"
   ]
  },
  {
   "cell_type": "code",
   "execution_count": 3,
   "id": "1b2f3e1e-b57f-4331-89e0-f0477914441b",
   "metadata": {},
   "outputs": [],
   "source": [
    "%run ../Config.ipynb"
   ]
  },
  {
   "cell_type": "code",
   "execution_count": 4,
   "id": "ce173ca8-39a4-4571-bc9f-587e50ec2f54",
   "metadata": {},
   "outputs": [
    {
     "name": "stderr",
     "output_type": "stream",
     "text": [
      "/home/lbcb00/anaconda3/lib/python3.12/site-packages/torch/cuda/__init__.py:128: UserWarning: CUDA initialization: The NVIDIA driver on your system is too old (found version 11040). Please update your GPU driver by downloading and installing a new version from the URL: http://www.nvidia.com/Download/index.aspx Alternatively, go to: https://pytorch.org to install a PyTorch version that has been compiled with your version of the CUDA driver. (Triggered internally at ../c10/cuda/CUDAFunctions.cpp:108.)\n",
      "  return torch._C._cuda_getDeviceCount() > 0\n"
     ]
    }
   ],
   "source": [
    "config = Config()"
   ]
  },
  {
   "cell_type": "markdown",
   "id": "25abc3ce-3dbc-4cf4-a835-950913bf5bfc",
   "metadata": {},
   "source": [
    "#### Set sent to be docked "
   ]
  },
  {
   "cell_type": "code",
   "execution_count": 7,
   "id": "47f5ed65-e8d2-4f93-a85f-a56e5d294a60",
   "metadata": {},
   "outputs": [],
   "source": [
    "#refined_set_reduced = pd.read_csv('../Datahub/pdbs_refined_set.csv')"
   ]
  },
  {
   "cell_type": "code",
   "execution_count": 8,
   "id": "aa6a4c2d-8acb-4bd1-8ac2-24339d75c6c8",
   "metadata": {},
   "outputs": [
    {
     "ename": "NameError",
     "evalue": "name 'refined_set_reduced' is not defined",
     "output_type": "error",
     "traceback": [
      "\u001b[0;31m---------------------------------------------------------------------------\u001b[0m",
      "\u001b[0;31mNameError\u001b[0m                                 Traceback (most recent call last)",
      "Cell \u001b[0;32mIn[8], line 1\u001b[0m\n\u001b[0;32m----> 1\u001b[0m \u001b[38;5;28mlen\u001b[39m(refined_set_reduced)\n",
      "\u001b[0;31mNameError\u001b[0m: name 'refined_set_reduced' is not defined"
     ]
    }
   ],
   "source": [
    "len(refined_set_reduced)"
   ]
  },
  {
   "cell_type": "code",
   "execution_count": null,
   "id": "b5f125e9-9b17-4189-a67b-7add9bbecbe5",
   "metadata": {},
   "outputs": [],
   "source": [
    "\"4eor\" in list(refined_set_reduced['PDB code'])"
   ]
  },
  {
   "cell_type": "markdown",
   "id": "e705601d-d849-4e44-b996-de6be5dd92fe",
   "metadata": {},
   "source": [
    "#### pdbs that were meant to be docked "
   ]
  },
  {
   "cell_type": "markdown",
   "id": "d544f981-6c6f-4787-abd4-d70ffa2d13fe",
   "metadata": {},
   "source": [
    "#### PDbs docked "
   ]
  },
  {
   "cell_type": "code",
   "execution_count": 9,
   "id": "7415ec3e-df06-4e7f-88b8-8c1e9daf37df",
   "metadata": {},
   "outputs": [],
   "source": [
    "import os\n",
    "\n",
    "def find_pdb_with_results(path, name):\n",
    "    # Get the list of pdb folders in the specified path\n",
    "    pdb_folders = [folder for folder in os.listdir(path) if os.path.isdir(os.path.join(path, folder))]\n",
    "\n",
    "    # Initialize list to store pdb folders with 'results'\n",
    "    pdb_with_results = []\n",
    "\n",
    "    for pdb_folder in pdb_folders:\n",
    "        pdb_path = os.path.join(path, pdb_folder)\n",
    "        results_path = os.path.join(pdb_path, name)\n",
    "\n",
    "        # Check if the 'results' folder exists in the pdb folder\n",
    "        if os.path.exists(results_path) and os.path.isdir(results_path):\n",
    "            pdb_with_results.append(pdb_folder)\n",
    "\n",
    "    return pdb_with_results\n",
    "\n",
    "# Specify the path to the 'set' folder\n",
    "set_folder_path = '../coreset'\n",
    "\n",
    "# Call the function to find pdb folders with 'results'\n",
    "result_pdbs = find_pdb_with_results(set_folder_path, name = 'results')"
   ]
  },
  {
   "cell_type": "markdown",
   "id": "e635874f-678c-408d-b73a-6bfe3e5ce242",
   "metadata": {},
   "source": [
    "#### QTD pdbs docked "
   ]
  },
  {
   "cell_type": "code",
   "execution_count": 10,
   "id": "eb6b500c-e5d4-42df-bd45-529253d96e8b",
   "metadata": {},
   "outputs": [
    {
     "data": {
      "text/plain": [
       "284"
      ]
     },
     "execution_count": 10,
     "metadata": {},
     "output_type": "execute_result"
    }
   ],
   "source": [
    "len(result_pdbs)"
   ]
  },
  {
   "cell_type": "markdown",
   "id": "8d2960d8-cb27-40e8-91a8-cc7b4547f330",
   "metadata": {},
   "source": [
    "#### QTD Pdbs com rmsd calculdados com sucesso "
   ]
  },
  {
   "cell_type": "code",
   "execution_count": 11,
   "id": "d8c268fa-a0cd-458f-bb5b-a74dadad5279",
   "metadata": {},
   "outputs": [],
   "source": [
    "#rmsd = pd.read_csv(f\"{config.data}/rmsd_refined_set.csv\") # rmsd\n",
    "rmsd = pd.read_csv(f\"../rmsd_refined_set.csv\") # rmsd"
   ]
  },
  {
   "cell_type": "code",
   "execution_count": 12,
   "id": "63f34c49-2ce5-432a-bb50-32c4c0c7cb4c",
   "metadata": {},
   "outputs": [
    {
     "data": {
      "text/plain": [
       "3940"
      ]
     },
     "execution_count": 12,
     "metadata": {},
     "output_type": "execute_result"
    }
   ],
   "source": [
    "rmsd['pdb'].nunique()"
   ]
  },
  {
   "cell_type": "markdown",
   "id": "ce781123-8c99-4ce4-a626-e96a202da536",
   "metadata": {},
   "source": [
    "#### QTd pdbs com menos de 10 poses "
   ]
  },
  {
   "cell_type": "code",
   "execution_count": 13,
   "id": "a4bbb7fb-b40a-4d79-8582-9a4f36410143",
   "metadata": {},
   "outputs": [],
   "source": [
    "import seaborn as sns "
   ]
  },
  {
   "cell_type": "code",
   "execution_count": 14,
   "id": "86bed2ce-c03a-4739-9172-e7d8b651bf3c",
   "metadata": {},
   "outputs": [],
   "source": [
    "rmsd_pose_count = rmsd.groupby('pdb')['poserank'].nunique().sort_values().reset_index()"
   ]
  },
  {
   "cell_type": "code",
   "execution_count": 15,
   "id": "a6f3ae17-5039-4118-ad96-1596c4bddff1",
   "metadata": {
    "scrolled": true
   },
   "outputs": [
    {
     "data": {
      "text/plain": [
       "952"
      ]
     },
     "execution_count": 15,
     "metadata": {},
     "output_type": "execute_result"
    }
   ],
   "source": [
    "rmsd_pose_count[rmsd_pose_count['poserank'] !=10 ]['pdb'].nunique()"
   ]
  },
  {
   "cell_type": "markdown",
   "id": "86f03a15-0890-46af-96d9-7b703862dbb5",
   "metadata": {},
   "source": [
    "### Binana "
   ]
  },
  {
   "cell_type": "code",
   "execution_count": 13,
   "id": "d21a6ee1-4af3-4bf6-b0fe-8cebc323a2d4",
   "metadata": {},
   "outputs": [],
   "source": [
    "import os\n",
    "\n",
    "def find_pdb_with_results(path, name):\n",
    "    # Get the list of pdb folders in the specified path\n",
    "    pdb_folders = [folder for folder in os.listdir(path) if os.path.isdir(os.path.join(path, folder))]\n",
    "\n",
    "    # Initialize list to store pdb folders with 'results'\n",
    "    pdb_with_results = []\n",
    "\n",
    "    for pdb_folder in pdb_folders:\n",
    "        pdb_path = os.path.join(path, pdb_folder)\n",
    "        results_path = os.path.join(pdb_path, name, f'binana_{pdb_folder}_pose_1','log.txt')\n",
    "        # Check if the 'results' folder exists in the pdb folder\n",
    "        if os.path.exists(results_path) and os.path.isfile(results_path):\n",
    "            pdb_with_results.append(pdb_folder)\n",
    "\n",
    "    return pdb_with_results\n",
    "\n",
    "# Specify the path to the 'set' folder\n",
    "set_folder_path = '../coreset'\n",
    "\n",
    "# Call the function to find pdb folders with 'results'\n",
    "result_pdbs = find_pdb_with_results(set_folder_path, name = 'binana')"
   ]
  },
  {
   "cell_type": "code",
   "execution_count": 14,
   "id": "c14a184d-328f-4924-872d-584b67bf88e4",
   "metadata": {},
   "outputs": [
    {
     "name": "stdout",
     "output_type": "stream",
     "text": [
      "Pdbs processed by binana:  284\n"
     ]
    }
   ],
   "source": [
    "print(\"Pdbs processed by binana: \", len(result_pdbs))"
   ]
  },
  {
   "cell_type": "markdown",
   "id": "21a15a4c-0c93-4053-a679-3bc9027c2b53",
   "metadata": {},
   "source": [
    "#### QTD PDbs que o binana gerou resultados "
   ]
  },
  {
   "cell_type": "markdown",
   "id": "cd8bc18e-328c-4cff-9433-8adbabd8e567",
   "metadata": {},
   "source": [
    "#### Tempo para rodar por quantidade de pdbs "
   ]
  },
  {
   "cell_type": "markdown",
   "id": "43d007a3-4305-484f-96f6-4d635c1570c6",
   "metadata": {},
   "source": [
    "284 - PDBs - 29 min!"
   ]
  },
  {
   "cell_type": "code",
   "execution_count": 15,
   "id": "8ce5e74a-18df-434e-a203-d9cc8bb4fb62",
   "metadata": {},
   "outputs": [],
   "source": [
    "pdb = \"5qa8\""
   ]
  },
  {
   "cell_type": "code",
   "execution_count": 16,
   "id": "4a93d7dd-0a03-4567-afbb-62c4cefefa19",
   "metadata": {},
   "outputs": [
    {
     "ename": "NameError",
     "evalue": "name 'refined_set_reduced' is not defined",
     "output_type": "error",
     "traceback": [
      "\u001b[0;31m---------------------------------------------------------------------------\u001b[0m",
      "\u001b[0;31mNameError\u001b[0m                                 Traceback (most recent call last)",
      "Cell \u001b[0;32mIn[16], line 1\u001b[0m\n\u001b[0;32m----> 1\u001b[0m pdb \u001b[38;5;129;01min\u001b[39;00m \u001b[38;5;28mlist\u001b[39m(refined_set_reduced[\u001b[38;5;124m'\u001b[39m\u001b[38;5;124mPDB code\u001b[39m\u001b[38;5;124m'\u001b[39m])\n",
      "\u001b[0;31mNameError\u001b[0m: name 'refined_set_reduced' is not defined"
     ]
    }
   ],
   "source": [
    "pdb in list(refined_set_reduced['PDB code'])"
   ]
  },
  {
   "cell_type": "code",
   "execution_count": 17,
   "id": "e5e58736-5910-40fc-95f4-ef0070e221d3",
   "metadata": {},
   "outputs": [
    {
     "data": {
      "text/plain": [
       "False"
      ]
     },
     "execution_count": 17,
     "metadata": {},
     "output_type": "execute_result"
    }
   ],
   "source": [
    "pdb in result_pdbs"
   ]
  },
  {
   "cell_type": "markdown",
   "id": "bfa016c2-abd9-4778-b0f4-52112c25c9c6",
   "metadata": {},
   "source": [
    "#### General Report\n",
    "\n",
    "| Metric                                      | Value |\n",
    "|---------------------------------------------|-------|\n",
    "| Set sent to be docked                       | 4790  |\n",
    "| QTD pdbs docked                             | 3998  |\n",
    "| QTD Pdbs com rmsd calculdados com sucesso   | 3940  |\n",
    "| Pdbs processed by binana:                   | 3914  |\n",
    "| Final available data to train (pose)            | 27651 |"
   ]
  },
  {
   "cell_type": "code",
   "execution_count": 21,
   "id": "10d49888-2639-4b20-b577-c41d06213b22",
   "metadata": {},
   "outputs": [],
   "source": [
    "class BipartiteData(Data):\n",
    "    def __init__(self, edge_index=None, x_s=None, x_t=None, y=None, edge_attr=None, pdb = None, pose = None):\n",
    "        super().__init__()\n",
    "        self.edge_index = edge_index\n",
    "        self.x_s = x_s\n",
    "        self.x_t = x_t\n",
    "        self.y = y\n",
    "        self.edge_attr = edge_attr  # Add edge_attr attribute\n",
    "        #self.num_nodes = len(set(edge_index[0].tolist())) +  len(set(edge_index[1].tolist()))\n",
    "        self.num_nodes = (x_s.size(0) if x_s is not None else 0) + (x_t.size(0) if x_t is not None else 0)\n",
    "        self.pdb = pdb\n",
    "        self.pose = pose\n",
    "    \n",
    "    def __inc__(self, key, value, *args, **kwargs):\n",
    "        if key == 'edge_index':\n",
    "            return torch.tensor([[self.x_s.size(0)], [self.x_t.size(0)]])\n",
    "        else:\n",
    "            return super().__inc__(key, value, *args, **kwargs)"
   ]
  },
  {
   "cell_type": "code",
   "execution_count": 35,
   "id": "6d206718-ce1a-42fc-bb2d-2921045aacd5",
   "metadata": {},
   "outputs": [],
   "source": [
    "cut = 4\n",
    "name = f\"bipartite_data_no_pose_rank_sorted_by_family_cut_{cut}_refined_set.pkl\" \n",
    "name_encoded = name\n",
    "# bipartite_data_with_pose_pred.pkl"
   ]
  },
  {
   "cell_type": "code",
   "execution_count": 36,
   "id": "c4501677-ea6b-4ea2-9483-e1b32643b21b",
   "metadata": {
    "scrolled": true
   },
   "outputs": [
    {
     "data": {
      "text/plain": [
       "39140"
      ]
     },
     "execution_count": 36,
     "metadata": {},
     "output_type": "execute_result"
    }
   ],
   "source": [
    "with open(f'{config.data}/{name}', 'rb') as file:\n",
    "    dataset_list_opened = pickle.load(file)\n",
    "len(dataset_list_opened)"
   ]
  },
  {
   "cell_type": "code",
   "execution_count": 38,
   "id": "0d9d8a7f-7ab0-47bd-884a-f58667bb203b",
   "metadata": {},
   "outputs": [],
   "source": [
    "from collections import Counter"
   ]
  },
  {
   "cell_type": "code",
   "execution_count": 44,
   "id": "f201ef29-fc09-451f-9a63-aab29879bb49",
   "metadata": {},
   "outputs": [
    {
     "name": "stdout",
     "output_type": "stream",
     "text": [
      "Nº after created dataset 39140\n",
      "Nº after filtering based on number of nodes: 33167\n",
      "Nº after filtering based on descriptor shapes: 27651\n",
      "Nº after removing NaN values from descriptor: 27651\n",
      "Label distribution: {0.0: 25442, 1.0: 2209}\n",
      "Total number of graphs used for training: 27651\n"
     ]
    }
   ],
   "source": [
    "\n",
    "print(\"Nº after created dataset\",len(dataset_list_opened))\n",
    "filtered_data_list_num_nodes = [data for data in dataset_list_opened if data.num_nodes > 0]\n",
    "print(\"Nº after filtering based on number of nodes:\", len(filtered_data_list_num_nodes))\n",
    "\n",
    "filtered_data_list_descriptors = [data for data in filtered_data_list_num_nodes if data.x_s.shape[0] > 0 and data.x_t.shape[0] > 0]\n",
    "print(\"Nº after filtering based on descriptor shapes:\", len(filtered_data_list_descriptors))\n",
    "\n",
    "filtered_data_list_descriptors = [data for data in filtered_data_list_descriptors if not data.x_t[0, 2].isnan()]\n",
    "print(\"Nº after removing NaN values from descriptor:\", len(filtered_data_list_descriptors))\n",
    "\n",
    "filtered_data_list = filtered_data_list_descriptors.copy()\n",
    "\n",
    "# Calculate label distribution\n",
    "label_distribution = dict(Counter([label.y.tolist() for label in filtered_data_list]))\n",
    "print(\"Label distribution:\", label_distribution)\n",
    "\n",
    "amount_of_graphs_used_to_train = len(filtered_data_list)\n",
    "print(\"Total number of graphs used for training:\", amount_of_graphs_used_to_train)"
   ]
  },
  {
   "cell_type": "markdown",
   "id": "aad08941-c327-4edb-b8bf-bab692926aa6",
   "metadata": {},
   "source": [
    "| Action                                      | Number |\n",
    "|---------------------------------------------|--------|\n",
    "| Created dataset                             | 39140  |\n",
    "| Filtering based on number of nodes          | 33167  |\n",
    "| Filtering based on descriptor shapes        | 27651  |\n",
    "| Removing NaN values from descriptor         | 27651  |\n",
    "| Label distribution                          | {0.0: 25442, 1.0: 2209} |\n",
    "| Total number of graphs used for training    | 27651  |\n"
   ]
  },
  {
   "cell_type": "code",
   "execution_count": 46,
   "id": "9af54860-0898-4648-8c96-122c87d223d3",
   "metadata": {},
   "outputs": [],
   "source": [
    "rmsd = pd.read_csv(f\"{config.data}/rmsd_refined_set.csv\").sort_values(['pdb','poserank','RMSD']).drop_duplicates(['pdb','poserank'], keep = 'first')\n",
    "\n",
    "sup = rmsd.groupby('pdb')[['poserank']].count().reset_index().rename(columns = {\"poserank\":\"poserank_count\"})\n",
    "sup['unique_pdb_count'] = sup.groupby('poserank_count')['pdb'].transform('nunique')\n",
    "sup = sup.drop(columns = ['pdb']).drop_duplicates().sort_values('poserank_count')"
   ]
  },
  {
   "cell_type": "markdown",
   "id": "13347830-b357-45d3-9935-74c6a34e4977",
   "metadata": {},
   "source": [
    "#### Final report "
   ]
  },
  {
   "cell_type": "markdown",
   "id": "f9fb0065-a15c-4f80-b075-10fe54af45e6",
   "metadata": {},
   "source": [
    "#### General Report\n",
    "\n",
    "| Metric                                      | Value |\n",
    "|---------------------------------------------|-------|\n",
    "| Set sent to be docked                       | 4790  |\n",
    "| QTD pdbs docked                             | 3998  |\n",
    "| QTD Pdbs com rmsd calculdados com sucesso   | 3940  |\n",
    "| Pdbs processed by binana:                   | 3914  |\n",
    "| Final available data to train (pose)            | 27651 |"
   ]
  },
  {
   "cell_type": "markdown",
   "id": "1ce64402-7093-4d6c-a1ca-c08e5fe916bb",
   "metadata": {},
   "source": [
    "| Action                                      | Number |\n",
    "|---------------------------------------------|--------|\n",
    "| Created dataset                             | 39140  |\n",
    "| Filtering based on number of nodes          | 33167  |\n",
    "| Filtering based on descriptor shapes        | 27651  |\n",
    "| Removing NaN values from descriptor         | 27651  |\n",
    "| Label distribution                          | {0.0: 25442, 1.0: 2209} |\n",
    "| Total number of graphs used for training    | 27651  |"
   ]
  },
  {
   "cell_type": "code",
   "execution_count": 51,
   "id": "5f12a1e7-ea94-4fbb-b296-4505760ca5b6",
   "metadata": {},
   "outputs": [
    {
     "data": {
      "text/html": [
       "<div>\n",
       "<style scoped>\n",
       "    .dataframe tbody tr th:only-of-type {\n",
       "        vertical-align: middle;\n",
       "    }\n",
       "\n",
       "    .dataframe tbody tr th {\n",
       "        vertical-align: top;\n",
       "    }\n",
       "\n",
       "    .dataframe thead th {\n",
       "        text-align: right;\n",
       "    }\n",
       "</style>\n",
       "<table border=\"1\" class=\"dataframe\">\n",
       "  <thead>\n",
       "    <tr style=\"text-align: right;\">\n",
       "      <th></th>\n",
       "      <th>poserank_count</th>\n",
       "      <th>unique_pdb_count</th>\n",
       "      <th>qtd</th>\n",
       "    </tr>\n",
       "  </thead>\n",
       "  <tbody>\n",
       "    <tr>\n",
       "      <th>107</th>\n",
       "      <td>1</td>\n",
       "      <td>75</td>\n",
       "      <td>75</td>\n",
       "    </tr>\n",
       "    <tr>\n",
       "      <th>95</th>\n",
       "      <td>2</td>\n",
       "      <td>83</td>\n",
       "      <td>166</td>\n",
       "    </tr>\n",
       "    <tr>\n",
       "      <th>156</th>\n",
       "      <td>3</td>\n",
       "      <td>60</td>\n",
       "      <td>180</td>\n",
       "    </tr>\n",
       "    <tr>\n",
       "      <th>7</th>\n",
       "      <td>4</td>\n",
       "      <td>50</td>\n",
       "      <td>200</td>\n",
       "    </tr>\n",
       "    <tr>\n",
       "      <th>33</th>\n",
       "      <td>5</td>\n",
       "      <td>60</td>\n",
       "      <td>300</td>\n",
       "    </tr>\n",
       "    <tr>\n",
       "      <th>67</th>\n",
       "      <td>6</td>\n",
       "      <td>61</td>\n",
       "      <td>366</td>\n",
       "    </tr>\n",
       "    <tr>\n",
       "      <th>212</th>\n",
       "      <td>7</td>\n",
       "      <td>70</td>\n",
       "      <td>490</td>\n",
       "    </tr>\n",
       "    <tr>\n",
       "      <th>1</th>\n",
       "      <td>8</td>\n",
       "      <td>91</td>\n",
       "      <td>728</td>\n",
       "    </tr>\n",
       "    <tr>\n",
       "      <th>10</th>\n",
       "      <td>9</td>\n",
       "      <td>402</td>\n",
       "      <td>3618</td>\n",
       "    </tr>\n",
       "    <tr>\n",
       "      <th>0</th>\n",
       "      <td>10</td>\n",
       "      <td>2988</td>\n",
       "      <td>29880</td>\n",
       "    </tr>\n",
       "  </tbody>\n",
       "</table>\n",
       "</div>"
      ],
      "text/plain": [
       "     poserank_count  unique_pdb_count    qtd\n",
       "107               1                75     75\n",
       "95                2                83    166\n",
       "156               3                60    180\n",
       "7                 4                50    200\n",
       "33                5                60    300\n",
       "67                6                61    366\n",
       "212               7                70    490\n",
       "1                 8                91    728\n",
       "10                9               402   3618\n",
       "0                10              2988  29880"
      ]
     },
     "execution_count": 51,
     "metadata": {},
     "output_type": "execute_result"
    }
   ],
   "source": [
    "sup"
   ]
  },
  {
   "cell_type": "code",
   "execution_count": 48,
   "id": "a4c34adb-bad0-451f-bad6-5500f6bcd4af",
   "metadata": {},
   "outputs": [],
   "source": [
    "sup['qtd'] = sup['poserank_count']*sup['unique_pdb_count']"
   ]
  },
  {
   "cell_type": "code",
   "execution_count": 50,
   "id": "989ae904-8760-4f1e-99c6-2158b19b23a3",
   "metadata": {},
   "outputs": [
    {
     "data": {
      "text/plain": [
       "36003"
      ]
     },
     "execution_count": 50,
     "metadata": {},
     "output_type": "execute_result"
    }
   ],
   "source": [
    "sup['qtd'].sum()"
   ]
  },
  {
   "cell_type": "code",
   "execution_count": 52,
   "id": "6393ad94-6597-41aa-be3d-934c668f8e99",
   "metadata": {},
   "outputs": [
    {
     "data": {
      "text/plain": [
       "5530.200000000001"
      ]
     },
     "execution_count": 52,
     "metadata": {},
     "output_type": "execute_result"
    }
   ],
   "source": [
    "27651* 0.2 "
   ]
  },
  {
   "cell_type": "code",
   "execution_count": 60,
   "id": "feebbe93-85ca-4385-afa3-9469b9ae3090",
   "metadata": {},
   "outputs": [
    {
     "data": {
      "text/plain": [
       "'7.99 %'"
      ]
     },
     "execution_count": 60,
     "metadata": {},
     "output_type": "execute_result"
    }
   ],
   "source": [
    "str(round(2209/(25442 + 2209)* 100, 2)) + \" %\" "
   ]
  },
  {
   "cell_type": "code",
   "execution_count": 54,
   "id": "1a021bbe-80e7-404d-a275-6b77eae9abe0",
   "metadata": {},
   "outputs": [
    {
     "name": "stdout",
     "output_type": "stream",
     "text": [
      "11.517428700769578\n"
     ]
    }
   ],
   "source": [
    "negative_instances = 25442\n",
    "positive_instances = 2209\n",
    "ratio = negative_instances / positive_instances\n",
    "print(ratio)"
   ]
  },
  {
   "cell_type": "code",
   "execution_count": 61,
   "id": "85369e3f-2940-4f40-a8cd-61dca0ebefa8",
   "metadata": {},
   "outputs": [
    {
     "data": {
      "text/plain": [
       "{0.0: 5092, 1.0: 437}"
      ]
     },
     "execution_count": 61,
     "metadata": {},
     "output_type": "execute_result"
    }
   ],
   "source": [
    "dict(Counter([label.y.tolist() for label in filtered_data_list[22121:27650]]))"
   ]
  },
  {
   "cell_type": "code",
   "execution_count": 63,
   "id": "18f50954-ddad-4c81-8ac2-69055cbd67eb",
   "metadata": {},
   "outputs": [
    {
     "data": {
      "text/plain": [
       "11.652173913043478"
      ]
     },
     "execution_count": 63,
     "metadata": {},
     "output_type": "execute_result"
    }
   ],
   "source": [
    "5092/437"
   ]
  },
  {
   "cell_type": "code",
   "execution_count": null,
   "id": "d208fe27-5a11-4965-98d3-b26df1625673",
   "metadata": {},
   "outputs": [],
   "source": []
  }
 ],
 "metadata": {
  "kernelspec": {
   "display_name": "Python 3 (ipykernel)",
   "language": "python",
   "name": "python3"
  },
  "language_info": {
   "codemirror_mode": {
    "name": "ipython",
    "version": 3
   },
   "file_extension": ".py",
   "mimetype": "text/x-python",
   "name": "python",
   "nbconvert_exporter": "python",
   "pygments_lexer": "ipython3",
   "version": "3.12.4"
  }
 },
 "nbformat": 4,
 "nbformat_minor": 5
}
