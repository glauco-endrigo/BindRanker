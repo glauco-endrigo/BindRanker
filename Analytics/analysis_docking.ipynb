{
 "cells": [
  {
   "cell_type": "code",
   "execution_count": 35,
   "id": "49ff6d30-6512-46be-a810-1305ff893e9d",
   "metadata": {},
   "outputs": [],
   "source": [
    "import pandas as pd\n",
    "import os\n",
    "import torch\n",
    "import json\n",
    "import numpy as np"
   ]
  },
  {
   "cell_type": "code",
   "execution_count": 36,
   "id": "db477c79-2c95-4f0b-a704-47a1130c3004",
   "metadata": {},
   "outputs": [],
   "source": [
    "import matplotlib.pyplot as plt"
   ]
  },
  {
   "cell_type": "code",
   "execution_count": 37,
   "id": "1b2f3e1e-b57f-4331-89e0-f0477914441b",
   "metadata": {},
   "outputs": [],
   "source": [
    "%run ../Config.ipynb"
   ]
  },
  {
   "cell_type": "code",
   "execution_count": 38,
   "id": "ce173ca8-39a4-4571-bc9f-587e50ec2f54",
   "metadata": {},
   "outputs": [],
   "source": [
    "config = Config()"
   ]
  },
  {
   "cell_type": "markdown",
   "id": "25abc3ce-3dbc-4cf4-a835-950913bf5bfc",
   "metadata": {},
   "source": [
    "#### Set sent to be docked "
   ]
  },
  {
   "cell_type": "code",
   "execution_count": 55,
   "id": "47f5ed65-e8d2-4f93-a85f-a56e5d294a60",
   "metadata": {},
   "outputs": [],
   "source": [
    "refined_set_reduced = pd.read_csv('../Datahub/pdbs_refined_set.csv')"
   ]
  },
  {
   "cell_type": "code",
   "execution_count": 40,
   "id": "aa6a4c2d-8acb-4bd1-8ac2-24339d75c6c8",
   "metadata": {},
   "outputs": [
    {
     "data": {
      "text/plain": [
       "4790"
      ]
     },
     "execution_count": 40,
     "metadata": {},
     "output_type": "execute_result"
    }
   ],
   "source": [
    "len(refined_set_reduced)"
   ]
  },
  {
   "cell_type": "code",
   "execution_count": 41,
   "id": "b5f125e9-9b17-4189-a67b-7add9bbecbe5",
   "metadata": {},
   "outputs": [
    {
     "data": {
      "text/plain": [
       "False"
      ]
     },
     "execution_count": 41,
     "metadata": {},
     "output_type": "execute_result"
    }
   ],
   "source": [
    "\"4eor\" in list(refined_set['PDB code'])"
   ]
  },
  {
   "cell_type": "markdown",
   "id": "e705601d-d849-4e44-b996-de6be5dd92fe",
   "metadata": {},
   "source": [
    "#### pdbs that were meant to be docked "
   ]
  },
  {
   "cell_type": "markdown",
   "id": "d544f981-6c6f-4787-abd4-d70ffa2d13fe",
   "metadata": {},
   "source": [
    "#### PDbs docked "
   ]
  },
  {
   "cell_type": "code",
   "execution_count": 42,
   "id": "7415ec3e-df06-4e7f-88b8-8c1e9daf37df",
   "metadata": {},
   "outputs": [],
   "source": [
    "import os\n",
    "\n",
    "def find_pdb_with_results(path):\n",
    "    # Get the list of pdb folders in the specified path\n",
    "    pdb_folders = [folder for folder in os.listdir(path) if os.path.isdir(os.path.join(path, folder))]\n",
    "\n",
    "    # Initialize list to store pdb folders with 'results'\n",
    "    pdb_with_results = []\n",
    "\n",
    "    for pdb_folder in pdb_folders:\n",
    "        pdb_path = os.path.join(path, pdb_folder)\n",
    "        results_path = os.path.join(pdb_path, 'results')\n",
    "\n",
    "        # Check if the 'results' folder exists in the pdb folder\n",
    "        if os.path.exists(results_path) and os.path.isdir(results_path):\n",
    "            pdb_with_results.append(pdb_folder)\n",
    "\n",
    "    return pdb_with_results\n",
    "\n",
    "# Specify the path to the 'set' folder\n",
    "set_folder_path = '../set'\n",
    "\n",
    "# Call the function to find pdb folders with 'results'\n",
    "result_pdbs = find_pdb_with_results(set_folder_path)"
   ]
  },
  {
   "cell_type": "markdown",
   "id": "e635874f-678c-408d-b73a-6bfe3e5ce242",
   "metadata": {},
   "source": [
    "#### QTD pdbs docked "
   ]
  },
  {
   "cell_type": "code",
   "execution_count": 43,
   "id": "eb6b500c-e5d4-42df-bd45-529253d96e8b",
   "metadata": {},
   "outputs": [
    {
     "data": {
      "text/plain": [
       "3998"
      ]
     },
     "execution_count": 43,
     "metadata": {},
     "output_type": "execute_result"
    }
   ],
   "source": [
    "len(result_pdbs)"
   ]
  },
  {
   "cell_type": "code",
   "execution_count": 44,
   "id": "eee2963f-adb9-4636-98ab-6a80d321c30d",
   "metadata": {},
   "outputs": [
    {
     "data": {
      "text/plain": [
       "False"
      ]
     },
     "execution_count": 44,
     "metadata": {},
     "output_type": "execute_result"
    }
   ],
   "source": [
    "\"5qa8\" in result_pdbs"
   ]
  },
  {
   "cell_type": "markdown",
   "id": "8d2960d8-cb27-40e8-91a8-cc7b4547f330",
   "metadata": {},
   "source": [
    "#### QTD Pdbs com rmsd calculdados com sucesso "
   ]
  },
  {
   "cell_type": "code",
   "execution_count": 45,
   "id": "d8c268fa-a0cd-458f-bb5b-a74dadad5279",
   "metadata": {},
   "outputs": [],
   "source": [
    "rmsd = pd.read_csv(f\"{config.data}/rmsd_refined_set.csv\") # rmsd"
   ]
  },
  {
   "cell_type": "code",
   "execution_count": 46,
   "id": "63f34c49-2ce5-432a-bb50-32c4c0c7cb4c",
   "metadata": {},
   "outputs": [
    {
     "data": {
      "text/plain": [
       "3940"
      ]
     },
     "execution_count": 46,
     "metadata": {},
     "output_type": "execute_result"
    }
   ],
   "source": [
    "rmsd['pdb'].nunique()"
   ]
  },
  {
   "cell_type": "markdown",
   "id": "ce781123-8c99-4ce4-a626-e96a202da536",
   "metadata": {},
   "source": [
    "#### QTd pdbs com menos de 10 poses "
   ]
  },
  {
   "cell_type": "code",
   "execution_count": 47,
   "id": "a4bbb7fb-b40a-4d79-8582-9a4f36410143",
   "metadata": {},
   "outputs": [],
   "source": [
    "import seaborn as sns "
   ]
  },
  {
   "cell_type": "code",
   "execution_count": 48,
   "id": "86bed2ce-c03a-4739-9172-e7d8b651bf3c",
   "metadata": {},
   "outputs": [],
   "source": [
    "rmsd_pose_count = rmsd.groupby('pdb')['poserank'].nunique().sort_values().reset_index()"
   ]
  },
  {
   "cell_type": "code",
   "execution_count": 49,
   "id": "a6f3ae17-5039-4118-ad96-1596c4bddff1",
   "metadata": {
    "scrolled": true
   },
   "outputs": [
    {
     "data": {
      "text/plain": [
       "952"
      ]
     },
     "execution_count": 49,
     "metadata": {},
     "output_type": "execute_result"
    }
   ],
   "source": [
    "rmsd_pose_count[rmsd_pose_count['poserank'] !=10 ]['pdb'].nunique()"
   ]
  },
  {
   "cell_type": "markdown",
   "id": "86f03a15-0890-46af-96d9-7b703862dbb5",
   "metadata": {},
   "source": [
    "### Binana "
   ]
  },
  {
   "cell_type": "markdown",
   "id": "21a15a4c-0c93-4053-a679-3bc9027c2b53",
   "metadata": {},
   "source": [
    "#### QTD PDbs que o binana gerou resultados "
   ]
  },
  {
   "cell_type": "markdown",
   "id": "cd8bc18e-328c-4cff-9433-8adbabd8e567",
   "metadata": {},
   "source": [
    "#### Tempo para rodar por quantidade de pdbs "
   ]
  },
  {
   "cell_type": "markdown",
   "id": "43d007a3-4305-484f-96f6-4d635c1570c6",
   "metadata": {},
   "source": [
    "284 - PDBs - 29 min!"
   ]
  },
  {
   "cell_type": "code",
   "execution_count": 59,
   "id": "8ce5e74a-18df-434e-a203-d9cc8bb4fb62",
   "metadata": {},
   "outputs": [],
   "source": [
    "pdb = \"5qa8\""
   ]
  },
  {
   "cell_type": "code",
   "execution_count": 60,
   "id": "4a93d7dd-0a03-4567-afbb-62c4cefefa19",
   "metadata": {},
   "outputs": [
    {
     "data": {
      "text/plain": [
       "True"
      ]
     },
     "execution_count": 60,
     "metadata": {},
     "output_type": "execute_result"
    }
   ],
   "source": [
    "pdb in list(refined_set_reduced['PDB code'])"
   ]
  },
  {
   "cell_type": "code",
   "execution_count": 61,
   "id": "e5e58736-5910-40fc-95f4-ef0070e221d3",
   "metadata": {},
   "outputs": [
    {
     "data": {
      "text/plain": [
       "False"
      ]
     },
     "execution_count": 61,
     "metadata": {},
     "output_type": "execute_result"
    }
   ],
   "source": [
    "pdb in result_pdbs"
   ]
  },
  {
   "cell_type": "code",
   "execution_count": null,
   "id": "5a78b89e-6bdc-4d2b-9e34-6761bccfb1ee",
   "metadata": {},
   "outputs": [],
   "source": []
  },
  {
   "cell_type": "code",
   "execution_count": null,
   "id": "2e8c9b06-6bca-4f7d-af35-67ad9ab22d7e",
   "metadata": {},
   "outputs": [],
   "source": []
  }
 ],
 "metadata": {
  "kernelspec": {
   "display_name": "Python 3 (ipykernel)",
   "language": "python",
   "name": "python3"
  },
  "language_info": {
   "codemirror_mode": {
    "name": "ipython",
    "version": 3
   },
   "file_extension": ".py",
   "mimetype": "text/x-python",
   "name": "python",
   "nbconvert_exporter": "python",
   "pygments_lexer": "ipython3",
   "version": "3.11.4"
  }
 },
 "nbformat": 4,
 "nbformat_minor": 5
}
