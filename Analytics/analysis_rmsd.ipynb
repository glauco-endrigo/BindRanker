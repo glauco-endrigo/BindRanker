{
 "cells": [
  {
   "cell_type": "markdown",
   "id": "5fb37898",
   "metadata": {},
   "source": [
    "    Calculating RMDS using RDKit and AllChem.AlignMol\n",
    "    Author: Glauco Endrigo\n",
    "    Researcher at Universidade federal do abc"
   ]
  },
  {
   "cell_type": "markdown",
   "id": "4fecac7f",
   "metadata": {},
   "source": [
    "#### Using rdkit, Chem  "
   ]
  },
  {
   "cell_type": "code",
   "execution_count": 16,
   "id": "cbd5d6bf-aa65-4482-8e08-8df36909120f",
   "metadata": {},
   "outputs": [],
   "source": [
    "from rdkit.Contrib.CalcLigRMSD.CalcLigRMSD import CalcLigRMSD\n",
    "import pandas as pd\n",
    "import os\n",
    "import csv\n",
    "from rdkit import Chem\n",
    "from rdkit.Chem import AllChem\n",
    "import torch\n",
    "from tqdm import tqdm\n",
    "from Bio import PDB\n",
    "import numpy as np"
   ]
  },
  {
   "cell_type": "code",
   "execution_count": 17,
   "id": "17983a07-e085-4cf9-9454-b811ff2ccda7",
   "metadata": {},
   "outputs": [],
   "source": [
    "%run ../Config.ipynb"
   ]
  },
  {
   "cell_type": "code",
   "execution_count": 18,
   "id": "d5e5e1c1-a785-4b4c-92c3-4696bb182bbf",
   "metadata": {},
   "outputs": [],
   "source": [
    "config = Config()"
   ]
  },
  {
   "cell_type": "markdown",
   "id": "d6f8acd3-a104-4af8-85bc-39b1c17382c3",
   "metadata": {},
   "source": [
    "#### Opening  "
   ]
  },
  {
   "cell_type": "code",
   "execution_count": 19,
   "id": "956d31e1-5654-47f1-b363-d0d6ab5e2c62",
   "metadata": {},
   "outputs": [],
   "source": [
    "datos = pd.read_csv(\"../Datahub/Data/rmsd.csv\")"
   ]
  },
  {
   "cell_type": "code",
   "execution_count": 20,
   "id": "14d64fad-7e70-4d2f-a04d-b92a1cd8ac0f",
   "metadata": {},
   "outputs": [
    {
     "data": {
      "text/plain": [
       "280"
      ]
     },
     "execution_count": 20,
     "metadata": {},
     "output_type": "execute_result"
    }
   ],
   "source": [
    "datos['pdb'].nunique()"
   ]
  },
  {
   "cell_type": "code",
   "execution_count": 21,
   "id": "d16ead4b-bde5-43e6-8eb2-7b430977cf60",
   "metadata": {},
   "outputs": [
    {
     "data": {
      "text/plain": [
       "2537"
      ]
     },
     "execution_count": 21,
     "metadata": {},
     "output_type": "execute_result"
    }
   ],
   "source": [
    "len(datos)"
   ]
  },
  {
   "cell_type": "code",
   "execution_count": 22,
   "id": "8a0826d2-6926-4ee6-99a6-9de42775e488",
   "metadata": {},
   "outputs": [
    {
     "data": {
      "text/html": [
       "<div>\n",
       "<style scoped>\n",
       "    .dataframe tbody tr th:only-of-type {\n",
       "        vertical-align: middle;\n",
       "    }\n",
       "\n",
       "    .dataframe tbody tr th {\n",
       "        vertical-align: top;\n",
       "    }\n",
       "\n",
       "    .dataframe thead th {\n",
       "        text-align: right;\n",
       "    }\n",
       "</style>\n",
       "<table border=\"1\" class=\"dataframe\">\n",
       "  <thead>\n",
       "    <tr style=\"text-align: right;\">\n",
       "      <th></th>\n",
       "      <th>index</th>\n",
       "      <th>poserank</th>\n",
       "    </tr>\n",
       "  </thead>\n",
       "  <tbody>\n",
       "    <tr>\n",
       "      <th>0</th>\n",
       "      <td>10</td>\n",
       "      <td>190</td>\n",
       "    </tr>\n",
       "    <tr>\n",
       "      <th>1</th>\n",
       "      <td>9</td>\n",
       "      <td>51</td>\n",
       "    </tr>\n",
       "    <tr>\n",
       "      <th>2</th>\n",
       "      <td>1</td>\n",
       "      <td>7</td>\n",
       "    </tr>\n",
       "    <tr>\n",
       "      <th>3</th>\n",
       "      <td>6</td>\n",
       "      <td>6</td>\n",
       "    </tr>\n",
       "    <tr>\n",
       "      <th>4</th>\n",
       "      <td>5</td>\n",
       "      <td>6</td>\n",
       "    </tr>\n",
       "    <tr>\n",
       "      <th>5</th>\n",
       "      <td>8</td>\n",
       "      <td>5</td>\n",
       "    </tr>\n",
       "    <tr>\n",
       "      <th>6</th>\n",
       "      <td>7</td>\n",
       "      <td>5</td>\n",
       "    </tr>\n",
       "    <tr>\n",
       "      <th>7</th>\n",
       "      <td>3</td>\n",
       "      <td>4</td>\n",
       "    </tr>\n",
       "    <tr>\n",
       "      <th>8</th>\n",
       "      <td>4</td>\n",
       "      <td>3</td>\n",
       "    </tr>\n",
       "    <tr>\n",
       "      <th>9</th>\n",
       "      <td>2</td>\n",
       "      <td>3</td>\n",
       "    </tr>\n",
       "  </tbody>\n",
       "</table>\n",
       "</div>"
      ],
      "text/plain": [
       "   index  poserank\n",
       "0     10       190\n",
       "1      9        51\n",
       "2      1         7\n",
       "3      6         6\n",
       "4      5         6\n",
       "5      8         5\n",
       "6      7         5\n",
       "7      3         4\n",
       "8      4         3\n",
       "9      2         3"
      ]
     },
     "execution_count": 22,
     "metadata": {},
     "output_type": "execute_result"
    }
   ],
   "source": [
    "datos.groupby(['pdb'])['poserank'].nunique().sort_values(ascending = False).value_counts().reset_index()"
   ]
  },
  {
   "cell_type": "code",
   "execution_count": 23,
   "id": "4461da4a-a890-44e5-a1d9-292a57cdc005",
   "metadata": {},
   "outputs": [
    {
     "data": {
      "text/html": [
       "<div>\n",
       "<style scoped>\n",
       "    .dataframe tbody tr th:only-of-type {\n",
       "        vertical-align: middle;\n",
       "    }\n",
       "\n",
       "    .dataframe tbody tr th {\n",
       "        vertical-align: top;\n",
       "    }\n",
       "\n",
       "    .dataframe thead th {\n",
       "        text-align: right;\n",
       "    }\n",
       "</style>\n",
       "<table border=\"1\" class=\"dataframe\">\n",
       "  <thead>\n",
       "    <tr style=\"text-align: right;\">\n",
       "      <th></th>\n",
       "      <th>pdb</th>\n",
       "      <th>poserank</th>\n",
       "      <th>RMSD</th>\n",
       "    </tr>\n",
       "  </thead>\n",
       "  <tbody>\n",
       "    <tr>\n",
       "      <th>577</th>\n",
       "      <td>1a30</td>\n",
       "      <td>1</td>\n",
       "      <td>5.40</td>\n",
       "    </tr>\n",
       "    <tr>\n",
       "      <th>578</th>\n",
       "      <td>1a30</td>\n",
       "      <td>2</td>\n",
       "      <td>9.04</td>\n",
       "    </tr>\n",
       "    <tr>\n",
       "      <th>579</th>\n",
       "      <td>1a30</td>\n",
       "      <td>3</td>\n",
       "      <td>6.84</td>\n",
       "    </tr>\n",
       "    <tr>\n",
       "      <th>580</th>\n",
       "      <td>1a30</td>\n",
       "      <td>4</td>\n",
       "      <td>7.84</td>\n",
       "    </tr>\n",
       "    <tr>\n",
       "      <th>581</th>\n",
       "      <td>1a30</td>\n",
       "      <td>5</td>\n",
       "      <td>6.18</td>\n",
       "    </tr>\n",
       "    <tr>\n",
       "      <th>582</th>\n",
       "      <td>1a30</td>\n",
       "      <td>6</td>\n",
       "      <td>4.11</td>\n",
       "    </tr>\n",
       "    <tr>\n",
       "      <th>583</th>\n",
       "      <td>1a30</td>\n",
       "      <td>7</td>\n",
       "      <td>8.16</td>\n",
       "    </tr>\n",
       "    <tr>\n",
       "      <th>584</th>\n",
       "      <td>1a30</td>\n",
       "      <td>8</td>\n",
       "      <td>2.80</td>\n",
       "    </tr>\n",
       "    <tr>\n",
       "      <th>585</th>\n",
       "      <td>1a30</td>\n",
       "      <td>9</td>\n",
       "      <td>9.83</td>\n",
       "    </tr>\n",
       "    <tr>\n",
       "      <th>586</th>\n",
       "      <td>1a30</td>\n",
       "      <td>10</td>\n",
       "      <td>7.69</td>\n",
       "    </tr>\n",
       "  </tbody>\n",
       "</table>\n",
       "</div>"
      ],
      "text/plain": [
       "      pdb  poserank  RMSD\n",
       "577  1a30         1  5.40\n",
       "578  1a30         2  9.04\n",
       "579  1a30         3  6.84\n",
       "580  1a30         4  7.84\n",
       "581  1a30         5  6.18\n",
       "582  1a30         6  4.11\n",
       "583  1a30         7  8.16\n",
       "584  1a30         8  2.80\n",
       "585  1a30         9  9.83\n",
       "586  1a30        10  7.69"
      ]
     },
     "execution_count": 23,
     "metadata": {},
     "output_type": "execute_result"
    }
   ],
   "source": [
    "datos[datos['pdb'] == '1a30']"
   ]
  },
  {
   "cell_type": "markdown",
   "id": "81a5b01e-4dac-4693-bf59-978ee0228f49",
   "metadata": {},
   "source": [
    "#### Rmsd Analysis"
   ]
  },
  {
   "cell_type": "code",
   "execution_count": 24,
   "id": "1905d6b1-0abc-4f74-991a-e35c76979059",
   "metadata": {},
   "outputs": [],
   "source": [
    "best_rmsd = datos.sort_values([\"pdb\", \"RMSD\"]).drop_duplicates(\"pdb\", keep = \"first\")"
   ]
  },
  {
   "cell_type": "code",
   "execution_count": 25,
   "id": "0e515bcd-dad7-47c7-9261-c14d5f1bd94b",
   "metadata": {},
   "outputs": [],
   "source": [
    "path_to_docked = \"/home/lbcb02/Workspace/General data/docked/ex_50_bz_10_poses_10_v2\"\n",
    "lepton = pd.DataFrame(columns = [\"pdb\",\"class\"])\n",
    "\n",
    "for class_ in [\"best\",\"good\",\"bad\",\"verybad\"]: \n",
    "    color_path = os.path.join(path_to_docked, class_)\n",
    "    if os.path.exists(color_path):\n",
    "        for pdb in os.listdir(color_path):\n",
    "            lepton = lepton.append({\"pdb\":pdb, \"class\":class_}, ignore_index = True)\n",
    "    else:\n",
    "        print(\"Incorrect path\")"
   ]
  },
  {
   "cell_type": "code",
   "execution_count": 26,
   "id": "c69146f6-465a-4afa-aab8-0cabacb0def3",
   "metadata": {},
   "outputs": [],
   "source": [
    "merged_best = pd.merge(best_rmsd, lepton, on = ['pdb'], how = \"inner\")"
   ]
  },
  {
   "cell_type": "code",
   "execution_count": 27,
   "id": "117b3070-e27d-4109-b02c-9b52b4b97d45",
   "metadata": {},
   "outputs": [
    {
     "data": {
      "text/html": [
       "<div>\n",
       "<style scoped>\n",
       "    .dataframe tbody tr th:only-of-type {\n",
       "        vertical-align: middle;\n",
       "    }\n",
       "\n",
       "    .dataframe tbody tr th {\n",
       "        vertical-align: top;\n",
       "    }\n",
       "\n",
       "    .dataframe thead th {\n",
       "        text-align: right;\n",
       "    }\n",
       "</style>\n",
       "<table border=\"1\" class=\"dataframe\">\n",
       "  <thead>\n",
       "    <tr style=\"text-align: right;\">\n",
       "      <th></th>\n",
       "      <th>pdb</th>\n",
       "      <th>poserank</th>\n",
       "      <th>RMSD</th>\n",
       "      <th>class</th>\n",
       "    </tr>\n",
       "  </thead>\n",
       "  <tbody>\n",
       "    <tr>\n",
       "      <th>0</th>\n",
       "      <td>1a30</td>\n",
       "      <td>8</td>\n",
       "      <td>2.80</td>\n",
       "      <td>verybad</td>\n",
       "    </tr>\n",
       "    <tr>\n",
       "      <th>1</th>\n",
       "      <td>1bcu</td>\n",
       "      <td>3</td>\n",
       "      <td>0.40</td>\n",
       "      <td>best</td>\n",
       "    </tr>\n",
       "    <tr>\n",
       "      <th>2</th>\n",
       "      <td>1bzc</td>\n",
       "      <td>1</td>\n",
       "      <td>0.62</td>\n",
       "      <td>good</td>\n",
       "    </tr>\n",
       "    <tr>\n",
       "      <th>3</th>\n",
       "      <td>1c5z</td>\n",
       "      <td>2</td>\n",
       "      <td>0.29</td>\n",
       "      <td>best</td>\n",
       "    </tr>\n",
       "    <tr>\n",
       "      <th>4</th>\n",
       "      <td>1e66</td>\n",
       "      <td>1</td>\n",
       "      <td>0.28</td>\n",
       "      <td>best</td>\n",
       "    </tr>\n",
       "  </tbody>\n",
       "</table>\n",
       "</div>"
      ],
      "text/plain": [
       "    pdb  poserank  RMSD    class\n",
       "0  1a30         8  2.80  verybad\n",
       "1  1bcu         3  0.40     best\n",
       "2  1bzc         1  0.62     good\n",
       "3  1c5z         2  0.29     best\n",
       "4  1e66         1  0.28     best"
      ]
     },
     "execution_count": 27,
     "metadata": {},
     "output_type": "execute_result"
    }
   ],
   "source": [
    "merged_best.head()"
   ]
  },
  {
   "cell_type": "code",
   "execution_count": 28,
   "id": "ffcf7761-2a58-4848-9aa7-b55b51273b84",
   "metadata": {},
   "outputs": [
    {
     "data": {
      "text/html": [
       "<div>\n",
       "<style scoped>\n",
       "    .dataframe tbody tr th:only-of-type {\n",
       "        vertical-align: middle;\n",
       "    }\n",
       "\n",
       "    .dataframe tbody tr th {\n",
       "        vertical-align: top;\n",
       "    }\n",
       "\n",
       "    .dataframe thead th {\n",
       "        text-align: right;\n",
       "    }\n",
       "</style>\n",
       "<table border=\"1\" class=\"dataframe\">\n",
       "  <thead>\n",
       "    <tr style=\"text-align: right;\">\n",
       "      <th></th>\n",
       "      <th>class</th>\n",
       "      <th>mean</th>\n",
       "    </tr>\n",
       "  </thead>\n",
       "  <tbody>\n",
       "    <tr>\n",
       "      <th>0</th>\n",
       "      <td>bad</td>\n",
       "      <td>1.145116</td>\n",
       "    </tr>\n",
       "    <tr>\n",
       "      <th>1</th>\n",
       "      <td>best</td>\n",
       "      <td>0.568981</td>\n",
       "    </tr>\n",
       "    <tr>\n",
       "      <th>2</th>\n",
       "      <td>good</td>\n",
       "      <td>1.021316</td>\n",
       "    </tr>\n",
       "    <tr>\n",
       "      <th>3</th>\n",
       "      <td>verybad</td>\n",
       "      <td>2.437857</td>\n",
       "    </tr>\n",
       "  </tbody>\n",
       "</table>\n",
       "</div>"
      ],
      "text/plain": [
       "     class      mean\n",
       "0      bad  1.145116\n",
       "1     best  0.568981\n",
       "2     good  1.021316\n",
       "3  verybad  2.437857"
      ]
     },
     "execution_count": 28,
     "metadata": {},
     "output_type": "execute_result"
    }
   ],
   "source": [
    "merged_best.groupby(\"class\")['RMSD'].describe()['mean'].reset_index()"
   ]
  },
  {
   "cell_type": "markdown",
   "id": "5e9b9557-b3cd-494c-897e-0a8a6e6f5d95",
   "metadata": {},
   "source": [
    "#### RMSD "
   ]
  },
  {
   "cell_type": "code",
   "execution_count": 29,
   "id": "183a45ef-efa3-44ed-a26d-c19dc506aeed",
   "metadata": {},
   "outputs": [
    {
     "data": {
      "text/plain": [
       "<AxesSubplot:>"
      ]
     },
     "execution_count": 29,
     "metadata": {},
     "output_type": "execute_result"
    },
    {
     "data": {
      "image/png": "[encoded data removed]",
      "text/plain": [
       "<Figure size 640x480 with 1 Axes>"
      ]
     },
     "metadata": {},
     "output_type": "display_data"
    }
   ],
   "source": [
    "merged_best[merged_best['class']=='verybad']['RMSD'].hist()"
   ]
  },
  {
   "cell_type": "code",
   "execution_count": 30,
   "id": "c1d1ceac-38a6-4f95-9171-d49cacdf6434",
   "metadata": {},
   "outputs": [],
   "source": [
    "merged = pd.merge(datos, lepton, on = ['pdb'], how = \"inner\")"
   ]
  },
  {
   "cell_type": "code",
   "execution_count": 31,
   "id": "5f228c0b-918d-4e78-9400-931ba2c96043",
   "metadata": {},
   "outputs": [
    {
     "data": {
      "text/plain": [
       "<AxesSubplot:>"
      ]
     },
     "execution_count": 31,
     "metadata": {},
     "output_type": "execute_result"
    },
    {
     "data": {
      "image/png": "[encoded data removed]",
      "text/plain": [
       "<Figure size 640x480 with 1 Axes>"
      ]
     },
     "metadata": {},
     "output_type": "display_data"
    }
   ],
   "source": [
    "merged[merged['class']=='verybad']['RMSD'].hist()"
   ]
  },
  {
   "cell_type": "markdown",
   "id": "3d633a54-4d39-4930-a0f4-f5f1c0be1522",
   "metadata": {
    "jp-MarkdownHeadingCollapsed": true
   },
   "source": [
    "#### Scores"
   ]
  },
  {
   "cell_type": "code",
   "execution_count": 41,
   "id": "7177b09f-248a-4d17-a9d9-ddd6f875199e",
   "metadata": {},
   "outputs": [],
   "source": [
    "score = pd.read_json(\"../Datahub/Data/score.json\").unstack().reset_index().rename(columns = {\"level_0\":\"pdb\",\"level_1\":\"pose\",0:\"score\"})"
   ]
  },
  {
   "cell_type": "code",
   "execution_count": 42,
   "id": "5a8484ba-805f-47b5-9d54-5c46466037e5",
   "metadata": {},
   "outputs": [],
   "source": [
    "score_best = score.sort_values([\"pdb\", \"score\"]).drop_duplicates(\"pdb\", keep = \"last\")"
   ]
  },
  {
   "cell_type": "code",
   "execution_count": 43,
   "id": "8b30b289-d8f4-47c7-bbca-63dccfea6754",
   "metadata": {},
   "outputs": [],
   "source": [
    "merged = pd.merge(score_best, lepton, on = ['pdb'], how = \"inner\")"
   ]
  },
  {
   "cell_type": "code",
   "execution_count": 44,
   "id": "77fd8877-2be8-4b87-a1ea-31084ba4a07f",
   "metadata": {},
   "outputs": [
    {
     "data": {
      "text/html": [
       "<div>\n",
       "<style scoped>\n",
       "    .dataframe tbody tr th:only-of-type {\n",
       "        vertical-align: middle;\n",
       "    }\n",
       "\n",
       "    .dataframe tbody tr th {\n",
       "        vertical-align: top;\n",
       "    }\n",
       "\n",
       "    .dataframe thead th {\n",
       "        text-align: right;\n",
       "    }\n",
       "</style>\n",
       "<table border=\"1\" class=\"dataframe\">\n",
       "  <thead>\n",
       "    <tr style=\"text-align: right;\">\n",
       "      <th></th>\n",
       "      <th>pdb</th>\n",
       "      <th>pose</th>\n",
       "      <th>score</th>\n",
       "      <th>class</th>\n",
       "    </tr>\n",
       "  </thead>\n",
       "  <tbody>\n",
       "    <tr>\n",
       "      <th>0</th>\n",
       "      <td>1a30</td>\n",
       "      <td>8</td>\n",
       "      <td>45.901639</td>\n",
       "      <td>verybad</td>\n",
       "    </tr>\n",
       "  </tbody>\n",
       "</table>\n",
       "</div>"
      ],
      "text/plain": [
       "    pdb  pose      score    class\n",
       "0  1a30     8  45.901639  verybad"
      ]
     },
     "execution_count": 44,
     "metadata": {},
     "output_type": "execute_result"
    }
   ],
   "source": [
    "merged[merged['pdb'] == '1a30']"
   ]
  },
  {
   "cell_type": "code",
   "execution_count": 45,
   "id": "fe816063-2d71-44d7-bc49-816ef88bf237",
   "metadata": {},
   "outputs": [
    {
     "data": {
      "text/html": [
       "<div>\n",
       "<style scoped>\n",
       "    .dataframe tbody tr th:only-of-type {\n",
       "        vertical-align: middle;\n",
       "    }\n",
       "\n",
       "    .dataframe tbody tr th {\n",
       "        vertical-align: top;\n",
       "    }\n",
       "\n",
       "    .dataframe thead th {\n",
       "        text-align: right;\n",
       "    }\n",
       "</style>\n",
       "<table border=\"1\" class=\"dataframe\">\n",
       "  <thead>\n",
       "    <tr style=\"text-align: right;\">\n",
       "      <th></th>\n",
       "      <th>pdb</th>\n",
       "      <th>pose</th>\n",
       "      <th>score</th>\n",
       "      <th>class</th>\n",
       "    </tr>\n",
       "  </thead>\n",
       "  <tbody>\n",
       "    <tr>\n",
       "      <th>1</th>\n",
       "      <td>1bcu</td>\n",
       "      <td>1</td>\n",
       "      <td>92.424242</td>\n",
       "      <td>best</td>\n",
       "    </tr>\n",
       "    <tr>\n",
       "      <th>3</th>\n",
       "      <td>1c5z</td>\n",
       "      <td>1</td>\n",
       "      <td>62.637363</td>\n",
       "      <td>best</td>\n",
       "    </tr>\n",
       "    <tr>\n",
       "      <th>4</th>\n",
       "      <td>1e66</td>\n",
       "      <td>1</td>\n",
       "      <td>79.130435</td>\n",
       "      <td>best</td>\n",
       "    </tr>\n",
       "    <tr>\n",
       "      <th>5</th>\n",
       "      <td>1eby</td>\n",
       "      <td>1</td>\n",
       "      <td>82.125604</td>\n",
       "      <td>best</td>\n",
       "    </tr>\n",
       "    <tr>\n",
       "      <th>7</th>\n",
       "      <td>1gpk</td>\n",
       "      <td>1</td>\n",
       "      <td>80.808081</td>\n",
       "      <td>best</td>\n",
       "    </tr>\n",
       "  </tbody>\n",
       "</table>\n",
       "</div>"
      ],
      "text/plain": [
       "    pdb  pose      score class\n",
       "1  1bcu     1  92.424242  best\n",
       "3  1c5z     1  62.637363  best\n",
       "4  1e66     1  79.130435  best\n",
       "5  1eby     1  82.125604  best\n",
       "7  1gpk     1  80.808081  best"
      ]
     },
     "execution_count": 45,
     "metadata": {},
     "output_type": "execute_result"
    }
   ],
   "source": [
    "merged[merged['class'] == 'best'].head()"
   ]
  },
  {
   "cell_type": "markdown",
   "id": "cbc9c84a-91b9-4dee-a25f-114f10802bfc",
   "metadata": {},
   "source": [
    "#### Gráficos de densidade "
   ]
  },
  {
   "cell_type": "code",
   "execution_count": 34,
   "id": "2dd7d8c4-d685-4f02-9a05-0847854d25cf",
   "metadata": {},
   "outputs": [],
   "source": [
    "import matplotlib.pyplot as plt"
   ]
  },
  {
   "cell_type": "code",
   "execution_count": 35,
   "id": "61ce1652-c397-4e9d-8f41-e65659e5f399",
   "metadata": {},
   "outputs": [
    {
     "data": {
      "image/png": "[encoded data removed]",
      "text/plain": [
       "<Figure size 640x480 with 1 Axes>"
      ]
     },
     "metadata": {},
     "output_type": "display_data"
    }
   ],
   "source": [
    "import seaborn as sns\n",
    "import matplotlib.pyplot as plt\n",
    "\n",
    "# Set the style for the plot\n",
    "sns.set(style=\"whitegrid\")\n",
    "\n",
    "# Create a figure and axis\n",
    "fig, ax = plt.subplots()\n",
    "\n",
    "# Plot density plots for each class with increased transparency\n",
    "sns.kdeplot(data=merged[merged['class'] == 'best'], x='score', fill=True, color='darkblue', alpha=0.3, ax=ax, label='Very Good')\n",
    "sns.kdeplot(data=merged[merged['class'] == 'good'], x='score', fill=True, color='pink', alpha=0.3, ax=ax, label='Good')\n",
    "sns.kdeplot(data=merged[merged['class'] == 'bad'], x='score', fill=True, color='orange', alpha=0.3, ax=ax, label='Bad')\n",
    "sns.kdeplot(data=merged[merged['class'] == 'verybad'], x='score', fill=True, color='red', alpha=0.3, ax=ax, label='Very Bad')\n",
    "\n",
    "# Show the legend\n",
    "ax.legend()\n",
    "\n",
    "# Display the plot\n",
    "plt.show()\n"
   ]
  },
  {
   "cell_type": "code",
   "execution_count": 41,
   "id": "2c1f1b9d-27c8-43ce-a013-b5daa4bf9d0f",
   "metadata": {},
   "outputs": [
    {
     "data": {
      "text/html": [
       "<div>\n",
       "<style scoped>\n",
       "    .dataframe tbody tr th:only-of-type {\n",
       "        vertical-align: middle;\n",
       "    }\n",
       "\n",
       "    .dataframe tbody tr th {\n",
       "        vertical-align: top;\n",
       "    }\n",
       "\n",
       "    .dataframe thead th {\n",
       "        text-align: right;\n",
       "    }\n",
       "</style>\n",
       "<table border=\"1\" class=\"dataframe\">\n",
       "  <thead>\n",
       "    <tr style=\"text-align: right;\">\n",
       "      <th></th>\n",
       "      <th>class</th>\n",
       "      <th>min</th>\n",
       "      <th>max</th>\n",
       "    </tr>\n",
       "  </thead>\n",
       "  <tbody>\n",
       "    <tr>\n",
       "      <th>0</th>\n",
       "      <td>bad</td>\n",
       "      <td>35.416667</td>\n",
       "      <td>86.000000</td>\n",
       "    </tr>\n",
       "    <tr>\n",
       "      <th>1</th>\n",
       "      <td>best</td>\n",
       "      <td>44.954128</td>\n",
       "      <td>96.396396</td>\n",
       "    </tr>\n",
       "    <tr>\n",
       "      <th>2</th>\n",
       "      <td>good</td>\n",
       "      <td>24.637681</td>\n",
       "      <td>90.265487</td>\n",
       "    </tr>\n",
       "    <tr>\n",
       "      <th>3</th>\n",
       "      <td>verybad</td>\n",
       "      <td>1.680672</td>\n",
       "      <td>70.967742</td>\n",
       "    </tr>\n",
       "  </tbody>\n",
       "</table>\n",
       "</div>"
      ],
      "text/plain": [
       "     class        min        max\n",
       "0      bad  35.416667  86.000000\n",
       "1     best  44.954128  96.396396\n",
       "2     good  24.637681  90.265487\n",
       "3  verybad   1.680672  70.967742"
      ]
     },
     "execution_count": 41,
     "metadata": {},
     "output_type": "execute_result"
    }
   ],
   "source": [
    "merged.groupby(\"class\")['score'].describe().reset_index()[[\"class\",\"min\",\"max\"]]"
   ]
  },
  {
   "cell_type": "markdown",
   "id": "804715b0-ae24-4d7d-bc36-64e846859a96",
   "metadata": {},
   "source": [
    "<font color = 'red'> Mostrar para orientadora!"
   ]
  },
  {
   "cell_type": "code",
   "execution_count": 42,
   "id": "062b0bbc-0bee-4556-96c3-37d85fbc20ff",
   "metadata": {},
   "outputs": [
    {
     "data": {
      "text/plain": [
       "0.7"
      ]
     },
     "execution_count": 42,
     "metadata": {},
     "output_type": "execute_result"
    }
   ],
   "source": [
    "(7 + 7 )/20 "
   ]
  },
  {
   "cell_type": "code",
   "execution_count": 43,
   "id": "d807fee7-b21c-4eab-9a83-0abb6a29be07",
   "metadata": {},
   "outputs": [
    {
     "data": {
      "text/plain": [
       "0.35"
      ]
     },
     "execution_count": 43,
     "metadata": {},
     "output_type": "execute_result"
    }
   ],
   "source": [
    "(7 + 0 )/20 "
   ]
  },
  {
   "cell_type": "markdown",
   "id": "58d36970-e08c-4676-a9b3-bc91240687ab",
   "metadata": {},
   "source": [
    " (score_rmsd * 1 + score_match * 1  )/20"
   ]
  },
  {
   "cell_type": "markdown",
   "id": "c69c379c-a3c6-4c05-a118-92b994f2633e",
   "metadata": {},
   "source": [
    "| score | rmsd |\n",
    "|-------|------|\n",
    "| rmsd < 2 | -10 |\n",
    "| 2 < rmsd < 3 | -7 |\n",
    "| rmsd > 3 | 0 |\n",
    "\n",
    "| score | match |\n",
    "|-------|-------|\n",
    "| 79 | -10 |\n",
    "| 70 | -7 |\n",
    "| 66 | 0 |\n",
    "| 42 | 0 |\n"
   ]
  },
  {
   "cell_type": "code",
   "execution_count": null,
   "id": "65fad072-b11d-482c-8a31-f9fce611410f",
   "metadata": {},
   "outputs": [],
   "source": []
  },
  {
   "cell_type": "code",
   "execution_count": null,
   "id": "ab2563f5-b62a-4789-a755-e6e3fa02f9e1",
   "metadata": {},
   "outputs": [],
   "source": []
  }
 ],
 "metadata": {
  "kernelspec": {
   "display_name": "master_37",
   "language": "python",
   "name": "master_37"
  },
  "language_info": {
   "codemirror_mode": {
    "name": "ipython",
    "version": 3
   },
   "file_extension": ".py",
   "mimetype": "text/x-python",
   "name": "python",
   "nbconvert_exporter": "python",
   "pygments_lexer": "ipython3",
   "version": "3.7.16"
  }
 },
 "nbformat": 4,
 "nbformat_minor": 5
}
