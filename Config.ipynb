{
 "cells": [
  {
   "cell_type": "code",
   "execution_count": 1,
   "id": "40b5c5c9-11dd-4580-b60b-8c67346c0752",
   "metadata": {},
   "outputs": [],
   "source": [
    "class Config():\n",
    "    def __init__(self):\n",
    "        self.root = './'\n",
    "        self.project_name = 'master'\n",
    "        if not os.path.exists(f'{self.root}/{self.project_name}'):\n",
    "            os.makedirs(f'{self.root}/{self.project_name}')\n",
    "        \n",
    "        self.device = torch.device(\"cuda:0\") if torch.cuda.is_available() else torch.device('cpu')\n",
    "        self.create_dataset = False\n",
    "        self.processed_dir = f\"{self.root}/{self.project_name}/processed_dir\"\n",
    "        \n",
    "        if not os.path.exists( f\"{self.root}/{self.project_name}/processed_dir\"):\n",
    "            os.makedirs( f\"{self.root}/{self.project_name}/processed_dir\")\n",
    "        \n",
    "        self.coreset = f\"{self.root}/Run/coreset\"\n",
    "        self.data = f\"{self.root}/{self.project_name}/Data\"\n",
    "        \n",
    "        if not os.path.exists(f\"{self.data}\"):\n",
    "            os.makedirs(f\"{self.data}\")\n",
    "        \n",
    "        self.model_args = {   'seed':42,\n",
    "                              'savepath':f'{self.root}/{self.project_name}/',\n",
    "                              'batch_size':1,\n",
    "                              'epochs':50,\n",
    "                              'nfolds':5,\n",
    "                              'patience':100,\n",
    "                               \"lr\":0.01,\n",
    "                               \"gmp\": 50,\n",
    "                          }\n",
    "        self.label_args = {'class_def':\"rmsd\",\n",
    "                          }\n",
    "        self.node_descriptors = [     \"Mass\"\n",
    "                                    , \"Charge\"\n",
    "                                    , \"Element_Name\"\n",
    "                                    , \"Hybridization\"\n",
    "                                    , \"Num_Hydrogens\"\n",
    "                                    , \"Formal_Charge\"\n",
    "                                    , \"Unpaired_Electron\"\n",
    "                                    , \"In_Aromatic_Substructure\"]\n",
    "        \n",
    "        self.docking_params = {'exhaustiveness':1000,\n",
    "                               'buffer_size' : 10,\n",
    "                               'nposes': 10}\n",
    "        self.softwares = \"/Softwares\"\n",
    "        self.executables = {'vina':f\"{self.softwares}/vina_1.2.5_linux_x86_64\"\n",
    "                              }\n",
    "        self.pdb_list = list(pd.read_csv(\"Data/list_pdbs_to_dock_219.csv\")['0'])"
   ]
  },
  {
   "cell_type": "code",
   "execution_count": 2,
   "id": "2cdf7c43-da68-410c-b36d-2a92fef0b240",
   "metadata": {},
   "outputs": [],
   "source": [
    "#'buffer_size' : 5 # original"
   ]
  }
 ],
 "metadata": {
  "kernelspec": {
   "display_name": "master_37",
   "language": "python",
   "name": "master_37"
  },
  "language_info": {
   "codemirror_mode": {
    "name": "ipython",
    "version": 3
   },
   "file_extension": ".py",
   "mimetype": "text/x-python",
   "name": "python",
   "nbconvert_exporter": "python",
   "pygments_lexer": "ipython3",
   "version": "3.7.16"
  }
 },
 "nbformat": 4,
 "nbformat_minor": 5
}
